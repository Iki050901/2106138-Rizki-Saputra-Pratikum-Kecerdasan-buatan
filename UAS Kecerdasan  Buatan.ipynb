{
  "cells": [
    {
      "cell_type": "markdown",
      "metadata": {
        "id": "view-in-github",
        "colab_type": "text"
      },
      "source": [
        "<a href=\"https://colab.research.google.com/github/Iki050901/2106138-Rizki-Saputra-Pratikum-Kecerdasan-buatan/blob/master/UAS%20Kecerdasan%20%20Buatan.ipynb\" target=\"_parent\"><img src=\"https://colab.research.google.com/assets/colab-badge.svg\" alt=\"Open In Colab\"/></a>"
      ]
    },
    {
      "cell_type": "markdown",
      "metadata": {
        "id": "BvgiLjl7yq5g"
      },
      "source": [
        "# **# TUGAS BESAR PRATIKUM KECERDASAN BUATAN**\n",
        "\n",
        "# \"Melakukan Prediksi denga menggunakan model LSTM\"\n",
        "\n",
        "dibuat oleh :\n",
        "\n",
        "*   Ajeng Cita IndahSari (2106073)\n",
        "*   Rizki Saputra (2106138)\n",
        "\n",
        "Model LSTM (Long Short Term Memory) merupakan Deep Neural Network yang mampu melakukan prediksi pergerakan saham ataupun jenis prediksi lainnya.\n",
        "\n"
      ]
    },
    {
      "cell_type": "markdown",
      "metadata": {
        "id": "Mc9oYko6ROrB"
      },
      "source": []
    },
    {
      "cell_type": "markdown",
      "metadata": {
        "id": "_grl74fp05X8"
      },
      "source": [
        "# Membersihkan Data dan melakukan Pre-Processing\n",
        "\n",
        "## Libarry yang digunakan\n",
        "\n",
        "\n",
        "Tahap awal adalah mendownload library yang akan digunakan. Di bawah ini adalah library - library yang akan digunakan dalam penelitian ini"
      ]
    },
    {
      "cell_type": "code",
      "execution_count": 1,
      "metadata": {
        "colab": {
          "base_uri": "https://localhost:8080/"
        },
        "id": "O6BoE8zDQPek",
        "outputId": "d254f5f3-a4ff-4146-f521-64e1aec61aef"
      },
      "outputs": [
        {
          "output_type": "stream",
          "name": "stdout",
          "text": [
            "Looking in indexes: https://pypi.org/simple, https://us-python.pkg.dev/colab-wheels/public/simple/\n",
            "Requirement already satisfied: tqdm in /usr/local/lib/python3.10/dist-packages (4.65.0)\n"
          ]
        }
      ],
      "source": [
        "pip install tqdm --upgrade"
      ]
    },
    {
      "cell_type": "code",
      "execution_count": 2,
      "metadata": {
        "colab": {
          "base_uri": "https://localhost:8080/"
        },
        "id": "t5UGkBS4QVXN",
        "outputId": "af13f906-7607-4660-9c33-b7bfde4eb03e"
      },
      "outputs": [
        {
          "output_type": "stream",
          "name": "stderr",
          "text": [
            "<ipython-input-2-33927f04877d>:31: TqdmDeprecationWarning: This function will be removed in tqdm==5.0.0\n",
            "Please use `tqdm.notebook.*` instead of `tqdm._tqdm_notebook.*`\n",
            "  from tqdm._tqdm_notebook import tqdm_notebook\n"
          ]
        }
      ],
      "source": [
        "# Numpy untuk formatting number atau array\n",
        "import numpy as np\n",
        "\n",
        "# Pandas untuk membuat DataFrame dan membaca dokumen csv\n",
        "import pandas as pd\n",
        "\n",
        "# Tensorflow dan Keras sebagai Framework dan Backend\n",
        "import keras\n",
        "import tensorflow as tf\n",
        "from keras.models import Sequential, load_model\n",
        "from keras.layers import Dense, Dropout\n",
        "from keras.layers import LSTM\n",
        "from keras.callbacks import ModelCheckpoint, EarlyStopping, ReduceLROnPlateau, CSVLogger\n",
        "from keras import optimizers\n",
        "\n",
        "# Sklearn sebagai komponen machine learning, untuk normalisasi, membagi dataset dan menghitung nilai error\n",
        "from sklearn.preprocessing import MinMaxScaler\n",
        "from sklearn.model_selection import train_test_split\n",
        "from sklearn.metrics import mean_squared_error\n",
        "\n",
        "# Logging untuk mencatat tiap aktivitas yang dilakukan sistem\n",
        "import logging\n",
        "\n",
        "# Pickle untuk mengambil model jika sudah dibuat sebelumnya\n",
        "import pickle\n",
        "\n",
        "# OS untuk operation system, sys untuk system, time untuk waktu, tqdm notebook untuk notebook jika dibuat selain google colab\n",
        "import os\n",
        "import sys\n",
        "import time\n",
        "from tqdm._tqdm_notebook import tqdm_notebook"
      ]
    },
    {
      "cell_type": "markdown",
      "metadata": {
        "id": "svxfKS3F3onx"
      },
      "source": [
        "# Mengatur zona waktu dan logging\n",
        "Zona waktu digunakan untuk mengetahui seberapa lama sistem akan melatih data, dan logging digunakan untuk mencatat segala aktivitas yang dilakukan"
      ]
    },
    {
      "cell_type": "code",
      "execution_count": 3,
      "metadata": {
        "id": "VgN-7vXBSYOB"
      },
      "outputs": [],
      "source": [
        "os.environ['TF_CPP_MIN_LOG_LEVEL'] = '2'\n",
        "logging.getLogger(\"tensorflow\").setLevel(logging.ERROR)\n",
        "os.environ['TZ'] = 'Asia/Kolkata'\n",
        "time.tzset()"
      ]
    },
    {
      "cell_type": "code",
      "execution_count": 4,
      "metadata": {
        "colab": {
          "base_uri": "https://localhost:8080/"
        },
        "id": "ZDkl0lneSb5N",
        "outputId": "823959c3-6cc0-4c2f-b542-23ca801e50fe"
      },
      "outputs": [
        {
          "output_type": "stream",
          "name": "stdout",
          "text": [
            "Penelitian ini menggunakan Framework Keras versi 2.12.0 dan Backend Tensorflow versi 2.12.0\n"
          ]
        }
      ],
      "source": [
        "print(\"Penelitian ini menggunakan Framework Keras versi \" + keras.__version__ + \" dan Backend Tensorflow versi \" + tf.__version__)"
      ]
    },
    {
      "cell_type": "markdown",
      "metadata": {
        "id": "sSNLKoNn3vqQ"
      },
      "source": [
        "# Membaca dataset dan membagi dataset\n",
        "Dataset yang digunakan berupa Historical Data Price PT Adaro Energy Tbk sejak 2008 sampai 3 januari 2020"
      ]
    },
    {
      "cell_type": "code",
      "execution_count": 5,
      "metadata": {
        "id": "5CP4eQ0MTA02",
        "colab": {
          "base_uri": "https://localhost:8080/"
        },
        "outputId": "38f6178e-62cd-4ef4-9bcb-364fce89d8f5"
      },
      "outputs": [
        {
          "output_type": "stream",
          "name": "stdout",
          "text": [
            "Mounted at /content/drive\n"
          ]
        }
      ],
      "source": [
        "from google.colab import drive\n",
        "drive.mount('/content/drive')"
      ]
    },
    {
      "cell_type": "code",
      "execution_count": 6,
      "metadata": {
        "id": "jAEVugo7TdGv"
      },
      "outputs": [],
      "source": [
        "params = {\n",
        "    \"batch_size\": 20,\n",
        "    \"epochs\": 200,\n",
        "    \"lr\": 0.0001,\n",
        "    \"time_steps\": 50\n",
        "}\n",
        "iter_changes = \"dropout_layers_0.4_0.4\""
      ]
    },
    {
      "cell_type": "code",
      "execution_count": 7,
      "metadata": {
        "id": "C5eVlJKfTifn"
      },
      "outputs": [],
      "source": [
        "INPUT_PATH = \"/content/drive/My Drive/TA_LSTM\"+\"/inputs\"\n",
        "OUTPUT_PATH = \"/content/drive/My Drive/TA_LSTM/outputs/lstm_best_11-1-20_2PM/\"+\"iter_changes\"\n",
        "TIME_STEPS = params[\"time_steps\"]\n",
        "BATCH_SIZE = params[\"batch_size\"]\n",
        "stime = time.time()"
      ]
    },
    {
      "cell_type": "code",
      "execution_count": 8,
      "metadata": {
        "id": "ELWuKZgpTklQ",
        "colab": {
          "base_uri": "https://localhost:8080/"
        },
        "outputId": "55d97446-e982-4298-d530-6671e10b488f"
      },
      "outputs": [
        {
          "output_type": "stream",
          "name": "stdout",
          "text": [
            "Direktori sudah dibuat sebelumnya\n"
          ]
        }
      ],
      "source": [
        "if not os.path.exists(OUTPUT_PATH):\n",
        "  os.makedirs(OUTPUT_PATH)\n",
        "  print(\"Direktori output dibuat di \", OUTPUT_PATH)\n",
        "else:\n",
        "  print(\"Direktori sudah dibuat sebelumnya\")"
      ]
    },
    {
      "cell_type": "code",
      "source": [
        "df = pd.read_csv(os.path.join(INPUT_PATH, \"ADRO.JK.csv\"), engine='python')\n",
        "df.head()\n",
        "display(df)"
      ],
      "metadata": {
        "colab": {
          "base_uri": "https://localhost:8080/",
          "height": 424
        },
        "id": "ZLMrHCJqvO0G",
        "outputId": "14bb64f5-ec70-45fc-9257-75a1c80cf84c"
      },
      "execution_count": 9,
      "outputs": [
        {
          "output_type": "display_data",
          "data": {
            "text/plain": [
              "            Date    Open    High     Low   Close    Adj Close       Volume\n",
              "0     2008-07-16  1500.0  1760.0  1500.0  1730.0  1188.156494  789786000.0\n",
              "1     2008-07-17  1700.0  1760.0  1700.0  1700.0  1167.552612  383602500.0\n",
              "2     2008-07-18  1640.0  1700.0  1640.0  1640.0  1126.344727   95396000.0\n",
              "3     2008-07-21  1680.0  1690.0  1640.0  1680.0  1153.816650   49749000.0\n",
              "4     2008-07-22  1670.0  1690.0  1660.0  1670.0  1146.948975   29585500.0\n",
              "...          ...     ...     ...     ...     ...          ...          ...\n",
              "2840  2019-12-23  1540.0  1590.0  1540.0  1580.0  1579.994995   51031300.0\n",
              "2841  2019-12-26  1590.0  1620.0  1570.0  1585.0  1584.994995   41404600.0\n",
              "2842  2019-12-27  1590.0  1610.0  1575.0  1580.0  1579.994995   31331800.0\n",
              "2843  2019-12-30  1565.0  1590.0  1555.0  1555.0  1554.995117   49275500.0\n",
              "2844  2020-01-02  1555.0  1555.0  1490.0  1495.0  1494.995239   76612000.0\n",
              "\n",
              "[2845 rows x 7 columns]"
            ],
            "text/html": [
              "\n",
              "  <div id=\"df-fb41880d-02f3-4882-bd4d-dce6a0424be9\">\n",
              "    <div class=\"colab-df-container\">\n",
              "      <div>\n",
              "<style scoped>\n",
              "    .dataframe tbody tr th:only-of-type {\n",
              "        vertical-align: middle;\n",
              "    }\n",
              "\n",
              "    .dataframe tbody tr th {\n",
              "        vertical-align: top;\n",
              "    }\n",
              "\n",
              "    .dataframe thead th {\n",
              "        text-align: right;\n",
              "    }\n",
              "</style>\n",
              "<table border=\"1\" class=\"dataframe\">\n",
              "  <thead>\n",
              "    <tr style=\"text-align: right;\">\n",
              "      <th></th>\n",
              "      <th>Date</th>\n",
              "      <th>Open</th>\n",
              "      <th>High</th>\n",
              "      <th>Low</th>\n",
              "      <th>Close</th>\n",
              "      <th>Adj Close</th>\n",
              "      <th>Volume</th>\n",
              "    </tr>\n",
              "  </thead>\n",
              "  <tbody>\n",
              "    <tr>\n",
              "      <th>0</th>\n",
              "      <td>2008-07-16</td>\n",
              "      <td>1500.0</td>\n",
              "      <td>1760.0</td>\n",
              "      <td>1500.0</td>\n",
              "      <td>1730.0</td>\n",
              "      <td>1188.156494</td>\n",
              "      <td>789786000.0</td>\n",
              "    </tr>\n",
              "    <tr>\n",
              "      <th>1</th>\n",
              "      <td>2008-07-17</td>\n",
              "      <td>1700.0</td>\n",
              "      <td>1760.0</td>\n",
              "      <td>1700.0</td>\n",
              "      <td>1700.0</td>\n",
              "      <td>1167.552612</td>\n",
              "      <td>383602500.0</td>\n",
              "    </tr>\n",
              "    <tr>\n",
              "      <th>2</th>\n",
              "      <td>2008-07-18</td>\n",
              "      <td>1640.0</td>\n",
              "      <td>1700.0</td>\n",
              "      <td>1640.0</td>\n",
              "      <td>1640.0</td>\n",
              "      <td>1126.344727</td>\n",
              "      <td>95396000.0</td>\n",
              "    </tr>\n",
              "    <tr>\n",
              "      <th>3</th>\n",
              "      <td>2008-07-21</td>\n",
              "      <td>1680.0</td>\n",
              "      <td>1690.0</td>\n",
              "      <td>1640.0</td>\n",
              "      <td>1680.0</td>\n",
              "      <td>1153.816650</td>\n",
              "      <td>49749000.0</td>\n",
              "    </tr>\n",
              "    <tr>\n",
              "      <th>4</th>\n",
              "      <td>2008-07-22</td>\n",
              "      <td>1670.0</td>\n",
              "      <td>1690.0</td>\n",
              "      <td>1660.0</td>\n",
              "      <td>1670.0</td>\n",
              "      <td>1146.948975</td>\n",
              "      <td>29585500.0</td>\n",
              "    </tr>\n",
              "    <tr>\n",
              "      <th>...</th>\n",
              "      <td>...</td>\n",
              "      <td>...</td>\n",
              "      <td>...</td>\n",
              "      <td>...</td>\n",
              "      <td>...</td>\n",
              "      <td>...</td>\n",
              "      <td>...</td>\n",
              "    </tr>\n",
              "    <tr>\n",
              "      <th>2840</th>\n",
              "      <td>2019-12-23</td>\n",
              "      <td>1540.0</td>\n",
              "      <td>1590.0</td>\n",
              "      <td>1540.0</td>\n",
              "      <td>1580.0</td>\n",
              "      <td>1579.994995</td>\n",
              "      <td>51031300.0</td>\n",
              "    </tr>\n",
              "    <tr>\n",
              "      <th>2841</th>\n",
              "      <td>2019-12-26</td>\n",
              "      <td>1590.0</td>\n",
              "      <td>1620.0</td>\n",
              "      <td>1570.0</td>\n",
              "      <td>1585.0</td>\n",
              "      <td>1584.994995</td>\n",
              "      <td>41404600.0</td>\n",
              "    </tr>\n",
              "    <tr>\n",
              "      <th>2842</th>\n",
              "      <td>2019-12-27</td>\n",
              "      <td>1590.0</td>\n",
              "      <td>1610.0</td>\n",
              "      <td>1575.0</td>\n",
              "      <td>1580.0</td>\n",
              "      <td>1579.994995</td>\n",
              "      <td>31331800.0</td>\n",
              "    </tr>\n",
              "    <tr>\n",
              "      <th>2843</th>\n",
              "      <td>2019-12-30</td>\n",
              "      <td>1565.0</td>\n",
              "      <td>1590.0</td>\n",
              "      <td>1555.0</td>\n",
              "      <td>1555.0</td>\n",
              "      <td>1554.995117</td>\n",
              "      <td>49275500.0</td>\n",
              "    </tr>\n",
              "    <tr>\n",
              "      <th>2844</th>\n",
              "      <td>2020-01-02</td>\n",
              "      <td>1555.0</td>\n",
              "      <td>1555.0</td>\n",
              "      <td>1490.0</td>\n",
              "      <td>1495.0</td>\n",
              "      <td>1494.995239</td>\n",
              "      <td>76612000.0</td>\n",
              "    </tr>\n",
              "  </tbody>\n",
              "</table>\n",
              "<p>2845 rows × 7 columns</p>\n",
              "</div>\n",
              "      <button class=\"colab-df-convert\" onclick=\"convertToInteractive('df-fb41880d-02f3-4882-bd4d-dce6a0424be9')\"\n",
              "              title=\"Convert this dataframe to an interactive table.\"\n",
              "              style=\"display:none;\">\n",
              "        \n",
              "  <svg xmlns=\"http://www.w3.org/2000/svg\" height=\"24px\"viewBox=\"0 0 24 24\"\n",
              "       width=\"24px\">\n",
              "    <path d=\"M0 0h24v24H0V0z\" fill=\"none\"/>\n",
              "    <path d=\"M18.56 5.44l.94 2.06.94-2.06 2.06-.94-2.06-.94-.94-2.06-.94 2.06-2.06.94zm-11 1L8.5 8.5l.94-2.06 2.06-.94-2.06-.94L8.5 2.5l-.94 2.06-2.06.94zm10 10l.94 2.06.94-2.06 2.06-.94-2.06-.94-.94-2.06-.94 2.06-2.06.94z\"/><path d=\"M17.41 7.96l-1.37-1.37c-.4-.4-.92-.59-1.43-.59-.52 0-1.04.2-1.43.59L10.3 9.45l-7.72 7.72c-.78.78-.78 2.05 0 2.83L4 21.41c.39.39.9.59 1.41.59.51 0 1.02-.2 1.41-.59l7.78-7.78 2.81-2.81c.8-.78.8-2.07 0-2.86zM5.41 20L4 18.59l7.72-7.72 1.47 1.35L5.41 20z\"/>\n",
              "  </svg>\n",
              "      </button>\n",
              "      \n",
              "  <style>\n",
              "    .colab-df-container {\n",
              "      display:flex;\n",
              "      flex-wrap:wrap;\n",
              "      gap: 12px;\n",
              "    }\n",
              "\n",
              "    .colab-df-convert {\n",
              "      background-color: #E8F0FE;\n",
              "      border: none;\n",
              "      border-radius: 50%;\n",
              "      cursor: pointer;\n",
              "      display: none;\n",
              "      fill: #1967D2;\n",
              "      height: 32px;\n",
              "      padding: 0 0 0 0;\n",
              "      width: 32px;\n",
              "    }\n",
              "\n",
              "    .colab-df-convert:hover {\n",
              "      background-color: #E2EBFA;\n",
              "      box-shadow: 0px 1px 2px rgba(60, 64, 67, 0.3), 0px 1px 3px 1px rgba(60, 64, 67, 0.15);\n",
              "      fill: #174EA6;\n",
              "    }\n",
              "\n",
              "    [theme=dark] .colab-df-convert {\n",
              "      background-color: #3B4455;\n",
              "      fill: #D2E3FC;\n",
              "    }\n",
              "\n",
              "    [theme=dark] .colab-df-convert:hover {\n",
              "      background-color: #434B5C;\n",
              "      box-shadow: 0px 1px 3px 1px rgba(0, 0, 0, 0.15);\n",
              "      filter: drop-shadow(0px 1px 2px rgba(0, 0, 0, 0.3));\n",
              "      fill: #FFFFFF;\n",
              "    }\n",
              "  </style>\n",
              "\n",
              "      <script>\n",
              "        const buttonEl =\n",
              "          document.querySelector('#df-fb41880d-02f3-4882-bd4d-dce6a0424be9 button.colab-df-convert');\n",
              "        buttonEl.style.display =\n",
              "          google.colab.kernel.accessAllowed ? 'block' : 'none';\n",
              "\n",
              "        async function convertToInteractive(key) {\n",
              "          const element = document.querySelector('#df-fb41880d-02f3-4882-bd4d-dce6a0424be9');\n",
              "          const dataTable =\n",
              "            await google.colab.kernel.invokeFunction('convertToInteractive',\n",
              "                                                     [key], {});\n",
              "          if (!dataTable) return;\n",
              "\n",
              "          const docLinkHtml = 'Like what you see? Visit the ' +\n",
              "            '<a target=\"_blank\" href=https://colab.research.google.com/notebooks/data_table.ipynb>data table notebook</a>'\n",
              "            + ' to learn more about interactive tables.';\n",
              "          element.innerHTML = '';\n",
              "          dataTable['output_type'] = 'display_data';\n",
              "          await google.colab.output.renderOutput(dataTable, element);\n",
              "          const docLink = document.createElement('div');\n",
              "          docLink.innerHTML = docLinkHtml;\n",
              "          element.appendChild(docLink);\n",
              "        }\n",
              "      </script>\n",
              "    </div>\n",
              "  </div>\n",
              "  "
            ]
          },
          "metadata": {}
        }
      ]
    },
    {
      "cell_type": "code",
      "execution_count": 10,
      "metadata": {
        "id": "c_Up2DaITpt4",
        "colab": {
          "base_uri": "https://localhost:8080/",
          "height": 484
        },
        "outputId": "db7cb7df-0258-48a8-aa0b-4c7e6021f4ab"
      },
      "outputs": [
        {
          "output_type": "stream",
          "name": "stdout",
          "text": [
            "['.ipynb_checkpoints', 'ADRO.JK.csv', 'BBCA.JK.csv']\n",
            "(2827, 7)\n",
            "Index(['Date', 'Open', 'High', 'Low', 'Close', 'Adj Close', 'Volume'], dtype='object')\n"
          ]
        },
        {
          "output_type": "display_data",
          "data": {
            "text/plain": [
              "         Date    Open    High     Low   Close    Adj Close       Volume\n",
              "0  2008-07-16  1500.0  1760.0  1500.0  1730.0  1188.156494  789786000.0\n",
              "1  2008-07-17  1700.0  1760.0  1700.0  1700.0  1167.552612  383602500.0\n",
              "2  2008-07-18  1640.0  1700.0  1640.0  1640.0  1126.344727   95396000.0\n",
              "3  2008-07-21  1680.0  1690.0  1640.0  1680.0  1153.816650   49749000.0\n",
              "4  2008-07-22  1670.0  1690.0  1660.0  1670.0  1146.948975   29585500.0"
            ],
            "text/html": [
              "\n",
              "  <div id=\"df-429f38ad-1a03-4251-89f1-72e541ad18a5\">\n",
              "    <div class=\"colab-df-container\">\n",
              "      <div>\n",
              "<style scoped>\n",
              "    .dataframe tbody tr th:only-of-type {\n",
              "        vertical-align: middle;\n",
              "    }\n",
              "\n",
              "    .dataframe tbody tr th {\n",
              "        vertical-align: top;\n",
              "    }\n",
              "\n",
              "    .dataframe thead th {\n",
              "        text-align: right;\n",
              "    }\n",
              "</style>\n",
              "<table border=\"1\" class=\"dataframe\">\n",
              "  <thead>\n",
              "    <tr style=\"text-align: right;\">\n",
              "      <th></th>\n",
              "      <th>Date</th>\n",
              "      <th>Open</th>\n",
              "      <th>High</th>\n",
              "      <th>Low</th>\n",
              "      <th>Close</th>\n",
              "      <th>Adj Close</th>\n",
              "      <th>Volume</th>\n",
              "    </tr>\n",
              "  </thead>\n",
              "  <tbody>\n",
              "    <tr>\n",
              "      <th>0</th>\n",
              "      <td>2008-07-16</td>\n",
              "      <td>1500.0</td>\n",
              "      <td>1760.0</td>\n",
              "      <td>1500.0</td>\n",
              "      <td>1730.0</td>\n",
              "      <td>1188.156494</td>\n",
              "      <td>789786000.0</td>\n",
              "    </tr>\n",
              "    <tr>\n",
              "      <th>1</th>\n",
              "      <td>2008-07-17</td>\n",
              "      <td>1700.0</td>\n",
              "      <td>1760.0</td>\n",
              "      <td>1700.0</td>\n",
              "      <td>1700.0</td>\n",
              "      <td>1167.552612</td>\n",
              "      <td>383602500.0</td>\n",
              "    </tr>\n",
              "    <tr>\n",
              "      <th>2</th>\n",
              "      <td>2008-07-18</td>\n",
              "      <td>1640.0</td>\n",
              "      <td>1700.0</td>\n",
              "      <td>1640.0</td>\n",
              "      <td>1640.0</td>\n",
              "      <td>1126.344727</td>\n",
              "      <td>95396000.0</td>\n",
              "    </tr>\n",
              "    <tr>\n",
              "      <th>3</th>\n",
              "      <td>2008-07-21</td>\n",
              "      <td>1680.0</td>\n",
              "      <td>1690.0</td>\n",
              "      <td>1640.0</td>\n",
              "      <td>1680.0</td>\n",
              "      <td>1153.816650</td>\n",
              "      <td>49749000.0</td>\n",
              "    </tr>\n",
              "    <tr>\n",
              "      <th>4</th>\n",
              "      <td>2008-07-22</td>\n",
              "      <td>1670.0</td>\n",
              "      <td>1690.0</td>\n",
              "      <td>1660.0</td>\n",
              "      <td>1670.0</td>\n",
              "      <td>1146.948975</td>\n",
              "      <td>29585500.0</td>\n",
              "    </tr>\n",
              "  </tbody>\n",
              "</table>\n",
              "</div>\n",
              "      <button class=\"colab-df-convert\" onclick=\"convertToInteractive('df-429f38ad-1a03-4251-89f1-72e541ad18a5')\"\n",
              "              title=\"Convert this dataframe to an interactive table.\"\n",
              "              style=\"display:none;\">\n",
              "        \n",
              "  <svg xmlns=\"http://www.w3.org/2000/svg\" height=\"24px\"viewBox=\"0 0 24 24\"\n",
              "       width=\"24px\">\n",
              "    <path d=\"M0 0h24v24H0V0z\" fill=\"none\"/>\n",
              "    <path d=\"M18.56 5.44l.94 2.06.94-2.06 2.06-.94-2.06-.94-.94-2.06-.94 2.06-2.06.94zm-11 1L8.5 8.5l.94-2.06 2.06-.94-2.06-.94L8.5 2.5l-.94 2.06-2.06.94zm10 10l.94 2.06.94-2.06 2.06-.94-2.06-.94-.94-2.06-.94 2.06-2.06.94z\"/><path d=\"M17.41 7.96l-1.37-1.37c-.4-.4-.92-.59-1.43-.59-.52 0-1.04.2-1.43.59L10.3 9.45l-7.72 7.72c-.78.78-.78 2.05 0 2.83L4 21.41c.39.39.9.59 1.41.59.51 0 1.02-.2 1.41-.59l7.78-7.78 2.81-2.81c.8-.78.8-2.07 0-2.86zM5.41 20L4 18.59l7.72-7.72 1.47 1.35L5.41 20z\"/>\n",
              "  </svg>\n",
              "      </button>\n",
              "      \n",
              "  <style>\n",
              "    .colab-df-container {\n",
              "      display:flex;\n",
              "      flex-wrap:wrap;\n",
              "      gap: 12px;\n",
              "    }\n",
              "\n",
              "    .colab-df-convert {\n",
              "      background-color: #E8F0FE;\n",
              "      border: none;\n",
              "      border-radius: 50%;\n",
              "      cursor: pointer;\n",
              "      display: none;\n",
              "      fill: #1967D2;\n",
              "      height: 32px;\n",
              "      padding: 0 0 0 0;\n",
              "      width: 32px;\n",
              "    }\n",
              "\n",
              "    .colab-df-convert:hover {\n",
              "      background-color: #E2EBFA;\n",
              "      box-shadow: 0px 1px 2px rgba(60, 64, 67, 0.3), 0px 1px 3px 1px rgba(60, 64, 67, 0.15);\n",
              "      fill: #174EA6;\n",
              "    }\n",
              "\n",
              "    [theme=dark] .colab-df-convert {\n",
              "      background-color: #3B4455;\n",
              "      fill: #D2E3FC;\n",
              "    }\n",
              "\n",
              "    [theme=dark] .colab-df-convert:hover {\n",
              "      background-color: #434B5C;\n",
              "      box-shadow: 0px 1px 3px 1px rgba(0, 0, 0, 0.15);\n",
              "      filter: drop-shadow(0px 1px 2px rgba(0, 0, 0, 0.3));\n",
              "      fill: #FFFFFF;\n",
              "    }\n",
              "  </style>\n",
              "\n",
              "      <script>\n",
              "        const buttonEl =\n",
              "          document.querySelector('#df-429f38ad-1a03-4251-89f1-72e541ad18a5 button.colab-df-convert');\n",
              "        buttonEl.style.display =\n",
              "          google.colab.kernel.accessAllowed ? 'block' : 'none';\n",
              "\n",
              "        async function convertToInteractive(key) {\n",
              "          const element = document.querySelector('#df-429f38ad-1a03-4251-89f1-72e541ad18a5');\n",
              "          const dataTable =\n",
              "            await google.colab.kernel.invokeFunction('convertToInteractive',\n",
              "                                                     [key], {});\n",
              "          if (!dataTable) return;\n",
              "\n",
              "          const docLinkHtml = 'Like what you see? Visit the ' +\n",
              "            '<a target=\"_blank\" href=https://colab.research.google.com/notebooks/data_table.ipynb>data table notebook</a>'\n",
              "            + ' to learn more about interactive tables.';\n",
              "          element.innerHTML = '';\n",
              "          dataTable['output_type'] = 'display_data';\n",
              "          await google.colab.output.renderOutput(dataTable, element);\n",
              "          const docLink = document.createElement('div');\n",
              "          docLink.innerHTML = docLinkHtml;\n",
              "          element.appendChild(docLink);\n",
              "        }\n",
              "      </script>\n",
              "    </div>\n",
              "  </div>\n",
              "  "
            ]
          },
          "metadata": {}
        },
        {
          "output_type": "stream",
          "name": "stdout",
          "text": [
            "\n",
            " Tipe data pada Fitur yang digunakan :\n",
            "Date          object\n",
            "Open         float64\n",
            "High         float64\n",
            "Low          float64\n",
            "Close        float64\n",
            "Adj Close    float64\n",
            "Volume       float64\n",
            "dtype: object\n",
            "\n",
            "Banyaknya Data Latih :  2261\n",
            "Banyaknya Data Uji :  566\n"
          ]
        }
      ],
      "source": [
        "stime = time.time()\n",
        "print(os.listdir(INPUT_PATH))\n",
        "\n",
        "# Membaca Dataset\n",
        "df = pd.read_csv(os.path.join(INPUT_PATH, \"ADRO.JK.csv\"), engine='python')\n",
        "df = df.dropna()\n",
        "df = df.reset_index(drop=True)\n",
        "print(df.shape)\n",
        "print(df.columns)\n",
        "display(df.head(5))\n",
        "\n",
        "# Menampilkan Feature dan Tipe Data yang digunakan\n",
        "print(\"\\n Tipe data pada Fitur yang digunakan :\")\n",
        "print(df.dtypes)\n",
        "\n",
        "# Mendefinisikan variable baru untuk menampung Feature\n",
        "train_cols = [\"Open\",\"High\",\"Low\",\"Close\",\"Volume\"]\n",
        "\n",
        "# Membagi dataset menjadi 80% untuk Data Latih dan 20% untuk Data Uji\n",
        "df_train, df_test = train_test_split(df, train_size=0.8, test_size=0.2, shuffle=False)\n",
        "print(\"\\nBanyaknya Data Latih : \", len(df_train))\n",
        "print(\"Banyaknya Data Uji : \", len(df_test))"
      ]
    },
    {
      "cell_type": "code",
      "execution_count": 11,
      "metadata": {
        "id": "G-gl2aaEWy7S",
        "colab": {
          "base_uri": "https://localhost:8080/",
          "height": 258
        },
        "outputId": "48074439-dba2-4342-e5fd-8db95808945a"
      },
      "outputs": [
        {
          "output_type": "stream",
          "name": "stdout",
          "text": [
            "\n",
            "Banyaknya Data Latih :  1131\n",
            "Banyaknya Data Uji :  283\n"
          ]
        },
        {
          "output_type": "execute_result",
          "data": {
            "text/plain": [
              "            Date    Open    High     Low   Close    Adj Close       Volume\n",
              "2818  2019-12-17  1660.0  1665.0  1525.0  1655.0  1654.994751  152206000.0\n",
              "2820  2019-12-19  1610.0  1625.0  1545.0  1595.0  1594.994995   75920100.0\n",
              "2822  2019-12-23  1540.0  1590.0  1540.0  1580.0  1579.994995   51031300.0\n",
              "2824  2019-12-27  1590.0  1610.0  1575.0  1580.0  1579.994995   31331800.0\n",
              "2826  2020-01-02  1555.0  1555.0  1490.0  1495.0  1494.995239   76612000.0"
            ],
            "text/html": [
              "\n",
              "  <div id=\"df-e5827adc-f657-4732-af89-eb4c71df0d09\">\n",
              "    <div class=\"colab-df-container\">\n",
              "      <div>\n",
              "<style scoped>\n",
              "    .dataframe tbody tr th:only-of-type {\n",
              "        vertical-align: middle;\n",
              "    }\n",
              "\n",
              "    .dataframe tbody tr th {\n",
              "        vertical-align: top;\n",
              "    }\n",
              "\n",
              "    .dataframe thead th {\n",
              "        text-align: right;\n",
              "    }\n",
              "</style>\n",
              "<table border=\"1\" class=\"dataframe\">\n",
              "  <thead>\n",
              "    <tr style=\"text-align: right;\">\n",
              "      <th></th>\n",
              "      <th>Date</th>\n",
              "      <th>Open</th>\n",
              "      <th>High</th>\n",
              "      <th>Low</th>\n",
              "      <th>Close</th>\n",
              "      <th>Adj Close</th>\n",
              "      <th>Volume</th>\n",
              "    </tr>\n",
              "  </thead>\n",
              "  <tbody>\n",
              "    <tr>\n",
              "      <th>2818</th>\n",
              "      <td>2019-12-17</td>\n",
              "      <td>1660.0</td>\n",
              "      <td>1665.0</td>\n",
              "      <td>1525.0</td>\n",
              "      <td>1655.0</td>\n",
              "      <td>1654.994751</td>\n",
              "      <td>152206000.0</td>\n",
              "    </tr>\n",
              "    <tr>\n",
              "      <th>2820</th>\n",
              "      <td>2019-12-19</td>\n",
              "      <td>1610.0</td>\n",
              "      <td>1625.0</td>\n",
              "      <td>1545.0</td>\n",
              "      <td>1595.0</td>\n",
              "      <td>1594.994995</td>\n",
              "      <td>75920100.0</td>\n",
              "    </tr>\n",
              "    <tr>\n",
              "      <th>2822</th>\n",
              "      <td>2019-12-23</td>\n",
              "      <td>1540.0</td>\n",
              "      <td>1590.0</td>\n",
              "      <td>1540.0</td>\n",
              "      <td>1580.0</td>\n",
              "      <td>1579.994995</td>\n",
              "      <td>51031300.0</td>\n",
              "    </tr>\n",
              "    <tr>\n",
              "      <th>2824</th>\n",
              "      <td>2019-12-27</td>\n",
              "      <td>1590.0</td>\n",
              "      <td>1610.0</td>\n",
              "      <td>1575.0</td>\n",
              "      <td>1580.0</td>\n",
              "      <td>1579.994995</td>\n",
              "      <td>31331800.0</td>\n",
              "    </tr>\n",
              "    <tr>\n",
              "      <th>2826</th>\n",
              "      <td>2020-01-02</td>\n",
              "      <td>1555.0</td>\n",
              "      <td>1555.0</td>\n",
              "      <td>1490.0</td>\n",
              "      <td>1495.0</td>\n",
              "      <td>1494.995239</td>\n",
              "      <td>76612000.0</td>\n",
              "    </tr>\n",
              "  </tbody>\n",
              "</table>\n",
              "</div>\n",
              "      <button class=\"colab-df-convert\" onclick=\"convertToInteractive('df-e5827adc-f657-4732-af89-eb4c71df0d09')\"\n",
              "              title=\"Convert this dataframe to an interactive table.\"\n",
              "              style=\"display:none;\">\n",
              "        \n",
              "  <svg xmlns=\"http://www.w3.org/2000/svg\" height=\"24px\"viewBox=\"0 0 24 24\"\n",
              "       width=\"24px\">\n",
              "    <path d=\"M0 0h24v24H0V0z\" fill=\"none\"/>\n",
              "    <path d=\"M18.56 5.44l.94 2.06.94-2.06 2.06-.94-2.06-.94-.94-2.06-.94 2.06-2.06.94zm-11 1L8.5 8.5l.94-2.06 2.06-.94-2.06-.94L8.5 2.5l-.94 2.06-2.06.94zm10 10l.94 2.06.94-2.06 2.06-.94-2.06-.94-.94-2.06-.94 2.06-2.06.94z\"/><path d=\"M17.41 7.96l-1.37-1.37c-.4-.4-.92-.59-1.43-.59-.52 0-1.04.2-1.43.59L10.3 9.45l-7.72 7.72c-.78.78-.78 2.05 0 2.83L4 21.41c.39.39.9.59 1.41.59.51 0 1.02-.2 1.41-.59l7.78-7.78 2.81-2.81c.8-.78.8-2.07 0-2.86zM5.41 20L4 18.59l7.72-7.72 1.47 1.35L5.41 20z\"/>\n",
              "  </svg>\n",
              "      </button>\n",
              "      \n",
              "  <style>\n",
              "    .colab-df-container {\n",
              "      display:flex;\n",
              "      flex-wrap:wrap;\n",
              "      gap: 12px;\n",
              "    }\n",
              "\n",
              "    .colab-df-convert {\n",
              "      background-color: #E8F0FE;\n",
              "      border: none;\n",
              "      border-radius: 50%;\n",
              "      cursor: pointer;\n",
              "      display: none;\n",
              "      fill: #1967D2;\n",
              "      height: 32px;\n",
              "      padding: 0 0 0 0;\n",
              "      width: 32px;\n",
              "    }\n",
              "\n",
              "    .colab-df-convert:hover {\n",
              "      background-color: #E2EBFA;\n",
              "      box-shadow: 0px 1px 2px rgba(60, 64, 67, 0.3), 0px 1px 3px 1px rgba(60, 64, 67, 0.15);\n",
              "      fill: #174EA6;\n",
              "    }\n",
              "\n",
              "    [theme=dark] .colab-df-convert {\n",
              "      background-color: #3B4455;\n",
              "      fill: #D2E3FC;\n",
              "    }\n",
              "\n",
              "    [theme=dark] .colab-df-convert:hover {\n",
              "      background-color: #434B5C;\n",
              "      box-shadow: 0px 1px 3px 1px rgba(0, 0, 0, 0.15);\n",
              "      filter: drop-shadow(0px 1px 2px rgba(0, 0, 0, 0.3));\n",
              "      fill: #FFFFFF;\n",
              "    }\n",
              "  </style>\n",
              "\n",
              "      <script>\n",
              "        const buttonEl =\n",
              "          document.querySelector('#df-e5827adc-f657-4732-af89-eb4c71df0d09 button.colab-df-convert');\n",
              "        buttonEl.style.display =\n",
              "          google.colab.kernel.accessAllowed ? 'block' : 'none';\n",
              "\n",
              "        async function convertToInteractive(key) {\n",
              "          const element = document.querySelector('#df-e5827adc-f657-4732-af89-eb4c71df0d09');\n",
              "          const dataTable =\n",
              "            await google.colab.kernel.invokeFunction('convertToInteractive',\n",
              "                                                     [key], {});\n",
              "          if (!dataTable) return;\n",
              "\n",
              "          const docLinkHtml = 'Like what you see? Visit the ' +\n",
              "            '<a target=\"_blank\" href=https://colab.research.google.com/notebooks/data_table.ipynb>data table notebook</a>'\n",
              "            + ' to learn more about interactive tables.';\n",
              "          element.innerHTML = '';\n",
              "          dataTable['output_type'] = 'display_data';\n",
              "          await google.colab.output.renderOutput(dataTable, element);\n",
              "          const docLink = document.createElement('div');\n",
              "          docLink.innerHTML = docLinkHtml;\n",
              "          element.appendChild(docLink);\n",
              "        }\n",
              "      </script>\n",
              "    </div>\n",
              "  </div>\n",
              "  "
            ]
          },
          "metadata": {},
          "execution_count": 11
        }
      ],
      "source": [
        "# Split skip 2 hari untuk prediksi tanggal 4, dimulai dari tanggal 2 januari, 27 desember dll\n",
        "df2 = df.iloc[::2]\n",
        "df2_train, df2_test = train_test_split(df2, train_size=0.8, test_size=0.2, shuffle=False)\n",
        "print(\"\\nBanyaknya Data Latih : \", len(df2_train))\n",
        "print(\"Banyaknya Data Uji : \", len(df2_test))\n",
        "df2.tail()"
      ]
    },
    {
      "cell_type": "code",
      "execution_count": 12,
      "metadata": {
        "colab": {
          "base_uri": "https://localhost:8080/",
          "height": 258
        },
        "id": "lgkeHsvFW8qO",
        "outputId": "7af7c758-37a1-4835-8a32-069941d5ee27"
      },
      "outputs": [
        {
          "output_type": "stream",
          "name": "stdout",
          "text": [
            "\n",
            "Banyaknya Data Latih :  1130\n",
            "Banyaknya Data Uji :  283\n"
          ]
        },
        {
          "output_type": "execute_result",
          "data": {
            "text/plain": [
              "            Date    Open    High     Low   Close    Adj Close       Volume\n",
              "2817  2019-12-16  1595.0  1715.0  1590.0  1640.0  1639.994873  143379600.0\n",
              "2819  2019-12-18  1655.0  1655.0  1595.0  1610.0  1609.994873   68583400.0\n",
              "2821  2019-12-20  1605.0  1605.0  1505.0  1540.0  1539.995117   88766700.0\n",
              "2823  2019-12-26  1590.0  1620.0  1570.0  1585.0  1584.994995   41404600.0\n",
              "2825  2019-12-30  1565.0  1590.0  1555.0  1555.0  1554.995117   49275500.0"
            ],
            "text/html": [
              "\n",
              "  <div id=\"df-8d26d261-e8b1-42dd-9afd-262333221df0\">\n",
              "    <div class=\"colab-df-container\">\n",
              "      <div>\n",
              "<style scoped>\n",
              "    .dataframe tbody tr th:only-of-type {\n",
              "        vertical-align: middle;\n",
              "    }\n",
              "\n",
              "    .dataframe tbody tr th {\n",
              "        vertical-align: top;\n",
              "    }\n",
              "\n",
              "    .dataframe thead th {\n",
              "        text-align: right;\n",
              "    }\n",
              "</style>\n",
              "<table border=\"1\" class=\"dataframe\">\n",
              "  <thead>\n",
              "    <tr style=\"text-align: right;\">\n",
              "      <th></th>\n",
              "      <th>Date</th>\n",
              "      <th>Open</th>\n",
              "      <th>High</th>\n",
              "      <th>Low</th>\n",
              "      <th>Close</th>\n",
              "      <th>Adj Close</th>\n",
              "      <th>Volume</th>\n",
              "    </tr>\n",
              "  </thead>\n",
              "  <tbody>\n",
              "    <tr>\n",
              "      <th>2817</th>\n",
              "      <td>2019-12-16</td>\n",
              "      <td>1595.0</td>\n",
              "      <td>1715.0</td>\n",
              "      <td>1590.0</td>\n",
              "      <td>1640.0</td>\n",
              "      <td>1639.994873</td>\n",
              "      <td>143379600.0</td>\n",
              "    </tr>\n",
              "    <tr>\n",
              "      <th>2819</th>\n",
              "      <td>2019-12-18</td>\n",
              "      <td>1655.0</td>\n",
              "      <td>1655.0</td>\n",
              "      <td>1595.0</td>\n",
              "      <td>1610.0</td>\n",
              "      <td>1609.994873</td>\n",
              "      <td>68583400.0</td>\n",
              "    </tr>\n",
              "    <tr>\n",
              "      <th>2821</th>\n",
              "      <td>2019-12-20</td>\n",
              "      <td>1605.0</td>\n",
              "      <td>1605.0</td>\n",
              "      <td>1505.0</td>\n",
              "      <td>1540.0</td>\n",
              "      <td>1539.995117</td>\n",
              "      <td>88766700.0</td>\n",
              "    </tr>\n",
              "    <tr>\n",
              "      <th>2823</th>\n",
              "      <td>2019-12-26</td>\n",
              "      <td>1590.0</td>\n",
              "      <td>1620.0</td>\n",
              "      <td>1570.0</td>\n",
              "      <td>1585.0</td>\n",
              "      <td>1584.994995</td>\n",
              "      <td>41404600.0</td>\n",
              "    </tr>\n",
              "    <tr>\n",
              "      <th>2825</th>\n",
              "      <td>2019-12-30</td>\n",
              "      <td>1565.0</td>\n",
              "      <td>1590.0</td>\n",
              "      <td>1555.0</td>\n",
              "      <td>1555.0</td>\n",
              "      <td>1554.995117</td>\n",
              "      <td>49275500.0</td>\n",
              "    </tr>\n",
              "  </tbody>\n",
              "</table>\n",
              "</div>\n",
              "      <button class=\"colab-df-convert\" onclick=\"convertToInteractive('df-8d26d261-e8b1-42dd-9afd-262333221df0')\"\n",
              "              title=\"Convert this dataframe to an interactive table.\"\n",
              "              style=\"display:none;\">\n",
              "        \n",
              "  <svg xmlns=\"http://www.w3.org/2000/svg\" height=\"24px\"viewBox=\"0 0 24 24\"\n",
              "       width=\"24px\">\n",
              "    <path d=\"M0 0h24v24H0V0z\" fill=\"none\"/>\n",
              "    <path d=\"M18.56 5.44l.94 2.06.94-2.06 2.06-.94-2.06-.94-.94-2.06-.94 2.06-2.06.94zm-11 1L8.5 8.5l.94-2.06 2.06-.94-2.06-.94L8.5 2.5l-.94 2.06-2.06.94zm10 10l.94 2.06.94-2.06 2.06-.94-2.06-.94-.94-2.06-.94 2.06-2.06.94z\"/><path d=\"M17.41 7.96l-1.37-1.37c-.4-.4-.92-.59-1.43-.59-.52 0-1.04.2-1.43.59L10.3 9.45l-7.72 7.72c-.78.78-.78 2.05 0 2.83L4 21.41c.39.39.9.59 1.41.59.51 0 1.02-.2 1.41-.59l7.78-7.78 2.81-2.81c.8-.78.8-2.07 0-2.86zM5.41 20L4 18.59l7.72-7.72 1.47 1.35L5.41 20z\"/>\n",
              "  </svg>\n",
              "      </button>\n",
              "      \n",
              "  <style>\n",
              "    .colab-df-container {\n",
              "      display:flex;\n",
              "      flex-wrap:wrap;\n",
              "      gap: 12px;\n",
              "    }\n",
              "\n",
              "    .colab-df-convert {\n",
              "      background-color: #E8F0FE;\n",
              "      border: none;\n",
              "      border-radius: 50%;\n",
              "      cursor: pointer;\n",
              "      display: none;\n",
              "      fill: #1967D2;\n",
              "      height: 32px;\n",
              "      padding: 0 0 0 0;\n",
              "      width: 32px;\n",
              "    }\n",
              "\n",
              "    .colab-df-convert:hover {\n",
              "      background-color: #E2EBFA;\n",
              "      box-shadow: 0px 1px 2px rgba(60, 64, 67, 0.3), 0px 1px 3px 1px rgba(60, 64, 67, 0.15);\n",
              "      fill: #174EA6;\n",
              "    }\n",
              "\n",
              "    [theme=dark] .colab-df-convert {\n",
              "      background-color: #3B4455;\n",
              "      fill: #D2E3FC;\n",
              "    }\n",
              "\n",
              "    [theme=dark] .colab-df-convert:hover {\n",
              "      background-color: #434B5C;\n",
              "      box-shadow: 0px 1px 3px 1px rgba(0, 0, 0, 0.15);\n",
              "      filter: drop-shadow(0px 1px 2px rgba(0, 0, 0, 0.3));\n",
              "      fill: #FFFFFF;\n",
              "    }\n",
              "  </style>\n",
              "\n",
              "      <script>\n",
              "        const buttonEl =\n",
              "          document.querySelector('#df-8d26d261-e8b1-42dd-9afd-262333221df0 button.colab-df-convert');\n",
              "        buttonEl.style.display =\n",
              "          google.colab.kernel.accessAllowed ? 'block' : 'none';\n",
              "\n",
              "        async function convertToInteractive(key) {\n",
              "          const element = document.querySelector('#df-8d26d261-e8b1-42dd-9afd-262333221df0');\n",
              "          const dataTable =\n",
              "            await google.colab.kernel.invokeFunction('convertToInteractive',\n",
              "                                                     [key], {});\n",
              "          if (!dataTable) return;\n",
              "\n",
              "          const docLinkHtml = 'Like what you see? Visit the ' +\n",
              "            '<a target=\"_blank\" href=https://colab.research.google.com/notebooks/data_table.ipynb>data table notebook</a>'\n",
              "            + ' to learn more about interactive tables.';\n",
              "          element.innerHTML = '';\n",
              "          dataTable['output_type'] = 'display_data';\n",
              "          await google.colab.output.renderOutput(dataTable, element);\n",
              "          const docLink = document.createElement('div');\n",
              "          docLink.innerHTML = docLinkHtml;\n",
              "          element.appendChild(docLink);\n",
              "        }\n",
              "      </script>\n",
              "    </div>\n",
              "  </div>\n",
              "  "
            ]
          },
          "metadata": {},
          "execution_count": 12
        }
      ],
      "source": [
        "# Split skip 2 hari untuk prediksi tanggal 5, dimulai dari tanggal 3 januari, 30 desember dll\n",
        "df3 = df.iloc[1::2]\n",
        "df3_train, df3_test = train_test_split(df3, train_size=0.8, test_size=0.2, shuffle=False)\n",
        "print(\"\\nBanyaknya Data Latih : \", len(df3_train))\n",
        "print(\"Banyaknya Data Uji : \", len(df3_test))\n",
        "df3.tail()"
      ]
    },
    {
      "cell_type": "markdown",
      "metadata": {
        "id": "1zOv5C6R34Nw"
      },
      "source": [
        "# Visualisasi terhadap dataset\n",
        "Visualisasi ini bertujuan untuk mengetahui OHLC (Open, High, Low, Close) dengan menampilkan nya berbentuk grafik candle stick"
      ]
    },
    {
      "cell_type": "code",
      "execution_count": 13,
      "metadata": {
        "colab": {
          "base_uri": "https://localhost:8080/",
          "height": 542
        },
        "id": "uYK3Nq_8XD79",
        "outputId": "b54fdafa-a683-430c-d00e-14e9dde0b764"
      },
      "outputs": [
        {
          "output_type": "display_data",
          "data": {
            "text/html": [
              "<html>\n",
              "<head><meta charset=\"utf-8\" /></head>\n",
              "<body>\n",
              "    <div>            <script src=\"https://cdnjs.cloudflare.com/ajax/libs/mathjax/2.7.5/MathJax.js?config=TeX-AMS-MML_SVG\"></script><script type=\"text/javascript\">if (window.MathJax && window.MathJax.Hub && window.MathJax.Hub.Config) {window.MathJax.Hub.Config({SVG: {font: \"STIX-Web\"}});}</script>                <script type=\"text/javascript\">window.PlotlyConfig = {MathJaxConfig: 'local'};</script>\n",
              "        <script src=\"https://cdn.plot.ly/plotly-2.18.2.min.js\"></script>                <div id=\"1d022416-d509-40e4-93a0-be418a77c992\" class=\"plotly-graph-div\" style=\"height:525px; width:100%;\"></div>            <script type=\"text/javascript\">                                    window.PLOTLYENV=window.PLOTLYENV || {};                                    if (document.getElementById(\"1d022416-d509-40e4-93a0-be418a77c992\")) {                    Plotly.newPlot(                        \"1d022416-d509-40e4-93a0-be418a77c992\",                        [{\"close\":[1730.0,1700.0,1640.0,1680.0,1670.0,1660.0,1630.0,1630.0,1670.0,1680.0,1690.0,1630.0,1590.0,1550.0,1540.0,1560.0,1600.0,1540.0,1510.0,1500.0,1520.0,1530.0,1490.0,1530.0,1530.0,1560.0,1540.0,1540.0,1530.0,1530.0,1540.0,1530.0,1510.0,1480.0,1490.0,1450.0,1450.0,1410.0,1410.0,1400.0,1390.0,1360.0,1320.0,1350.0,1430.0,1510.0,1510.0,1510.0,1510.0,1490.0,1440.0,1210.0,1000.0,810.0,730.0,730.0,730.0,740.0,740.0,790.0,760.0,730.0,690.0,700.0,630.0,570.0,520.0,570.0,680.0,810.0,810.0,770.0,700.0,660.0,620.0,640.0,640.0,580.0,560.0,530.0,520.0,500.0,490.0,480.0,470.0,480.0,530.0,500.0,520.0,510.0,470.0,470.0,495.0,475.0,490.0,520.0,530.0,500.0,490.0,500.0,510.0,500.0,480.0,485.0,485.0,490.0,485.0,520.0,510.0,520.0,500.0,510.0,550.0,660.0,680.0,660.0,670.0,650.0,630.0,640.0,640.0,640.0,690.0,690.0,720.0,740.0,730.0,730.0,770.0,820.0,870.0,830.0,850.0,860.0,850.0,840.0,830.0,800.0,820.0,810.0,790.0,800.0,780.0,780.0,770.0,770.0,730.0,720.0,760.0,760.0,750.0,770.0,770.0,770.0,770.0,750.0,740.0,740.0,740.0,780.0,820.0,890.0,890.0,940.0,890.0,880.0,890.0,890.0,890.0,910.0,900.0,900.0,950.0,970.0,970.0,950.0,950.0,980.0,970.0,1010.0,1000.0,1020.0,1000.0,1010.0,1020.0,1060.0,1140.0,1130.0,1160.0,1200.0,1180.0,1180.0,1170.0,1180.0,1100.0,1070.0,1080.0,1120.0,1130.0,1280.0,1310.0,1230.0,1280.0,1290.0,1340.0,1380.0,1370.0,1300.0,1340.0,1320.0,1290.0,1300.0,1310.0,1310.0,1300.0,1260.0,1260.0,1240.0,1180.0,1240.0,1180.0,1080.0,1180.0,1250.0,1240.0,1220.0,1200.0,1200.0,1180.0,1170.0,1130.0,1190.0,1150.0,1140.0,1100.0,1160.0,1180.0,1160.0,1150.0,1200.0,1180.0,1200.0,1210.0,1250.0,1270.0,1240.0,1260.0,1280.0,1280.0,1330.0,1360.0,1460.0,1450.0,1480.0,1460.0,1410.0,1460.0,1450.0,1420.0,1330.0,1410.0,1390.0,1440.0,1390.0,1390.0,1350.0,1350.0,1360.0,1360.0,1350.0,1350.0,1340.0,1330.0,1380.0,1360.0,1370.0,1370.0,1350.0,1350.0,1370.0,1390.0,1400.0,1400.0,1410.0,1420.0,1430.0,1420.0,1400.0,1420.0,1440.0,1410.0,1390.0,1400.0,1380.0,1390.0,1430.0,1450.0,1460.0,1530.0,1510.0,1560.0,1520.0,1620.0,1600.0,1570.0,1520.0,1540.0,1540.0,1580.0,1510.0,1560.0,1540.0,1540.0,1540.0,1510.0,1550.0,1620.0,1710.0,1710.0,1700.0,1700.0,1680.0,1700.0,1770.0,1710.0,1720.0,1670.0,1740.0,1740.0,1730.0,1730.0,1750.0,1750.0,1700.0,1740.0,1730.0,1750.0,1740.0,1730.0,1750.0,1720.0,1680.0,1710.0,1700.0,1720.0,1730.0,1730.0,1750.0,1790.0,1800.0,1840.0,1960.0,1980.0,1960.0,1960.0,2050.0,1990.0,1990.0,1990.0,1970.0,1960.0,1940.0,1940.0,1880.0,1840.0,1900.0,1890.0,1850.0,1860.0,1920.0,1930.0,1860.0,1840.0,1830.0,1790.0,1810.0,1840.0,1830.0,1860.0,1860.0,1810.0,1800.0,1810.0,1840.0,1860.0,1830.0,1840.0,1830.0,1840.0,1840.0,1850.0,1860.0,1870.0,1890.0,1890.0,1880.0,1870.0,1920.0,1900.0,1880.0,1840.0,1830.0,1880.0,1860.0,1870.0,1890.0,1910.0,1960.0,2025.0,2075.0,2100.0,2150.0,2100.0,2125.0,2150.0,2175.0,2150.0,2200.0,2225.0,2175.0,2200.0,2200.0,2250.0,2200.0,2200.0,2200.0,2150.0,2125.0,2200.0,2125.0,2125.0,1980.0,2000.0,1930.0,2000.0,2050.0,2100.0,2075.0,2050.0,2050.0,1950.0,1920.0,1840.0,1800.0,1720.0,1890.0,1910.0,2000.0,1920.0,1930.0,1950.0,1940.0,1840.0,1850.0,1860.0,1860.0,1870.0,1890.0,1880.0,1970.0,1980.0,1980.0,2075.0,2000.0,2025.0,1990.0,2025.0,2050.0,1970.0,1990.0,1970.0,1990.0,1990.0,2025.0,1990.0,2025.0,2050.0,2025.0,2025.0,2050.0,2025.0,2025.0,1990.0,2000.0,2025.0,2025.0,2050.0,2025.0,2025.0,2075.0,2050.0,2000.0,2050.0,2025.0,2025.0,2050.0,2125.0,2125.0,2100.0,2075.0,2050.0,2075.0,2050.0,2100.0,2100.0,2100.0,2075.0,2050.0,2050.0,2025.0,1990.0,1980.0,1900.0,1870.0,1790.0,1840.0,1920.0,1940.0,2000.0,2100.0,2150.0,2050.0,2025.0,1980.0,1980.0,2025.0,2075.0,2050.0,2050.0,2025.0,2050.0,2025.0,2050.0,2100.0,2050.0,2050.0,2075.0,2050.0,2100.0,2175.0,2225.0,2175.0,2175.0,2125.0,2125.0,2250.0,2175.0,2200.0,2100.0,2125.0,2100.0,2125.0,2125.0,2150.0,2225.0,2275.0,2350.0,2500.0,2400.0,2450.0,2400.0,2400.0,2475.0,2450.0,2450.0,2450.0,2425.0,2400.0,2350.0,2325.0,2300.0,2325.0,2375.0,2400.0,2375.0,2475.0,2625.0,2625.0,2600.0,2575.0,2550.0,2550.0,2525.0,2300.0,2500.0,2550.0,2475.0,2525.0,2525.0,2500.0,2525.0,2550.0,2675.0,2875.0,2850.0,2775.0,2700.0,2500.0,2475.0,2625.0,2625.0,2625.0,2575.0,2675.0,2650.0,2450.0,2350.0,2350.0,2475.0,2400.0,2425.0,2375.0,2250.0,2400.0,2500.0,2450.0,2400.0,2350.0,2300.0,2300.0,2375.0,2425.0,2375.0,2375.0,2425.0,2475.0,2375.0,2450.0,2450.0,2475.0,2450.0,2425.0,2350.0,2325.0,2375.0,2375.0,2400.0,2350.0,2325.0,2325.0,2400.0,2400.0,2375.0,2375.0,2375.0,2325.0,2225.0,2275.0,2275.0,2300.0,2275.0,2225.0,2200.0,2275.0,2350.0,2300.0,2350.0,2325.0,2300.0,2300.0,2275.0,2275.0,2250.0,2275.0,2225.0,2225.0,2250.0,2225.0,2250.0,2225.0,2200.0,2225.0,2200.0,2225.0,2225.0,2250.0,2325.0,2300.0,2325.0,2300.0,2325.0,2250.0,2275.0,2250.0,2350.0,2375.0,2375.0,2325.0,2325.0,2375.0,2375.0,2400.0,2375.0,2450.0,2425.0,2450.0,2475.0,2475.0,2450.0,2450.0,2400.0,2400.0,2425.0,2400.0,2350.0,2275.0,2300.0,2375.0,2375.0,2350.0,2375.0,2375.0,2400.0,2450.0,2500.0,2500.0,2525.0,2550.0,2600.0,2575.0,2475.0,2525.0,2500.0,2550.0,2600.0,2575.0,2575.0,2525.0,2525.0,2500.0,2575.0,2600.0,2675.0,2650.0,2675.0,2650.0,2600.0,2600.0,2375.0,2325.0,2175.0,2450.0,2325.0,2325.0,2350.0,2350.0,2400.0,2250.0,2225.0,2250.0,2125.0,2100.0,2025.0,1990.0,2025.0,2075.0,2050.0,2025.0,1970.0,1970.0,1960.0,1940.0,1980.0,1940.0,1920.0,1900.0,1710.0,1650.0,1520.0,1630.0,1690.0,1730.0,1720.0,1610.0,1530.0,1530.0,1680.0,1680.0,1670.0,1780.0,1860.0,1860.0,1900.0,1960.0,1880.0,1980.0,1900.0,1910.0,1950.0,2000.0,2000.0,2075.0,2125.0,2025.0,1990.0,2050.0,2000.0,2050.0,2075.0,2075.0,2150.0,2075.0,2050.0,2050.0,2000.0,2025.0,2000.0,1960.0,1880.0,1920.0,1910.0,1910.0,1870.0,1900.0,1900.0,1910.0,1910.0,1970.0,1970.0,1970.0,2000.0,1990.0,1920.0,1930.0,1880.0,1860.0,1820.0,1840.0,1840.0,1730.0,1760.0,1760.0,1770.0,1780.0,1770.0,1760.0,1770.0,1760.0,1810.0,1830.0,1790.0,1770.0,1780.0,1820.0,1810.0,1810.0,1810.0,1780.0,1800.0,1820.0,1830.0,1820.0,1830.0,1840.0,1840.0,1860.0,1820.0,1830.0,1870.0,1960.0,1920.0,1940.0,1980.0,2000.0,1980.0,1930.0,1950.0,1920.0,1950.0,1920.0,1980.0,1990.0,1990.0,2000.0,1960.0,1920.0,1890.0,1900.0,1920.0,1900.0,1970.0,1950.0,1930.0,1920.0,1930.0,1920.0,1950.0,1940.0,1970.0,1940.0,1920.0,1910.0,1920.0,1900.0,1900.0,1890.0,1890.0,1930.0,1920.0,1930.0,1960.0,1960.0,1910.0,1910.0,1900.0,1880.0,1830.0,1810.0,1830.0,1820.0,1810.0,1820.0,1810.0,1800.0,1800.0,1830.0,1820.0,1810.0,1810.0,1860.0,1870.0,1870.0,1840.0,1810.0,1770.0,1760.0,1760.0,1760.0,1730.0,1730.0,1680.0,1650.0,1650.0,1700.0,1650.0,1650.0,1620.0,1610.0,1610.0,1590.0,1470.0,1380.0,1200.0,1220.0,1270.0,1300.0,1260.0,1270.0,1230.0,1230.0,1210.0,1240.0,1270.0,1330.0,1420.0,1420.0,1370.0,1330.0,1390.0,1400.0,1360.0,1450.0,1560.0,1550.0,1620.0,1590.0,1570.0,1480.0,1440.0,1420.0,1370.0,1380.0,1420.0,1420.0,1410.0,1420.0,1420.0,1370.0,1360.0,1350.0,1360.0,1430.0,1440.0,1460.0,1510.0,1520.0,1520.0,1590.0,1550.0,1500.0,1540.0,1560.0,1520.0,1540.0,1570.0,1520.0,1450.0,1410.0,1430.0,1400.0,1360.0,1350.0,1370.0,1390.0,1380.0,1360.0,1360.0,1400.0,1430.0,1440.0,1500.0,1510.0,1590.0,1590.0,1550.0,1570.0,1530.0,1550.0,1480.0,1500.0,1490.0,1490.0,1500.0,1480.0,1480.0,1450.0,1430.0,1460.0,1440.0,1440.0,1440.0,1420.0,1410.0,1390.0,1400.0,1410.0,1390.0,1350.0,1400.0,1410.0,1390.0,1400.0,1390.0,1380.0,1370.0,1370.0,1370.0,1350.0,1390.0,1410.0,1390.0,1410.0,1420.0,1420.0,1430.0,1400.0,1390.0,1380.0,1370.0,1350.0,1350.0,1360.0,1390.0,1350.0,1340.0,1320.0,1340.0,1370.0,1370.0,1380.0,1390.0,1410.0,1460.0,1600.0,1570.0,1590.0,1590.0,1580.0,1560.0,1570.0,1600.0,1590.0,1590.0,1740.0,1750.0,1750.0,1730.0,1740.0,1730.0,1750.0,1660.0,1690.0,1690.0,1700.0,1670.0,1690.0,1650.0,1620.0,1630.0,1700.0,1670.0,1680.0,1680.0,1650.0,1640.0,1610.0,1570.0,1600.0,1570.0,1570.0,1570.0,1580.0,1600.0,1630.0,1630.0,1620.0,1590.0,1600.0,1580.0,1580.0,1600.0,1560.0,1600.0,1570.0,1560.0,1560.0,1500.0,1550.0,1530.0,1540.0,1540.0,1510.0,1490.0,1540.0,1490.0,1460.0,1400.0,1350.0,1290.0,1260.0,1290.0,1310.0,1310.0,1300.0,1320.0,1320.0,1300.0,1290.0,1270.0,1260.0,1280.0,1290.0,1290.0,1270.0,1250.0,1270.0,1280.0,1260.0,1230.0,1220.0,1240.0,1220.0,1230.0,1230.0,1230.0,1200.0,1200.0,1200.0,1200.0,1210.0,1200.0,1190.0,1170.0,1150.0,1090.0,1050.0,1100.0,1120.0,1110.0,1110.0,1060.0,1070.0,1030.0,1030.0,990.0,950.0,930.0,890.0,910.0,910.0,840.0,860.0,820.0,830.0,830.0,840.0,850.0,850.0,810.0,790.0,830.0,770.0,770.0,810.0,800.0,860.0,830.0,800.0,770.0,770.0,790.0,760.0,740.0,720.0,700.0,710.0,700.0,690.0,700.0,710.0,700.0,700.0,710.0,720.0,710.0,710.0,700.0,710.0,700.0,680.0,650.0,770.0,790.0,770.0,790.0,800.0,740.0,710.0,720.0,850.0,850.0,870.0,860.0,870.0,910.0,930.0,960.0,970.0,960.0,990.0,990.0,1010.0,910.0,950.0,970.0,940.0,950.0,950.0,950.0,970.0,960.0,960.0,930.0,930.0,920.0,910.0,900.0,890.0,900.0,940.0,900.0,910.0,920.0,990.0,990.0,990.0,970.0,1040.0,1120.0,1070.0,1070.0,1060.0,1070.0,1060.0,1040.0,1020.0,1050.0,1020.0,1040.0,1060.0,1030.0,1080.0,1160.0,1190.0,1150.0,1140.0,1180.0,1170.0,1220.0,1190.0,1170.0,1150.0,1180.0,1210.0,1140.0,1130.0,1120.0,1130.0,1140.0,1120.0,1170.0,1190.0,1170.0,1200.0,1230.0,1220.0,1180.0,1160.0,1110.0,1130.0,1150.0,1150.0,1130.0,1120.0,1120.0,1080.0,1090.0,1060.0,1010.0,930.0,880.0,940.0,945.0,940.0,955.0,950.0,975.0,975.0,975.0,980.0,1025.0,1025.0,1040.0,965.0,935.0,955.0,950.0,910.0,895.0,905.0,910.0,905.0,910.0,945.0,940.0,935.0,945.0,975.0,955.0,950.0,975.0,970.0,970.0,940.0,935.0,950.0,995.0,980.0,1015.0,1020.0,1020.0,1015.0,1000.0,965.0,945.0,970.0,970.0,980.0,975.0,1000.0,960.0,990.0,975.0,980.0,975.0,970.0,980.0,985.0,980.0,985.0,970.0,980.0,970.0,970.0,955.0,1010.0,1010.0,970.0,985.0,980.0,975.0,1010.0,1070.0,1085.0,1090.0,1135.0,1125.0,1185.0,1140.0,1165.0,1180.0,1135.0,1100.0,1120.0,1195.0,1230.0,1235.0,1245.0,1275.0,1300.0,1285.0,1300.0,1305.0,1305.0,1290.0,1225.0,1270.0,1275.0,1280.0,1280.0,1320.0,1280.0,1300.0,1325.0,1270.0,1280.0,1225.0,1285.0,1265.0,1230.0,1185.0,1155.0,1135.0,1145.0,1200.0,1185.0,1175.0,1165.0,1200.0,1190.0,1190.0,1195.0,1180.0,1180.0,1180.0,1130.0,1105.0,1145.0,1150.0,1110.0,1115.0,1130.0,1095.0,1105.0,1155.0,1185.0,1235.0,1255.0,1255.0,1270.0,1255.0,1265.0,1265.0,1285.0,1295.0,1295.0,1320.0,1330.0,1320.0,1280.0,1255.0,1230.0,1270.0,1340.0,1315.0,1315.0,1320.0,1335.0,1370.0,1375.0,1355.0,1385.0,1330.0,1285.0,1285.0,1305.0,1275.0,1270.0,1320.0,1290.0,1265.0,1255.0,1270.0,1265.0,1275.0,1195.0,1165.0,1175.0,1160.0,1120.0,1105.0,1140.0,1140.0,1155.0,1140.0,1090.0,1010.0,1010.0,940.0,965.0,980.0,960.0,975.0,1030.0,1050.0,1055.0,1045.0,1030.0,1100.0,1100.0,1135.0,1150.0,1140.0,1100.0,1080.0,1095.0,1085.0,1090.0,1020.0,1000.0,1000.0,1005.0,1015.0,1030.0,1070.0,1075.0,1090.0,1095.0,1105.0,1100.0,1080.0,1065.0,1085.0,1095.0,1135.0,1120.0,1095.0,1090.0,1065.0,1060.0,1025.0,1025.0,1040.0,1050.0,1065.0,1060.0,1060.0,1055.0,1060.0,1040.0,1040.0,1040.0,1025.0,1010.0,1010.0,985.0,1005.0,995.0,965.0,945.0,935.0,935.0,945.0,980.0,1005.0,1015.0,1000.0,980.0,1000.0,995.0,985.0,1000.0,995.0,990.0,1000.0,995.0,995.0,980.0,995.0,980.0,985.0,1000.0,990.0,1000.0,995.0,995.0,980.0,965.0,960.0,945.0,960.0,1020.0,1015.0,985.0,1005.0,985.0,990.0,985.0,955.0,970.0,970.0,945.0,955.0,955.0,970.0,950.0,970.0,975.0,965.0,945.0,950.0,960.0,950.0,960.0,980.0,980.0,980.0,965.0,980.0,975.0,955.0,955.0,960.0,965.0,960.0,950.0,975.0,970.0,980.0,970.0,920.0,930.0,895.0,875.0,845.0,870.0,875.0,855.0,860.0,905.0,915.0,930.0,905.0,880.0,895.0,890.0,880.0,885.0,875.0,900.0,895.0,900.0,860.0,880.0,925.0,890.0,895.0,865.0,835.0,830.0,840.0,830.0,765.0,780.0,805.0,775.0,810.0,790.0,785.0,790.0,780.0,785.0,760.0,760.0,755.0,760.0,760.0,740.0,700.0,655.0,630.0,635.0,620.0,585.0,595.0,575.0,595.0,560.0,555.0,600.0,590.0,585.0,590.0,570.0,590.0,600.0,595.0,580.0,565.0,530.0,485.0,498.0,500.0,487.0,486.0,484.0,490.0,474.0,545.0,540.0,590.0,620.0,595.0,575.0,610.0,620.0,580.0,555.0,570.0,580.0,540.0,565.0,570.0,580.0,570.0,585.0,600.0,600.0,595.0,580.0,585.0,550.0,535.0,535.0,530.0,520.0,535.0,560.0,615.0,620.0,680.0,700.0,635.0,640.0,640.0,645.0,670.0,650.0,635.0,670.0,680.0,665.0,650.0,615.0,595.0,610.0,640.0,655.0,630.0,620.0,615.0,610.0,640.0,610.0,580.0,560.0,555.0,575.0,600.0,585.0,570.0,565.0,585.0,585.0,565.0,550.0,545.0,540.0,535.0,525.0,510.0,490.0,490.0,475.0,485.0,477.0,463.0,492.0,510.0,490.0,495.0,500.0,500.0,510.0,520.0,515.0,494.0,499.0,500.0,485.0,493.0,486.0,481.0,473.0,464.0,449.0,450.0,461.0,437.0,450.0,515.0,498.0,476.0,477.0,520.0,525.0,515.0,555.0,575.0,620.0,640.0,590.0,575.0,605.0,600.0,585.0,615.0,620.0,605.0,585.0,595.0,595.0,595.0,570.0,600.0,605.0,670.0,660.0,650.0,680.0,745.0,790.0,770.0,700.0,730.0,745.0,680.0,705.0,695.0,690.0,660.0,670.0,650.0,665.0,645.0,665.0,680.0,670.0,695.0,690.0,705.0,695.0,695.0,720.0,750.0,745.0,750.0,720.0,725.0,735.0,730.0,715.0,715.0,720.0,695.0,665.0,685.0,695.0,670.0,685.0,695.0,690.0,675.0,670.0,670.0,660.0,680.0,700.0,695.0,695.0,710.0,720.0,755.0,815.0,840.0,910.0,870.0,925.0,890.0,860.0,845.0,865.0,845.0,800.0,845.0,845.0,845.0,850.0,840.0,835.0,855.0,855.0,850.0,885.0,925.0,970.0,1025.0,1040.0,995.0,1030.0,1025.0,1035.0,1055.0,1050.0,1070.0,1060.0,1045.0,1060.0,1040.0,1040.0,1105.0,1140.0,1110.0,1145.0,1150.0,1200.0,1155.0,1085.0,1135.0,1120.0,1145.0,1170.0,1105.0,1115.0,1080.0,1060.0,1100.0,1080.0,1065.0,1135.0,1150.0,1185.0,1170.0,1220.0,1225.0,1245.0,1270.0,1270.0,1165.0,1120.0,1165.0,1165.0,1185.0,1180.0,1170.0,1185.0,1210.0,1200.0,1210.0,1200.0,1280.0,1205.0,1300.0,1305.0,1290.0,1360.0,1375.0,1385.0,1400.0,1405.0,1405.0,1425.0,1460.0,1440.0,1530.0,1510.0,1500.0,1525.0,1525.0,1555.0,1550.0,1580.0,1585.0,1640.0,1720.0,1640.0,1670.0,1685.0,1630.0,1570.0,1650.0,1660.0,1605.0,1465.0,1535.0,1515.0,1500.0,1530.0,1620.0,1630.0,1645.0,1640.0,1680.0,1630.0,1530.0,1610.0,1665.0,1730.0,1730.0,1710.0,1650.0,1680.0,1700.0,1690.0,1670.0,1660.0,1695.0,1700.0,1670.0,1680.0,1655.0,1675.0,1690.0,1690.0,1695.0,1695.0,1740.0,1700.0,1665.0,1695.0,1720.0,1685.0,1745.0,1715.0,1700.0,1700.0,1700.0,1720.0,1730.0,1730.0,1725.0,1725.0,1740.0,1730.0,1725.0,1715.0,1695.0,1750.0,1740.0,1720.0,1740.0,1730.0,1720.0,1725.0,1710.0,1680.0,1645.0,1645.0,1700.0,1660.0,1695.0,1720.0,1705.0,1715.0,1700.0,1700.0,1695.0,1675.0,1685.0,1685.0,1685.0,1695.0,1695.0,1685.0,1600.0,1625.0,1645.0,1650.0,1680.0,1705.0,1705.0,1730.0,1730.0,1740.0,1770.0,1800.0,1820.0,1820.0,1750.0,1805.0,1930.0,1890.0,1895.0,1890.0,1890.0,1870.0,1890.0,1860.0,1850.0,1835.0,1835.0,1840.0,1840.0,1845.0,1820.0,1840.0,1775.0,1720.0,1630.0,1615.0,1560.0,1615.0,1550.0,1495.0,1480.0,1485.0,1465.0,1410.0,1435.0,1465.0,1435.0,1475.0,1480.0,1485.0,1465.0,1460.0,1520.0,1520.0,1470.0,1545.0,1605.0,1600.0,1575.0,1555.0,1540.0,1600.0,1660.0,1645.0,1605.0,1565.0,1640.0,1595.0,1580.0,1580.0,1580.0,1580.0,1580.0,1580.0,1580.0,1630.0,1580.0,1620.0,1635.0,1610.0,1595.0,1615.0,1665.0,1625.0,1665.0,1700.0,1695.0,1765.0,1820.0,1820.0,1835.0,1830.0,1800.0,1800.0,1825.0,1785.0,1860.0,1895.0,1845.0,1870.0,1850.0,1870.0,1805.0,1850.0,1820.0,1850.0,1855.0,1880.0,1880.0,1875.0,1865.0,1860.0,1955.0,1965.0,1945.0,1890.0,1870.0,1890.0,1825.0,1825.0,1815.0,1860.0,1890.0,1865.0,1885.0,1900.0,1865.0,1715.0,1740.0,1775.0,1820.0,1870.0,1860.0,1860.0,1815.0,1755.0,1710.0,1670.0,1765.0,1825.0,1775.0,1780.0,1825.0,1830.0,1875.0,1890.0,1900.0,1880.0,1900.0,1900.0,1870.0,1900.0,1880.0,1865.0,1855.0,1850.0,1890.0,1900.0,1825.0,1840.0,1835.0,1825.0,1910.0,1900.0,1895.0,1900.0,1900.0,1820.0,1830.0,1815.0,1820.0,1815.0,1735.0,1755.0,1770.0,1755.0,1715.0,1745.0,1725.0,1710.0,1695.0,1715.0,1775.0,1700.0,1700.0,1775.0,1780.0,1755.0,1710.0,1725.0,1710.0,1810.0,1815.0,1805.0,1805.0,1800.0,1835.0,1800.0,1870.0,1890.0,1890.0,1890.0,1895.0,1890.0,1860.0,1860.0,1880.0,1830.0,1915.0,1990.0,2160.0,2180.0,2210.0,2180.0,2230.0,2230.0,2190.0,2170.0,2170.0,2180.0,2310.0,2420.0,2440.0,2450.0,2440.0,2560.0,2550.0,2450.0,2400.0,2470.0,2520.0,2450.0,2450.0,2420.0,2320.0,2350.0,2420.0,2440.0,2470.0,2470.0,2490.0,2430.0,2470.0,2480.0,2480.0,2390.0,2400.0,2350.0,2420.0,2310.0,2320.0,2330.0,2160.0,2190.0,2170.0,2220.0,2170.0,2070.0,2050.0,2040.0,2040.0,2070.0,2040.0,2020.0,1995.0,2030.0,2040.0,2040.0,2130.0,2130.0,2130.0,2120.0,2040.0,2020.0,2030.0,2070.0,2110.0,2140.0,2110.0,2130.0,2130.0,2130.0,2100.0,2100.0,2100.0,2260.0,2200.0,2200.0,2200.0,2200.0,1835.0,1835.0,1775.0,1680.0,1640.0,1710.0,1625.0,1700.0,1700.0,1715.0,1675.0,1715.0,1800.0,1880.0,1905.0,1950.0,1930.0,1825.0,1835.0,1830.0,1820.0,1820.0,1830.0,1885.0,1885.0,1970.0,2030.0,1985.0,1990.0,1935.0,1935.0,1935.0,1935.0,1935.0,1935.0,1935.0,1935.0,2000.0,2010.0,1930.0,1870.0,1755.0,1705.0,1665.0,1790.0,1745.0,1720.0,1770.0,1825.0,1785.0,1835.0,1865.0,1900.0,1870.0,1860.0,1800.0,1760.0,1865.0,1870.0,1825.0,1800.0,1800.0,1880.0,1850.0,1965.0,2090.0,1905.0,1980.0,1935.0,1940.0,1960.0,1980.0,1990.0,1935.0,1910.0,1830.0,1800.0,1855.0,1780.0,1780.0,1835.0,1880.0,1880.0,1940.0,1910.0,1895.0,1910.0,1910.0,1895.0,1865.0,1855.0,1805.0,1700.0,1725.0,1730.0,1735.0,1735.0,1760.0,1735.0,1740.0,1715.0,1750.0,1740.0,1805.0,1880.0,1820.0,1815.0,1815.0,1825.0,1835.0,1840.0,1845.0,1865.0,1825.0,1810.0,1750.0,1730.0,1780.0,1720.0,1710.0,1675.0,1750.0,1760.0,1730.0,1700.0,1730.0,1700.0,1670.0,1650.0,1725.0,1665.0,1650.0,1650.0,1645.0,1585.0,1575.0,1630.0,1595.0,1610.0,1580.0,1510.0,1515.0,1565.0,1555.0,1545.0,1485.0,1485.0,1310.0,1285.0,1295.0,1275.0,1220.0,1255.0,1280.0,1285.0,1305.0,1300.0,1285.0,1295.0,1300.0,1310.0,1285.0,1255.0,1280.0,1285.0,1280.0,1240.0,1245.0,1255.0,1250.0,1250.0,1250.0,1220.0,1240.0,1215.0,1215.0,1215.0,1225.0,1230.0,1390.0,1390.0,1410.0,1395.0,1405.0,1405.0,1410.0,1460.0,1460.0,1460.0,1485.0,1470.0,1410.0,1380.0,1380.0,1395.0,1390.0,1340.0,1350.0,1390.0,1375.0,1360.0,1360.0,1365.0,1345.0,1305.0,1260.0,1275.0,1260.0,1240.0,1220.0,1245.0,1295.0,1345.0,1415.0,1410.0,1405.0,1350.0,1375.0,1310.0,1310.0,1410.0,1400.0,1360.0,1360.0,1390.0,1450.0,1390.0,1440.0,1460.0,1435.0,1430.0,1435.0,1430.0,1420.0,1415.0,1345.0,1360.0,1350.0,1340.0,1340.0,1350.0,1325.0,1325.0,1275.0,1260.0,1260.0,1295.0,1300.0,1295.0,1300.0,1285.0,1305.0,1305.0,1295.0,1295.0,1270.0,1305.0,1305.0,1290.0,1290.0,1315.0,1305.0,1305.0,1345.0,1335.0,1315.0,1310.0,1295.0,1280.0,1265.0,1250.0,1235.0,1235.0,1160.0,1175.0,1175.0,1235.0,1235.0,1280.0,1260.0,1265.0,1270.0,1270.0,1270.0,1295.0,1295.0,1295.0,1295.0,1295.0,1295.0,1285.0,1280.0,1285.0,1275.0,1235.0,1230.0,1245.0,1275.0,1265.0,1225.0,1245.0,1330.0,1360.0,1385.0,1360.0,1440.0,1420.0,1360.0,1420.0,1415.0,1380.0,1335.0,1345.0,1335.0,1280.0,1275.0,1285.0,1280.0,1300.0,1295.0,1285.0,1275.0,1255.0,1250.0,1230.0,1255.0,1295.0,1270.0,1225.0,1175.0,1120.0,1085.0,1105.0,1100.0,1095.0,1070.0,1035.0,1050.0,1025.0,1030.0,1050.0,1030.0,1020.0,1085.0,1120.0,1130.0,1105.0,1100.0,1125.0,1155.0,1190.0,1235.0,1260.0,1335.0,1415.0,1410.0,1470.0,1435.0,1375.0,1430.0,1435.0,1405.0,1370.0,1400.0,1370.0,1295.0,1310.0,1285.0,1315.0,1290.0,1320.0,1270.0,1270.0,1265.0,1250.0,1280.0,1270.0,1260.0,1295.0,1295.0,1330.0,1315.0,1320.0,1310.0,1365.0,1365.0,1355.0,1370.0,1350.0,1370.0,1335.0,1305.0,1310.0,1270.0,1280.0,1370.0,1390.0,1385.0,1415.0,1415.0,1425.0,1335.0,1300.0,1340.0,1320.0,1335.0,1310.0,1320.0,1310.0,1315.0,1295.0,1245.0,1230.0,1315.0,1315.0,1360.0,1460.0,1425.0,1420.0,1485.0,1490.0,1475.0,1590.0,1640.0,1655.0,1610.0,1595.0,1540.0,1580.0,1585.0,1580.0,1555.0,1495.0],\"high\":[1760.0,1760.0,1700.0,1690.0,1690.0,1670.0,1650.0,1650.0,1680.0,1690.0,1710.0,1680.0,1630.0,1580.0,1570.0,1570.0,1600.0,1600.0,1560.0,1510.0,1540.0,1540.0,1510.0,1540.0,1540.0,1570.0,1550.0,1560.0,1540.0,1540.0,1550.0,1550.0,1520.0,1510.0,1490.0,1470.0,1480.0,1450.0,1410.0,1410.0,1400.0,1390.0,1340.0,1380.0,1430.0,1530.0,1540.0,1540.0,1510.0,1510.0,1490.0,1350.0,1100.0,910.0,810.0,730.0,730.0,800.0,770.0,800.0,830.0,750.0,710.0,700.0,640.0,600.0,600.0,570.0,680.0,810.0,850.0,850.0,700.0,670.0,690.0,660.0,650.0,620.0,610.0,560.0,520.0,510.0,500.0,485.0,485.0,500.0,550.0,570.0,530.0,540.0,480.0,485.0,500.0,490.0,505.0,530.0,550.0,530.0,540.0,505.0,520.0,510.0,500.0,495.0,490.0,500.0,495.0,520.0,540.0,550.0,510.0,520.0,580.0,660.0,750.0,690.0,700.0,680.0,650.0,680.0,670.0,640.0,690.0,690.0,740.0,760.0,750.0,740.0,770.0,830.0,870.0,890.0,870.0,870.0,860.0,850.0,850.0,830.0,830.0,820.0,820.0,820.0,790.0,790.0,790.0,790.0,780.0,740.0,760.0,800.0,770.0,780.0,790.0,790.0,790.0,790.0,760.0,750.0,760.0,790.0,830.0,1000.0,930.0,950.0,940.0,910.0,910.0,920.0,900.0,940.0,920.0,920.0,950.0,980.0,980.0,1000.0,980.0,980.0,1060.0,1040.0,1050.0,1050.0,1040.0,1020.0,1040.0,1090.0,1150.0,1200.0,1170.0,1210.0,1200.0,1240.0,1180.0,1200.0,1170.0,1140.0,1100.0,1150.0,1150.0,1280.0,1360.0,1330.0,1330.0,1310.0,1350.0,1380.0,1450.0,1410.0,1340.0,1360.0,1340.0,1320.0,1330.0,1340.0,1320.0,1300.0,1260.0,1260.0,1260.0,1240.0,1250.0,1130.0,1180.0,1270.0,1280.0,1240.0,1260.0,1210.0,1220.0,1180.0,1160.0,1200.0,1220.0,1170.0,1140.0,1160.0,1190.0,1210.0,1150.0,1200.0,1220.0,1200.0,1230.0,1260.0,1280.0,1270.0,1260.0,1300.0,1310.0,1360.0,1370.0,1460.0,1520.0,1520.0,1490.0,1440.0,1480.0,1480.0,1420.0,1430.0,1430.0,1410.0,1450.0,1430.0,1400.0,1390.0,1370.0,1420.0,1390.0,1360.0,1370.0,1350.0,1350.0,1380.0,1400.0,1380.0,1390.0,1370.0,1380.0,1380.0,1420.0,1420.0,1420.0,1420.0,1440.0,1440.0,1430.0,1410.0,1420.0,1460.0,1460.0,1430.0,1420.0,1410.0,1410.0,1430.0,1470.0,1470.0,1530.0,1550.0,1570.0,1570.0,1630.0,1630.0,1600.0,1570.0,1550.0,1590.0,1590.0,1590.0,1570.0,1550.0,1570.0,1560.0,1570.0,1560.0,1660.0,1710.0,1720.0,1720.0,1730.0,1710.0,1710.0,1770.0,1770.0,1750.0,1720.0,1750.0,1740.0,1750.0,1750.0,1760.0,1780.0,1730.0,1740.0,1760.0,1750.0,1740.0,1740.0,1760.0,1760.0,1730.0,1710.0,1720.0,1740.0,1730.0,1740.0,1750.0,1800.0,1830.0,1850.0,1980.0,2025.0,1970.0,1960.0,2075.0,2050.0,2025.0,2000.0,2000.0,1990.0,1940.0,1950.0,1950.0,1910.0,1910.0,1890.0,1880.0,1890.0,1950.0,1960.0,1880.0,1860.0,1840.0,1850.0,1830.0,1850.0,1840.0,1870.0,1890.0,1860.0,1810.0,1830.0,1850.0,1860.0,1870.0,1860.0,1850.0,1860.0,1860.0,1860.0,1880.0,1880.0,1910.0,1900.0,1890.0,1880.0,1920.0,1930.0,1910.0,1880.0,1860.0,1880.0,1890.0,1890.0,1910.0,1930.0,1980.0,2050.0,2100.0,2150.0,2200.0,2150.0,2150.0,2175.0,2175.0,2175.0,2225.0,2250.0,2200.0,2200.0,2225.0,2250.0,2250.0,2225.0,2200.0,2200.0,2175.0,2225.0,2175.0,2175.0,2100.0,2025.0,1970.0,2025.0,2125.0,2100.0,2125.0,2075.0,2075.0,2025.0,1990.0,1870.0,1880.0,1790.0,1900.0,1930.0,2025.0,1990.0,1970.0,1980.0,1940.0,1870.0,1860.0,1870.0,1870.0,1890.0,1900.0,1900.0,2000.0,1990.0,2000.0,2100.0,2075.0,2025.0,2050.0,2025.0,2075.0,2050.0,2000.0,1980.0,1990.0,2000.0,2050.0,2025.0,2050.0,2050.0,2050.0,2025.0,2075.0,2050.0,2025.0,2000.0,2025.0,2025.0,2025.0,2075.0,2075.0,2100.0,2075.0,2075.0,2050.0,2050.0,2100.0,2050.0,2050.0,2125.0,2150.0,2125.0,2100.0,2050.0,2075.0,2075.0,2100.0,2125.0,2100.0,2100.0,2075.0,2050.0,2050.0,2025.0,2025.0,1960.0,1900.0,1880.0,1850.0,1950.0,1960.0,2025.0,2100.0,2150.0,2150.0,2075.0,2025.0,1990.0,2025.0,2100.0,2125.0,2075.0,2075.0,2075.0,2100.0,2050.0,2100.0,2100.0,2075.0,2075.0,2075.0,2100.0,2200.0,2250.0,2225.0,2175.0,2150.0,2150.0,2300.0,2250.0,2225.0,2200.0,2125.0,2125.0,2150.0,2150.0,2200.0,2225.0,2325.0,2400.0,2500.0,2500.0,2450.0,2450.0,2450.0,2500.0,2475.0,2500.0,2475.0,2450.0,2425.0,2425.0,2350.0,2325.0,2375.0,2375.0,2475.0,2450.0,2475.0,2625.0,2650.0,2625.0,2650.0,2600.0,2550.0,2550.0,2600.0,2575.0,2575.0,2550.0,2550.0,2525.0,2525.0,2550.0,2550.0,2675.0,2900.0,2850.0,2850.0,2725.0,2700.0,2600.0,2625.0,2675.0,2625.0,2625.0,2675.0,2725.0,2625.0,2425.0,2375.0,2475.0,2475.0,2475.0,2400.0,2350.0,2400.0,2500.0,2500.0,2475.0,2425.0,2375.0,2325.0,2400.0,2425.0,2400.0,2375.0,2475.0,2475.0,2425.0,2500.0,2475.0,2500.0,2450.0,2475.0,2425.0,2375.0,2375.0,2400.0,2425.0,2400.0,2375.0,2350.0,2425.0,2400.0,2400.0,2400.0,2400.0,2375.0,2325.0,2300.0,2325.0,2300.0,2300.0,2300.0,2250.0,2300.0,2350.0,2350.0,2350.0,2350.0,2325.0,2300.0,2300.0,2300.0,2300.0,2300.0,2275.0,2250.0,2275.0,2275.0,2250.0,2250.0,2250.0,2250.0,2250.0,2250.0,2250.0,2275.0,2375.0,2350.0,2325.0,2325.0,2325.0,2300.0,2275.0,2250.0,2350.0,2400.0,2375.0,2350.0,2325.0,2375.0,2400.0,2400.0,2400.0,2475.0,2450.0,2450.0,2500.0,2475.0,2475.0,2475.0,2475.0,2400.0,2425.0,2450.0,2375.0,2350.0,2350.0,2375.0,2400.0,2400.0,2400.0,2400.0,2425.0,2475.0,2525.0,2550.0,2600.0,2575.0,2600.0,2600.0,2575.0,2525.0,2525.0,2575.0,2625.0,2600.0,2600.0,2575.0,2575.0,2550.0,2600.0,2600.0,2700.0,2700.0,2700.0,2675.0,2650.0,2675.0,2500.0,2350.0,2350.0,2450.0,2400.0,2375.0,2375.0,2450.0,2425.0,2350.0,2300.0,2300.0,2300.0,2175.0,2050.0,2125.0,2025.0,2100.0,2100.0,2050.0,2000.0,2025.0,2025.0,1990.0,2000.0,1970.0,1940.0,1930.0,1860.0,1720.0,1630.0,1650.0,1720.0,1750.0,1780.0,1690.0,1620.0,1580.0,1700.0,1760.0,1690.0,1790.0,1870.0,1920.0,1910.0,1960.0,1930.0,1990.0,1970.0,1930.0,1990.0,2000.0,2025.0,2125.0,2150.0,2125.0,2100.0,2075.0,2025.0,2075.0,2100.0,2100.0,2150.0,2075.0,2075.0,2100.0,2050.0,2025.0,2000.0,1990.0,1940.0,1920.0,1910.0,1930.0,1890.0,1920.0,1920.0,1960.0,1910.0,1970.0,1980.0,1970.0,2025.0,2000.0,1980.0,1960.0,1920.0,1900.0,1820.0,1840.0,1840.0,1790.0,1790.0,1780.0,1790.0,1790.0,1780.0,1770.0,1790.0,1770.0,1820.0,1830.0,1830.0,1800.0,1790.0,1820.0,1830.0,1810.0,1820.0,1800.0,1800.0,1820.0,1850.0,1850.0,1840.0,1850.0,1850.0,1860.0,1860.0,1840.0,1880.0,1960.0,1980.0,1980.0,2000.0,2025.0,2000.0,1990.0,1950.0,1950.0,1960.0,1940.0,1980.0,2000.0,1990.0,2000.0,2000.0,1960.0,1920.0,1900.0,1930.0,1920.0,1970.0,1970.0,1940.0,1920.0,1940.0,1920.0,1970.0,1970.0,1980.0,1980.0,1950.0,1940.0,1930.0,1930.0,1910.0,1930.0,1920.0,1930.0,1930.0,1930.0,1960.0,1960.0,1950.0,1920.0,1920.0,1910.0,1880.0,1860.0,1840.0,1840.0,1840.0,1860.0,1820.0,1800.0,1810.0,1830.0,1820.0,1820.0,1820.0,1860.0,1870.0,1870.0,1860.0,1850.0,1790.0,1790.0,1770.0,1770.0,1750.0,1740.0,1720.0,1660.0,1660.0,1720.0,1680.0,1670.0,1650.0,1620.0,1640.0,1600.0,1580.0,1490.0,1350.0,1260.0,1280.0,1340.0,1290.0,1310.0,1260.0,1260.0,1260.0,1260.0,1310.0,1340.0,1430.0,1470.0,1380.0,1370.0,1410.0,1430.0,1420.0,1460.0,1580.0,1580.0,1630.0,1620.0,1610.0,1560.0,1490.0,1440.0,1420.0,1410.0,1440.0,1440.0,1420.0,1440.0,1440.0,1390.0,1390.0,1360.0,1370.0,1440.0,1480.0,1470.0,1520.0,1530.0,1530.0,1610.0,1600.0,1580.0,1540.0,1570.0,1580.0,1560.0,1570.0,1570.0,1530.0,1430.0,1450.0,1430.0,1420.0,1380.0,1390.0,1410.0,1410.0,1390.0,1380.0,1400.0,1430.0,1450.0,1500.0,1540.0,1600.0,1610.0,1600.0,1580.0,1560.0,1550.0,1530.0,1510.0,1510.0,1510.0,1510.0,1490.0,1490.0,1480.0,1460.0,1490.0,1470.0,1460.0,1450.0,1440.0,1430.0,1410.0,1410.0,1420.0,1420.0,1400.0,1410.0,1430.0,1450.0,1410.0,1400.0,1390.0,1380.0,1370.0,1380.0,1380.0,1400.0,1410.0,1390.0,1410.0,1430.0,1420.0,1430.0,1430.0,1410.0,1390.0,1390.0,1370.0,1370.0,1370.0,1390.0,1380.0,1370.0,1340.0,1340.0,1370.0,1390.0,1400.0,1390.0,1420.0,1470.0,1610.0,1610.0,1600.0,1600.0,1600.0,1590.0,1580.0,1600.0,1600.0,1600.0,1770.0,1770.0,1760.0,1760.0,1750.0,1760.0,1750.0,1750.0,1700.0,1720.0,1700.0,1710.0,1690.0,1700.0,1660.0,1650.0,1700.0,1730.0,1700.0,1700.0,1680.0,1680.0,1680.0,1610.0,1610.0,1600.0,1580.0,1590.0,1590.0,1610.0,1640.0,1650.0,1640.0,1630.0,1610.0,1600.0,1580.0,1600.0,1590.0,1610.0,1620.0,1580.0,1560.0,1530.0,1550.0,1570.0,1550.0,1550.0,1550.0,1530.0,1540.0,1540.0,1500.0,1460.0,1400.0,1370.0,1320.0,1300.0,1320.0,1310.0,1310.0,1340.0,1370.0,1330.0,1310.0,1290.0,1290.0,1300.0,1300.0,1300.0,1290.0,1270.0,1280.0,1280.0,1280.0,1270.0,1260.0,1250.0,1250.0,1250.0,1240.0,1240.0,1210.0,1210.0,1220.0,1210.0,1220.0,1220.0,1240.0,1200.0,1170.0,1150.0,1100.0,1110.0,1140.0,1130.0,1130.0,1110.0,1090.0,1080.0,1050.0,1030.0,970.0,960.0,930.0,930.0,910.0,910.0,880.0,890.0,850.0,840.0,890.0,880.0,870.0,870.0,810.0,840.0,830.0,810.0,820.0,830.0,860.0,860.0,840.0,810.0,810.0,790.0,780.0,770.0,760.0,750.0,720.0,710.0,710.0,720.0,740.0,720.0,710.0,720.0,720.0,730.0,720.0,710.0,710.0,720.0,700.0,690.0,800.0,820.0,790.0,790.0,820.0,790.0,720.0,740.0,850.0,870.0,890.0,880.0,880.0,920.0,940.0,980.0,1000.0,1000.0,990.0,990.0,1030.0,1030.0,950.0,980.0,970.0,960.0,960.0,960.0,980.0,970.0,960.0,970.0,930.0,950.0,940.0,900.0,900.0,930.0,950.0,950.0,920.0,920.0,1000.0,1020.0,1010.0,990.0,1060.0,1130.0,1130.0,1100.0,1090.0,1080.0,1090.0,1060.0,1040.0,1050.0,1040.0,1060.0,1070.0,1070.0,1100.0,1160.0,1210.0,1190.0,1170.0,1200.0,1200.0,1240.0,1230.0,1200.0,1170.0,1180.0,1230.0,1230.0,1170.0,1150.0,1160.0,1170.0,1160.0,1180.0,1200.0,1190.0,1200.0,1250.0,1250.0,1210.0,1190.0,1160.0,1140.0,1170.0,1170.0,1150.0,1130.0,1140.0,1130.0,1090.0,1110.0,1060.0,1010.0,945.0,940.0,970.0,965.0,960.0,990.0,985.0,985.0,990.0,1005.0,1025.0,1050.0,1040.0,1015.0,975.0,965.0,960.0,965.0,905.0,920.0,910.0,925.0,920.0,950.0,955.0,950.0,945.0,980.0,980.0,965.0,975.0,990.0,980.0,975.0,950.0,965.0,995.0,990.0,1025.0,1040.0,1025.0,1035.0,1020.0,1010.0,960.0,985.0,985.0,990.0,1010.0,1005.0,1015.0,990.0,995.0,980.0,990.0,985.0,980.0,995.0,995.0,985.0,985.0,990.0,990.0,970.0,975.0,1010.0,1055.0,1030.0,995.0,990.0,990.0,1015.0,1070.0,1110.0,1105.0,1145.0,1135.0,1205.0,1195.0,1175.0,1200.0,1185.0,1150.0,1130.0,1205.0,1240.0,1250.0,1245.0,1280.0,1320.0,1300.0,1305.0,1315.0,1320.0,1305.0,1295.0,1280.0,1290.0,1285.0,1295.0,1335.0,1340.0,1310.0,1335.0,1310.0,1285.0,1290.0,1285.0,1305.0,1265.0,1245.0,1205.0,1170.0,1160.0,1200.0,1200.0,1195.0,1190.0,1200.0,1210.0,1200.0,1210.0,1210.0,1180.0,1200.0,1175.0,1135.0,1145.0,1170.0,1160.0,1120.0,1145.0,1135.0,1115.0,1155.0,1185.0,1235.0,1270.0,1255.0,1295.0,1270.0,1270.0,1285.0,1285.0,1320.0,1310.0,1325.0,1340.0,1340.0,1320.0,1290.0,1265.0,1280.0,1345.0,1345.0,1350.0,1325.0,1335.0,1370.0,1390.0,1385.0,1390.0,1380.0,1335.0,1305.0,1315.0,1305.0,1285.0,1320.0,1330.0,1300.0,1285.0,1280.0,1285.0,1285.0,1260.0,1205.0,1185.0,1185.0,1150.0,1135.0,1145.0,1175.0,1170.0,1170.0,1125.0,1080.0,1025.0,1020.0,980.0,980.0,1015.0,990.0,1035.0,1075.0,1060.0,1080.0,1045.0,1110.0,1120.0,1135.0,1150.0,1150.0,1140.0,1115.0,1100.0,1130.0,1110.0,1105.0,1035.0,1005.0,1020.0,1030.0,1045.0,1070.0,1085.0,1105.0,1110.0,1105.0,1110.0,1090.0,1080.0,1100.0,1115.0,1145.0,1145.0,1135.0,1105.0,1100.0,1075.0,1050.0,1025.0,1055.0,1075.0,1075.0,1090.0,1075.0,1065.0,1065.0,1065.0,1050.0,1050.0,1050.0,1025.0,1030.0,1015.0,1020.0,1015.0,1000.0,970.0,955.0,955.0,955.0,985.0,1010.0,1020.0,1030.0,1000.0,1005.0,1010.0,995.0,1000.0,1005.0,1010.0,1025.0,1005.0,1005.0,1000.0,1005.0,1005.0,995.0,1015.0,1015.0,1005.0,1005.0,1005.0,1000.0,980.0,975.0,970.0,965.0,1025.0,1035.0,1015.0,1015.0,1010.0,1000.0,995.0,975.0,980.0,980.0,965.0,960.0,965.0,970.0,970.0,980.0,995.0,985.0,970.0,955.0,965.0,970.0,965.0,985.0,990.0,990.0,985.0,980.0,980.0,980.0,970.0,965.0,980.0,980.0,965.0,975.0,975.0,980.0,985.0,975.0,930.0,945.0,900.0,875.0,870.0,885.0,875.0,875.0,915.0,940.0,940.0,925.0,915.0,895.0,900.0,895.0,890.0,885.0,915.0,905.0,910.0,900.0,885.0,925.0,925.0,900.0,900.0,875.0,850.0,845.0,845.0,820.0,800.0,810.0,805.0,810.0,815.0,805.0,795.0,790.0,785.0,785.0,775.0,770.0,775.0,770.0,760.0,745.0,705.0,665.0,655.0,645.0,625.0,605.0,600.0,600.0,595.0,575.0,600.0,615.0,600.0,595.0,595.0,600.0,610.0,600.0,595.0,580.0,580.0,505.0,505.0,505.0,500.0,500.0,491.0,495.0,480.0,585.0,580.0,590.0,650.0,635.0,620.0,615.0,630.0,620.0,595.0,585.0,595.0,570.0,565.0,585.0,580.0,590.0,590.0,610.0,610.0,615.0,595.0,585.0,590.0,540.0,540.0,545.0,530.0,540.0,570.0,630.0,625.0,710.0,705.0,695.0,665.0,675.0,660.0,695.0,695.0,655.0,675.0,680.0,675.0,660.0,660.0,620.0,615.0,645.0,660.0,655.0,645.0,640.0,635.0,645.0,645.0,610.0,575.0,575.0,580.0,605.0,605.0,595.0,580.0,585.0,595.0,585.0,565.0,560.0,550.0,535.0,540.0,530.0,515.0,490.0,498.0,494.0,482.0,482.0,510.0,530.0,515.0,505.0,510.0,505.0,520.0,520.0,530.0,515.0,510.0,510.0,500.0,499.0,499.0,490.0,488.0,471.0,469.0,452.0,463.0,466.0,462.0,520.0,530.0,493.0,495.0,520.0,540.0,535.0,580.0,580.0,630.0,655.0,625.0,595.0,615.0,610.0,620.0,620.0,630.0,645.0,620.0,600.0,615.0,605.0,605.0,600.0,610.0,670.0,690.0,675.0,685.0,745.0,795.0,800.0,735.0,735.0,755.0,760.0,715.0,720.0,705.0,685.0,680.0,670.0,670.0,670.0,665.0,690.0,685.0,695.0,715.0,705.0,715.0,695.0,730.0,760.0,760.0,770.0,745.0,735.0,745.0,735.0,730.0,725.0,720.0,715.0,685.0,700.0,700.0,695.0,695.0,710.0,705.0,685.0,685.0,685.0,680.0,690.0,705.0,710.0,710.0,710.0,725.0,770.0,825.0,845.0,915.0,930.0,945.0,935.0,875.0,895.0,875.0,865.0,850.0,850.0,865.0,870.0,865.0,855.0,840.0,865.0,885.0,875.0,895.0,940.0,980.0,1075.0,1070.0,1060.0,1040.0,1050.0,1065.0,1055.0,1060.0,1070.0,1090.0,1065.0,1070.0,1070.0,1045.0,1120.0,1190.0,1185.0,1155.0,1165.0,1200.0,1200.0,1145.0,1145.0,1150.0,1170.0,1175.0,1165.0,1130.0,1115.0,1090.0,1105.0,1115.0,1095.0,1135.0,1190.0,1190.0,1190.0,1220.0,1245.0,1250.0,1285.0,1275.0,1250.0,1150.0,1170.0,1195.0,1210.0,1195.0,1180.0,1230.0,1230.0,1215.0,1215.0,1215.0,1290.0,1270.0,1300.0,1345.0,1325.0,1370.0,1380.0,1400.0,1415.0,1410.0,1430.0,1425.0,1480.0,1520.0,1545.0,1540.0,1545.0,1540.0,1540.0,1595.0,1605.0,1585.0,1585.0,1650.0,1735.0,1710.0,1670.0,1710.0,1720.0,1645.0,1685.0,1695.0,1680.0,1650.0,1555.0,1555.0,1535.0,1540.0,1620.0,1680.0,1665.0,1675.0,1685.0,1700.0,1660.0,1620.0,1670.0,1735.0,1770.0,1720.0,1710.0,1700.0,1715.0,1710.0,1700.0,1710.0,1710.0,1710.0,1710.0,1695.0,1705.0,1685.0,1700.0,1705.0,1705.0,1695.0,1750.0,1735.0,1710.0,1705.0,1720.0,1705.0,1760.0,1750.0,1735.0,1725.0,1705.0,1740.0,1735.0,1745.0,1740.0,1740.0,1740.0,1750.0,1725.0,1730.0,1730.0,1750.0,1755.0,1750.0,1745.0,1740.0,1740.0,1730.0,1715.0,1725.0,1675.0,1645.0,1700.0,1705.0,1700.0,1725.0,1725.0,1715.0,1720.0,1705.0,1700.0,1690.0,1690.0,1705.0,1700.0,1710.0,1755.0,1695.0,1700.0,1645.0,1670.0,1665.0,1690.0,1705.0,1710.0,1730.0,1730.0,1750.0,1780.0,1800.0,1845.0,1830.0,1815.0,1835.0,1940.0,1940.0,1895.0,1920.0,1920.0,1890.0,1895.0,1890.0,1880.0,1870.0,1835.0,1885.0,1850.0,1850.0,1845.0,1850.0,1850.0,1795.0,1750.0,1660.0,1620.0,1630.0,1620.0,1565.0,1560.0,1515.0,1500.0,1470.0,1455.0,1535.0,1515.0,1490.0,1485.0,1500.0,1490.0,1475.0,1520.0,1520.0,1525.0,1550.0,1630.0,1625.0,1620.0,1610.0,1570.0,1600.0,1660.0,1660.0,1670.0,1610.0,1645.0,1635.0,1630.0,1580.0,1580.0,1580.0,1580.0,1580.0,1580.0,1635.0,1645.0,1630.0,1645.0,1640.0,1630.0,1625.0,1670.0,1675.0,1665.0,1700.0,1700.0,1805.0,1820.0,1830.0,1835.0,1830.0,1850.0,1815.0,1830.0,1825.0,1895.0,1920.0,1895.0,1895.0,1885.0,1870.0,1865.0,1855.0,1850.0,1870.0,1865.0,1885.0,1880.0,1900.0,1885.0,1875.0,1970.0,1995.0,1985.0,1965.0,1950.0,1890.0,1900.0,1825.0,1840.0,1885.0,1890.0,1890.0,1890.0,1920.0,1930.0,1865.0,1800.0,1775.0,1820.0,1875.0,1875.0,1860.0,1850.0,1815.0,1780.0,1685.0,1825.0,1830.0,1850.0,1820.0,1840.0,1860.0,1885.0,1915.0,1920.0,1915.0,1935.0,1915.0,1915.0,1905.0,1905.0,1895.0,1900.0,1860.0,1895.0,1910.0,1900.0,1880.0,1885.0,1875.0,1915.0,1925.0,1925.0,1900.0,1915.0,1885.0,1840.0,1845.0,1840.0,1835.0,1810.0,1760.0,1795.0,1785.0,1760.0,1760.0,1745.0,1745.0,1720.0,1715.0,1775.0,1785.0,1700.0,1810.0,1800.0,1795.0,1770.0,1755.0,1740.0,1810.0,1845.0,1815.0,1825.0,1815.0,1850.0,1845.0,1875.0,1890.0,1890.0,1890.0,1905.0,1905.0,1880.0,1860.0,1900.0,1890.0,1935.0,1990.0,2180.0,2240.0,2210.0,2220.0,2260.0,2260.0,2250.0,2230.0,2200.0,2230.0,2350.0,2440.0,2470.0,2480.0,2470.0,2650.0,2610.0,2560.0,2480.0,2530.0,2590.0,2530.0,2520.0,2480.0,2370.0,2370.0,2450.0,2490.0,2500.0,2470.0,2510.0,2520.0,2500.0,2490.0,2510.0,2480.0,2430.0,2450.0,2420.0,2390.0,2340.0,2370.0,2380.0,2210.0,2220.0,2240.0,2260.0,2160.0,2120.0,2080.0,2080.0,2090.0,2110.0,2070.0,2010.0,2050.0,2070.0,2070.0,2160.0,2130.0,2180.0,2130.0,2140.0,2080.0,2060.0,2090.0,2130.0,2210.0,2170.0,2150.0,2130.0,2130.0,2130.0,2100.0,2100.0,2290.0,2280.0,2200.0,2200.0,2200.0,1875.0,1835.0,1835.0,1760.0,1705.0,1715.0,1720.0,1715.0,1700.0,1755.0,1715.0,1730.0,1800.0,1910.0,1960.0,1980.0,1965.0,1935.0,1865.0,1875.0,1860.0,1820.0,1880.0,1930.0,1885.0,1975.0,2070.0,2060.0,2030.0,2030.0,1935.0,1935.0,1935.0,1935.0,1935.0,1935.0,1935.0,2000.0,2020.0,1990.0,1960.0,1895.0,1805.0,1750.0,1790.0,1820.0,1770.0,1780.0,1835.0,1845.0,1835.0,1880.0,1920.0,1930.0,1895.0,1860.0,1810.0,1865.0,1915.0,1875.0,1840.0,1840.0,1885.0,1910.0,1975.0,2130.0,2070.0,1990.0,1995.0,1960.0,1970.0,2030.0,2030.0,1995.0,1965.0,1900.0,1890.0,1860.0,1840.0,1780.0,1850.0,1880.0,1880.0,1950.0,1940.0,1935.0,1925.0,1915.0,1930.0,1880.0,1890.0,1860.0,1805.0,1735.0,1745.0,1780.0,1735.0,1780.0,1775.0,1760.0,1740.0,1765.0,1790.0,1825.0,1900.0,1875.0,1830.0,1865.0,1845.0,1850.0,1865.0,1900.0,1870.0,1860.0,1835.0,1820.0,1770.0,1780.0,1750.0,1735.0,1725.0,1750.0,1780.0,1750.0,1735.0,1745.0,1725.0,1705.0,1670.0,1730.0,1730.0,1675.0,1680.0,1650.0,1645.0,1610.0,1635.0,1645.0,1625.0,1605.0,1590.0,1540.0,1585.0,1575.0,1585.0,1550.0,1485.0,1470.0,1340.0,1315.0,1290.0,1285.0,1290.0,1305.0,1330.0,1330.0,1320.0,1345.0,1320.0,1310.0,1330.0,1320.0,1295.0,1290.0,1310.0,1295.0,1270.0,1260.0,1275.0,1260.0,1250.0,1250.0,1240.0,1260.0,1230.0,1215.0,1215.0,1225.0,1235.0,1390.0,1430.0,1415.0,1435.0,1415.0,1420.0,1415.0,1470.0,1495.0,1510.0,1495.0,1505.0,1460.0,1420.0,1405.0,1410.0,1430.0,1390.0,1375.0,1415.0,1400.0,1380.0,1360.0,1380.0,1380.0,1330.0,1305.0,1290.0,1300.0,1280.0,1245.0,1265.0,1310.0,1350.0,1420.0,1460.0,1430.0,1410.0,1395.0,1390.0,1345.0,1420.0,1455.0,1415.0,1360.0,1395.0,1470.0,1460.0,1450.0,1480.0,1460.0,1435.0,1450.0,1440.0,1450.0,1435.0,1405.0,1385.0,1380.0,1355.0,1365.0,1360.0,1345.0,1325.0,1320.0,1295.0,1285.0,1320.0,1305.0,1325.0,1315.0,1315.0,1315.0,1305.0,1330.0,1295.0,1295.0,1310.0,1315.0,1305.0,1295.0,1315.0,1340.0,1305.0,1360.0,1350.0,1325.0,1330.0,1310.0,1305.0,1275.0,1285.0,1250.0,1260.0,1235.0,1200.0,1215.0,1255.0,1250.0,1290.0,1290.0,1280.0,1285.0,1305.0,1270.0,1295.0,1295.0,1295.0,1295.0,1295.0,1295.0,1315.0,1295.0,1295.0,1280.0,1295.0,1245.0,1250.0,1280.0,1290.0,1280.0,1250.0,1335.0,1375.0,1400.0,1390.0,1455.0,1445.0,1415.0,1435.0,1470.0,1415.0,1385.0,1360.0,1365.0,1340.0,1295.0,1305.0,1295.0,1335.0,1315.0,1305.0,1295.0,1285.0,1270.0,1260.0,1255.0,1295.0,1285.0,1275.0,1220.0,1180.0,1100.0,1130.0,1130.0,1120.0,1110.0,1070.0,1070.0,1035.0,1095.0,1060.0,1055.0,1040.0,1145.0,1120.0,1155.0,1140.0,1120.0,1145.0,1160.0,1215.0,1250.0,1265.0,1345.0,1450.0,1440.0,1475.0,1485.0,1445.0,1460.0,1460.0,1420.0,1410.0,1400.0,1405.0,1370.0,1315.0,1320.0,1345.0,1335.0,1330.0,1310.0,1285.0,1285.0,1290.0,1285.0,1300.0,1275.0,1310.0,1325.0,1330.0,1365.0,1325.0,1350.0,1370.0,1375.0,1375.0,1385.0,1375.0,1375.0,1375.0,1335.0,1320.0,1310.0,1300.0,1370.0,1410.0,1390.0,1435.0,1435.0,1440.0,1435.0,1360.0,1350.0,1350.0,1335.0,1335.0,1345.0,1335.0,1335.0,1345.0,1300.0,1260.0,1315.0,1330.0,1400.0,1460.0,1465.0,1460.0,1490.0,1520.0,1505.0,1600.0,1715.0,1665.0,1655.0,1625.0,1605.0,1590.0,1620.0,1610.0,1590.0,1555.0],\"low\":[1500.0,1700.0,1640.0,1640.0,1660.0,1650.0,1610.0,1600.0,1620.0,1650.0,1680.0,1620.0,1590.0,1540.0,1540.0,1540.0,1560.0,1540.0,1510.0,1500.0,1510.0,1510.0,1490.0,1490.0,1530.0,1550.0,1520.0,1530.0,1530.0,1530.0,1530.0,1530.0,1500.0,1480.0,1470.0,1440.0,1450.0,1400.0,1340.0,1390.0,1380.0,1360.0,1240.0,1330.0,1300.0,1440.0,1510.0,1510.0,1500.0,1490.0,1430.0,1190.0,980.0,780.0,730.0,730.0,730.0,660.0,720.0,710.0,760.0,710.0,680.0,630.0,630.0,570.0,520.0,490.0,540.0,710.0,770.0,760.0,700.0,630.0,620.0,600.0,610.0,580.0,560.0,530.0,480.0,480.0,470.0,460.0,465.0,470.0,485.0,480.0,490.0,500.0,460.0,465.0,480.0,470.0,485.0,480.0,510.0,490.0,490.0,490.0,500.0,490.0,480.0,475.0,480.0,485.0,485.0,485.0,510.0,510.0,500.0,510.0,510.0,540.0,660.0,620.0,650.0,640.0,610.0,600.0,630.0,620.0,650.0,680.0,700.0,710.0,710.0,710.0,730.0,770.0,830.0,820.0,810.0,830.0,830.0,830.0,820.0,790.0,770.0,800.0,770.0,780.0,760.0,770.0,760.0,770.0,730.0,710.0,720.0,760.0,750.0,760.0,770.0,760.0,770.0,750.0,730.0,730.0,740.0,750.0,790.0,820.0,880.0,910.0,880.0,880.0,880.0,880.0,880.0,890.0,890.0,890.0,910.0,940.0,940.0,940.0,930.0,950.0,950.0,970.0,990.0,1000.0,980.0,1000.0,1010.0,1030.0,1080.0,1130.0,1120.0,1180.0,1170.0,1160.0,1110.0,1170.0,1100.0,1010.0,1000.0,1100.0,1110.0,1080.0,1260.0,1220.0,1240.0,1250.0,1300.0,1340.0,1360.0,1260.0,1270.0,1310.0,1280.0,1270.0,1300.0,1290.0,1290.0,1260.0,1210.0,1220.0,1170.0,1150.0,1170.0,1050.0,1070.0,1170.0,1220.0,1200.0,1190.0,1180.0,1180.0,1150.0,1120.0,1130.0,1140.0,1130.0,1070.0,1100.0,1150.0,1140.0,1100.0,1170.0,1170.0,1180.0,1180.0,1220.0,1240.0,1200.0,1210.0,1260.0,1260.0,1300.0,1320.0,1360.0,1430.0,1460.0,1440.0,1350.0,1440.0,1430.0,1370.0,1310.0,1360.0,1360.0,1420.0,1380.0,1380.0,1340.0,1320.0,1360.0,1350.0,1320.0,1330.0,1330.0,1320.0,1310.0,1350.0,1360.0,1360.0,1340.0,1350.0,1360.0,1370.0,1380.0,1370.0,1380.0,1410.0,1400.0,1410.0,1390.0,1390.0,1420.0,1400.0,1390.0,1390.0,1370.0,1380.0,1400.0,1430.0,1440.0,1430.0,1500.0,1490.0,1510.0,1520.0,1580.0,1550.0,1480.0,1440.0,1530.0,1490.0,1510.0,1530.0,1520.0,1540.0,1530.0,1510.0,1510.0,1570.0,1600.0,1680.0,1680.0,1690.0,1670.0,1660.0,1680.0,1700.0,1710.0,1650.0,1670.0,1710.0,1720.0,1720.0,1730.0,1730.0,1700.0,1700.0,1720.0,1730.0,1720.0,1720.0,1710.0,1720.0,1650.0,1690.0,1690.0,1710.0,1720.0,1720.0,1730.0,1750.0,1790.0,1810.0,1840.0,1970.0,1920.0,1910.0,1970.0,1980.0,1950.0,1980.0,1960.0,1950.0,1900.0,1910.0,1860.0,1820.0,1860.0,1840.0,1830.0,1850.0,1870.0,1910.0,1840.0,1760.0,1780.0,1790.0,1780.0,1810.0,1810.0,1810.0,1840.0,1800.0,1780.0,1790.0,1790.0,1810.0,1820.0,1820.0,1820.0,1820.0,1830.0,1840.0,1860.0,1860.0,1860.0,1870.0,1870.0,1860.0,1880.0,1890.0,1880.0,1830.0,1820.0,1830.0,1860.0,1860.0,1870.0,1900.0,1890.0,1970.0,2025.0,2050.0,2100.0,2075.0,2100.0,2125.0,2100.0,2125.0,2150.0,2175.0,2125.0,2150.0,2175.0,2175.0,2175.0,2175.0,2150.0,2125.0,2125.0,2150.0,2125.0,2100.0,1970.0,1930.0,1900.0,1950.0,1990.0,2050.0,2075.0,2000.0,2025.0,1950.0,1900.0,1810.0,1790.0,1700.0,1760.0,1810.0,1920.0,1910.0,1880.0,1940.0,1910.0,1820.0,1830.0,1830.0,1850.0,1860.0,1870.0,1870.0,1900.0,1960.0,1970.0,2000.0,1990.0,1990.0,1990.0,1990.0,2025.0,1960.0,1930.0,1940.0,1980.0,1980.0,1980.0,1980.0,2000.0,2000.0,2000.0,2000.0,2025.0,2000.0,1990.0,1980.0,1990.0,1990.0,1990.0,2025.0,2025.0,2025.0,2025.0,2025.0,2000.0,2000.0,2000.0,2000.0,2025.0,2025.0,2100.0,2050.0,2050.0,2000.0,2025.0,2025.0,2025.0,2050.0,2050.0,2050.0,2025.0,2025.0,1990.0,1970.0,1960.0,1880.0,1840.0,1760.0,1810.0,1850.0,1900.0,1960.0,2000.0,2075.0,2025.0,1990.0,1950.0,1960.0,1980.0,2025.0,2025.0,2025.0,2000.0,2025.0,2025.0,2000.0,2050.0,2025.0,2025.0,2025.0,2025.0,2050.0,2075.0,2150.0,2150.0,2150.0,2100.0,2100.0,2125.0,2150.0,2175.0,2075.0,2100.0,2075.0,2100.0,2100.0,2125.0,2175.0,2225.0,2275.0,2350.0,2400.0,2400.0,2375.0,2350.0,2425.0,2400.0,2425.0,2450.0,2350.0,2325.0,2350.0,2300.0,2275.0,2300.0,2300.0,2375.0,2350.0,2400.0,2475.0,2575.0,2575.0,2550.0,2525.0,2500.0,2500.0,2250.0,2475.0,2500.0,2425.0,2450.0,2500.0,2500.0,2500.0,2500.0,2525.0,2675.0,2750.0,2725.0,2650.0,2500.0,2450.0,2500.0,2575.0,2550.0,2525.0,2550.0,2600.0,2425.0,2300.0,2300.0,2350.0,2375.0,2400.0,2325.0,2225.0,2275.0,2450.0,2425.0,2375.0,2350.0,2275.0,2250.0,2250.0,2375.0,2350.0,2325.0,2350.0,2425.0,2375.0,2375.0,2400.0,2425.0,2400.0,2400.0,2325.0,2325.0,2325.0,2350.0,2375.0,2350.0,2325.0,2275.0,2300.0,2325.0,2350.0,2325.0,2325.0,2275.0,2200.0,2225.0,2250.0,2250.0,2250.0,2225.0,2175.0,2200.0,2250.0,2300.0,2300.0,2275.0,2275.0,2275.0,2250.0,2250.0,2250.0,2225.0,2225.0,2200.0,2225.0,2225.0,2225.0,2200.0,2200.0,2200.0,2200.0,2200.0,2200.0,2225.0,2250.0,2275.0,2275.0,2275.0,2300.0,2250.0,2225.0,2200.0,2250.0,2350.0,2350.0,2300.0,2275.0,2300.0,2350.0,2350.0,2350.0,2375.0,2400.0,2375.0,2425.0,2425.0,2425.0,2425.0,2400.0,2350.0,2350.0,2375.0,2300.0,2250.0,2275.0,2325.0,2350.0,2350.0,2325.0,2350.0,2375.0,2425.0,2450.0,2500.0,2500.0,2525.0,2575.0,2550.0,2450.0,2450.0,2500.0,2500.0,2550.0,2525.0,2550.0,2525.0,2500.0,2475.0,2525.0,2550.0,2550.0,2650.0,2650.0,2625.0,2550.0,2550.0,2325.0,2275.0,2150.0,2250.0,2275.0,2300.0,2300.0,2350.0,2350.0,2225.0,2175.0,2200.0,2125.0,2050.0,1990.0,1990.0,1980.0,2025.0,2025.0,2000.0,1950.0,1960.0,1950.0,1930.0,1950.0,1930.0,1900.0,1890.0,1700.0,1560.0,1430.0,1570.0,1600.0,1660.0,1700.0,1610.0,1500.0,1510.0,1570.0,1610.0,1640.0,1720.0,1760.0,1850.0,1840.0,1930.0,1860.0,1920.0,1870.0,1890.0,1940.0,1960.0,1970.0,2025.0,2075.0,2025.0,1980.0,1930.0,1980.0,2025.0,2050.0,2075.0,2075.0,2025.0,2025.0,2025.0,1990.0,1990.0,1980.0,1950.0,1850.0,1860.0,1870.0,1890.0,1830.0,1880.0,1880.0,1890.0,1910.0,1930.0,1950.0,1940.0,1970.0,1980.0,1920.0,1920.0,1870.0,1840.0,1790.0,1820.0,1840.0,1730.0,1750.0,1740.0,1760.0,1760.0,1750.0,1740.0,1760.0,1750.0,1770.0,1810.0,1780.0,1760.0,1760.0,1770.0,1790.0,1790.0,1790.0,1760.0,1780.0,1790.0,1820.0,1800.0,1820.0,1830.0,1830.0,1830.0,1820.0,1810.0,1790.0,1870.0,1920.0,1930.0,1940.0,1950.0,1970.0,1910.0,1920.0,1900.0,1920.0,1910.0,1930.0,1960.0,1970.0,1960.0,1960.0,1900.0,1870.0,1870.0,1890.0,1900.0,1920.0,1930.0,1920.0,1900.0,1920.0,1900.0,1940.0,1940.0,1960.0,1920.0,1910.0,1910.0,1900.0,1870.0,1870.0,1880.0,1870.0,1890.0,1910.0,1910.0,1930.0,1960.0,1900.0,1890.0,1890.0,1880.0,1820.0,1800.0,1820.0,1810.0,1800.0,1810.0,1790.0,1770.0,1780.0,1790.0,1790.0,1800.0,1800.0,1830.0,1840.0,1840.0,1830.0,1800.0,1760.0,1760.0,1740.0,1750.0,1730.0,1710.0,1670.0,1610.0,1620.0,1660.0,1630.0,1630.0,1600.0,1580.0,1580.0,1570.0,1460.0,1360.0,1180.0,1210.0,1220.0,1280.0,1260.0,1240.0,1220.0,1220.0,1200.0,1190.0,1260.0,1270.0,1340.0,1400.0,1340.0,1320.0,1310.0,1370.0,1350.0,1380.0,1470.0,1530.0,1570.0,1580.0,1570.0,1460.0,1410.0,1410.0,1350.0,1360.0,1400.0,1410.0,1380.0,1410.0,1410.0,1350.0,1350.0,1320.0,1340.0,1380.0,1430.0,1440.0,1450.0,1490.0,1490.0,1540.0,1520.0,1490.0,1500.0,1530.0,1510.0,1510.0,1530.0,1500.0,1440.0,1400.0,1410.0,1390.0,1350.0,1340.0,1330.0,1370.0,1380.0,1350.0,1360.0,1370.0,1400.0,1410.0,1450.0,1490.0,1540.0,1580.0,1530.0,1530.0,1510.0,1480.0,1470.0,1460.0,1450.0,1480.0,1480.0,1470.0,1470.0,1450.0,1420.0,1440.0,1420.0,1430.0,1420.0,1410.0,1400.0,1390.0,1390.0,1390.0,1390.0,1350.0,1340.0,1400.0,1390.0,1390.0,1370.0,1370.0,1350.0,1330.0,1360.0,1340.0,1350.0,1370.0,1360.0,1370.0,1400.0,1400.0,1410.0,1380.0,1370.0,1360.0,1360.0,1340.0,1350.0,1350.0,1330.0,1340.0,1320.0,1320.0,1320.0,1340.0,1360.0,1370.0,1370.0,1390.0,1410.0,1450.0,1570.0,1570.0,1570.0,1570.0,1540.0,1530.0,1540.0,1570.0,1560.0,1590.0,1720.0,1720.0,1730.0,1700.0,1710.0,1730.0,1650.0,1620.0,1670.0,1660.0,1660.0,1670.0,1620.0,1610.0,1610.0,1640.0,1670.0,1660.0,1670.0,1630.0,1630.0,1610.0,1550.0,1580.0,1560.0,1560.0,1570.0,1570.0,1580.0,1610.0,1600.0,1610.0,1560.0,1580.0,1570.0,1550.0,1560.0,1550.0,1570.0,1570.0,1560.0,1560.0,1500.0,1510.0,1520.0,1530.0,1520.0,1500.0,1480.0,1490.0,1490.0,1450.0,1390.0,1330.0,1250.0,1260.0,1260.0,1280.0,1290.0,1290.0,1300.0,1310.0,1290.0,1280.0,1270.0,1260.0,1270.0,1280.0,1280.0,1270.0,1250.0,1260.0,1260.0,1250.0,1230.0,1210.0,1220.0,1220.0,1230.0,1210.0,1190.0,1190.0,1180.0,1190.0,1190.0,1200.0,1200.0,1190.0,1160.0,1120.0,1090.0,1030.0,1040.0,1100.0,1080.0,1090.0,1060.0,1060.0,1020.0,1020.0,990.0,940.0,920.0,880.0,880.0,880.0,840.0,840.0,810.0,800.0,810.0,840.0,840.0,850.0,810.0,770.0,750.0,770.0,760.0,770.0,790.0,800.0,820.0,790.0,760.0,770.0,770.0,760.0,740.0,720.0,690.0,690.0,680.0,680.0,670.0,700.0,700.0,690.0,700.0,700.0,700.0,700.0,690.0,690.0,690.0,660.0,640.0,660.0,750.0,750.0,760.0,760.0,730.0,660.0,710.0,690.0,820.0,850.0,820.0,820.0,860.0,890.0,910.0,960.0,950.0,940.0,960.0,990.0,870.0,880.0,940.0,930.0,940.0,920.0,940.0,950.0,940.0,930.0,910.0,900.0,910.0,910.0,890.0,890.0,900.0,900.0,900.0,890.0,900.0,900.0,980.0,980.0,960.0,970.0,1040.0,1050.0,1050.0,1050.0,1050.0,1010.0,1030.0,1010.0,1000.0,1010.0,1010.0,1040.0,1030.0,1040.0,1070.0,1140.0,1140.0,1120.0,1150.0,1160.0,1180.0,1160.0,1140.0,1140.0,1140.0,1170.0,1140.0,1110.0,1090.0,1100.0,1120.0,1120.0,1090.0,1140.0,1160.0,1170.0,1190.0,1210.0,1170.0,1150.0,1100.0,1110.0,1110.0,1130.0,1110.0,1100.0,1100.0,1070.0,1040.0,1060.0,1000.0,905.0,870.0,880.0,935.0,930.0,935.0,930.0,955.0,970.0,970.0,980.0,980.0,1020.0,1010.0,960.0,930.0,940.0,930.0,910.0,880.0,900.0,900.0,905.0,905.0,910.0,935.0,930.0,930.0,935.0,950.0,950.0,950.0,970.0,960.0,940.0,930.0,935.0,950.0,970.0,970.0,1005.0,1000.0,1010.0,995.0,960.0,945.0,950.0,955.0,965.0,975.0,980.0,960.0,945.0,975.0,965.0,975.0,970.0,970.0,980.0,970.0,970.0,970.0,970.0,965.0,970.0,930.0,940.0,1010.0,970.0,975.0,975.0,975.0,975.0,1010.0,1060.0,1090.0,1085.0,1110.0,1150.0,1135.0,1125.0,1165.0,1135.0,1100.0,1105.0,1120.0,1190.0,1210.0,1220.0,1240.0,1255.0,1255.0,1270.0,1290.0,1300.0,1270.0,1225.0,1185.0,1245.0,1265.0,1270.0,1285.0,1265.0,1280.0,1300.0,1270.0,1250.0,1225.0,1235.0,1255.0,1230.0,1185.0,1155.0,1130.0,1135.0,1155.0,1170.0,1165.0,1160.0,1160.0,1180.0,1180.0,1180.0,1180.0,1180.0,1170.0,1105.0,1090.0,1105.0,1135.0,1100.0,1090.0,1120.0,1080.0,1095.0,1105.0,1140.0,1170.0,1230.0,1230.0,1250.0,1250.0,1250.0,1255.0,1270.0,1285.0,1285.0,1300.0,1315.0,1315.0,1265.0,1250.0,1225.0,1225.0,1270.0,1315.0,1295.0,1300.0,1300.0,1330.0,1360.0,1345.0,1345.0,1325.0,1285.0,1250.0,1255.0,1265.0,1255.0,1275.0,1285.0,1260.0,1250.0,1255.0,1260.0,1265.0,1195.0,1155.0,1150.0,1160.0,1105.0,1090.0,1090.0,1135.0,1105.0,1140.0,1085.0,1005.0,990.0,940.0,920.0,955.0,960.0,965.0,980.0,1025.0,1030.0,1035.0,1015.0,1040.0,1080.0,1090.0,1130.0,1130.0,1090.0,1080.0,1075.0,1085.0,1090.0,1015.0,990.0,980.0,1000.0,980.0,1015.0,1025.0,1060.0,1080.0,1060.0,1080.0,1090.0,1075.0,1055.0,1070.0,1085.0,1095.0,1120.0,1090.0,1080.0,1060.0,1040.0,1025.0,995.0,995.0,1050.0,1055.0,1050.0,1050.0,1050.0,1055.0,1040.0,1030.0,1035.0,1015.0,1005.0,1000.0,980.0,990.0,995.0,960.0,945.0,930.0,925.0,940.0,935.0,970.0,1000.0,985.0,975.0,985.0,995.0,980.0,980.0,985.0,990.0,995.0,995.0,985.0,975.0,980.0,980.0,980.0,990.0,990.0,990.0,995.0,985.0,975.0,955.0,950.0,940.0,940.0,965.0,1015.0,985.0,990.0,985.0,975.0,980.0,955.0,955.0,960.0,945.0,950.0,945.0,960.0,950.0,960.0,975.0,960.0,935.0,935.0,950.0,950.0,950.0,960.0,975.0,975.0,965.0,965.0,960.0,955.0,950.0,950.0,965.0,960.0,950.0,950.0,960.0,965.0,955.0,920.0,910.0,865.0,835.0,835.0,840.0,860.0,850.0,850.0,865.0,900.0,910.0,900.0,870.0,880.0,880.0,880.0,880.0,875.0,875.0,880.0,890.0,860.0,865.0,900.0,890.0,880.0,865.0,830.0,830.0,810.0,830.0,755.0,765.0,790.0,775.0,780.0,790.0,780.0,780.0,775.0,770.0,760.0,760.0,755.0,750.0,755.0,735.0,695.0,655.0,605.0,620.0,610.0,580.0,585.0,560.0,575.0,555.0,550.0,550.0,575.0,580.0,580.0,560.0,565.0,585.0,590.0,575.0,560.0,520.0,471.0,489.0,490.0,484.0,484.0,480.0,472.0,467.0,468.0,520.0,545.0,600.0,590.0,575.0,555.0,610.0,570.0,555.0,555.0,575.0,540.0,545.0,565.0,560.0,565.0,575.0,580.0,585.0,590.0,570.0,565.0,550.0,510.0,515.0,515.0,515.0,525.0,540.0,570.0,590.0,635.0,680.0,635.0,620.0,620.0,635.0,640.0,645.0,630.0,645.0,660.0,650.0,645.0,605.0,585.0,590.0,620.0,645.0,625.0,620.0,615.0,610.0,605.0,610.0,580.0,555.0,555.0,555.0,585.0,585.0,570.0,560.0,565.0,580.0,565.0,525.0,540.0,530.0,525.0,520.0,510.0,490.0,490.0,472.0,475.0,475.0,441.0,458.0,498.0,490.0,494.0,497.0,500.0,500.0,500.0,515.0,494.0,495.0,495.0,485.0,490.0,486.0,481.0,473.0,450.0,449.0,439.0,451.0,437.0,441.0,456.0,497.0,476.0,475.0,490.0,510.0,500.0,500.0,535.0,570.0,620.0,580.0,565.0,575.0,585.0,580.0,590.0,610.0,595.0,580.0,580.0,595.0,585.0,570.0,575.0,595.0,610.0,655.0,645.0,660.0,685.0,755.0,760.0,700.0,700.0,735.0,680.0,680.0,690.0,690.0,645.0,655.0,650.0,650.0,640.0,645.0,655.0,670.0,665.0,690.0,680.0,695.0,695.0,700.0,725.0,735.0,740.0,710.0,710.0,715.0,715.0,695.0,705.0,695.0,675.0,655.0,660.0,685.0,670.0,665.0,680.0,680.0,675.0,670.0,670.0,655.0,670.0,675.0,690.0,695.0,690.0,705.0,720.0,760.0,815.0,830.0,870.0,870.0,880.0,855.0,845.0,830.0,840.0,800.0,815.0,840.0,845.0,840.0,805.0,820.0,830.0,845.0,850.0,860.0,900.0,915.0,990.0,1030.0,995.0,1005.0,1015.0,1020.0,1035.0,1040.0,1030.0,1060.0,1025.0,1035.0,1000.0,1015.0,1055.0,1105.0,1110.0,1120.0,1140.0,1155.0,1140.0,1085.0,1110.0,1105.0,1110.0,1150.0,1100.0,1100.0,1065.0,1055.0,1055.0,1065.0,1050.0,1070.0,1140.0,1135.0,1160.0,1180.0,1215.0,1205.0,1215.0,1230.0,1150.0,1105.0,1115.0,1155.0,1180.0,1165.0,1160.0,1185.0,1190.0,1190.0,1185.0,1175.0,1230.0,1205.0,1250.0,1305.0,1280.0,1315.0,1335.0,1345.0,1375.0,1385.0,1405.0,1390.0,1435.0,1440.0,1485.0,1505.0,1450.0,1495.0,1520.0,1545.0,1535.0,1555.0,1555.0,1605.0,1645.0,1630.0,1580.0,1675.0,1610.0,1475.0,1610.0,1550.0,1605.0,1465.0,1490.0,1500.0,1480.0,1480.0,1550.0,1595.0,1620.0,1635.0,1645.0,1630.0,1530.0,1580.0,1615.0,1665.0,1720.0,1660.0,1620.0,1665.0,1675.0,1685.0,1665.0,1660.0,1675.0,1665.0,1670.0,1650.0,1655.0,1665.0,1675.0,1680.0,1660.0,1695.0,1685.0,1690.0,1660.0,1655.0,1685.0,1680.0,1700.0,1715.0,1685.0,1700.0,1680.0,1715.0,1715.0,1715.0,1720.0,1725.0,1725.0,1700.0,1700.0,1705.0,1695.0,1705.0,1725.0,1720.0,1730.0,1730.0,1705.0,1705.0,1685.0,1670.0,1615.0,1645.0,1660.0,1660.0,1670.0,1700.0,1665.0,1685.0,1690.0,1695.0,1675.0,1665.0,1675.0,1665.0,1680.0,1675.0,1690.0,1670.0,1590.0,1565.0,1640.0,1630.0,1660.0,1675.0,1675.0,1695.0,1690.0,1720.0,1745.0,1780.0,1800.0,1800.0,1750.0,1775.0,1855.0,1870.0,1840.0,1865.0,1870.0,1850.0,1855.0,1860.0,1850.0,1830.0,1835.0,1835.0,1815.0,1820.0,1785.0,1820.0,1770.0,1720.0,1625.0,1610.0,1560.0,1575.0,1510.0,1460.0,1475.0,1440.0,1460.0,1410.0,1395.0,1430.0,1415.0,1445.0,1450.0,1460.0,1465.0,1455.0,1445.0,1520.0,1465.0,1490.0,1545.0,1590.0,1575.0,1555.0,1540.0,1540.0,1590.0,1635.0,1585.0,1555.0,1580.0,1595.0,1575.0,1580.0,1580.0,1580.0,1580.0,1580.0,1580.0,1565.0,1575.0,1600.0,1615.0,1610.0,1585.0,1595.0,1600.0,1615.0,1630.0,1660.0,1685.0,1700.0,1750.0,1795.0,1775.0,1790.0,1800.0,1760.0,1790.0,1785.0,1825.0,1840.0,1840.0,1830.0,1830.0,1845.0,1805.0,1815.0,1820.0,1825.0,1850.0,1840.0,1880.0,1850.0,1850.0,1850.0,1865.0,1945.0,1935.0,1885.0,1850.0,1870.0,1825.0,1825.0,1785.0,1785.0,1865.0,1840.0,1860.0,1875.0,1860.0,1680.0,1720.0,1700.0,1750.0,1805.0,1835.0,1860.0,1815.0,1755.0,1710.0,1630.0,1665.0,1730.0,1765.0,1745.0,1810.0,1830.0,1830.0,1850.0,1860.0,1860.0,1895.0,1865.0,1855.0,1880.0,1865.0,1860.0,1790.0,1830.0,1855.0,1870.0,1825.0,1835.0,1835.0,1825.0,1850.0,1885.0,1895.0,1870.0,1895.0,1815.0,1800.0,1810.0,1810.0,1810.0,1735.0,1695.0,1765.0,1750.0,1715.0,1720.0,1725.0,1690.0,1685.0,1680.0,1720.0,1700.0,1700.0,1730.0,1750.0,1755.0,1700.0,1700.0,1695.0,1715.0,1810.0,1785.0,1790.0,1790.0,1800.0,1795.0,1815.0,1855.0,1890.0,1890.0,1890.0,1870.0,1845.0,1860.0,1865.0,1810.0,1850.0,1935.0,1975.0,2140.0,2150.0,2140.0,2190.0,2210.0,2150.0,2130.0,2150.0,2160.0,2210.0,2350.0,2380.0,2420.0,2410.0,2440.0,2460.0,2450.0,2360.0,2320.0,2390.0,2420.0,2390.0,2390.0,2300.0,2330.0,2370.0,2410.0,2460.0,2470.0,2450.0,2410.0,2430.0,2430.0,2460.0,2370.0,2350.0,2350.0,2370.0,2290.0,2300.0,2300.0,2150.0,1995.0,2110.0,2170.0,2130.0,2060.0,2020.0,2000.0,2020.0,2000.0,2030.0,2000.0,1945.0,1990.0,2030.0,2020.0,2030.0,2130.0,2110.0,2080.0,2030.0,2010.0,2000.0,2020.0,2050.0,2110.0,2110.0,2110.0,2130.0,2130.0,2080.0,2100.0,2100.0,2210.0,2180.0,2200.0,2200.0,2200.0,1835.0,1835.0,1770.0,1595.0,1625.0,1605.0,1615.0,1575.0,1700.0,1700.0,1640.0,1650.0,1665.0,1815.0,1865.0,1880.0,1905.0,1825.0,1800.0,1830.0,1795.0,1820.0,1815.0,1870.0,1885.0,1915.0,1990.0,1985.0,1980.0,1935.0,1935.0,1935.0,1935.0,1935.0,1935.0,1935.0,1935.0,1830.0,1965.0,1905.0,1865.0,1755.0,1705.0,1650.0,1665.0,1735.0,1690.0,1690.0,1745.0,1775.0,1795.0,1830.0,1820.0,1865.0,1825.0,1780.0,1755.0,1780.0,1860.0,1825.0,1800.0,1795.0,1810.0,1845.0,1840.0,2030.0,1880.0,1900.0,1925.0,1930.0,1950.0,1965.0,1980.0,1925.0,1900.0,1810.0,1800.0,1780.0,1780.0,1780.0,1800.0,1845.0,1880.0,1865.0,1890.0,1860.0,1885.0,1885.0,1895.0,1840.0,1840.0,1800.0,1700.0,1675.0,1720.0,1705.0,1735.0,1745.0,1725.0,1720.0,1690.0,1700.0,1725.0,1730.0,1795.0,1815.0,1805.0,1805.0,1810.0,1820.0,1820.0,1830.0,1835.0,1810.0,1790.0,1750.0,1730.0,1730.0,1700.0,1705.0,1675.0,1685.0,1745.0,1710.0,1690.0,1695.0,1695.0,1655.0,1610.0,1665.0,1660.0,1640.0,1615.0,1630.0,1585.0,1565.0,1585.0,1585.0,1595.0,1580.0,1510.0,1490.0,1530.0,1530.0,1535.0,1485.0,1485.0,1300.0,1250.0,1280.0,1240.0,1220.0,1220.0,1270.0,1265.0,1300.0,1250.0,1270.0,1275.0,1295.0,1290.0,1285.0,1250.0,1255.0,1270.0,1260.0,1235.0,1230.0,1245.0,1235.0,1250.0,1250.0,1215.0,1235.0,1215.0,1215.0,1215.0,1215.0,1215.0,1220.0,1365.0,1360.0,1380.0,1370.0,1395.0,1385.0,1405.0,1455.0,1455.0,1475.0,1445.0,1375.0,1370.0,1380.0,1380.0,1380.0,1335.0,1340.0,1360.0,1365.0,1355.0,1360.0,1355.0,1335.0,1305.0,1255.0,1240.0,1260.0,1240.0,1215.0,1240.0,1270.0,1285.0,1330.0,1410.0,1380.0,1350.0,1360.0,1305.0,1310.0,1325.0,1385.0,1360.0,1360.0,1365.0,1365.0,1380.0,1390.0,1430.0,1430.0,1405.0,1410.0,1420.0,1415.0,1400.0,1335.0,1350.0,1335.0,1330.0,1340.0,1320.0,1310.0,1325.0,1265.0,1255.0,1250.0,1275.0,1275.0,1295.0,1295.0,1280.0,1280.0,1305.0,1290.0,1295.0,1260.0,1275.0,1300.0,1285.0,1280.0,1280.0,1300.0,1305.0,1315.0,1310.0,1290.0,1310.0,1295.0,1275.0,1250.0,1250.0,1220.0,1215.0,1160.0,1160.0,1170.0,1185.0,1210.0,1240.0,1260.0,1265.0,1260.0,1265.0,1270.0,1260.0,1295.0,1295.0,1295.0,1295.0,1295.0,1275.0,1265.0,1265.0,1265.0,1230.0,1215.0,1220.0,1250.0,1265.0,1225.0,1225.0,1230.0,1330.0,1340.0,1345.0,1350.0,1380.0,1360.0,1380.0,1415.0,1375.0,1320.0,1330.0,1330.0,1275.0,1265.0,1270.0,1265.0,1270.0,1285.0,1280.0,1265.0,1250.0,1250.0,1230.0,1220.0,1245.0,1260.0,1215.0,1165.0,1110.0,1040.0,1090.0,1100.0,1095.0,1060.0,1030.0,1035.0,1010.0,1010.0,1030.0,1025.0,1020.0,1045.0,1050.0,1090.0,1100.0,1100.0,1110.0,1105.0,1165.0,1205.0,1220.0,1275.0,1350.0,1355.0,1425.0,1430.0,1355.0,1400.0,1420.0,1380.0,1370.0,1355.0,1365.0,1275.0,1260.0,1285.0,1290.0,1280.0,1300.0,1270.0,1225.0,1255.0,1250.0,1240.0,1265.0,1255.0,1270.0,1270.0,1280.0,1300.0,1300.0,1310.0,1320.0,1345.0,1325.0,1345.0,1335.0,1345.0,1325.0,1300.0,1295.0,1250.0,1270.0,1290.0,1340.0,1325.0,1395.0,1385.0,1400.0,1330.0,1275.0,1300.0,1290.0,1300.0,1305.0,1310.0,1305.0,1300.0,1280.0,1245.0,1210.0,1225.0,1290.0,1290.0,1365.0,1405.0,1415.0,1405.0,1465.0,1465.0,1465.0,1590.0,1525.0,1595.0,1545.0,1505.0,1540.0,1570.0,1575.0,1555.0,1490.0],\"open\":[1500.0,1700.0,1640.0,1680.0,1670.0,1660.0,1630.0,1630.0,1670.0,1680.0,1690.0,1630.0,1590.0,1550.0,1540.0,1560.0,1600.0,1540.0,1510.0,1500.0,1520.0,1530.0,1490.0,1530.0,1530.0,1560.0,1540.0,1540.0,1530.0,1530.0,1540.0,1530.0,1510.0,1480.0,1490.0,1450.0,1450.0,1410.0,1410.0,1400.0,1390.0,1360.0,1320.0,1350.0,1430.0,1510.0,1510.0,1510.0,1510.0,1490.0,1440.0,1210.0,1000.0,810.0,730.0,730.0,730.0,740.0,740.0,790.0,760.0,730.0,690.0,690.0,630.0,570.0,520.0,570.0,680.0,810.0,810.0,770.0,700.0,660.0,620.0,640.0,640.0,580.0,560.0,530.0,520.0,500.0,490.0,480.0,470.0,480.0,530.0,500.0,490.0,510.0,470.0,470.0,495.0,475.0,490.0,520.0,530.0,500.0,490.0,500.0,510.0,500.0,480.0,485.0,485.0,490.0,485.0,520.0,520.0,520.0,500.0,510.0,550.0,660.0,680.0,660.0,670.0,650.0,630.0,640.0,640.0,640.0,690.0,690.0,720.0,740.0,730.0,730.0,770.0,820.0,870.0,830.0,850.0,860.0,850.0,840.0,830.0,800.0,820.0,810.0,790.0,800.0,780.0,780.0,770.0,770.0,730.0,720.0,760.0,760.0,750.0,770.0,770.0,770.0,770.0,750.0,740.0,740.0,740.0,780.0,820.0,890.0,890.0,940.0,890.0,880.0,890.0,890.0,890.0,910.0,900.0,900.0,950.0,970.0,970.0,950.0,960.0,980.0,970.0,1010.0,1000.0,1020.0,1000.0,1010.0,1020.0,1060.0,1140.0,1130.0,1160.0,1200.0,1180.0,1180.0,1170.0,1180.0,1100.0,1070.0,1080.0,1120.0,1130.0,1280.0,1310.0,1230.0,1280.0,1290.0,1340.0,1380.0,1370.0,1300.0,1340.0,1320.0,1290.0,1300.0,1310.0,1310.0,1300.0,1260.0,1260.0,1240.0,1180.0,1240.0,1180.0,1080.0,1180.0,1250.0,1240.0,1220.0,1200.0,1200.0,1210.0,1170.0,1130.0,1190.0,1150.0,1170.0,1100.0,1160.0,1180.0,1160.0,1150.0,1200.0,1180.0,1200.0,1210.0,1250.0,1270.0,1240.0,1260.0,1280.0,1280.0,1330.0,1360.0,1370.0,1450.0,1480.0,1460.0,1440.0,1460.0,1450.0,1420.0,1330.0,1410.0,1390.0,1440.0,1390.0,1390.0,1350.0,1350.0,1360.0,1360.0,1350.0,1350.0,1340.0,1330.0,1380.0,1360.0,1370.0,1370.0,1350.0,1350.0,1370.0,1390.0,1400.0,1400.0,1410.0,1420.0,1430.0,1420.0,1400.0,1420.0,1440.0,1410.0,1390.0,1400.0,1380.0,1390.0,1430.0,1450.0,1460.0,1530.0,1510.0,1560.0,1520.0,1620.0,1600.0,1570.0,1520.0,1540.0,1540.0,1580.0,1510.0,1560.0,1540.0,1540.0,1540.0,1510.0,1550.0,1620.0,1710.0,1710.0,1700.0,1700.0,1680.0,1700.0,1770.0,1710.0,1720.0,1670.0,1740.0,1740.0,1750.0,1730.0,1740.0,1750.0,1710.0,1740.0,1730.0,1750.0,1740.0,1730.0,1750.0,1720.0,1680.0,1710.0,1700.0,1710.0,1730.0,1730.0,1750.0,1790.0,1800.0,1840.0,1960.0,1980.0,1960.0,1960.0,2050.0,1990.0,1950.0,1990.0,1970.0,1960.0,1940.0,1940.0,1950.0,1840.0,1900.0,1890.0,1850.0,1860.0,1920.0,1930.0,1860.0,1840.0,1830.0,1790.0,1810.0,1840.0,1830.0,1860.0,1860.0,1810.0,1800.0,1810.0,1840.0,1860.0,1830.0,1840.0,1830.0,1840.0,1840.0,1850.0,1860.0,1870.0,1890.0,1890.0,1880.0,1870.0,1920.0,1900.0,1880.0,1840.0,1830.0,1880.0,1860.0,1870.0,1890.0,1910.0,1960.0,2025.0,2025.0,2100.0,2150.0,2100.0,2125.0,2150.0,2150.0,2150.0,2200.0,2225.0,2175.0,2200.0,2200.0,2250.0,2200.0,2200.0,2200.0,2150.0,2125.0,2200.0,2125.0,2125.0,1980.0,2000.0,1930.0,1970.0,2025.0,2100.0,2075.0,2050.0,2050.0,1950.0,1920.0,1840.0,1800.0,1720.0,1890.0,1910.0,2000.0,1920.0,1930.0,1950.0,1940.0,1840.0,1850.0,1860.0,1860.0,1870.0,1890.0,1880.0,1970.0,1980.0,1980.0,2075.0,2000.0,2025.0,1990.0,2025.0,2050.0,1970.0,1990.0,1970.0,1990.0,1990.0,2025.0,1990.0,2025.0,2050.0,2025.0,2025.0,2050.0,2025.0,2025.0,1990.0,2000.0,2025.0,2025.0,2050.0,2025.0,2025.0,2075.0,2050.0,2000.0,2050.0,2025.0,2025.0,2050.0,2125.0,2125.0,2100.0,2075.0,2050.0,2075.0,2050.0,2100.0,2100.0,2100.0,2075.0,2050.0,2050.0,2025.0,1990.0,1980.0,1900.0,1870.0,1790.0,1840.0,1920.0,1940.0,1970.0,2100.0,2150.0,2050.0,2025.0,1980.0,1980.0,2025.0,2075.0,2050.0,2050.0,2025.0,2050.0,2025.0,2050.0,2100.0,2050.0,2050.0,2075.0,2050.0,2100.0,2175.0,2225.0,2175.0,2175.0,2125.0,2125.0,2250.0,2175.0,2200.0,2100.0,2125.0,2100.0,2125.0,2125.0,2150.0,2225.0,2275.0,2350.0,2500.0,2400.0,2450.0,2400.0,2400.0,2475.0,2450.0,2450.0,2450.0,2425.0,2400.0,2350.0,2325.0,2300.0,2325.0,2375.0,2400.0,2375.0,2475.0,2625.0,2625.0,2600.0,2575.0,2550.0,2550.0,2525.0,2300.0,2500.0,2550.0,2475.0,2525.0,2525.0,2500.0,2525.0,2550.0,2675.0,2875.0,2850.0,2775.0,2700.0,2500.0,2475.0,2625.0,2625.0,2625.0,2575.0,2675.0,2650.0,2450.0,2350.0,2350.0,2475.0,2400.0,2425.0,2375.0,2250.0,2400.0,2500.0,2450.0,2400.0,2350.0,2300.0,2300.0,2375.0,2425.0,2375.0,2375.0,2425.0,2475.0,2375.0,2450.0,2450.0,2475.0,2450.0,2425.0,2350.0,2325.0,2375.0,2375.0,2400.0,2350.0,2325.0,2325.0,2400.0,2400.0,2375.0,2375.0,2375.0,2325.0,2225.0,2275.0,2275.0,2300.0,2275.0,2225.0,2200.0,2275.0,2350.0,2300.0,2350.0,2325.0,2300.0,2300.0,2275.0,2275.0,2250.0,2275.0,2225.0,2225.0,2250.0,2225.0,2250.0,2225.0,2200.0,2225.0,2200.0,2225.0,2225.0,2250.0,2325.0,2300.0,2325.0,2300.0,2325.0,2250.0,2275.0,2250.0,2350.0,2375.0,2375.0,2325.0,2325.0,2375.0,2375.0,2400.0,2375.0,2450.0,2425.0,2450.0,2475.0,2475.0,2450.0,2450.0,2400.0,2400.0,2425.0,2400.0,2350.0,2275.0,2300.0,2375.0,2375.0,2350.0,2375.0,2375.0,2400.0,2450.0,2500.0,2500.0,2525.0,2550.0,2600.0,2575.0,2475.0,2525.0,2500.0,2550.0,2600.0,2575.0,2575.0,2525.0,2525.0,2500.0,2575.0,2600.0,2675.0,2650.0,2675.0,2650.0,2600.0,2600.0,2375.0,2325.0,2175.0,2450.0,2325.0,2325.0,2350.0,2350.0,2400.0,2250.0,2225.0,2250.0,2125.0,2100.0,2025.0,1990.0,2025.0,2075.0,2050.0,2025.0,1970.0,1970.0,1960.0,1940.0,1980.0,1940.0,1920.0,1900.0,1710.0,1650.0,1520.0,1630.0,1690.0,1730.0,1720.0,1610.0,1530.0,1530.0,1680.0,1680.0,1670.0,1780.0,1860.0,1860.0,1900.0,1960.0,1880.0,1980.0,1900.0,1910.0,1950.0,2000.0,2000.0,2075.0,2125.0,2025.0,1990.0,2050.0,2000.0,2050.0,2075.0,2075.0,2150.0,2075.0,2050.0,2050.0,2000.0,2025.0,2000.0,1960.0,1880.0,1920.0,1910.0,1910.0,1870.0,1900.0,1900.0,1910.0,1910.0,1970.0,1970.0,1970.0,2000.0,1990.0,1920.0,1930.0,1880.0,1860.0,1820.0,1840.0,1840.0,1730.0,1760.0,1760.0,1770.0,1780.0,1770.0,1760.0,1770.0,1760.0,1810.0,1830.0,1790.0,1770.0,1780.0,1820.0,1810.0,1810.0,1810.0,1780.0,1800.0,1820.0,1830.0,1820.0,1830.0,1840.0,1840.0,1860.0,1820.0,1830.0,1870.0,1960.0,1920.0,1940.0,1980.0,2000.0,1980.0,1930.0,1950.0,1920.0,1950.0,1920.0,1980.0,1990.0,1990.0,2000.0,1960.0,1920.0,1890.0,1900.0,1920.0,1900.0,1970.0,1950.0,1930.0,1920.0,1930.0,1920.0,1950.0,1940.0,1970.0,1940.0,1920.0,1910.0,1920.0,1900.0,1900.0,1890.0,1890.0,1930.0,1920.0,1930.0,1960.0,1960.0,1910.0,1910.0,1900.0,1880.0,1830.0,1810.0,1830.0,1820.0,1810.0,1820.0,1810.0,1800.0,1800.0,1830.0,1820.0,1810.0,1810.0,1860.0,1870.0,1870.0,1840.0,1810.0,1770.0,1760.0,1760.0,1760.0,1730.0,1730.0,1680.0,1650.0,1650.0,1700.0,1650.0,1650.0,1620.0,1610.0,1610.0,1590.0,1470.0,1380.0,1200.0,1220.0,1270.0,1300.0,1260.0,1270.0,1230.0,1230.0,1210.0,1240.0,1270.0,1330.0,1420.0,1420.0,1370.0,1370.0,1330.0,1390.0,1400.0,1360.0,1560.0,1550.0,1620.0,1590.0,1570.0,1480.0,1440.0,1420.0,1370.0,1380.0,1420.0,1420.0,1410.0,1420.0,1420.0,1370.0,1360.0,1350.0,1360.0,1430.0,1440.0,1460.0,1510.0,1520.0,1520.0,1590.0,1550.0,1500.0,1540.0,1560.0,1520.0,1540.0,1570.0,1520.0,1450.0,1410.0,1430.0,1400.0,1360.0,1350.0,1370.0,1390.0,1380.0,1360.0,1360.0,1400.0,1430.0,1440.0,1500.0,1510.0,1590.0,1590.0,1550.0,1570.0,1530.0,1550.0,1480.0,1500.0,1490.0,1490.0,1500.0,1480.0,1480.0,1450.0,1430.0,1460.0,1440.0,1440.0,1440.0,1420.0,1410.0,1390.0,1400.0,1410.0,1390.0,1350.0,1400.0,1410.0,1390.0,1400.0,1390.0,1380.0,1370.0,1370.0,1370.0,1350.0,1390.0,1410.0,1390.0,1410.0,1420.0,1420.0,1430.0,1400.0,1390.0,1380.0,1370.0,1350.0,1350.0,1360.0,1390.0,1350.0,1340.0,1320.0,1340.0,1370.0,1370.0,1380.0,1390.0,1410.0,1460.0,1600.0,1570.0,1590.0,1590.0,1580.0,1560.0,1570.0,1600.0,1590.0,1590.0,1740.0,1750.0,1750.0,1730.0,1740.0,1730.0,1750.0,1660.0,1690.0,1690.0,1700.0,1670.0,1690.0,1650.0,1620.0,1630.0,1700.0,1670.0,1680.0,1680.0,1650.0,1640.0,1610.0,1570.0,1600.0,1570.0,1570.0,1570.0,1580.0,1600.0,1630.0,1630.0,1620.0,1590.0,1600.0,1580.0,1580.0,1600.0,1560.0,1600.0,1570.0,1560.0,1560.0,1500.0,1550.0,1530.0,1540.0,1540.0,1510.0,1510.0,1500.0,1540.0,1480.0,1460.0,1390.0,1350.0,1300.0,1270.0,1290.0,1310.0,1310.0,1300.0,1330.0,1310.0,1300.0,1280.0,1290.0,1270.0,1280.0,1280.0,1280.0,1270.0,1270.0,1260.0,1270.0,1270.0,1250.0,1240.0,1250.0,1240.0,1240.0,1240.0,1200.0,1190.0,1190.0,1190.0,1210.0,1210.0,1210.0,1200.0,1160.0,1090.0,1100.0,1060.0,1120.0,1120.0,1110.0,1110.0,1070.0,1080.0,1040.0,1030.0,970.0,950.0,930.0,890.0,910.0,840.0,860.0,820.0,810.0,840.0,850.0,840.0,850.0,810.0,800.0,760.0,770.0,800.0,780.0,820.0,810.0,850.0,830.0,810.0,770.0,780.0,780.0,770.0,750.0,720.0,700.0,700.0,700.0,690.0,710.0,710.0,710.0,710.0,710.0,720.0,710.0,700.0,700.0,710.0,700.0,690.0,660.0,780.0,790.0,760.0,780.0,790.0,720.0,710.0,720.0,850.0,850.0,850.0,830.0,880.0,920.0,920.0,970.0,970.0,960.0,980.0,990.0,1020.0,930.0,960.0,970.0,950.0,950.0,940.0,970.0,950.0,930.0,960.0,900.0,920.0,940.0,890.0,900.0,920.0,900.0,940.0,900.0,900.0,920.0,1000.0,1010.0,980.0,980.0,1050.0,1120.0,1060.0,1070.0,1060.0,1060.0,1060.0,1040.0,1020.0,1030.0,1010.0,1040.0,1070.0,1050.0,1070.0,1160.0,1170.0,1140.0,1150.0,1190.0,1180.0,1220.0,1190.0,1160.0,1170.0,1180.0,1220.0,1170.0,1140.0,1100.0,1120.0,1140.0,1100.0,1170.0,1180.0,1170.0,1200.0,1230.0,1200.0,1190.0,1160.0,1110.0,1130.0,1160.0,1150.0,1120.0,1110.0,1120.0,1080.0,1090.0,1050.0,1010.0,930.0,885.0,940.0,960.0,945.0,955.0,960.0,970.0,975.0,980.0,985.0,1035.0,1040.0,1010.0,965.0,945.0,940.0,960.0,895.0,920.0,905.0,915.0,915.0,910.0,955.0,940.0,945.0,945.0,975.0,955.0,950.0,985.0,970.0,975.0,930.0,935.0,960.0,980.0,975.0,1025.0,1015.0,1030.0,1005.0,995.0,955.0,950.0,970.0,975.0,980.0,980.0,1005.0,980.0,990.0,970.0,985.0,980.0,975.0,985.0,985.0,985.0,985.0,970.0,985.0,970.0,965.0,940.0,1020.0,1020.0,975.0,990.0,985.0,980.0,1015.0,1080.0,1095.0,1095.0,1130.0,1150.0,1190.0,1150.0,1170.0,1175.0,1135.0,1110.0,1120.0,1205.0,1230.0,1230.0,1275.0,1300.0,1285.0,1300.0,1305.0,1305.0,1290.0,1225.0,1270.0,1275.0,1280.0,1295.0,1320.0,1280.0,1300.0,1325.0,1270.0,1280.0,1225.0,1285.0,1265.0,1230.0,1185.0,1155.0,1135.0,1145.0,1200.0,1185.0,1175.0,1165.0,1200.0,1190.0,1190.0,1195.0,1180.0,1180.0,1180.0,1130.0,1105.0,1145.0,1150.0,1110.0,1115.0,1130.0,1095.0,1105.0,1155.0,1185.0,1235.0,1255.0,1255.0,1270.0,1255.0,1265.0,1265.0,1285.0,1295.0,1295.0,1320.0,1330.0,1320.0,1280.0,1255.0,1230.0,1270.0,1340.0,1315.0,1315.0,1320.0,1335.0,1370.0,1375.0,1355.0,1385.0,1330.0,1285.0,1285.0,1305.0,1275.0,1270.0,1320.0,1290.0,1265.0,1255.0,1270.0,1265.0,1275.0,1195.0,1165.0,1175.0,1160.0,1120.0,1105.0,1140.0,1140.0,1155.0,1140.0,1090.0,1010.0,1010.0,940.0,965.0,980.0,960.0,975.0,1030.0,1050.0,1055.0,1045.0,1030.0,1100.0,1100.0,1135.0,1150.0,1140.0,1100.0,1080.0,1095.0,1085.0,1090.0,1020.0,1000.0,1000.0,1000.0,1015.0,1030.0,1070.0,1075.0,1090.0,1095.0,1105.0,1100.0,1080.0,1080.0,1075.0,1090.0,1100.0,1140.0,1125.0,1085.0,1090.0,1055.0,1050.0,1005.0,1000.0,1055.0,1065.0,1080.0,1075.0,1060.0,1055.0,1050.0,1045.0,1045.0,1050.0,1005.0,1015.0,1010.0,995.0,1010.0,990.0,955.0,935.0,925.0,950.0,955.0,985.0,1015.0,1025.0,990.0,985.0,1000.0,990.0,995.0,1000.0,1005.0,1005.0,1000.0,1005.0,1000.0,985.0,990.0,980.0,995.0,1010.0,990.0,1000.0,995.0,1000.0,980.0,960.0,965.0,945.0,970.0,1025.0,1010.0,1005.0,1005.0,980.0,985.0,975.0,955.0,975.0,960.0,950.0,945.0,965.0,965.0,960.0,975.0,980.0,955.0,945.0,960.0,970.0,955.0,960.0,990.0,985.0,980.0,965.0,980.0,955.0,960.0,960.0,970.0,960.0,965.0,950.0,965.0,975.0,985.0,970.0,910.0,930.0,890.0,850.0,850.0,860.0,870.0,860.0,865.0,905.0,925.0,910.0,900.0,880.0,895.0,880.0,885.0,885.0,880.0,895.0,905.0,895.0,880.0,900.0,925.0,885.0,890.0,875.0,840.0,840.0,845.0,820.0,775.0,790.0,805.0,795.0,815.0,800.0,780.0,780.0,780.0,775.0,760.0,760.0,760.0,760.0,755.0,740.0,695.0,650.0,635.0,640.0,620.0,590.0,600.0,580.0,590.0,560.0,565.0,600.0,600.0,590.0,590.0,570.0,595.0,600.0,595.0,580.0,570.0,505.0,491.0,505.0,492.0,497.0,491.0,484.0,480.0,468.0,540.0,555.0,605.0,625.0,595.0,565.0,620.0,620.0,580.0,555.0,580.0,570.0,550.0,575.0,575.0,590.0,585.0,585.0,590.0,605.0,590.0,580.0,585.0,525.0,520.0,515.0,525.0,525.0,545.0,570.0,620.0,635.0,685.0,695.0,635.0,650.0,650.0,640.0,685.0,650.0,650.0,675.0,675.0,650.0,650.0,610.0,600.0,620.0,650.0,650.0,640.0,630.0,615.0,615.0,640.0,600.0,575.0,570.0,560.0,585.0,605.0,595.0,560.0,565.0,590.0,585.0,555.0,555.0,550.0,535.0,525.0,525.0,500.0,490.0,490.0,480.0,475.0,477.0,465.0,500.0,505.0,494.0,500.0,505.0,505.0,505.0,530.0,510.0,500.0,499.0,495.0,490.0,493.0,486.0,481.0,469.0,467.0,440.0,453.0,460.0,441.0,460.0,525.0,493.0,488.0,490.0,530.0,535.0,500.0,545.0,585.0,620.0,620.0,575.0,575.0,600.0,610.0,595.0,615.0,630.0,595.0,590.0,610.0,600.0,605.0,585.0,600.0,610.0,685.0,665.0,660.0,685.0,755.0,775.0,735.0,705.0,745.0,755.0,685.0,710.0,695.0,680.0,660.0,665.0,660.0,665.0,645.0,665.0,680.0,665.0,705.0,685.0,710.0,695.0,700.0,760.0,750.0,745.0,745.0,735.0,735.0,730.0,720.0,725.0,705.0,710.0,675.0,685.0,685.0,690.0,670.0,700.0,690.0,685.0,680.0,675.0,675.0,670.0,685.0,710.0,700.0,700.0,710.0,725.0,760.0,825.0,845.0,920.0,880.0,925.0,870.0,860.0,845.0,865.0,840.0,815.0,855.0,850.0,850.0,850.0,830.0,835.0,865.0,870.0,860.0,900.0,930.0,1025.0,1045.0,1045.0,1020.0,1030.0,1020.0,1050.0,1055.0,1045.0,1070.0,1065.0,1045.0,1055.0,1040.0,1055.0,1105.0,1110.0,1120.0,1150.0,1170.0,1200.0,1145.0,1130.0,1140.0,1120.0,1160.0,1150.0,1110.0,1115.0,1090.0,1060.0,1100.0,1080.0,1100.0,1145.0,1150.0,1175.0,1180.0,1230.0,1240.0,1245.0,1270.0,1250.0,1150.0,1120.0,1180.0,1180.0,1185.0,1175.0,1185.0,1210.0,1210.0,1215.0,1215.0,1230.0,1270.0,1250.0,1325.0,1305.0,1320.0,1365.0,1370.0,1400.0,1390.0,1415.0,1405.0,1435.0,1480.0,1485.0,1530.0,1510.0,1500.0,1540.0,1545.0,1590.0,1565.0,1560.0,1605.0,1650.0,1700.0,1605.0,1685.0,1700.0,1635.0,1610.0,1590.0,1650.0,1595.0,1490.0,1530.0,1500.0,1500.0,1555.0,1650.0,1635.0,1665.0,1660.0,1680.0,1660.0,1580.0,1620.0,1680.0,1745.0,1695.0,1710.0,1685.0,1700.0,1710.0,1680.0,1690.0,1685.0,1710.0,1710.0,1690.0,1680.0,1670.0,1695.0,1700.0,1660.0,1695.0,1690.0,1730.0,1695.0,1660.0,1700.0,1695.0,1720.0,1750.0,1730.0,1700.0,1680.0,1720.0,1730.0,1745.0,1735.0,1735.0,1740.0,1750.0,1700.0,1705.0,1695.0,1705.0,1750.0,1740.0,1740.0,1735.0,1740.0,1720.0,1715.0,1715.0,1670.0,1645.0,1660.0,1705.0,1680.0,1710.0,1720.0,1690.0,1720.0,1700.0,1700.0,1680.0,1680.0,1665.0,1685.0,1680.0,1750.0,1685.0,1700.0,1600.0,1650.0,1630.0,1670.0,1690.0,1675.0,1700.0,1700.0,1740.0,1750.0,1800.0,1800.0,1820.0,1800.0,1780.0,1855.0,1890.0,1885.0,1910.0,1910.0,1850.0,1880.0,1890.0,1880.0,1850.0,1835.0,1870.0,1820.0,1850.0,1825.0,1820.0,1840.0,1780.0,1725.0,1630.0,1615.0,1585.0,1610.0,1550.0,1510.0,1505.0,1495.0,1470.0,1400.0,1450.0,1500.0,1450.0,1455.0,1500.0,1485.0,1465.0,1470.0,1520.0,1500.0,1510.0,1550.0,1610.0,1620.0,1590.0,1565.0,1560.0,1615.0,1660.0,1645.0,1600.0,1585.0,1630.0,1600.0,1580.0,1580.0,1580.0,1580.0,1580.0,1580.0,1600.0,1635.0,1605.0,1630.0,1625.0,1600.0,1625.0,1600.0,1665.0,1640.0,1665.0,1700.0,1700.0,1765.0,1820.0,1790.0,1810.0,1830.0,1805.0,1800.0,1825.0,1825.0,1895.0,1895.0,1845.0,1870.0,1850.0,1860.0,1815.0,1845.0,1825.0,1850.0,1850.0,1880.0,1850.0,1875.0,1850.0,1875.0,1955.0,1970.0,1955.0,1930.0,1885.0,1870.0,1825.0,1840.0,1815.0,1865.0,1890.0,1860.0,1890.0,1920.0,1865.0,1740.0,1770.0,1775.0,1840.0,1870.0,1860.0,1830.0,1810.0,1760.0,1670.0,1680.0,1770.0,1835.0,1800.0,1820.0,1830.0,1850.0,1875.0,1900.0,1900.0,1905.0,1895.0,1900.0,1900.0,1900.0,1885.0,1850.0,1855.0,1855.0,1895.0,1900.0,1845.0,1860.0,1875.0,1860.0,1915.0,1915.0,1870.0,1900.0,1885.0,1820.0,1830.0,1815.0,1830.0,1810.0,1735.0,1770.0,1770.0,1755.0,1730.0,1745.0,1745.0,1720.0,1690.0,1725.0,1775.0,1700.0,1740.0,1775.0,1780.0,1755.0,1725.0,1735.0,1720.0,1820.0,1805.0,1805.0,1800.0,1800.0,1835.0,1815.0,1860.0,1890.0,1890.0,1895.0,1895.0,1865.0,1860.0,1865.0,1890.0,1860.0,1935.0,2000.0,2180.0,2200.0,2200.0,2200.0,2250.0,2230.0,2210.0,2200.0,2180.0,2210.0,2350.0,2440.0,2480.0,2460.0,2440.0,2600.0,2500.0,2460.0,2400.0,2430.0,2430.0,2500.0,2400.0,2300.0,2340.0,2370.0,2450.0,2480.0,2470.0,2460.0,2510.0,2430.0,2470.0,2480.0,2450.0,2390.0,2430.0,2370.0,2380.0,2310.0,2330.0,2360.0,2160.0,2200.0,2200.0,2220.0,2120.0,2050.0,2070.0,2060.0,2010.0,2090.0,2060.0,1980.0,1995.0,2050.0,2040.0,2070.0,2130.0,2150.0,2100.0,2140.0,2070.0,2030.0,2030.0,2090.0,2110.0,2140.0,2130.0,2130.0,2130.0,2130.0,2100.0,2100.0,2250.0,2280.0,2200.0,2200.0,2200.0,1840.0,1835.0,1835.0,1755.0,1680.0,1660.0,1710.0,1625.0,1700.0,1720.0,1700.0,1695.0,1705.0,1815.0,1895.0,1900.0,1950.0,1920.0,1825.0,1860.0,1800.0,1820.0,1820.0,1875.0,1885.0,1915.0,2000.0,2050.0,2000.0,2010.0,1935.0,1935.0,1935.0,1935.0,1935.0,1935.0,1935.0,1870.0,1990.0,1990.0,1930.0,1870.0,1770.0,1690.0,1675.0,1810.0,1760.0,1710.0,1770.0,1830.0,1810.0,1855.0,1835.0,1900.0,1885.0,1830.0,1800.0,1790.0,1890.0,1850.0,1805.0,1815.0,1820.0,1895.0,1850.0,2030.0,2070.0,1915.0,1990.0,1935.0,1950.0,1980.0,2000.0,1990.0,1940.0,1900.0,1825.0,1820.0,1830.0,1780.0,1800.0,1845.0,1880.0,1900.0,1940.0,1930.0,1910.0,1910.0,1920.0,1880.0,1890.0,1845.0,1800.0,1680.0,1725.0,1730.0,1735.0,1745.0,1770.0,1735.0,1735.0,1705.0,1780.0,1755.0,1820.0,1870.0,1825.0,1825.0,1815.0,1835.0,1830.0,1840.0,1845.0,1850.0,1800.0,1810.0,1760.0,1740.0,1720.0,1710.0,1715.0,1685.0,1780.0,1740.0,1710.0,1715.0,1720.0,1700.0,1630.0,1665.0,1730.0,1665.0,1665.0,1650.0,1645.0,1585.0,1590.0,1640.0,1620.0,1600.0,1575.0,1500.0,1535.0,1540.0,1555.0,1545.0,1485.0,1470.0,1330.0,1290.0,1285.0,1280.0,1220.0,1285.0,1290.0,1330.0,1305.0,1280.0,1275.0,1300.0,1300.0,1315.0,1290.0,1260.0,1280.0,1290.0,1270.0,1235.0,1245.0,1255.0,1250.0,1250.0,1240.0,1250.0,1230.0,1215.0,1215.0,1215.0,1225.0,1220.0,1410.0,1395.0,1425.0,1395.0,1405.0,1405.0,1420.0,1475.0,1480.0,1480.0,1495.0,1460.0,1410.0,1385.0,1380.0,1400.0,1390.0,1340.0,1365.0,1395.0,1370.0,1360.0,1370.0,1375.0,1330.0,1300.0,1275.0,1295.0,1265.0,1240.0,1240.0,1270.0,1305.0,1345.0,1420.0,1430.0,1405.0,1360.0,1380.0,1320.0,1330.0,1400.0,1410.0,1360.0,1370.0,1385.0,1460.0,1405.0,1450.0,1460.0,1420.0,1445.0,1440.0,1450.0,1435.0,1400.0,1370.0,1380.0,1350.0,1360.0,1325.0,1325.0,1325.0,1315.0,1295.0,1275.0,1280.0,1305.0,1320.0,1305.0,1310.0,1285.0,1305.0,1330.0,1295.0,1295.0,1275.0,1310.0,1305.0,1290.0,1290.0,1315.0,1305.0,1330.0,1345.0,1300.0,1320.0,1310.0,1290.0,1250.0,1285.0,1250.0,1245.0,1230.0,1180.0,1185.0,1190.0,1235.0,1250.0,1280.0,1265.0,1265.0,1270.0,1270.0,1295.0,1295.0,1295.0,1295.0,1295.0,1295.0,1305.0,1295.0,1265.0,1275.0,1290.0,1245.0,1225.0,1255.0,1280.0,1275.0,1240.0,1245.0,1350.0,1370.0,1385.0,1380.0,1440.0,1410.0,1400.0,1435.0,1415.0,1360.0,1335.0,1360.0,1335.0,1295.0,1280.0,1290.0,1275.0,1310.0,1300.0,1285.0,1285.0,1255.0,1260.0,1220.0,1255.0,1280.0,1270.0,1220.0,1175.0,1100.0,1090.0,1120.0,1105.0,1100.0,1070.0,1060.0,1025.0,1030.0,1060.0,1050.0,1035.0,1055.0,1060.0,1130.0,1130.0,1115.0,1120.0,1125.0,1165.0,1220.0,1235.0,1275.0,1350.0,1430.0,1430.0,1475.0,1435.0,1425.0,1440.0,1420.0,1400.0,1370.0,1400.0,1370.0,1270.0,1300.0,1290.0,1315.0,1305.0,1300.0,1250.0,1260.0,1280.0,1275.0,1275.0,1260.0,1275.0,1305.0,1305.0,1340.0,1315.0,1320.0,1325.0,1365.0,1365.0,1355.0,1375.0,1350.0,1370.0,1320.0,1305.0,1300.0,1280.0,1290.0,1375.0,1390.0,1400.0,1425.0,1420.0,1425.0,1345.0,1315.0,1340.0,1315.0,1325.0,1335.0,1330.0,1325.0,1320.0,1295.0,1240.0,1225.0,1295.0,1300.0,1365.0,1460.0,1440.0,1405.0,1485.0,1500.0,1500.0,1595.0,1660.0,1655.0,1610.0,1605.0,1540.0,1590.0,1590.0,1565.0,1555.0],\"x\":[\"2008-07-16\",\"2008-07-17\",\"2008-07-18\",\"2008-07-21\",\"2008-07-22\",\"2008-07-23\",\"2008-07-24\",\"2008-07-25\",\"2008-07-28\",\"2008-07-29\",\"2008-07-31\",\"2008-08-01\",\"2008-08-04\",\"2008-08-05\",\"2008-08-06\",\"2008-08-07\",\"2008-08-08\",\"2008-08-11\",\"2008-08-12\",\"2008-08-13\",\"2008-08-14\",\"2008-08-15\",\"2008-08-19\",\"2008-08-20\",\"2008-08-21\",\"2008-08-22\",\"2008-08-25\",\"2008-08-26\",\"2008-08-27\",\"2008-08-28\",\"2008-08-29\",\"2008-09-01\",\"2008-09-02\",\"2008-09-03\",\"2008-09-04\",\"2008-09-05\",\"2008-09-08\",\"2008-09-09\",\"2008-09-10\",\"2008-09-11\",\"2008-09-12\",\"2008-09-15\",\"2008-09-16\",\"2008-09-17\",\"2008-09-18\",\"2008-09-19\",\"2008-09-22\",\"2008-09-23\",\"2008-09-24\",\"2008-09-25\",\"2008-09-26\",\"2008-10-06\",\"2008-10-07\",\"2008-10-08\",\"2008-10-13\",\"2008-10-14\",\"2008-10-15\",\"2008-10-16\",\"2008-10-17\",\"2008-10-20\",\"2008-10-21\",\"2008-10-22\",\"2008-10-23\",\"2008-10-24\",\"2008-10-27\",\"2008-10-28\",\"2008-10-29\",\"2008-10-30\",\"2008-10-31\",\"2008-11-03\",\"2008-11-04\",\"2008-11-05\",\"2008-11-06\",\"2008-11-07\",\"2008-11-10\",\"2008-11-11\",\"2008-11-12\",\"2008-11-13\",\"2008-11-14\",\"2008-11-17\",\"2008-11-18\",\"2008-11-19\",\"2008-11-20\",\"2008-11-21\",\"2008-11-24\",\"2008-11-25\",\"2008-11-26\",\"2008-11-27\",\"2008-11-28\",\"2008-12-01\",\"2008-12-02\",\"2008-12-03\",\"2008-12-04\",\"2008-12-05\",\"2008-12-09\",\"2008-12-10\",\"2008-12-11\",\"2008-12-12\",\"2008-12-15\",\"2008-12-16\",\"2008-12-17\",\"2008-12-18\",\"2008-12-19\",\"2008-12-22\",\"2008-12-23\",\"2008-12-24\",\"2008-12-30\",\"2009-01-05\",\"2009-01-06\",\"2009-01-07\",\"2009-01-08\",\"2009-01-09\",\"2009-01-12\",\"2009-01-13\",\"2009-01-14\",\"2009-01-15\",\"2009-01-16\",\"2009-01-19\",\"2009-01-20\",\"2009-01-21\",\"2009-01-22\",\"2009-01-23\",\"2009-01-27\",\"2009-01-28\",\"2009-01-29\",\"2009-01-30\",\"2009-02-02\",\"2009-02-03\",\"2009-02-04\",\"2009-02-05\",\"2009-02-06\",\"2009-02-09\",\"2009-02-10\",\"2009-02-11\",\"2009-02-12\",\"2009-02-13\",\"2009-02-16\",\"2009-02-17\",\"2009-02-18\",\"2009-02-19\",\"2009-02-20\",\"2009-02-23\",\"2009-02-24\",\"2009-02-25\",\"2009-02-26\",\"2009-02-27\",\"2009-03-02\",\"2009-03-03\",\"2009-03-04\",\"2009-03-05\",\"2009-03-06\",\"2009-03-10\",\"2009-03-11\",\"2009-03-12\",\"2009-03-13\",\"2009-03-16\",\"2009-03-17\",\"2009-03-18\",\"2009-03-19\",\"2009-03-20\",\"2009-03-23\",\"2009-03-24\",\"2009-03-25\",\"2009-03-27\",\"2009-03-30\",\"2009-03-31\",\"2009-04-01\",\"2009-04-02\",\"2009-04-03\",\"2009-04-06\",\"2009-04-07\",\"2009-04-08\",\"2009-04-13\",\"2009-04-14\",\"2009-04-15\",\"2009-04-16\",\"2009-04-17\",\"2009-04-20\",\"2009-04-22\",\"2009-04-23\",\"2009-04-24\",\"2009-04-27\",\"2009-04-28\",\"2009-04-29\",\"2009-04-30\",\"2009-05-01\",\"2009-05-04\",\"2009-05-05\",\"2009-05-06\",\"2009-05-07\",\"2009-05-08\",\"2009-05-11\",\"2009-05-12\",\"2009-05-13\",\"2009-05-14\",\"2009-05-15\",\"2009-05-18\",\"2009-05-19\",\"2009-05-20\",\"2009-05-22\",\"2009-05-25\",\"2009-05-26\",\"2009-05-27\",\"2009-05-28\",\"2009-05-29\",\"2009-06-01\",\"2009-06-02\",\"2009-06-03\",\"2009-06-04\",\"2009-06-05\",\"2009-06-08\",\"2009-06-09\",\"2009-06-10\",\"2009-06-11\",\"2009-06-12\",\"2009-06-15\",\"2009-06-16\",\"2009-06-17\",\"2009-06-18\",\"2009-06-19\",\"2009-06-22\",\"2009-06-23\",\"2009-06-24\",\"2009-06-25\",\"2009-06-26\",\"2009-06-29\",\"2009-06-30\",\"2009-07-01\",\"2009-07-02\",\"2009-07-03\",\"2009-07-06\",\"2009-07-07\",\"2009-07-09\",\"2009-07-10\",\"2009-07-13\",\"2009-07-14\",\"2009-07-15\",\"2009-07-16\",\"2009-07-17\",\"2009-07-21\",\"2009-07-22\",\"2009-07-23\",\"2009-07-24\",\"2009-07-27\",\"2009-07-28\",\"2009-07-29\",\"2009-07-30\",\"2009-07-31\",\"2009-08-03\",\"2009-08-04\",\"2009-08-05\",\"2009-08-06\",\"2009-08-07\",\"2009-08-10\",\"2009-08-11\",\"2009-08-12\",\"2009-08-13\",\"2009-08-14\",\"2009-08-18\",\"2009-08-19\",\"2009-08-20\",\"2009-08-21\",\"2009-08-24\",\"2009-08-25\",\"2009-08-26\",\"2009-08-27\",\"2009-08-28\",\"2009-08-31\",\"2009-09-01\",\"2009-09-02\",\"2009-09-03\",\"2009-09-04\",\"2009-09-07\",\"2009-09-08\",\"2009-09-09\",\"2009-09-10\",\"2009-09-11\",\"2009-09-14\",\"2009-09-15\",\"2009-09-16\",\"2009-09-17\",\"2009-09-24\",\"2009-09-25\",\"2009-09-28\",\"2009-09-29\",\"2009-09-30\",\"2009-10-01\",\"2009-10-02\",\"2009-10-05\",\"2009-10-06\",\"2009-10-07\",\"2009-10-08\",\"2009-10-09\",\"2009-10-12\",\"2009-10-13\",\"2009-10-14\",\"2009-10-15\",\"2009-10-16\",\"2009-10-19\",\"2009-10-20\",\"2009-10-21\",\"2009-10-22\",\"2009-10-23\",\"2009-10-26\",\"2009-10-27\",\"2009-10-28\",\"2009-10-29\",\"2009-10-30\",\"2009-11-02\",\"2009-11-03\",\"2009-11-04\",\"2009-11-05\",\"2009-11-06\",\"2009-11-09\",\"2009-11-10\",\"2009-11-11\",\"2009-11-12\",\"2009-11-13\",\"2009-11-16\",\"2009-11-17\",\"2009-11-18\",\"2009-11-19\",\"2009-11-20\",\"2009-11-23\",\"2009-11-24\",\"2009-11-25\",\"2009-11-26\",\"2009-11-30\",\"2009-12-01\",\"2009-12-02\",\"2009-12-03\",\"2009-12-04\",\"2009-12-07\",\"2009-12-08\",\"2009-12-09\",\"2009-12-10\",\"2009-12-11\",\"2009-12-14\",\"2009-12-15\",\"2009-12-16\",\"2009-12-17\",\"2009-12-21\",\"2009-12-22\",\"2009-12-23\",\"2009-12-28\",\"2009-12-29\",\"2009-12-30\",\"2010-01-04\",\"2010-01-05\",\"2010-01-06\",\"2010-01-07\",\"2010-01-08\",\"2010-01-11\",\"2010-01-12\",\"2010-01-13\",\"2010-01-14\",\"2010-01-15\",\"2010-01-18\",\"2010-01-19\",\"2010-01-20\",\"2010-01-21\",\"2010-01-22\",\"2010-01-25\",\"2010-01-26\",\"2010-01-27\",\"2010-01-28\",\"2010-01-29\",\"2010-02-01\",\"2010-02-02\",\"2010-02-03\",\"2010-02-04\",\"2010-02-05\",\"2010-02-08\",\"2010-02-09\",\"2010-02-10\",\"2010-02-11\",\"2010-02-12\",\"2010-02-15\",\"2010-02-16\",\"2010-02-17\",\"2010-02-18\",\"2010-02-19\",\"2010-02-22\",\"2010-02-23\",\"2010-02-24\",\"2010-02-25\",\"2010-03-01\",\"2010-03-02\",\"2010-03-03\",\"2010-03-04\",\"2010-03-05\",\"2010-03-08\",\"2010-03-09\",\"2010-03-10\",\"2010-03-11\",\"2010-03-12\",\"2010-03-15\",\"2010-03-17\",\"2010-03-18\",\"2010-03-19\",\"2010-03-22\",\"2010-03-23\",\"2010-03-24\",\"2010-03-25\",\"2010-03-26\",\"2010-03-29\",\"2010-03-30\",\"2010-03-31\",\"2010-04-01\",\"2010-04-05\",\"2010-04-06\",\"2010-04-07\",\"2010-04-08\",\"2010-04-09\",\"2010-04-12\",\"2010-04-13\",\"2010-04-14\",\"2010-04-15\",\"2010-04-16\",\"2010-04-19\",\"2010-04-20\",\"2010-04-21\",\"2010-04-22\",\"2010-04-23\",\"2010-04-26\",\"2010-04-27\",\"2010-04-28\",\"2010-04-29\",\"2010-04-30\",\"2010-05-03\",\"2010-05-04\",\"2010-05-05\",\"2010-05-06\",\"2010-05-07\",\"2010-05-10\",\"2010-05-11\",\"2010-05-12\",\"2010-05-14\",\"2010-05-17\",\"2010-05-18\",\"2010-05-19\",\"2010-05-20\",\"2010-05-21\",\"2010-05-24\",\"2010-05-25\",\"2010-05-26\",\"2010-05-27\",\"2010-05-31\",\"2010-06-01\",\"2010-06-02\",\"2010-06-03\",\"2010-06-04\",\"2010-06-07\",\"2010-06-08\",\"2010-06-09\",\"2010-06-10\",\"2010-06-11\",\"2010-06-14\",\"2010-06-15\",\"2010-06-16\",\"2010-06-17\",\"2010-06-18\",\"2010-06-21\",\"2010-06-22\",\"2010-06-23\",\"2010-06-24\",\"2010-06-25\",\"2010-06-28\",\"2010-06-29\",\"2010-06-30\",\"2010-07-01\",\"2010-07-02\",\"2010-07-05\",\"2010-07-06\",\"2010-07-07\",\"2010-07-08\",\"2010-07-09\",\"2010-07-12\",\"2010-07-13\",\"2010-07-14\",\"2010-07-15\",\"2010-07-16\",\"2010-07-19\",\"2010-07-20\",\"2010-07-21\",\"2010-07-22\",\"2010-07-23\",\"2010-07-26\",\"2010-07-27\",\"2010-07-28\",\"2010-07-29\",\"2010-07-30\",\"2010-08-02\",\"2010-08-03\",\"2010-08-04\",\"2010-08-05\",\"2010-08-06\",\"2010-08-09\",\"2010-08-10\",\"2010-08-11\",\"2010-08-12\",\"2010-08-13\",\"2010-08-16\",\"2010-08-18\",\"2010-08-19\",\"2010-08-20\",\"2010-08-23\",\"2010-08-24\",\"2010-08-25\",\"2010-08-26\",\"2010-08-27\",\"2010-08-30\",\"2010-08-31\",\"2010-09-01\",\"2010-09-02\",\"2010-09-03\",\"2010-09-06\",\"2010-09-07\",\"2010-09-15\",\"2010-09-16\",\"2010-09-17\",\"2010-09-20\",\"2010-09-21\",\"2010-09-22\",\"2010-09-23\",\"2010-09-24\",\"2010-09-27\",\"2010-09-28\",\"2010-09-29\",\"2010-09-30\",\"2010-10-01\",\"2010-10-04\",\"2010-10-05\",\"2010-10-06\",\"2010-10-07\",\"2010-10-08\",\"2010-10-11\",\"2010-10-12\",\"2010-10-13\",\"2010-10-14\",\"2010-10-15\",\"2010-10-18\",\"2010-10-19\",\"2010-10-20\",\"2010-10-21\",\"2010-10-22\",\"2010-10-25\",\"2010-10-26\",\"2010-10-27\",\"2010-10-28\",\"2010-10-29\",\"2010-11-01\",\"2010-11-02\",\"2010-11-03\",\"2010-11-04\",\"2010-11-05\",\"2010-11-08\",\"2010-11-09\",\"2010-11-10\",\"2010-11-11\",\"2010-11-12\",\"2010-11-15\",\"2010-11-16\",\"2010-11-18\",\"2010-11-19\",\"2010-11-22\",\"2010-11-23\",\"2010-11-24\",\"2010-11-25\",\"2010-11-26\",\"2010-11-29\",\"2010-11-30\",\"2010-12-01\",\"2010-12-02\",\"2010-12-03\",\"2010-12-06\",\"2010-12-08\",\"2010-12-09\",\"2010-12-10\",\"2010-12-13\",\"2010-12-14\",\"2010-12-15\",\"2010-12-16\",\"2010-12-17\",\"2010-12-20\",\"2010-12-21\",\"2010-12-22\",\"2010-12-23\",\"2010-12-27\",\"2010-12-28\",\"2010-12-29\",\"2010-12-30\",\"2011-01-03\",\"2011-01-04\",\"2011-01-05\",\"2011-01-06\",\"2011-01-07\",\"2011-01-10\",\"2011-01-11\",\"2011-01-12\",\"2011-01-13\",\"2011-01-14\",\"2011-01-17\",\"2011-01-18\",\"2011-01-19\",\"2011-01-20\",\"2011-01-21\",\"2011-01-24\",\"2011-01-25\",\"2011-01-26\",\"2011-01-27\",\"2011-01-28\",\"2011-01-31\",\"2011-02-01\",\"2011-02-02\",\"2011-02-04\",\"2011-02-07\",\"2011-02-08\",\"2011-02-09\",\"2011-02-10\",\"2011-02-11\",\"2011-02-14\",\"2011-02-16\",\"2011-02-17\",\"2011-02-18\",\"2011-02-21\",\"2011-02-22\",\"2011-02-23\",\"2011-02-24\",\"2011-02-25\",\"2011-02-28\",\"2011-03-01\",\"2011-03-02\",\"2011-03-03\",\"2011-03-04\",\"2011-03-07\",\"2011-03-08\",\"2011-03-09\",\"2011-03-10\",\"2011-03-11\",\"2011-03-14\",\"2011-03-15\",\"2011-03-16\",\"2011-03-17\",\"2011-03-18\",\"2011-03-21\",\"2011-03-22\",\"2011-03-24\",\"2011-03-25\",\"2011-03-28\",\"2011-03-29\",\"2011-03-30\",\"2011-03-31\",\"2011-04-01\",\"2011-04-04\",\"2011-04-05\",\"2011-04-06\",\"2011-04-07\",\"2011-04-08\",\"2011-04-11\",\"2011-04-12\",\"2011-04-13\",\"2011-04-14\",\"2011-04-15\",\"2011-04-18\",\"2011-04-19\",\"2011-04-20\",\"2011-04-21\",\"2011-04-25\",\"2011-04-26\",\"2011-04-27\",\"2011-04-28\",\"2011-04-29\",\"2011-05-02\",\"2011-05-03\",\"2011-05-04\",\"2011-05-05\",\"2011-05-06\",\"2011-05-09\",\"2011-05-10\",\"2011-05-11\",\"2011-05-12\",\"2011-05-13\",\"2011-05-16\",\"2011-05-18\",\"2011-05-19\",\"2011-05-20\",\"2011-05-23\",\"2011-05-24\",\"2011-05-25\",\"2011-05-26\",\"2011-05-27\",\"2011-05-30\",\"2011-05-31\",\"2011-06-01\",\"2011-06-03\",\"2011-06-06\",\"2011-06-07\",\"2011-06-08\",\"2011-06-09\",\"2011-06-10\",\"2011-06-13\",\"2011-06-14\",\"2011-06-15\",\"2011-06-16\",\"2011-06-17\",\"2011-06-20\",\"2011-06-21\",\"2011-06-22\",\"2011-06-23\",\"2011-06-24\",\"2011-06-27\",\"2011-06-28\",\"2011-06-30\",\"2011-07-01\",\"2011-07-05\",\"2011-07-06\",\"2011-07-07\",\"2011-07-08\",\"2011-07-11\",\"2011-07-12\",\"2011-07-13\",\"2011-07-14\",\"2011-07-15\",\"2011-07-18\",\"2011-07-19\",\"2011-07-20\",\"2011-07-21\",\"2011-07-22\",\"2011-07-25\",\"2011-07-26\",\"2011-07-27\",\"2011-07-28\",\"2011-07-29\",\"2011-08-01\",\"2011-08-02\",\"2011-08-03\",\"2011-08-04\",\"2011-08-05\",\"2011-08-08\",\"2011-08-09\",\"2011-08-10\",\"2011-08-11\",\"2011-08-12\",\"2011-08-15\",\"2011-08-16\",\"2011-08-18\",\"2011-08-19\",\"2011-08-22\",\"2011-08-23\",\"2011-08-24\",\"2011-08-25\",\"2011-08-26\",\"2011-09-05\",\"2011-09-06\",\"2011-09-07\",\"2011-09-08\",\"2011-09-09\",\"2011-09-12\",\"2011-09-13\",\"2011-09-14\",\"2011-09-15\",\"2011-09-16\",\"2011-09-19\",\"2011-09-20\",\"2011-09-21\",\"2011-09-22\",\"2011-09-23\",\"2011-09-26\",\"2011-09-27\",\"2011-09-28\",\"2011-09-29\",\"2011-09-30\",\"2011-10-03\",\"2011-10-04\",\"2011-10-05\",\"2011-10-06\",\"2011-10-07\",\"2011-10-10\",\"2011-10-11\",\"2011-10-12\",\"2011-10-13\",\"2011-10-14\",\"2011-10-17\",\"2011-10-18\",\"2011-10-19\",\"2011-10-20\",\"2011-10-21\",\"2011-10-24\",\"2011-10-25\",\"2011-10-26\",\"2011-10-27\",\"2011-10-28\",\"2011-10-31\",\"2011-11-01\",\"2011-11-02\",\"2011-11-03\",\"2011-11-04\",\"2011-11-07\",\"2011-11-08\",\"2011-11-09\",\"2011-11-10\",\"2011-11-11\",\"2011-11-14\",\"2011-11-15\",\"2011-11-16\",\"2011-11-17\",\"2011-11-18\",\"2011-11-21\",\"2011-11-22\",\"2011-11-23\",\"2011-11-24\",\"2011-11-25\",\"2011-11-28\",\"2011-11-29\",\"2011-11-30\",\"2011-12-01\",\"2011-12-02\",\"2011-12-05\",\"2011-12-06\",\"2011-12-07\",\"2011-12-08\",\"2011-12-09\",\"2011-12-12\",\"2011-12-13\",\"2011-12-14\",\"2011-12-15\",\"2011-12-16\",\"2011-12-19\",\"2011-12-20\",\"2011-12-21\",\"2011-12-22\",\"2011-12-23\",\"2011-12-27\",\"2011-12-28\",\"2011-12-29\",\"2011-12-30\",\"2012-01-02\",\"2012-01-03\",\"2012-01-04\",\"2012-01-05\",\"2012-01-06\",\"2012-01-09\",\"2012-01-10\",\"2012-01-11\",\"2012-01-12\",\"2012-01-13\",\"2012-01-16\",\"2012-01-17\",\"2012-01-18\",\"2012-01-19\",\"2012-01-20\",\"2012-01-24\",\"2012-01-25\",\"2012-01-26\",\"2012-01-27\",\"2012-01-30\",\"2012-01-31\",\"2012-02-01\",\"2012-02-02\",\"2012-02-03\",\"2012-02-06\",\"2012-02-07\",\"2012-02-08\",\"2012-02-09\",\"2012-02-10\",\"2012-02-13\",\"2012-02-14\",\"2012-02-15\",\"2012-02-16\",\"2012-02-17\",\"2012-02-20\",\"2012-02-21\",\"2012-02-22\",\"2012-02-23\",\"2012-02-24\",\"2012-02-27\",\"2012-02-28\",\"2012-02-29\",\"2012-03-01\",\"2012-03-02\",\"2012-03-05\",\"2012-03-06\",\"2012-03-07\",\"2012-03-08\",\"2012-03-09\",\"2012-03-12\",\"2012-03-13\",\"2012-03-14\",\"2012-03-15\",\"2012-03-16\",\"2012-03-19\",\"2012-03-20\",\"2012-03-21\",\"2012-03-22\",\"2012-03-26\",\"2012-03-27\",\"2012-03-28\",\"2012-03-29\",\"2012-03-30\",\"2012-04-02\",\"2012-04-03\",\"2012-04-04\",\"2012-04-05\",\"2012-04-09\",\"2012-04-10\",\"2012-04-11\",\"2012-04-12\",\"2012-04-13\",\"2012-04-16\",\"2012-04-17\",\"2012-04-18\",\"2012-04-19\",\"2012-04-20\",\"2012-04-23\",\"2012-04-24\",\"2012-04-25\",\"2012-04-26\",\"2012-04-27\",\"2012-04-30\",\"2012-05-01\",\"2012-05-02\",\"2012-05-03\",\"2012-05-04\",\"2012-05-07\",\"2012-05-08\",\"2012-05-09\",\"2012-05-10\",\"2012-05-11\",\"2012-05-14\",\"2012-05-15\",\"2012-05-16\",\"2012-05-21\",\"2012-05-22\",\"2012-05-23\",\"2012-05-24\",\"2012-05-25\",\"2012-05-28\",\"2012-05-29\",\"2012-05-30\",\"2012-05-31\",\"2012-06-01\",\"2012-06-04\",\"2012-06-05\",\"2012-06-06\",\"2012-06-07\",\"2012-06-08\",\"2012-06-11\",\"2012-06-12\",\"2012-06-13\",\"2012-06-14\",\"2012-06-15\",\"2012-06-18\",\"2012-06-19\",\"2012-06-20\",\"2012-06-21\",\"2012-06-22\",\"2012-06-25\",\"2012-06-26\",\"2012-06-27\",\"2012-06-28\",\"2012-06-29\",\"2012-07-02\",\"2012-07-03\",\"2012-07-04\",\"2012-07-05\",\"2012-07-06\",\"2012-07-09\",\"2012-07-10\",\"2012-07-11\",\"2012-07-12\",\"2012-07-13\",\"2012-07-16\",\"2012-07-17\",\"2012-07-18\",\"2012-07-19\",\"2012-07-20\",\"2012-07-23\",\"2012-07-24\",\"2012-07-25\",\"2012-07-26\",\"2012-07-27\",\"2012-07-30\",\"2012-07-31\",\"2012-08-01\",\"2012-08-02\",\"2012-08-03\",\"2012-08-06\",\"2012-08-07\",\"2012-08-08\",\"2012-08-09\",\"2012-08-10\",\"2012-08-13\",\"2012-08-14\",\"2012-08-15\",\"2012-08-16\",\"2012-08-23\",\"2012-08-24\",\"2012-08-27\",\"2012-08-28\",\"2012-08-29\",\"2012-08-30\",\"2012-08-31\",\"2012-09-03\",\"2012-09-04\",\"2012-09-05\",\"2012-09-06\",\"2012-09-07\",\"2012-09-10\",\"2012-09-11\",\"2012-09-12\",\"2012-09-13\",\"2012-09-14\",\"2012-09-17\",\"2012-09-18\",\"2012-09-19\",\"2012-09-20\",\"2012-09-21\",\"2012-09-24\",\"2012-09-25\",\"2012-09-26\",\"2012-09-27\",\"2012-09-28\",\"2012-10-01\",\"2012-10-02\",\"2012-10-03\",\"2012-10-04\",\"2012-10-05\",\"2012-10-08\",\"2012-10-09\",\"2012-10-10\",\"2012-10-11\",\"2012-10-12\",\"2012-10-15\",\"2012-10-16\",\"2012-10-17\",\"2012-10-18\",\"2012-10-19\",\"2012-10-22\",\"2012-10-23\",\"2012-10-24\",\"2012-10-25\",\"2012-10-29\",\"2012-10-30\",\"2012-10-31\",\"2012-11-01\",\"2012-11-02\",\"2012-11-05\",\"2012-11-06\",\"2012-11-07\",\"2012-11-08\",\"2012-11-09\",\"2012-11-12\",\"2012-11-13\",\"2012-11-14\",\"2012-11-19\",\"2012-11-20\",\"2012-11-21\",\"2012-11-22\",\"2012-11-23\",\"2012-11-26\",\"2012-11-27\",\"2012-11-28\",\"2012-11-29\",\"2012-11-30\",\"2012-12-03\",\"2012-12-04\",\"2012-12-05\",\"2012-12-06\",\"2012-12-07\",\"2012-12-10\",\"2012-12-11\",\"2012-12-12\",\"2012-12-13\",\"2012-12-14\",\"2012-12-17\",\"2012-12-18\",\"2012-12-19\",\"2012-12-20\",\"2012-12-21\",\"2012-12-26\",\"2012-12-27\",\"2012-12-28\",\"2013-01-02\",\"2013-01-03\",\"2013-01-04\",\"2013-01-07\",\"2013-01-08\",\"2013-01-09\",\"2013-01-10\",\"2013-01-11\",\"2013-01-14\",\"2013-01-15\",\"2013-01-16\",\"2013-01-17\",\"2013-01-18\",\"2013-01-21\",\"2013-01-22\",\"2013-01-23\",\"2013-01-25\",\"2013-01-28\",\"2013-01-29\",\"2013-01-30\",\"2013-01-31\",\"2013-02-01\",\"2013-02-04\",\"2013-02-05\",\"2013-02-06\",\"2013-02-07\",\"2013-02-08\",\"2013-02-11\",\"2013-02-12\",\"2013-02-13\",\"2013-02-14\",\"2013-02-15\",\"2013-02-18\",\"2013-02-19\",\"2013-02-20\",\"2013-02-21\",\"2013-02-22\",\"2013-02-25\",\"2013-02-26\",\"2013-02-27\",\"2013-02-28\",\"2013-03-01\",\"2013-03-04\",\"2013-03-05\",\"2013-03-06\",\"2013-03-07\",\"2013-03-08\",\"2013-03-11\",\"2013-03-13\",\"2013-03-14\",\"2013-03-15\",\"2013-03-18\",\"2013-03-19\",\"2013-03-20\",\"2013-03-21\",\"2013-03-22\",\"2013-03-25\",\"2013-03-26\",\"2013-03-27\",\"2013-03-28\",\"2013-04-01\",\"2013-04-02\",\"2013-04-03\",\"2013-04-04\",\"2013-04-05\",\"2013-04-08\",\"2013-04-09\",\"2013-04-10\",\"2013-04-11\",\"2013-04-12\",\"2013-04-15\",\"2013-04-16\",\"2013-04-17\",\"2013-04-18\",\"2013-04-19\",\"2013-04-22\",\"2013-04-23\",\"2013-04-24\",\"2013-04-25\",\"2013-04-26\",\"2013-04-29\",\"2013-04-30\",\"2013-05-01\",\"2013-05-02\",\"2013-05-03\",\"2013-05-06\",\"2013-05-07\",\"2013-05-08\",\"2013-05-10\",\"2013-05-13\",\"2013-05-14\",\"2013-05-15\",\"2013-05-16\",\"2013-05-17\",\"2013-05-20\",\"2013-05-21\",\"2013-05-22\",\"2013-05-23\",\"2013-05-24\",\"2013-05-27\",\"2013-05-28\",\"2013-05-29\",\"2013-05-30\",\"2013-05-31\",\"2013-06-03\",\"2013-06-04\",\"2013-06-05\",\"2013-06-07\",\"2013-06-10\",\"2013-06-11\",\"2013-06-12\",\"2013-06-13\",\"2013-06-14\",\"2013-06-17\",\"2013-06-18\",\"2013-06-19\",\"2013-06-20\",\"2013-06-21\",\"2013-06-24\",\"2013-06-25\",\"2013-06-26\",\"2013-06-27\",\"2013-06-28\",\"2013-07-01\",\"2013-07-02\",\"2013-07-03\",\"2013-07-04\",\"2013-07-05\",\"2013-07-08\",\"2013-07-09\",\"2013-07-10\",\"2013-07-11\",\"2013-07-12\",\"2013-07-15\",\"2013-07-16\",\"2013-07-17\",\"2013-07-18\",\"2013-07-19\",\"2013-07-22\",\"2013-07-23\",\"2013-07-24\",\"2013-07-25\",\"2013-07-26\",\"2013-07-29\",\"2013-07-30\",\"2013-07-31\",\"2013-08-01\",\"2013-08-02\",\"2013-08-12\",\"2013-08-13\",\"2013-08-14\",\"2013-08-15\",\"2013-08-16\",\"2013-08-19\",\"2013-08-20\",\"2013-08-21\",\"2013-08-22\",\"2013-08-23\",\"2013-08-26\",\"2013-08-27\",\"2013-08-28\",\"2013-08-29\",\"2013-08-30\",\"2013-09-02\",\"2013-09-03\",\"2013-09-04\",\"2013-09-05\",\"2013-09-06\",\"2013-09-09\",\"2013-09-10\",\"2013-09-11\",\"2013-09-12\",\"2013-09-13\",\"2013-09-16\",\"2013-09-17\",\"2013-09-18\",\"2013-09-19\",\"2013-09-20\",\"2013-09-23\",\"2013-09-24\",\"2013-09-25\",\"2013-09-26\",\"2013-09-27\",\"2013-09-30\",\"2013-10-01\",\"2013-10-02\",\"2013-10-03\",\"2013-10-04\",\"2013-10-07\",\"2013-10-08\",\"2013-10-09\",\"2013-10-10\",\"2013-10-11\",\"2013-10-16\",\"2013-10-17\",\"2013-10-18\",\"2013-10-21\",\"2013-10-22\",\"2013-10-23\",\"2013-10-24\",\"2013-10-25\",\"2013-10-28\",\"2013-10-29\",\"2013-10-30\",\"2013-10-31\",\"2013-11-01\",\"2013-11-04\",\"2013-11-06\",\"2013-11-07\",\"2013-11-08\",\"2013-11-11\",\"2013-11-12\",\"2013-11-13\",\"2013-11-14\",\"2013-11-15\",\"2013-11-18\",\"2013-11-19\",\"2013-11-20\",\"2013-11-21\",\"2013-11-22\",\"2013-11-25\",\"2013-11-26\",\"2013-11-27\",\"2013-11-28\",\"2013-11-29\",\"2013-12-02\",\"2013-12-03\",\"2013-12-04\",\"2013-12-05\",\"2013-12-06\",\"2013-12-09\",\"2013-12-10\",\"2013-12-11\",\"2013-12-12\",\"2013-12-13\",\"2013-12-16\",\"2013-12-17\",\"2013-12-18\",\"2013-12-19\",\"2013-12-20\",\"2013-12-23\",\"2013-12-24\",\"2013-12-27\",\"2013-12-30\",\"2014-01-02\",\"2014-01-03\",\"2014-01-06\",\"2014-01-07\",\"2014-01-08\",\"2014-01-09\",\"2014-01-10\",\"2014-01-13\",\"2014-01-15\",\"2014-01-16\",\"2014-01-17\",\"2014-01-20\",\"2014-01-21\",\"2014-01-22\",\"2014-01-23\",\"2014-01-24\",\"2014-01-27\",\"2014-01-28\",\"2014-01-29\",\"2014-01-30\",\"2014-02-03\",\"2014-02-04\",\"2014-02-05\",\"2014-02-06\",\"2014-02-07\",\"2014-02-10\",\"2014-02-11\",\"2014-02-12\",\"2014-02-13\",\"2014-02-14\",\"2014-02-17\",\"2014-02-18\",\"2014-02-19\",\"2014-02-20\",\"2014-02-21\",\"2014-02-24\",\"2014-02-25\",\"2014-02-26\",\"2014-02-27\",\"2014-02-28\",\"2014-03-03\",\"2014-03-04\",\"2014-03-05\",\"2014-03-06\",\"2014-03-07\",\"2014-03-10\",\"2014-03-11\",\"2014-03-12\",\"2014-03-13\",\"2014-03-14\",\"2014-03-17\",\"2014-03-18\",\"2014-03-19\",\"2014-03-20\",\"2014-03-21\",\"2014-03-24\",\"2014-03-25\",\"2014-03-26\",\"2014-03-27\",\"2014-03-28\",\"2014-04-01\",\"2014-04-02\",\"2014-04-03\",\"2014-04-04\",\"2014-04-07\",\"2014-04-08\",\"2014-04-09\",\"2014-04-10\",\"2014-04-11\",\"2014-04-14\",\"2014-04-15\",\"2014-04-16\",\"2014-04-17\",\"2014-04-21\",\"2014-04-22\",\"2014-04-23\",\"2014-04-24\",\"2014-04-25\",\"2014-04-28\",\"2014-04-29\",\"2014-04-30\",\"2014-05-02\",\"2014-05-05\",\"2014-05-06\",\"2014-05-07\",\"2014-05-08\",\"2014-05-09\",\"2014-05-12\",\"2014-05-13\",\"2014-05-14\",\"2014-05-16\",\"2014-05-19\",\"2014-05-20\",\"2014-05-21\",\"2014-05-22\",\"2014-05-23\",\"2014-05-26\",\"2014-05-28\",\"2014-05-30\",\"2014-06-02\",\"2014-06-03\",\"2014-06-04\",\"2014-06-05\",\"2014-06-06\",\"2014-06-09\",\"2014-06-10\",\"2014-06-11\",\"2014-06-12\",\"2014-06-13\",\"2014-06-16\",\"2014-06-17\",\"2014-06-18\",\"2014-06-19\",\"2014-06-20\",\"2014-06-23\",\"2014-06-24\",\"2014-06-25\",\"2014-06-26\",\"2014-06-27\",\"2014-06-30\",\"2014-07-01\",\"2014-07-02\",\"2014-07-03\",\"2014-07-04\",\"2014-07-07\",\"2014-07-08\",\"2014-07-09\",\"2014-07-10\",\"2014-07-11\",\"2014-07-14\",\"2014-07-15\",\"2014-07-16\",\"2014-07-17\",\"2014-07-18\",\"2014-07-21\",\"2014-07-22\",\"2014-07-23\",\"2014-07-24\",\"2014-07-25\",\"2014-08-04\",\"2014-08-05\",\"2014-08-06\",\"2014-08-07\",\"2014-08-08\",\"2014-08-11\",\"2014-08-12\",\"2014-08-13\",\"2014-08-14\",\"2014-08-15\",\"2014-08-18\",\"2014-08-19\",\"2014-08-20\",\"2014-08-21\",\"2014-08-22\",\"2014-08-25\",\"2014-08-26\",\"2014-08-27\",\"2014-08-28\",\"2014-08-29\",\"2014-09-01\",\"2014-09-02\",\"2014-09-03\",\"2014-09-04\",\"2014-09-05\",\"2014-09-08\",\"2014-09-09\",\"2014-09-10\",\"2014-09-11\",\"2014-09-12\",\"2014-09-15\",\"2014-09-16\",\"2014-09-17\",\"2014-09-18\",\"2014-09-19\",\"2014-09-22\",\"2014-09-23\",\"2014-09-24\",\"2014-09-25\",\"2014-09-26\",\"2014-09-29\",\"2014-09-30\",\"2014-10-01\",\"2014-10-02\",\"2014-10-03\",\"2014-10-06\",\"2014-10-07\",\"2014-10-08\",\"2014-10-09\",\"2014-10-10\",\"2014-10-13\",\"2014-10-14\",\"2014-10-15\",\"2014-10-16\",\"2014-10-17\",\"2014-10-20\",\"2014-10-21\",\"2014-10-22\",\"2014-10-23\",\"2014-10-24\",\"2014-10-27\",\"2014-10-28\",\"2014-10-29\",\"2014-10-30\",\"2014-10-31\",\"2014-11-03\",\"2014-11-04\",\"2014-11-05\",\"2014-11-06\",\"2014-11-07\",\"2014-11-10\",\"2014-11-11\",\"2014-11-12\",\"2014-11-13\",\"2014-11-14\",\"2014-11-17\",\"2014-11-18\",\"2014-11-19\",\"2014-11-20\",\"2014-11-21\",\"2014-11-24\",\"2014-11-25\",\"2014-11-26\",\"2014-11-27\",\"2014-11-28\",\"2014-12-01\",\"2014-12-02\",\"2014-12-03\",\"2014-12-04\",\"2014-12-05\",\"2014-12-08\",\"2014-12-09\",\"2014-12-10\",\"2014-12-11\",\"2014-12-12\",\"2014-12-15\",\"2014-12-16\",\"2014-12-17\",\"2014-12-18\",\"2014-12-19\",\"2014-12-22\",\"2014-12-23\",\"2014-12-24\",\"2014-12-29\",\"2014-12-30\",\"2015-01-02\",\"2015-01-05\",\"2015-01-06\",\"2015-01-07\",\"2015-01-08\",\"2015-01-09\",\"2015-01-12\",\"2015-01-13\",\"2015-01-14\",\"2015-01-15\",\"2015-01-16\",\"2015-01-19\",\"2015-01-20\",\"2015-01-21\",\"2015-01-22\",\"2015-01-23\",\"2015-01-26\",\"2015-01-27\",\"2015-01-28\",\"2015-01-29\",\"2015-01-30\",\"2015-02-02\",\"2015-02-03\",\"2015-02-04\",\"2015-02-05\",\"2015-02-06\",\"2015-02-09\",\"2015-02-10\",\"2015-02-11\",\"2015-02-12\",\"2015-02-13\",\"2015-02-16\",\"2015-02-17\",\"2015-02-18\",\"2015-02-20\",\"2015-02-23\",\"2015-02-24\",\"2015-02-25\",\"2015-02-26\",\"2015-02-27\",\"2015-03-02\",\"2015-03-03\",\"2015-03-04\",\"2015-03-05\",\"2015-03-06\",\"2015-03-09\",\"2015-03-10\",\"2015-03-11\",\"2015-03-12\",\"2015-03-13\",\"2015-03-16\",\"2015-03-17\",\"2015-03-18\",\"2015-03-19\",\"2015-03-20\",\"2015-03-23\",\"2015-03-24\",\"2015-03-25\",\"2015-03-26\",\"2015-03-27\",\"2015-03-30\",\"2015-03-31\",\"2015-04-01\",\"2015-04-02\",\"2015-04-06\",\"2015-04-07\",\"2015-04-08\",\"2015-04-09\",\"2015-04-10\",\"2015-04-13\",\"2015-04-14\",\"2015-04-15\",\"2015-04-16\",\"2015-04-17\",\"2015-04-20\",\"2015-04-21\",\"2015-04-22\",\"2015-04-23\",\"2015-04-24\",\"2015-04-27\",\"2015-04-28\",\"2015-04-29\",\"2015-04-30\",\"2015-05-04\",\"2015-05-05\",\"2015-05-06\",\"2015-05-07\",\"2015-05-08\",\"2015-05-11\",\"2015-05-12\",\"2015-05-13\",\"2015-05-15\",\"2015-05-18\",\"2015-05-19\",\"2015-05-20\",\"2015-05-21\",\"2015-05-22\",\"2015-05-25\",\"2015-05-26\",\"2015-05-27\",\"2015-05-28\",\"2015-05-29\",\"2015-06-01\",\"2015-06-03\",\"2015-06-04\",\"2015-06-05\",\"2015-06-08\",\"2015-06-09\",\"2015-06-10\",\"2015-06-11\",\"2015-06-12\",\"2015-06-15\",\"2015-06-16\",\"2015-06-17\",\"2015-06-18\",\"2015-06-19\",\"2015-06-22\",\"2015-06-23\",\"2015-06-24\",\"2015-06-25\",\"2015-06-26\",\"2015-06-29\",\"2015-06-30\",\"2015-07-01\",\"2015-07-02\",\"2015-07-03\",\"2015-07-06\",\"2015-07-07\",\"2015-07-08\",\"2015-07-09\",\"2015-07-10\",\"2015-07-13\",\"2015-07-14\",\"2015-07-15\",\"2015-07-22\",\"2015-07-23\",\"2015-07-24\",\"2015-07-27\",\"2015-07-28\",\"2015-07-29\",\"2015-07-30\",\"2015-07-31\",\"2015-08-03\",\"2015-08-04\",\"2015-08-05\",\"2015-08-06\",\"2015-08-07\",\"2015-08-10\",\"2015-08-11\",\"2015-08-12\",\"2015-08-13\",\"2015-08-14\",\"2015-08-18\",\"2015-08-19\",\"2015-08-20\",\"2015-08-21\",\"2015-08-24\",\"2015-08-25\",\"2015-08-26\",\"2015-08-27\",\"2015-08-28\",\"2015-08-31\",\"2015-09-01\",\"2015-09-02\",\"2015-09-03\",\"2015-09-04\",\"2015-09-07\",\"2015-09-08\",\"2015-09-09\",\"2015-09-10\",\"2015-09-11\",\"2015-09-14\",\"2015-09-15\",\"2015-09-16\",\"2015-09-17\",\"2015-09-18\",\"2015-09-21\",\"2015-09-22\",\"2015-09-23\",\"2015-09-25\",\"2015-09-28\",\"2015-09-29\",\"2015-09-30\",\"2015-10-01\",\"2015-10-02\",\"2015-10-05\",\"2015-10-06\",\"2015-10-07\",\"2015-10-08\",\"2015-10-09\",\"2015-10-12\",\"2015-10-13\",\"2015-10-15\",\"2015-10-16\",\"2015-10-19\",\"2015-10-20\",\"2015-10-21\",\"2015-10-22\",\"2015-10-23\",\"2015-10-26\",\"2015-10-27\",\"2015-10-28\",\"2015-10-29\",\"2015-10-30\",\"2015-11-02\",\"2015-11-03\",\"2015-11-04\",\"2015-11-05\",\"2015-11-06\",\"2015-11-09\",\"2015-11-10\",\"2015-11-11\",\"2015-11-12\",\"2015-11-13\",\"2015-11-16\",\"2015-11-17\",\"2015-11-18\",\"2015-11-19\",\"2015-11-20\",\"2015-11-23\",\"2015-11-24\",\"2015-11-25\",\"2015-11-26\",\"2015-11-27\",\"2015-11-30\",\"2015-12-01\",\"2015-12-02\",\"2015-12-03\",\"2015-12-04\",\"2015-12-07\",\"2015-12-08\",\"2015-12-09\",\"2015-12-10\",\"2015-12-11\",\"2015-12-14\",\"2015-12-15\",\"2015-12-16\",\"2015-12-17\",\"2015-12-18\",\"2015-12-21\",\"2015-12-22\",\"2015-12-23\",\"2015-12-28\",\"2015-12-29\",\"2015-12-30\",\"2016-01-04\",\"2016-01-05\",\"2016-01-06\",\"2016-01-07\",\"2016-01-08\",\"2016-01-11\",\"2016-01-12\",\"2016-01-13\",\"2016-01-14\",\"2016-01-15\",\"2016-01-18\",\"2016-01-19\",\"2016-01-20\",\"2016-01-21\",\"2016-01-22\",\"2016-01-25\",\"2016-01-26\",\"2016-01-27\",\"2016-01-28\",\"2016-01-29\",\"2016-02-01\",\"2016-02-02\",\"2016-02-03\",\"2016-02-04\",\"2016-02-05\",\"2016-02-09\",\"2016-02-10\",\"2016-02-11\",\"2016-02-12\",\"2016-02-15\",\"2016-02-16\",\"2016-02-17\",\"2016-02-18\",\"2016-02-19\",\"2016-02-22\",\"2016-02-23\",\"2016-02-24\",\"2016-02-25\",\"2016-02-26\",\"2016-02-29\",\"2016-03-01\",\"2016-03-02\",\"2016-03-03\",\"2016-03-04\",\"2016-03-07\",\"2016-03-08\",\"2016-03-10\",\"2016-03-15\",\"2016-03-16\",\"2016-03-17\",\"2016-03-18\",\"2016-03-21\",\"2016-03-22\",\"2016-03-23\",\"2016-03-24\",\"2016-03-28\",\"2016-03-29\",\"2016-03-30\",\"2016-03-31\",\"2016-04-01\",\"2016-04-04\",\"2016-04-05\",\"2016-04-06\",\"2016-04-07\",\"2016-04-08\",\"2016-04-12\",\"2016-04-19\",\"2016-04-20\",\"2016-04-21\",\"2016-04-22\",\"2016-04-25\",\"2016-04-26\",\"2016-04-27\",\"2016-04-28\",\"2016-04-29\",\"2016-05-02\",\"2016-05-03\",\"2016-05-04\",\"2016-05-09\",\"2016-05-10\",\"2016-05-11\",\"2016-05-12\",\"2016-05-13\",\"2016-05-16\",\"2016-05-17\",\"2016-05-18\",\"2016-05-19\",\"2016-05-20\",\"2016-05-23\",\"2016-05-24\",\"2016-05-25\",\"2016-05-26\",\"2016-05-27\",\"2016-05-30\",\"2016-05-31\",\"2016-06-01\",\"2016-06-02\",\"2016-06-03\",\"2016-06-06\",\"2016-06-07\",\"2016-06-08\",\"2016-06-09\",\"2016-06-10\",\"2016-06-13\",\"2016-06-14\",\"2016-06-15\",\"2016-06-16\",\"2016-06-17\",\"2016-06-20\",\"2016-06-21\",\"2016-06-22\",\"2016-06-23\",\"2016-06-24\",\"2016-06-27\",\"2016-06-28\",\"2016-06-29\",\"2016-06-30\",\"2016-07-01\",\"2016-07-11\",\"2016-07-12\",\"2016-07-13\",\"2016-07-14\",\"2016-07-15\",\"2016-07-18\",\"2016-07-19\",\"2016-07-20\",\"2016-07-21\",\"2016-07-22\",\"2016-07-25\",\"2016-07-26\",\"2016-07-27\",\"2016-07-28\",\"2016-07-29\",\"2016-08-01\",\"2016-08-02\",\"2016-08-03\",\"2016-08-04\",\"2016-08-05\",\"2016-08-08\",\"2016-08-09\",\"2016-08-10\",\"2016-08-11\",\"2016-08-12\",\"2016-08-15\",\"2016-08-16\",\"2016-08-18\",\"2016-08-19\",\"2016-08-22\",\"2016-08-23\",\"2016-08-24\",\"2016-08-25\",\"2016-08-26\",\"2016-08-29\",\"2016-08-30\",\"2016-08-31\",\"2016-09-01\",\"2016-09-02\",\"2016-09-05\",\"2016-09-06\",\"2016-09-07\",\"2016-09-08\",\"2016-09-09\",\"2016-09-13\",\"2016-09-14\",\"2016-09-15\",\"2016-09-16\",\"2016-09-19\",\"2016-09-20\",\"2016-09-21\",\"2016-09-22\",\"2016-09-23\",\"2016-09-26\",\"2016-09-27\",\"2016-09-28\",\"2016-09-29\",\"2016-09-30\",\"2016-10-03\",\"2016-10-04\",\"2016-10-05\",\"2016-10-06\",\"2016-10-07\",\"2016-10-10\",\"2016-10-11\",\"2016-10-12\",\"2016-10-13\",\"2016-10-14\",\"2016-10-17\",\"2016-10-18\",\"2016-10-19\",\"2016-10-20\",\"2016-10-21\",\"2016-10-24\",\"2016-10-25\",\"2016-10-26\",\"2016-10-27\",\"2016-10-28\",\"2016-10-31\",\"2016-11-01\",\"2016-11-02\",\"2016-11-03\",\"2016-11-04\",\"2016-11-07\",\"2016-11-08\",\"2016-11-09\",\"2016-11-10\",\"2016-11-11\",\"2016-11-14\",\"2016-11-15\",\"2016-11-16\",\"2016-11-17\",\"2016-11-18\",\"2016-11-21\",\"2016-11-22\",\"2016-11-23\",\"2016-11-24\",\"2016-11-25\",\"2016-11-28\",\"2016-11-29\",\"2016-11-30\",\"2016-12-01\",\"2016-12-02\",\"2016-12-05\",\"2016-12-06\",\"2016-12-07\",\"2016-12-08\",\"2016-12-09\",\"2016-12-13\",\"2016-12-14\",\"2016-12-15\",\"2016-12-16\",\"2016-12-19\",\"2016-12-20\",\"2016-12-21\",\"2016-12-22\",\"2016-12-23\",\"2016-12-27\",\"2016-12-28\",\"2016-12-29\",\"2016-12-30\",\"2017-01-02\",\"2017-01-03\",\"2017-01-04\",\"2017-01-05\",\"2017-01-06\",\"2017-01-09\",\"2017-01-10\",\"2017-01-11\",\"2017-01-12\",\"2017-01-13\",\"2017-01-16\",\"2017-01-17\",\"2017-01-18\",\"2017-01-19\",\"2017-01-20\",\"2017-01-23\",\"2017-01-24\",\"2017-01-25\",\"2017-01-26\",\"2017-01-27\",\"2017-01-30\",\"2017-01-31\",\"2017-02-01\",\"2017-02-02\",\"2017-02-03\",\"2017-02-06\",\"2017-02-07\",\"2017-02-08\",\"2017-02-09\",\"2017-02-10\",\"2017-02-13\",\"2017-02-14\",\"2017-02-15\",\"2017-02-16\",\"2017-02-17\",\"2017-02-20\",\"2017-02-21\",\"2017-02-22\",\"2017-02-23\",\"2017-02-24\",\"2017-02-27\",\"2017-02-28\",\"2017-03-01\",\"2017-03-02\",\"2017-03-03\",\"2017-03-06\",\"2017-03-07\",\"2017-03-08\",\"2017-03-09\",\"2017-03-10\",\"2017-03-13\",\"2017-03-14\",\"2017-03-15\",\"2017-03-16\",\"2017-03-17\",\"2017-03-20\",\"2017-03-21\",\"2017-03-22\",\"2017-03-23\",\"2017-03-24\",\"2017-03-27\",\"2017-03-29\",\"2017-03-30\",\"2017-03-31\",\"2017-04-03\",\"2017-04-04\",\"2017-04-05\",\"2017-04-06\",\"2017-04-07\",\"2017-04-10\",\"2017-04-11\",\"2017-04-12\",\"2017-04-13\",\"2017-04-17\",\"2017-04-18\",\"2017-04-19\",\"2017-04-20\",\"2017-04-21\",\"2017-04-25\",\"2017-04-26\",\"2017-04-27\",\"2017-04-28\",\"2017-05-02\",\"2017-05-03\",\"2017-05-04\",\"2017-05-05\",\"2017-05-08\",\"2017-05-09\",\"2017-05-10\",\"2017-05-12\",\"2017-05-15\",\"2017-05-16\",\"2017-05-17\",\"2017-05-18\",\"2017-05-19\",\"2017-05-22\",\"2017-05-23\",\"2017-05-24\",\"2017-05-26\",\"2017-05-29\",\"2017-05-30\",\"2017-05-31\",\"2017-06-01\",\"2017-06-02\",\"2017-06-05\",\"2017-06-06\",\"2017-06-07\",\"2017-06-08\",\"2017-06-09\",\"2017-06-12\",\"2017-06-13\",\"2017-06-14\",\"2017-06-15\",\"2017-06-16\",\"2017-06-19\",\"2017-06-20\",\"2017-06-21\",\"2017-06-22\",\"2017-06-23\",\"2017-06-26\",\"2017-06-27\",\"2017-06-28\",\"2017-06-29\",\"2017-06-30\",\"2017-07-03\",\"2017-07-04\",\"2017-07-05\",\"2017-07-06\",\"2017-07-07\",\"2017-07-10\",\"2017-07-11\",\"2017-07-12\",\"2017-07-13\",\"2017-07-14\",\"2017-07-17\",\"2017-07-18\",\"2017-07-19\",\"2017-07-20\",\"2017-07-21\",\"2017-07-24\",\"2017-07-25\",\"2017-07-26\",\"2017-07-27\",\"2017-07-28\",\"2017-07-31\",\"2017-08-01\",\"2017-08-02\",\"2017-08-03\",\"2017-08-04\",\"2017-08-07\",\"2017-08-08\",\"2017-08-09\",\"2017-08-10\",\"2017-08-11\",\"2017-08-14\",\"2017-08-15\",\"2017-08-16\",\"2017-08-17\",\"2017-08-18\",\"2017-08-21\",\"2017-08-22\",\"2017-08-23\",\"2017-08-24\",\"2017-08-25\",\"2017-08-28\",\"2017-08-29\",\"2017-08-30\",\"2017-08-31\",\"2017-09-01\",\"2017-09-04\",\"2017-09-05\",\"2017-09-06\",\"2017-09-07\",\"2017-09-08\",\"2017-09-11\",\"2017-09-12\",\"2017-09-13\",\"2017-09-14\",\"2017-09-15\",\"2017-09-18\",\"2017-09-19\",\"2017-09-20\",\"2017-09-21\",\"2017-09-22\",\"2017-09-25\",\"2017-09-26\",\"2017-09-27\",\"2017-09-28\",\"2017-09-29\",\"2017-10-02\",\"2017-10-03\",\"2017-10-04\",\"2017-10-05\",\"2017-10-06\",\"2017-10-09\",\"2017-10-10\",\"2017-10-11\",\"2017-10-12\",\"2017-10-13\",\"2017-10-16\",\"2017-10-17\",\"2017-10-18\",\"2017-10-19\",\"2017-10-20\",\"2017-10-23\",\"2017-10-24\",\"2017-10-25\",\"2017-10-26\",\"2017-10-27\",\"2017-10-30\",\"2017-10-31\",\"2017-11-01\",\"2017-11-02\",\"2017-11-03\",\"2017-11-06\",\"2017-11-07\",\"2017-11-08\",\"2017-11-09\",\"2017-11-10\",\"2017-11-13\",\"2017-11-14\",\"2017-11-15\",\"2017-11-16\",\"2017-11-17\",\"2017-11-20\",\"2017-11-21\",\"2017-11-22\",\"2017-11-23\",\"2017-11-24\",\"2017-11-27\",\"2017-11-28\",\"2017-11-29\",\"2017-11-30\",\"2017-12-01\",\"2017-12-04\",\"2017-12-05\",\"2017-12-06\",\"2017-12-07\",\"2017-12-08\",\"2017-12-11\",\"2017-12-12\",\"2017-12-13\",\"2017-12-14\",\"2017-12-15\",\"2017-12-18\",\"2017-12-19\",\"2017-12-20\",\"2017-12-21\",\"2017-12-22\",\"2017-12-25\",\"2017-12-26\",\"2017-12-27\",\"2017-12-28\",\"2017-12-29\",\"2018-01-01\",\"2018-01-02\",\"2018-01-03\",\"2018-01-04\",\"2018-01-05\",\"2018-01-08\",\"2018-01-09\",\"2018-01-10\",\"2018-01-11\",\"2018-01-12\",\"2018-01-15\",\"2018-01-16\",\"2018-01-17\",\"2018-01-18\",\"2018-01-19\",\"2018-01-22\",\"2018-01-23\",\"2018-01-24\",\"2018-01-25\",\"2018-01-26\",\"2018-01-29\",\"2018-01-30\",\"2018-01-31\",\"2018-02-01\",\"2018-02-02\",\"2018-02-05\",\"2018-02-06\",\"2018-02-07\",\"2018-02-08\",\"2018-02-09\",\"2018-02-12\",\"2018-02-13\",\"2018-02-14\",\"2018-02-15\",\"2018-02-16\",\"2018-02-19\",\"2018-02-20\",\"2018-02-21\",\"2018-02-22\",\"2018-02-23\",\"2018-02-26\",\"2018-02-27\",\"2018-02-28\",\"2018-03-01\",\"2018-03-02\",\"2018-03-05\",\"2018-03-06\",\"2018-03-07\",\"2018-03-08\",\"2018-03-09\",\"2018-03-12\",\"2018-03-13\",\"2018-03-14\",\"2018-03-15\",\"2018-03-16\",\"2018-03-19\",\"2018-03-20\",\"2018-03-21\",\"2018-03-22\",\"2018-03-23\",\"2018-03-26\",\"2018-03-27\",\"2018-03-28\",\"2018-03-29\",\"2018-03-30\",\"2018-04-02\",\"2018-04-03\",\"2018-04-04\",\"2018-04-05\",\"2018-04-06\",\"2018-04-09\",\"2018-04-10\",\"2018-04-11\",\"2018-04-12\",\"2018-04-13\",\"2018-04-16\",\"2018-04-17\",\"2018-04-18\",\"2018-04-19\",\"2018-04-20\",\"2018-04-23\",\"2018-04-24\",\"2018-04-25\",\"2018-04-26\",\"2018-04-27\",\"2018-04-30\",\"2018-05-01\",\"2018-05-02\",\"2018-05-03\",\"2018-05-04\",\"2018-05-07\",\"2018-05-08\",\"2018-05-09\",\"2018-05-10\",\"2018-05-11\",\"2018-05-14\",\"2018-05-15\",\"2018-05-16\",\"2018-05-17\",\"2018-05-18\",\"2018-05-21\",\"2018-05-22\",\"2018-05-23\",\"2018-05-24\",\"2018-05-25\",\"2018-05-28\",\"2018-05-29\",\"2018-05-30\",\"2018-05-31\",\"2018-06-01\",\"2018-06-04\",\"2018-06-05\",\"2018-06-06\",\"2018-06-07\",\"2018-06-08\",\"2018-06-11\",\"2018-06-12\",\"2018-06-13\",\"2018-06-14\",\"2018-06-15\",\"2018-06-18\",\"2018-06-19\",\"2018-06-20\",\"2018-06-21\",\"2018-06-22\",\"2018-06-25\",\"2018-06-26\",\"2018-06-27\",\"2018-06-28\",\"2018-06-29\",\"2018-07-02\",\"2018-07-03\",\"2018-07-04\",\"2018-07-05\",\"2018-07-06\",\"2018-07-09\",\"2018-07-10\",\"2018-07-11\",\"2018-07-12\",\"2018-07-13\",\"2018-07-16\",\"2018-07-17\",\"2018-07-18\",\"2018-07-19\",\"2018-07-20\",\"2018-07-23\",\"2018-07-24\",\"2018-07-25\",\"2018-07-26\",\"2018-07-27\",\"2018-07-30\",\"2018-07-31\",\"2018-08-01\",\"2018-08-02\",\"2018-08-03\",\"2018-08-06\",\"2018-08-07\",\"2018-08-08\",\"2018-08-09\",\"2018-08-10\",\"2018-08-13\",\"2018-08-14\",\"2018-08-15\",\"2018-08-16\",\"2018-08-17\",\"2018-08-20\",\"2018-08-21\",\"2018-08-22\",\"2018-08-23\",\"2018-08-24\",\"2018-08-27\",\"2018-08-28\",\"2018-08-29\",\"2018-08-30\",\"2018-08-31\",\"2018-09-03\",\"2018-09-04\",\"2018-09-05\",\"2018-09-06\",\"2018-09-07\",\"2018-09-10\",\"2018-09-11\",\"2018-09-12\",\"2018-09-13\",\"2018-09-14\",\"2018-09-17\",\"2018-09-18\",\"2018-09-19\",\"2018-09-20\",\"2018-09-21\",\"2018-09-24\",\"2018-09-25\",\"2018-09-26\",\"2018-09-27\",\"2018-09-28\",\"2018-10-01\",\"2018-10-02\",\"2018-10-03\",\"2018-10-04\",\"2018-10-05\",\"2018-10-08\",\"2018-10-09\",\"2018-10-10\",\"2018-10-11\",\"2018-10-12\",\"2018-10-15\",\"2018-10-16\",\"2018-10-17\",\"2018-10-18\",\"2018-10-19\",\"2018-10-22\",\"2018-10-23\",\"2018-10-24\",\"2018-10-25\",\"2018-10-26\",\"2018-10-29\",\"2018-10-30\",\"2018-10-31\",\"2018-11-01\",\"2018-11-02\",\"2018-11-05\",\"2018-11-06\",\"2018-11-07\",\"2018-11-08\",\"2018-11-09\",\"2018-11-12\",\"2018-11-13\",\"2018-11-14\",\"2018-11-15\",\"2018-11-16\",\"2018-11-19\",\"2018-11-20\",\"2018-11-21\",\"2018-11-22\",\"2018-11-23\",\"2018-11-26\",\"2018-11-27\",\"2018-11-28\",\"2018-11-29\",\"2018-11-30\",\"2018-12-03\",\"2018-12-04\",\"2018-12-05\",\"2018-12-06\",\"2018-12-07\",\"2018-12-10\",\"2018-12-11\",\"2018-12-12\",\"2018-12-13\",\"2018-12-14\",\"2018-12-17\",\"2018-12-18\",\"2018-12-19\",\"2018-12-20\",\"2018-12-21\",\"2018-12-24\",\"2018-12-25\",\"2018-12-26\",\"2018-12-27\",\"2018-12-28\",\"2018-12-31\",\"2019-01-01\",\"2019-01-02\",\"2019-01-03\",\"2019-01-04\",\"2019-01-07\",\"2019-01-08\",\"2019-01-09\",\"2019-01-10\",\"2019-01-11\",\"2019-01-14\",\"2019-01-15\",\"2019-01-16\",\"2019-01-17\",\"2019-01-18\",\"2019-01-21\",\"2019-01-22\",\"2019-01-23\",\"2019-01-24\",\"2019-01-25\",\"2019-01-28\",\"2019-01-29\",\"2019-01-30\",\"2019-01-31\",\"2019-02-01\",\"2019-02-04\",\"2019-02-05\",\"2019-02-06\",\"2019-02-07\",\"2019-02-08\",\"2019-02-11\",\"2019-02-12\",\"2019-02-13\",\"2019-02-14\",\"2019-02-15\",\"2019-02-18\",\"2019-02-19\",\"2019-02-20\",\"2019-02-21\",\"2019-02-22\",\"2019-02-25\",\"2019-02-26\",\"2019-02-27\",\"2019-02-28\",\"2019-03-01\",\"2019-03-04\",\"2019-03-05\",\"2019-03-06\",\"2019-03-07\",\"2019-03-08\",\"2019-03-11\",\"2019-03-12\",\"2019-03-13\",\"2019-03-14\",\"2019-03-15\",\"2019-03-18\",\"2019-03-19\",\"2019-03-20\",\"2019-03-21\",\"2019-03-22\",\"2019-03-25\",\"2019-03-26\",\"2019-03-27\",\"2019-03-28\",\"2019-03-29\",\"2019-04-01\",\"2019-04-02\",\"2019-04-03\",\"2019-04-04\",\"2019-04-05\",\"2019-04-08\",\"2019-04-09\",\"2019-04-10\",\"2019-04-11\",\"2019-04-12\",\"2019-04-15\",\"2019-04-16\",\"2019-04-17\",\"2019-04-18\",\"2019-04-19\",\"2019-04-22\",\"2019-04-23\",\"2019-04-24\",\"2019-04-25\",\"2019-04-26\",\"2019-04-29\",\"2019-04-30\",\"2019-05-01\",\"2019-05-02\",\"2019-05-03\",\"2019-05-06\",\"2019-05-07\",\"2019-05-08\",\"2019-05-09\",\"2019-05-10\",\"2019-05-13\",\"2019-05-14\",\"2019-05-15\",\"2019-05-16\",\"2019-05-17\",\"2019-05-20\",\"2019-05-21\",\"2019-05-22\",\"2019-05-23\",\"2019-05-24\",\"2019-05-27\",\"2019-05-28\",\"2019-05-29\",\"2019-05-30\",\"2019-05-31\",\"2019-06-03\",\"2019-06-04\",\"2019-06-05\",\"2019-06-06\",\"2019-06-07\",\"2019-06-10\",\"2019-06-11\",\"2019-06-12\",\"2019-06-13\",\"2019-06-14\",\"2019-06-17\",\"2019-06-18\",\"2019-06-19\",\"2019-06-20\",\"2019-06-21\",\"2019-06-24\",\"2019-06-25\",\"2019-06-26\",\"2019-06-27\",\"2019-06-28\",\"2019-07-01\",\"2019-07-02\",\"2019-07-03\",\"2019-07-04\",\"2019-07-05\",\"2019-07-08\",\"2019-07-09\",\"2019-07-10\",\"2019-07-11\",\"2019-07-12\",\"2019-07-15\",\"2019-07-16\",\"2019-07-17\",\"2019-07-18\",\"2019-07-19\",\"2019-07-22\",\"2019-07-23\",\"2019-07-24\",\"2019-07-25\",\"2019-07-26\",\"2019-07-29\",\"2019-07-30\",\"2019-07-31\",\"2019-08-01\",\"2019-08-02\",\"2019-08-05\",\"2019-08-06\",\"2019-08-07\",\"2019-08-08\",\"2019-08-09\",\"2019-08-12\",\"2019-08-13\",\"2019-08-14\",\"2019-08-15\",\"2019-08-16\",\"2019-08-20\",\"2019-08-21\",\"2019-08-22\",\"2019-08-23\",\"2019-08-26\",\"2019-08-27\",\"2019-08-28\",\"2019-08-29\",\"2019-08-30\",\"2019-09-02\",\"2019-09-03\",\"2019-09-04\",\"2019-09-05\",\"2019-09-06\",\"2019-09-09\",\"2019-09-10\",\"2019-09-11\",\"2019-09-12\",\"2019-09-13\",\"2019-09-16\",\"2019-09-17\",\"2019-09-18\",\"2019-09-19\",\"2019-09-20\",\"2019-09-23\",\"2019-09-24\",\"2019-09-25\",\"2019-09-26\",\"2019-09-27\",\"2019-09-30\",\"2019-10-01\",\"2019-10-02\",\"2019-10-03\",\"2019-10-04\",\"2019-10-07\",\"2019-10-08\",\"2019-10-09\",\"2019-10-10\",\"2019-10-11\",\"2019-10-14\",\"2019-10-15\",\"2019-10-16\",\"2019-10-17\",\"2019-10-18\",\"2019-10-21\",\"2019-10-22\",\"2019-10-23\",\"2019-10-24\",\"2019-10-25\",\"2019-10-28\",\"2019-10-29\",\"2019-10-30\",\"2019-10-31\",\"2019-11-01\",\"2019-11-04\",\"2019-11-05\",\"2019-11-06\",\"2019-11-07\",\"2019-11-08\",\"2019-11-11\",\"2019-11-12\",\"2019-11-13\",\"2019-11-14\",\"2019-11-15\",\"2019-11-19\",\"2019-11-20\",\"2019-11-21\",\"2019-11-22\",\"2019-11-25\",\"2019-11-26\",\"2019-11-27\",\"2019-11-28\",\"2019-11-29\",\"2019-12-02\",\"2019-12-03\",\"2019-12-04\",\"2019-12-05\",\"2019-12-06\",\"2019-12-09\",\"2019-12-10\",\"2019-12-11\",\"2019-12-12\",\"2019-12-13\",\"2019-12-16\",\"2019-12-17\",\"2019-12-18\",\"2019-12-19\",\"2019-12-20\",\"2019-12-23\",\"2019-12-26\",\"2019-12-27\",\"2019-12-30\",\"2020-01-02\"],\"type\":\"candlestick\"}],                        {\"template\":{\"data\":{\"histogram2dcontour\":[{\"type\":\"histogram2dcontour\",\"colorbar\":{\"outlinewidth\":0,\"ticks\":\"\"},\"colorscale\":[[0.0,\"#0d0887\"],[0.1111111111111111,\"#46039f\"],[0.2222222222222222,\"#7201a8\"],[0.3333333333333333,\"#9c179e\"],[0.4444444444444444,\"#bd3786\"],[0.5555555555555556,\"#d8576b\"],[0.6666666666666666,\"#ed7953\"],[0.7777777777777778,\"#fb9f3a\"],[0.8888888888888888,\"#fdca26\"],[1.0,\"#f0f921\"]]}],\"choropleth\":[{\"type\":\"choropleth\",\"colorbar\":{\"outlinewidth\":0,\"ticks\":\"\"}}],\"histogram2d\":[{\"type\":\"histogram2d\",\"colorbar\":{\"outlinewidth\":0,\"ticks\":\"\"},\"colorscale\":[[0.0,\"#0d0887\"],[0.1111111111111111,\"#46039f\"],[0.2222222222222222,\"#7201a8\"],[0.3333333333333333,\"#9c179e\"],[0.4444444444444444,\"#bd3786\"],[0.5555555555555556,\"#d8576b\"],[0.6666666666666666,\"#ed7953\"],[0.7777777777777778,\"#fb9f3a\"],[0.8888888888888888,\"#fdca26\"],[1.0,\"#f0f921\"]]}],\"heatmap\":[{\"type\":\"heatmap\",\"colorbar\":{\"outlinewidth\":0,\"ticks\":\"\"},\"colorscale\":[[0.0,\"#0d0887\"],[0.1111111111111111,\"#46039f\"],[0.2222222222222222,\"#7201a8\"],[0.3333333333333333,\"#9c179e\"],[0.4444444444444444,\"#bd3786\"],[0.5555555555555556,\"#d8576b\"],[0.6666666666666666,\"#ed7953\"],[0.7777777777777778,\"#fb9f3a\"],[0.8888888888888888,\"#fdca26\"],[1.0,\"#f0f921\"]]}],\"heatmapgl\":[{\"type\":\"heatmapgl\",\"colorbar\":{\"outlinewidth\":0,\"ticks\":\"\"},\"colorscale\":[[0.0,\"#0d0887\"],[0.1111111111111111,\"#46039f\"],[0.2222222222222222,\"#7201a8\"],[0.3333333333333333,\"#9c179e\"],[0.4444444444444444,\"#bd3786\"],[0.5555555555555556,\"#d8576b\"],[0.6666666666666666,\"#ed7953\"],[0.7777777777777778,\"#fb9f3a\"],[0.8888888888888888,\"#fdca26\"],[1.0,\"#f0f921\"]]}],\"contourcarpet\":[{\"type\":\"contourcarpet\",\"colorbar\":{\"outlinewidth\":0,\"ticks\":\"\"}}],\"contour\":[{\"type\":\"contour\",\"colorbar\":{\"outlinewidth\":0,\"ticks\":\"\"},\"colorscale\":[[0.0,\"#0d0887\"],[0.1111111111111111,\"#46039f\"],[0.2222222222222222,\"#7201a8\"],[0.3333333333333333,\"#9c179e\"],[0.4444444444444444,\"#bd3786\"],[0.5555555555555556,\"#d8576b\"],[0.6666666666666666,\"#ed7953\"],[0.7777777777777778,\"#fb9f3a\"],[0.8888888888888888,\"#fdca26\"],[1.0,\"#f0f921\"]]}],\"surface\":[{\"type\":\"surface\",\"colorbar\":{\"outlinewidth\":0,\"ticks\":\"\"},\"colorscale\":[[0.0,\"#0d0887\"],[0.1111111111111111,\"#46039f\"],[0.2222222222222222,\"#7201a8\"],[0.3333333333333333,\"#9c179e\"],[0.4444444444444444,\"#bd3786\"],[0.5555555555555556,\"#d8576b\"],[0.6666666666666666,\"#ed7953\"],[0.7777777777777778,\"#fb9f3a\"],[0.8888888888888888,\"#fdca26\"],[1.0,\"#f0f921\"]]}],\"mesh3d\":[{\"type\":\"mesh3d\",\"colorbar\":{\"outlinewidth\":0,\"ticks\":\"\"}}],\"scatter\":[{\"fillpattern\":{\"fillmode\":\"overlay\",\"size\":10,\"solidity\":0.2},\"type\":\"scatter\"}],\"parcoords\":[{\"type\":\"parcoords\",\"line\":{\"colorbar\":{\"outlinewidth\":0,\"ticks\":\"\"}}}],\"scatterpolargl\":[{\"type\":\"scatterpolargl\",\"marker\":{\"colorbar\":{\"outlinewidth\":0,\"ticks\":\"\"}}}],\"bar\":[{\"error_x\":{\"color\":\"#2a3f5f\"},\"error_y\":{\"color\":\"#2a3f5f\"},\"marker\":{\"line\":{\"color\":\"#E5ECF6\",\"width\":0.5},\"pattern\":{\"fillmode\":\"overlay\",\"size\":10,\"solidity\":0.2}},\"type\":\"bar\"}],\"scattergeo\":[{\"type\":\"scattergeo\",\"marker\":{\"colorbar\":{\"outlinewidth\":0,\"ticks\":\"\"}}}],\"scatterpolar\":[{\"type\":\"scatterpolar\",\"marker\":{\"colorbar\":{\"outlinewidth\":0,\"ticks\":\"\"}}}],\"histogram\":[{\"marker\":{\"pattern\":{\"fillmode\":\"overlay\",\"size\":10,\"solidity\":0.2}},\"type\":\"histogram\"}],\"scattergl\":[{\"type\":\"scattergl\",\"marker\":{\"colorbar\":{\"outlinewidth\":0,\"ticks\":\"\"}}}],\"scatter3d\":[{\"type\":\"scatter3d\",\"line\":{\"colorbar\":{\"outlinewidth\":0,\"ticks\":\"\"}},\"marker\":{\"colorbar\":{\"outlinewidth\":0,\"ticks\":\"\"}}}],\"scattermapbox\":[{\"type\":\"scattermapbox\",\"marker\":{\"colorbar\":{\"outlinewidth\":0,\"ticks\":\"\"}}}],\"scatterternary\":[{\"type\":\"scatterternary\",\"marker\":{\"colorbar\":{\"outlinewidth\":0,\"ticks\":\"\"}}}],\"scattercarpet\":[{\"type\":\"scattercarpet\",\"marker\":{\"colorbar\":{\"outlinewidth\":0,\"ticks\":\"\"}}}],\"carpet\":[{\"aaxis\":{\"endlinecolor\":\"#2a3f5f\",\"gridcolor\":\"white\",\"linecolor\":\"white\",\"minorgridcolor\":\"white\",\"startlinecolor\":\"#2a3f5f\"},\"baxis\":{\"endlinecolor\":\"#2a3f5f\",\"gridcolor\":\"white\",\"linecolor\":\"white\",\"minorgridcolor\":\"white\",\"startlinecolor\":\"#2a3f5f\"},\"type\":\"carpet\"}],\"table\":[{\"cells\":{\"fill\":{\"color\":\"#EBF0F8\"},\"line\":{\"color\":\"white\"}},\"header\":{\"fill\":{\"color\":\"#C8D4E3\"},\"line\":{\"color\":\"white\"}},\"type\":\"table\"}],\"barpolar\":[{\"marker\":{\"line\":{\"color\":\"#E5ECF6\",\"width\":0.5},\"pattern\":{\"fillmode\":\"overlay\",\"size\":10,\"solidity\":0.2}},\"type\":\"barpolar\"}],\"pie\":[{\"automargin\":true,\"type\":\"pie\"}]},\"layout\":{\"autotypenumbers\":\"strict\",\"colorway\":[\"#636efa\",\"#EF553B\",\"#00cc96\",\"#ab63fa\",\"#FFA15A\",\"#19d3f3\",\"#FF6692\",\"#B6E880\",\"#FF97FF\",\"#FECB52\"],\"font\":{\"color\":\"#2a3f5f\"},\"hovermode\":\"closest\",\"hoverlabel\":{\"align\":\"left\"},\"paper_bgcolor\":\"white\",\"plot_bgcolor\":\"#E5ECF6\",\"polar\":{\"bgcolor\":\"#E5ECF6\",\"angularaxis\":{\"gridcolor\":\"white\",\"linecolor\":\"white\",\"ticks\":\"\"},\"radialaxis\":{\"gridcolor\":\"white\",\"linecolor\":\"white\",\"ticks\":\"\"}},\"ternary\":{\"bgcolor\":\"#E5ECF6\",\"aaxis\":{\"gridcolor\":\"white\",\"linecolor\":\"white\",\"ticks\":\"\"},\"baxis\":{\"gridcolor\":\"white\",\"linecolor\":\"white\",\"ticks\":\"\"},\"caxis\":{\"gridcolor\":\"white\",\"linecolor\":\"white\",\"ticks\":\"\"}},\"coloraxis\":{\"colorbar\":{\"outlinewidth\":0,\"ticks\":\"\"}},\"colorscale\":{\"sequential\":[[0.0,\"#0d0887\"],[0.1111111111111111,\"#46039f\"],[0.2222222222222222,\"#7201a8\"],[0.3333333333333333,\"#9c179e\"],[0.4444444444444444,\"#bd3786\"],[0.5555555555555556,\"#d8576b\"],[0.6666666666666666,\"#ed7953\"],[0.7777777777777778,\"#fb9f3a\"],[0.8888888888888888,\"#fdca26\"],[1.0,\"#f0f921\"]],\"sequentialminus\":[[0.0,\"#0d0887\"],[0.1111111111111111,\"#46039f\"],[0.2222222222222222,\"#7201a8\"],[0.3333333333333333,\"#9c179e\"],[0.4444444444444444,\"#bd3786\"],[0.5555555555555556,\"#d8576b\"],[0.6666666666666666,\"#ed7953\"],[0.7777777777777778,\"#fb9f3a\"],[0.8888888888888888,\"#fdca26\"],[1.0,\"#f0f921\"]],\"diverging\":[[0,\"#8e0152\"],[0.1,\"#c51b7d\"],[0.2,\"#de77ae\"],[0.3,\"#f1b6da\"],[0.4,\"#fde0ef\"],[0.5,\"#f7f7f7\"],[0.6,\"#e6f5d0\"],[0.7,\"#b8e186\"],[0.8,\"#7fbc41\"],[0.9,\"#4d9221\"],[1,\"#276419\"]]},\"xaxis\":{\"gridcolor\":\"white\",\"linecolor\":\"white\",\"ticks\":\"\",\"title\":{\"standoff\":15},\"zerolinecolor\":\"white\",\"automargin\":true,\"zerolinewidth\":2},\"yaxis\":{\"gridcolor\":\"white\",\"linecolor\":\"white\",\"ticks\":\"\",\"title\":{\"standoff\":15},\"zerolinecolor\":\"white\",\"automargin\":true,\"zerolinewidth\":2},\"scene\":{\"xaxis\":{\"backgroundcolor\":\"#E5ECF6\",\"gridcolor\":\"white\",\"linecolor\":\"white\",\"showbackground\":true,\"ticks\":\"\",\"zerolinecolor\":\"white\",\"gridwidth\":2},\"yaxis\":{\"backgroundcolor\":\"#E5ECF6\",\"gridcolor\":\"white\",\"linecolor\":\"white\",\"showbackground\":true,\"ticks\":\"\",\"zerolinecolor\":\"white\",\"gridwidth\":2},\"zaxis\":{\"backgroundcolor\":\"#E5ECF6\",\"gridcolor\":\"white\",\"linecolor\":\"white\",\"showbackground\":true,\"ticks\":\"\",\"zerolinecolor\":\"white\",\"gridwidth\":2}},\"shapedefaults\":{\"line\":{\"color\":\"#2a3f5f\"}},\"annotationdefaults\":{\"arrowcolor\":\"#2a3f5f\",\"arrowhead\":0,\"arrowwidth\":1},\"geo\":{\"bgcolor\":\"white\",\"landcolor\":\"#E5ECF6\",\"subunitcolor\":\"white\",\"showland\":true,\"showlakes\":true,\"lakecolor\":\"white\"},\"title\":{\"x\":0.05},\"mapbox\":{\"style\":\"light\"}}}},                        {\"responsive\": true}                    ).then(function(){\n",
              "                            \n",
              "var gd = document.getElementById('1d022416-d509-40e4-93a0-be418a77c992');\n",
              "var x = new MutationObserver(function (mutations, observer) {{\n",
              "        var display = window.getComputedStyle(gd).display;\n",
              "        if (!display || display === 'none') {{\n",
              "            console.log([gd, 'removed!']);\n",
              "            Plotly.purge(gd);\n",
              "            observer.disconnect();\n",
              "        }}\n",
              "}});\n",
              "\n",
              "// Listen for the removal of the full notebook cells\n",
              "var notebookContainer = gd.closest('#notebook-container');\n",
              "if (notebookContainer) {{\n",
              "    x.observe(notebookContainer, {childList: true});\n",
              "}}\n",
              "\n",
              "// Listen for the clearing of the current output cell\n",
              "var outputEl = gd.closest('.output');\n",
              "if (outputEl) {{\n",
              "    x.observe(outputEl, {childList: true});\n",
              "}}\n",
              "\n",
              "                        })                };                            </script>        </div>\n",
              "</body>\n",
              "</html>"
            ]
          },
          "metadata": {}
        }
      ],
      "source": [
        "import plotly.graph_objects as go\n",
        "import pandas as pd\n",
        "from datetime import datetime\n",
        "\n",
        "fig = go.Figure(data=[go.Candlestick(x=df['Date'],\n",
        "                open=df['Open'],\n",
        "                high=df['High'],\n",
        "                low=df['Low'],\n",
        "                close=df['Close'])])\n",
        "fig.show()"
      ]
    },
    {
      "cell_type": "markdown",
      "metadata": {
        "id": "R5xABgzz3_Z_"
      },
      "source": [
        "# Melakukan Normalisasi data\n",
        "Normalisasi data dilakukan untuk memudahkan melakukan prediksi. Normalisasi yang digunakan berupa MinMaxScaller."
      ]
    },
    {
      "cell_type": "code",
      "execution_count": 14,
      "metadata": {
        "colab": {
          "base_uri": "https://localhost:8080/"
        },
        "id": "AH1eTar2XWET",
        "outputId": "60751fd5-3148-40a1-b50f-ae2b5516a0df"
      },
      "outputs": [
        {
          "output_type": "stream",
          "name": "stderr",
          "text": [
            "/usr/local/lib/python3.10/dist-packages/sklearn/base.py:432: UserWarning:\n",
            "\n",
            "X has feature names, but MinMaxScaler was fitted without feature names\n",
            "\n"
          ]
        }
      ],
      "source": [
        "# Melakukan Normalisasi untuk Data Latih dan Data Uji\n",
        "x = df_train.loc[:,train_cols].values\n",
        "min_max_scaler = MinMaxScaler()\n",
        "x_train = min_max_scaler.fit_transform(x)\n",
        "x_test = min_max_scaler.transform(df_test.loc[:,train_cols])"
      ]
    },
    {
      "cell_type": "code",
      "execution_count": 15,
      "metadata": {
        "colab": {
          "base_uri": "https://localhost:8080/"
        },
        "id": "BC2kckhKXZF9",
        "outputId": "4b967652-1de3-4a23-e907-34dc948ffea4"
      },
      "outputs": [
        {
          "output_type": "stream",
          "name": "stderr",
          "text": [
            "/usr/local/lib/python3.10/dist-packages/sklearn/base.py:432: UserWarning:\n",
            "\n",
            "X has feature names, but MinMaxScaler was fitted without feature names\n",
            "\n"
          ]
        }
      ],
      "source": [
        "# Melakukan Normalisasi untuk Data Latih dan Data Uji\n",
        "x2 = df2_train.loc[:,train_cols].values\n",
        "min_max_scaler = MinMaxScaler()\n",
        "x2_train = min_max_scaler.fit_transform(x2)\n",
        "x2_test = min_max_scaler.transform(df2_test.loc[:,train_cols])"
      ]
    },
    {
      "cell_type": "code",
      "execution_count": 16,
      "metadata": {
        "colab": {
          "base_uri": "https://localhost:8080/"
        },
        "id": "I0VYl9bjXbRJ",
        "outputId": "4394a2e6-b866-4dce-955c-36de9ec99ac5"
      },
      "outputs": [
        {
          "output_type": "stream",
          "name": "stderr",
          "text": [
            "/usr/local/lib/python3.10/dist-packages/sklearn/base.py:432: UserWarning:\n",
            "\n",
            "X has feature names, but MinMaxScaler was fitted without feature names\n",
            "\n"
          ]
        }
      ],
      "source": [
        "# Melakukan Normalisasi untuk Data Latih dan Data Uji\n",
        "x3 = df3_train.loc[:,train_cols].values\n",
        "min_max_scaler = MinMaxScaler()\n",
        "x3_train = min_max_scaler.fit_transform(x3)\n",
        "x3_test = min_max_scaler.transform(df3_test.loc[:,train_cols])"
      ]
    },
    {
      "cell_type": "markdown",
      "metadata": {
        "id": "_phxlA6J433V"
      },
      "source": [
        "# Menghapus data yang tidak diperlukan"
      ]
    },
    {
      "cell_type": "code",
      "execution_count": 17,
      "metadata": {
        "colab": {
          "base_uri": "https://localhost:8080/"
        },
        "id": "V_MNJG5yXeou",
        "outputId": "1ffe7c71-3e26-4fe8-e8cf-d3bcb09b4a4e"
      },
      "outputs": [
        {
          "output_type": "stream",
          "name": "stdout",
          "text": [
            "Menghapus dataframe yang tidak terpakai . . .\n",
            "Dataframe terhapus sebesar  657  KB\n",
            "Proses penghapusan selesai\n"
          ]
        }
      ],
      "source": [
        "print(\"Menghapus dataframe yang tidak terpakai . . .\")\n",
        "apus  = (sys.getsizeof(df)+sys.getsizeof(df_train)+sys.getsizeof(df_test))//1024\n",
        "print (\"Dataframe terhapus sebesar \", apus ,\" KB\")\n",
        "del df_test\n",
        "del df_train\n",
        "del x\n",
        "print (\"Proses penghapusan selesai\")"
      ]
    },
    {
      "cell_type": "code",
      "execution_count": 18,
      "metadata": {
        "colab": {
          "base_uri": "https://localhost:8080/"
        },
        "id": "EScDocJUXkFp",
        "outputId": "f8ce83d0-125c-4203-e4e0-c9961d45fa04"
      },
      "outputs": [
        {
          "output_type": "stream",
          "name": "stdout",
          "text": [
            "Menghapus dataframe yang tidak terpakai . . .\n",
            "Dataframe terhapus sebesar  328  KB\n",
            "Proses penghapusan selesai\n"
          ]
        }
      ],
      "source": [
        "print(\"Menghapus dataframe yang tidak terpakai . . .\")\n",
        "apus  = (sys.getsizeof(df2)+sys.getsizeof(df2_train)+sys.getsizeof(df2_test))//1024\n",
        "print (\"Dataframe terhapus sebesar \", apus ,\" KB\")\n",
        "del df2_test\n",
        "del df2_train\n",
        "del x2\n",
        "print (\"Proses penghapusan selesai\")"
      ]
    },
    {
      "cell_type": "code",
      "execution_count": 19,
      "metadata": {
        "colab": {
          "base_uri": "https://localhost:8080/"
        },
        "id": "QEyDODBrXoH0",
        "outputId": "ee1cccb7-14cb-4822-b95c-7dfa77c5588d"
      },
      "outputs": [
        {
          "output_type": "stream",
          "name": "stdout",
          "text": [
            "Menghapus dataframe yang tidak terpakai . . .\n",
            "Dataframe terhapus sebesar  328  KB\n",
            "Proses penghapusan selesai\n"
          ]
        }
      ],
      "source": [
        "print(\"Menghapus dataframe yang tidak terpakai . . .\")\n",
        "apus  = (sys.getsizeof(df3)+sys.getsizeof(df3_train)+sys.getsizeof(df3_test))//1024\n",
        "print (\"Dataframe terhapus sebesar \", apus ,\" KB\")\n",
        "del df3_test\n",
        "del df3_train\n",
        "del x3\n",
        "print (\"Proses penghapusan selesai\")"
      ]
    },
    {
      "cell_type": "markdown",
      "metadata": {
        "id": "pP6hcRDj49MX"
      },
      "source": [
        "# Proses data generator untuk model LSTM\n",
        "Proses ini terdiri dari beberapa step, yaitu :\n",
        "\n",
        "1. Memangkas dataset\n",
        "2. Membuat time series"
      ]
    },
    {
      "cell_type": "markdown",
      "metadata": {
        "id": "qCGkjS5t4_Tp"
      },
      "source": [
        "## Memangkas Dataset\n",
        "Pemangkasan ini bertujuan untuk membuang data yang tidak diperlukan"
      ]
    },
    {
      "cell_type": "code",
      "execution_count": 20,
      "metadata": {
        "id": "udP3RJb1Xpza"
      },
      "outputs": [],
      "source": [
        "def print_time(text, stime):\n",
        "    seconds = (time.time()-stime)\n",
        "    print(text, seconds//60,\"menit : \",np.round(seconds%60),\"detik\")"
      ]
    },
    {
      "cell_type": "code",
      "execution_count": 21,
      "metadata": {
        "id": "D-Aqj3xQXyub"
      },
      "outputs": [],
      "source": [
        "def trim_dataset(mat,batch_size):\n",
        "    no_of_rows_drop = mat.shape[0]%batch_size\n",
        "    if no_of_rows_drop > 0:\n",
        "        return mat[:-no_of_rows_drop]\n",
        "    else:\n",
        "        return mat"
      ]
    },
    {
      "cell_type": "markdown",
      "metadata": {
        "id": "eR3HZy1_5Gji"
      },
      "source": [
        "## Membuat Time Series\n",
        "Hal ini dilakukan untuk mengubah dimensi dari dataset, yang semula 2 dimensi, menjadi 3 dimensi. Dimensi tersebut adalah input data, jumlah data yang akan dijadikan ukuran untuk back-forward dan feature yang digunakan"
      ]
    },
    {
      "cell_type": "code",
      "execution_count": 22,
      "metadata": {
        "id": "BsZvQBCsX1eL"
      },
      "outputs": [],
      "source": [
        "def build_timeseries(mat, y_col_index):\n",
        "    dim_0 = mat.shape[0] - TIME_STEPS\n",
        "    dim_1 = mat.shape[1]\n",
        "    x = np.zeros((dim_0, TIME_STEPS, dim_1))\n",
        "    y = np.zeros((dim_0,))\n",
        "    print(\"dim_0\",dim_0)\n",
        "    for i in tqdm_notebook(range(dim_0)):\n",
        "        x[i] = mat[i:TIME_STEPS+i]\n",
        "        y[i] = mat[TIME_STEPS+i, y_col_index]\n",
        "    print(\"Ukuran time-series untuk Input dan Output : \",x.shape,y.shape)\n",
        "    return x, y"
      ]
    },
    {
      "cell_type": "code",
      "execution_count": 23,
      "metadata": {
        "colab": {
          "base_uri": "https://localhost:8080/",
          "height": 118,
          "referenced_widgets": [
            "c82def9db8d04ca2abc47c54e1d34f22",
            "23d0c3c72ba54ab899e88ac2af6bf664",
            "925a859ec19440b79daf98c0efeed76a",
            "13a1b5ec5fdd4ac9b23c247f32f89265",
            "5cd1887e9aac4cd4b1ed9b64fcb1fbb6",
            "2b9482cd5a7848f4956ff54e2642c1db",
            "6f6345c0145c444b8c95d5fb6cac50ff",
            "bdfa459fa9de4437982ca87337c0f0d2",
            "07bcf0e1e58f40beb2653c14fa814eb4",
            "41f63fc7faa04f2c80e8d38dc01bc808",
            "e0f04c4d5a1f4a1daeeef12206ff5ef2"
          ]
        },
        "id": "eadhPb6YX5MY",
        "outputId": "7658e2f7-d66e-419c-d40f-577505a5a2ce"
      },
      "outputs": [
        {
          "output_type": "stream",
          "name": "stdout",
          "text": [
            "Apa masih ada data yang berisikan null? False False\n",
            "dim_0 2211\n"
          ]
        },
        {
          "output_type": "display_data",
          "data": {
            "text/plain": [
              "  0%|          | 0/2211 [00:00<?, ?it/s]"
            ],
            "application/vnd.jupyter.widget-view+json": {
              "version_major": 2,
              "version_minor": 0,
              "model_id": "c82def9db8d04ca2abc47c54e1d34f22"
            }
          },
          "metadata": {}
        },
        {
          "output_type": "stream",
          "name": "stdout",
          "text": [
            "Ukuran time-series untuk Input dan Output :  (2211, 50, 5) (2211,)\n",
            "Data yang sudah dipangkas menjadi :  (2200, 50, 5) (2200,)\n"
          ]
        }
      ],
      "source": [
        "# Pengecekan data yang masih null\n",
        "print(\"Apa masih ada data yang berisikan null?\",np.isnan(x_train).any(), np.isnan(x_train).any())\n",
        "x_t, y_t = build_timeseries(x_train, 3)\n",
        "x_t = trim_dataset(x_t, BATCH_SIZE)\n",
        "y_t = trim_dataset(y_t, BATCH_SIZE)\n",
        "print(\"Data yang sudah dipangkas menjadi : \",x_t.shape, y_t.shape)"
      ]
    },
    {
      "cell_type": "code",
      "execution_count": 24,
      "metadata": {
        "colab": {
          "base_uri": "https://localhost:8080/",
          "height": 118,
          "referenced_widgets": [
            "a27243b0559e41e5be3701468b874eb7",
            "a96cf5f7be294b05b0cc368cf760175b",
            "5f694f256fb2471bb659e116598434c4",
            "3c5cb0cfb8c549c0a02249ac3bca590b",
            "fd4b98ee59494f8ea21f621509e47c37",
            "86a80eab85e64f7f9f02d74bb16d5439",
            "e7b389d0d88046f991cbe3f5a8cb50d4",
            "6d69a198781a492299855c9035f6fdaa",
            "1e916a40a4ea468da5e1664a9f0ed334",
            "f711eec8bd17476a9ca1d5cdd563fb8b",
            "31b9d1ee43ec4ed1bfd228effb02f737"
          ]
        },
        "id": "dMSsgz1GX8V9",
        "outputId": "ac4ee8c6-539d-4d7b-b050-d410cc320e40"
      },
      "outputs": [
        {
          "output_type": "stream",
          "name": "stdout",
          "text": [
            "Apa masih ada data yang berisikan null? False False\n",
            "dim_0 1081\n"
          ]
        },
        {
          "output_type": "display_data",
          "data": {
            "text/plain": [
              "  0%|          | 0/1081 [00:00<?, ?it/s]"
            ],
            "application/vnd.jupyter.widget-view+json": {
              "version_major": 2,
              "version_minor": 0,
              "model_id": "a27243b0559e41e5be3701468b874eb7"
            }
          },
          "metadata": {}
        },
        {
          "output_type": "stream",
          "name": "stdout",
          "text": [
            "Ukuran time-series untuk Input dan Output :  (1081, 50, 5) (1081,)\n",
            "Data yang sudah dipangkas menjadi :  (1080, 50, 5) (1080,)\n"
          ]
        }
      ],
      "source": [
        "# Pengecekan data yang masih null\n",
        "print(\"Apa masih ada data yang berisikan null?\",np.isnan(x2_train).any(), np.isnan(x2_train).any())\n",
        "x2_t, y2_t = build_timeseries(x2_train, 3)\n",
        "x2_t = trim_dataset(x2_t, BATCH_SIZE)\n",
        "y2_t = trim_dataset(y2_t, BATCH_SIZE)\n",
        "print(\"Data yang sudah dipangkas menjadi : \",x2_t.shape, y2_t.shape)"
      ]
    },
    {
      "cell_type": "code",
      "execution_count": 25,
      "metadata": {
        "colab": {
          "base_uri": "https://localhost:8080/",
          "height": 118,
          "referenced_widgets": [
            "75984fef01e34778891eda77a536f4b0",
            "9de958e504f3429e9157c537d4756fbb",
            "c8eb5e4051964a80bc23fe5f8cfa6456",
            "7f8a93a40e0c4a479009cafd5b172f00",
            "fe46addd43a14beabd27f8bf6fda9f78",
            "51d4bde0e75c43bdafdcc02eb66c5712",
            "40223a72a9ca447d9e61cd156d865039",
            "f3fefe2a3630473a83a62e20434f8456",
            "ae53b6bc1ac54fd687e10fb460f6e95f",
            "4ad5ba9410094a029316eb3e9f73b782",
            "59a889ebbaed4bdb80afddff49a80061"
          ]
        },
        "id": "Pn4To6VVYBVj",
        "outputId": "edaf352c-bc74-43c2-ae2b-c801eb33757d"
      },
      "outputs": [
        {
          "output_type": "stream",
          "name": "stdout",
          "text": [
            "Apa masih ada data yang berisikan null? False False\n",
            "dim_0 1080\n"
          ]
        },
        {
          "output_type": "display_data",
          "data": {
            "text/plain": [
              "  0%|          | 0/1080 [00:00<?, ?it/s]"
            ],
            "application/vnd.jupyter.widget-view+json": {
              "version_major": 2,
              "version_minor": 0,
              "model_id": "75984fef01e34778891eda77a536f4b0"
            }
          },
          "metadata": {}
        },
        {
          "output_type": "stream",
          "name": "stdout",
          "text": [
            "Ukuran time-series untuk Input dan Output :  (1080, 50, 5) (1080,)\n",
            "Data yang sudah dipangkas menjadi :  (1080, 50, 5) (1080,)\n"
          ]
        }
      ],
      "source": [
        "# Pengecekan data yang masih null\n",
        "print(\"Apa masih ada data yang berisikan null?\",np.isnan(x3_train).any(), np.isnan(x3_train).any())\n",
        "x3_t, y3_t = build_timeseries(x3_train, 3)\n",
        "x3_t = trim_dataset(x3_t, BATCH_SIZE)\n",
        "y3_t = trim_dataset(y3_t, BATCH_SIZE)\n",
        "print(\"Data yang sudah dipangkas menjadi : \",x3_t.shape, y3_t.shape)"
      ]
    },
    {
      "cell_type": "code",
      "execution_count": 26,
      "metadata": {
        "colab": {
          "base_uri": "https://localhost:8080/",
          "height": 84,
          "referenced_widgets": [
            "35e360e00b2c46b392a4ef78232fda03",
            "09ad7d057ff14dc188becf0ea6c6f16f",
            "7aac10da420f4603b7932ef843efcf3d",
            "eb5031acc92d42cebf464e60e7f4d1ba",
            "5945c46852d44ed3b5a7e4afbb90f384",
            "c326371e63ff4f16b113e0fb157d0014",
            "6c594434d8f34cbd8cb5f2998c4837ed",
            "9cd6bcf67e554958ab0cfeb2e2e9a37d",
            "7af94e5ef37a4e81ada5710c5d703144",
            "0103757647e047008d1c286e47294e97",
            "8733ad68023541dc8217ded40fe7f8d1"
          ]
        },
        "id": "Wdoo2r-kYEOm",
        "outputId": "16a94466-3ba5-4ce3-85e8-e7c6efad5082"
      },
      "outputs": [
        {
          "output_type": "stream",
          "name": "stdout",
          "text": [
            "dim_0 516\n"
          ]
        },
        {
          "output_type": "display_data",
          "data": {
            "text/plain": [
              "  0%|          | 0/516 [00:00<?, ?it/s]"
            ],
            "application/vnd.jupyter.widget-view+json": {
              "version_major": 2,
              "version_minor": 0,
              "model_id": "35e360e00b2c46b392a4ef78232fda03"
            }
          },
          "metadata": {}
        },
        {
          "output_type": "stream",
          "name": "stdout",
          "text": [
            "Ukuran time-series untuk Input dan Output :  (516, 50, 5) (516,)\n"
          ]
        }
      ],
      "source": [
        "# Membuat Time-Series dari data uji\n",
        "x_temp, y_temp = build_timeseries(x_test, 3)\n",
        "x_val, x_test_t = np.split(trim_dataset(x_temp, BATCH_SIZE),2)\n",
        "y_val, y_test_t = np.split(trim_dataset(y_temp, BATCH_SIZE),2)"
      ]
    },
    {
      "cell_type": "code",
      "execution_count": 27,
      "metadata": {
        "colab": {
          "base_uri": "https://localhost:8080/",
          "height": 84,
          "referenced_widgets": [
            "fddd1edea7f345c6ac97f4b8ecceee0a",
            "9f283b35ee464196bd481705e074df43",
            "0bf26f49f814464cabf2dff8fc2ad609",
            "bce59a305af54e2b854533b06abb337c",
            "79acdce496bb4e24a4e6c0e64497bed6",
            "0993d667d49a4e5db0be5b64d9d33022",
            "efda1f6176a2488a87001b86ef84a908",
            "ee6fc1550e96411496d863f803909a99",
            "922cf0a7b2e24c8ebb18fb78d2f12bcc",
            "63bc7ff3576d47ff97bac42c7049e789",
            "216835507b20437298f92db7dee4b79d"
          ]
        },
        "id": "Y0Y4669eYHNw",
        "outputId": "eb3380e4-e583-4226-c557-a1134f6053db"
      },
      "outputs": [
        {
          "output_type": "stream",
          "name": "stdout",
          "text": [
            "dim_0 233\n"
          ]
        },
        {
          "output_type": "display_data",
          "data": {
            "text/plain": [
              "  0%|          | 0/233 [00:00<?, ?it/s]"
            ],
            "application/vnd.jupyter.widget-view+json": {
              "version_major": 2,
              "version_minor": 0,
              "model_id": "fddd1edea7f345c6ac97f4b8ecceee0a"
            }
          },
          "metadata": {}
        },
        {
          "output_type": "stream",
          "name": "stdout",
          "text": [
            "Ukuran time-series untuk Input dan Output :  (233, 50, 5) (233,)\n"
          ]
        }
      ],
      "source": [
        "# Membuat Time-Series dari data uji\n",
        "x2_temp, y2_temp = build_timeseries(x2_test, 3)\n",
        "x2_val, x2_test_t = np.split(trim_dataset(x2_temp, BATCH_SIZE),2)\n",
        "y2_val, y2_test_t = np.split(trim_dataset(y2_temp, BATCH_SIZE),2)"
      ]
    },
    {
      "cell_type": "code",
      "execution_count": 28,
      "metadata": {
        "colab": {
          "base_uri": "https://localhost:8080/",
          "height": 84,
          "referenced_widgets": [
            "91f83120579a439ab8620cf52afefcc5",
            "94e4c288f0664c24b3524b4cbb6e89cb",
            "92608b88624a429e9882c64c247a9c6e",
            "177504f16a4f4e0bb68c4c9f44642e85",
            "d364b3278b644d8291127f93b8aa5634",
            "2c1d0c15ef3543f39383a3dd7ffcb0f4",
            "b61f9120bba847c58d7068447a6f6e06",
            "9be562c68ea842da8090841778980b39",
            "1411b4dc65ef45ff8047b0f3c202b105",
            "8fc6d5ce3caa4de9a95d484b0fe60610",
            "e10369d8811040f38e4a67a025237a59"
          ]
        },
        "id": "tQ2sXmN9YKDD",
        "outputId": "355f8cb4-5a1b-470d-c5d8-43382b9a048c"
      },
      "outputs": [
        {
          "output_type": "stream",
          "name": "stdout",
          "text": [
            "dim_0 233\n"
          ]
        },
        {
          "output_type": "display_data",
          "data": {
            "text/plain": [
              "  0%|          | 0/233 [00:00<?, ?it/s]"
            ],
            "application/vnd.jupyter.widget-view+json": {
              "version_major": 2,
              "version_minor": 0,
              "model_id": "91f83120579a439ab8620cf52afefcc5"
            }
          },
          "metadata": {}
        },
        {
          "output_type": "stream",
          "name": "stdout",
          "text": [
            "Ukuran time-series untuk Input dan Output :  (233, 50, 5) (233,)\n"
          ]
        }
      ],
      "source": [
        "# Membuat Time-Series dari data uji\n",
        "x3_temp, y3_temp = build_timeseries(x3_test, 3)\n",
        "x3_val, x3_test_t = np.split(trim_dataset(x3_temp, BATCH_SIZE),2)\n",
        "y3_val, y3_test_t = np.split(trim_dataset(y3_temp, BATCH_SIZE),2)"
      ]
    },
    {
      "cell_type": "code",
      "execution_count": 29,
      "metadata": {
        "colab": {
          "base_uri": "https://localhost:8080/"
        },
        "id": "wrFaGM0HYMXk",
        "outputId": "e5210620-5c28-4bb4-e266-168c514e3261"
      },
      "outputs": [
        {
          "output_type": "stream",
          "name": "stdout",
          "text": [
            "Banyaknya ukuran data validasi : (250, 50, 5) (250,)\n"
          ]
        }
      ],
      "source": [
        "print(\"Banyaknya ukuran data validasi :\", x_val.shape, y_val.shape)"
      ]
    },
    {
      "cell_type": "code",
      "execution_count": 30,
      "metadata": {
        "colab": {
          "base_uri": "https://localhost:8080/"
        },
        "id": "_qXj-2YiYPlS",
        "outputId": "ac0e2ffd-6be6-4b6d-c637-38cc6c5c6ae9"
      },
      "outputs": [
        {
          "output_type": "stream",
          "name": "stdout",
          "text": [
            "Banyaknya ukuran data validasi : (110, 50, 5) (110,)\n"
          ]
        }
      ],
      "source": [
        "print(\"Banyaknya ukuran data validasi :\", x2_val.shape, y2_val.shape)"
      ]
    },
    {
      "cell_type": "code",
      "execution_count": 31,
      "metadata": {
        "colab": {
          "base_uri": "https://localhost:8080/"
        },
        "id": "FHiGdzF4YRs5",
        "outputId": "3c3ff8bf-c73d-4be5-9cef-7c1b9ab17a9f"
      },
      "outputs": [
        {
          "output_type": "stream",
          "name": "stdout",
          "text": [
            "Banyaknya ukuran data validasi : (110, 50, 5) (110,)\n"
          ]
        }
      ],
      "source": [
        "print(\"Banyaknya ukuran data validasi :\", x3_val.shape, y3_val.shape)"
      ]
    },
    {
      "cell_type": "markdown",
      "metadata": {
        "id": "mIw32b095ikP"
      },
      "source": [
        "# Membuat model LSTM\n",
        "Pembuatan model ini tidak terlepas dari hyperparameter yang digunakan, banyanya sel LSTM yang dibuat dan banyaknya hidden layer yang dibuat"
      ]
    },
    {
      "cell_type": "code",
      "execution_count": 32,
      "metadata": {
        "id": "38f_px6EYU4S"
      },
      "outputs": [],
      "source": [
        "def create_model():\n",
        "    lstm_model = Sequential()\n",
        "    # (batch_size, timesteps, data_dim)\n",
        "    lstm_model.add(LSTM(256, batch_input_shape=(BATCH_SIZE, TIME_STEPS, x_t.shape[2]),\n",
        "                        dropout=0.0, recurrent_dropout=0.0, stateful=True, return_sequences=True,\n",
        "                        kernel_initializer='random_uniform'))\n",
        "    lstm_model.add(Dropout(0.4))\n",
        "    lstm_model.add(LSTM(256, dropout=0.4))\n",
        "    lstm_model.add(Dropout(0.4))\n",
        "    lstm_model.add(Dense(128,activation='tanh'))\n",
        "    lstm_model.add(Dense(1,activation='sigmoid'))\n",
        "    #optimizer = optimizers.RMSprop(lr=params[\"lr\"])\n",
        "    optimizer = optimizers.Adam(lr=params[\"lr\"], beta_1=0.9, beta_2=0.999, amsgrad=False, epsilon=None) # ini yg paling optimal\n",
        "    # optimizer = optimizers.SGD(lr=0.000001, decay=1e-6, momentum=0.9, nesterov=True)\n",
        "    lstm_model.compile(loss='mean_squared_error', optimizer=optimizer, metrics=['accuracy'])\n",
        "    return lstm_model"
      ]
    },
    {
      "cell_type": "code",
      "execution_count": 33,
      "metadata": {
        "colab": {
          "base_uri": "https://localhost:8080/"
        },
        "id": "IjZ5I76LYaqK",
        "outputId": "7804d3b8-0cc8-41b1-f612-cde8bf9b1705"
      },
      "outputs": [
        {
          "output_type": "stream",
          "name": "stdout",
          "text": [
            "Model tidak ditemukan\n"
          ]
        }
      ],
      "source": [
        "model = None\n",
        "try:\n",
        "    model = pickle.load(open(\"/content/drive/My Drive/TA_LSTM/outputs/lstm_model\", 'rb'))\n",
        "    model = pickle.load(open(\"lstm_model\", 'rb'))\n",
        "    print(\"Model ditemukan. Menggunakan model yang sudah ada . . .\")\n",
        "except FileNotFoundError:\n",
        "    print(\"Model tidak ditemukan\")"
      ]
    },
    {
      "cell_type": "code",
      "execution_count": 34,
      "metadata": {
        "colab": {
          "base_uri": "https://localhost:8080/",
          "height": 53
        },
        "id": "HvjdxgYyYbbz",
        "outputId": "55795984-a30f-4dac-c482-586ccdf4cf89"
      },
      "outputs": [
        {
          "output_type": "execute_result",
          "data": {
            "text/plain": [
              "'\\nif(not os.path.exists(\\'/content/drive/My Drive/TA_LSTM/outputs/best_model.h5\\')):\\n  print(\"Model belum dibuat sebelumnya\")\\nelse:\\n  print(\"Model sudah dibuat sebelumnya. Model akan dimuat sesaat lagi . . .\")\\n  model = load_model(\\'/content/drive/My Drive/TA_LSTM/outputs/best_model.h5\\')\\n  print(\"Model dimuat\")\\n'"
            ],
            "application/vnd.google.colaboratory.intrinsic+json": {
              "type": "string"
            }
          },
          "metadata": {},
          "execution_count": 34
        }
      ],
      "source": [
        "\n",
        "'''\n",
        "if(not os.path.exists('/content/drive/My Drive/TA_LSTM/outputs/best_model.h5')):\n",
        "  print(\"Model belum dibuat sebelumnya\")\n",
        "else:\n",
        "  print(\"Model sudah dibuat sebelumnya. Model akan dimuat sesaat lagi . . .\")\n",
        "  model = load_model('/content/drive/My Drive/TA_LSTM/outputs/best_model.h5')\n",
        "  print(\"Model dimuat\")\n",
        "'''"
      ]
    },
    {
      "cell_type": "markdown",
      "metadata": {
        "id": "qQi_eAsO5pIj"
      },
      "source": [
        "# Melakukan iterasi untuk melatih data dalam beberapa Epoch"
      ]
    },
    {
      "cell_type": "code",
      "execution_count": 35,
      "metadata": {
        "colab": {
          "base_uri": "https://localhost:8080/"
        },
        "id": "9Td5iUxBYvD3",
        "outputId": "205fe637-4861-4d7d-93da-bd4cfb479e89"
      },
      "outputs": [
        {
          "output_type": "stream",
          "name": "stdout",
          "text": [
            "Membuat Model ...\n"
          ]
        },
        {
          "output_type": "stream",
          "name": "stderr",
          "text": [
            "/usr/local/lib/python3.10/dist-packages/keras/optimizers/legacy/adam.py:117: UserWarning:\n",
            "\n",
            "The `lr` argument is deprecated, use `learning_rate` instead.\n",
            "\n"
          ]
        },
        {
          "output_type": "stream",
          "name": "stdout",
          "text": [
            "Epoch 1/200\n",
            "\n",
            "Epoch 1: val_loss improved from inf to 0.04606, saving model to /content/drive/My Drive/TA_LSTM/outputs/lstm_best_11-1-20_2PM/iter_changes/best_model.h5\n",
            "110/110 - 11s - loss: 0.0662 - accuracy: 4.5455e-04 - val_loss: 0.0461 - val_accuracy: 0.0000e+00 - 11s/epoch - 103ms/step\n",
            "Epoch 2/200\n",
            "\n",
            "Epoch 2: val_loss improved from 0.04606 to 0.03766, saving model to /content/drive/My Drive/TA_LSTM/outputs/lstm_best_11-1-20_2PM/iter_changes/best_model.h5\n",
            "110/110 - 1s - loss: 0.0480 - accuracy: 9.0909e-04 - val_loss: 0.0377 - val_accuracy: 0.0000e+00 - 800ms/epoch - 7ms/step\n",
            "Epoch 3/200\n",
            "\n",
            "Epoch 3: val_loss improved from 0.03766 to 0.01759, saving model to /content/drive/My Drive/TA_LSTM/outputs/lstm_best_11-1-20_2PM/iter_changes/best_model.h5\n",
            "110/110 - 1s - loss: 0.0264 - accuracy: 9.0909e-04 - val_loss: 0.0176 - val_accuracy: 0.0000e+00 - 767ms/epoch - 7ms/step\n",
            "Epoch 4/200\n",
            "\n",
            "Epoch 4: val_loss improved from 0.01759 to 0.01177, saving model to /content/drive/My Drive/TA_LSTM/outputs/lstm_best_11-1-20_2PM/iter_changes/best_model.h5\n",
            "110/110 - 1s - loss: 0.0120 - accuracy: 9.0909e-04 - val_loss: 0.0118 - val_accuracy: 0.0000e+00 - 837ms/epoch - 8ms/step\n",
            "Epoch 5/200\n",
            "\n",
            "Epoch 5: val_loss improved from 0.01177 to 0.00648, saving model to /content/drive/My Drive/TA_LSTM/outputs/lstm_best_11-1-20_2PM/iter_changes/best_model.h5\n",
            "110/110 - 1s - loss: 0.0055 - accuracy: 9.0909e-04 - val_loss: 0.0065 - val_accuracy: 0.0000e+00 - 774ms/epoch - 7ms/step\n",
            "Epoch 6/200\n",
            "\n",
            "Epoch 6: val_loss improved from 0.00648 to 0.00593, saving model to /content/drive/My Drive/TA_LSTM/outputs/lstm_best_11-1-20_2PM/iter_changes/best_model.h5\n",
            "110/110 - 1s - loss: 0.0040 - accuracy: 9.0909e-04 - val_loss: 0.0059 - val_accuracy: 0.0000e+00 - 767ms/epoch - 7ms/step\n",
            "Epoch 7/200\n",
            "\n",
            "Epoch 7: val_loss did not improve from 0.00593\n",
            "110/110 - 1s - loss: 0.0039 - accuracy: 9.0909e-04 - val_loss: 0.0060 - val_accuracy: 0.0000e+00 - 884ms/epoch - 8ms/step\n",
            "Epoch 8/200\n",
            "\n",
            "Epoch 8: val_loss did not improve from 0.00593\n",
            "110/110 - 1s - loss: 0.0038 - accuracy: 9.0909e-04 - val_loss: 0.0061 - val_accuracy: 0.0000e+00 - 991ms/epoch - 9ms/step\n",
            "Epoch 9/200\n",
            "\n",
            "Epoch 9: val_loss improved from 0.00593 to 0.00588, saving model to /content/drive/My Drive/TA_LSTM/outputs/lstm_best_11-1-20_2PM/iter_changes/best_model.h5\n",
            "110/110 - 1s - loss: 0.0035 - accuracy: 9.0909e-04 - val_loss: 0.0059 - val_accuracy: 0.0000e+00 - 1s/epoch - 9ms/step\n",
            "Epoch 10/200\n",
            "\n",
            "Epoch 10: val_loss did not improve from 0.00588\n",
            "110/110 - 1s - loss: 0.0035 - accuracy: 9.0909e-04 - val_loss: 0.0059 - val_accuracy: 0.0000e+00 - 942ms/epoch - 9ms/step\n",
            "Epoch 11/200\n",
            "\n",
            "Epoch 11: val_loss improved from 0.00588 to 0.00581, saving model to /content/drive/My Drive/TA_LSTM/outputs/lstm_best_11-1-20_2PM/iter_changes/best_model.h5\n",
            "110/110 - 1s - loss: 0.0034 - accuracy: 9.0909e-04 - val_loss: 0.0058 - val_accuracy: 0.0000e+00 - 807ms/epoch - 7ms/step\n",
            "Epoch 12/200\n",
            "\n",
            "Epoch 12: val_loss improved from 0.00581 to 0.00559, saving model to /content/drive/My Drive/TA_LSTM/outputs/lstm_best_11-1-20_2PM/iter_changes/best_model.h5\n",
            "110/110 - 1s - loss: 0.0034 - accuracy: 9.0909e-04 - val_loss: 0.0056 - val_accuracy: 0.0000e+00 - 771ms/epoch - 7ms/step\n",
            "Epoch 13/200\n",
            "\n",
            "Epoch 13: val_loss improved from 0.00559 to 0.00539, saving model to /content/drive/My Drive/TA_LSTM/outputs/lstm_best_11-1-20_2PM/iter_changes/best_model.h5\n",
            "110/110 - 1s - loss: 0.0032 - accuracy: 9.0909e-04 - val_loss: 0.0054 - val_accuracy: 0.0000e+00 - 784ms/epoch - 7ms/step\n",
            "Epoch 14/200\n",
            "\n",
            "Epoch 14: val_loss improved from 0.00539 to 0.00525, saving model to /content/drive/My Drive/TA_LSTM/outputs/lstm_best_11-1-20_2PM/iter_changes/best_model.h5\n",
            "110/110 - 1s - loss: 0.0032 - accuracy: 9.0909e-04 - val_loss: 0.0053 - val_accuracy: 0.0000e+00 - 768ms/epoch - 7ms/step\n",
            "Epoch 15/200\n",
            "\n",
            "Epoch 15: val_loss improved from 0.00525 to 0.00504, saving model to /content/drive/My Drive/TA_LSTM/outputs/lstm_best_11-1-20_2PM/iter_changes/best_model.h5\n",
            "110/110 - 1s - loss: 0.0031 - accuracy: 9.0909e-04 - val_loss: 0.0050 - val_accuracy: 0.0000e+00 - 795ms/epoch - 7ms/step\n",
            "Epoch 16/200\n",
            "\n",
            "Epoch 16: val_loss improved from 0.00504 to 0.00480, saving model to /content/drive/My Drive/TA_LSTM/outputs/lstm_best_11-1-20_2PM/iter_changes/best_model.h5\n",
            "110/110 - 1s - loss: 0.0030 - accuracy: 9.0909e-04 - val_loss: 0.0048 - val_accuracy: 0.0000e+00 - 786ms/epoch - 7ms/step\n",
            "Epoch 17/200\n",
            "\n",
            "Epoch 17: val_loss improved from 0.00480 to 0.00475, saving model to /content/drive/My Drive/TA_LSTM/outputs/lstm_best_11-1-20_2PM/iter_changes/best_model.h5\n",
            "110/110 - 1s - loss: 0.0029 - accuracy: 9.0909e-04 - val_loss: 0.0047 - val_accuracy: 0.0000e+00 - 802ms/epoch - 7ms/step\n",
            "Epoch 18/200\n",
            "\n",
            "Epoch 18: val_loss improved from 0.00475 to 0.00446, saving model to /content/drive/My Drive/TA_LSTM/outputs/lstm_best_11-1-20_2PM/iter_changes/best_model.h5\n",
            "110/110 - 1s - loss: 0.0028 - accuracy: 9.0909e-04 - val_loss: 0.0045 - val_accuracy: 0.0000e+00 - 769ms/epoch - 7ms/step\n",
            "Epoch 19/200\n",
            "\n",
            "Epoch 19: val_loss improved from 0.00446 to 0.00421, saving model to /content/drive/My Drive/TA_LSTM/outputs/lstm_best_11-1-20_2PM/iter_changes/best_model.h5\n",
            "110/110 - 1s - loss: 0.0028 - accuracy: 9.0909e-04 - val_loss: 0.0042 - val_accuracy: 0.0000e+00 - 779ms/epoch - 7ms/step\n",
            "Epoch 20/200\n",
            "\n",
            "Epoch 20: val_loss improved from 0.00421 to 0.00398, saving model to /content/drive/My Drive/TA_LSTM/outputs/lstm_best_11-1-20_2PM/iter_changes/best_model.h5\n",
            "110/110 - 1s - loss: 0.0026 - accuracy: 9.0909e-04 - val_loss: 0.0040 - val_accuracy: 0.0000e+00 - 781ms/epoch - 7ms/step\n",
            "Epoch 21/200\n",
            "\n",
            "Epoch 21: val_loss improved from 0.00398 to 0.00373, saving model to /content/drive/My Drive/TA_LSTM/outputs/lstm_best_11-1-20_2PM/iter_changes/best_model.h5\n",
            "110/110 - 1s - loss: 0.0025 - accuracy: 9.0909e-04 - val_loss: 0.0037 - val_accuracy: 0.0000e+00 - 780ms/epoch - 7ms/step\n",
            "Epoch 22/200\n",
            "\n",
            "Epoch 22: val_loss did not improve from 0.00373\n",
            "110/110 - 1s - loss: 0.0026 - accuracy: 9.0909e-04 - val_loss: 0.0038 - val_accuracy: 0.0000e+00 - 716ms/epoch - 7ms/step\n",
            "Epoch 23/200\n",
            "\n",
            "Epoch 23: val_loss improved from 0.00373 to 0.00354, saving model to /content/drive/My Drive/TA_LSTM/outputs/lstm_best_11-1-20_2PM/iter_changes/best_model.h5\n",
            "110/110 - 1s - loss: 0.0024 - accuracy: 9.0909e-04 - val_loss: 0.0035 - val_accuracy: 0.0000e+00 - 882ms/epoch - 8ms/step\n",
            "Epoch 24/200\n",
            "\n",
            "Epoch 24: val_loss improved from 0.00354 to 0.00346, saving model to /content/drive/My Drive/TA_LSTM/outputs/lstm_best_11-1-20_2PM/iter_changes/best_model.h5\n",
            "110/110 - 1s - loss: 0.0024 - accuracy: 9.0909e-04 - val_loss: 0.0035 - val_accuracy: 0.0000e+00 - 1s/epoch - 10ms/step\n",
            "Epoch 25/200\n",
            "\n",
            "Epoch 25: val_loss did not improve from 0.00346\n",
            "110/110 - 1s - loss: 0.0024 - accuracy: 9.0909e-04 - val_loss: 0.0035 - val_accuracy: 0.0000e+00 - 960ms/epoch - 9ms/step\n",
            "Epoch 26/200\n",
            "\n",
            "Epoch 26: val_loss did not improve from 0.00346\n",
            "110/110 - 1s - loss: 0.0023 - accuracy: 9.0909e-04 - val_loss: 0.0035 - val_accuracy: 0.0000e+00 - 975ms/epoch - 9ms/step\n",
            "Epoch 27/200\n",
            "\n",
            "Epoch 27: val_loss improved from 0.00346 to 0.00316, saving model to /content/drive/My Drive/TA_LSTM/outputs/lstm_best_11-1-20_2PM/iter_changes/best_model.h5\n",
            "110/110 - 1s - loss: 0.0023 - accuracy: 9.0909e-04 - val_loss: 0.0032 - val_accuracy: 0.0000e+00 - 786ms/epoch - 7ms/step\n",
            "Epoch 28/200\n",
            "\n",
            "Epoch 28: val_loss did not improve from 0.00316\n",
            "110/110 - 1s - loss: 0.0023 - accuracy: 9.0909e-04 - val_loss: 0.0032 - val_accuracy: 0.0000e+00 - 738ms/epoch - 7ms/step\n",
            "Epoch 29/200\n",
            "\n",
            "Epoch 29: val_loss improved from 0.00316 to 0.00304, saving model to /content/drive/My Drive/TA_LSTM/outputs/lstm_best_11-1-20_2PM/iter_changes/best_model.h5\n",
            "110/110 - 1s - loss: 0.0021 - accuracy: 9.0909e-04 - val_loss: 0.0030 - val_accuracy: 0.0000e+00 - 806ms/epoch - 7ms/step\n",
            "Epoch 30/200\n",
            "\n",
            "Epoch 30: val_loss improved from 0.00304 to 0.00303, saving model to /content/drive/My Drive/TA_LSTM/outputs/lstm_best_11-1-20_2PM/iter_changes/best_model.h5\n",
            "110/110 - 1s - loss: 0.0022 - accuracy: 9.0909e-04 - val_loss: 0.0030 - val_accuracy: 0.0000e+00 - 793ms/epoch - 7ms/step\n",
            "Epoch 31/200\n",
            "\n",
            "Epoch 31: val_loss improved from 0.00303 to 0.00296, saving model to /content/drive/My Drive/TA_LSTM/outputs/lstm_best_11-1-20_2PM/iter_changes/best_model.h5\n",
            "110/110 - 1s - loss: 0.0021 - accuracy: 9.0909e-04 - val_loss: 0.0030 - val_accuracy: 0.0000e+00 - 807ms/epoch - 7ms/step\n",
            "Epoch 32/200\n",
            "\n",
            "Epoch 32: val_loss improved from 0.00296 to 0.00282, saving model to /content/drive/My Drive/TA_LSTM/outputs/lstm_best_11-1-20_2PM/iter_changes/best_model.h5\n",
            "110/110 - 1s - loss: 0.0020 - accuracy: 9.0909e-04 - val_loss: 0.0028 - val_accuracy: 0.0000e+00 - 781ms/epoch - 7ms/step\n",
            "Epoch 33/200\n",
            "\n",
            "Epoch 33: val_loss did not improve from 0.00282\n",
            "110/110 - 1s - loss: 0.0021 - accuracy: 9.0909e-04 - val_loss: 0.0029 - val_accuracy: 0.0000e+00 - 725ms/epoch - 7ms/step\n",
            "Epoch 34/200\n",
            "\n",
            "Epoch 34: val_loss did not improve from 0.00282\n",
            "110/110 - 1s - loss: 0.0021 - accuracy: 9.0909e-04 - val_loss: 0.0029 - val_accuracy: 0.0000e+00 - 733ms/epoch - 7ms/step\n",
            "Epoch 35/200\n",
            "\n",
            "Epoch 35: val_loss improved from 0.00282 to 0.00280, saving model to /content/drive/My Drive/TA_LSTM/outputs/lstm_best_11-1-20_2PM/iter_changes/best_model.h5\n",
            "110/110 - 1s - loss: 0.0020 - accuracy: 9.0909e-04 - val_loss: 0.0028 - val_accuracy: 0.0000e+00 - 769ms/epoch - 7ms/step\n",
            "Epoch 36/200\n",
            "\n",
            "Epoch 36: val_loss did not improve from 0.00280\n",
            "110/110 - 1s - loss: 0.0020 - accuracy: 9.0909e-04 - val_loss: 0.0028 - val_accuracy: 0.0000e+00 - 737ms/epoch - 7ms/step\n",
            "Epoch 37/200\n",
            "\n",
            "Epoch 37: val_loss did not improve from 0.00280\n",
            "110/110 - 1s - loss: 0.0020 - accuracy: 9.0909e-04 - val_loss: 0.0029 - val_accuracy: 0.0000e+00 - 712ms/epoch - 6ms/step\n",
            "Epoch 38/200\n",
            "\n",
            "Epoch 38: val_loss improved from 0.00280 to 0.00273, saving model to /content/drive/My Drive/TA_LSTM/outputs/lstm_best_11-1-20_2PM/iter_changes/best_model.h5\n",
            "110/110 - 1s - loss: 0.0020 - accuracy: 9.0909e-04 - val_loss: 0.0027 - val_accuracy: 0.0000e+00 - 812ms/epoch - 7ms/step\n",
            "Epoch 39/200\n",
            "\n",
            "Epoch 39: val_loss improved from 0.00273 to 0.00269, saving model to /content/drive/My Drive/TA_LSTM/outputs/lstm_best_11-1-20_2PM/iter_changes/best_model.h5\n",
            "110/110 - 1s - loss: 0.0019 - accuracy: 9.0909e-04 - val_loss: 0.0027 - val_accuracy: 0.0000e+00 - 771ms/epoch - 7ms/step\n",
            "Epoch 40/200\n",
            "\n",
            "Epoch 40: val_loss improved from 0.00269 to 0.00260, saving model to /content/drive/My Drive/TA_LSTM/outputs/lstm_best_11-1-20_2PM/iter_changes/best_model.h5\n",
            "110/110 - 1s - loss: 0.0019 - accuracy: 9.0909e-04 - val_loss: 0.0026 - val_accuracy: 0.0000e+00 - 1s/epoch - 10ms/step\n",
            "Epoch 41/200\n",
            "\n",
            "Epoch 41: val_loss did not improve from 0.00260\n",
            "110/110 - 1s - loss: 0.0018 - accuracy: 9.0909e-04 - val_loss: 0.0027 - val_accuracy: 0.0000e+00 - 938ms/epoch - 9ms/step\n",
            "Epoch 42/200\n",
            "\n",
            "Epoch 42: val_loss improved from 0.00260 to 0.00241, saving model to /content/drive/My Drive/TA_LSTM/outputs/lstm_best_11-1-20_2PM/iter_changes/best_model.h5\n",
            "110/110 - 1s - loss: 0.0018 - accuracy: 9.0909e-04 - val_loss: 0.0024 - val_accuracy: 0.0000e+00 - 1s/epoch - 10ms/step\n",
            "Epoch 43/200\n",
            "\n",
            "Epoch 43: val_loss did not improve from 0.00241\n",
            "110/110 - 1s - loss: 0.0019 - accuracy: 9.0909e-04 - val_loss: 0.0024 - val_accuracy: 0.0000e+00 - 813ms/epoch - 7ms/step\n",
            "Epoch 44/200\n",
            "\n",
            "Epoch 44: val_loss did not improve from 0.00241\n",
            "110/110 - 1s - loss: 0.0017 - accuracy: 9.0909e-04 - val_loss: 0.0025 - val_accuracy: 0.0000e+00 - 703ms/epoch - 6ms/step\n",
            "Epoch 45/200\n",
            "\n",
            "Epoch 45: val_loss improved from 0.00241 to 0.00239, saving model to /content/drive/My Drive/TA_LSTM/outputs/lstm_best_11-1-20_2PM/iter_changes/best_model.h5\n",
            "110/110 - 1s - loss: 0.0017 - accuracy: 9.0909e-04 - val_loss: 0.0024 - val_accuracy: 0.0000e+00 - 782ms/epoch - 7ms/step\n",
            "Epoch 46/200\n",
            "\n",
            "Epoch 46: val_loss improved from 0.00239 to 0.00233, saving model to /content/drive/My Drive/TA_LSTM/outputs/lstm_best_11-1-20_2PM/iter_changes/best_model.h5\n",
            "110/110 - 1s - loss: 0.0018 - accuracy: 9.0909e-04 - val_loss: 0.0023 - val_accuracy: 0.0000e+00 - 788ms/epoch - 7ms/step\n",
            "Epoch 47/200\n",
            "\n",
            "Epoch 47: val_loss did not improve from 0.00233\n",
            "110/110 - 1s - loss: 0.0017 - accuracy: 9.0909e-04 - val_loss: 0.0024 - val_accuracy: 0.0000e+00 - 719ms/epoch - 7ms/step\n",
            "Epoch 48/200\n",
            "\n",
            "Epoch 48: val_loss did not improve from 0.00233\n",
            "110/110 - 1s - loss: 0.0017 - accuracy: 9.0909e-04 - val_loss: 0.0024 - val_accuracy: 0.0000e+00 - 710ms/epoch - 6ms/step\n",
            "Epoch 49/200\n",
            "\n",
            "Epoch 49: val_loss improved from 0.00233 to 0.00231, saving model to /content/drive/My Drive/TA_LSTM/outputs/lstm_best_11-1-20_2PM/iter_changes/best_model.h5\n",
            "110/110 - 1s - loss: 0.0017 - accuracy: 9.0909e-04 - val_loss: 0.0023 - val_accuracy: 0.0000e+00 - 822ms/epoch - 7ms/step\n",
            "Epoch 50/200\n",
            "\n",
            "Epoch 50: val_loss improved from 0.00231 to 0.00223, saving model to /content/drive/My Drive/TA_LSTM/outputs/lstm_best_11-1-20_2PM/iter_changes/best_model.h5\n",
            "110/110 - 1s - loss: 0.0016 - accuracy: 9.0909e-04 - val_loss: 0.0022 - val_accuracy: 0.0000e+00 - 801ms/epoch - 7ms/step\n",
            "Epoch 51/200\n",
            "\n",
            "Epoch 51: val_loss improved from 0.00223 to 0.00218, saving model to /content/drive/My Drive/TA_LSTM/outputs/lstm_best_11-1-20_2PM/iter_changes/best_model.h5\n",
            "110/110 - 1s - loss: 0.0016 - accuracy: 9.0909e-04 - val_loss: 0.0022 - val_accuracy: 0.0000e+00 - 790ms/epoch - 7ms/step\n",
            "Epoch 52/200\n",
            "\n",
            "Epoch 52: val_loss did not improve from 0.00218\n",
            "110/110 - 1s - loss: 0.0017 - accuracy: 9.0909e-04 - val_loss: 0.0022 - val_accuracy: 0.0000e+00 - 730ms/epoch - 7ms/step\n",
            "Epoch 53/200\n",
            "\n",
            "Epoch 53: val_loss did not improve from 0.00218\n",
            "110/110 - 1s - loss: 0.0016 - accuracy: 9.0909e-04 - val_loss: 0.0023 - val_accuracy: 0.0000e+00 - 726ms/epoch - 7ms/step\n",
            "Epoch 54/200\n",
            "\n",
            "Epoch 54: val_loss did not improve from 0.00218\n",
            "110/110 - 1s - loss: 0.0016 - accuracy: 9.0909e-04 - val_loss: 0.0022 - val_accuracy: 0.0000e+00 - 708ms/epoch - 6ms/step\n",
            "Epoch 55/200\n",
            "\n",
            "Epoch 55: val_loss did not improve from 0.00218\n",
            "110/110 - 1s - loss: 0.0015 - accuracy: 9.0909e-04 - val_loss: 0.0022 - val_accuracy: 0.0000e+00 - 736ms/epoch - 7ms/step\n",
            "Epoch 56/200\n",
            "\n",
            "Epoch 56: val_loss did not improve from 0.00218\n",
            "110/110 - 1s - loss: 0.0015 - accuracy: 9.0909e-04 - val_loss: 0.0022 - val_accuracy: 0.0000e+00 - 909ms/epoch - 8ms/step\n",
            "Epoch 57/200\n",
            "\n",
            "Epoch 57: val_loss improved from 0.00218 to 0.00205, saving model to /content/drive/My Drive/TA_LSTM/outputs/lstm_best_11-1-20_2PM/iter_changes/best_model.h5\n",
            "110/110 - 1s - loss: 0.0015 - accuracy: 9.0909e-04 - val_loss: 0.0020 - val_accuracy: 0.0000e+00 - 1s/epoch - 9ms/step\n",
            "Epoch 58/200\n",
            "\n",
            "Epoch 58: val_loss did not improve from 0.00205\n",
            "110/110 - 1s - loss: 0.0015 - accuracy: 9.0909e-04 - val_loss: 0.0022 - val_accuracy: 0.0000e+00 - 978ms/epoch - 9ms/step\n",
            "Epoch 59/200\n",
            "\n",
            "Epoch 59: val_loss improved from 0.00205 to 0.00203, saving model to /content/drive/My Drive/TA_LSTM/outputs/lstm_best_11-1-20_2PM/iter_changes/best_model.h5\n",
            "110/110 - 1s - loss: 0.0016 - accuracy: 9.0909e-04 - val_loss: 0.0020 - val_accuracy: 0.0000e+00 - 1s/epoch - 10ms/step\n",
            "Epoch 60/200\n",
            "\n",
            "Epoch 60: val_loss did not improve from 0.00203\n",
            "110/110 - 1s - loss: 0.0014 - accuracy: 9.0909e-04 - val_loss: 0.0021 - val_accuracy: 0.0000e+00 - 743ms/epoch - 7ms/step\n",
            "Epoch 61/200\n",
            "\n",
            "Epoch 61: val_loss did not improve from 0.00203\n",
            "110/110 - 1s - loss: 0.0015 - accuracy: 9.0909e-04 - val_loss: 0.0021 - val_accuracy: 0.0000e+00 - 719ms/epoch - 7ms/step\n",
            "Epoch 62/200\n",
            "\n",
            "Epoch 62: val_loss did not improve from 0.00203\n",
            "110/110 - 1s - loss: 0.0014 - accuracy: 9.0909e-04 - val_loss: 0.0021 - val_accuracy: 0.0000e+00 - 745ms/epoch - 7ms/step\n",
            "Epoch 63/200\n",
            "\n",
            "Epoch 63: val_loss improved from 0.00203 to 0.00194, saving model to /content/drive/My Drive/TA_LSTM/outputs/lstm_best_11-1-20_2PM/iter_changes/best_model.h5\n",
            "110/110 - 1s - loss: 0.0015 - accuracy: 9.0909e-04 - val_loss: 0.0019 - val_accuracy: 0.0000e+00 - 784ms/epoch - 7ms/step\n",
            "Epoch 64/200\n",
            "\n",
            "Epoch 64: val_loss did not improve from 0.00194\n",
            "110/110 - 1s - loss: 0.0013 - accuracy: 9.0909e-04 - val_loss: 0.0022 - val_accuracy: 0.0000e+00 - 729ms/epoch - 7ms/step\n",
            "Epoch 65/200\n",
            "\n",
            "Epoch 65: val_loss improved from 0.00194 to 0.00188, saving model to /content/drive/My Drive/TA_LSTM/outputs/lstm_best_11-1-20_2PM/iter_changes/best_model.h5\n",
            "110/110 - 1s - loss: 0.0014 - accuracy: 9.0909e-04 - val_loss: 0.0019 - val_accuracy: 0.0000e+00 - 795ms/epoch - 7ms/step\n",
            "Epoch 66/200\n",
            "\n",
            "Epoch 66: val_loss did not improve from 0.00188\n",
            "110/110 - 1s - loss: 0.0013 - accuracy: 9.0909e-04 - val_loss: 0.0021 - val_accuracy: 0.0000e+00 - 723ms/epoch - 7ms/step\n",
            "Epoch 67/200\n",
            "\n",
            "Epoch 67: val_loss did not improve from 0.00188\n",
            "110/110 - 1s - loss: 0.0014 - accuracy: 9.0909e-04 - val_loss: 0.0019 - val_accuracy: 0.0000e+00 - 713ms/epoch - 6ms/step\n",
            "Epoch 68/200\n",
            "\n",
            "Epoch 68: val_loss did not improve from 0.00188\n",
            "110/110 - 1s - loss: 0.0013 - accuracy: 9.0909e-04 - val_loss: 0.0019 - val_accuracy: 0.0000e+00 - 709ms/epoch - 6ms/step\n",
            "Epoch 69/200\n",
            "\n",
            "Epoch 69: val_loss did not improve from 0.00188\n",
            "110/110 - 1s - loss: 0.0013 - accuracy: 9.0909e-04 - val_loss: 0.0020 - val_accuracy: 0.0000e+00 - 745ms/epoch - 7ms/step\n",
            "Epoch 70/200\n",
            "\n",
            "Epoch 70: val_loss improved from 0.00188 to 0.00186, saving model to /content/drive/My Drive/TA_LSTM/outputs/lstm_best_11-1-20_2PM/iter_changes/best_model.h5\n",
            "110/110 - 1s - loss: 0.0013 - accuracy: 9.0909e-04 - val_loss: 0.0019 - val_accuracy: 0.0000e+00 - 957ms/epoch - 9ms/step\n",
            "Epoch 71/200\n",
            "\n",
            "Epoch 71: val_loss did not improve from 0.00186\n",
            "110/110 - 1s - loss: 0.0012 - accuracy: 9.0909e-04 - val_loss: 0.0020 - val_accuracy: 0.0000e+00 - 988ms/epoch - 9ms/step\n",
            "Epoch 72/200\n",
            "\n",
            "Epoch 72: val_loss improved from 0.00186 to 0.00182, saving model to /content/drive/My Drive/TA_LSTM/outputs/lstm_best_11-1-20_2PM/iter_changes/best_model.h5\n",
            "110/110 - 1s - loss: 0.0014 - accuracy: 9.0909e-04 - val_loss: 0.0018 - val_accuracy: 0.0000e+00 - 1s/epoch - 11ms/step\n",
            "Epoch 73/200\n",
            "\n",
            "Epoch 73: val_loss improved from 0.00182 to 0.00171, saving model to /content/drive/My Drive/TA_LSTM/outputs/lstm_best_11-1-20_2PM/iter_changes/best_model.h5\n",
            "110/110 - 1s - loss: 0.0013 - accuracy: 9.0909e-04 - val_loss: 0.0017 - val_accuracy: 0.0000e+00 - 1s/epoch - 13ms/step\n",
            "Epoch 74/200\n",
            "\n",
            "Epoch 74: val_loss did not improve from 0.00171\n",
            "110/110 - 1s - loss: 0.0013 - accuracy: 9.0909e-04 - val_loss: 0.0018 - val_accuracy: 0.0000e+00 - 1s/epoch - 9ms/step\n",
            "Epoch 75/200\n",
            "\n",
            "Epoch 75: val_loss did not improve from 0.00171\n",
            "110/110 - 1s - loss: 0.0012 - accuracy: 9.0909e-04 - val_loss: 0.0018 - val_accuracy: 0.0000e+00 - 943ms/epoch - 9ms/step\n",
            "Epoch 76/200\n",
            "\n",
            "Epoch 76: val_loss did not improve from 0.00171\n",
            "110/110 - 1s - loss: 0.0012 - accuracy: 9.0909e-04 - val_loss: 0.0019 - val_accuracy: 0.0000e+00 - 848ms/epoch - 8ms/step\n",
            "Epoch 77/200\n",
            "\n",
            "Epoch 77: val_loss did not improve from 0.00171\n",
            "110/110 - 1s - loss: 0.0012 - accuracy: 9.0909e-04 - val_loss: 0.0020 - val_accuracy: 0.0000e+00 - 739ms/epoch - 7ms/step\n",
            "Epoch 78/200\n",
            "\n",
            "Epoch 78: val_loss did not improve from 0.00171\n",
            "110/110 - 1s - loss: 0.0013 - accuracy: 9.0909e-04 - val_loss: 0.0018 - val_accuracy: 0.0000e+00 - 724ms/epoch - 7ms/step\n",
            "Epoch 79/200\n",
            "\n",
            "Epoch 79: val_loss did not improve from 0.00171\n",
            "110/110 - 1s - loss: 0.0012 - accuracy: 9.0909e-04 - val_loss: 0.0018 - val_accuracy: 0.0000e+00 - 743ms/epoch - 7ms/step\n",
            "Epoch 80/200\n",
            "\n",
            "Epoch 80: val_loss improved from 0.00171 to 0.00167, saving model to /content/drive/My Drive/TA_LSTM/outputs/lstm_best_11-1-20_2PM/iter_changes/best_model.h5\n",
            "110/110 - 1s - loss: 0.0012 - accuracy: 9.0909e-04 - val_loss: 0.0017 - val_accuracy: 0.0000e+00 - 800ms/epoch - 7ms/step\n",
            "Epoch 81/200\n",
            "\n",
            "Epoch 81: val_loss did not improve from 0.00167\n",
            "110/110 - 1s - loss: 0.0012 - accuracy: 9.0909e-04 - val_loss: 0.0017 - val_accuracy: 0.0000e+00 - 730ms/epoch - 7ms/step\n",
            "Epoch 82/200\n",
            "\n",
            "Epoch 82: val_loss did not improve from 0.00167\n",
            "110/110 - 1s - loss: 0.0012 - accuracy: 9.0909e-04 - val_loss: 0.0018 - val_accuracy: 0.0000e+00 - 730ms/epoch - 7ms/step\n",
            "Epoch 83/200\n",
            "\n",
            "Epoch 83: val_loss improved from 0.00167 to 0.00155, saving model to /content/drive/My Drive/TA_LSTM/outputs/lstm_best_11-1-20_2PM/iter_changes/best_model.h5\n",
            "110/110 - 1s - loss: 0.0012 - accuracy: 9.0909e-04 - val_loss: 0.0015 - val_accuracy: 0.0000e+00 - 820ms/epoch - 7ms/step\n",
            "Epoch 84/200\n",
            "\n",
            "Epoch 84: val_loss did not improve from 0.00155\n",
            "110/110 - 1s - loss: 0.0011 - accuracy: 9.0909e-04 - val_loss: 0.0016 - val_accuracy: 0.0000e+00 - 748ms/epoch - 7ms/step\n",
            "Epoch 85/200\n",
            "\n",
            "Epoch 85: val_loss did not improve from 0.00155\n",
            "110/110 - 1s - loss: 0.0012 - accuracy: 9.0909e-04 - val_loss: 0.0017 - val_accuracy: 0.0000e+00 - 720ms/epoch - 7ms/step\n",
            "Epoch 86/200\n",
            "\n",
            "Epoch 86: val_loss did not improve from 0.00155\n",
            "110/110 - 1s - loss: 0.0012 - accuracy: 9.0909e-04 - val_loss: 0.0016 - val_accuracy: 0.0000e+00 - 740ms/epoch - 7ms/step\n",
            "Epoch 87/200\n",
            "\n",
            "Epoch 87: val_loss did not improve from 0.00155\n",
            "110/110 - 1s - loss: 0.0011 - accuracy: 9.0909e-04 - val_loss: 0.0016 - val_accuracy: 0.0000e+00 - 715ms/epoch - 7ms/step\n",
            "Epoch 88/200\n",
            "\n",
            "Epoch 88: val_loss did not improve from 0.00155\n",
            "110/110 - 1s - loss: 0.0010 - accuracy: 9.0909e-04 - val_loss: 0.0019 - val_accuracy: 0.0000e+00 - 722ms/epoch - 7ms/step\n",
            "Epoch 89/200\n",
            "\n",
            "Epoch 89: val_loss did not improve from 0.00155\n",
            "110/110 - 1s - loss: 0.0011 - accuracy: 9.0909e-04 - val_loss: 0.0018 - val_accuracy: 0.0000e+00 - 792ms/epoch - 7ms/step\n",
            "Epoch 90/200\n",
            "\n",
            "Epoch 90: val_loss improved from 0.00155 to 0.00155, saving model to /content/drive/My Drive/TA_LSTM/outputs/lstm_best_11-1-20_2PM/iter_changes/best_model.h5\n",
            "110/110 - 1s - loss: 0.0012 - accuracy: 9.0909e-04 - val_loss: 0.0015 - val_accuracy: 0.0000e+00 - 1s/epoch - 10ms/step\n",
            "Epoch 91/200\n",
            "\n",
            "Epoch 91: val_loss improved from 0.00155 to 0.00153, saving model to /content/drive/My Drive/TA_LSTM/outputs/lstm_best_11-1-20_2PM/iter_changes/best_model.h5\n",
            "110/110 - 1s - loss: 0.0012 - accuracy: 9.0909e-04 - val_loss: 0.0015 - val_accuracy: 0.0000e+00 - 1s/epoch - 10ms/step\n",
            "Epoch 92/200\n",
            "\n",
            "Epoch 92: val_loss did not improve from 0.00153\n",
            "110/110 - 1s - loss: 0.0011 - accuracy: 9.0909e-04 - val_loss: 0.0016 - val_accuracy: 0.0000e+00 - 978ms/epoch - 9ms/step\n",
            "Epoch 93/200\n",
            "\n",
            "Epoch 93: val_loss improved from 0.00153 to 0.00143, saving model to /content/drive/My Drive/TA_LSTM/outputs/lstm_best_11-1-20_2PM/iter_changes/best_model.h5\n",
            "110/110 - 1s - loss: 0.0011 - accuracy: 9.0909e-04 - val_loss: 0.0014 - val_accuracy: 0.0000e+00 - 847ms/epoch - 8ms/step\n",
            "Epoch 94/200\n",
            "\n",
            "Epoch 94: val_loss did not improve from 0.00143\n",
            "110/110 - 1s - loss: 0.0011 - accuracy: 9.0909e-04 - val_loss: 0.0015 - val_accuracy: 0.0000e+00 - 722ms/epoch - 7ms/step\n",
            "Epoch 95/200\n",
            "\n",
            "Epoch 95: val_loss did not improve from 0.00143\n",
            "110/110 - 1s - loss: 0.0012 - accuracy: 9.0909e-04 - val_loss: 0.0015 - val_accuracy: 0.0000e+00 - 719ms/epoch - 7ms/step\n",
            "Epoch 96/200\n",
            "\n",
            "Epoch 96: val_loss did not improve from 0.00143\n",
            "110/110 - 1s - loss: 0.0011 - accuracy: 9.0909e-04 - val_loss: 0.0016 - val_accuracy: 0.0000e+00 - 743ms/epoch - 7ms/step\n",
            "Epoch 97/200\n",
            "\n",
            "Epoch 97: val_loss improved from 0.00143 to 0.00141, saving model to /content/drive/My Drive/TA_LSTM/outputs/lstm_best_11-1-20_2PM/iter_changes/best_model.h5\n",
            "110/110 - 1s - loss: 0.0011 - accuracy: 9.0909e-04 - val_loss: 0.0014 - val_accuracy: 0.0000e+00 - 808ms/epoch - 7ms/step\n",
            "Epoch 98/200\n",
            "\n",
            "Epoch 98: val_loss did not improve from 0.00141\n",
            "110/110 - 1s - loss: 0.0010 - accuracy: 9.0909e-04 - val_loss: 0.0015 - val_accuracy: 0.0000e+00 - 719ms/epoch - 7ms/step\n",
            "Epoch 99/200\n",
            "\n",
            "Epoch 99: val_loss did not improve from 0.00141\n",
            "110/110 - 1s - loss: 0.0011 - accuracy: 9.0909e-04 - val_loss: 0.0015 - val_accuracy: 0.0000e+00 - 764ms/epoch - 7ms/step\n",
            "Epoch 100/200\n",
            "\n",
            "Epoch 100: val_loss improved from 0.00141 to 0.00138, saving model to /content/drive/My Drive/TA_LSTM/outputs/lstm_best_11-1-20_2PM/iter_changes/best_model.h5\n",
            "110/110 - 1s - loss: 0.0011 - accuracy: 9.0909e-04 - val_loss: 0.0014 - val_accuracy: 0.0000e+00 - 789ms/epoch - 7ms/step\n",
            "Epoch 101/200\n",
            "\n",
            "Epoch 101: val_loss did not improve from 0.00138\n",
            "110/110 - 1s - loss: 9.8965e-04 - accuracy: 9.0909e-04 - val_loss: 0.0015 - val_accuracy: 0.0000e+00 - 748ms/epoch - 7ms/step\n",
            "Epoch 102/200\n",
            "\n",
            "Epoch 102: val_loss did not improve from 0.00138\n",
            "110/110 - 1s - loss: 0.0010 - accuracy: 9.0909e-04 - val_loss: 0.0014 - val_accuracy: 0.0000e+00 - 719ms/epoch - 7ms/step\n",
            "Epoch 103/200\n",
            "\n",
            "Epoch 103: val_loss did not improve from 0.00138\n",
            "110/110 - 1s - loss: 0.0010 - accuracy: 9.0909e-04 - val_loss: 0.0014 - val_accuracy: 0.0000e+00 - 740ms/epoch - 7ms/step\n",
            "Epoch 104/200\n",
            "\n",
            "Epoch 104: val_loss did not improve from 0.00138\n",
            "110/110 - 1s - loss: 0.0010 - accuracy: 9.0909e-04 - val_loss: 0.0014 - val_accuracy: 0.0000e+00 - 754ms/epoch - 7ms/step\n",
            "Epoch 105/200\n",
            "\n",
            "Epoch 105: val_loss improved from 0.00138 to 0.00133, saving model to /content/drive/My Drive/TA_LSTM/outputs/lstm_best_11-1-20_2PM/iter_changes/best_model.h5\n",
            "110/110 - 1s - loss: 9.3789e-04 - accuracy: 9.0909e-04 - val_loss: 0.0013 - val_accuracy: 0.0000e+00 - 807ms/epoch - 7ms/step\n",
            "Epoch 106/200\n",
            "\n",
            "Epoch 106: val_loss did not improve from 0.00133\n",
            "110/110 - 1s - loss: 0.0010 - accuracy: 9.0909e-04 - val_loss: 0.0015 - val_accuracy: 0.0000e+00 - 902ms/epoch - 8ms/step\n",
            "Epoch 107/200\n",
            "\n",
            "Epoch 107: val_loss improved from 0.00133 to 0.00128, saving model to /content/drive/My Drive/TA_LSTM/outputs/lstm_best_11-1-20_2PM/iter_changes/best_model.h5\n",
            "110/110 - 1s - loss: 0.0011 - accuracy: 9.0909e-04 - val_loss: 0.0013 - val_accuracy: 0.0000e+00 - 1s/epoch - 10ms/step\n",
            "Epoch 108/200\n",
            "\n",
            "Epoch 108: val_loss did not improve from 0.00128\n",
            "110/110 - 1s - loss: 9.3975e-04 - accuracy: 9.0909e-04 - val_loss: 0.0014 - val_accuracy: 0.0000e+00 - 953ms/epoch - 9ms/step\n",
            "Epoch 109/200\n",
            "\n",
            "Epoch 109: val_loss did not improve from 0.00128\n",
            "110/110 - 1s - loss: 9.5287e-04 - accuracy: 9.0909e-04 - val_loss: 0.0013 - val_accuracy: 0.0000e+00 - 881ms/epoch - 8ms/step\n",
            "Epoch 110/200\n",
            "\n",
            "Epoch 110: val_loss did not improve from 0.00128\n",
            "110/110 - 1s - loss: 9.9162e-04 - accuracy: 9.0909e-04 - val_loss: 0.0014 - val_accuracy: 0.0000e+00 - 723ms/epoch - 7ms/step\n",
            "Epoch 111/200\n",
            "\n",
            "Epoch 111: val_loss did not improve from 0.00128\n",
            "110/110 - 1s - loss: 0.0010 - accuracy: 9.0909e-04 - val_loss: 0.0013 - val_accuracy: 0.0000e+00 - 729ms/epoch - 7ms/step\n",
            "Epoch 112/200\n",
            "\n",
            "Epoch 112: val_loss improved from 0.00128 to 0.00124, saving model to /content/drive/My Drive/TA_LSTM/outputs/lstm_best_11-1-20_2PM/iter_changes/best_model.h5\n",
            "110/110 - 1s - loss: 9.3038e-04 - accuracy: 9.0909e-04 - val_loss: 0.0012 - val_accuracy: 0.0000e+00 - 784ms/epoch - 7ms/step\n",
            "Epoch 113/200\n",
            "\n",
            "Epoch 113: val_loss did not improve from 0.00124\n",
            "110/110 - 1s - loss: 9.1996e-04 - accuracy: 9.0909e-04 - val_loss: 0.0013 - val_accuracy: 0.0000e+00 - 723ms/epoch - 7ms/step\n",
            "Epoch 114/200\n",
            "\n",
            "Epoch 114: val_loss did not improve from 0.00124\n",
            "110/110 - 1s - loss: 9.6885e-04 - accuracy: 9.0909e-04 - val_loss: 0.0013 - val_accuracy: 0.0000e+00 - 721ms/epoch - 7ms/step\n",
            "Epoch 115/200\n",
            "\n",
            "Epoch 115: val_loss improved from 0.00124 to 0.00122, saving model to /content/drive/My Drive/TA_LSTM/outputs/lstm_best_11-1-20_2PM/iter_changes/best_model.h5\n",
            "110/110 - 1s - loss: 9.2182e-04 - accuracy: 9.0909e-04 - val_loss: 0.0012 - val_accuracy: 0.0000e+00 - 788ms/epoch - 7ms/step\n",
            "Epoch 116/200\n",
            "\n",
            "Epoch 116: val_loss did not improve from 0.00122\n",
            "110/110 - 1s - loss: 9.2445e-04 - accuracy: 9.0909e-04 - val_loss: 0.0013 - val_accuracy: 0.0000e+00 - 736ms/epoch - 7ms/step\n",
            "Epoch 117/200\n",
            "\n",
            "Epoch 117: val_loss did not improve from 0.00122\n",
            "110/110 - 1s - loss: 9.1950e-04 - accuracy: 9.0909e-04 - val_loss: 0.0014 - val_accuracy: 0.0000e+00 - 717ms/epoch - 7ms/step\n",
            "Epoch 118/200\n",
            "\n",
            "Epoch 118: val_loss did not improve from 0.00122\n",
            "110/110 - 1s - loss: 9.2500e-04 - accuracy: 9.0909e-04 - val_loss: 0.0013 - val_accuracy: 0.0000e+00 - 710ms/epoch - 6ms/step\n",
            "Epoch 119/200\n",
            "\n",
            "Epoch 119: val_loss did not improve from 0.00122\n",
            "110/110 - 1s - loss: 9.5077e-04 - accuracy: 9.0909e-04 - val_loss: 0.0014 - val_accuracy: 0.0000e+00 - 735ms/epoch - 7ms/step\n",
            "Epoch 120/200\n",
            "\n",
            "Epoch 120: val_loss did not improve from 0.00122\n",
            "110/110 - 1s - loss: 9.8644e-04 - accuracy: 9.0909e-04 - val_loss: 0.0014 - val_accuracy: 0.0000e+00 - 720ms/epoch - 7ms/step\n",
            "Epoch 121/200\n",
            "\n",
            "Epoch 121: val_loss did not improve from 0.00122\n",
            "110/110 - 1s - loss: 9.9578e-04 - accuracy: 9.0909e-04 - val_loss: 0.0013 - val_accuracy: 0.0000e+00 - 718ms/epoch - 7ms/step\n",
            "Epoch 122/200\n",
            "\n",
            "Epoch 122: val_loss did not improve from 0.00122\n",
            "110/110 - 1s - loss: 9.2480e-04 - accuracy: 9.0909e-04 - val_loss: 0.0013 - val_accuracy: 0.0000e+00 - 724ms/epoch - 7ms/step\n",
            "Epoch 123/200\n",
            "\n",
            "Epoch 123: val_loss improved from 0.00122 to 0.00120, saving model to /content/drive/My Drive/TA_LSTM/outputs/lstm_best_11-1-20_2PM/iter_changes/best_model.h5\n",
            "110/110 - 1s - loss: 8.8164e-04 - accuracy: 9.0909e-04 - val_loss: 0.0012 - val_accuracy: 0.0000e+00 - 1s/epoch - 10ms/step\n",
            "Epoch 124/200\n",
            "\n",
            "Epoch 124: val_loss did not improve from 0.00120\n",
            "110/110 - 1s - loss: 8.8454e-04 - accuracy: 9.0909e-04 - val_loss: 0.0014 - val_accuracy: 0.0000e+00 - 1s/epoch - 9ms/step\n",
            "Epoch 125/200\n",
            "\n",
            "Epoch 125: val_loss did not improve from 0.00120\n",
            "110/110 - 1s - loss: 9.6002e-04 - accuracy: 9.0909e-04 - val_loss: 0.0013 - val_accuracy: 0.0000e+00 - 990ms/epoch - 9ms/step\n",
            "Epoch 126/200\n",
            "\n",
            "Epoch 126: val_loss did not improve from 0.00120\n",
            "110/110 - 1s - loss: 9.3875e-04 - accuracy: 9.0909e-04 - val_loss: 0.0012 - val_accuracy: 0.0000e+00 - 852ms/epoch - 8ms/step\n",
            "Epoch 127/200\n",
            "\n",
            "Epoch 127: val_loss did not improve from 0.00120\n",
            "110/110 - 1s - loss: 9.1295e-04 - accuracy: 9.0909e-04 - val_loss: 0.0013 - val_accuracy: 0.0000e+00 - 705ms/epoch - 6ms/step\n",
            "Epoch 128/200\n",
            "\n",
            "Epoch 128: val_loss did not improve from 0.00120\n",
            "110/110 - 1s - loss: 8.8996e-04 - accuracy: 9.0909e-04 - val_loss: 0.0013 - val_accuracy: 0.0000e+00 - 716ms/epoch - 7ms/step\n",
            "Epoch 129/200\n",
            "\n",
            "Epoch 129: val_loss did not improve from 0.00120\n",
            "110/110 - 1s - loss: 8.4215e-04 - accuracy: 9.0909e-04 - val_loss: 0.0012 - val_accuracy: 0.0000e+00 - 728ms/epoch - 7ms/step\n",
            "Epoch 130/200\n",
            "\n",
            "Epoch 130: val_loss improved from 0.00120 to 0.00115, saving model to /content/drive/My Drive/TA_LSTM/outputs/lstm_best_11-1-20_2PM/iter_changes/best_model.h5\n",
            "110/110 - 1s - loss: 9.1199e-04 - accuracy: 9.0909e-04 - val_loss: 0.0011 - val_accuracy: 0.0000e+00 - 772ms/epoch - 7ms/step\n",
            "Epoch 131/200\n",
            "\n",
            "Epoch 131: val_loss did not improve from 0.00115\n",
            "110/110 - 1s - loss: 8.0272e-04 - accuracy: 9.0909e-04 - val_loss: 0.0012 - val_accuracy: 0.0000e+00 - 721ms/epoch - 7ms/step\n",
            "Epoch 132/200\n",
            "\n",
            "Epoch 132: val_loss did not improve from 0.00115\n",
            "110/110 - 1s - loss: 8.1358e-04 - accuracy: 9.0909e-04 - val_loss: 0.0013 - val_accuracy: 0.0000e+00 - 741ms/epoch - 7ms/step\n",
            "Epoch 133/200\n",
            "\n",
            "Epoch 133: val_loss did not improve from 0.00115\n",
            "110/110 - 1s - loss: 8.9235e-04 - accuracy: 9.0909e-04 - val_loss: 0.0013 - val_accuracy: 0.0000e+00 - 718ms/epoch - 7ms/step\n",
            "Epoch 134/200\n",
            "\n",
            "Epoch 134: val_loss did not improve from 0.00115\n",
            "110/110 - 1s - loss: 8.6576e-04 - accuracy: 9.0909e-04 - val_loss: 0.0014 - val_accuracy: 0.0000e+00 - 709ms/epoch - 6ms/step\n",
            "Epoch 135/200\n",
            "\n",
            "Epoch 135: val_loss did not improve from 0.00115\n",
            "110/110 - 1s - loss: 9.1656e-04 - accuracy: 9.0909e-04 - val_loss: 0.0012 - val_accuracy: 0.0000e+00 - 712ms/epoch - 6ms/step\n",
            "Epoch 136/200\n",
            "\n",
            "Epoch 136: val_loss did not improve from 0.00115\n",
            "110/110 - 1s - loss: 8.9083e-04 - accuracy: 9.0909e-04 - val_loss: 0.0012 - val_accuracy: 0.0000e+00 - 747ms/epoch - 7ms/step\n",
            "Epoch 137/200\n",
            "\n",
            "Epoch 137: val_loss improved from 0.00115 to 0.00110, saving model to /content/drive/My Drive/TA_LSTM/outputs/lstm_best_11-1-20_2PM/iter_changes/best_model.h5\n",
            "110/110 - 1s - loss: 8.5387e-04 - accuracy: 9.0909e-04 - val_loss: 0.0011 - val_accuracy: 0.0000e+00 - 801ms/epoch - 7ms/step\n",
            "Epoch 138/200\n",
            "\n",
            "Epoch 138: val_loss did not improve from 0.00110\n",
            "110/110 - 1s - loss: 8.7305e-04 - accuracy: 9.0909e-04 - val_loss: 0.0012 - val_accuracy: 0.0000e+00 - 743ms/epoch - 7ms/step\n",
            "Epoch 139/200\n",
            "\n",
            "Epoch 139: val_loss did not improve from 0.00110\n",
            "110/110 - 1s - loss: 8.9970e-04 - accuracy: 9.0909e-04 - val_loss: 0.0012 - val_accuracy: 0.0000e+00 - 728ms/epoch - 7ms/step\n",
            "Epoch 140/200\n",
            "\n",
            "Epoch 140: val_loss did not improve from 0.00110\n",
            "110/110 - 1s - loss: 8.1840e-04 - accuracy: 9.0909e-04 - val_loss: 0.0013 - val_accuracy: 0.0000e+00 - 958ms/epoch - 9ms/step\n",
            "Epoch 141/200\n",
            "\n",
            "Epoch 141: val_loss did not improve from 0.00110\n",
            "110/110 - 1s - loss: 8.4958e-04 - accuracy: 9.0909e-04 - val_loss: 0.0013 - val_accuracy: 0.0000e+00 - 960ms/epoch - 9ms/step\n",
            "Epoch 142/200\n",
            "\n",
            "Epoch 142: val_loss improved from 0.00110 to 0.00105, saving model to /content/drive/My Drive/TA_LSTM/outputs/lstm_best_11-1-20_2PM/iter_changes/best_model.h5\n",
            "110/110 - 1s - loss: 8.4368e-04 - accuracy: 9.0909e-04 - val_loss: 0.0011 - val_accuracy: 0.0000e+00 - 1s/epoch - 10ms/step\n",
            "Epoch 143/200\n",
            "\n",
            "Epoch 143: val_loss did not improve from 0.00105\n",
            "110/110 - 1s - loss: 8.0938e-04 - accuracy: 9.0909e-04 - val_loss: 0.0012 - val_accuracy: 0.0000e+00 - 827ms/epoch - 8ms/step\n",
            "Epoch 144/200\n",
            "\n",
            "Epoch 144: val_loss did not improve from 0.00105\n",
            "110/110 - 1s - loss: 8.3517e-04 - accuracy: 9.0909e-04 - val_loss: 0.0011 - val_accuracy: 0.0000e+00 - 718ms/epoch - 7ms/step\n",
            "Epoch 145/200\n",
            "\n",
            "Epoch 145: val_loss did not improve from 0.00105\n",
            "110/110 - 1s - loss: 7.6619e-04 - accuracy: 9.0909e-04 - val_loss: 0.0014 - val_accuracy: 0.0000e+00 - 721ms/epoch - 7ms/step\n",
            "Epoch 146/200\n",
            "\n",
            "Epoch 146: val_loss did not improve from 0.00105\n",
            "110/110 - 1s - loss: 8.7317e-04 - accuracy: 9.0909e-04 - val_loss: 0.0014 - val_accuracy: 0.0000e+00 - 738ms/epoch - 7ms/step\n",
            "Epoch 147/200\n",
            "\n",
            "Epoch 147: val_loss did not improve from 0.00105\n",
            "110/110 - 1s - loss: 8.4460e-04 - accuracy: 9.0909e-04 - val_loss: 0.0012 - val_accuracy: 0.0000e+00 - 741ms/epoch - 7ms/step\n",
            "Epoch 148/200\n",
            "\n",
            "Epoch 148: val_loss did not improve from 0.00105\n",
            "110/110 - 1s - loss: 9.0291e-04 - accuracy: 9.0909e-04 - val_loss: 0.0012 - val_accuracy: 0.0000e+00 - 720ms/epoch - 7ms/step\n",
            "Epoch 149/200\n",
            "\n",
            "Epoch 149: val_loss did not improve from 0.00105\n",
            "110/110 - 1s - loss: 7.7997e-04 - accuracy: 9.0909e-04 - val_loss: 0.0011 - val_accuracy: 0.0000e+00 - 722ms/epoch - 7ms/step\n",
            "Epoch 150/200\n",
            "\n",
            "Epoch 150: val_loss did not improve from 0.00105\n",
            "110/110 - 1s - loss: 8.3260e-04 - accuracy: 9.0909e-04 - val_loss: 0.0011 - val_accuracy: 0.0000e+00 - 721ms/epoch - 7ms/step\n",
            "Epoch 151/200\n",
            "\n",
            "Epoch 151: val_loss did not improve from 0.00105\n",
            "110/110 - 1s - loss: 7.4872e-04 - accuracy: 9.0909e-04 - val_loss: 0.0011 - val_accuracy: 0.0000e+00 - 719ms/epoch - 7ms/step\n",
            "Epoch 152/200\n",
            "\n",
            "Epoch 152: val_loss did not improve from 0.00105\n",
            "110/110 - 1s - loss: 8.0630e-04 - accuracy: 9.0909e-04 - val_loss: 0.0012 - val_accuracy: 0.0000e+00 - 728ms/epoch - 7ms/step\n",
            "Epoch 153/200\n",
            "\n",
            "Epoch 153: val_loss did not improve from 0.00105\n",
            "110/110 - 1s - loss: 8.0739e-04 - accuracy: 9.0909e-04 - val_loss: 0.0012 - val_accuracy: 0.0000e+00 - 721ms/epoch - 7ms/step\n",
            "Epoch 154/200\n",
            "\n",
            "Epoch 154: val_loss did not improve from 0.00105\n",
            "110/110 - 1s - loss: 8.5452e-04 - accuracy: 9.0909e-04 - val_loss: 0.0012 - val_accuracy: 0.0000e+00 - 714ms/epoch - 6ms/step\n",
            "Epoch 155/200\n",
            "\n",
            "Epoch 155: val_loss did not improve from 0.00105\n",
            "110/110 - 1s - loss: 8.4624e-04 - accuracy: 9.0909e-04 - val_loss: 0.0011 - val_accuracy: 0.0000e+00 - 749ms/epoch - 7ms/step\n",
            "Epoch 156/200\n",
            "\n",
            "Epoch 156: val_loss did not improve from 0.00105\n",
            "110/110 - 1s - loss: 8.0004e-04 - accuracy: 9.0909e-04 - val_loss: 0.0013 - val_accuracy: 0.0000e+00 - 750ms/epoch - 7ms/step\n",
            "Epoch 157/200\n",
            "\n",
            "Epoch 157: val_loss did not improve from 0.00105\n",
            "110/110 - 1s - loss: 7.4387e-04 - accuracy: 9.0909e-04 - val_loss: 0.0012 - val_accuracy: 0.0000e+00 - 957ms/epoch - 9ms/step\n",
            "Epoch 158/200\n",
            "\n",
            "Epoch 158: val_loss did not improve from 0.00105\n",
            "110/110 - 1s - loss: 7.8969e-04 - accuracy: 9.0909e-04 - val_loss: 0.0011 - val_accuracy: 0.0000e+00 - 988ms/epoch - 9ms/step\n",
            "Epoch 159/200\n",
            "\n",
            "Epoch 159: val_loss did not improve from 0.00105\n",
            "110/110 - 1s - loss: 8.2466e-04 - accuracy: 9.0909e-04 - val_loss: 0.0011 - val_accuracy: 0.0000e+00 - 956ms/epoch - 9ms/step\n",
            "Epoch 160/200\n",
            "\n",
            "Epoch 160: val_loss did not improve from 0.00105\n",
            "110/110 - 1s - loss: 7.9123e-04 - accuracy: 9.0909e-04 - val_loss: 0.0011 - val_accuracy: 0.0000e+00 - 825ms/epoch - 8ms/step\n",
            "Epoch 161/200\n",
            "\n",
            "Epoch 161: val_loss improved from 0.00105 to 0.00101, saving model to /content/drive/My Drive/TA_LSTM/outputs/lstm_best_11-1-20_2PM/iter_changes/best_model.h5\n",
            "110/110 - 2s - loss: 7.6237e-04 - accuracy: 9.0909e-04 - val_loss: 0.0010 - val_accuracy: 0.0000e+00 - 2s/epoch - 22ms/step\n",
            "Epoch 162/200\n",
            "\n",
            "Epoch 162: val_loss did not improve from 0.00101\n",
            "110/110 - 1s - loss: 7.4817e-04 - accuracy: 9.0909e-04 - val_loss: 0.0011 - val_accuracy: 0.0000e+00 - 722ms/epoch - 7ms/step\n",
            "Epoch 163/200\n",
            "\n",
            "Epoch 163: val_loss did not improve from 0.00101\n",
            "110/110 - 1s - loss: 8.0197e-04 - accuracy: 9.0909e-04 - val_loss: 0.0011 - val_accuracy: 0.0000e+00 - 713ms/epoch - 6ms/step\n",
            "Epoch 164/200\n",
            "\n",
            "Epoch 164: val_loss did not improve from 0.00101\n",
            "110/110 - 1s - loss: 7.8821e-04 - accuracy: 9.0909e-04 - val_loss: 0.0012 - val_accuracy: 0.0000e+00 - 722ms/epoch - 7ms/step\n",
            "Epoch 165/200\n",
            "\n",
            "Epoch 165: val_loss did not improve from 0.00101\n",
            "110/110 - 1s - loss: 8.2847e-04 - accuracy: 9.0909e-04 - val_loss: 0.0012 - val_accuracy: 0.0000e+00 - 744ms/epoch - 7ms/step\n",
            "Epoch 166/200\n",
            "\n",
            "Epoch 166: val_loss did not improve from 0.00101\n",
            "110/110 - 1s - loss: 8.5242e-04 - accuracy: 9.0909e-04 - val_loss: 0.0011 - val_accuracy: 0.0000e+00 - 715ms/epoch - 7ms/step\n",
            "Epoch 167/200\n",
            "\n",
            "Epoch 167: val_loss did not improve from 0.00101\n",
            "110/110 - 1s - loss: 7.5010e-04 - accuracy: 9.0909e-04 - val_loss: 0.0011 - val_accuracy: 0.0000e+00 - 742ms/epoch - 7ms/step\n",
            "Epoch 168/200\n",
            "\n",
            "Epoch 168: val_loss improved from 0.00101 to 0.00101, saving model to /content/drive/My Drive/TA_LSTM/outputs/lstm_best_11-1-20_2PM/iter_changes/best_model.h5\n",
            "110/110 - 1s - loss: 8.1167e-04 - accuracy: 9.0909e-04 - val_loss: 0.0010 - val_accuracy: 0.0000e+00 - 784ms/epoch - 7ms/step\n",
            "Epoch 169/200\n",
            "\n",
            "Epoch 169: val_loss did not improve from 0.00101\n",
            "110/110 - 1s - loss: 7.3352e-04 - accuracy: 9.0909e-04 - val_loss: 0.0010 - val_accuracy: 0.0000e+00 - 754ms/epoch - 7ms/step\n",
            "Epoch 170/200\n",
            "\n",
            "Epoch 170: val_loss did not improve from 0.00101\n",
            "110/110 - 1s - loss: 7.7707e-04 - accuracy: 9.0909e-04 - val_loss: 0.0011 - val_accuracy: 0.0000e+00 - 729ms/epoch - 7ms/step\n",
            "Epoch 171/200\n",
            "\n",
            "Epoch 171: val_loss did not improve from 0.00101\n",
            "110/110 - 1s - loss: 7.4188e-04 - accuracy: 9.0909e-04 - val_loss: 0.0011 - val_accuracy: 0.0000e+00 - 762ms/epoch - 7ms/step\n",
            "Epoch 172/200\n",
            "\n",
            "Epoch 172: val_loss did not improve from 0.00101\n",
            "110/110 - 1s - loss: 7.6689e-04 - accuracy: 9.0909e-04 - val_loss: 0.0011 - val_accuracy: 0.0000e+00 - 1s/epoch - 9ms/step\n",
            "Epoch 173/200\n",
            "\n",
            "Epoch 173: val_loss improved from 0.00101 to 0.00094, saving model to /content/drive/My Drive/TA_LSTM/outputs/lstm_best_11-1-20_2PM/iter_changes/best_model.h5\n",
            "110/110 - 1s - loss: 7.5651e-04 - accuracy: 9.0909e-04 - val_loss: 9.4067e-04 - val_accuracy: 0.0000e+00 - 1s/epoch - 9ms/step\n",
            "Epoch 174/200\n",
            "\n",
            "Epoch 174: val_loss did not improve from 0.00094\n",
            "110/110 - 1s - loss: 7.3999e-04 - accuracy: 9.0909e-04 - val_loss: 0.0011 - val_accuracy: 0.0000e+00 - 989ms/epoch - 9ms/step\n",
            "Epoch 175/200\n",
            "\n",
            "Epoch 175: val_loss did not improve from 0.00094\n",
            "110/110 - 1s - loss: 7.0473e-04 - accuracy: 9.0909e-04 - val_loss: 0.0010 - val_accuracy: 0.0000e+00 - 765ms/epoch - 7ms/step\n",
            "Epoch 176/200\n",
            "\n",
            "Epoch 176: val_loss did not improve from 0.00094\n",
            "110/110 - 1s - loss: 7.9331e-04 - accuracy: 9.0909e-04 - val_loss: 0.0011 - val_accuracy: 0.0000e+00 - 701ms/epoch - 6ms/step\n",
            "Epoch 177/200\n",
            "\n",
            "Epoch 177: val_loss did not improve from 0.00094\n",
            "110/110 - 1s - loss: 7.8845e-04 - accuracy: 9.0909e-04 - val_loss: 0.0011 - val_accuracy: 0.0000e+00 - 709ms/epoch - 6ms/step\n",
            "Epoch 178/200\n",
            "\n",
            "Epoch 178: val_loss did not improve from 0.00094\n",
            "110/110 - 1s - loss: 7.2782e-04 - accuracy: 9.0909e-04 - val_loss: 9.8248e-04 - val_accuracy: 0.0000e+00 - 724ms/epoch - 7ms/step\n",
            "Epoch 179/200\n",
            "\n",
            "Epoch 179: val_loss did not improve from 0.00094\n",
            "110/110 - 1s - loss: 7.4091e-04 - accuracy: 9.0909e-04 - val_loss: 0.0010 - val_accuracy: 0.0000e+00 - 750ms/epoch - 7ms/step\n",
            "Epoch 180/200\n",
            "\n",
            "Epoch 180: val_loss did not improve from 0.00094\n",
            "110/110 - 1s - loss: 7.6865e-04 - accuracy: 9.0909e-04 - val_loss: 0.0011 - val_accuracy: 0.0000e+00 - 740ms/epoch - 7ms/step\n",
            "Epoch 181/200\n",
            "\n",
            "Epoch 181: val_loss did not improve from 0.00094\n",
            "110/110 - 1s - loss: 7.5452e-04 - accuracy: 9.0909e-04 - val_loss: 0.0011 - val_accuracy: 0.0000e+00 - 706ms/epoch - 6ms/step\n",
            "Epoch 182/200\n",
            "\n",
            "Epoch 182: val_loss did not improve from 0.00094\n",
            "110/110 - 1s - loss: 7.7261e-04 - accuracy: 9.0909e-04 - val_loss: 0.0010 - val_accuracy: 0.0000e+00 - 746ms/epoch - 7ms/step\n",
            "Epoch 183/200\n",
            "\n",
            "Epoch 183: val_loss did not improve from 0.00094\n",
            "110/110 - 1s - loss: 7.9044e-04 - accuracy: 9.0909e-04 - val_loss: 0.0010 - val_accuracy: 0.0000e+00 - 720ms/epoch - 7ms/step\n",
            "Epoch 184/200\n",
            "\n",
            "Epoch 184: val_loss did not improve from 0.00094\n",
            "110/110 - 1s - loss: 7.5415e-04 - accuracy: 9.0909e-04 - val_loss: 9.8678e-04 - val_accuracy: 0.0000e+00 - 724ms/epoch - 7ms/step\n",
            "Epoch 185/200\n",
            "\n",
            "Epoch 185: val_loss did not improve from 0.00094\n",
            "110/110 - 1s - loss: 7.3844e-04 - accuracy: 9.0909e-04 - val_loss: 9.9025e-04 - val_accuracy: 0.0000e+00 - 731ms/epoch - 7ms/step\n",
            "Epoch 186/200\n",
            "\n",
            "Epoch 186: val_loss did not improve from 0.00094\n",
            "110/110 - 1s - loss: 7.4231e-04 - accuracy: 9.0909e-04 - val_loss: 0.0010 - val_accuracy: 0.0000e+00 - 703ms/epoch - 6ms/step\n",
            "Epoch 187/200\n",
            "\n",
            "Epoch 187: val_loss did not improve from 0.00094\n",
            "110/110 - 1s - loss: 7.2325e-04 - accuracy: 9.0909e-04 - val_loss: 0.0012 - val_accuracy: 0.0000e+00 - 718ms/epoch - 7ms/step\n",
            "Epoch 188/200\n",
            "\n",
            "Epoch 188: val_loss did not improve from 0.00094\n",
            "110/110 - 1s - loss: 7.3358e-04 - accuracy: 9.0909e-04 - val_loss: 0.0011 - val_accuracy: 0.0000e+00 - 734ms/epoch - 7ms/step\n",
            "Epoch 189/200\n",
            "\n",
            "Epoch 189: val_loss did not improve from 0.00094\n",
            "110/110 - 1s - loss: 7.5759e-04 - accuracy: 9.0909e-04 - val_loss: 0.0010 - val_accuracy: 0.0000e+00 - 983ms/epoch - 9ms/step\n",
            "Epoch 190/200\n",
            "\n",
            "Epoch 190: val_loss did not improve from 0.00094\n",
            "110/110 - 1s - loss: 7.4608e-04 - accuracy: 9.0909e-04 - val_loss: 0.0011 - val_accuracy: 0.0000e+00 - 940ms/epoch - 9ms/step\n",
            "Epoch 191/200\n",
            "\n",
            "Epoch 191: val_loss did not improve from 0.00094\n",
            "110/110 - 1s - loss: 7.3435e-04 - accuracy: 9.0909e-04 - val_loss: 0.0011 - val_accuracy: 0.0000e+00 - 918ms/epoch - 8ms/step\n",
            "Epoch 192/200\n",
            "\n",
            "Epoch 192: val_loss did not improve from 0.00094\n",
            "110/110 - 1s - loss: 7.4409e-04 - accuracy: 9.0909e-04 - val_loss: 0.0012 - val_accuracy: 0.0000e+00 - 867ms/epoch - 8ms/step\n",
            "Epoch 193/200\n",
            "\n",
            "Epoch 193: val_loss did not improve from 0.00094\n",
            "110/110 - 1s - loss: 7.5364e-04 - accuracy: 9.0909e-04 - val_loss: 0.0012 - val_accuracy: 0.0000e+00 - 720ms/epoch - 7ms/step\n",
            "Epoch 194/200\n",
            "\n",
            "Epoch 194: val_loss did not improve from 0.00094\n",
            "110/110 - 1s - loss: 7.4318e-04 - accuracy: 9.0909e-04 - val_loss: 0.0011 - val_accuracy: 0.0000e+00 - 724ms/epoch - 7ms/step\n",
            "Epoch 195/200\n",
            "\n",
            "Epoch 195: val_loss did not improve from 0.00094\n",
            "110/110 - 1s - loss: 7.5596e-04 - accuracy: 9.0909e-04 - val_loss: 9.9841e-04 - val_accuracy: 0.0000e+00 - 717ms/epoch - 7ms/step\n",
            "Epoch 196/200\n",
            "\n",
            "Epoch 196: val_loss did not improve from 0.00094\n",
            "110/110 - 1s - loss: 7.1148e-04 - accuracy: 9.0909e-04 - val_loss: 9.7869e-04 - val_accuracy: 0.0000e+00 - 712ms/epoch - 6ms/step\n",
            "Epoch 197/200\n",
            "\n",
            "Epoch 197: val_loss did not improve from 0.00094\n",
            "110/110 - 1s - loss: 6.8086e-04 - accuracy: 9.0909e-04 - val_loss: 0.0010 - val_accuracy: 0.0000e+00 - 711ms/epoch - 6ms/step\n",
            "Epoch 198/200\n",
            "\n",
            "Epoch 198: val_loss did not improve from 0.00094\n",
            "110/110 - 1s - loss: 7.2199e-04 - accuracy: 9.0909e-04 - val_loss: 0.0010 - val_accuracy: 0.0000e+00 - 728ms/epoch - 7ms/step\n",
            "Epoch 199/200\n",
            "\n",
            "Epoch 199: val_loss did not improve from 0.00094\n",
            "110/110 - 1s - loss: 7.0774e-04 - accuracy: 9.0909e-04 - val_loss: 0.0010 - val_accuracy: 0.0000e+00 - 736ms/epoch - 7ms/step\n",
            "Epoch 200/200\n",
            "\n",
            "Epoch 200: val_loss did not improve from 0.00094\n",
            "110/110 - 1s - loss: 6.9453e-04 - accuracy: 9.0909e-04 - val_loss: 0.0010 - val_accuracy: 0.0000e+00 - 715ms/epoch - 7ms/step\n",
            "Menyimpan model . . .\n"
          ]
        }
      ],
      "source": [
        "is_update_model = True\n",
        "if model is None or is_update_model:\n",
        "    from keras import backend as K\n",
        "    print(\"Membuat Model ...\")\n",
        "    model = create_model()\n",
        "\n",
        "    es = EarlyStopping(monitor='val_loss', mode='min', verbose=1,\n",
        "                       patience=40, min_delta=0.0001)\n",
        "\n",
        "    mcp = ModelCheckpoint(os.path.join(OUTPUT_PATH,\n",
        "                          \"best_model.h5\"), monitor='val_loss', verbose=1,\n",
        "                          save_best_only=True, save_weights_only=False, mode='min', period=1)\n",
        "\n",
        "    # Not used here. But leaving it here as a reminder for future\n",
        "    r_lr_plat = ReduceLROnPlateau(monitor='val_loss', factor=0.1, patience=30,\n",
        "                                  verbose=0, mode='auto', min_delta=0.0001, cooldown=0, min_lr=0)\n",
        "\n",
        "    csv_logger = CSVLogger(os.path.join(OUTPUT_PATH, 'training_log_' + time.ctime().replace(\" \",\"_\") + '.log'), append=True)\n",
        "\n",
        "    history = model.fit(x_t, y_t, epochs=params[\"epochs\"], verbose=2, batch_size=BATCH_SIZE,\n",
        "                        shuffle=False, validation_data=(trim_dataset(x_val, BATCH_SIZE),\n",
        "                        trim_dataset(y_val, BATCH_SIZE)), callbacks=[es, mcp, csv_logger])\n",
        "\n",
        "    print(\"Menyimpan model . . .\")\n",
        "    pickle.dump(model, open(\"lstm_model\", \"wb\"))\n",
        "    model.save(\"best_model.h5\")"
      ]
    },
    {
      "cell_type": "markdown",
      "metadata": {
        "id": "hOYRFN4D5twj"
      },
      "source": [
        "# Melakukan Prediksi\n",
        "Setelah data berhasil dilatih dengan model yang sudah dibuat, maka selanjutnya adalah proses prediksi"
      ]
    },
    {
      "cell_type": "markdown",
      "metadata": {
        "id": "UuZJo-6y51Ir"
      },
      "source": [
        "## Prediksi dengan data yang masih Normal"
      ]
    },
    {
      "cell_type": "code",
      "execution_count": 36,
      "metadata": {
        "colab": {
          "base_uri": "https://localhost:8080/"
        },
        "id": "gQzY_IHHhnAx",
        "outputId": "ab9094e0-0c3c-4d5b-873f-e4ed22668bb8"
      },
      "outputs": [
        {
          "output_type": "stream",
          "name": "stdout",
          "text": [
            "12/12 [==============================] - 1s 5ms/step\n",
            "Besarnya nilai Error :  0.0003653199658561747 (240,) (240,)\n"
          ]
        }
      ],
      "source": [
        "# Melakukan Prediksi dengan model yang sudah dibuat\n",
        "y_pred = model.predict(trim_dataset(x_test_t, BATCH_SIZE), batch_size=BATCH_SIZE)\n",
        "y_pred = y_pred.flatten()\n",
        "y_test_t = trim_dataset(y_test_t, BATCH_SIZE)\n",
        "error = mean_squared_error(y_test_t, y_pred)\n",
        "\n",
        "# Menampilkan nilai Error menggunakan MSE\n",
        "print(\"Besarnya nilai Error : \", error, y_pred.shape, y_test_t.shape)"
      ]
    },
    {
      "cell_type": "markdown",
      "metadata": {
        "id": "urNdfnnr5478"
      },
      "source": [
        "## Proses Denormalisasi data hasil prediksi"
      ]
    },
    {
      "cell_type": "code",
      "execution_count": 37,
      "metadata": {
        "id": "HipZWgh7h1nF"
      },
      "outputs": [],
      "source": [
        "# Melakukan De-normalisasi data output untuk data uji dan data validasi\n",
        "y_pred_org = (y_pred * min_max_scaler.data_range_[3]) + min_max_scaler.data_min_[3]\n",
        "y_test_t_org = (y_test_t * min_max_scaler.data_range_[3]) + min_max_scaler.data_min_[3]"
      ]
    },
    {
      "cell_type": "markdown",
      "metadata": {
        "id": "3drfoSsi5908"
      },
      "source": [
        "# Visualisasi data output"
      ]
    },
    {
      "cell_type": "markdown",
      "metadata": {
        "id": "6UhV-Y5N5_Uo"
      },
      "source": [
        "##Visualisasi nilai Loss yang dihasilkan"
      ]
    },
    {
      "cell_type": "code",
      "execution_count": 38,
      "metadata": {
        "colab": {
          "base_uri": "https://localhost:8080/",
          "height": 564
        },
        "id": "kUMkqLZVh4EW",
        "outputId": "69fa2ec6-7f6e-47b6-d13c-de9a303415c4"
      },
      "outputs": [
        {
          "output_type": "display_data",
          "data": {
            "text/plain": [
              "<Figure size 1200x600 with 1 Axes>"
            ],
            "image/png": "[encoded data removed]"
          },
          "metadata": {}
        }
      ],
      "source": [
        "# Visualisasi model Loss dari data uji dan data validasi\n",
        "from matplotlib import pyplot as plt\n",
        "plt.figure(figsize=[12,6])\n",
        "plt.plot(history.history['loss'])\n",
        "plt.plot(history.history['val_loss'])\n",
        "plt.title('Model loss')\n",
        "plt.ylabel('Loss')\n",
        "plt.xlabel('Epoch')\n",
        "plt.legend(['Train', 'Test'], loc='upper right')\n",
        "plt.savefig(os.path.join(OUTPUT_PATH, 'train_vis_BS_'+str(BATCH_SIZE)+\"_\"+time.ctime()+'.png'))"
      ]
    },
    {
      "cell_type": "code",
      "execution_count": 39,
      "metadata": {
        "colab": {
          "base_uri": "https://localhost:8080/"
        },
        "id": "CNw-B7-Yh66A",
        "outputId": "cc7297f3-70d7-4d7c-88b0-435f7ce1a451"
      },
      "outputs": [
        {
          "output_type": "stream",
          "name": "stdout",
          "text": [
            "<keras.engine.sequential.Sequential object at 0x7f487c4dfd00>\n"
          ]
        }
      ],
      "source": [
        "# Menyimpan model\n",
        "#saved_model = load_model(os.path.join(OUTPUT_PATH, '/content/drive/My Drive/TA_LSTM/outputs/best_model.h5'))\n",
        "saved_model = load_model(os.path.join(OUTPUT_PATH, 'best_model.h5'))\n",
        "print(saved_model)"
      ]
    },
    {
      "cell_type": "code",
      "execution_count": 40,
      "metadata": {
        "colab": {
          "base_uri": "https://localhost:8080/"
        },
        "id": "WX8unCvkh9yE",
        "outputId": "9ff02f1c-8264-468b-9114-2f6445ef25e2"
      },
      "outputs": [
        {
          "output_type": "stream",
          "name": "stdout",
          "text": [
            "12/12 [==============================] - 1s 5ms/step\n",
            "Nilai Error dari MSE sebesar  0.0003407401928364568 (240,) (240,)\n",
            "Harga prediksi esok hari sebelum denormalisasi : 0.34713927\n",
            "Harga prediksi esok hari sesudah denormalisasi : 1291.1599\n"
          ]
        }
      ],
      "source": [
        "y_pred = saved_model.predict(trim_dataset(x_test_t, BATCH_SIZE), batch_size=BATCH_SIZE)\n",
        "y_pred = y_pred.flatten()\n",
        "y_test_t = trim_dataset(y_test_t, BATCH_SIZE)\n",
        "error = mean_squared_error(y_test_t, y_pred)\n",
        "print(\"Nilai Error dari MSE sebesar \", error, y_pred.shape, y_test_t.shape)\n",
        "print(\"Harga prediksi esok hari sebelum denormalisasi :\",y_pred[0])\n",
        "y_pred_org = (y_pred * min_max_scaler.data_range_[3]) + min_max_scaler.data_min_[3]\n",
        "print(\"Harga prediksi esok hari sesudah denormalisasi :\",y_pred_org[0])"
      ]
    },
    {
      "cell_type": "markdown",
      "metadata": {
        "id": "YWHcPZYY6Eni"
      },
      "source": [
        "## Visualisasi hasil prediksi\n",
        "\n"
      ]
    },
    {
      "cell_type": "code",
      "execution_count": 41,
      "metadata": {
        "id": "EbhHEQSOiAGM"
      },
      "outputs": [],
      "source": [
        "kurang = y_pred_org - y_test_t_org\n",
        "kurang_table = pd.DataFrame(kurang, columns=['hasil pengurangan uji dgn validasi'])\n",
        "kurang_table.to_csv (r'/content/drive/My Drive/TA_LSTM/outputs/Hasil pengurangan ep200 8020.csv', index = None, header=True)"
      ]
    },
    {
      "cell_type": "code",
      "execution_count": 42,
      "metadata": {
        "colab": {
          "base_uri": "https://localhost:8080/",
          "height": 581
        },
        "id": "VAT4jkEIiMUB",
        "outputId": "ffbe4619-daad-4460-d871-35f32dc978eb"
      },
      "outputs": [
        {
          "output_type": "stream",
          "name": "stdout",
          "text": [
            "Program selesai pada  3.0 menit :  35.0 detik\n"
          ]
        },
        {
          "output_type": "display_data",
          "data": {
            "text/plain": [
              "<Figure size 1200x600 with 1 Axes>"
            ],
            "image/png": "[encoded data removed]"
          },
          "metadata": {}
        }
      ],
      "source": [
        "# Visualisasi hasil prediksi dengan model yang sudah dibuat\n",
        "from matplotlib import pyplot as plt\n",
        "plt.figure(figsize=[12,6])\n",
        "plt.plot(y_pred_org)\n",
        "plt.plot(y_test_t_org)\n",
        "plt.title('Nilai Prediksi Pergerakan Harga Saham pada PT Adaro Energy Tbk')\n",
        "plt.ylabel('Price (IDR)')\n",
        "plt.xlabel('Validation Days')\n",
        "plt.grid(color='#95a5a6', linestyle='--', linewidth=2, axis='y', alpha=0.7)\n",
        "plt.legend(['Prediction', 'Real'], loc='lower left')\n",
        "plt.savefig(os.path.join(OUTPUT_PATH, 'pred_vs_real_BS'+str(BATCH_SIZE)+\"_\"+time.ctime()+'.png'))\n",
        "print_time(\"Program selesai pada \", stime)"
      ]
    },
    {
      "cell_type": "markdown",
      "metadata": {
        "id": "eYukR4nE6LDF"
      },
      "source": [
        "# Evaluasi Model yang sudah dibuat"
      ]
    },
    {
      "cell_type": "code",
      "execution_count": 43,
      "metadata": {
        "colab": {
          "base_uri": "https://localhost:8080/"
        },
        "id": "J7g1CeoCiOsR",
        "outputId": "287e7013-2839-4cd2-e704-581cb91bbbb6"
      },
      "outputs": [
        {
          "output_type": "stream",
          "name": "stdout",
          "text": [
            "110/110 [==============================] - 1s 5ms/step - loss: 6.8643e-04 - accuracy: 9.0909e-04\n",
            "Test loss: 0.0006864306051284075\n",
            "Test accuracy: 0.0009090909152291715\n"
          ]
        }
      ],
      "source": [
        "# Evaluasi model\n",
        "score = model.evaluate(x_t, y_t, batch_size=BATCH_SIZE)\n",
        "print('Test loss:', score[0])\n",
        "print('Test accuracy:', score[1])"
      ]
    },
    {
      "cell_type": "markdown",
      "metadata": {
        "id": "eWzm75sa6Mpk"
      },
      "source": [
        "# Menyimpan hasil prediksi ke dalam csv"
      ]
    },
    {
      "cell_type": "code",
      "execution_count": 44,
      "metadata": {
        "colab": {
          "base_uri": "https://localhost:8080/"
        },
        "id": "5eDeyaGOiRQW",
        "outputId": "1db6c33f-9208-4d4a-f2ed-7d229031364e"
      },
      "outputs": [
        {
          "output_type": "stream",
          "name": "stdout",
          "text": [
            "Dokumen CSV sudah tersimpan di direktori /content/drive/My Drive/TA_LSTM/outputs/lstm_best_11-1-20_2PM/iter_changes\n"
          ]
        }
      ],
      "source": [
        "# Menyimpan hasil data prediksi ke dalam bentuk Dataframe\n",
        "pred_table = pd.DataFrame(y_pred_org, columns=['Close'])\n",
        "\n",
        "# Melakukan Ekspor data menjadi bentuk CSV\n",
        "export_csv = pred_table.to_csv (r'/content/drive/My Drive/TA_LSTM/outputs/Prediksi Close Price.csv', index = None, header=True)\n",
        "print (\"Dokumen CSV sudah tersimpan di direktori\", OUTPUT_PATH)"
      ]
    },
    {
      "cell_type": "code",
      "execution_count": 45,
      "metadata": {
        "colab": {
          "base_uri": "https://localhost:8080/"
        },
        "id": "O8E9fr2yiTSL",
        "outputId": "f609fad8-dbb5-4f8a-f472-9058e4b60547"
      },
      "outputs": [
        {
          "output_type": "stream",
          "name": "stdout",
          "text": [
            "Dokumen CSV sudah tersimpan di direktori /content/drive/My Drive/TA_LSTM/outputs/lstm_best_11-1-20_2PM/iter_changes\n"
          ]
        }
      ],
      "source": [
        "# Menggabungkan dataset dengan data lama\n",
        "df_close = df.drop(columns=['Date','Open', 'High', 'Low', 'Adj Close', 'Volume'])\n",
        "df_new = pd.concat([df_close, pred_table], ignore_index=True, sort=True)\n",
        "\n",
        "# Menyimpan dataset baru\n",
        "export_csv = df_new.to_csv(r'/content/drive/My Drive/TA_LSTM/outputs/Dataset baru.csv', index = None, header=True)\n",
        "print (\"Dokumen CSV sudah tersimpan di direktori\", OUTPUT_PATH)"
      ]
    },
    {
      "cell_type": "markdown",
      "metadata": {
        "id": "vfngDIw58U3i"
      },
      "source": [
        "# SEKIAN DARI KAMI\n"
      ]
    }
  ],
  "metadata": {
    "accelerator": "GPU",
    "colab": {
      "provenance": [],
      "authorship_tag": "ABX9TyMCbooX/yTDliqXdQ2rXouw",
      "include_colab_link": true
    },
    "kernelspec": {
      "display_name": "Python 3",
      "name": "python3"
    },
    "language_info": {
      "name": "python"
    },
    "widgets": {
      "application/vnd.jupyter.widget-state+json": {
        "c82def9db8d04ca2abc47c54e1d34f22": {
          "model_module": "@jupyter-widgets/controls",
          "model_name": "HBoxModel",
          "model_module_version": "1.5.0",
          "state": {
            "_dom_classes": [],
            "_model_module": "@jupyter-widgets/controls",
            "_model_module_version": "1.5.0",
            "_model_name": "HBoxModel",
            "_view_count": null,
            "_view_module": "@jupyter-widgets/controls",
            "_view_module_version": "1.5.0",
            "_view_name": "HBoxView",
            "box_style": "",
            "children": [
              "IPY_MODEL_23d0c3c72ba54ab899e88ac2af6bf664",
              "IPY_MODEL_925a859ec19440b79daf98c0efeed76a",
              "IPY_MODEL_13a1b5ec5fdd4ac9b23c247f32f89265"
            ],
            "layout": "IPY_MODEL_5cd1887e9aac4cd4b1ed9b64fcb1fbb6"
          }
        },
        "23d0c3c72ba54ab899e88ac2af6bf664": {
          "model_module": "@jupyter-widgets/controls",
          "model_name": "HTMLModel",
          "model_module_version": "1.5.0",
          "state": {
            "_dom_classes": [],
            "_model_module": "@jupyter-widgets/controls",
            "_model_module_version": "1.5.0",
            "_model_name": "HTMLModel",
            "_view_count": null,
            "_view_module": "@jupyter-widgets/controls",
            "_view_module_version": "1.5.0",
            "_view_name": "HTMLView",
            "description": "",
            "description_tooltip": null,
            "layout": "IPY_MODEL_2b9482cd5a7848f4956ff54e2642c1db",
            "placeholder": "​",
            "style": "IPY_MODEL_6f6345c0145c444b8c95d5fb6cac50ff",
            "value": "100%"
          }
        },
        "925a859ec19440b79daf98c0efeed76a": {
          "model_module": "@jupyter-widgets/controls",
          "model_name": "FloatProgressModel",
          "model_module_version": "1.5.0",
          "state": {
            "_dom_classes": [],
            "_model_module": "@jupyter-widgets/controls",
            "_model_module_version": "1.5.0",
            "_model_name": "FloatProgressModel",
            "_view_count": null,
            "_view_module": "@jupyter-widgets/controls",
            "_view_module_version": "1.5.0",
            "_view_name": "ProgressView",
            "bar_style": "success",
            "description": "",
            "description_tooltip": null,
            "layout": "IPY_MODEL_bdfa459fa9de4437982ca87337c0f0d2",
            "max": 2211,
            "min": 0,
            "orientation": "horizontal",
            "style": "IPY_MODEL_07bcf0e1e58f40beb2653c14fa814eb4",
            "value": 2211
          }
        },
        "13a1b5ec5fdd4ac9b23c247f32f89265": {
          "model_module": "@jupyter-widgets/controls",
          "model_name": "HTMLModel",
          "model_module_version": "1.5.0",
          "state": {
            "_dom_classes": [],
            "_model_module": "@jupyter-widgets/controls",
            "_model_module_version": "1.5.0",
            "_model_name": "HTMLModel",
            "_view_count": null,
            "_view_module": "@jupyter-widgets/controls",
            "_view_module_version": "1.5.0",
            "_view_name": "HTMLView",
            "description": "",
            "description_tooltip": null,
            "layout": "IPY_MODEL_41f63fc7faa04f2c80e8d38dc01bc808",
            "placeholder": "​",
            "style": "IPY_MODEL_e0f04c4d5a1f4a1daeeef12206ff5ef2",
            "value": " 2211/2211 [00:00&lt;00:00, 75920.44it/s]"
          }
        },
        "5cd1887e9aac4cd4b1ed9b64fcb1fbb6": {
          "model_module": "@jupyter-widgets/base",
          "model_name": "LayoutModel",
          "model_module_version": "1.2.0",
          "state": {
            "_model_module": "@jupyter-widgets/base",
            "_model_module_version": "1.2.0",
            "_model_name": "LayoutModel",
            "_view_count": null,
            "_view_module": "@jupyter-widgets/base",
            "_view_module_version": "1.2.0",
            "_view_name": "LayoutView",
            "align_content": null,
            "align_items": null,
            "align_self": null,
            "border": null,
            "bottom": null,
            "display": null,
            "flex": null,
            "flex_flow": null,
            "grid_area": null,
            "grid_auto_columns": null,
            "grid_auto_flow": null,
            "grid_auto_rows": null,
            "grid_column": null,
            "grid_gap": null,
            "grid_row": null,
            "grid_template_areas": null,
            "grid_template_columns": null,
            "grid_template_rows": null,
            "height": null,
            "justify_content": null,
            "justify_items": null,
            "left": null,
            "margin": null,
            "max_height": null,
            "max_width": null,
            "min_height": null,
            "min_width": null,
            "object_fit": null,
            "object_position": null,
            "order": null,
            "overflow": null,
            "overflow_x": null,
            "overflow_y": null,
            "padding": null,
            "right": null,
            "top": null,
            "visibility": null,
            "width": null
          }
        },
        "2b9482cd5a7848f4956ff54e2642c1db": {
          "model_module": "@jupyter-widgets/base",
          "model_name": "LayoutModel",
          "model_module_version": "1.2.0",
          "state": {
            "_model_module": "@jupyter-widgets/base",
            "_model_module_version": "1.2.0",
            "_model_name": "LayoutModel",
            "_view_count": null,
            "_view_module": "@jupyter-widgets/base",
            "_view_module_version": "1.2.0",
            "_view_name": "LayoutView",
            "align_content": null,
            "align_items": null,
            "align_self": null,
            "border": null,
            "bottom": null,
            "display": null,
            "flex": null,
            "flex_flow": null,
            "grid_area": null,
            "grid_auto_columns": null,
            "grid_auto_flow": null,
            "grid_auto_rows": null,
            "grid_column": null,
            "grid_gap": null,
            "grid_row": null,
            "grid_template_areas": null,
            "grid_template_columns": null,
            "grid_template_rows": null,
            "height": null,
            "justify_content": null,
            "justify_items": null,
            "left": null,
            "margin": null,
            "max_height": null,
            "max_width": null,
            "min_height": null,
            "min_width": null,
            "object_fit": null,
            "object_position": null,
            "order": null,
            "overflow": null,
            "overflow_x": null,
            "overflow_y": null,
            "padding": null,
            "right": null,
            "top": null,
            "visibility": null,
            "width": null
          }
        },
        "6f6345c0145c444b8c95d5fb6cac50ff": {
          "model_module": "@jupyter-widgets/controls",
          "model_name": "DescriptionStyleModel",
          "model_module_version": "1.5.0",
          "state": {
            "_model_module": "@jupyter-widgets/controls",
            "_model_module_version": "1.5.0",
            "_model_name": "DescriptionStyleModel",
            "_view_count": null,
            "_view_module": "@jupyter-widgets/base",
            "_view_module_version": "1.2.0",
            "_view_name": "StyleView",
            "description_width": ""
          }
        },
        "bdfa459fa9de4437982ca87337c0f0d2": {
          "model_module": "@jupyter-widgets/base",
          "model_name": "LayoutModel",
          "model_module_version": "1.2.0",
          "state": {
            "_model_module": "@jupyter-widgets/base",
            "_model_module_version": "1.2.0",
            "_model_name": "LayoutModel",
            "_view_count": null,
            "_view_module": "@jupyter-widgets/base",
            "_view_module_version": "1.2.0",
            "_view_name": "LayoutView",
            "align_content": null,
            "align_items": null,
            "align_self": null,
            "border": null,
            "bottom": null,
            "display": null,
            "flex": null,
            "flex_flow": null,
            "grid_area": null,
            "grid_auto_columns": null,
            "grid_auto_flow": null,
            "grid_auto_rows": null,
            "grid_column": null,
            "grid_gap": null,
            "grid_row": null,
            "grid_template_areas": null,
            "grid_template_columns": null,
            "grid_template_rows": null,
            "height": null,
            "justify_content": null,
            "justify_items": null,
            "left": null,
            "margin": null,
            "max_height": null,
            "max_width": null,
            "min_height": null,
            "min_width": null,
            "object_fit": null,
            "object_position": null,
            "order": null,
            "overflow": null,
            "overflow_x": null,
            "overflow_y": null,
            "padding": null,
            "right": null,
            "top": null,
            "visibility": null,
            "width": null
          }
        },
        "07bcf0e1e58f40beb2653c14fa814eb4": {
          "model_module": "@jupyter-widgets/controls",
          "model_name": "ProgressStyleModel",
          "model_module_version": "1.5.0",
          "state": {
            "_model_module": "@jupyter-widgets/controls",
            "_model_module_version": "1.5.0",
            "_model_name": "ProgressStyleModel",
            "_view_count": null,
            "_view_module": "@jupyter-widgets/base",
            "_view_module_version": "1.2.0",
            "_view_name": "StyleView",
            "bar_color": null,
            "description_width": ""
          }
        },
        "41f63fc7faa04f2c80e8d38dc01bc808": {
          "model_module": "@jupyter-widgets/base",
          "model_name": "LayoutModel",
          "model_module_version": "1.2.0",
          "state": {
            "_model_module": "@jupyter-widgets/base",
            "_model_module_version": "1.2.0",
            "_model_name": "LayoutModel",
            "_view_count": null,
            "_view_module": "@jupyter-widgets/base",
            "_view_module_version": "1.2.0",
            "_view_name": "LayoutView",
            "align_content": null,
            "align_items": null,
            "align_self": null,
            "border": null,
            "bottom": null,
            "display": null,
            "flex": null,
            "flex_flow": null,
            "grid_area": null,
            "grid_auto_columns": null,
            "grid_auto_flow": null,
            "grid_auto_rows": null,
            "grid_column": null,
            "grid_gap": null,
            "grid_row": null,
            "grid_template_areas": null,
            "grid_template_columns": null,
            "grid_template_rows": null,
            "height": null,
            "justify_content": null,
            "justify_items": null,
            "left": null,
            "margin": null,
            "max_height": null,
            "max_width": null,
            "min_height": null,
            "min_width": null,
            "object_fit": null,
            "object_position": null,
            "order": null,
            "overflow": null,
            "overflow_x": null,
            "overflow_y": null,
            "padding": null,
            "right": null,
            "top": null,
            "visibility": null,
            "width": null
          }
        },
        "e0f04c4d5a1f4a1daeeef12206ff5ef2": {
          "model_module": "@jupyter-widgets/controls",
          "model_name": "DescriptionStyleModel",
          "model_module_version": "1.5.0",
          "state": {
            "_model_module": "@jupyter-widgets/controls",
            "_model_module_version": "1.5.0",
            "_model_name": "DescriptionStyleModel",
            "_view_count": null,
            "_view_module": "@jupyter-widgets/base",
            "_view_module_version": "1.2.0",
            "_view_name": "StyleView",
            "description_width": ""
          }
        },
        "a27243b0559e41e5be3701468b874eb7": {
          "model_module": "@jupyter-widgets/controls",
          "model_name": "HBoxModel",
          "model_module_version": "1.5.0",
          "state": {
            "_dom_classes": [],
            "_model_module": "@jupyter-widgets/controls",
            "_model_module_version": "1.5.0",
            "_model_name": "HBoxModel",
            "_view_count": null,
            "_view_module": "@jupyter-widgets/controls",
            "_view_module_version": "1.5.0",
            "_view_name": "HBoxView",
            "box_style": "",
            "children": [
              "IPY_MODEL_a96cf5f7be294b05b0cc368cf760175b",
              "IPY_MODEL_5f694f256fb2471bb659e116598434c4",
              "IPY_MODEL_3c5cb0cfb8c549c0a02249ac3bca590b"
            ],
            "layout": "IPY_MODEL_fd4b98ee59494f8ea21f621509e47c37"
          }
        },
        "a96cf5f7be294b05b0cc368cf760175b": {
          "model_module": "@jupyter-widgets/controls",
          "model_name": "HTMLModel",
          "model_module_version": "1.5.0",
          "state": {
            "_dom_classes": [],
            "_model_module": "@jupyter-widgets/controls",
            "_model_module_version": "1.5.0",
            "_model_name": "HTMLModel",
            "_view_count": null,
            "_view_module": "@jupyter-widgets/controls",
            "_view_module_version": "1.5.0",
            "_view_name": "HTMLView",
            "description": "",
            "description_tooltip": null,
            "layout": "IPY_MODEL_86a80eab85e64f7f9f02d74bb16d5439",
            "placeholder": "​",
            "style": "IPY_MODEL_e7b389d0d88046f991cbe3f5a8cb50d4",
            "value": "100%"
          }
        },
        "5f694f256fb2471bb659e116598434c4": {
          "model_module": "@jupyter-widgets/controls",
          "model_name": "FloatProgressModel",
          "model_module_version": "1.5.0",
          "state": {
            "_dom_classes": [],
            "_model_module": "@jupyter-widgets/controls",
            "_model_module_version": "1.5.0",
            "_model_name": "FloatProgressModel",
            "_view_count": null,
            "_view_module": "@jupyter-widgets/controls",
            "_view_module_version": "1.5.0",
            "_view_name": "ProgressView",
            "bar_style": "success",
            "description": "",
            "description_tooltip": null,
            "layout": "IPY_MODEL_6d69a198781a492299855c9035f6fdaa",
            "max": 1081,
            "min": 0,
            "orientation": "horizontal",
            "style": "IPY_MODEL_1e916a40a4ea468da5e1664a9f0ed334",
            "value": 1081
          }
        },
        "3c5cb0cfb8c549c0a02249ac3bca590b": {
          "model_module": "@jupyter-widgets/controls",
          "model_name": "HTMLModel",
          "model_module_version": "1.5.0",
          "state": {
            "_dom_classes": [],
            "_model_module": "@jupyter-widgets/controls",
            "_model_module_version": "1.5.0",
            "_model_name": "HTMLModel",
            "_view_count": null,
            "_view_module": "@jupyter-widgets/controls",
            "_view_module_version": "1.5.0",
            "_view_name": "HTMLView",
            "description": "",
            "description_tooltip": null,
            "layout": "IPY_MODEL_f711eec8bd17476a9ca1d5cdd563fb8b",
            "placeholder": "​",
            "style": "IPY_MODEL_31b9d1ee43ec4ed1bfd228effb02f737",
            "value": " 1081/1081 [00:00&lt;00:00, 43246.43it/s]"
          }
        },
        "fd4b98ee59494f8ea21f621509e47c37": {
          "model_module": "@jupyter-widgets/base",
          "model_name": "LayoutModel",
          "model_module_version": "1.2.0",
          "state": {
            "_model_module": "@jupyter-widgets/base",
            "_model_module_version": "1.2.0",
            "_model_name": "LayoutModel",
            "_view_count": null,
            "_view_module": "@jupyter-widgets/base",
            "_view_module_version": "1.2.0",
            "_view_name": "LayoutView",
            "align_content": null,
            "align_items": null,
            "align_self": null,
            "border": null,
            "bottom": null,
            "display": null,
            "flex": null,
            "flex_flow": null,
            "grid_area": null,
            "grid_auto_columns": null,
            "grid_auto_flow": null,
            "grid_auto_rows": null,
            "grid_column": null,
            "grid_gap": null,
            "grid_row": null,
            "grid_template_areas": null,
            "grid_template_columns": null,
            "grid_template_rows": null,
            "height": null,
            "justify_content": null,
            "justify_items": null,
            "left": null,
            "margin": null,
            "max_height": null,
            "max_width": null,
            "min_height": null,
            "min_width": null,
            "object_fit": null,
            "object_position": null,
            "order": null,
            "overflow": null,
            "overflow_x": null,
            "overflow_y": null,
            "padding": null,
            "right": null,
            "top": null,
            "visibility": null,
            "width": null
          }
        },
        "86a80eab85e64f7f9f02d74bb16d5439": {
          "model_module": "@jupyter-widgets/base",
          "model_name": "LayoutModel",
          "model_module_version": "1.2.0",
          "state": {
            "_model_module": "@jupyter-widgets/base",
            "_model_module_version": "1.2.0",
            "_model_name": "LayoutModel",
            "_view_count": null,
            "_view_module": "@jupyter-widgets/base",
            "_view_module_version": "1.2.0",
            "_view_name": "LayoutView",
            "align_content": null,
            "align_items": null,
            "align_self": null,
            "border": null,
            "bottom": null,
            "display": null,
            "flex": null,
            "flex_flow": null,
            "grid_area": null,
            "grid_auto_columns": null,
            "grid_auto_flow": null,
            "grid_auto_rows": null,
            "grid_column": null,
            "grid_gap": null,
            "grid_row": null,
            "grid_template_areas": null,
            "grid_template_columns": null,
            "grid_template_rows": null,
            "height": null,
            "justify_content": null,
            "justify_items": null,
            "left": null,
            "margin": null,
            "max_height": null,
            "max_width": null,
            "min_height": null,
            "min_width": null,
            "object_fit": null,
            "object_position": null,
            "order": null,
            "overflow": null,
            "overflow_x": null,
            "overflow_y": null,
            "padding": null,
            "right": null,
            "top": null,
            "visibility": null,
            "width": null
          }
        },
        "e7b389d0d88046f991cbe3f5a8cb50d4": {
          "model_module": "@jupyter-widgets/controls",
          "model_name": "DescriptionStyleModel",
          "model_module_version": "1.5.0",
          "state": {
            "_model_module": "@jupyter-widgets/controls",
            "_model_module_version": "1.5.0",
            "_model_name": "DescriptionStyleModel",
            "_view_count": null,
            "_view_module": "@jupyter-widgets/base",
            "_view_module_version": "1.2.0",
            "_view_name": "StyleView",
            "description_width": ""
          }
        },
        "6d69a198781a492299855c9035f6fdaa": {
          "model_module": "@jupyter-widgets/base",
          "model_name": "LayoutModel",
          "model_module_version": "1.2.0",
          "state": {
            "_model_module": "@jupyter-widgets/base",
            "_model_module_version": "1.2.0",
            "_model_name": "LayoutModel",
            "_view_count": null,
            "_view_module": "@jupyter-widgets/base",
            "_view_module_version": "1.2.0",
            "_view_name": "LayoutView",
            "align_content": null,
            "align_items": null,
            "align_self": null,
            "border": null,
            "bottom": null,
            "display": null,
            "flex": null,
            "flex_flow": null,
            "grid_area": null,
            "grid_auto_columns": null,
            "grid_auto_flow": null,
            "grid_auto_rows": null,
            "grid_column": null,
            "grid_gap": null,
            "grid_row": null,
            "grid_template_areas": null,
            "grid_template_columns": null,
            "grid_template_rows": null,
            "height": null,
            "justify_content": null,
            "justify_items": null,
            "left": null,
            "margin": null,
            "max_height": null,
            "max_width": null,
            "min_height": null,
            "min_width": null,
            "object_fit": null,
            "object_position": null,
            "order": null,
            "overflow": null,
            "overflow_x": null,
            "overflow_y": null,
            "padding": null,
            "right": null,
            "top": null,
            "visibility": null,
            "width": null
          }
        },
        "1e916a40a4ea468da5e1664a9f0ed334": {
          "model_module": "@jupyter-widgets/controls",
          "model_name": "ProgressStyleModel",
          "model_module_version": "1.5.0",
          "state": {
            "_model_module": "@jupyter-widgets/controls",
            "_model_module_version": "1.5.0",
            "_model_name": "ProgressStyleModel",
            "_view_count": null,
            "_view_module": "@jupyter-widgets/base",
            "_view_module_version": "1.2.0",
            "_view_name": "StyleView",
            "bar_color": null,
            "description_width": ""
          }
        },
        "f711eec8bd17476a9ca1d5cdd563fb8b": {
          "model_module": "@jupyter-widgets/base",
          "model_name": "LayoutModel",
          "model_module_version": "1.2.0",
          "state": {
            "_model_module": "@jupyter-widgets/base",
            "_model_module_version": "1.2.0",
            "_model_name": "LayoutModel",
            "_view_count": null,
            "_view_module": "@jupyter-widgets/base",
            "_view_module_version": "1.2.0",
            "_view_name": "LayoutView",
            "align_content": null,
            "align_items": null,
            "align_self": null,
            "border": null,
            "bottom": null,
            "display": null,
            "flex": null,
            "flex_flow": null,
            "grid_area": null,
            "grid_auto_columns": null,
            "grid_auto_flow": null,
            "grid_auto_rows": null,
            "grid_column": null,
            "grid_gap": null,
            "grid_row": null,
            "grid_template_areas": null,
            "grid_template_columns": null,
            "grid_template_rows": null,
            "height": null,
            "justify_content": null,
            "justify_items": null,
            "left": null,
            "margin": null,
            "max_height": null,
            "max_width": null,
            "min_height": null,
            "min_width": null,
            "object_fit": null,
            "object_position": null,
            "order": null,
            "overflow": null,
            "overflow_x": null,
            "overflow_y": null,
            "padding": null,
            "right": null,
            "top": null,
            "visibility": null,
            "width": null
          }
        },
        "31b9d1ee43ec4ed1bfd228effb02f737": {
          "model_module": "@jupyter-widgets/controls",
          "model_name": "DescriptionStyleModel",
          "model_module_version": "1.5.0",
          "state": {
            "_model_module": "@jupyter-widgets/controls",
            "_model_module_version": "1.5.0",
            "_model_name": "DescriptionStyleModel",
            "_view_count": null,
            "_view_module": "@jupyter-widgets/base",
            "_view_module_version": "1.2.0",
            "_view_name": "StyleView",
            "description_width": ""
          }
        },
        "75984fef01e34778891eda77a536f4b0": {
          "model_module": "@jupyter-widgets/controls",
          "model_name": "HBoxModel",
          "model_module_version": "1.5.0",
          "state": {
            "_dom_classes": [],
            "_model_module": "@jupyter-widgets/controls",
            "_model_module_version": "1.5.0",
            "_model_name": "HBoxModel",
            "_view_count": null,
            "_view_module": "@jupyter-widgets/controls",
            "_view_module_version": "1.5.0",
            "_view_name": "HBoxView",
            "box_style": "",
            "children": [
              "IPY_MODEL_9de958e504f3429e9157c537d4756fbb",
              "IPY_MODEL_c8eb5e4051964a80bc23fe5f8cfa6456",
              "IPY_MODEL_7f8a93a40e0c4a479009cafd5b172f00"
            ],
            "layout": "IPY_MODEL_fe46addd43a14beabd27f8bf6fda9f78"
          }
        },
        "9de958e504f3429e9157c537d4756fbb": {
          "model_module": "@jupyter-widgets/controls",
          "model_name": "HTMLModel",
          "model_module_version": "1.5.0",
          "state": {
            "_dom_classes": [],
            "_model_module": "@jupyter-widgets/controls",
            "_model_module_version": "1.5.0",
            "_model_name": "HTMLModel",
            "_view_count": null,
            "_view_module": "@jupyter-widgets/controls",
            "_view_module_version": "1.5.0",
            "_view_name": "HTMLView",
            "description": "",
            "description_tooltip": null,
            "layout": "IPY_MODEL_51d4bde0e75c43bdafdcc02eb66c5712",
            "placeholder": "​",
            "style": "IPY_MODEL_40223a72a9ca447d9e61cd156d865039",
            "value": "100%"
          }
        },
        "c8eb5e4051964a80bc23fe5f8cfa6456": {
          "model_module": "@jupyter-widgets/controls",
          "model_name": "FloatProgressModel",
          "model_module_version": "1.5.0",
          "state": {
            "_dom_classes": [],
            "_model_module": "@jupyter-widgets/controls",
            "_model_module_version": "1.5.0",
            "_model_name": "FloatProgressModel",
            "_view_count": null,
            "_view_module": "@jupyter-widgets/controls",
            "_view_module_version": "1.5.0",
            "_view_name": "ProgressView",
            "bar_style": "success",
            "description": "",
            "description_tooltip": null,
            "layout": "IPY_MODEL_f3fefe2a3630473a83a62e20434f8456",
            "max": 1080,
            "min": 0,
            "orientation": "horizontal",
            "style": "IPY_MODEL_ae53b6bc1ac54fd687e10fb460f6e95f",
            "value": 1080
          }
        },
        "7f8a93a40e0c4a479009cafd5b172f00": {
          "model_module": "@jupyter-widgets/controls",
          "model_name": "HTMLModel",
          "model_module_version": "1.5.0",
          "state": {
            "_dom_classes": [],
            "_model_module": "@jupyter-widgets/controls",
            "_model_module_version": "1.5.0",
            "_model_name": "HTMLModel",
            "_view_count": null,
            "_view_module": "@jupyter-widgets/controls",
            "_view_module_version": "1.5.0",
            "_view_name": "HTMLView",
            "description": "",
            "description_tooltip": null,
            "layout": "IPY_MODEL_4ad5ba9410094a029316eb3e9f73b782",
            "placeholder": "​",
            "style": "IPY_MODEL_59a889ebbaed4bdb80afddff49a80061",
            "value": " 1080/1080 [00:00&lt;00:00, 34393.90it/s]"
          }
        },
        "fe46addd43a14beabd27f8bf6fda9f78": {
          "model_module": "@jupyter-widgets/base",
          "model_name": "LayoutModel",
          "model_module_version": "1.2.0",
          "state": {
            "_model_module": "@jupyter-widgets/base",
            "_model_module_version": "1.2.0",
            "_model_name": "LayoutModel",
            "_view_count": null,
            "_view_module": "@jupyter-widgets/base",
            "_view_module_version": "1.2.0",
            "_view_name": "LayoutView",
            "align_content": null,
            "align_items": null,
            "align_self": null,
            "border": null,
            "bottom": null,
            "display": null,
            "flex": null,
            "flex_flow": null,
            "grid_area": null,
            "grid_auto_columns": null,
            "grid_auto_flow": null,
            "grid_auto_rows": null,
            "grid_column": null,
            "grid_gap": null,
            "grid_row": null,
            "grid_template_areas": null,
            "grid_template_columns": null,
            "grid_template_rows": null,
            "height": null,
            "justify_content": null,
            "justify_items": null,
            "left": null,
            "margin": null,
            "max_height": null,
            "max_width": null,
            "min_height": null,
            "min_width": null,
            "object_fit": null,
            "object_position": null,
            "order": null,
            "overflow": null,
            "overflow_x": null,
            "overflow_y": null,
            "padding": null,
            "right": null,
            "top": null,
            "visibility": null,
            "width": null
          }
        },
        "51d4bde0e75c43bdafdcc02eb66c5712": {
          "model_module": "@jupyter-widgets/base",
          "model_name": "LayoutModel",
          "model_module_version": "1.2.0",
          "state": {
            "_model_module": "@jupyter-widgets/base",
            "_model_module_version": "1.2.0",
            "_model_name": "LayoutModel",
            "_view_count": null,
            "_view_module": "@jupyter-widgets/base",
            "_view_module_version": "1.2.0",
            "_view_name": "LayoutView",
            "align_content": null,
            "align_items": null,
            "align_self": null,
            "border": null,
            "bottom": null,
            "display": null,
            "flex": null,
            "flex_flow": null,
            "grid_area": null,
            "grid_auto_columns": null,
            "grid_auto_flow": null,
            "grid_auto_rows": null,
            "grid_column": null,
            "grid_gap": null,
            "grid_row": null,
            "grid_template_areas": null,
            "grid_template_columns": null,
            "grid_template_rows": null,
            "height": null,
            "justify_content": null,
            "justify_items": null,
            "left": null,
            "margin": null,
            "max_height": null,
            "max_width": null,
            "min_height": null,
            "min_width": null,
            "object_fit": null,
            "object_position": null,
            "order": null,
            "overflow": null,
            "overflow_x": null,
            "overflow_y": null,
            "padding": null,
            "right": null,
            "top": null,
            "visibility": null,
            "width": null
          }
        },
        "40223a72a9ca447d9e61cd156d865039": {
          "model_module": "@jupyter-widgets/controls",
          "model_name": "DescriptionStyleModel",
          "model_module_version": "1.5.0",
          "state": {
            "_model_module": "@jupyter-widgets/controls",
            "_model_module_version": "1.5.0",
            "_model_name": "DescriptionStyleModel",
            "_view_count": null,
            "_view_module": "@jupyter-widgets/base",
            "_view_module_version": "1.2.0",
            "_view_name": "StyleView",
            "description_width": ""
          }
        },
        "f3fefe2a3630473a83a62e20434f8456": {
          "model_module": "@jupyter-widgets/base",
          "model_name": "LayoutModel",
          "model_module_version": "1.2.0",
          "state": {
            "_model_module": "@jupyter-widgets/base",
            "_model_module_version": "1.2.0",
            "_model_name": "LayoutModel",
            "_view_count": null,
            "_view_module": "@jupyter-widgets/base",
            "_view_module_version": "1.2.0",
            "_view_name": "LayoutView",
            "align_content": null,
            "align_items": null,
            "align_self": null,
            "border": null,
            "bottom": null,
            "display": null,
            "flex": null,
            "flex_flow": null,
            "grid_area": null,
            "grid_auto_columns": null,
            "grid_auto_flow": null,
            "grid_auto_rows": null,
            "grid_column": null,
            "grid_gap": null,
            "grid_row": null,
            "grid_template_areas": null,
            "grid_template_columns": null,
            "grid_template_rows": null,
            "height": null,
            "justify_content": null,
            "justify_items": null,
            "left": null,
            "margin": null,
            "max_height": null,
            "max_width": null,
            "min_height": null,
            "min_width": null,
            "object_fit": null,
            "object_position": null,
            "order": null,
            "overflow": null,
            "overflow_x": null,
            "overflow_y": null,
            "padding": null,
            "right": null,
            "top": null,
            "visibility": null,
            "width": null
          }
        },
        "ae53b6bc1ac54fd687e10fb460f6e95f": {
          "model_module": "@jupyter-widgets/controls",
          "model_name": "ProgressStyleModel",
          "model_module_version": "1.5.0",
          "state": {
            "_model_module": "@jupyter-widgets/controls",
            "_model_module_version": "1.5.0",
            "_model_name": "ProgressStyleModel",
            "_view_count": null,
            "_view_module": "@jupyter-widgets/base",
            "_view_module_version": "1.2.0",
            "_view_name": "StyleView",
            "bar_color": null,
            "description_width": ""
          }
        },
        "4ad5ba9410094a029316eb3e9f73b782": {
          "model_module": "@jupyter-widgets/base",
          "model_name": "LayoutModel",
          "model_module_version": "1.2.0",
          "state": {
            "_model_module": "@jupyter-widgets/base",
            "_model_module_version": "1.2.0",
            "_model_name": "LayoutModel",
            "_view_count": null,
            "_view_module": "@jupyter-widgets/base",
            "_view_module_version": "1.2.0",
            "_view_name": "LayoutView",
            "align_content": null,
            "align_items": null,
            "align_self": null,
            "border": null,
            "bottom": null,
            "display": null,
            "flex": null,
            "flex_flow": null,
            "grid_area": null,
            "grid_auto_columns": null,
            "grid_auto_flow": null,
            "grid_auto_rows": null,
            "grid_column": null,
            "grid_gap": null,
            "grid_row": null,
            "grid_template_areas": null,
            "grid_template_columns": null,
            "grid_template_rows": null,
            "height": null,
            "justify_content": null,
            "justify_items": null,
            "left": null,
            "margin": null,
            "max_height": null,
            "max_width": null,
            "min_height": null,
            "min_width": null,
            "object_fit": null,
            "object_position": null,
            "order": null,
            "overflow": null,
            "overflow_x": null,
            "overflow_y": null,
            "padding": null,
            "right": null,
            "top": null,
            "visibility": null,
            "width": null
          }
        },
        "59a889ebbaed4bdb80afddff49a80061": {
          "model_module": "@jupyter-widgets/controls",
          "model_name": "DescriptionStyleModel",
          "model_module_version": "1.5.0",
          "state": {
            "_model_module": "@jupyter-widgets/controls",
            "_model_module_version": "1.5.0",
            "_model_name": "DescriptionStyleModel",
            "_view_count": null,
            "_view_module": "@jupyter-widgets/base",
            "_view_module_version": "1.2.0",
            "_view_name": "StyleView",
            "description_width": ""
          }
        },
        "35e360e00b2c46b392a4ef78232fda03": {
          "model_module": "@jupyter-widgets/controls",
          "model_name": "HBoxModel",
          "model_module_version": "1.5.0",
          "state": {
            "_dom_classes": [],
            "_model_module": "@jupyter-widgets/controls",
            "_model_module_version": "1.5.0",
            "_model_name": "HBoxModel",
            "_view_count": null,
            "_view_module": "@jupyter-widgets/controls",
            "_view_module_version": "1.5.0",
            "_view_name": "HBoxView",
            "box_style": "",
            "children": [
              "IPY_MODEL_09ad7d057ff14dc188becf0ea6c6f16f",
              "IPY_MODEL_7aac10da420f4603b7932ef843efcf3d",
              "IPY_MODEL_eb5031acc92d42cebf464e60e7f4d1ba"
            ],
            "layout": "IPY_MODEL_5945c46852d44ed3b5a7e4afbb90f384"
          }
        },
        "09ad7d057ff14dc188becf0ea6c6f16f": {
          "model_module": "@jupyter-widgets/controls",
          "model_name": "HTMLModel",
          "model_module_version": "1.5.0",
          "state": {
            "_dom_classes": [],
            "_model_module": "@jupyter-widgets/controls",
            "_model_module_version": "1.5.0",
            "_model_name": "HTMLModel",
            "_view_count": null,
            "_view_module": "@jupyter-widgets/controls",
            "_view_module_version": "1.5.0",
            "_view_name": "HTMLView",
            "description": "",
            "description_tooltip": null,
            "layout": "IPY_MODEL_c326371e63ff4f16b113e0fb157d0014",
            "placeholder": "​",
            "style": "IPY_MODEL_6c594434d8f34cbd8cb5f2998c4837ed",
            "value": "100%"
          }
        },
        "7aac10da420f4603b7932ef843efcf3d": {
          "model_module": "@jupyter-widgets/controls",
          "model_name": "FloatProgressModel",
          "model_module_version": "1.5.0",
          "state": {
            "_dom_classes": [],
            "_model_module": "@jupyter-widgets/controls",
            "_model_module_version": "1.5.0",
            "_model_name": "FloatProgressModel",
            "_view_count": null,
            "_view_module": "@jupyter-widgets/controls",
            "_view_module_version": "1.5.0",
            "_view_name": "ProgressView",
            "bar_style": "success",
            "description": "",
            "description_tooltip": null,
            "layout": "IPY_MODEL_9cd6bcf67e554958ab0cfeb2e2e9a37d",
            "max": 516,
            "min": 0,
            "orientation": "horizontal",
            "style": "IPY_MODEL_7af94e5ef37a4e81ada5710c5d703144",
            "value": 516
          }
        },
        "eb5031acc92d42cebf464e60e7f4d1ba": {
          "model_module": "@jupyter-widgets/controls",
          "model_name": "HTMLModel",
          "model_module_version": "1.5.0",
          "state": {
            "_dom_classes": [],
            "_model_module": "@jupyter-widgets/controls",
            "_model_module_version": "1.5.0",
            "_model_name": "HTMLModel",
            "_view_count": null,
            "_view_module": "@jupyter-widgets/controls",
            "_view_module_version": "1.5.0",
            "_view_name": "HTMLView",
            "description": "",
            "description_tooltip": null,
            "layout": "IPY_MODEL_0103757647e047008d1c286e47294e97",
            "placeholder": "​",
            "style": "IPY_MODEL_8733ad68023541dc8217ded40fe7f8d1",
            "value": " 516/516 [00:00&lt;00:00, 21082.45it/s]"
          }
        },
        "5945c46852d44ed3b5a7e4afbb90f384": {
          "model_module": "@jupyter-widgets/base",
          "model_name": "LayoutModel",
          "model_module_version": "1.2.0",
          "state": {
            "_model_module": "@jupyter-widgets/base",
            "_model_module_version": "1.2.0",
            "_model_name": "LayoutModel",
            "_view_count": null,
            "_view_module": "@jupyter-widgets/base",
            "_view_module_version": "1.2.0",
            "_view_name": "LayoutView",
            "align_content": null,
            "align_items": null,
            "align_self": null,
            "border": null,
            "bottom": null,
            "display": null,
            "flex": null,
            "flex_flow": null,
            "grid_area": null,
            "grid_auto_columns": null,
            "grid_auto_flow": null,
            "grid_auto_rows": null,
            "grid_column": null,
            "grid_gap": null,
            "grid_row": null,
            "grid_template_areas": null,
            "grid_template_columns": null,
            "grid_template_rows": null,
            "height": null,
            "justify_content": null,
            "justify_items": null,
            "left": null,
            "margin": null,
            "max_height": null,
            "max_width": null,
            "min_height": null,
            "min_width": null,
            "object_fit": null,
            "object_position": null,
            "order": null,
            "overflow": null,
            "overflow_x": null,
            "overflow_y": null,
            "padding": null,
            "right": null,
            "top": null,
            "visibility": null,
            "width": null
          }
        },
        "c326371e63ff4f16b113e0fb157d0014": {
          "model_module": "@jupyter-widgets/base",
          "model_name": "LayoutModel",
          "model_module_version": "1.2.0",
          "state": {
            "_model_module": "@jupyter-widgets/base",
            "_model_module_version": "1.2.0",
            "_model_name": "LayoutModel",
            "_view_count": null,
            "_view_module": "@jupyter-widgets/base",
            "_view_module_version": "1.2.0",
            "_view_name": "LayoutView",
            "align_content": null,
            "align_items": null,
            "align_self": null,
            "border": null,
            "bottom": null,
            "display": null,
            "flex": null,
            "flex_flow": null,
            "grid_area": null,
            "grid_auto_columns": null,
            "grid_auto_flow": null,
            "grid_auto_rows": null,
            "grid_column": null,
            "grid_gap": null,
            "grid_row": null,
            "grid_template_areas": null,
            "grid_template_columns": null,
            "grid_template_rows": null,
            "height": null,
            "justify_content": null,
            "justify_items": null,
            "left": null,
            "margin": null,
            "max_height": null,
            "max_width": null,
            "min_height": null,
            "min_width": null,
            "object_fit": null,
            "object_position": null,
            "order": null,
            "overflow": null,
            "overflow_x": null,
            "overflow_y": null,
            "padding": null,
            "right": null,
            "top": null,
            "visibility": null,
            "width": null
          }
        },
        "6c594434d8f34cbd8cb5f2998c4837ed": {
          "model_module": "@jupyter-widgets/controls",
          "model_name": "DescriptionStyleModel",
          "model_module_version": "1.5.0",
          "state": {
            "_model_module": "@jupyter-widgets/controls",
            "_model_module_version": "1.5.0",
            "_model_name": "DescriptionStyleModel",
            "_view_count": null,
            "_view_module": "@jupyter-widgets/base",
            "_view_module_version": "1.2.0",
            "_view_name": "StyleView",
            "description_width": ""
          }
        },
        "9cd6bcf67e554958ab0cfeb2e2e9a37d": {
          "model_module": "@jupyter-widgets/base",
          "model_name": "LayoutModel",
          "model_module_version": "1.2.0",
          "state": {
            "_model_module": "@jupyter-widgets/base",
            "_model_module_version": "1.2.0",
            "_model_name": "LayoutModel",
            "_view_count": null,
            "_view_module": "@jupyter-widgets/base",
            "_view_module_version": "1.2.0",
            "_view_name": "LayoutView",
            "align_content": null,
            "align_items": null,
            "align_self": null,
            "border": null,
            "bottom": null,
            "display": null,
            "flex": null,
            "flex_flow": null,
            "grid_area": null,
            "grid_auto_columns": null,
            "grid_auto_flow": null,
            "grid_auto_rows": null,
            "grid_column": null,
            "grid_gap": null,
            "grid_row": null,
            "grid_template_areas": null,
            "grid_template_columns": null,
            "grid_template_rows": null,
            "height": null,
            "justify_content": null,
            "justify_items": null,
            "left": null,
            "margin": null,
            "max_height": null,
            "max_width": null,
            "min_height": null,
            "min_width": null,
            "object_fit": null,
            "object_position": null,
            "order": null,
            "overflow": null,
            "overflow_x": null,
            "overflow_y": null,
            "padding": null,
            "right": null,
            "top": null,
            "visibility": null,
            "width": null
          }
        },
        "7af94e5ef37a4e81ada5710c5d703144": {
          "model_module": "@jupyter-widgets/controls",
          "model_name": "ProgressStyleModel",
          "model_module_version": "1.5.0",
          "state": {
            "_model_module": "@jupyter-widgets/controls",
            "_model_module_version": "1.5.0",
            "_model_name": "ProgressStyleModel",
            "_view_count": null,
            "_view_module": "@jupyter-widgets/base",
            "_view_module_version": "1.2.0",
            "_view_name": "StyleView",
            "bar_color": null,
            "description_width": ""
          }
        },
        "0103757647e047008d1c286e47294e97": {
          "model_module": "@jupyter-widgets/base",
          "model_name": "LayoutModel",
          "model_module_version": "1.2.0",
          "state": {
            "_model_module": "@jupyter-widgets/base",
            "_model_module_version": "1.2.0",
            "_model_name": "LayoutModel",
            "_view_count": null,
            "_view_module": "@jupyter-widgets/base",
            "_view_module_version": "1.2.0",
            "_view_name": "LayoutView",
            "align_content": null,
            "align_items": null,
            "align_self": null,
            "border": null,
            "bottom": null,
            "display": null,
            "flex": null,
            "flex_flow": null,
            "grid_area": null,
            "grid_auto_columns": null,
            "grid_auto_flow": null,
            "grid_auto_rows": null,
            "grid_column": null,
            "grid_gap": null,
            "grid_row": null,
            "grid_template_areas": null,
            "grid_template_columns": null,
            "grid_template_rows": null,
            "height": null,
            "justify_content": null,
            "justify_items": null,
            "left": null,
            "margin": null,
            "max_height": null,
            "max_width": null,
            "min_height": null,
            "min_width": null,
            "object_fit": null,
            "object_position": null,
            "order": null,
            "overflow": null,
            "overflow_x": null,
            "overflow_y": null,
            "padding": null,
            "right": null,
            "top": null,
            "visibility": null,
            "width": null
          }
        },
        "8733ad68023541dc8217ded40fe7f8d1": {
          "model_module": "@jupyter-widgets/controls",
          "model_name": "DescriptionStyleModel",
          "model_module_version": "1.5.0",
          "state": {
            "_model_module": "@jupyter-widgets/controls",
            "_model_module_version": "1.5.0",
            "_model_name": "DescriptionStyleModel",
            "_view_count": null,
            "_view_module": "@jupyter-widgets/base",
            "_view_module_version": "1.2.0",
            "_view_name": "StyleView",
            "description_width": ""
          }
        },
        "fddd1edea7f345c6ac97f4b8ecceee0a": {
          "model_module": "@jupyter-widgets/controls",
          "model_name": "HBoxModel",
          "model_module_version": "1.5.0",
          "state": {
            "_dom_classes": [],
            "_model_module": "@jupyter-widgets/controls",
            "_model_module_version": "1.5.0",
            "_model_name": "HBoxModel",
            "_view_count": null,
            "_view_module": "@jupyter-widgets/controls",
            "_view_module_version": "1.5.0",
            "_view_name": "HBoxView",
            "box_style": "",
            "children": [
              "IPY_MODEL_9f283b35ee464196bd481705e074df43",
              "IPY_MODEL_0bf26f49f814464cabf2dff8fc2ad609",
              "IPY_MODEL_bce59a305af54e2b854533b06abb337c"
            ],
            "layout": "IPY_MODEL_79acdce496bb4e24a4e6c0e64497bed6"
          }
        },
        "9f283b35ee464196bd481705e074df43": {
          "model_module": "@jupyter-widgets/controls",
          "model_name": "HTMLModel",
          "model_module_version": "1.5.0",
          "state": {
            "_dom_classes": [],
            "_model_module": "@jupyter-widgets/controls",
            "_model_module_version": "1.5.0",
            "_model_name": "HTMLModel",
            "_view_count": null,
            "_view_module": "@jupyter-widgets/controls",
            "_view_module_version": "1.5.0",
            "_view_name": "HTMLView",
            "description": "",
            "description_tooltip": null,
            "layout": "IPY_MODEL_0993d667d49a4e5db0be5b64d9d33022",
            "placeholder": "​",
            "style": "IPY_MODEL_efda1f6176a2488a87001b86ef84a908",
            "value": "100%"
          }
        },
        "0bf26f49f814464cabf2dff8fc2ad609": {
          "model_module": "@jupyter-widgets/controls",
          "model_name": "FloatProgressModel",
          "model_module_version": "1.5.0",
          "state": {
            "_dom_classes": [],
            "_model_module": "@jupyter-widgets/controls",
            "_model_module_version": "1.5.0",
            "_model_name": "FloatProgressModel",
            "_view_count": null,
            "_view_module": "@jupyter-widgets/controls",
            "_view_module_version": "1.5.0",
            "_view_name": "ProgressView",
            "bar_style": "success",
            "description": "",
            "description_tooltip": null,
            "layout": "IPY_MODEL_ee6fc1550e96411496d863f803909a99",
            "max": 233,
            "min": 0,
            "orientation": "horizontal",
            "style": "IPY_MODEL_922cf0a7b2e24c8ebb18fb78d2f12bcc",
            "value": 233
          }
        },
        "bce59a305af54e2b854533b06abb337c": {
          "model_module": "@jupyter-widgets/controls",
          "model_name": "HTMLModel",
          "model_module_version": "1.5.0",
          "state": {
            "_dom_classes": [],
            "_model_module": "@jupyter-widgets/controls",
            "_model_module_version": "1.5.0",
            "_model_name": "HTMLModel",
            "_view_count": null,
            "_view_module": "@jupyter-widgets/controls",
            "_view_module_version": "1.5.0",
            "_view_name": "HTMLView",
            "description": "",
            "description_tooltip": null,
            "layout": "IPY_MODEL_63bc7ff3576d47ff97bac42c7049e789",
            "placeholder": "​",
            "style": "IPY_MODEL_216835507b20437298f92db7dee4b79d",
            "value": " 233/233 [00:00&lt;00:00, 13567.58it/s]"
          }
        },
        "79acdce496bb4e24a4e6c0e64497bed6": {
          "model_module": "@jupyter-widgets/base",
          "model_name": "LayoutModel",
          "model_module_version": "1.2.0",
          "state": {
            "_model_module": "@jupyter-widgets/base",
            "_model_module_version": "1.2.0",
            "_model_name": "LayoutModel",
            "_view_count": null,
            "_view_module": "@jupyter-widgets/base",
            "_view_module_version": "1.2.0",
            "_view_name": "LayoutView",
            "align_content": null,
            "align_items": null,
            "align_self": null,
            "border": null,
            "bottom": null,
            "display": null,
            "flex": null,
            "flex_flow": null,
            "grid_area": null,
            "grid_auto_columns": null,
            "grid_auto_flow": null,
            "grid_auto_rows": null,
            "grid_column": null,
            "grid_gap": null,
            "grid_row": null,
            "grid_template_areas": null,
            "grid_template_columns": null,
            "grid_template_rows": null,
            "height": null,
            "justify_content": null,
            "justify_items": null,
            "left": null,
            "margin": null,
            "max_height": null,
            "max_width": null,
            "min_height": null,
            "min_width": null,
            "object_fit": null,
            "object_position": null,
            "order": null,
            "overflow": null,
            "overflow_x": null,
            "overflow_y": null,
            "padding": null,
            "right": null,
            "top": null,
            "visibility": null,
            "width": null
          }
        },
        "0993d667d49a4e5db0be5b64d9d33022": {
          "model_module": "@jupyter-widgets/base",
          "model_name": "LayoutModel",
          "model_module_version": "1.2.0",
          "state": {
            "_model_module": "@jupyter-widgets/base",
            "_model_module_version": "1.2.0",
            "_model_name": "LayoutModel",
            "_view_count": null,
            "_view_module": "@jupyter-widgets/base",
            "_view_module_version": "1.2.0",
            "_view_name": "LayoutView",
            "align_content": null,
            "align_items": null,
            "align_self": null,
            "border": null,
            "bottom": null,
            "display": null,
            "flex": null,
            "flex_flow": null,
            "grid_area": null,
            "grid_auto_columns": null,
            "grid_auto_flow": null,
            "grid_auto_rows": null,
            "grid_column": null,
            "grid_gap": null,
            "grid_row": null,
            "grid_template_areas": null,
            "grid_template_columns": null,
            "grid_template_rows": null,
            "height": null,
            "justify_content": null,
            "justify_items": null,
            "left": null,
            "margin": null,
            "max_height": null,
            "max_width": null,
            "min_height": null,
            "min_width": null,
            "object_fit": null,
            "object_position": null,
            "order": null,
            "overflow": null,
            "overflow_x": null,
            "overflow_y": null,
            "padding": null,
            "right": null,
            "top": null,
            "visibility": null,
            "width": null
          }
        },
        "efda1f6176a2488a87001b86ef84a908": {
          "model_module": "@jupyter-widgets/controls",
          "model_name": "DescriptionStyleModel",
          "model_module_version": "1.5.0",
          "state": {
            "_model_module": "@jupyter-widgets/controls",
            "_model_module_version": "1.5.0",
            "_model_name": "DescriptionStyleModel",
            "_view_count": null,
            "_view_module": "@jupyter-widgets/base",
            "_view_module_version": "1.2.0",
            "_view_name": "StyleView",
            "description_width": ""
          }
        },
        "ee6fc1550e96411496d863f803909a99": {
          "model_module": "@jupyter-widgets/base",
          "model_name": "LayoutModel",
          "model_module_version": "1.2.0",
          "state": {
            "_model_module": "@jupyter-widgets/base",
            "_model_module_version": "1.2.0",
            "_model_name": "LayoutModel",
            "_view_count": null,
            "_view_module": "@jupyter-widgets/base",
            "_view_module_version": "1.2.0",
            "_view_name": "LayoutView",
            "align_content": null,
            "align_items": null,
            "align_self": null,
            "border": null,
            "bottom": null,
            "display": null,
            "flex": null,
            "flex_flow": null,
            "grid_area": null,
            "grid_auto_columns": null,
            "grid_auto_flow": null,
            "grid_auto_rows": null,
            "grid_column": null,
            "grid_gap": null,
            "grid_row": null,
            "grid_template_areas": null,
            "grid_template_columns": null,
            "grid_template_rows": null,
            "height": null,
            "justify_content": null,
            "justify_items": null,
            "left": null,
            "margin": null,
            "max_height": null,
            "max_width": null,
            "min_height": null,
            "min_width": null,
            "object_fit": null,
            "object_position": null,
            "order": null,
            "overflow": null,
            "overflow_x": null,
            "overflow_y": null,
            "padding": null,
            "right": null,
            "top": null,
            "visibility": null,
            "width": null
          }
        },
        "922cf0a7b2e24c8ebb18fb78d2f12bcc": {
          "model_module": "@jupyter-widgets/controls",
          "model_name": "ProgressStyleModel",
          "model_module_version": "1.5.0",
          "state": {
            "_model_module": "@jupyter-widgets/controls",
            "_model_module_version": "1.5.0",
            "_model_name": "ProgressStyleModel",
            "_view_count": null,
            "_view_module": "@jupyter-widgets/base",
            "_view_module_version": "1.2.0",
            "_view_name": "StyleView",
            "bar_color": null,
            "description_width": ""
          }
        },
        "63bc7ff3576d47ff97bac42c7049e789": {
          "model_module": "@jupyter-widgets/base",
          "model_name": "LayoutModel",
          "model_module_version": "1.2.0",
          "state": {
            "_model_module": "@jupyter-widgets/base",
            "_model_module_version": "1.2.0",
            "_model_name": "LayoutModel",
            "_view_count": null,
            "_view_module": "@jupyter-widgets/base",
            "_view_module_version": "1.2.0",
            "_view_name": "LayoutView",
            "align_content": null,
            "align_items": null,
            "align_self": null,
            "border": null,
            "bottom": null,
            "display": null,
            "flex": null,
            "flex_flow": null,
            "grid_area": null,
            "grid_auto_columns": null,
            "grid_auto_flow": null,
            "grid_auto_rows": null,
            "grid_column": null,
            "grid_gap": null,
            "grid_row": null,
            "grid_template_areas": null,
            "grid_template_columns": null,
            "grid_template_rows": null,
            "height": null,
            "justify_content": null,
            "justify_items": null,
            "left": null,
            "margin": null,
            "max_height": null,
            "max_width": null,
            "min_height": null,
            "min_width": null,
            "object_fit": null,
            "object_position": null,
            "order": null,
            "overflow": null,
            "overflow_x": null,
            "overflow_y": null,
            "padding": null,
            "right": null,
            "top": null,
            "visibility": null,
            "width": null
          }
        },
        "216835507b20437298f92db7dee4b79d": {
          "model_module": "@jupyter-widgets/controls",
          "model_name": "DescriptionStyleModel",
          "model_module_version": "1.5.0",
          "state": {
            "_model_module": "@jupyter-widgets/controls",
            "_model_module_version": "1.5.0",
            "_model_name": "DescriptionStyleModel",
            "_view_count": null,
            "_view_module": "@jupyter-widgets/base",
            "_view_module_version": "1.2.0",
            "_view_name": "StyleView",
            "description_width": ""
          }
        },
        "91f83120579a439ab8620cf52afefcc5": {
          "model_module": "@jupyter-widgets/controls",
          "model_name": "HBoxModel",
          "model_module_version": "1.5.0",
          "state": {
            "_dom_classes": [],
            "_model_module": "@jupyter-widgets/controls",
            "_model_module_version": "1.5.0",
            "_model_name": "HBoxModel",
            "_view_count": null,
            "_view_module": "@jupyter-widgets/controls",
            "_view_module_version": "1.5.0",
            "_view_name": "HBoxView",
            "box_style": "",
            "children": [
              "IPY_MODEL_94e4c288f0664c24b3524b4cbb6e89cb",
              "IPY_MODEL_92608b88624a429e9882c64c247a9c6e",
              "IPY_MODEL_177504f16a4f4e0bb68c4c9f44642e85"
            ],
            "layout": "IPY_MODEL_d364b3278b644d8291127f93b8aa5634"
          }
        },
        "94e4c288f0664c24b3524b4cbb6e89cb": {
          "model_module": "@jupyter-widgets/controls",
          "model_name": "HTMLModel",
          "model_module_version": "1.5.0",
          "state": {
            "_dom_classes": [],
            "_model_module": "@jupyter-widgets/controls",
            "_model_module_version": "1.5.0",
            "_model_name": "HTMLModel",
            "_view_count": null,
            "_view_module": "@jupyter-widgets/controls",
            "_view_module_version": "1.5.0",
            "_view_name": "HTMLView",
            "description": "",
            "description_tooltip": null,
            "layout": "IPY_MODEL_2c1d0c15ef3543f39383a3dd7ffcb0f4",
            "placeholder": "​",
            "style": "IPY_MODEL_b61f9120bba847c58d7068447a6f6e06",
            "value": "100%"
          }
        },
        "92608b88624a429e9882c64c247a9c6e": {
          "model_module": "@jupyter-widgets/controls",
          "model_name": "FloatProgressModel",
          "model_module_version": "1.5.0",
          "state": {
            "_dom_classes": [],
            "_model_module": "@jupyter-widgets/controls",
            "_model_module_version": "1.5.0",
            "_model_name": "FloatProgressModel",
            "_view_count": null,
            "_view_module": "@jupyter-widgets/controls",
            "_view_module_version": "1.5.0",
            "_view_name": "ProgressView",
            "bar_style": "success",
            "description": "",
            "description_tooltip": null,
            "layout": "IPY_MODEL_9be562c68ea842da8090841778980b39",
            "max": 233,
            "min": 0,
            "orientation": "horizontal",
            "style": "IPY_MODEL_1411b4dc65ef45ff8047b0f3c202b105",
            "value": 233
          }
        },
        "177504f16a4f4e0bb68c4c9f44642e85": {
          "model_module": "@jupyter-widgets/controls",
          "model_name": "HTMLModel",
          "model_module_version": "1.5.0",
          "state": {
            "_dom_classes": [],
            "_model_module": "@jupyter-widgets/controls",
            "_model_module_version": "1.5.0",
            "_model_name": "HTMLModel",
            "_view_count": null,
            "_view_module": "@jupyter-widgets/controls",
            "_view_module_version": "1.5.0",
            "_view_name": "HTMLView",
            "description": "",
            "description_tooltip": null,
            "layout": "IPY_MODEL_8fc6d5ce3caa4de9a95d484b0fe60610",
            "placeholder": "​",
            "style": "IPY_MODEL_e10369d8811040f38e4a67a025237a59",
            "value": " 233/233 [00:00&lt;00:00, 11614.43it/s]"
          }
        },
        "d364b3278b644d8291127f93b8aa5634": {
          "model_module": "@jupyter-widgets/base",
          "model_name": "LayoutModel",
          "model_module_version": "1.2.0",
          "state": {
            "_model_module": "@jupyter-widgets/base",
            "_model_module_version": "1.2.0",
            "_model_name": "LayoutModel",
            "_view_count": null,
            "_view_module": "@jupyter-widgets/base",
            "_view_module_version": "1.2.0",
            "_view_name": "LayoutView",
            "align_content": null,
            "align_items": null,
            "align_self": null,
            "border": null,
            "bottom": null,
            "display": null,
            "flex": null,
            "flex_flow": null,
            "grid_area": null,
            "grid_auto_columns": null,
            "grid_auto_flow": null,
            "grid_auto_rows": null,
            "grid_column": null,
            "grid_gap": null,
            "grid_row": null,
            "grid_template_areas": null,
            "grid_template_columns": null,
            "grid_template_rows": null,
            "height": null,
            "justify_content": null,
            "justify_items": null,
            "left": null,
            "margin": null,
            "max_height": null,
            "max_width": null,
            "min_height": null,
            "min_width": null,
            "object_fit": null,
            "object_position": null,
            "order": null,
            "overflow": null,
            "overflow_x": null,
            "overflow_y": null,
            "padding": null,
            "right": null,
            "top": null,
            "visibility": null,
            "width": null
          }
        },
        "2c1d0c15ef3543f39383a3dd7ffcb0f4": {
          "model_module": "@jupyter-widgets/base",
          "model_name": "LayoutModel",
          "model_module_version": "1.2.0",
          "state": {
            "_model_module": "@jupyter-widgets/base",
            "_model_module_version": "1.2.0",
            "_model_name": "LayoutModel",
            "_view_count": null,
            "_view_module": "@jupyter-widgets/base",
            "_view_module_version": "1.2.0",
            "_view_name": "LayoutView",
            "align_content": null,
            "align_items": null,
            "align_self": null,
            "border": null,
            "bottom": null,
            "display": null,
            "flex": null,
            "flex_flow": null,
            "grid_area": null,
            "grid_auto_columns": null,
            "grid_auto_flow": null,
            "grid_auto_rows": null,
            "grid_column": null,
            "grid_gap": null,
            "grid_row": null,
            "grid_template_areas": null,
            "grid_template_columns": null,
            "grid_template_rows": null,
            "height": null,
            "justify_content": null,
            "justify_items": null,
            "left": null,
            "margin": null,
            "max_height": null,
            "max_width": null,
            "min_height": null,
            "min_width": null,
            "object_fit": null,
            "object_position": null,
            "order": null,
            "overflow": null,
            "overflow_x": null,
            "overflow_y": null,
            "padding": null,
            "right": null,
            "top": null,
            "visibility": null,
            "width": null
          }
        },
        "b61f9120bba847c58d7068447a6f6e06": {
          "model_module": "@jupyter-widgets/controls",
          "model_name": "DescriptionStyleModel",
          "model_module_version": "1.5.0",
          "state": {
            "_model_module": "@jupyter-widgets/controls",
            "_model_module_version": "1.5.0",
            "_model_name": "DescriptionStyleModel",
            "_view_count": null,
            "_view_module": "@jupyter-widgets/base",
            "_view_module_version": "1.2.0",
            "_view_name": "StyleView",
            "description_width": ""
          }
        },
        "9be562c68ea842da8090841778980b39": {
          "model_module": "@jupyter-widgets/base",
          "model_name": "LayoutModel",
          "model_module_version": "1.2.0",
          "state": {
            "_model_module": "@jupyter-widgets/base",
            "_model_module_version": "1.2.0",
            "_model_name": "LayoutModel",
            "_view_count": null,
            "_view_module": "@jupyter-widgets/base",
            "_view_module_version": "1.2.0",
            "_view_name": "LayoutView",
            "align_content": null,
            "align_items": null,
            "align_self": null,
            "border": null,
            "bottom": null,
            "display": null,
            "flex": null,
            "flex_flow": null,
            "grid_area": null,
            "grid_auto_columns": null,
            "grid_auto_flow": null,
            "grid_auto_rows": null,
            "grid_column": null,
            "grid_gap": null,
            "grid_row": null,
            "grid_template_areas": null,
            "grid_template_columns": null,
            "grid_template_rows": null,
            "height": null,
            "justify_content": null,
            "justify_items": null,
            "left": null,
            "margin": null,
            "max_height": null,
            "max_width": null,
            "min_height": null,
            "min_width": null,
            "object_fit": null,
            "object_position": null,
            "order": null,
            "overflow": null,
            "overflow_x": null,
            "overflow_y": null,
            "padding": null,
            "right": null,
            "top": null,
            "visibility": null,
            "width": null
          }
        },
        "1411b4dc65ef45ff8047b0f3c202b105": {
          "model_module": "@jupyter-widgets/controls",
          "model_name": "ProgressStyleModel",
          "model_module_version": "1.5.0",
          "state": {
            "_model_module": "@jupyter-widgets/controls",
            "_model_module_version": "1.5.0",
            "_model_name": "ProgressStyleModel",
            "_view_count": null,
            "_view_module": "@jupyter-widgets/base",
            "_view_module_version": "1.2.0",
            "_view_name": "StyleView",
            "bar_color": null,
            "description_width": ""
          }
        },
        "8fc6d5ce3caa4de9a95d484b0fe60610": {
          "model_module": "@jupyter-widgets/base",
          "model_name": "LayoutModel",
          "model_module_version": "1.2.0",
          "state": {
            "_model_module": "@jupyter-widgets/base",
            "_model_module_version": "1.2.0",
            "_model_name": "LayoutModel",
            "_view_count": null,
            "_view_module": "@jupyter-widgets/base",
            "_view_module_version": "1.2.0",
            "_view_name": "LayoutView",
            "align_content": null,
            "align_items": null,
            "align_self": null,
            "border": null,
            "bottom": null,
            "display": null,
            "flex": null,
            "flex_flow": null,
            "grid_area": null,
            "grid_auto_columns": null,
            "grid_auto_flow": null,
            "grid_auto_rows": null,
            "grid_column": null,
            "grid_gap": null,
            "grid_row": null,
            "grid_template_areas": null,
            "grid_template_columns": null,
            "grid_template_rows": null,
            "height": null,
            "justify_content": null,
            "justify_items": null,
            "left": null,
            "margin": null,
            "max_height": null,
            "max_width": null,
            "min_height": null,
            "min_width": null,
            "object_fit": null,
            "object_position": null,
            "order": null,
            "overflow": null,
            "overflow_x": null,
            "overflow_y": null,
            "padding": null,
            "right": null,
            "top": null,
            "visibility": null,
            "width": null
          }
        },
        "e10369d8811040f38e4a67a025237a59": {
          "model_module": "@jupyter-widgets/controls",
          "model_name": "DescriptionStyleModel",
          "model_module_version": "1.5.0",
          "state": {
            "_model_module": "@jupyter-widgets/controls",
            "_model_module_version": "1.5.0",
            "_model_name": "DescriptionStyleModel",
            "_view_count": null,
            "_view_module": "@jupyter-widgets/base",
            "_view_module_version": "1.2.0",
            "_view_name": "StyleView",
            "description_width": ""
          }
        }
      }
    }
  },
  "nbformat": 4,
  "nbformat_minor": 0
}