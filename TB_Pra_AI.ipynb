{
  "nbformat": 4,
  "nbformat_minor": 0,
  "metadata": {
    "colab": {
      "provenance": [],
      "gpuType": "T4",
      "authorship_tag": "ABX9TyNuuPUrW3KFGm7q/fR/pWJh",
      "include_colab_link": true
    },
    "kernelspec": {
      "name": "python3",
      "display_name": "Python 3"
    },
    "language_info": {
      "name": "python"
    },
    "accelerator": "GPU",
    "widgets": {
      "application/vnd.jupyter.widget-state+json": {
        "c93120cb9af54750bb7e57e82915c4a8": {
          "model_module": "@jupyter-widgets/controls",
          "model_name": "HBoxModel",
          "model_module_version": "1.5.0",
          "state": {
            "_dom_classes": [],
            "_model_module": "@jupyter-widgets/controls",
            "_model_module_version": "1.5.0",
            "_model_name": "HBoxModel",
            "_view_count": null,
            "_view_module": "@jupyter-widgets/controls",
            "_view_module_version": "1.5.0",
            "_view_name": "HBoxView",
            "box_style": "",
            "children": [
              "IPY_MODEL_c73607256d0f44d280ec9fe581de71b0",
              "IPY_MODEL_ff6dabb447d04e5799da139a45640e65",
              "IPY_MODEL_0c8b42ce3c794a55bf174e2d8b90899c"
            ],
            "layout": "IPY_MODEL_6cf9e6695e2d4bdb9892c74bef730f90"
          }
        },
        "c73607256d0f44d280ec9fe581de71b0": {
          "model_module": "@jupyter-widgets/controls",
          "model_name": "HTMLModel",
          "model_module_version": "1.5.0",
          "state": {
            "_dom_classes": [],
            "_model_module": "@jupyter-widgets/controls",
            "_model_module_version": "1.5.0",
            "_model_name": "HTMLModel",
            "_view_count": null,
            "_view_module": "@jupyter-widgets/controls",
            "_view_module_version": "1.5.0",
            "_view_name": "HTMLView",
            "description": "",
            "description_tooltip": null,
            "layout": "IPY_MODEL_4df0cf20793e421cb158ed56713f21b1",
            "placeholder": "​",
            "style": "IPY_MODEL_0deebca0a37a4dd5b2c29fa788dac3aa",
            "value": "100%"
          }
        },
        "ff6dabb447d04e5799da139a45640e65": {
          "model_module": "@jupyter-widgets/controls",
          "model_name": "FloatProgressModel",
          "model_module_version": "1.5.0",
          "state": {
            "_dom_classes": [],
            "_model_module": "@jupyter-widgets/controls",
            "_model_module_version": "1.5.0",
            "_model_name": "FloatProgressModel",
            "_view_count": null,
            "_view_module": "@jupyter-widgets/controls",
            "_view_module_version": "1.5.0",
            "_view_name": "ProgressView",
            "bar_style": "success",
            "description": "",
            "description_tooltip": null,
            "layout": "IPY_MODEL_f35d94074622487d9e870a3454e33ad9",
            "max": 2211,
            "min": 0,
            "orientation": "horizontal",
            "style": "IPY_MODEL_6d0d101816e24edabc5bcddcaf72a960",
            "value": 2211
          }
        },
        "0c8b42ce3c794a55bf174e2d8b90899c": {
          "model_module": "@jupyter-widgets/controls",
          "model_name": "HTMLModel",
          "model_module_version": "1.5.0",
          "state": {
            "_dom_classes": [],
            "_model_module": "@jupyter-widgets/controls",
            "_model_module_version": "1.5.0",
            "_model_name": "HTMLModel",
            "_view_count": null,
            "_view_module": "@jupyter-widgets/controls",
            "_view_module_version": "1.5.0",
            "_view_name": "HTMLView",
            "description": "",
            "description_tooltip": null,
            "layout": "IPY_MODEL_a337dd888a9b4cb3bd4ccbb061b9a7c1",
            "placeholder": "​",
            "style": "IPY_MODEL_3e99b4ce0404490ab38499a896b1eed5",
            "value": " 2211/2211 [00:00&lt;00:00, 61294.46it/s]"
          }
        },
        "6cf9e6695e2d4bdb9892c74bef730f90": {
          "model_module": "@jupyter-widgets/base",
          "model_name": "LayoutModel",
          "model_module_version": "1.2.0",
          "state": {
            "_model_module": "@jupyter-widgets/base",
            "_model_module_version": "1.2.0",
            "_model_name": "LayoutModel",
            "_view_count": null,
            "_view_module": "@jupyter-widgets/base",
            "_view_module_version": "1.2.0",
            "_view_name": "LayoutView",
            "align_content": null,
            "align_items": null,
            "align_self": null,
            "border": null,
            "bottom": null,
            "display": null,
            "flex": null,
            "flex_flow": null,
            "grid_area": null,
            "grid_auto_columns": null,
            "grid_auto_flow": null,
            "grid_auto_rows": null,
            "grid_column": null,
            "grid_gap": null,
            "grid_row": null,
            "grid_template_areas": null,
            "grid_template_columns": null,
            "grid_template_rows": null,
            "height": null,
            "justify_content": null,
            "justify_items": null,
            "left": null,
            "margin": null,
            "max_height": null,
            "max_width": null,
            "min_height": null,
            "min_width": null,
            "object_fit": null,
            "object_position": null,
            "order": null,
            "overflow": null,
            "overflow_x": null,
            "overflow_y": null,
            "padding": null,
            "right": null,
            "top": null,
            "visibility": null,
            "width": null
          }
        },
        "4df0cf20793e421cb158ed56713f21b1": {
          "model_module": "@jupyter-widgets/base",
          "model_name": "LayoutModel",
          "model_module_version": "1.2.0",
          "state": {
            "_model_module": "@jupyter-widgets/base",
            "_model_module_version": "1.2.0",
            "_model_name": "LayoutModel",
            "_view_count": null,
            "_view_module": "@jupyter-widgets/base",
            "_view_module_version": "1.2.0",
            "_view_name": "LayoutView",
            "align_content": null,
            "align_items": null,
            "align_self": null,
            "border": null,
            "bottom": null,
            "display": null,
            "flex": null,
            "flex_flow": null,
            "grid_area": null,
            "grid_auto_columns": null,
            "grid_auto_flow": null,
            "grid_auto_rows": null,
            "grid_column": null,
            "grid_gap": null,
            "grid_row": null,
            "grid_template_areas": null,
            "grid_template_columns": null,
            "grid_template_rows": null,
            "height": null,
            "justify_content": null,
            "justify_items": null,
            "left": null,
            "margin": null,
            "max_height": null,
            "max_width": null,
            "min_height": null,
            "min_width": null,
            "object_fit": null,
            "object_position": null,
            "order": null,
            "overflow": null,
            "overflow_x": null,
            "overflow_y": null,
            "padding": null,
            "right": null,
            "top": null,
            "visibility": null,
            "width": null
          }
        },
        "0deebca0a37a4dd5b2c29fa788dac3aa": {
          "model_module": "@jupyter-widgets/controls",
          "model_name": "DescriptionStyleModel",
          "model_module_version": "1.5.0",
          "state": {
            "_model_module": "@jupyter-widgets/controls",
            "_model_module_version": "1.5.0",
            "_model_name": "DescriptionStyleModel",
            "_view_count": null,
            "_view_module": "@jupyter-widgets/base",
            "_view_module_version": "1.2.0",
            "_view_name": "StyleView",
            "description_width": ""
          }
        },
        "f35d94074622487d9e870a3454e33ad9": {
          "model_module": "@jupyter-widgets/base",
          "model_name": "LayoutModel",
          "model_module_version": "1.2.0",
          "state": {
            "_model_module": "@jupyter-widgets/base",
            "_model_module_version": "1.2.0",
            "_model_name": "LayoutModel",
            "_view_count": null,
            "_view_module": "@jupyter-widgets/base",
            "_view_module_version": "1.2.0",
            "_view_name": "LayoutView",
            "align_content": null,
            "align_items": null,
            "align_self": null,
            "border": null,
            "bottom": null,
            "display": null,
            "flex": null,
            "flex_flow": null,
            "grid_area": null,
            "grid_auto_columns": null,
            "grid_auto_flow": null,
            "grid_auto_rows": null,
            "grid_column": null,
            "grid_gap": null,
            "grid_row": null,
            "grid_template_areas": null,
            "grid_template_columns": null,
            "grid_template_rows": null,
            "height": null,
            "justify_content": null,
            "justify_items": null,
            "left": null,
            "margin": null,
            "max_height": null,
            "max_width": null,
            "min_height": null,
            "min_width": null,
            "object_fit": null,
            "object_position": null,
            "order": null,
            "overflow": null,
            "overflow_x": null,
            "overflow_y": null,
            "padding": null,
            "right": null,
            "top": null,
            "visibility": null,
            "width": null
          }
        },
        "6d0d101816e24edabc5bcddcaf72a960": {
          "model_module": "@jupyter-widgets/controls",
          "model_name": "ProgressStyleModel",
          "model_module_version": "1.5.0",
          "state": {
            "_model_module": "@jupyter-widgets/controls",
            "_model_module_version": "1.5.0",
            "_model_name": "ProgressStyleModel",
            "_view_count": null,
            "_view_module": "@jupyter-widgets/base",
            "_view_module_version": "1.2.0",
            "_view_name": "StyleView",
            "bar_color": null,
            "description_width": ""
          }
        },
        "a337dd888a9b4cb3bd4ccbb061b9a7c1": {
          "model_module": "@jupyter-widgets/base",
          "model_name": "LayoutModel",
          "model_module_version": "1.2.0",
          "state": {
            "_model_module": "@jupyter-widgets/base",
            "_model_module_version": "1.2.0",
            "_model_name": "LayoutModel",
            "_view_count": null,
            "_view_module": "@jupyter-widgets/base",
            "_view_module_version": "1.2.0",
            "_view_name": "LayoutView",
            "align_content": null,
            "align_items": null,
            "align_self": null,
            "border": null,
            "bottom": null,
            "display": null,
            "flex": null,
            "flex_flow": null,
            "grid_area": null,
            "grid_auto_columns": null,
            "grid_auto_flow": null,
            "grid_auto_rows": null,
            "grid_column": null,
            "grid_gap": null,
            "grid_row": null,
            "grid_template_areas": null,
            "grid_template_columns": null,
            "grid_template_rows": null,
            "height": null,
            "justify_content": null,
            "justify_items": null,
            "left": null,
            "margin": null,
            "max_height": null,
            "max_width": null,
            "min_height": null,
            "min_width": null,
            "object_fit": null,
            "object_position": null,
            "order": null,
            "overflow": null,
            "overflow_x": null,
            "overflow_y": null,
            "padding": null,
            "right": null,
            "top": null,
            "visibility": null,
            "width": null
          }
        },
        "3e99b4ce0404490ab38499a896b1eed5": {
          "model_module": "@jupyter-widgets/controls",
          "model_name": "DescriptionStyleModel",
          "model_module_version": "1.5.0",
          "state": {
            "_model_module": "@jupyter-widgets/controls",
            "_model_module_version": "1.5.0",
            "_model_name": "DescriptionStyleModel",
            "_view_count": null,
            "_view_module": "@jupyter-widgets/base",
            "_view_module_version": "1.2.0",
            "_view_name": "StyleView",
            "description_width": ""
          }
        },
        "c83f538f00f247ce87f40ebae89e64aa": {
          "model_module": "@jupyter-widgets/controls",
          "model_name": "HBoxModel",
          "model_module_version": "1.5.0",
          "state": {
            "_dom_classes": [],
            "_model_module": "@jupyter-widgets/controls",
            "_model_module_version": "1.5.0",
            "_model_name": "HBoxModel",
            "_view_count": null,
            "_view_module": "@jupyter-widgets/controls",
            "_view_module_version": "1.5.0",
            "_view_name": "HBoxView",
            "box_style": "",
            "children": [
              "IPY_MODEL_b00e299bf42a424792aeae970ef42b3b",
              "IPY_MODEL_c372d5782a67437d898ca66590cc8ca2",
              "IPY_MODEL_e301323439174329ac53232f7b6844d3"
            ],
            "layout": "IPY_MODEL_3bafc52089654e82ae8a33ed028d3ea2"
          }
        },
        "b00e299bf42a424792aeae970ef42b3b": {
          "model_module": "@jupyter-widgets/controls",
          "model_name": "HTMLModel",
          "model_module_version": "1.5.0",
          "state": {
            "_dom_classes": [],
            "_model_module": "@jupyter-widgets/controls",
            "_model_module_version": "1.5.0",
            "_model_name": "HTMLModel",
            "_view_count": null,
            "_view_module": "@jupyter-widgets/controls",
            "_view_module_version": "1.5.0",
            "_view_name": "HTMLView",
            "description": "",
            "description_tooltip": null,
            "layout": "IPY_MODEL_84e13a954f7a44a781ac5e46ae360f6f",
            "placeholder": "​",
            "style": "IPY_MODEL_5ecd88ceb7ae41b6b093ba3430216f81",
            "value": "100%"
          }
        },
        "c372d5782a67437d898ca66590cc8ca2": {
          "model_module": "@jupyter-widgets/controls",
          "model_name": "FloatProgressModel",
          "model_module_version": "1.5.0",
          "state": {
            "_dom_classes": [],
            "_model_module": "@jupyter-widgets/controls",
            "_model_module_version": "1.5.0",
            "_model_name": "FloatProgressModel",
            "_view_count": null,
            "_view_module": "@jupyter-widgets/controls",
            "_view_module_version": "1.5.0",
            "_view_name": "ProgressView",
            "bar_style": "success",
            "description": "",
            "description_tooltip": null,
            "layout": "IPY_MODEL_e0bfc7c718904a518eec0a3945fe35c6",
            "max": 1081,
            "min": 0,
            "orientation": "horizontal",
            "style": "IPY_MODEL_34c7cb2487794150aa6c8ded41f83e4c",
            "value": 1081
          }
        },
        "e301323439174329ac53232f7b6844d3": {
          "model_module": "@jupyter-widgets/controls",
          "model_name": "HTMLModel",
          "model_module_version": "1.5.0",
          "state": {
            "_dom_classes": [],
            "_model_module": "@jupyter-widgets/controls",
            "_model_module_version": "1.5.0",
            "_model_name": "HTMLModel",
            "_view_count": null,
            "_view_module": "@jupyter-widgets/controls",
            "_view_module_version": "1.5.0",
            "_view_name": "HTMLView",
            "description": "",
            "description_tooltip": null,
            "layout": "IPY_MODEL_b9040e45d50d4b30b6425c133e74144f",
            "placeholder": "​",
            "style": "IPY_MODEL_ac483a299e964a35be8f38d760ccd469",
            "value": " 1081/1081 [00:00&lt;00:00, 35308.01it/s]"
          }
        },
        "3bafc52089654e82ae8a33ed028d3ea2": {
          "model_module": "@jupyter-widgets/base",
          "model_name": "LayoutModel",
          "model_module_version": "1.2.0",
          "state": {
            "_model_module": "@jupyter-widgets/base",
            "_model_module_version": "1.2.0",
            "_model_name": "LayoutModel",
            "_view_count": null,
            "_view_module": "@jupyter-widgets/base",
            "_view_module_version": "1.2.0",
            "_view_name": "LayoutView",
            "align_content": null,
            "align_items": null,
            "align_self": null,
            "border": null,
            "bottom": null,
            "display": null,
            "flex": null,
            "flex_flow": null,
            "grid_area": null,
            "grid_auto_columns": null,
            "grid_auto_flow": null,
            "grid_auto_rows": null,
            "grid_column": null,
            "grid_gap": null,
            "grid_row": null,
            "grid_template_areas": null,
            "grid_template_columns": null,
            "grid_template_rows": null,
            "height": null,
            "justify_content": null,
            "justify_items": null,
            "left": null,
            "margin": null,
            "max_height": null,
            "max_width": null,
            "min_height": null,
            "min_width": null,
            "object_fit": null,
            "object_position": null,
            "order": null,
            "overflow": null,
            "overflow_x": null,
            "overflow_y": null,
            "padding": null,
            "right": null,
            "top": null,
            "visibility": null,
            "width": null
          }
        },
        "84e13a954f7a44a781ac5e46ae360f6f": {
          "model_module": "@jupyter-widgets/base",
          "model_name": "LayoutModel",
          "model_module_version": "1.2.0",
          "state": {
            "_model_module": "@jupyter-widgets/base",
            "_model_module_version": "1.2.0",
            "_model_name": "LayoutModel",
            "_view_count": null,
            "_view_module": "@jupyter-widgets/base",
            "_view_module_version": "1.2.0",
            "_view_name": "LayoutView",
            "align_content": null,
            "align_items": null,
            "align_self": null,
            "border": null,
            "bottom": null,
            "display": null,
            "flex": null,
            "flex_flow": null,
            "grid_area": null,
            "grid_auto_columns": null,
            "grid_auto_flow": null,
            "grid_auto_rows": null,
            "grid_column": null,
            "grid_gap": null,
            "grid_row": null,
            "grid_template_areas": null,
            "grid_template_columns": null,
            "grid_template_rows": null,
            "height": null,
            "justify_content": null,
            "justify_items": null,
            "left": null,
            "margin": null,
            "max_height": null,
            "max_width": null,
            "min_height": null,
            "min_width": null,
            "object_fit": null,
            "object_position": null,
            "order": null,
            "overflow": null,
            "overflow_x": null,
            "overflow_y": null,
            "padding": null,
            "right": null,
            "top": null,
            "visibility": null,
            "width": null
          }
        },
        "5ecd88ceb7ae41b6b093ba3430216f81": {
          "model_module": "@jupyter-widgets/controls",
          "model_name": "DescriptionStyleModel",
          "model_module_version": "1.5.0",
          "state": {
            "_model_module": "@jupyter-widgets/controls",
            "_model_module_version": "1.5.0",
            "_model_name": "DescriptionStyleModel",
            "_view_count": null,
            "_view_module": "@jupyter-widgets/base",
            "_view_module_version": "1.2.0",
            "_view_name": "StyleView",
            "description_width": ""
          }
        },
        "e0bfc7c718904a518eec0a3945fe35c6": {
          "model_module": "@jupyter-widgets/base",
          "model_name": "LayoutModel",
          "model_module_version": "1.2.0",
          "state": {
            "_model_module": "@jupyter-widgets/base",
            "_model_module_version": "1.2.0",
            "_model_name": "LayoutModel",
            "_view_count": null,
            "_view_module": "@jupyter-widgets/base",
            "_view_module_version": "1.2.0",
            "_view_name": "LayoutView",
            "align_content": null,
            "align_items": null,
            "align_self": null,
            "border": null,
            "bottom": null,
            "display": null,
            "flex": null,
            "flex_flow": null,
            "grid_area": null,
            "grid_auto_columns": null,
            "grid_auto_flow": null,
            "grid_auto_rows": null,
            "grid_column": null,
            "grid_gap": null,
            "grid_row": null,
            "grid_template_areas": null,
            "grid_template_columns": null,
            "grid_template_rows": null,
            "height": null,
            "justify_content": null,
            "justify_items": null,
            "left": null,
            "margin": null,
            "max_height": null,
            "max_width": null,
            "min_height": null,
            "min_width": null,
            "object_fit": null,
            "object_position": null,
            "order": null,
            "overflow": null,
            "overflow_x": null,
            "overflow_y": null,
            "padding": null,
            "right": null,
            "top": null,
            "visibility": null,
            "width": null
          }
        },
        "34c7cb2487794150aa6c8ded41f83e4c": {
          "model_module": "@jupyter-widgets/controls",
          "model_name": "ProgressStyleModel",
          "model_module_version": "1.5.0",
          "state": {
            "_model_module": "@jupyter-widgets/controls",
            "_model_module_version": "1.5.0",
            "_model_name": "ProgressStyleModel",
            "_view_count": null,
            "_view_module": "@jupyter-widgets/base",
            "_view_module_version": "1.2.0",
            "_view_name": "StyleView",
            "bar_color": null,
            "description_width": ""
          }
        },
        "b9040e45d50d4b30b6425c133e74144f": {
          "model_module": "@jupyter-widgets/base",
          "model_name": "LayoutModel",
          "model_module_version": "1.2.0",
          "state": {
            "_model_module": "@jupyter-widgets/base",
            "_model_module_version": "1.2.0",
            "_model_name": "LayoutModel",
            "_view_count": null,
            "_view_module": "@jupyter-widgets/base",
            "_view_module_version": "1.2.0",
            "_view_name": "LayoutView",
            "align_content": null,
            "align_items": null,
            "align_self": null,
            "border": null,
            "bottom": null,
            "display": null,
            "flex": null,
            "flex_flow": null,
            "grid_area": null,
            "grid_auto_columns": null,
            "grid_auto_flow": null,
            "grid_auto_rows": null,
            "grid_column": null,
            "grid_gap": null,
            "grid_row": null,
            "grid_template_areas": null,
            "grid_template_columns": null,
            "grid_template_rows": null,
            "height": null,
            "justify_content": null,
            "justify_items": null,
            "left": null,
            "margin": null,
            "max_height": null,
            "max_width": null,
            "min_height": null,
            "min_width": null,
            "object_fit": null,
            "object_position": null,
            "order": null,
            "overflow": null,
            "overflow_x": null,
            "overflow_y": null,
            "padding": null,
            "right": null,
            "top": null,
            "visibility": null,
            "width": null
          }
        },
        "ac483a299e964a35be8f38d760ccd469": {
          "model_module": "@jupyter-widgets/controls",
          "model_name": "DescriptionStyleModel",
          "model_module_version": "1.5.0",
          "state": {
            "_model_module": "@jupyter-widgets/controls",
            "_model_module_version": "1.5.0",
            "_model_name": "DescriptionStyleModel",
            "_view_count": null,
            "_view_module": "@jupyter-widgets/base",
            "_view_module_version": "1.2.0",
            "_view_name": "StyleView",
            "description_width": ""
          }
        },
        "fb83d5dca1494e34a45f15199426d7ce": {
          "model_module": "@jupyter-widgets/controls",
          "model_name": "HBoxModel",
          "model_module_version": "1.5.0",
          "state": {
            "_dom_classes": [],
            "_model_module": "@jupyter-widgets/controls",
            "_model_module_version": "1.5.0",
            "_model_name": "HBoxModel",
            "_view_count": null,
            "_view_module": "@jupyter-widgets/controls",
            "_view_module_version": "1.5.0",
            "_view_name": "HBoxView",
            "box_style": "",
            "children": [
              "IPY_MODEL_99eba5d720744c15a042ac5ed1787b7f",
              "IPY_MODEL_4814eccaaaa64761be24fd7e9166fac6",
              "IPY_MODEL_54a5b79896d241bc932f329977ccbee0"
            ],
            "layout": "IPY_MODEL_788a27f3350b4e03af06c9b1468e9247"
          }
        },
        "99eba5d720744c15a042ac5ed1787b7f": {
          "model_module": "@jupyter-widgets/controls",
          "model_name": "HTMLModel",
          "model_module_version": "1.5.0",
          "state": {
            "_dom_classes": [],
            "_model_module": "@jupyter-widgets/controls",
            "_model_module_version": "1.5.0",
            "_model_name": "HTMLModel",
            "_view_count": null,
            "_view_module": "@jupyter-widgets/controls",
            "_view_module_version": "1.5.0",
            "_view_name": "HTMLView",
            "description": "",
            "description_tooltip": null,
            "layout": "IPY_MODEL_7b8f05c663924b6b9b04053264bf2a34",
            "placeholder": "​",
            "style": "IPY_MODEL_b6399920153246499398cee72fef980d",
            "value": "100%"
          }
        },
        "4814eccaaaa64761be24fd7e9166fac6": {
          "model_module": "@jupyter-widgets/controls",
          "model_name": "FloatProgressModel",
          "model_module_version": "1.5.0",
          "state": {
            "_dom_classes": [],
            "_model_module": "@jupyter-widgets/controls",
            "_model_module_version": "1.5.0",
            "_model_name": "FloatProgressModel",
            "_view_count": null,
            "_view_module": "@jupyter-widgets/controls",
            "_view_module_version": "1.5.0",
            "_view_name": "ProgressView",
            "bar_style": "success",
            "description": "",
            "description_tooltip": null,
            "layout": "IPY_MODEL_08df2011e97b47b4ac56c07e6f9a5d64",
            "max": 1080,
            "min": 0,
            "orientation": "horizontal",
            "style": "IPY_MODEL_0c80e19c6b4249d8b313242bfdb7c5c8",
            "value": 1080
          }
        },
        "54a5b79896d241bc932f329977ccbee0": {
          "model_module": "@jupyter-widgets/controls",
          "model_name": "HTMLModel",
          "model_module_version": "1.5.0",
          "state": {
            "_dom_classes": [],
            "_model_module": "@jupyter-widgets/controls",
            "_model_module_version": "1.5.0",
            "_model_name": "HTMLModel",
            "_view_count": null,
            "_view_module": "@jupyter-widgets/controls",
            "_view_module_version": "1.5.0",
            "_view_name": "HTMLView",
            "description": "",
            "description_tooltip": null,
            "layout": "IPY_MODEL_9285c618daf9487894ec5f1501031378",
            "placeholder": "​",
            "style": "IPY_MODEL_427937a3b4a64551b6ee697ca8bad88b",
            "value": " 1080/1080 [00:00&lt;00:00, 43998.76it/s]"
          }
        },
        "788a27f3350b4e03af06c9b1468e9247": {
          "model_module": "@jupyter-widgets/base",
          "model_name": "LayoutModel",
          "model_module_version": "1.2.0",
          "state": {
            "_model_module": "@jupyter-widgets/base",
            "_model_module_version": "1.2.0",
            "_model_name": "LayoutModel",
            "_view_count": null,
            "_view_module": "@jupyter-widgets/base",
            "_view_module_version": "1.2.0",
            "_view_name": "LayoutView",
            "align_content": null,
            "align_items": null,
            "align_self": null,
            "border": null,
            "bottom": null,
            "display": null,
            "flex": null,
            "flex_flow": null,
            "grid_area": null,
            "grid_auto_columns": null,
            "grid_auto_flow": null,
            "grid_auto_rows": null,
            "grid_column": null,
            "grid_gap": null,
            "grid_row": null,
            "grid_template_areas": null,
            "grid_template_columns": null,
            "grid_template_rows": null,
            "height": null,
            "justify_content": null,
            "justify_items": null,
            "left": null,
            "margin": null,
            "max_height": null,
            "max_width": null,
            "min_height": null,
            "min_width": null,
            "object_fit": null,
            "object_position": null,
            "order": null,
            "overflow": null,
            "overflow_x": null,
            "overflow_y": null,
            "padding": null,
            "right": null,
            "top": null,
            "visibility": null,
            "width": null
          }
        },
        "7b8f05c663924b6b9b04053264bf2a34": {
          "model_module": "@jupyter-widgets/base",
          "model_name": "LayoutModel",
          "model_module_version": "1.2.0",
          "state": {
            "_model_module": "@jupyter-widgets/base",
            "_model_module_version": "1.2.0",
            "_model_name": "LayoutModel",
            "_view_count": null,
            "_view_module": "@jupyter-widgets/base",
            "_view_module_version": "1.2.0",
            "_view_name": "LayoutView",
            "align_content": null,
            "align_items": null,
            "align_self": null,
            "border": null,
            "bottom": null,
            "display": null,
            "flex": null,
            "flex_flow": null,
            "grid_area": null,
            "grid_auto_columns": null,
            "grid_auto_flow": null,
            "grid_auto_rows": null,
            "grid_column": null,
            "grid_gap": null,
            "grid_row": null,
            "grid_template_areas": null,
            "grid_template_columns": null,
            "grid_template_rows": null,
            "height": null,
            "justify_content": null,
            "justify_items": null,
            "left": null,
            "margin": null,
            "max_height": null,
            "max_width": null,
            "min_height": null,
            "min_width": null,
            "object_fit": null,
            "object_position": null,
            "order": null,
            "overflow": null,
            "overflow_x": null,
            "overflow_y": null,
            "padding": null,
            "right": null,
            "top": null,
            "visibility": null,
            "width": null
          }
        },
        "b6399920153246499398cee72fef980d": {
          "model_module": "@jupyter-widgets/controls",
          "model_name": "DescriptionStyleModel",
          "model_module_version": "1.5.0",
          "state": {
            "_model_module": "@jupyter-widgets/controls",
            "_model_module_version": "1.5.0",
            "_model_name": "DescriptionStyleModel",
            "_view_count": null,
            "_view_module": "@jupyter-widgets/base",
            "_view_module_version": "1.2.0",
            "_view_name": "StyleView",
            "description_width": ""
          }
        },
        "08df2011e97b47b4ac56c07e6f9a5d64": {
          "model_module": "@jupyter-widgets/base",
          "model_name": "LayoutModel",
          "model_module_version": "1.2.0",
          "state": {
            "_model_module": "@jupyter-widgets/base",
            "_model_module_version": "1.2.0",
            "_model_name": "LayoutModel",
            "_view_count": null,
            "_view_module": "@jupyter-widgets/base",
            "_view_module_version": "1.2.0",
            "_view_name": "LayoutView",
            "align_content": null,
            "align_items": null,
            "align_self": null,
            "border": null,
            "bottom": null,
            "display": null,
            "flex": null,
            "flex_flow": null,
            "grid_area": null,
            "grid_auto_columns": null,
            "grid_auto_flow": null,
            "grid_auto_rows": null,
            "grid_column": null,
            "grid_gap": null,
            "grid_row": null,
            "grid_template_areas": null,
            "grid_template_columns": null,
            "grid_template_rows": null,
            "height": null,
            "justify_content": null,
            "justify_items": null,
            "left": null,
            "margin": null,
            "max_height": null,
            "max_width": null,
            "min_height": null,
            "min_width": null,
            "object_fit": null,
            "object_position": null,
            "order": null,
            "overflow": null,
            "overflow_x": null,
            "overflow_y": null,
            "padding": null,
            "right": null,
            "top": null,
            "visibility": null,
            "width": null
          }
        },
        "0c80e19c6b4249d8b313242bfdb7c5c8": {
          "model_module": "@jupyter-widgets/controls",
          "model_name": "ProgressStyleModel",
          "model_module_version": "1.5.0",
          "state": {
            "_model_module": "@jupyter-widgets/controls",
            "_model_module_version": "1.5.0",
            "_model_name": "ProgressStyleModel",
            "_view_count": null,
            "_view_module": "@jupyter-widgets/base",
            "_view_module_version": "1.2.0",
            "_view_name": "StyleView",
            "bar_color": null,
            "description_width": ""
          }
        },
        "9285c618daf9487894ec5f1501031378": {
          "model_module": "@jupyter-widgets/base",
          "model_name": "LayoutModel",
          "model_module_version": "1.2.0",
          "state": {
            "_model_module": "@jupyter-widgets/base",
            "_model_module_version": "1.2.0",
            "_model_name": "LayoutModel",
            "_view_count": null,
            "_view_module": "@jupyter-widgets/base",
            "_view_module_version": "1.2.0",
            "_view_name": "LayoutView",
            "align_content": null,
            "align_items": null,
            "align_self": null,
            "border": null,
            "bottom": null,
            "display": null,
            "flex": null,
            "flex_flow": null,
            "grid_area": null,
            "grid_auto_columns": null,
            "grid_auto_flow": null,
            "grid_auto_rows": null,
            "grid_column": null,
            "grid_gap": null,
            "grid_row": null,
            "grid_template_areas": null,
            "grid_template_columns": null,
            "grid_template_rows": null,
            "height": null,
            "justify_content": null,
            "justify_items": null,
            "left": null,
            "margin": null,
            "max_height": null,
            "max_width": null,
            "min_height": null,
            "min_width": null,
            "object_fit": null,
            "object_position": null,
            "order": null,
            "overflow": null,
            "overflow_x": null,
            "overflow_y": null,
            "padding": null,
            "right": null,
            "top": null,
            "visibility": null,
            "width": null
          }
        },
        "427937a3b4a64551b6ee697ca8bad88b": {
          "model_module": "@jupyter-widgets/controls",
          "model_name": "DescriptionStyleModel",
          "model_module_version": "1.5.0",
          "state": {
            "_model_module": "@jupyter-widgets/controls",
            "_model_module_version": "1.5.0",
            "_model_name": "DescriptionStyleModel",
            "_view_count": null,
            "_view_module": "@jupyter-widgets/base",
            "_view_module_version": "1.2.0",
            "_view_name": "StyleView",
            "description_width": ""
          }
        },
        "bedef601d33d439ca0aae84703f2be93": {
          "model_module": "@jupyter-widgets/controls",
          "model_name": "HBoxModel",
          "model_module_version": "1.5.0",
          "state": {
            "_dom_classes": [],
            "_model_module": "@jupyter-widgets/controls",
            "_model_module_version": "1.5.0",
            "_model_name": "HBoxModel",
            "_view_count": null,
            "_view_module": "@jupyter-widgets/controls",
            "_view_module_version": "1.5.0",
            "_view_name": "HBoxView",
            "box_style": "",
            "children": [
              "IPY_MODEL_cbae3fdbdbb14a7ea02a64be7923049a",
              "IPY_MODEL_8ce67f2d37014c08b69f36f0788da5b0",
              "IPY_MODEL_347b86f6a8514a7f93f2318712e3b6dc"
            ],
            "layout": "IPY_MODEL_9f709b557ae2483dba54663c7cf3af87"
          }
        },
        "cbae3fdbdbb14a7ea02a64be7923049a": {
          "model_module": "@jupyter-widgets/controls",
          "model_name": "HTMLModel",
          "model_module_version": "1.5.0",
          "state": {
            "_dom_classes": [],
            "_model_module": "@jupyter-widgets/controls",
            "_model_module_version": "1.5.0",
            "_model_name": "HTMLModel",
            "_view_count": null,
            "_view_module": "@jupyter-widgets/controls",
            "_view_module_version": "1.5.0",
            "_view_name": "HTMLView",
            "description": "",
            "description_tooltip": null,
            "layout": "IPY_MODEL_f7d3206c64184d468d917cf8ab68f2ea",
            "placeholder": "​",
            "style": "IPY_MODEL_faa0f8488eb34fd3b0498c01341e46f2",
            "value": "100%"
          }
        },
        "8ce67f2d37014c08b69f36f0788da5b0": {
          "model_module": "@jupyter-widgets/controls",
          "model_name": "FloatProgressModel",
          "model_module_version": "1.5.0",
          "state": {
            "_dom_classes": [],
            "_model_module": "@jupyter-widgets/controls",
            "_model_module_version": "1.5.0",
            "_model_name": "FloatProgressModel",
            "_view_count": null,
            "_view_module": "@jupyter-widgets/controls",
            "_view_module_version": "1.5.0",
            "_view_name": "ProgressView",
            "bar_style": "success",
            "description": "",
            "description_tooltip": null,
            "layout": "IPY_MODEL_b7817169442f46a39185bb6726edbb3e",
            "max": 516,
            "min": 0,
            "orientation": "horizontal",
            "style": "IPY_MODEL_863d37b87586472297d20ae351df6fd9",
            "value": 516
          }
        },
        "347b86f6a8514a7f93f2318712e3b6dc": {
          "model_module": "@jupyter-widgets/controls",
          "model_name": "HTMLModel",
          "model_module_version": "1.5.0",
          "state": {
            "_dom_classes": [],
            "_model_module": "@jupyter-widgets/controls",
            "_model_module_version": "1.5.0",
            "_model_name": "HTMLModel",
            "_view_count": null,
            "_view_module": "@jupyter-widgets/controls",
            "_view_module_version": "1.5.0",
            "_view_name": "HTMLView",
            "description": "",
            "description_tooltip": null,
            "layout": "IPY_MODEL_79e0863d4ab14c76bd427407092a5b01",
            "placeholder": "​",
            "style": "IPY_MODEL_bc0f1aabdbce4992b6ad632be0d72688",
            "value": " 516/516 [00:00&lt;00:00, 28785.04it/s]"
          }
        },
        "9f709b557ae2483dba54663c7cf3af87": {
          "model_module": "@jupyter-widgets/base",
          "model_name": "LayoutModel",
          "model_module_version": "1.2.0",
          "state": {
            "_model_module": "@jupyter-widgets/base",
            "_model_module_version": "1.2.0",
            "_model_name": "LayoutModel",
            "_view_count": null,
            "_view_module": "@jupyter-widgets/base",
            "_view_module_version": "1.2.0",
            "_view_name": "LayoutView",
            "align_content": null,
            "align_items": null,
            "align_self": null,
            "border": null,
            "bottom": null,
            "display": null,
            "flex": null,
            "flex_flow": null,
            "grid_area": null,
            "grid_auto_columns": null,
            "grid_auto_flow": null,
            "grid_auto_rows": null,
            "grid_column": null,
            "grid_gap": null,
            "grid_row": null,
            "grid_template_areas": null,
            "grid_template_columns": null,
            "grid_template_rows": null,
            "height": null,
            "justify_content": null,
            "justify_items": null,
            "left": null,
            "margin": null,
            "max_height": null,
            "max_width": null,
            "min_height": null,
            "min_width": null,
            "object_fit": null,
            "object_position": null,
            "order": null,
            "overflow": null,
            "overflow_x": null,
            "overflow_y": null,
            "padding": null,
            "right": null,
            "top": null,
            "visibility": null,
            "width": null
          }
        },
        "f7d3206c64184d468d917cf8ab68f2ea": {
          "model_module": "@jupyter-widgets/base",
          "model_name": "LayoutModel",
          "model_module_version": "1.2.0",
          "state": {
            "_model_module": "@jupyter-widgets/base",
            "_model_module_version": "1.2.0",
            "_model_name": "LayoutModel",
            "_view_count": null,
            "_view_module": "@jupyter-widgets/base",
            "_view_module_version": "1.2.0",
            "_view_name": "LayoutView",
            "align_content": null,
            "align_items": null,
            "align_self": null,
            "border": null,
            "bottom": null,
            "display": null,
            "flex": null,
            "flex_flow": null,
            "grid_area": null,
            "grid_auto_columns": null,
            "grid_auto_flow": null,
            "grid_auto_rows": null,
            "grid_column": null,
            "grid_gap": null,
            "grid_row": null,
            "grid_template_areas": null,
            "grid_template_columns": null,
            "grid_template_rows": null,
            "height": null,
            "justify_content": null,
            "justify_items": null,
            "left": null,
            "margin": null,
            "max_height": null,
            "max_width": null,
            "min_height": null,
            "min_width": null,
            "object_fit": null,
            "object_position": null,
            "order": null,
            "overflow": null,
            "overflow_x": null,
            "overflow_y": null,
            "padding": null,
            "right": null,
            "top": null,
            "visibility": null,
            "width": null
          }
        },
        "faa0f8488eb34fd3b0498c01341e46f2": {
          "model_module": "@jupyter-widgets/controls",
          "model_name": "DescriptionStyleModel",
          "model_module_version": "1.5.0",
          "state": {
            "_model_module": "@jupyter-widgets/controls",
            "_model_module_version": "1.5.0",
            "_model_name": "DescriptionStyleModel",
            "_view_count": null,
            "_view_module": "@jupyter-widgets/base",
            "_view_module_version": "1.2.0",
            "_view_name": "StyleView",
            "description_width": ""
          }
        },
        "b7817169442f46a39185bb6726edbb3e": {
          "model_module": "@jupyter-widgets/base",
          "model_name": "LayoutModel",
          "model_module_version": "1.2.0",
          "state": {
            "_model_module": "@jupyter-widgets/base",
            "_model_module_version": "1.2.0",
            "_model_name": "LayoutModel",
            "_view_count": null,
            "_view_module": "@jupyter-widgets/base",
            "_view_module_version": "1.2.0",
            "_view_name": "LayoutView",
            "align_content": null,
            "align_items": null,
            "align_self": null,
            "border": null,
            "bottom": null,
            "display": null,
            "flex": null,
            "flex_flow": null,
            "grid_area": null,
            "grid_auto_columns": null,
            "grid_auto_flow": null,
            "grid_auto_rows": null,
            "grid_column": null,
            "grid_gap": null,
            "grid_row": null,
            "grid_template_areas": null,
            "grid_template_columns": null,
            "grid_template_rows": null,
            "height": null,
            "justify_content": null,
            "justify_items": null,
            "left": null,
            "margin": null,
            "max_height": null,
            "max_width": null,
            "min_height": null,
            "min_width": null,
            "object_fit": null,
            "object_position": null,
            "order": null,
            "overflow": null,
            "overflow_x": null,
            "overflow_y": null,
            "padding": null,
            "right": null,
            "top": null,
            "visibility": null,
            "width": null
          }
        },
        "863d37b87586472297d20ae351df6fd9": {
          "model_module": "@jupyter-widgets/controls",
          "model_name": "ProgressStyleModel",
          "model_module_version": "1.5.0",
          "state": {
            "_model_module": "@jupyter-widgets/controls",
            "_model_module_version": "1.5.0",
            "_model_name": "ProgressStyleModel",
            "_view_count": null,
            "_view_module": "@jupyter-widgets/base",
            "_view_module_version": "1.2.0",
            "_view_name": "StyleView",
            "bar_color": null,
            "description_width": ""
          }
        },
        "79e0863d4ab14c76bd427407092a5b01": {
          "model_module": "@jupyter-widgets/base",
          "model_name": "LayoutModel",
          "model_module_version": "1.2.0",
          "state": {
            "_model_module": "@jupyter-widgets/base",
            "_model_module_version": "1.2.0",
            "_model_name": "LayoutModel",
            "_view_count": null,
            "_view_module": "@jupyter-widgets/base",
            "_view_module_version": "1.2.0",
            "_view_name": "LayoutView",
            "align_content": null,
            "align_items": null,
            "align_self": null,
            "border": null,
            "bottom": null,
            "display": null,
            "flex": null,
            "flex_flow": null,
            "grid_area": null,
            "grid_auto_columns": null,
            "grid_auto_flow": null,
            "grid_auto_rows": null,
            "grid_column": null,
            "grid_gap": null,
            "grid_row": null,
            "grid_template_areas": null,
            "grid_template_columns": null,
            "grid_template_rows": null,
            "height": null,
            "justify_content": null,
            "justify_items": null,
            "left": null,
            "margin": null,
            "max_height": null,
            "max_width": null,
            "min_height": null,
            "min_width": null,
            "object_fit": null,
            "object_position": null,
            "order": null,
            "overflow": null,
            "overflow_x": null,
            "overflow_y": null,
            "padding": null,
            "right": null,
            "top": null,
            "visibility": null,
            "width": null
          }
        },
        "bc0f1aabdbce4992b6ad632be0d72688": {
          "model_module": "@jupyter-widgets/controls",
          "model_name": "DescriptionStyleModel",
          "model_module_version": "1.5.0",
          "state": {
            "_model_module": "@jupyter-widgets/controls",
            "_model_module_version": "1.5.0",
            "_model_name": "DescriptionStyleModel",
            "_view_count": null,
            "_view_module": "@jupyter-widgets/base",
            "_view_module_version": "1.2.0",
            "_view_name": "StyleView",
            "description_width": ""
          }
        },
        "54120adedb114a9cabb18dc0d21dd12e": {
          "model_module": "@jupyter-widgets/controls",
          "model_name": "HBoxModel",
          "model_module_version": "1.5.0",
          "state": {
            "_dom_classes": [],
            "_model_module": "@jupyter-widgets/controls",
            "_model_module_version": "1.5.0",
            "_model_name": "HBoxModel",
            "_view_count": null,
            "_view_module": "@jupyter-widgets/controls",
            "_view_module_version": "1.5.0",
            "_view_name": "HBoxView",
            "box_style": "",
            "children": [
              "IPY_MODEL_c1ed17fad3cb470892322dd86a8d5d8b",
              "IPY_MODEL_54497a2d9edc41a0bdf32d368f046b05",
              "IPY_MODEL_ada7220c6d91415b8654e1fe5e7fc8ab"
            ],
            "layout": "IPY_MODEL_f6cb549fa1484a6e8890c238d8f09c9a"
          }
        },
        "c1ed17fad3cb470892322dd86a8d5d8b": {
          "model_module": "@jupyter-widgets/controls",
          "model_name": "HTMLModel",
          "model_module_version": "1.5.0",
          "state": {
            "_dom_classes": [],
            "_model_module": "@jupyter-widgets/controls",
            "_model_module_version": "1.5.0",
            "_model_name": "HTMLModel",
            "_view_count": null,
            "_view_module": "@jupyter-widgets/controls",
            "_view_module_version": "1.5.0",
            "_view_name": "HTMLView",
            "description": "",
            "description_tooltip": null,
            "layout": "IPY_MODEL_f0da0df873134fdca4c54740c6a1fd46",
            "placeholder": "​",
            "style": "IPY_MODEL_90a64fdec1714aa2b8bd2ea9d42d7a05",
            "value": "100%"
          }
        },
        "54497a2d9edc41a0bdf32d368f046b05": {
          "model_module": "@jupyter-widgets/controls",
          "model_name": "FloatProgressModel",
          "model_module_version": "1.5.0",
          "state": {
            "_dom_classes": [],
            "_model_module": "@jupyter-widgets/controls",
            "_model_module_version": "1.5.0",
            "_model_name": "FloatProgressModel",
            "_view_count": null,
            "_view_module": "@jupyter-widgets/controls",
            "_view_module_version": "1.5.0",
            "_view_name": "ProgressView",
            "bar_style": "success",
            "description": "",
            "description_tooltip": null,
            "layout": "IPY_MODEL_b614adec1d284588a72417985ff19665",
            "max": 233,
            "min": 0,
            "orientation": "horizontal",
            "style": "IPY_MODEL_0b8998ed70a54b5691b29ba73b3aa4d3",
            "value": 233
          }
        },
        "ada7220c6d91415b8654e1fe5e7fc8ab": {
          "model_module": "@jupyter-widgets/controls",
          "model_name": "HTMLModel",
          "model_module_version": "1.5.0",
          "state": {
            "_dom_classes": [],
            "_model_module": "@jupyter-widgets/controls",
            "_model_module_version": "1.5.0",
            "_model_name": "HTMLModel",
            "_view_count": null,
            "_view_module": "@jupyter-widgets/controls",
            "_view_module_version": "1.5.0",
            "_view_name": "HTMLView",
            "description": "",
            "description_tooltip": null,
            "layout": "IPY_MODEL_95d35f628bd6447fab80d28422378f0e",
            "placeholder": "​",
            "style": "IPY_MODEL_9bfe722f925e44d6bbf1b2f525c97760",
            "value": " 233/233 [00:00&lt;00:00, 8159.24it/s]"
          }
        },
        "f6cb549fa1484a6e8890c238d8f09c9a": {
          "model_module": "@jupyter-widgets/base",
          "model_name": "LayoutModel",
          "model_module_version": "1.2.0",
          "state": {
            "_model_module": "@jupyter-widgets/base",
            "_model_module_version": "1.2.0",
            "_model_name": "LayoutModel",
            "_view_count": null,
            "_view_module": "@jupyter-widgets/base",
            "_view_module_version": "1.2.0",
            "_view_name": "LayoutView",
            "align_content": null,
            "align_items": null,
            "align_self": null,
            "border": null,
            "bottom": null,
            "display": null,
            "flex": null,
            "flex_flow": null,
            "grid_area": null,
            "grid_auto_columns": null,
            "grid_auto_flow": null,
            "grid_auto_rows": null,
            "grid_column": null,
            "grid_gap": null,
            "grid_row": null,
            "grid_template_areas": null,
            "grid_template_columns": null,
            "grid_template_rows": null,
            "height": null,
            "justify_content": null,
            "justify_items": null,
            "left": null,
            "margin": null,
            "max_height": null,
            "max_width": null,
            "min_height": null,
            "min_width": null,
            "object_fit": null,
            "object_position": null,
            "order": null,
            "overflow": null,
            "overflow_x": null,
            "overflow_y": null,
            "padding": null,
            "right": null,
            "top": null,
            "visibility": null,
            "width": null
          }
        },
        "f0da0df873134fdca4c54740c6a1fd46": {
          "model_module": "@jupyter-widgets/base",
          "model_name": "LayoutModel",
          "model_module_version": "1.2.0",
          "state": {
            "_model_module": "@jupyter-widgets/base",
            "_model_module_version": "1.2.0",
            "_model_name": "LayoutModel",
            "_view_count": null,
            "_view_module": "@jupyter-widgets/base",
            "_view_module_version": "1.2.0",
            "_view_name": "LayoutView",
            "align_content": null,
            "align_items": null,
            "align_self": null,
            "border": null,
            "bottom": null,
            "display": null,
            "flex": null,
            "flex_flow": null,
            "grid_area": null,
            "grid_auto_columns": null,
            "grid_auto_flow": null,
            "grid_auto_rows": null,
            "grid_column": null,
            "grid_gap": null,
            "grid_row": null,
            "grid_template_areas": null,
            "grid_template_columns": null,
            "grid_template_rows": null,
            "height": null,
            "justify_content": null,
            "justify_items": null,
            "left": null,
            "margin": null,
            "max_height": null,
            "max_width": null,
            "min_height": null,
            "min_width": null,
            "object_fit": null,
            "object_position": null,
            "order": null,
            "overflow": null,
            "overflow_x": null,
            "overflow_y": null,
            "padding": null,
            "right": null,
            "top": null,
            "visibility": null,
            "width": null
          }
        },
        "90a64fdec1714aa2b8bd2ea9d42d7a05": {
          "model_module": "@jupyter-widgets/controls",
          "model_name": "DescriptionStyleModel",
          "model_module_version": "1.5.0",
          "state": {
            "_model_module": "@jupyter-widgets/controls",
            "_model_module_version": "1.5.0",
            "_model_name": "DescriptionStyleModel",
            "_view_count": null,
            "_view_module": "@jupyter-widgets/base",
            "_view_module_version": "1.2.0",
            "_view_name": "StyleView",
            "description_width": ""
          }
        },
        "b614adec1d284588a72417985ff19665": {
          "model_module": "@jupyter-widgets/base",
          "model_name": "LayoutModel",
          "model_module_version": "1.2.0",
          "state": {
            "_model_module": "@jupyter-widgets/base",
            "_model_module_version": "1.2.0",
            "_model_name": "LayoutModel",
            "_view_count": null,
            "_view_module": "@jupyter-widgets/base",
            "_view_module_version": "1.2.0",
            "_view_name": "LayoutView",
            "align_content": null,
            "align_items": null,
            "align_self": null,
            "border": null,
            "bottom": null,
            "display": null,
            "flex": null,
            "flex_flow": null,
            "grid_area": null,
            "grid_auto_columns": null,
            "grid_auto_flow": null,
            "grid_auto_rows": null,
            "grid_column": null,
            "grid_gap": null,
            "grid_row": null,
            "grid_template_areas": null,
            "grid_template_columns": null,
            "grid_template_rows": null,
            "height": null,
            "justify_content": null,
            "justify_items": null,
            "left": null,
            "margin": null,
            "max_height": null,
            "max_width": null,
            "min_height": null,
            "min_width": null,
            "object_fit": null,
            "object_position": null,
            "order": null,
            "overflow": null,
            "overflow_x": null,
            "overflow_y": null,
            "padding": null,
            "right": null,
            "top": null,
            "visibility": null,
            "width": null
          }
        },
        "0b8998ed70a54b5691b29ba73b3aa4d3": {
          "model_module": "@jupyter-widgets/controls",
          "model_name": "ProgressStyleModel",
          "model_module_version": "1.5.0",
          "state": {
            "_model_module": "@jupyter-widgets/controls",
            "_model_module_version": "1.5.0",
            "_model_name": "ProgressStyleModel",
            "_view_count": null,
            "_view_module": "@jupyter-widgets/base",
            "_view_module_version": "1.2.0",
            "_view_name": "StyleView",
            "bar_color": null,
            "description_width": ""
          }
        },
        "95d35f628bd6447fab80d28422378f0e": {
          "model_module": "@jupyter-widgets/base",
          "model_name": "LayoutModel",
          "model_module_version": "1.2.0",
          "state": {
            "_model_module": "@jupyter-widgets/base",
            "_model_module_version": "1.2.0",
            "_model_name": "LayoutModel",
            "_view_count": null,
            "_view_module": "@jupyter-widgets/base",
            "_view_module_version": "1.2.0",
            "_view_name": "LayoutView",
            "align_content": null,
            "align_items": null,
            "align_self": null,
            "border": null,
            "bottom": null,
            "display": null,
            "flex": null,
            "flex_flow": null,
            "grid_area": null,
            "grid_auto_columns": null,
            "grid_auto_flow": null,
            "grid_auto_rows": null,
            "grid_column": null,
            "grid_gap": null,
            "grid_row": null,
            "grid_template_areas": null,
            "grid_template_columns": null,
            "grid_template_rows": null,
            "height": null,
            "justify_content": null,
            "justify_items": null,
            "left": null,
            "margin": null,
            "max_height": null,
            "max_width": null,
            "min_height": null,
            "min_width": null,
            "object_fit": null,
            "object_position": null,
            "order": null,
            "overflow": null,
            "overflow_x": null,
            "overflow_y": null,
            "padding": null,
            "right": null,
            "top": null,
            "visibility": null,
            "width": null
          }
        },
        "9bfe722f925e44d6bbf1b2f525c97760": {
          "model_module": "@jupyter-widgets/controls",
          "model_name": "DescriptionStyleModel",
          "model_module_version": "1.5.0",
          "state": {
            "_model_module": "@jupyter-widgets/controls",
            "_model_module_version": "1.5.0",
            "_model_name": "DescriptionStyleModel",
            "_view_count": null,
            "_view_module": "@jupyter-widgets/base",
            "_view_module_version": "1.2.0",
            "_view_name": "StyleView",
            "description_width": ""
          }
        },
        "4ff85ad7deef405ea857176e5295765a": {
          "model_module": "@jupyter-widgets/controls",
          "model_name": "HBoxModel",
          "model_module_version": "1.5.0",
          "state": {
            "_dom_classes": [],
            "_model_module": "@jupyter-widgets/controls",
            "_model_module_version": "1.5.0",
            "_model_name": "HBoxModel",
            "_view_count": null,
            "_view_module": "@jupyter-widgets/controls",
            "_view_module_version": "1.5.0",
            "_view_name": "HBoxView",
            "box_style": "",
            "children": [
              "IPY_MODEL_282fcafe2fbd47eaa792c1e347367a03",
              "IPY_MODEL_c2b1bc6ba4d34466a3ada295b68e9ac3",
              "IPY_MODEL_88f4a1dcc9ff454ab82f7b4e6ecd118c"
            ],
            "layout": "IPY_MODEL_f3304fd09a8f45f7b0f84194ebbb4977"
          }
        },
        "282fcafe2fbd47eaa792c1e347367a03": {
          "model_module": "@jupyter-widgets/controls",
          "model_name": "HTMLModel",
          "model_module_version": "1.5.0",
          "state": {
            "_dom_classes": [],
            "_model_module": "@jupyter-widgets/controls",
            "_model_module_version": "1.5.0",
            "_model_name": "HTMLModel",
            "_view_count": null,
            "_view_module": "@jupyter-widgets/controls",
            "_view_module_version": "1.5.0",
            "_view_name": "HTMLView",
            "description": "",
            "description_tooltip": null,
            "layout": "IPY_MODEL_87e5dd5b66a94c22b1e63a730c08fe80",
            "placeholder": "​",
            "style": "IPY_MODEL_4f0ee023426646168516f662cedf2f92",
            "value": "100%"
          }
        },
        "c2b1bc6ba4d34466a3ada295b68e9ac3": {
          "model_module": "@jupyter-widgets/controls",
          "model_name": "FloatProgressModel",
          "model_module_version": "1.5.0",
          "state": {
            "_dom_classes": [],
            "_model_module": "@jupyter-widgets/controls",
            "_model_module_version": "1.5.0",
            "_model_name": "FloatProgressModel",
            "_view_count": null,
            "_view_module": "@jupyter-widgets/controls",
            "_view_module_version": "1.5.0",
            "_view_name": "ProgressView",
            "bar_style": "success",
            "description": "",
            "description_tooltip": null,
            "layout": "IPY_MODEL_a0fa43fd23ff43efbe7198559830f76b",
            "max": 233,
            "min": 0,
            "orientation": "horizontal",
            "style": "IPY_MODEL_70603e6a4c0c4f849bac987bce6dcddf",
            "value": 233
          }
        },
        "88f4a1dcc9ff454ab82f7b4e6ecd118c": {
          "model_module": "@jupyter-widgets/controls",
          "model_name": "HTMLModel",
          "model_module_version": "1.5.0",
          "state": {
            "_dom_classes": [],
            "_model_module": "@jupyter-widgets/controls",
            "_model_module_version": "1.5.0",
            "_model_name": "HTMLModel",
            "_view_count": null,
            "_view_module": "@jupyter-widgets/controls",
            "_view_module_version": "1.5.0",
            "_view_name": "HTMLView",
            "description": "",
            "description_tooltip": null,
            "layout": "IPY_MODEL_6da67e78a2254faa8237284bdee0f37d",
            "placeholder": "​",
            "style": "IPY_MODEL_c6ec24edb2104da2b22573c17f7bfe84",
            "value": " 233/233 [00:00&lt;00:00, 6590.41it/s]"
          }
        },
        "f3304fd09a8f45f7b0f84194ebbb4977": {
          "model_module": "@jupyter-widgets/base",
          "model_name": "LayoutModel",
          "model_module_version": "1.2.0",
          "state": {
            "_model_module": "@jupyter-widgets/base",
            "_model_module_version": "1.2.0",
            "_model_name": "LayoutModel",
            "_view_count": null,
            "_view_module": "@jupyter-widgets/base",
            "_view_module_version": "1.2.0",
            "_view_name": "LayoutView",
            "align_content": null,
            "align_items": null,
            "align_self": null,
            "border": null,
            "bottom": null,
            "display": null,
            "flex": null,
            "flex_flow": null,
            "grid_area": null,
            "grid_auto_columns": null,
            "grid_auto_flow": null,
            "grid_auto_rows": null,
            "grid_column": null,
            "grid_gap": null,
            "grid_row": null,
            "grid_template_areas": null,
            "grid_template_columns": null,
            "grid_template_rows": null,
            "height": null,
            "justify_content": null,
            "justify_items": null,
            "left": null,
            "margin": null,
            "max_height": null,
            "max_width": null,
            "min_height": null,
            "min_width": null,
            "object_fit": null,
            "object_position": null,
            "order": null,
            "overflow": null,
            "overflow_x": null,
            "overflow_y": null,
            "padding": null,
            "right": null,
            "top": null,
            "visibility": null,
            "width": null
          }
        },
        "87e5dd5b66a94c22b1e63a730c08fe80": {
          "model_module": "@jupyter-widgets/base",
          "model_name": "LayoutModel",
          "model_module_version": "1.2.0",
          "state": {
            "_model_module": "@jupyter-widgets/base",
            "_model_module_version": "1.2.0",
            "_model_name": "LayoutModel",
            "_view_count": null,
            "_view_module": "@jupyter-widgets/base",
            "_view_module_version": "1.2.0",
            "_view_name": "LayoutView",
            "align_content": null,
            "align_items": null,
            "align_self": null,
            "border": null,
            "bottom": null,
            "display": null,
            "flex": null,
            "flex_flow": null,
            "grid_area": null,
            "grid_auto_columns": null,
            "grid_auto_flow": null,
            "grid_auto_rows": null,
            "grid_column": null,
            "grid_gap": null,
            "grid_row": null,
            "grid_template_areas": null,
            "grid_template_columns": null,
            "grid_template_rows": null,
            "height": null,
            "justify_content": null,
            "justify_items": null,
            "left": null,
            "margin": null,
            "max_height": null,
            "max_width": null,
            "min_height": null,
            "min_width": null,
            "object_fit": null,
            "object_position": null,
            "order": null,
            "overflow": null,
            "overflow_x": null,
            "overflow_y": null,
            "padding": null,
            "right": null,
            "top": null,
            "visibility": null,
            "width": null
          }
        },
        "4f0ee023426646168516f662cedf2f92": {
          "model_module": "@jupyter-widgets/controls",
          "model_name": "DescriptionStyleModel",
          "model_module_version": "1.5.0",
          "state": {
            "_model_module": "@jupyter-widgets/controls",
            "_model_module_version": "1.5.0",
            "_model_name": "DescriptionStyleModel",
            "_view_count": null,
            "_view_module": "@jupyter-widgets/base",
            "_view_module_version": "1.2.0",
            "_view_name": "StyleView",
            "description_width": ""
          }
        },
        "a0fa43fd23ff43efbe7198559830f76b": {
          "model_module": "@jupyter-widgets/base",
          "model_name": "LayoutModel",
          "model_module_version": "1.2.0",
          "state": {
            "_model_module": "@jupyter-widgets/base",
            "_model_module_version": "1.2.0",
            "_model_name": "LayoutModel",
            "_view_count": null,
            "_view_module": "@jupyter-widgets/base",
            "_view_module_version": "1.2.0",
            "_view_name": "LayoutView",
            "align_content": null,
            "align_items": null,
            "align_self": null,
            "border": null,
            "bottom": null,
            "display": null,
            "flex": null,
            "flex_flow": null,
            "grid_area": null,
            "grid_auto_columns": null,
            "grid_auto_flow": null,
            "grid_auto_rows": null,
            "grid_column": null,
            "grid_gap": null,
            "grid_row": null,
            "grid_template_areas": null,
            "grid_template_columns": null,
            "grid_template_rows": null,
            "height": null,
            "justify_content": null,
            "justify_items": null,
            "left": null,
            "margin": null,
            "max_height": null,
            "max_width": null,
            "min_height": null,
            "min_width": null,
            "object_fit": null,
            "object_position": null,
            "order": null,
            "overflow": null,
            "overflow_x": null,
            "overflow_y": null,
            "padding": null,
            "right": null,
            "top": null,
            "visibility": null,
            "width": null
          }
        },
        "70603e6a4c0c4f849bac987bce6dcddf": {
          "model_module": "@jupyter-widgets/controls",
          "model_name": "ProgressStyleModel",
          "model_module_version": "1.5.0",
          "state": {
            "_model_module": "@jupyter-widgets/controls",
            "_model_module_version": "1.5.0",
            "_model_name": "ProgressStyleModel",
            "_view_count": null,
            "_view_module": "@jupyter-widgets/base",
            "_view_module_version": "1.2.0",
            "_view_name": "StyleView",
            "bar_color": null,
            "description_width": ""
          }
        },
        "6da67e78a2254faa8237284bdee0f37d": {
          "model_module": "@jupyter-widgets/base",
          "model_name": "LayoutModel",
          "model_module_version": "1.2.0",
          "state": {
            "_model_module": "@jupyter-widgets/base",
            "_model_module_version": "1.2.0",
            "_model_name": "LayoutModel",
            "_view_count": null,
            "_view_module": "@jupyter-widgets/base",
            "_view_module_version": "1.2.0",
            "_view_name": "LayoutView",
            "align_content": null,
            "align_items": null,
            "align_self": null,
            "border": null,
            "bottom": null,
            "display": null,
            "flex": null,
            "flex_flow": null,
            "grid_area": null,
            "grid_auto_columns": null,
            "grid_auto_flow": null,
            "grid_auto_rows": null,
            "grid_column": null,
            "grid_gap": null,
            "grid_row": null,
            "grid_template_areas": null,
            "grid_template_columns": null,
            "grid_template_rows": null,
            "height": null,
            "justify_content": null,
            "justify_items": null,
            "left": null,
            "margin": null,
            "max_height": null,
            "max_width": null,
            "min_height": null,
            "min_width": null,
            "object_fit": null,
            "object_position": null,
            "order": null,
            "overflow": null,
            "overflow_x": null,
            "overflow_y": null,
            "padding": null,
            "right": null,
            "top": null,
            "visibility": null,
            "width": null
          }
        },
        "c6ec24edb2104da2b22573c17f7bfe84": {
          "model_module": "@jupyter-widgets/controls",
          "model_name": "DescriptionStyleModel",
          "model_module_version": "1.5.0",
          "state": {
            "_model_module": "@jupyter-widgets/controls",
            "_model_module_version": "1.5.0",
            "_model_name": "DescriptionStyleModel",
            "_view_count": null,
            "_view_module": "@jupyter-widgets/base",
            "_view_module_version": "1.2.0",
            "_view_name": "StyleView",
            "description_width": ""
          }
        }
      }
    }
  },
  "cells": [
    {
      "cell_type": "markdown",
      "metadata": {
        "id": "view-in-github",
        "colab_type": "text"
      },
      "source": [
        "<a href=\"https://colab.research.google.com/github/Iki050901/2106138-Rizki-Saputra-Pratikum-Kecerdasan-buatan/blob/master/TB_Pra_AI.ipynb\" target=\"_parent\"><img src=\"https://colab.research.google.com/assets/colab-badge.svg\" alt=\"Open In Colab\"/></a>"
      ]
    },
    {
      "cell_type": "markdown",
      "source": [
        "# **# TUGAS BESAR PRATIKUM KECERDASAN BUATAN**\n",
        "\n",
        "# \"Prediksi Harga Saham Andro dengan menggunakan LSTM\"\n",
        "\n",
        "dibuat oleh :\n",
        "\n",
        "*   Ajeng Cita IndahSari (2106073)\n",
        "*   Rizki Saputra (2106138)\n",
        "\n"
      ],
      "metadata": {
        "id": "BvgiLjl7yq5g"
      }
    },
    {
      "cell_type": "markdown",
      "source": [],
      "metadata": {
        "id": "Mc9oYko6ROrB"
      }
    },
    {
      "cell_type": "markdown",
      "source": [
        "# Membersihkan Data dan melakukan Pre-Processing\n",
        "\n",
        "## Libarry yang digunakan\n"
      ],
      "metadata": {
        "id": "_grl74fp05X8"
      }
    },
    {
      "cell_type": "code",
      "execution_count": 1,
      "metadata": {
        "colab": {
          "base_uri": "https://localhost:8080/"
        },
        "id": "O6BoE8zDQPek",
        "outputId": "5aa743c4-d48a-4ee1-c8d8-752ce94d51b6"
      },
      "outputs": [
        {
          "output_type": "stream",
          "name": "stdout",
          "text": [
            "Looking in indexes: https://pypi.org/simple, https://us-python.pkg.dev/colab-wheels/public/simple/\n",
            "Requirement already satisfied: tqdm in /usr/local/lib/python3.10/dist-packages (4.65.0)\n"
          ]
        }
      ],
      "source": [
        "pip install tqdm --upgrade"
      ]
    },
    {
      "cell_type": "code",
      "source": [
        "# Numpy untuk formatting number atau array\n",
        "import numpy as np\n",
        "\n",
        "# Pandas untuk membuat DataFrame dan membaca dokumen csv\n",
        "import pandas as pd \n",
        "\n",
        "# Tensorflow dan Keras sebagai Framework dan Backend\n",
        "import keras\n",
        "import tensorflow as tf\n",
        "from keras.models import Sequential, load_model\n",
        "from keras.layers import Dense, Dropout\n",
        "from keras.layers import LSTM\n",
        "from keras.callbacks import ModelCheckpoint, EarlyStopping, ReduceLROnPlateau, CSVLogger\n",
        "from keras import optimizers\n",
        "\n",
        "# Sklearn sebagai komponen machine learning, untuk normalisasi, membagi dataset dan menghitung nilai error\n",
        "from sklearn.preprocessing import MinMaxScaler\n",
        "from sklearn.model_selection import train_test_split\n",
        "from sklearn.metrics import mean_squared_error\n",
        "\n",
        "# Logging untuk mencatat tiap aktivitas yang dilakukan sistem\n",
        "import logging\n",
        "\n",
        "# Pickle untuk mengambil model jika sudah dibuat sebelumnya\n",
        "import pickle\n",
        "\n",
        "# OS untuk operation system, sys untuk system, time untuk waktu, tqdm notebook untuk notebook jika dibuat selain google colab\n",
        "import os\n",
        "import sys\n",
        "import time\n",
        "from tqdm._tqdm_notebook import tqdm_notebook"
      ],
      "metadata": {
        "id": "t5UGkBS4QVXN",
        "colab": {
          "base_uri": "https://localhost:8080/"
        },
        "outputId": "62665d16-d7fb-4ded-fa79-7f5755f20635"
      },
      "execution_count": 2,
      "outputs": [
        {
          "output_type": "stream",
          "name": "stderr",
          "text": [
            "<ipython-input-2-a87004be56a9>:31: TqdmDeprecationWarning: This function will be removed in tqdm==5.0.0\n",
            "Please use `tqdm.notebook.*` instead of `tqdm._tqdm_notebook.*`\n",
            "  from tqdm._tqdm_notebook import tqdm_notebook\n"
          ]
        }
      ]
    },
    {
      "cell_type": "markdown",
      "source": [
        "# Mengatur zona waktu dan logging"
      ],
      "metadata": {
        "id": "svxfKS3F3onx"
      }
    },
    {
      "cell_type": "code",
      "source": [
        "os.environ['TF_CPP_MIN_LOG_LEVEL'] = '2'\n",
        "logging.getLogger(\"tensorflow\").setLevel(logging.ERROR)\n",
        "os.environ['TZ'] = 'Asia/Kolkata'  \n",
        "time.tzset()"
      ],
      "metadata": {
        "id": "VgN-7vXBSYOB"
      },
      "execution_count": 3,
      "outputs": []
    },
    {
      "cell_type": "code",
      "source": [
        "print(\"Penelitian ini menggunakan Framework Keras versi \" + keras.__version__ + \" dan Backend Tensorflow versi \" + tf.__version__)"
      ],
      "metadata": {
        "colab": {
          "base_uri": "https://localhost:8080/"
        },
        "id": "ZDkl0lneSb5N",
        "outputId": "c1674968-c659-4dd2-9f10-53f5ec07e196"
      },
      "execution_count": 4,
      "outputs": [
        {
          "output_type": "stream",
          "name": "stdout",
          "text": [
            "Penelitian ini menggunakan Framework Keras versi 2.12.0 dan Backend Tensorflow versi 2.12.0\n"
          ]
        }
      ]
    },
    {
      "cell_type": "markdown",
      "source": [
        "# Membaca dataset dan membagi dataset"
      ],
      "metadata": {
        "id": "sSNLKoNn3vqQ"
      }
    },
    {
      "cell_type": "code",
      "source": [
        "from google.colab import drive\n",
        "drive.mount('/content/drive')"
      ],
      "metadata": {
        "colab": {
          "base_uri": "https://localhost:8080/"
        },
        "id": "5CP4eQ0MTA02",
        "outputId": "3a31426d-eeaf-4733-9fd1-c38e76e5143c"
      },
      "execution_count": 5,
      "outputs": [
        {
          "output_type": "stream",
          "name": "stdout",
          "text": [
            "Mounted at /content/drive\n"
          ]
        }
      ]
    },
    {
      "cell_type": "code",
      "source": [
        "params = {\n",
        "    \"batch_size\": 20, \n",
        "    \"epochs\": 200,\n",
        "    \"lr\": 0.0001,\n",
        "    \"time_steps\": 50\n",
        "}\n",
        "iter_changes = \"dropout_layers_0.4_0.4\""
      ],
      "metadata": {
        "id": "jAEVugo7TdGv"
      },
      "execution_count": 6,
      "outputs": []
    },
    {
      "cell_type": "code",
      "source": [
        "INPUT_PATH = \"/content/drive/My Drive/TA_LSTM\"+\"/inputs\"\n",
        "OUTPUT_PATH = \"/content/drive/My Drive/TA_LSTM/outputs/lstm_best_11-1-20_2PM/\"+\"iter_changes\"\n",
        "TIME_STEPS = params[\"time_steps\"]\n",
        "BATCH_SIZE = params[\"batch_size\"]\n",
        "stime = time.time()"
      ],
      "metadata": {
        "id": "C5eVlJKfTifn"
      },
      "execution_count": 7,
      "outputs": []
    },
    {
      "cell_type": "code",
      "source": [
        "if not os.path.exists(OUTPUT_PATH):\n",
        "  os.makedirs(OUTPUT_PATH)\n",
        "  print(\"Direktori output dibuat di \", OUTPUT_PATH)\n",
        "else:\n",
        "  print(\"Direktori sudah dibuat sebelumnya\")"
      ],
      "metadata": {
        "colab": {
          "base_uri": "https://localhost:8080/"
        },
        "id": "ELWuKZgpTklQ",
        "outputId": "51a2c018-fe5c-4566-9347-c1fe38779bc0"
      },
      "execution_count": 8,
      "outputs": [
        {
          "output_type": "stream",
          "name": "stdout",
          "text": [
            "Direktori sudah dibuat sebelumnya\n"
          ]
        }
      ]
    },
    {
      "cell_type": "code",
      "source": [
        "stime = time.time()\n",
        "print(os.listdir(INPUT_PATH))\n",
        "\n",
        "# Membaca Dataset\n",
        "df = pd.read_csv(os.path.join(INPUT_PATH, \"ADRO.JK.csv\"), engine='python')\n",
        "df = df.dropna()\n",
        "df = df.reset_index(drop=True)\n",
        "print(df.shape)\n",
        "print(df.columns)\n",
        "display(df.head(5))\n",
        "\n",
        "# Menampilkan Feature dan Tipe Data yang digunakan\n",
        "print(\"\\n Tipe data pada Fitur yang digunakan :\")\n",
        "print(df.dtypes)\n",
        "\n",
        "# Mendefinisikan variable baru untuk menampung Feature\n",
        "train_cols = [\"Open\",\"High\",\"Low\",\"Close\",\"Volume\"]\n",
        "\n",
        "# Membagi dataset menjadi 80% untuk Data Latih dan 20% untuk Data Uji\n",
        "df_train, df_test = train_test_split(df, train_size=0.8, test_size=0.2, shuffle=False)\n",
        "print(\"\\nBanyaknya Data Latih : \", len(df_train))\n",
        "print(\"Banyaknya Data Uji : \", len(df_test))"
      ],
      "metadata": {
        "colab": {
          "base_uri": "https://localhost:8080/",
          "height": 484
        },
        "id": "c_Up2DaITpt4",
        "outputId": "ecde7809-dc1b-4bd2-a1bf-7dfa67b6513e"
      },
      "execution_count": 9,
      "outputs": [
        {
          "output_type": "stream",
          "name": "stdout",
          "text": [
            "['.ipynb_checkpoints', 'BBCA.JK.csv', 'ADRO.JK.csv']\n",
            "(2827, 7)\n",
            "Index(['Date', 'Open', 'High', 'Low', 'Close', 'Adj Close', 'Volume'], dtype='object')\n"
          ]
        },
        {
          "output_type": "display_data",
          "data": {
            "text/plain": [
              "         Date    Open    High     Low   Close    Adj Close       Volume\n",
              "0  2008-07-16  1500.0  1760.0  1500.0  1730.0  1188.156494  789786000.0\n",
              "1  2008-07-17  1700.0  1760.0  1700.0  1700.0  1167.552612  383602500.0\n",
              "2  2008-07-18  1640.0  1700.0  1640.0  1640.0  1126.344727   95396000.0\n",
              "3  2008-07-21  1680.0  1690.0  1640.0  1680.0  1153.816650   49749000.0\n",
              "4  2008-07-22  1670.0  1690.0  1660.0  1670.0  1146.948975   29585500.0"
            ],
            "text/html": [
              "\n",
              "  <div id=\"df-6bfb6dcb-edb6-4471-bad3-38e3b431b096\">\n",
              "    <div class=\"colab-df-container\">\n",
              "      <div>\n",
              "<style scoped>\n",
              "    .dataframe tbody tr th:only-of-type {\n",
              "        vertical-align: middle;\n",
              "    }\n",
              "\n",
              "    .dataframe tbody tr th {\n",
              "        vertical-align: top;\n",
              "    }\n",
              "\n",
              "    .dataframe thead th {\n",
              "        text-align: right;\n",
              "    }\n",
              "</style>\n",
              "<table border=\"1\" class=\"dataframe\">\n",
              "  <thead>\n",
              "    <tr style=\"text-align: right;\">\n",
              "      <th></th>\n",
              "      <th>Date</th>\n",
              "      <th>Open</th>\n",
              "      <th>High</th>\n",
              "      <th>Low</th>\n",
              "      <th>Close</th>\n",
              "      <th>Adj Close</th>\n",
              "      <th>Volume</th>\n",
              "    </tr>\n",
              "  </thead>\n",
              "  <tbody>\n",
              "    <tr>\n",
              "      <th>0</th>\n",
              "      <td>2008-07-16</td>\n",
              "      <td>1500.0</td>\n",
              "      <td>1760.0</td>\n",
              "      <td>1500.0</td>\n",
              "      <td>1730.0</td>\n",
              "      <td>1188.156494</td>\n",
              "      <td>789786000.0</td>\n",
              "    </tr>\n",
              "    <tr>\n",
              "      <th>1</th>\n",
              "      <td>2008-07-17</td>\n",
              "      <td>1700.0</td>\n",
              "      <td>1760.0</td>\n",
              "      <td>1700.0</td>\n",
              "      <td>1700.0</td>\n",
              "      <td>1167.552612</td>\n",
              "      <td>383602500.0</td>\n",
              "    </tr>\n",
              "    <tr>\n",
              "      <th>2</th>\n",
              "      <td>2008-07-18</td>\n",
              "      <td>1640.0</td>\n",
              "      <td>1700.0</td>\n",
              "      <td>1640.0</td>\n",
              "      <td>1640.0</td>\n",
              "      <td>1126.344727</td>\n",
              "      <td>95396000.0</td>\n",
              "    </tr>\n",
              "    <tr>\n",
              "      <th>3</th>\n",
              "      <td>2008-07-21</td>\n",
              "      <td>1680.0</td>\n",
              "      <td>1690.0</td>\n",
              "      <td>1640.0</td>\n",
              "      <td>1680.0</td>\n",
              "      <td>1153.816650</td>\n",
              "      <td>49749000.0</td>\n",
              "    </tr>\n",
              "    <tr>\n",
              "      <th>4</th>\n",
              "      <td>2008-07-22</td>\n",
              "      <td>1670.0</td>\n",
              "      <td>1690.0</td>\n",
              "      <td>1660.0</td>\n",
              "      <td>1670.0</td>\n",
              "      <td>1146.948975</td>\n",
              "      <td>29585500.0</td>\n",
              "    </tr>\n",
              "  </tbody>\n",
              "</table>\n",
              "</div>\n",
              "      <button class=\"colab-df-convert\" onclick=\"convertToInteractive('df-6bfb6dcb-edb6-4471-bad3-38e3b431b096')\"\n",
              "              title=\"Convert this dataframe to an interactive table.\"\n",
              "              style=\"display:none;\">\n",
              "        \n",
              "  <svg xmlns=\"http://www.w3.org/2000/svg\" height=\"24px\"viewBox=\"0 0 24 24\"\n",
              "       width=\"24px\">\n",
              "    <path d=\"M0 0h24v24H0V0z\" fill=\"none\"/>\n",
              "    <path d=\"M18.56 5.44l.94 2.06.94-2.06 2.06-.94-2.06-.94-.94-2.06-.94 2.06-2.06.94zm-11 1L8.5 8.5l.94-2.06 2.06-.94-2.06-.94L8.5 2.5l-.94 2.06-2.06.94zm10 10l.94 2.06.94-2.06 2.06-.94-2.06-.94-.94-2.06-.94 2.06-2.06.94z\"/><path d=\"M17.41 7.96l-1.37-1.37c-.4-.4-.92-.59-1.43-.59-.52 0-1.04.2-1.43.59L10.3 9.45l-7.72 7.72c-.78.78-.78 2.05 0 2.83L4 21.41c.39.39.9.59 1.41.59.51 0 1.02-.2 1.41-.59l7.78-7.78 2.81-2.81c.8-.78.8-2.07 0-2.86zM5.41 20L4 18.59l7.72-7.72 1.47 1.35L5.41 20z\"/>\n",
              "  </svg>\n",
              "      </button>\n",
              "      \n",
              "  <style>\n",
              "    .colab-df-container {\n",
              "      display:flex;\n",
              "      flex-wrap:wrap;\n",
              "      gap: 12px;\n",
              "    }\n",
              "\n",
              "    .colab-df-convert {\n",
              "      background-color: #E8F0FE;\n",
              "      border: none;\n",
              "      border-radius: 50%;\n",
              "      cursor: pointer;\n",
              "      display: none;\n",
              "      fill: #1967D2;\n",
              "      height: 32px;\n",
              "      padding: 0 0 0 0;\n",
              "      width: 32px;\n",
              "    }\n",
              "\n",
              "    .colab-df-convert:hover {\n",
              "      background-color: #E2EBFA;\n",
              "      box-shadow: 0px 1px 2px rgba(60, 64, 67, 0.3), 0px 1px 3px 1px rgba(60, 64, 67, 0.15);\n",
              "      fill: #174EA6;\n",
              "    }\n",
              "\n",
              "    [theme=dark] .colab-df-convert {\n",
              "      background-color: #3B4455;\n",
              "      fill: #D2E3FC;\n",
              "    }\n",
              "\n",
              "    [theme=dark] .colab-df-convert:hover {\n",
              "      background-color: #434B5C;\n",
              "      box-shadow: 0px 1px 3px 1px rgba(0, 0, 0, 0.15);\n",
              "      filter: drop-shadow(0px 1px 2px rgba(0, 0, 0, 0.3));\n",
              "      fill: #FFFFFF;\n",
              "    }\n",
              "  </style>\n",
              "\n",
              "      <script>\n",
              "        const buttonEl =\n",
              "          document.querySelector('#df-6bfb6dcb-edb6-4471-bad3-38e3b431b096 button.colab-df-convert');\n",
              "        buttonEl.style.display =\n",
              "          google.colab.kernel.accessAllowed ? 'block' : 'none';\n",
              "\n",
              "        async function convertToInteractive(key) {\n",
              "          const element = document.querySelector('#df-6bfb6dcb-edb6-4471-bad3-38e3b431b096');\n",
              "          const dataTable =\n",
              "            await google.colab.kernel.invokeFunction('convertToInteractive',\n",
              "                                                     [key], {});\n",
              "          if (!dataTable) return;\n",
              "\n",
              "          const docLinkHtml = 'Like what you see? Visit the ' +\n",
              "            '<a target=\"_blank\" href=https://colab.research.google.com/notebooks/data_table.ipynb>data table notebook</a>'\n",
              "            + ' to learn more about interactive tables.';\n",
              "          element.innerHTML = '';\n",
              "          dataTable['output_type'] = 'display_data';\n",
              "          await google.colab.output.renderOutput(dataTable, element);\n",
              "          const docLink = document.createElement('div');\n",
              "          docLink.innerHTML = docLinkHtml;\n",
              "          element.appendChild(docLink);\n",
              "        }\n",
              "      </script>\n",
              "    </div>\n",
              "  </div>\n",
              "  "
            ]
          },
          "metadata": {}
        },
        {
          "output_type": "stream",
          "name": "stdout",
          "text": [
            "\n",
            " Tipe data pada Fitur yang digunakan :\n",
            "Date          object\n",
            "Open         float64\n",
            "High         float64\n",
            "Low          float64\n",
            "Close        float64\n",
            "Adj Close    float64\n",
            "Volume       float64\n",
            "dtype: object\n",
            "\n",
            "Banyaknya Data Latih :  2261\n",
            "Banyaknya Data Uji :  566\n"
          ]
        }
      ]
    },
    {
      "cell_type": "code",
      "source": [
        "# Split skip 2 hari untuk prediksi tanggal 4, dimulai dari tanggal 2 januari, 27 desember dll\n",
        "df2 = df.iloc[::2]\n",
        "df2_train, df2_test = train_test_split(df2, train_size=0.8, test_size=0.2, shuffle=False)\n",
        "print(\"\\nBanyaknya Data Latih : \", len(df2_train))\n",
        "print(\"Banyaknya Data Uji : \", len(df2_test))\n",
        "df2.tail()"
      ],
      "metadata": {
        "colab": {
          "base_uri": "https://localhost:8080/",
          "height": 258
        },
        "id": "G-gl2aaEWy7S",
        "outputId": "79d2f0d3-5926-44da-e2b7-b755a478e8df"
      },
      "execution_count": 10,
      "outputs": [
        {
          "output_type": "stream",
          "name": "stdout",
          "text": [
            "\n",
            "Banyaknya Data Latih :  1131\n",
            "Banyaknya Data Uji :  283\n"
          ]
        },
        {
          "output_type": "execute_result",
          "data": {
            "text/plain": [
              "            Date    Open    High     Low   Close    Adj Close       Volume\n",
              "2818  2019-12-17  1660.0  1665.0  1525.0  1655.0  1654.994751  152206000.0\n",
              "2820  2019-12-19  1610.0  1625.0  1545.0  1595.0  1594.994995   75920100.0\n",
              "2822  2019-12-23  1540.0  1590.0  1540.0  1580.0  1579.994995   51031300.0\n",
              "2824  2019-12-27  1590.0  1610.0  1575.0  1580.0  1579.994995   31331800.0\n",
              "2826  2020-01-02  1555.0  1555.0  1490.0  1495.0  1494.995239   76612000.0"
            ],
            "text/html": [
              "\n",
              "  <div id=\"df-d59eaa8c-5393-490b-bacd-5944369e8787\">\n",
              "    <div class=\"colab-df-container\">\n",
              "      <div>\n",
              "<style scoped>\n",
              "    .dataframe tbody tr th:only-of-type {\n",
              "        vertical-align: middle;\n",
              "    }\n",
              "\n",
              "    .dataframe tbody tr th {\n",
              "        vertical-align: top;\n",
              "    }\n",
              "\n",
              "    .dataframe thead th {\n",
              "        text-align: right;\n",
              "    }\n",
              "</style>\n",
              "<table border=\"1\" class=\"dataframe\">\n",
              "  <thead>\n",
              "    <tr style=\"text-align: right;\">\n",
              "      <th></th>\n",
              "      <th>Date</th>\n",
              "      <th>Open</th>\n",
              "      <th>High</th>\n",
              "      <th>Low</th>\n",
              "      <th>Close</th>\n",
              "      <th>Adj Close</th>\n",
              "      <th>Volume</th>\n",
              "    </tr>\n",
              "  </thead>\n",
              "  <tbody>\n",
              "    <tr>\n",
              "      <th>2818</th>\n",
              "      <td>2019-12-17</td>\n",
              "      <td>1660.0</td>\n",
              "      <td>1665.0</td>\n",
              "      <td>1525.0</td>\n",
              "      <td>1655.0</td>\n",
              "      <td>1654.994751</td>\n",
              "      <td>152206000.0</td>\n",
              "    </tr>\n",
              "    <tr>\n",
              "      <th>2820</th>\n",
              "      <td>2019-12-19</td>\n",
              "      <td>1610.0</td>\n",
              "      <td>1625.0</td>\n",
              "      <td>1545.0</td>\n",
              "      <td>1595.0</td>\n",
              "      <td>1594.994995</td>\n",
              "      <td>75920100.0</td>\n",
              "    </tr>\n",
              "    <tr>\n",
              "      <th>2822</th>\n",
              "      <td>2019-12-23</td>\n",
              "      <td>1540.0</td>\n",
              "      <td>1590.0</td>\n",
              "      <td>1540.0</td>\n",
              "      <td>1580.0</td>\n",
              "      <td>1579.994995</td>\n",
              "      <td>51031300.0</td>\n",
              "    </tr>\n",
              "    <tr>\n",
              "      <th>2824</th>\n",
              "      <td>2019-12-27</td>\n",
              "      <td>1590.0</td>\n",
              "      <td>1610.0</td>\n",
              "      <td>1575.0</td>\n",
              "      <td>1580.0</td>\n",
              "      <td>1579.994995</td>\n",
              "      <td>31331800.0</td>\n",
              "    </tr>\n",
              "    <tr>\n",
              "      <th>2826</th>\n",
              "      <td>2020-01-02</td>\n",
              "      <td>1555.0</td>\n",
              "      <td>1555.0</td>\n",
              "      <td>1490.0</td>\n",
              "      <td>1495.0</td>\n",
              "      <td>1494.995239</td>\n",
              "      <td>76612000.0</td>\n",
              "    </tr>\n",
              "  </tbody>\n",
              "</table>\n",
              "</div>\n",
              "      <button class=\"colab-df-convert\" onclick=\"convertToInteractive('df-d59eaa8c-5393-490b-bacd-5944369e8787')\"\n",
              "              title=\"Convert this dataframe to an interactive table.\"\n",
              "              style=\"display:none;\">\n",
              "        \n",
              "  <svg xmlns=\"http://www.w3.org/2000/svg\" height=\"24px\"viewBox=\"0 0 24 24\"\n",
              "       width=\"24px\">\n",
              "    <path d=\"M0 0h24v24H0V0z\" fill=\"none\"/>\n",
              "    <path d=\"M18.56 5.44l.94 2.06.94-2.06 2.06-.94-2.06-.94-.94-2.06-.94 2.06-2.06.94zm-11 1L8.5 8.5l.94-2.06 2.06-.94-2.06-.94L8.5 2.5l-.94 2.06-2.06.94zm10 10l.94 2.06.94-2.06 2.06-.94-2.06-.94-.94-2.06-.94 2.06-2.06.94z\"/><path d=\"M17.41 7.96l-1.37-1.37c-.4-.4-.92-.59-1.43-.59-.52 0-1.04.2-1.43.59L10.3 9.45l-7.72 7.72c-.78.78-.78 2.05 0 2.83L4 21.41c.39.39.9.59 1.41.59.51 0 1.02-.2 1.41-.59l7.78-7.78 2.81-2.81c.8-.78.8-2.07 0-2.86zM5.41 20L4 18.59l7.72-7.72 1.47 1.35L5.41 20z\"/>\n",
              "  </svg>\n",
              "      </button>\n",
              "      \n",
              "  <style>\n",
              "    .colab-df-container {\n",
              "      display:flex;\n",
              "      flex-wrap:wrap;\n",
              "      gap: 12px;\n",
              "    }\n",
              "\n",
              "    .colab-df-convert {\n",
              "      background-color: #E8F0FE;\n",
              "      border: none;\n",
              "      border-radius: 50%;\n",
              "      cursor: pointer;\n",
              "      display: none;\n",
              "      fill: #1967D2;\n",
              "      height: 32px;\n",
              "      padding: 0 0 0 0;\n",
              "      width: 32px;\n",
              "    }\n",
              "\n",
              "    .colab-df-convert:hover {\n",
              "      background-color: #E2EBFA;\n",
              "      box-shadow: 0px 1px 2px rgba(60, 64, 67, 0.3), 0px 1px 3px 1px rgba(60, 64, 67, 0.15);\n",
              "      fill: #174EA6;\n",
              "    }\n",
              "\n",
              "    [theme=dark] .colab-df-convert {\n",
              "      background-color: #3B4455;\n",
              "      fill: #D2E3FC;\n",
              "    }\n",
              "\n",
              "    [theme=dark] .colab-df-convert:hover {\n",
              "      background-color: #434B5C;\n",
              "      box-shadow: 0px 1px 3px 1px rgba(0, 0, 0, 0.15);\n",
              "      filter: drop-shadow(0px 1px 2px rgba(0, 0, 0, 0.3));\n",
              "      fill: #FFFFFF;\n",
              "    }\n",
              "  </style>\n",
              "\n",
              "      <script>\n",
              "        const buttonEl =\n",
              "          document.querySelector('#df-d59eaa8c-5393-490b-bacd-5944369e8787 button.colab-df-convert');\n",
              "        buttonEl.style.display =\n",
              "          google.colab.kernel.accessAllowed ? 'block' : 'none';\n",
              "\n",
              "        async function convertToInteractive(key) {\n",
              "          const element = document.querySelector('#df-d59eaa8c-5393-490b-bacd-5944369e8787');\n",
              "          const dataTable =\n",
              "            await google.colab.kernel.invokeFunction('convertToInteractive',\n",
              "                                                     [key], {});\n",
              "          if (!dataTable) return;\n",
              "\n",
              "          const docLinkHtml = 'Like what you see? Visit the ' +\n",
              "            '<a target=\"_blank\" href=https://colab.research.google.com/notebooks/data_table.ipynb>data table notebook</a>'\n",
              "            + ' to learn more about interactive tables.';\n",
              "          element.innerHTML = '';\n",
              "          dataTable['output_type'] = 'display_data';\n",
              "          await google.colab.output.renderOutput(dataTable, element);\n",
              "          const docLink = document.createElement('div');\n",
              "          docLink.innerHTML = docLinkHtml;\n",
              "          element.appendChild(docLink);\n",
              "        }\n",
              "      </script>\n",
              "    </div>\n",
              "  </div>\n",
              "  "
            ]
          },
          "metadata": {},
          "execution_count": 10
        }
      ]
    },
    {
      "cell_type": "code",
      "source": [
        "# Split skip 2 hari untuk prediksi tanggal 5, dimulai dari tanggal 3 januari, 30 desember dll\n",
        "df3 = df.iloc[1::2]\n",
        "df3_train, df3_test = train_test_split(df3, train_size=0.8, test_size=0.2, shuffle=False)\n",
        "print(\"\\nBanyaknya Data Latih : \", len(df3_train))\n",
        "print(\"Banyaknya Data Uji : \", len(df3_test))\n",
        "df3.tail()"
      ],
      "metadata": {
        "colab": {
          "base_uri": "https://localhost:8080/",
          "height": 258
        },
        "id": "lgkeHsvFW8qO",
        "outputId": "820fd2c3-4ee6-4b6a-d501-6e9da4cc8bae"
      },
      "execution_count": 11,
      "outputs": [
        {
          "output_type": "stream",
          "name": "stdout",
          "text": [
            "\n",
            "Banyaknya Data Latih :  1130\n",
            "Banyaknya Data Uji :  283\n"
          ]
        },
        {
          "output_type": "execute_result",
          "data": {
            "text/plain": [
              "            Date    Open    High     Low   Close    Adj Close       Volume\n",
              "2817  2019-12-16  1595.0  1715.0  1590.0  1640.0  1639.994873  143379600.0\n",
              "2819  2019-12-18  1655.0  1655.0  1595.0  1610.0  1609.994873   68583400.0\n",
              "2821  2019-12-20  1605.0  1605.0  1505.0  1540.0  1539.995117   88766700.0\n",
              "2823  2019-12-26  1590.0  1620.0  1570.0  1585.0  1584.994995   41404600.0\n",
              "2825  2019-12-30  1565.0  1590.0  1555.0  1555.0  1554.995117   49275500.0"
            ],
            "text/html": [
              "\n",
              "  <div id=\"df-a494728b-e658-4e4f-8637-0793e2225f78\">\n",
              "    <div class=\"colab-df-container\">\n",
              "      <div>\n",
              "<style scoped>\n",
              "    .dataframe tbody tr th:only-of-type {\n",
              "        vertical-align: middle;\n",
              "    }\n",
              "\n",
              "    .dataframe tbody tr th {\n",
              "        vertical-align: top;\n",
              "    }\n",
              "\n",
              "    .dataframe thead th {\n",
              "        text-align: right;\n",
              "    }\n",
              "</style>\n",
              "<table border=\"1\" class=\"dataframe\">\n",
              "  <thead>\n",
              "    <tr style=\"text-align: right;\">\n",
              "      <th></th>\n",
              "      <th>Date</th>\n",
              "      <th>Open</th>\n",
              "      <th>High</th>\n",
              "      <th>Low</th>\n",
              "      <th>Close</th>\n",
              "      <th>Adj Close</th>\n",
              "      <th>Volume</th>\n",
              "    </tr>\n",
              "  </thead>\n",
              "  <tbody>\n",
              "    <tr>\n",
              "      <th>2817</th>\n",
              "      <td>2019-12-16</td>\n",
              "      <td>1595.0</td>\n",
              "      <td>1715.0</td>\n",
              "      <td>1590.0</td>\n",
              "      <td>1640.0</td>\n",
              "      <td>1639.994873</td>\n",
              "      <td>143379600.0</td>\n",
              "    </tr>\n",
              "    <tr>\n",
              "      <th>2819</th>\n",
              "      <td>2019-12-18</td>\n",
              "      <td>1655.0</td>\n",
              "      <td>1655.0</td>\n",
              "      <td>1595.0</td>\n",
              "      <td>1610.0</td>\n",
              "      <td>1609.994873</td>\n",
              "      <td>68583400.0</td>\n",
              "    </tr>\n",
              "    <tr>\n",
              "      <th>2821</th>\n",
              "      <td>2019-12-20</td>\n",
              "      <td>1605.0</td>\n",
              "      <td>1605.0</td>\n",
              "      <td>1505.0</td>\n",
              "      <td>1540.0</td>\n",
              "      <td>1539.995117</td>\n",
              "      <td>88766700.0</td>\n",
              "    </tr>\n",
              "    <tr>\n",
              "      <th>2823</th>\n",
              "      <td>2019-12-26</td>\n",
              "      <td>1590.0</td>\n",
              "      <td>1620.0</td>\n",
              "      <td>1570.0</td>\n",
              "      <td>1585.0</td>\n",
              "      <td>1584.994995</td>\n",
              "      <td>41404600.0</td>\n",
              "    </tr>\n",
              "    <tr>\n",
              "      <th>2825</th>\n",
              "      <td>2019-12-30</td>\n",
              "      <td>1565.0</td>\n",
              "      <td>1590.0</td>\n",
              "      <td>1555.0</td>\n",
              "      <td>1555.0</td>\n",
              "      <td>1554.995117</td>\n",
              "      <td>49275500.0</td>\n",
              "    </tr>\n",
              "  </tbody>\n",
              "</table>\n",
              "</div>\n",
              "      <button class=\"colab-df-convert\" onclick=\"convertToInteractive('df-a494728b-e658-4e4f-8637-0793e2225f78')\"\n",
              "              title=\"Convert this dataframe to an interactive table.\"\n",
              "              style=\"display:none;\">\n",
              "        \n",
              "  <svg xmlns=\"http://www.w3.org/2000/svg\" height=\"24px\"viewBox=\"0 0 24 24\"\n",
              "       width=\"24px\">\n",
              "    <path d=\"M0 0h24v24H0V0z\" fill=\"none\"/>\n",
              "    <path d=\"M18.56 5.44l.94 2.06.94-2.06 2.06-.94-2.06-.94-.94-2.06-.94 2.06-2.06.94zm-11 1L8.5 8.5l.94-2.06 2.06-.94-2.06-.94L8.5 2.5l-.94 2.06-2.06.94zm10 10l.94 2.06.94-2.06 2.06-.94-2.06-.94-.94-2.06-.94 2.06-2.06.94z\"/><path d=\"M17.41 7.96l-1.37-1.37c-.4-.4-.92-.59-1.43-.59-.52 0-1.04.2-1.43.59L10.3 9.45l-7.72 7.72c-.78.78-.78 2.05 0 2.83L4 21.41c.39.39.9.59 1.41.59.51 0 1.02-.2 1.41-.59l7.78-7.78 2.81-2.81c.8-.78.8-2.07 0-2.86zM5.41 20L4 18.59l7.72-7.72 1.47 1.35L5.41 20z\"/>\n",
              "  </svg>\n",
              "      </button>\n",
              "      \n",
              "  <style>\n",
              "    .colab-df-container {\n",
              "      display:flex;\n",
              "      flex-wrap:wrap;\n",
              "      gap: 12px;\n",
              "    }\n",
              "\n",
              "    .colab-df-convert {\n",
              "      background-color: #E8F0FE;\n",
              "      border: none;\n",
              "      border-radius: 50%;\n",
              "      cursor: pointer;\n",
              "      display: none;\n",
              "      fill: #1967D2;\n",
              "      height: 32px;\n",
              "      padding: 0 0 0 0;\n",
              "      width: 32px;\n",
              "    }\n",
              "\n",
              "    .colab-df-convert:hover {\n",
              "      background-color: #E2EBFA;\n",
              "      box-shadow: 0px 1px 2px rgba(60, 64, 67, 0.3), 0px 1px 3px 1px rgba(60, 64, 67, 0.15);\n",
              "      fill: #174EA6;\n",
              "    }\n",
              "\n",
              "    [theme=dark] .colab-df-convert {\n",
              "      background-color: #3B4455;\n",
              "      fill: #D2E3FC;\n",
              "    }\n",
              "\n",
              "    [theme=dark] .colab-df-convert:hover {\n",
              "      background-color: #434B5C;\n",
              "      box-shadow: 0px 1px 3px 1px rgba(0, 0, 0, 0.15);\n",
              "      filter: drop-shadow(0px 1px 2px rgba(0, 0, 0, 0.3));\n",
              "      fill: #FFFFFF;\n",
              "    }\n",
              "  </style>\n",
              "\n",
              "      <script>\n",
              "        const buttonEl =\n",
              "          document.querySelector('#df-a494728b-e658-4e4f-8637-0793e2225f78 button.colab-df-convert');\n",
              "        buttonEl.style.display =\n",
              "          google.colab.kernel.accessAllowed ? 'block' : 'none';\n",
              "\n",
              "        async function convertToInteractive(key) {\n",
              "          const element = document.querySelector('#df-a494728b-e658-4e4f-8637-0793e2225f78');\n",
              "          const dataTable =\n",
              "            await google.colab.kernel.invokeFunction('convertToInteractive',\n",
              "                                                     [key], {});\n",
              "          if (!dataTable) return;\n",
              "\n",
              "          const docLinkHtml = 'Like what you see? Visit the ' +\n",
              "            '<a target=\"_blank\" href=https://colab.research.google.com/notebooks/data_table.ipynb>data table notebook</a>'\n",
              "            + ' to learn more about interactive tables.';\n",
              "          element.innerHTML = '';\n",
              "          dataTable['output_type'] = 'display_data';\n",
              "          await google.colab.output.renderOutput(dataTable, element);\n",
              "          const docLink = document.createElement('div');\n",
              "          docLink.innerHTML = docLinkHtml;\n",
              "          element.appendChild(docLink);\n",
              "        }\n",
              "      </script>\n",
              "    </div>\n",
              "  </div>\n",
              "  "
            ]
          },
          "metadata": {},
          "execution_count": 11
        }
      ]
    },
    {
      "cell_type": "markdown",
      "source": [
        "# Visualisasi terhadap dataset "
      ],
      "metadata": {
        "id": "1zOv5C6R34Nw"
      }
    },
    {
      "cell_type": "code",
      "source": [
        "import plotly.graph_objects as go\n",
        "import pandas as pd\n",
        "from datetime import datetime\n",
        "\n",
        "fig = go.Figure(data=[go.Candlestick(x=df['Date'],\n",
        "                open=df['Open'],\n",
        "                high=df['High'],\n",
        "                low=df['Low'],\n",
        "                close=df['Close'])])\n",
        "fig.show()"
      ],
      "metadata": {
        "colab": {
          "base_uri": "https://localhost:8080/",
          "height": 542
        },
        "id": "uYK3Nq_8XD79",
        "outputId": "ef705bb2-254e-4591-870a-7be49b7aeddf"
      },
      "execution_count": 12,
      "outputs": [
        {
          "output_type": "display_data",
          "data": {
            "text/html": [
              "<html>\n",
              "<head><meta charset=\"utf-8\" /></head>\n",
              "<body>\n",
              "    <div>            <script src=\"https://cdnjs.cloudflare.com/ajax/libs/mathjax/2.7.5/MathJax.js?config=TeX-AMS-MML_SVG\"></script><script type=\"text/javascript\">if (window.MathJax && window.MathJax.Hub && window.MathJax.Hub.Config) {window.MathJax.Hub.Config({SVG: {font: \"STIX-Web\"}});}</script>                <script type=\"text/javascript\">window.PlotlyConfig = {MathJaxConfig: 'local'};</script>\n",
              "        <script src=\"https://cdn.plot.ly/plotly-2.18.2.min.js\"></script>                <div id=\"6640e189-7d1d-4720-9dbd-fe8cc9f4fbaf\" class=\"plotly-graph-div\" style=\"height:525px; width:100%;\"></div>            <script type=\"text/javascript\">                                    window.PLOTLYENV=window.PLOTLYENV || {};                                    if (document.getElementById(\"6640e189-7d1d-4720-9dbd-fe8cc9f4fbaf\")) {                    Plotly.newPlot(                        \"6640e189-7d1d-4720-9dbd-fe8cc9f4fbaf\",                        [{\"close\":[1730.0,1700.0,1640.0,1680.0,1670.0,1660.0,1630.0,1630.0,1670.0,1680.0,1690.0,1630.0,1590.0,1550.0,1540.0,1560.0,1600.0,1540.0,1510.0,1500.0,1520.0,1530.0,1490.0,1530.0,1530.0,1560.0,1540.0,1540.0,1530.0,1530.0,1540.0,1530.0,1510.0,1480.0,1490.0,1450.0,1450.0,1410.0,1410.0,1400.0,1390.0,1360.0,1320.0,1350.0,1430.0,1510.0,1510.0,1510.0,1510.0,1490.0,1440.0,1210.0,1000.0,810.0,730.0,730.0,730.0,740.0,740.0,790.0,760.0,730.0,690.0,700.0,630.0,570.0,520.0,570.0,680.0,810.0,810.0,770.0,700.0,660.0,620.0,640.0,640.0,580.0,560.0,530.0,520.0,500.0,490.0,480.0,470.0,480.0,530.0,500.0,520.0,510.0,470.0,470.0,495.0,475.0,490.0,520.0,530.0,500.0,490.0,500.0,510.0,500.0,480.0,485.0,485.0,490.0,485.0,520.0,510.0,520.0,500.0,510.0,550.0,660.0,680.0,660.0,670.0,650.0,630.0,640.0,640.0,640.0,690.0,690.0,720.0,740.0,730.0,730.0,770.0,820.0,870.0,830.0,850.0,860.0,850.0,840.0,830.0,800.0,820.0,810.0,790.0,800.0,780.0,780.0,770.0,770.0,730.0,720.0,760.0,760.0,750.0,770.0,770.0,770.0,770.0,750.0,740.0,740.0,740.0,780.0,820.0,890.0,890.0,940.0,890.0,880.0,890.0,890.0,890.0,910.0,900.0,900.0,950.0,970.0,970.0,950.0,950.0,980.0,970.0,1010.0,1000.0,1020.0,1000.0,1010.0,1020.0,1060.0,1140.0,1130.0,1160.0,1200.0,1180.0,1180.0,1170.0,1180.0,1100.0,1070.0,1080.0,1120.0,1130.0,1280.0,1310.0,1230.0,1280.0,1290.0,1340.0,1380.0,1370.0,1300.0,1340.0,1320.0,1290.0,1300.0,1310.0,1310.0,1300.0,1260.0,1260.0,1240.0,1180.0,1240.0,1180.0,1080.0,1180.0,1250.0,1240.0,1220.0,1200.0,1200.0,1180.0,1170.0,1130.0,1190.0,1150.0,1140.0,1100.0,1160.0,1180.0,1160.0,1150.0,1200.0,1180.0,1200.0,1210.0,1250.0,1270.0,1240.0,1260.0,1280.0,1280.0,1330.0,1360.0,1460.0,1450.0,1480.0,1460.0,1410.0,1460.0,1450.0,1420.0,1330.0,1410.0,1390.0,1440.0,1390.0,1390.0,1350.0,1350.0,1360.0,1360.0,1350.0,1350.0,1340.0,1330.0,1380.0,1360.0,1370.0,1370.0,1350.0,1350.0,1370.0,1390.0,1400.0,1400.0,1410.0,1420.0,1430.0,1420.0,1400.0,1420.0,1440.0,1410.0,1390.0,1400.0,1380.0,1390.0,1430.0,1450.0,1460.0,1530.0,1510.0,1560.0,1520.0,1620.0,1600.0,1570.0,1520.0,1540.0,1540.0,1580.0,1510.0,1560.0,1540.0,1540.0,1540.0,1510.0,1550.0,1620.0,1710.0,1710.0,1700.0,1700.0,1680.0,1700.0,1770.0,1710.0,1720.0,1670.0,1740.0,1740.0,1730.0,1730.0,1750.0,1750.0,1700.0,1740.0,1730.0,1750.0,1740.0,1730.0,1750.0,1720.0,1680.0,1710.0,1700.0,1720.0,1730.0,1730.0,1750.0,1790.0,1800.0,1840.0,1960.0,1980.0,1960.0,1960.0,2050.0,1990.0,1990.0,1990.0,1970.0,1960.0,1940.0,1940.0,1880.0,1840.0,1900.0,1890.0,1850.0,1860.0,1920.0,1930.0,1860.0,1840.0,1830.0,1790.0,1810.0,1840.0,1830.0,1860.0,1860.0,1810.0,1800.0,1810.0,1840.0,1860.0,1830.0,1840.0,1830.0,1840.0,1840.0,1850.0,1860.0,1870.0,1890.0,1890.0,1880.0,1870.0,1920.0,1900.0,1880.0,1840.0,1830.0,1880.0,1860.0,1870.0,1890.0,1910.0,1960.0,2025.0,2075.0,2100.0,2150.0,2100.0,2125.0,2150.0,2175.0,2150.0,2200.0,2225.0,2175.0,2200.0,2200.0,2250.0,2200.0,2200.0,2200.0,2150.0,2125.0,2200.0,2125.0,2125.0,1980.0,2000.0,1930.0,2000.0,2050.0,2100.0,2075.0,2050.0,2050.0,1950.0,1920.0,1840.0,1800.0,1720.0,1890.0,1910.0,2000.0,1920.0,1930.0,1950.0,1940.0,1840.0,1850.0,1860.0,1860.0,1870.0,1890.0,1880.0,1970.0,1980.0,1980.0,2075.0,2000.0,2025.0,1990.0,2025.0,2050.0,1970.0,1990.0,1970.0,1990.0,1990.0,2025.0,1990.0,2025.0,2050.0,2025.0,2025.0,2050.0,2025.0,2025.0,1990.0,2000.0,2025.0,2025.0,2050.0,2025.0,2025.0,2075.0,2050.0,2000.0,2050.0,2025.0,2025.0,2050.0,2125.0,2125.0,2100.0,2075.0,2050.0,2075.0,2050.0,2100.0,2100.0,2100.0,2075.0,2050.0,2050.0,2025.0,1990.0,1980.0,1900.0,1870.0,1790.0,1840.0,1920.0,1940.0,2000.0,2100.0,2150.0,2050.0,2025.0,1980.0,1980.0,2025.0,2075.0,2050.0,2050.0,2025.0,2050.0,2025.0,2050.0,2100.0,2050.0,2050.0,2075.0,2050.0,2100.0,2175.0,2225.0,2175.0,2175.0,2125.0,2125.0,2250.0,2175.0,2200.0,2100.0,2125.0,2100.0,2125.0,2125.0,2150.0,2225.0,2275.0,2350.0,2500.0,2400.0,2450.0,2400.0,2400.0,2475.0,2450.0,2450.0,2450.0,2425.0,2400.0,2350.0,2325.0,2300.0,2325.0,2375.0,2400.0,2375.0,2475.0,2625.0,2625.0,2600.0,2575.0,2550.0,2550.0,2525.0,2300.0,2500.0,2550.0,2475.0,2525.0,2525.0,2500.0,2525.0,2550.0,2675.0,2875.0,2850.0,2775.0,2700.0,2500.0,2475.0,2625.0,2625.0,2625.0,2575.0,2675.0,2650.0,2450.0,2350.0,2350.0,2475.0,2400.0,2425.0,2375.0,2250.0,2400.0,2500.0,2450.0,2400.0,2350.0,2300.0,2300.0,2375.0,2425.0,2375.0,2375.0,2425.0,2475.0,2375.0,2450.0,2450.0,2475.0,2450.0,2425.0,2350.0,2325.0,2375.0,2375.0,2400.0,2350.0,2325.0,2325.0,2400.0,2400.0,2375.0,2375.0,2375.0,2325.0,2225.0,2275.0,2275.0,2300.0,2275.0,2225.0,2200.0,2275.0,2350.0,2300.0,2350.0,2325.0,2300.0,2300.0,2275.0,2275.0,2250.0,2275.0,2225.0,2225.0,2250.0,2225.0,2250.0,2225.0,2200.0,2225.0,2200.0,2225.0,2225.0,2250.0,2325.0,2300.0,2325.0,2300.0,2325.0,2250.0,2275.0,2250.0,2350.0,2375.0,2375.0,2325.0,2325.0,2375.0,2375.0,2400.0,2375.0,2450.0,2425.0,2450.0,2475.0,2475.0,2450.0,2450.0,2400.0,2400.0,2425.0,2400.0,2350.0,2275.0,2300.0,2375.0,2375.0,2350.0,2375.0,2375.0,2400.0,2450.0,2500.0,2500.0,2525.0,2550.0,2600.0,2575.0,2475.0,2525.0,2500.0,2550.0,2600.0,2575.0,2575.0,2525.0,2525.0,2500.0,2575.0,2600.0,2675.0,2650.0,2675.0,2650.0,2600.0,2600.0,2375.0,2325.0,2175.0,2450.0,2325.0,2325.0,2350.0,2350.0,2400.0,2250.0,2225.0,2250.0,2125.0,2100.0,2025.0,1990.0,2025.0,2075.0,2050.0,2025.0,1970.0,1970.0,1960.0,1940.0,1980.0,1940.0,1920.0,1900.0,1710.0,1650.0,1520.0,1630.0,1690.0,1730.0,1720.0,1610.0,1530.0,1530.0,1680.0,1680.0,1670.0,1780.0,1860.0,1860.0,1900.0,1960.0,1880.0,1980.0,1900.0,1910.0,1950.0,2000.0,2000.0,2075.0,2125.0,2025.0,1990.0,2050.0,2000.0,2050.0,2075.0,2075.0,2150.0,2075.0,2050.0,2050.0,2000.0,2025.0,2000.0,1960.0,1880.0,1920.0,1910.0,1910.0,1870.0,1900.0,1900.0,1910.0,1910.0,1970.0,1970.0,1970.0,2000.0,1990.0,1920.0,1930.0,1880.0,1860.0,1820.0,1840.0,1840.0,1730.0,1760.0,1760.0,1770.0,1780.0,1770.0,1760.0,1770.0,1760.0,1810.0,1830.0,1790.0,1770.0,1780.0,1820.0,1810.0,1810.0,1810.0,1780.0,1800.0,1820.0,1830.0,1820.0,1830.0,1840.0,1840.0,1860.0,1820.0,1830.0,1870.0,1960.0,1920.0,1940.0,1980.0,2000.0,1980.0,1930.0,1950.0,1920.0,1950.0,1920.0,1980.0,1990.0,1990.0,2000.0,1960.0,1920.0,1890.0,1900.0,1920.0,1900.0,1970.0,1950.0,1930.0,1920.0,1930.0,1920.0,1950.0,1940.0,1970.0,1940.0,1920.0,1910.0,1920.0,1900.0,1900.0,1890.0,1890.0,1930.0,1920.0,1930.0,1960.0,1960.0,1910.0,1910.0,1900.0,1880.0,1830.0,1810.0,1830.0,1820.0,1810.0,1820.0,1810.0,1800.0,1800.0,1830.0,1820.0,1810.0,1810.0,1860.0,1870.0,1870.0,1840.0,1810.0,1770.0,1760.0,1760.0,1760.0,1730.0,1730.0,1680.0,1650.0,1650.0,1700.0,1650.0,1650.0,1620.0,1610.0,1610.0,1590.0,1470.0,1380.0,1200.0,1220.0,1270.0,1300.0,1260.0,1270.0,1230.0,1230.0,1210.0,1240.0,1270.0,1330.0,1420.0,1420.0,1370.0,1330.0,1390.0,1400.0,1360.0,1450.0,1560.0,1550.0,1620.0,1590.0,1570.0,1480.0,1440.0,1420.0,1370.0,1380.0,1420.0,1420.0,1410.0,1420.0,1420.0,1370.0,1360.0,1350.0,1360.0,1430.0,1440.0,1460.0,1510.0,1520.0,1520.0,1590.0,1550.0,1500.0,1540.0,1560.0,1520.0,1540.0,1570.0,1520.0,1450.0,1410.0,1430.0,1400.0,1360.0,1350.0,1370.0,1390.0,1380.0,1360.0,1360.0,1400.0,1430.0,1440.0,1500.0,1510.0,1590.0,1590.0,1550.0,1570.0,1530.0,1550.0,1480.0,1500.0,1490.0,1490.0,1500.0,1480.0,1480.0,1450.0,1430.0,1460.0,1440.0,1440.0,1440.0,1420.0,1410.0,1390.0,1400.0,1410.0,1390.0,1350.0,1400.0,1410.0,1390.0,1400.0,1390.0,1380.0,1370.0,1370.0,1370.0,1350.0,1390.0,1410.0,1390.0,1410.0,1420.0,1420.0,1430.0,1400.0,1390.0,1380.0,1370.0,1350.0,1350.0,1360.0,1390.0,1350.0,1340.0,1320.0,1340.0,1370.0,1370.0,1380.0,1390.0,1410.0,1460.0,1600.0,1570.0,1590.0,1590.0,1580.0,1560.0,1570.0,1600.0,1590.0,1590.0,1740.0,1750.0,1750.0,1730.0,1740.0,1730.0,1750.0,1660.0,1690.0,1690.0,1700.0,1670.0,1690.0,1650.0,1620.0,1630.0,1700.0,1670.0,1680.0,1680.0,1650.0,1640.0,1610.0,1570.0,1600.0,1570.0,1570.0,1570.0,1580.0,1600.0,1630.0,1630.0,1620.0,1590.0,1600.0,1580.0,1580.0,1600.0,1560.0,1600.0,1570.0,1560.0,1560.0,1500.0,1550.0,1530.0,1540.0,1540.0,1510.0,1490.0,1540.0,1490.0,1460.0,1400.0,1350.0,1290.0,1260.0,1290.0,1310.0,1310.0,1300.0,1320.0,1320.0,1300.0,1290.0,1270.0,1260.0,1280.0,1290.0,1290.0,1270.0,1250.0,1270.0,1280.0,1260.0,1230.0,1220.0,1240.0,1220.0,1230.0,1230.0,1230.0,1200.0,1200.0,1200.0,1200.0,1210.0,1200.0,1190.0,1170.0,1150.0,1090.0,1050.0,1100.0,1120.0,1110.0,1110.0,1060.0,1070.0,1030.0,1030.0,990.0,950.0,930.0,890.0,910.0,910.0,840.0,860.0,820.0,830.0,830.0,840.0,850.0,850.0,810.0,790.0,830.0,770.0,770.0,810.0,800.0,860.0,830.0,800.0,770.0,770.0,790.0,760.0,740.0,720.0,700.0,710.0,700.0,690.0,700.0,710.0,700.0,700.0,710.0,720.0,710.0,710.0,700.0,710.0,700.0,680.0,650.0,770.0,790.0,770.0,790.0,800.0,740.0,710.0,720.0,850.0,850.0,870.0,860.0,870.0,910.0,930.0,960.0,970.0,960.0,990.0,990.0,1010.0,910.0,950.0,970.0,940.0,950.0,950.0,950.0,970.0,960.0,960.0,930.0,930.0,920.0,910.0,900.0,890.0,900.0,940.0,900.0,910.0,920.0,990.0,990.0,990.0,970.0,1040.0,1120.0,1070.0,1070.0,1060.0,1070.0,1060.0,1040.0,1020.0,1050.0,1020.0,1040.0,1060.0,1030.0,1080.0,1160.0,1190.0,1150.0,1140.0,1180.0,1170.0,1220.0,1190.0,1170.0,1150.0,1180.0,1210.0,1140.0,1130.0,1120.0,1130.0,1140.0,1120.0,1170.0,1190.0,1170.0,1200.0,1230.0,1220.0,1180.0,1160.0,1110.0,1130.0,1150.0,1150.0,1130.0,1120.0,1120.0,1080.0,1090.0,1060.0,1010.0,930.0,880.0,940.0,945.0,940.0,955.0,950.0,975.0,975.0,975.0,980.0,1025.0,1025.0,1040.0,965.0,935.0,955.0,950.0,910.0,895.0,905.0,910.0,905.0,910.0,945.0,940.0,935.0,945.0,975.0,955.0,950.0,975.0,970.0,970.0,940.0,935.0,950.0,995.0,980.0,1015.0,1020.0,1020.0,1015.0,1000.0,965.0,945.0,970.0,970.0,980.0,975.0,1000.0,960.0,990.0,975.0,980.0,975.0,970.0,980.0,985.0,980.0,985.0,970.0,980.0,970.0,970.0,955.0,1010.0,1010.0,970.0,985.0,980.0,975.0,1010.0,1070.0,1085.0,1090.0,1135.0,1125.0,1185.0,1140.0,1165.0,1180.0,1135.0,1100.0,1120.0,1195.0,1230.0,1235.0,1245.0,1275.0,1300.0,1285.0,1300.0,1305.0,1305.0,1290.0,1225.0,1270.0,1275.0,1280.0,1280.0,1320.0,1280.0,1300.0,1325.0,1270.0,1280.0,1225.0,1285.0,1265.0,1230.0,1185.0,1155.0,1135.0,1145.0,1200.0,1185.0,1175.0,1165.0,1200.0,1190.0,1190.0,1195.0,1180.0,1180.0,1180.0,1130.0,1105.0,1145.0,1150.0,1110.0,1115.0,1130.0,1095.0,1105.0,1155.0,1185.0,1235.0,1255.0,1255.0,1270.0,1255.0,1265.0,1265.0,1285.0,1295.0,1295.0,1320.0,1330.0,1320.0,1280.0,1255.0,1230.0,1270.0,1340.0,1315.0,1315.0,1320.0,1335.0,1370.0,1375.0,1355.0,1385.0,1330.0,1285.0,1285.0,1305.0,1275.0,1270.0,1320.0,1290.0,1265.0,1255.0,1270.0,1265.0,1275.0,1195.0,1165.0,1175.0,1160.0,1120.0,1105.0,1140.0,1140.0,1155.0,1140.0,1090.0,1010.0,1010.0,940.0,965.0,980.0,960.0,975.0,1030.0,1050.0,1055.0,1045.0,1030.0,1100.0,1100.0,1135.0,1150.0,1140.0,1100.0,1080.0,1095.0,1085.0,1090.0,1020.0,1000.0,1000.0,1005.0,1015.0,1030.0,1070.0,1075.0,1090.0,1095.0,1105.0,1100.0,1080.0,1065.0,1085.0,1095.0,1135.0,1120.0,1095.0,1090.0,1065.0,1060.0,1025.0,1025.0,1040.0,1050.0,1065.0,1060.0,1060.0,1055.0,1060.0,1040.0,1040.0,1040.0,1025.0,1010.0,1010.0,985.0,1005.0,995.0,965.0,945.0,935.0,935.0,945.0,980.0,1005.0,1015.0,1000.0,980.0,1000.0,995.0,985.0,1000.0,995.0,990.0,1000.0,995.0,995.0,980.0,995.0,980.0,985.0,1000.0,990.0,1000.0,995.0,995.0,980.0,965.0,960.0,945.0,960.0,1020.0,1015.0,985.0,1005.0,985.0,990.0,985.0,955.0,970.0,970.0,945.0,955.0,955.0,970.0,950.0,970.0,975.0,965.0,945.0,950.0,960.0,950.0,960.0,980.0,980.0,980.0,965.0,980.0,975.0,955.0,955.0,960.0,965.0,960.0,950.0,975.0,970.0,980.0,970.0,920.0,930.0,895.0,875.0,845.0,870.0,875.0,855.0,860.0,905.0,915.0,930.0,905.0,880.0,895.0,890.0,880.0,885.0,875.0,900.0,895.0,900.0,860.0,880.0,925.0,890.0,895.0,865.0,835.0,830.0,840.0,830.0,765.0,780.0,805.0,775.0,810.0,790.0,785.0,790.0,780.0,785.0,760.0,760.0,755.0,760.0,760.0,740.0,700.0,655.0,630.0,635.0,620.0,585.0,595.0,575.0,595.0,560.0,555.0,600.0,590.0,585.0,590.0,570.0,590.0,600.0,595.0,580.0,565.0,530.0,485.0,498.0,500.0,487.0,486.0,484.0,490.0,474.0,545.0,540.0,590.0,620.0,595.0,575.0,610.0,620.0,580.0,555.0,570.0,580.0,540.0,565.0,570.0,580.0,570.0,585.0,600.0,600.0,595.0,580.0,585.0,550.0,535.0,535.0,530.0,520.0,535.0,560.0,615.0,620.0,680.0,700.0,635.0,640.0,640.0,645.0,670.0,650.0,635.0,670.0,680.0,665.0,650.0,615.0,595.0,610.0,640.0,655.0,630.0,620.0,615.0,610.0,640.0,610.0,580.0,560.0,555.0,575.0,600.0,585.0,570.0,565.0,585.0,585.0,565.0,550.0,545.0,540.0,535.0,525.0,510.0,490.0,490.0,475.0,485.0,477.0,463.0,492.0,510.0,490.0,495.0,500.0,500.0,510.0,520.0,515.0,494.0,499.0,500.0,485.0,493.0,486.0,481.0,473.0,464.0,449.0,450.0,461.0,437.0,450.0,515.0,498.0,476.0,477.0,520.0,525.0,515.0,555.0,575.0,620.0,640.0,590.0,575.0,605.0,600.0,585.0,615.0,620.0,605.0,585.0,595.0,595.0,595.0,570.0,600.0,605.0,670.0,660.0,650.0,680.0,745.0,790.0,770.0,700.0,730.0,745.0,680.0,705.0,695.0,690.0,660.0,670.0,650.0,665.0,645.0,665.0,680.0,670.0,695.0,690.0,705.0,695.0,695.0,720.0,750.0,745.0,750.0,720.0,725.0,735.0,730.0,715.0,715.0,720.0,695.0,665.0,685.0,695.0,670.0,685.0,695.0,690.0,675.0,670.0,670.0,660.0,680.0,700.0,695.0,695.0,710.0,720.0,755.0,815.0,840.0,910.0,870.0,925.0,890.0,860.0,845.0,865.0,845.0,800.0,845.0,845.0,845.0,850.0,840.0,835.0,855.0,855.0,850.0,885.0,925.0,970.0,1025.0,1040.0,995.0,1030.0,1025.0,1035.0,1055.0,1050.0,1070.0,1060.0,1045.0,1060.0,1040.0,1040.0,1105.0,1140.0,1110.0,1145.0,1150.0,1200.0,1155.0,1085.0,1135.0,1120.0,1145.0,1170.0,1105.0,1115.0,1080.0,1060.0,1100.0,1080.0,1065.0,1135.0,1150.0,1185.0,1170.0,1220.0,1225.0,1245.0,1270.0,1270.0,1165.0,1120.0,1165.0,1165.0,1185.0,1180.0,1170.0,1185.0,1210.0,1200.0,1210.0,1200.0,1280.0,1205.0,1300.0,1305.0,1290.0,1360.0,1375.0,1385.0,1400.0,1405.0,1405.0,1425.0,1460.0,1440.0,1530.0,1510.0,1500.0,1525.0,1525.0,1555.0,1550.0,1580.0,1585.0,1640.0,1720.0,1640.0,1670.0,1685.0,1630.0,1570.0,1650.0,1660.0,1605.0,1465.0,1535.0,1515.0,1500.0,1530.0,1620.0,1630.0,1645.0,1640.0,1680.0,1630.0,1530.0,1610.0,1665.0,1730.0,1730.0,1710.0,1650.0,1680.0,1700.0,1690.0,1670.0,1660.0,1695.0,1700.0,1670.0,1680.0,1655.0,1675.0,1690.0,1690.0,1695.0,1695.0,1740.0,1700.0,1665.0,1695.0,1720.0,1685.0,1745.0,1715.0,1700.0,1700.0,1700.0,1720.0,1730.0,1730.0,1725.0,1725.0,1740.0,1730.0,1725.0,1715.0,1695.0,1750.0,1740.0,1720.0,1740.0,1730.0,1720.0,1725.0,1710.0,1680.0,1645.0,1645.0,1700.0,1660.0,1695.0,1720.0,1705.0,1715.0,1700.0,1700.0,1695.0,1675.0,1685.0,1685.0,1685.0,1695.0,1695.0,1685.0,1600.0,1625.0,1645.0,1650.0,1680.0,1705.0,1705.0,1730.0,1730.0,1740.0,1770.0,1800.0,1820.0,1820.0,1750.0,1805.0,1930.0,1890.0,1895.0,1890.0,1890.0,1870.0,1890.0,1860.0,1850.0,1835.0,1835.0,1840.0,1840.0,1845.0,1820.0,1840.0,1775.0,1720.0,1630.0,1615.0,1560.0,1615.0,1550.0,1495.0,1480.0,1485.0,1465.0,1410.0,1435.0,1465.0,1435.0,1475.0,1480.0,1485.0,1465.0,1460.0,1520.0,1520.0,1470.0,1545.0,1605.0,1600.0,1575.0,1555.0,1540.0,1600.0,1660.0,1645.0,1605.0,1565.0,1640.0,1595.0,1580.0,1580.0,1580.0,1580.0,1580.0,1580.0,1580.0,1630.0,1580.0,1620.0,1635.0,1610.0,1595.0,1615.0,1665.0,1625.0,1665.0,1700.0,1695.0,1765.0,1820.0,1820.0,1835.0,1830.0,1800.0,1800.0,1825.0,1785.0,1860.0,1895.0,1845.0,1870.0,1850.0,1870.0,1805.0,1850.0,1820.0,1850.0,1855.0,1880.0,1880.0,1875.0,1865.0,1860.0,1955.0,1965.0,1945.0,1890.0,1870.0,1890.0,1825.0,1825.0,1815.0,1860.0,1890.0,1865.0,1885.0,1900.0,1865.0,1715.0,1740.0,1775.0,1820.0,1870.0,1860.0,1860.0,1815.0,1755.0,1710.0,1670.0,1765.0,1825.0,1775.0,1780.0,1825.0,1830.0,1875.0,1890.0,1900.0,1880.0,1900.0,1900.0,1870.0,1900.0,1880.0,1865.0,1855.0,1850.0,1890.0,1900.0,1825.0,1840.0,1835.0,1825.0,1910.0,1900.0,1895.0,1900.0,1900.0,1820.0,1830.0,1815.0,1820.0,1815.0,1735.0,1755.0,1770.0,1755.0,1715.0,1745.0,1725.0,1710.0,1695.0,1715.0,1775.0,1700.0,1700.0,1775.0,1780.0,1755.0,1710.0,1725.0,1710.0,1810.0,1815.0,1805.0,1805.0,1800.0,1835.0,1800.0,1870.0,1890.0,1890.0,1890.0,1895.0,1890.0,1860.0,1860.0,1880.0,1830.0,1915.0,1990.0,2160.0,2180.0,2210.0,2180.0,2230.0,2230.0,2190.0,2170.0,2170.0,2180.0,2310.0,2420.0,2440.0,2450.0,2440.0,2560.0,2550.0,2450.0,2400.0,2470.0,2520.0,2450.0,2450.0,2420.0,2320.0,2350.0,2420.0,2440.0,2470.0,2470.0,2490.0,2430.0,2470.0,2480.0,2480.0,2390.0,2400.0,2350.0,2420.0,2310.0,2320.0,2330.0,2160.0,2190.0,2170.0,2220.0,2170.0,2070.0,2050.0,2040.0,2040.0,2070.0,2040.0,2020.0,1995.0,2030.0,2040.0,2040.0,2130.0,2130.0,2130.0,2120.0,2040.0,2020.0,2030.0,2070.0,2110.0,2140.0,2110.0,2130.0,2130.0,2130.0,2100.0,2100.0,2100.0,2260.0,2200.0,2200.0,2200.0,2200.0,1835.0,1835.0,1775.0,1680.0,1640.0,1710.0,1625.0,1700.0,1700.0,1715.0,1675.0,1715.0,1800.0,1880.0,1905.0,1950.0,1930.0,1825.0,1835.0,1830.0,1820.0,1820.0,1830.0,1885.0,1885.0,1970.0,2030.0,1985.0,1990.0,1935.0,1935.0,1935.0,1935.0,1935.0,1935.0,1935.0,1935.0,2000.0,2010.0,1930.0,1870.0,1755.0,1705.0,1665.0,1790.0,1745.0,1720.0,1770.0,1825.0,1785.0,1835.0,1865.0,1900.0,1870.0,1860.0,1800.0,1760.0,1865.0,1870.0,1825.0,1800.0,1800.0,1880.0,1850.0,1965.0,2090.0,1905.0,1980.0,1935.0,1940.0,1960.0,1980.0,1990.0,1935.0,1910.0,1830.0,1800.0,1855.0,1780.0,1780.0,1835.0,1880.0,1880.0,1940.0,1910.0,1895.0,1910.0,1910.0,1895.0,1865.0,1855.0,1805.0,1700.0,1725.0,1730.0,1735.0,1735.0,1760.0,1735.0,1740.0,1715.0,1750.0,1740.0,1805.0,1880.0,1820.0,1815.0,1815.0,1825.0,1835.0,1840.0,1845.0,1865.0,1825.0,1810.0,1750.0,1730.0,1780.0,1720.0,1710.0,1675.0,1750.0,1760.0,1730.0,1700.0,1730.0,1700.0,1670.0,1650.0,1725.0,1665.0,1650.0,1650.0,1645.0,1585.0,1575.0,1630.0,1595.0,1610.0,1580.0,1510.0,1515.0,1565.0,1555.0,1545.0,1485.0,1485.0,1310.0,1285.0,1295.0,1275.0,1220.0,1255.0,1280.0,1285.0,1305.0,1300.0,1285.0,1295.0,1300.0,1310.0,1285.0,1255.0,1280.0,1285.0,1280.0,1240.0,1245.0,1255.0,1250.0,1250.0,1250.0,1220.0,1240.0,1215.0,1215.0,1215.0,1225.0,1230.0,1390.0,1390.0,1410.0,1395.0,1405.0,1405.0,1410.0,1460.0,1460.0,1460.0,1485.0,1470.0,1410.0,1380.0,1380.0,1395.0,1390.0,1340.0,1350.0,1390.0,1375.0,1360.0,1360.0,1365.0,1345.0,1305.0,1260.0,1275.0,1260.0,1240.0,1220.0,1245.0,1295.0,1345.0,1415.0,1410.0,1405.0,1350.0,1375.0,1310.0,1310.0,1410.0,1400.0,1360.0,1360.0,1390.0,1450.0,1390.0,1440.0,1460.0,1435.0,1430.0,1435.0,1430.0,1420.0,1415.0,1345.0,1360.0,1350.0,1340.0,1340.0,1350.0,1325.0,1325.0,1275.0,1260.0,1260.0,1295.0,1300.0,1295.0,1300.0,1285.0,1305.0,1305.0,1295.0,1295.0,1270.0,1305.0,1305.0,1290.0,1290.0,1315.0,1305.0,1305.0,1345.0,1335.0,1315.0,1310.0,1295.0,1280.0,1265.0,1250.0,1235.0,1235.0,1160.0,1175.0,1175.0,1235.0,1235.0,1280.0,1260.0,1265.0,1270.0,1270.0,1270.0,1295.0,1295.0,1295.0,1295.0,1295.0,1295.0,1285.0,1280.0,1285.0,1275.0,1235.0,1230.0,1245.0,1275.0,1265.0,1225.0,1245.0,1330.0,1360.0,1385.0,1360.0,1440.0,1420.0,1360.0,1420.0,1415.0,1380.0,1335.0,1345.0,1335.0,1280.0,1275.0,1285.0,1280.0,1300.0,1295.0,1285.0,1275.0,1255.0,1250.0,1230.0,1255.0,1295.0,1270.0,1225.0,1175.0,1120.0,1085.0,1105.0,1100.0,1095.0,1070.0,1035.0,1050.0,1025.0,1030.0,1050.0,1030.0,1020.0,1085.0,1120.0,1130.0,1105.0,1100.0,1125.0,1155.0,1190.0,1235.0,1260.0,1335.0,1415.0,1410.0,1470.0,1435.0,1375.0,1430.0,1435.0,1405.0,1370.0,1400.0,1370.0,1295.0,1310.0,1285.0,1315.0,1290.0,1320.0,1270.0,1270.0,1265.0,1250.0,1280.0,1270.0,1260.0,1295.0,1295.0,1330.0,1315.0,1320.0,1310.0,1365.0,1365.0,1355.0,1370.0,1350.0,1370.0,1335.0,1305.0,1310.0,1270.0,1280.0,1370.0,1390.0,1385.0,1415.0,1415.0,1425.0,1335.0,1300.0,1340.0,1320.0,1335.0,1310.0,1320.0,1310.0,1315.0,1295.0,1245.0,1230.0,1315.0,1315.0,1360.0,1460.0,1425.0,1420.0,1485.0,1490.0,1475.0,1590.0,1640.0,1655.0,1610.0,1595.0,1540.0,1580.0,1585.0,1580.0,1555.0,1495.0],\"high\":[1760.0,1760.0,1700.0,1690.0,1690.0,1670.0,1650.0,1650.0,1680.0,1690.0,1710.0,1680.0,1630.0,1580.0,1570.0,1570.0,1600.0,1600.0,1560.0,1510.0,1540.0,1540.0,1510.0,1540.0,1540.0,1570.0,1550.0,1560.0,1540.0,1540.0,1550.0,1550.0,1520.0,1510.0,1490.0,1470.0,1480.0,1450.0,1410.0,1410.0,1400.0,1390.0,1340.0,1380.0,1430.0,1530.0,1540.0,1540.0,1510.0,1510.0,1490.0,1350.0,1100.0,910.0,810.0,730.0,730.0,800.0,770.0,800.0,830.0,750.0,710.0,700.0,640.0,600.0,600.0,570.0,680.0,810.0,850.0,850.0,700.0,670.0,690.0,660.0,650.0,620.0,610.0,560.0,520.0,510.0,500.0,485.0,485.0,500.0,550.0,570.0,530.0,540.0,480.0,485.0,500.0,490.0,505.0,530.0,550.0,530.0,540.0,505.0,520.0,510.0,500.0,495.0,490.0,500.0,495.0,520.0,540.0,550.0,510.0,520.0,580.0,660.0,750.0,690.0,700.0,680.0,650.0,680.0,670.0,640.0,690.0,690.0,740.0,760.0,750.0,740.0,770.0,830.0,870.0,890.0,870.0,870.0,860.0,850.0,850.0,830.0,830.0,820.0,820.0,820.0,790.0,790.0,790.0,790.0,780.0,740.0,760.0,800.0,770.0,780.0,790.0,790.0,790.0,790.0,760.0,750.0,760.0,790.0,830.0,1000.0,930.0,950.0,940.0,910.0,910.0,920.0,900.0,940.0,920.0,920.0,950.0,980.0,980.0,1000.0,980.0,980.0,1060.0,1040.0,1050.0,1050.0,1040.0,1020.0,1040.0,1090.0,1150.0,1200.0,1170.0,1210.0,1200.0,1240.0,1180.0,1200.0,1170.0,1140.0,1100.0,1150.0,1150.0,1280.0,1360.0,1330.0,1330.0,1310.0,1350.0,1380.0,1450.0,1410.0,1340.0,1360.0,1340.0,1320.0,1330.0,1340.0,1320.0,1300.0,1260.0,1260.0,1260.0,1240.0,1250.0,1130.0,1180.0,1270.0,1280.0,1240.0,1260.0,1210.0,1220.0,1180.0,1160.0,1200.0,1220.0,1170.0,1140.0,1160.0,1190.0,1210.0,1150.0,1200.0,1220.0,1200.0,1230.0,1260.0,1280.0,1270.0,1260.0,1300.0,1310.0,1360.0,1370.0,1460.0,1520.0,1520.0,1490.0,1440.0,1480.0,1480.0,1420.0,1430.0,1430.0,1410.0,1450.0,1430.0,1400.0,1390.0,1370.0,1420.0,1390.0,1360.0,1370.0,1350.0,1350.0,1380.0,1400.0,1380.0,1390.0,1370.0,1380.0,1380.0,1420.0,1420.0,1420.0,1420.0,1440.0,1440.0,1430.0,1410.0,1420.0,1460.0,1460.0,1430.0,1420.0,1410.0,1410.0,1430.0,1470.0,1470.0,1530.0,1550.0,1570.0,1570.0,1630.0,1630.0,1600.0,1570.0,1550.0,1590.0,1590.0,1590.0,1570.0,1550.0,1570.0,1560.0,1570.0,1560.0,1660.0,1710.0,1720.0,1720.0,1730.0,1710.0,1710.0,1770.0,1770.0,1750.0,1720.0,1750.0,1740.0,1750.0,1750.0,1760.0,1780.0,1730.0,1740.0,1760.0,1750.0,1740.0,1740.0,1760.0,1760.0,1730.0,1710.0,1720.0,1740.0,1730.0,1740.0,1750.0,1800.0,1830.0,1850.0,1980.0,2025.0,1970.0,1960.0,2075.0,2050.0,2025.0,2000.0,2000.0,1990.0,1940.0,1950.0,1950.0,1910.0,1910.0,1890.0,1880.0,1890.0,1950.0,1960.0,1880.0,1860.0,1840.0,1850.0,1830.0,1850.0,1840.0,1870.0,1890.0,1860.0,1810.0,1830.0,1850.0,1860.0,1870.0,1860.0,1850.0,1860.0,1860.0,1860.0,1880.0,1880.0,1910.0,1900.0,1890.0,1880.0,1920.0,1930.0,1910.0,1880.0,1860.0,1880.0,1890.0,1890.0,1910.0,1930.0,1980.0,2050.0,2100.0,2150.0,2200.0,2150.0,2150.0,2175.0,2175.0,2175.0,2225.0,2250.0,2200.0,2200.0,2225.0,2250.0,2250.0,2225.0,2200.0,2200.0,2175.0,2225.0,2175.0,2175.0,2100.0,2025.0,1970.0,2025.0,2125.0,2100.0,2125.0,2075.0,2075.0,2025.0,1990.0,1870.0,1880.0,1790.0,1900.0,1930.0,2025.0,1990.0,1970.0,1980.0,1940.0,1870.0,1860.0,1870.0,1870.0,1890.0,1900.0,1900.0,2000.0,1990.0,2000.0,2100.0,2075.0,2025.0,2050.0,2025.0,2075.0,2050.0,2000.0,1980.0,1990.0,2000.0,2050.0,2025.0,2050.0,2050.0,2050.0,2025.0,2075.0,2050.0,2025.0,2000.0,2025.0,2025.0,2025.0,2075.0,2075.0,2100.0,2075.0,2075.0,2050.0,2050.0,2100.0,2050.0,2050.0,2125.0,2150.0,2125.0,2100.0,2050.0,2075.0,2075.0,2100.0,2125.0,2100.0,2100.0,2075.0,2050.0,2050.0,2025.0,2025.0,1960.0,1900.0,1880.0,1850.0,1950.0,1960.0,2025.0,2100.0,2150.0,2150.0,2075.0,2025.0,1990.0,2025.0,2100.0,2125.0,2075.0,2075.0,2075.0,2100.0,2050.0,2100.0,2100.0,2075.0,2075.0,2075.0,2100.0,2200.0,2250.0,2225.0,2175.0,2150.0,2150.0,2300.0,2250.0,2225.0,2200.0,2125.0,2125.0,2150.0,2150.0,2200.0,2225.0,2325.0,2400.0,2500.0,2500.0,2450.0,2450.0,2450.0,2500.0,2475.0,2500.0,2475.0,2450.0,2425.0,2425.0,2350.0,2325.0,2375.0,2375.0,2475.0,2450.0,2475.0,2625.0,2650.0,2625.0,2650.0,2600.0,2550.0,2550.0,2600.0,2575.0,2575.0,2550.0,2550.0,2525.0,2525.0,2550.0,2550.0,2675.0,2900.0,2850.0,2850.0,2725.0,2700.0,2600.0,2625.0,2675.0,2625.0,2625.0,2675.0,2725.0,2625.0,2425.0,2375.0,2475.0,2475.0,2475.0,2400.0,2350.0,2400.0,2500.0,2500.0,2475.0,2425.0,2375.0,2325.0,2400.0,2425.0,2400.0,2375.0,2475.0,2475.0,2425.0,2500.0,2475.0,2500.0,2450.0,2475.0,2425.0,2375.0,2375.0,2400.0,2425.0,2400.0,2375.0,2350.0,2425.0,2400.0,2400.0,2400.0,2400.0,2375.0,2325.0,2300.0,2325.0,2300.0,2300.0,2300.0,2250.0,2300.0,2350.0,2350.0,2350.0,2350.0,2325.0,2300.0,2300.0,2300.0,2300.0,2300.0,2275.0,2250.0,2275.0,2275.0,2250.0,2250.0,2250.0,2250.0,2250.0,2250.0,2250.0,2275.0,2375.0,2350.0,2325.0,2325.0,2325.0,2300.0,2275.0,2250.0,2350.0,2400.0,2375.0,2350.0,2325.0,2375.0,2400.0,2400.0,2400.0,2475.0,2450.0,2450.0,2500.0,2475.0,2475.0,2475.0,2475.0,2400.0,2425.0,2450.0,2375.0,2350.0,2350.0,2375.0,2400.0,2400.0,2400.0,2400.0,2425.0,2475.0,2525.0,2550.0,2600.0,2575.0,2600.0,2600.0,2575.0,2525.0,2525.0,2575.0,2625.0,2600.0,2600.0,2575.0,2575.0,2550.0,2600.0,2600.0,2700.0,2700.0,2700.0,2675.0,2650.0,2675.0,2500.0,2350.0,2350.0,2450.0,2400.0,2375.0,2375.0,2450.0,2425.0,2350.0,2300.0,2300.0,2300.0,2175.0,2050.0,2125.0,2025.0,2100.0,2100.0,2050.0,2000.0,2025.0,2025.0,1990.0,2000.0,1970.0,1940.0,1930.0,1860.0,1720.0,1630.0,1650.0,1720.0,1750.0,1780.0,1690.0,1620.0,1580.0,1700.0,1760.0,1690.0,1790.0,1870.0,1920.0,1910.0,1960.0,1930.0,1990.0,1970.0,1930.0,1990.0,2000.0,2025.0,2125.0,2150.0,2125.0,2100.0,2075.0,2025.0,2075.0,2100.0,2100.0,2150.0,2075.0,2075.0,2100.0,2050.0,2025.0,2000.0,1990.0,1940.0,1920.0,1910.0,1930.0,1890.0,1920.0,1920.0,1960.0,1910.0,1970.0,1980.0,1970.0,2025.0,2000.0,1980.0,1960.0,1920.0,1900.0,1820.0,1840.0,1840.0,1790.0,1790.0,1780.0,1790.0,1790.0,1780.0,1770.0,1790.0,1770.0,1820.0,1830.0,1830.0,1800.0,1790.0,1820.0,1830.0,1810.0,1820.0,1800.0,1800.0,1820.0,1850.0,1850.0,1840.0,1850.0,1850.0,1860.0,1860.0,1840.0,1880.0,1960.0,1980.0,1980.0,2000.0,2025.0,2000.0,1990.0,1950.0,1950.0,1960.0,1940.0,1980.0,2000.0,1990.0,2000.0,2000.0,1960.0,1920.0,1900.0,1930.0,1920.0,1970.0,1970.0,1940.0,1920.0,1940.0,1920.0,1970.0,1970.0,1980.0,1980.0,1950.0,1940.0,1930.0,1930.0,1910.0,1930.0,1920.0,1930.0,1930.0,1930.0,1960.0,1960.0,1950.0,1920.0,1920.0,1910.0,1880.0,1860.0,1840.0,1840.0,1840.0,1860.0,1820.0,1800.0,1810.0,1830.0,1820.0,1820.0,1820.0,1860.0,1870.0,1870.0,1860.0,1850.0,1790.0,1790.0,1770.0,1770.0,1750.0,1740.0,1720.0,1660.0,1660.0,1720.0,1680.0,1670.0,1650.0,1620.0,1640.0,1600.0,1580.0,1490.0,1350.0,1260.0,1280.0,1340.0,1290.0,1310.0,1260.0,1260.0,1260.0,1260.0,1310.0,1340.0,1430.0,1470.0,1380.0,1370.0,1410.0,1430.0,1420.0,1460.0,1580.0,1580.0,1630.0,1620.0,1610.0,1560.0,1490.0,1440.0,1420.0,1410.0,1440.0,1440.0,1420.0,1440.0,1440.0,1390.0,1390.0,1360.0,1370.0,1440.0,1480.0,1470.0,1520.0,1530.0,1530.0,1610.0,1600.0,1580.0,1540.0,1570.0,1580.0,1560.0,1570.0,1570.0,1530.0,1430.0,1450.0,1430.0,1420.0,1380.0,1390.0,1410.0,1410.0,1390.0,1380.0,1400.0,1430.0,1450.0,1500.0,1540.0,1600.0,1610.0,1600.0,1580.0,1560.0,1550.0,1530.0,1510.0,1510.0,1510.0,1510.0,1490.0,1490.0,1480.0,1460.0,1490.0,1470.0,1460.0,1450.0,1440.0,1430.0,1410.0,1410.0,1420.0,1420.0,1400.0,1410.0,1430.0,1450.0,1410.0,1400.0,1390.0,1380.0,1370.0,1380.0,1380.0,1400.0,1410.0,1390.0,1410.0,1430.0,1420.0,1430.0,1430.0,1410.0,1390.0,1390.0,1370.0,1370.0,1370.0,1390.0,1380.0,1370.0,1340.0,1340.0,1370.0,1390.0,1400.0,1390.0,1420.0,1470.0,1610.0,1610.0,1600.0,1600.0,1600.0,1590.0,1580.0,1600.0,1600.0,1600.0,1770.0,1770.0,1760.0,1760.0,1750.0,1760.0,1750.0,1750.0,1700.0,1720.0,1700.0,1710.0,1690.0,1700.0,1660.0,1650.0,1700.0,1730.0,1700.0,1700.0,1680.0,1680.0,1680.0,1610.0,1610.0,1600.0,1580.0,1590.0,1590.0,1610.0,1640.0,1650.0,1640.0,1630.0,1610.0,1600.0,1580.0,1600.0,1590.0,1610.0,1620.0,1580.0,1560.0,1530.0,1550.0,1570.0,1550.0,1550.0,1550.0,1530.0,1540.0,1540.0,1500.0,1460.0,1400.0,1370.0,1320.0,1300.0,1320.0,1310.0,1310.0,1340.0,1370.0,1330.0,1310.0,1290.0,1290.0,1300.0,1300.0,1300.0,1290.0,1270.0,1280.0,1280.0,1280.0,1270.0,1260.0,1250.0,1250.0,1250.0,1240.0,1240.0,1210.0,1210.0,1220.0,1210.0,1220.0,1220.0,1240.0,1200.0,1170.0,1150.0,1100.0,1110.0,1140.0,1130.0,1130.0,1110.0,1090.0,1080.0,1050.0,1030.0,970.0,960.0,930.0,930.0,910.0,910.0,880.0,890.0,850.0,840.0,890.0,880.0,870.0,870.0,810.0,840.0,830.0,810.0,820.0,830.0,860.0,860.0,840.0,810.0,810.0,790.0,780.0,770.0,760.0,750.0,720.0,710.0,710.0,720.0,740.0,720.0,710.0,720.0,720.0,730.0,720.0,710.0,710.0,720.0,700.0,690.0,800.0,820.0,790.0,790.0,820.0,790.0,720.0,740.0,850.0,870.0,890.0,880.0,880.0,920.0,940.0,980.0,1000.0,1000.0,990.0,990.0,1030.0,1030.0,950.0,980.0,970.0,960.0,960.0,960.0,980.0,970.0,960.0,970.0,930.0,950.0,940.0,900.0,900.0,930.0,950.0,950.0,920.0,920.0,1000.0,1020.0,1010.0,990.0,1060.0,1130.0,1130.0,1100.0,1090.0,1080.0,1090.0,1060.0,1040.0,1050.0,1040.0,1060.0,1070.0,1070.0,1100.0,1160.0,1210.0,1190.0,1170.0,1200.0,1200.0,1240.0,1230.0,1200.0,1170.0,1180.0,1230.0,1230.0,1170.0,1150.0,1160.0,1170.0,1160.0,1180.0,1200.0,1190.0,1200.0,1250.0,1250.0,1210.0,1190.0,1160.0,1140.0,1170.0,1170.0,1150.0,1130.0,1140.0,1130.0,1090.0,1110.0,1060.0,1010.0,945.0,940.0,970.0,965.0,960.0,990.0,985.0,985.0,990.0,1005.0,1025.0,1050.0,1040.0,1015.0,975.0,965.0,960.0,965.0,905.0,920.0,910.0,925.0,920.0,950.0,955.0,950.0,945.0,980.0,980.0,965.0,975.0,990.0,980.0,975.0,950.0,965.0,995.0,990.0,1025.0,1040.0,1025.0,1035.0,1020.0,1010.0,960.0,985.0,985.0,990.0,1010.0,1005.0,1015.0,990.0,995.0,980.0,990.0,985.0,980.0,995.0,995.0,985.0,985.0,990.0,990.0,970.0,975.0,1010.0,1055.0,1030.0,995.0,990.0,990.0,1015.0,1070.0,1110.0,1105.0,1145.0,1135.0,1205.0,1195.0,1175.0,1200.0,1185.0,1150.0,1130.0,1205.0,1240.0,1250.0,1245.0,1280.0,1320.0,1300.0,1305.0,1315.0,1320.0,1305.0,1295.0,1280.0,1290.0,1285.0,1295.0,1335.0,1340.0,1310.0,1335.0,1310.0,1285.0,1290.0,1285.0,1305.0,1265.0,1245.0,1205.0,1170.0,1160.0,1200.0,1200.0,1195.0,1190.0,1200.0,1210.0,1200.0,1210.0,1210.0,1180.0,1200.0,1175.0,1135.0,1145.0,1170.0,1160.0,1120.0,1145.0,1135.0,1115.0,1155.0,1185.0,1235.0,1270.0,1255.0,1295.0,1270.0,1270.0,1285.0,1285.0,1320.0,1310.0,1325.0,1340.0,1340.0,1320.0,1290.0,1265.0,1280.0,1345.0,1345.0,1350.0,1325.0,1335.0,1370.0,1390.0,1385.0,1390.0,1380.0,1335.0,1305.0,1315.0,1305.0,1285.0,1320.0,1330.0,1300.0,1285.0,1280.0,1285.0,1285.0,1260.0,1205.0,1185.0,1185.0,1150.0,1135.0,1145.0,1175.0,1170.0,1170.0,1125.0,1080.0,1025.0,1020.0,980.0,980.0,1015.0,990.0,1035.0,1075.0,1060.0,1080.0,1045.0,1110.0,1120.0,1135.0,1150.0,1150.0,1140.0,1115.0,1100.0,1130.0,1110.0,1105.0,1035.0,1005.0,1020.0,1030.0,1045.0,1070.0,1085.0,1105.0,1110.0,1105.0,1110.0,1090.0,1080.0,1100.0,1115.0,1145.0,1145.0,1135.0,1105.0,1100.0,1075.0,1050.0,1025.0,1055.0,1075.0,1075.0,1090.0,1075.0,1065.0,1065.0,1065.0,1050.0,1050.0,1050.0,1025.0,1030.0,1015.0,1020.0,1015.0,1000.0,970.0,955.0,955.0,955.0,985.0,1010.0,1020.0,1030.0,1000.0,1005.0,1010.0,995.0,1000.0,1005.0,1010.0,1025.0,1005.0,1005.0,1000.0,1005.0,1005.0,995.0,1015.0,1015.0,1005.0,1005.0,1005.0,1000.0,980.0,975.0,970.0,965.0,1025.0,1035.0,1015.0,1015.0,1010.0,1000.0,995.0,975.0,980.0,980.0,965.0,960.0,965.0,970.0,970.0,980.0,995.0,985.0,970.0,955.0,965.0,970.0,965.0,985.0,990.0,990.0,985.0,980.0,980.0,980.0,970.0,965.0,980.0,980.0,965.0,975.0,975.0,980.0,985.0,975.0,930.0,945.0,900.0,875.0,870.0,885.0,875.0,875.0,915.0,940.0,940.0,925.0,915.0,895.0,900.0,895.0,890.0,885.0,915.0,905.0,910.0,900.0,885.0,925.0,925.0,900.0,900.0,875.0,850.0,845.0,845.0,820.0,800.0,810.0,805.0,810.0,815.0,805.0,795.0,790.0,785.0,785.0,775.0,770.0,775.0,770.0,760.0,745.0,705.0,665.0,655.0,645.0,625.0,605.0,600.0,600.0,595.0,575.0,600.0,615.0,600.0,595.0,595.0,600.0,610.0,600.0,595.0,580.0,580.0,505.0,505.0,505.0,500.0,500.0,491.0,495.0,480.0,585.0,580.0,590.0,650.0,635.0,620.0,615.0,630.0,620.0,595.0,585.0,595.0,570.0,565.0,585.0,580.0,590.0,590.0,610.0,610.0,615.0,595.0,585.0,590.0,540.0,540.0,545.0,530.0,540.0,570.0,630.0,625.0,710.0,705.0,695.0,665.0,675.0,660.0,695.0,695.0,655.0,675.0,680.0,675.0,660.0,660.0,620.0,615.0,645.0,660.0,655.0,645.0,640.0,635.0,645.0,645.0,610.0,575.0,575.0,580.0,605.0,605.0,595.0,580.0,585.0,595.0,585.0,565.0,560.0,550.0,535.0,540.0,530.0,515.0,490.0,498.0,494.0,482.0,482.0,510.0,530.0,515.0,505.0,510.0,505.0,520.0,520.0,530.0,515.0,510.0,510.0,500.0,499.0,499.0,490.0,488.0,471.0,469.0,452.0,463.0,466.0,462.0,520.0,530.0,493.0,495.0,520.0,540.0,535.0,580.0,580.0,630.0,655.0,625.0,595.0,615.0,610.0,620.0,620.0,630.0,645.0,620.0,600.0,615.0,605.0,605.0,600.0,610.0,670.0,690.0,675.0,685.0,745.0,795.0,800.0,735.0,735.0,755.0,760.0,715.0,720.0,705.0,685.0,680.0,670.0,670.0,670.0,665.0,690.0,685.0,695.0,715.0,705.0,715.0,695.0,730.0,760.0,760.0,770.0,745.0,735.0,745.0,735.0,730.0,725.0,720.0,715.0,685.0,700.0,700.0,695.0,695.0,710.0,705.0,685.0,685.0,685.0,680.0,690.0,705.0,710.0,710.0,710.0,725.0,770.0,825.0,845.0,915.0,930.0,945.0,935.0,875.0,895.0,875.0,865.0,850.0,850.0,865.0,870.0,865.0,855.0,840.0,865.0,885.0,875.0,895.0,940.0,980.0,1075.0,1070.0,1060.0,1040.0,1050.0,1065.0,1055.0,1060.0,1070.0,1090.0,1065.0,1070.0,1070.0,1045.0,1120.0,1190.0,1185.0,1155.0,1165.0,1200.0,1200.0,1145.0,1145.0,1150.0,1170.0,1175.0,1165.0,1130.0,1115.0,1090.0,1105.0,1115.0,1095.0,1135.0,1190.0,1190.0,1190.0,1220.0,1245.0,1250.0,1285.0,1275.0,1250.0,1150.0,1170.0,1195.0,1210.0,1195.0,1180.0,1230.0,1230.0,1215.0,1215.0,1215.0,1290.0,1270.0,1300.0,1345.0,1325.0,1370.0,1380.0,1400.0,1415.0,1410.0,1430.0,1425.0,1480.0,1520.0,1545.0,1540.0,1545.0,1540.0,1540.0,1595.0,1605.0,1585.0,1585.0,1650.0,1735.0,1710.0,1670.0,1710.0,1720.0,1645.0,1685.0,1695.0,1680.0,1650.0,1555.0,1555.0,1535.0,1540.0,1620.0,1680.0,1665.0,1675.0,1685.0,1700.0,1660.0,1620.0,1670.0,1735.0,1770.0,1720.0,1710.0,1700.0,1715.0,1710.0,1700.0,1710.0,1710.0,1710.0,1710.0,1695.0,1705.0,1685.0,1700.0,1705.0,1705.0,1695.0,1750.0,1735.0,1710.0,1705.0,1720.0,1705.0,1760.0,1750.0,1735.0,1725.0,1705.0,1740.0,1735.0,1745.0,1740.0,1740.0,1740.0,1750.0,1725.0,1730.0,1730.0,1750.0,1755.0,1750.0,1745.0,1740.0,1740.0,1730.0,1715.0,1725.0,1675.0,1645.0,1700.0,1705.0,1700.0,1725.0,1725.0,1715.0,1720.0,1705.0,1700.0,1690.0,1690.0,1705.0,1700.0,1710.0,1755.0,1695.0,1700.0,1645.0,1670.0,1665.0,1690.0,1705.0,1710.0,1730.0,1730.0,1750.0,1780.0,1800.0,1845.0,1830.0,1815.0,1835.0,1940.0,1940.0,1895.0,1920.0,1920.0,1890.0,1895.0,1890.0,1880.0,1870.0,1835.0,1885.0,1850.0,1850.0,1845.0,1850.0,1850.0,1795.0,1750.0,1660.0,1620.0,1630.0,1620.0,1565.0,1560.0,1515.0,1500.0,1470.0,1455.0,1535.0,1515.0,1490.0,1485.0,1500.0,1490.0,1475.0,1520.0,1520.0,1525.0,1550.0,1630.0,1625.0,1620.0,1610.0,1570.0,1600.0,1660.0,1660.0,1670.0,1610.0,1645.0,1635.0,1630.0,1580.0,1580.0,1580.0,1580.0,1580.0,1580.0,1635.0,1645.0,1630.0,1645.0,1640.0,1630.0,1625.0,1670.0,1675.0,1665.0,1700.0,1700.0,1805.0,1820.0,1830.0,1835.0,1830.0,1850.0,1815.0,1830.0,1825.0,1895.0,1920.0,1895.0,1895.0,1885.0,1870.0,1865.0,1855.0,1850.0,1870.0,1865.0,1885.0,1880.0,1900.0,1885.0,1875.0,1970.0,1995.0,1985.0,1965.0,1950.0,1890.0,1900.0,1825.0,1840.0,1885.0,1890.0,1890.0,1890.0,1920.0,1930.0,1865.0,1800.0,1775.0,1820.0,1875.0,1875.0,1860.0,1850.0,1815.0,1780.0,1685.0,1825.0,1830.0,1850.0,1820.0,1840.0,1860.0,1885.0,1915.0,1920.0,1915.0,1935.0,1915.0,1915.0,1905.0,1905.0,1895.0,1900.0,1860.0,1895.0,1910.0,1900.0,1880.0,1885.0,1875.0,1915.0,1925.0,1925.0,1900.0,1915.0,1885.0,1840.0,1845.0,1840.0,1835.0,1810.0,1760.0,1795.0,1785.0,1760.0,1760.0,1745.0,1745.0,1720.0,1715.0,1775.0,1785.0,1700.0,1810.0,1800.0,1795.0,1770.0,1755.0,1740.0,1810.0,1845.0,1815.0,1825.0,1815.0,1850.0,1845.0,1875.0,1890.0,1890.0,1890.0,1905.0,1905.0,1880.0,1860.0,1900.0,1890.0,1935.0,1990.0,2180.0,2240.0,2210.0,2220.0,2260.0,2260.0,2250.0,2230.0,2200.0,2230.0,2350.0,2440.0,2470.0,2480.0,2470.0,2650.0,2610.0,2560.0,2480.0,2530.0,2590.0,2530.0,2520.0,2480.0,2370.0,2370.0,2450.0,2490.0,2500.0,2470.0,2510.0,2520.0,2500.0,2490.0,2510.0,2480.0,2430.0,2450.0,2420.0,2390.0,2340.0,2370.0,2380.0,2210.0,2220.0,2240.0,2260.0,2160.0,2120.0,2080.0,2080.0,2090.0,2110.0,2070.0,2010.0,2050.0,2070.0,2070.0,2160.0,2130.0,2180.0,2130.0,2140.0,2080.0,2060.0,2090.0,2130.0,2210.0,2170.0,2150.0,2130.0,2130.0,2130.0,2100.0,2100.0,2290.0,2280.0,2200.0,2200.0,2200.0,1875.0,1835.0,1835.0,1760.0,1705.0,1715.0,1720.0,1715.0,1700.0,1755.0,1715.0,1730.0,1800.0,1910.0,1960.0,1980.0,1965.0,1935.0,1865.0,1875.0,1860.0,1820.0,1880.0,1930.0,1885.0,1975.0,2070.0,2060.0,2030.0,2030.0,1935.0,1935.0,1935.0,1935.0,1935.0,1935.0,1935.0,2000.0,2020.0,1990.0,1960.0,1895.0,1805.0,1750.0,1790.0,1820.0,1770.0,1780.0,1835.0,1845.0,1835.0,1880.0,1920.0,1930.0,1895.0,1860.0,1810.0,1865.0,1915.0,1875.0,1840.0,1840.0,1885.0,1910.0,1975.0,2130.0,2070.0,1990.0,1995.0,1960.0,1970.0,2030.0,2030.0,1995.0,1965.0,1900.0,1890.0,1860.0,1840.0,1780.0,1850.0,1880.0,1880.0,1950.0,1940.0,1935.0,1925.0,1915.0,1930.0,1880.0,1890.0,1860.0,1805.0,1735.0,1745.0,1780.0,1735.0,1780.0,1775.0,1760.0,1740.0,1765.0,1790.0,1825.0,1900.0,1875.0,1830.0,1865.0,1845.0,1850.0,1865.0,1900.0,1870.0,1860.0,1835.0,1820.0,1770.0,1780.0,1750.0,1735.0,1725.0,1750.0,1780.0,1750.0,1735.0,1745.0,1725.0,1705.0,1670.0,1730.0,1730.0,1675.0,1680.0,1650.0,1645.0,1610.0,1635.0,1645.0,1625.0,1605.0,1590.0,1540.0,1585.0,1575.0,1585.0,1550.0,1485.0,1470.0,1340.0,1315.0,1290.0,1285.0,1290.0,1305.0,1330.0,1330.0,1320.0,1345.0,1320.0,1310.0,1330.0,1320.0,1295.0,1290.0,1310.0,1295.0,1270.0,1260.0,1275.0,1260.0,1250.0,1250.0,1240.0,1260.0,1230.0,1215.0,1215.0,1225.0,1235.0,1390.0,1430.0,1415.0,1435.0,1415.0,1420.0,1415.0,1470.0,1495.0,1510.0,1495.0,1505.0,1460.0,1420.0,1405.0,1410.0,1430.0,1390.0,1375.0,1415.0,1400.0,1380.0,1360.0,1380.0,1380.0,1330.0,1305.0,1290.0,1300.0,1280.0,1245.0,1265.0,1310.0,1350.0,1420.0,1460.0,1430.0,1410.0,1395.0,1390.0,1345.0,1420.0,1455.0,1415.0,1360.0,1395.0,1470.0,1460.0,1450.0,1480.0,1460.0,1435.0,1450.0,1440.0,1450.0,1435.0,1405.0,1385.0,1380.0,1355.0,1365.0,1360.0,1345.0,1325.0,1320.0,1295.0,1285.0,1320.0,1305.0,1325.0,1315.0,1315.0,1315.0,1305.0,1330.0,1295.0,1295.0,1310.0,1315.0,1305.0,1295.0,1315.0,1340.0,1305.0,1360.0,1350.0,1325.0,1330.0,1310.0,1305.0,1275.0,1285.0,1250.0,1260.0,1235.0,1200.0,1215.0,1255.0,1250.0,1290.0,1290.0,1280.0,1285.0,1305.0,1270.0,1295.0,1295.0,1295.0,1295.0,1295.0,1295.0,1315.0,1295.0,1295.0,1280.0,1295.0,1245.0,1250.0,1280.0,1290.0,1280.0,1250.0,1335.0,1375.0,1400.0,1390.0,1455.0,1445.0,1415.0,1435.0,1470.0,1415.0,1385.0,1360.0,1365.0,1340.0,1295.0,1305.0,1295.0,1335.0,1315.0,1305.0,1295.0,1285.0,1270.0,1260.0,1255.0,1295.0,1285.0,1275.0,1220.0,1180.0,1100.0,1130.0,1130.0,1120.0,1110.0,1070.0,1070.0,1035.0,1095.0,1060.0,1055.0,1040.0,1145.0,1120.0,1155.0,1140.0,1120.0,1145.0,1160.0,1215.0,1250.0,1265.0,1345.0,1450.0,1440.0,1475.0,1485.0,1445.0,1460.0,1460.0,1420.0,1410.0,1400.0,1405.0,1370.0,1315.0,1320.0,1345.0,1335.0,1330.0,1310.0,1285.0,1285.0,1290.0,1285.0,1300.0,1275.0,1310.0,1325.0,1330.0,1365.0,1325.0,1350.0,1370.0,1375.0,1375.0,1385.0,1375.0,1375.0,1375.0,1335.0,1320.0,1310.0,1300.0,1370.0,1410.0,1390.0,1435.0,1435.0,1440.0,1435.0,1360.0,1350.0,1350.0,1335.0,1335.0,1345.0,1335.0,1335.0,1345.0,1300.0,1260.0,1315.0,1330.0,1400.0,1460.0,1465.0,1460.0,1490.0,1520.0,1505.0,1600.0,1715.0,1665.0,1655.0,1625.0,1605.0,1590.0,1620.0,1610.0,1590.0,1555.0],\"low\":[1500.0,1700.0,1640.0,1640.0,1660.0,1650.0,1610.0,1600.0,1620.0,1650.0,1680.0,1620.0,1590.0,1540.0,1540.0,1540.0,1560.0,1540.0,1510.0,1500.0,1510.0,1510.0,1490.0,1490.0,1530.0,1550.0,1520.0,1530.0,1530.0,1530.0,1530.0,1530.0,1500.0,1480.0,1470.0,1440.0,1450.0,1400.0,1340.0,1390.0,1380.0,1360.0,1240.0,1330.0,1300.0,1440.0,1510.0,1510.0,1500.0,1490.0,1430.0,1190.0,980.0,780.0,730.0,730.0,730.0,660.0,720.0,710.0,760.0,710.0,680.0,630.0,630.0,570.0,520.0,490.0,540.0,710.0,770.0,760.0,700.0,630.0,620.0,600.0,610.0,580.0,560.0,530.0,480.0,480.0,470.0,460.0,465.0,470.0,485.0,480.0,490.0,500.0,460.0,465.0,480.0,470.0,485.0,480.0,510.0,490.0,490.0,490.0,500.0,490.0,480.0,475.0,480.0,485.0,485.0,485.0,510.0,510.0,500.0,510.0,510.0,540.0,660.0,620.0,650.0,640.0,610.0,600.0,630.0,620.0,650.0,680.0,700.0,710.0,710.0,710.0,730.0,770.0,830.0,820.0,810.0,830.0,830.0,830.0,820.0,790.0,770.0,800.0,770.0,780.0,760.0,770.0,760.0,770.0,730.0,710.0,720.0,760.0,750.0,760.0,770.0,760.0,770.0,750.0,730.0,730.0,740.0,750.0,790.0,820.0,880.0,910.0,880.0,880.0,880.0,880.0,880.0,890.0,890.0,890.0,910.0,940.0,940.0,940.0,930.0,950.0,950.0,970.0,990.0,1000.0,980.0,1000.0,1010.0,1030.0,1080.0,1130.0,1120.0,1180.0,1170.0,1160.0,1110.0,1170.0,1100.0,1010.0,1000.0,1100.0,1110.0,1080.0,1260.0,1220.0,1240.0,1250.0,1300.0,1340.0,1360.0,1260.0,1270.0,1310.0,1280.0,1270.0,1300.0,1290.0,1290.0,1260.0,1210.0,1220.0,1170.0,1150.0,1170.0,1050.0,1070.0,1170.0,1220.0,1200.0,1190.0,1180.0,1180.0,1150.0,1120.0,1130.0,1140.0,1130.0,1070.0,1100.0,1150.0,1140.0,1100.0,1170.0,1170.0,1180.0,1180.0,1220.0,1240.0,1200.0,1210.0,1260.0,1260.0,1300.0,1320.0,1360.0,1430.0,1460.0,1440.0,1350.0,1440.0,1430.0,1370.0,1310.0,1360.0,1360.0,1420.0,1380.0,1380.0,1340.0,1320.0,1360.0,1350.0,1320.0,1330.0,1330.0,1320.0,1310.0,1350.0,1360.0,1360.0,1340.0,1350.0,1360.0,1370.0,1380.0,1370.0,1380.0,1410.0,1400.0,1410.0,1390.0,1390.0,1420.0,1400.0,1390.0,1390.0,1370.0,1380.0,1400.0,1430.0,1440.0,1430.0,1500.0,1490.0,1510.0,1520.0,1580.0,1550.0,1480.0,1440.0,1530.0,1490.0,1510.0,1530.0,1520.0,1540.0,1530.0,1510.0,1510.0,1570.0,1600.0,1680.0,1680.0,1690.0,1670.0,1660.0,1680.0,1700.0,1710.0,1650.0,1670.0,1710.0,1720.0,1720.0,1730.0,1730.0,1700.0,1700.0,1720.0,1730.0,1720.0,1720.0,1710.0,1720.0,1650.0,1690.0,1690.0,1710.0,1720.0,1720.0,1730.0,1750.0,1790.0,1810.0,1840.0,1970.0,1920.0,1910.0,1970.0,1980.0,1950.0,1980.0,1960.0,1950.0,1900.0,1910.0,1860.0,1820.0,1860.0,1840.0,1830.0,1850.0,1870.0,1910.0,1840.0,1760.0,1780.0,1790.0,1780.0,1810.0,1810.0,1810.0,1840.0,1800.0,1780.0,1790.0,1790.0,1810.0,1820.0,1820.0,1820.0,1820.0,1830.0,1840.0,1860.0,1860.0,1860.0,1870.0,1870.0,1860.0,1880.0,1890.0,1880.0,1830.0,1820.0,1830.0,1860.0,1860.0,1870.0,1900.0,1890.0,1970.0,2025.0,2050.0,2100.0,2075.0,2100.0,2125.0,2100.0,2125.0,2150.0,2175.0,2125.0,2150.0,2175.0,2175.0,2175.0,2175.0,2150.0,2125.0,2125.0,2150.0,2125.0,2100.0,1970.0,1930.0,1900.0,1950.0,1990.0,2050.0,2075.0,2000.0,2025.0,1950.0,1900.0,1810.0,1790.0,1700.0,1760.0,1810.0,1920.0,1910.0,1880.0,1940.0,1910.0,1820.0,1830.0,1830.0,1850.0,1860.0,1870.0,1870.0,1900.0,1960.0,1970.0,2000.0,1990.0,1990.0,1990.0,1990.0,2025.0,1960.0,1930.0,1940.0,1980.0,1980.0,1980.0,1980.0,2000.0,2000.0,2000.0,2000.0,2025.0,2000.0,1990.0,1980.0,1990.0,1990.0,1990.0,2025.0,2025.0,2025.0,2025.0,2025.0,2000.0,2000.0,2000.0,2000.0,2025.0,2025.0,2100.0,2050.0,2050.0,2000.0,2025.0,2025.0,2025.0,2050.0,2050.0,2050.0,2025.0,2025.0,1990.0,1970.0,1960.0,1880.0,1840.0,1760.0,1810.0,1850.0,1900.0,1960.0,2000.0,2075.0,2025.0,1990.0,1950.0,1960.0,1980.0,2025.0,2025.0,2025.0,2000.0,2025.0,2025.0,2000.0,2050.0,2025.0,2025.0,2025.0,2025.0,2050.0,2075.0,2150.0,2150.0,2150.0,2100.0,2100.0,2125.0,2150.0,2175.0,2075.0,2100.0,2075.0,2100.0,2100.0,2125.0,2175.0,2225.0,2275.0,2350.0,2400.0,2400.0,2375.0,2350.0,2425.0,2400.0,2425.0,2450.0,2350.0,2325.0,2350.0,2300.0,2275.0,2300.0,2300.0,2375.0,2350.0,2400.0,2475.0,2575.0,2575.0,2550.0,2525.0,2500.0,2500.0,2250.0,2475.0,2500.0,2425.0,2450.0,2500.0,2500.0,2500.0,2500.0,2525.0,2675.0,2750.0,2725.0,2650.0,2500.0,2450.0,2500.0,2575.0,2550.0,2525.0,2550.0,2600.0,2425.0,2300.0,2300.0,2350.0,2375.0,2400.0,2325.0,2225.0,2275.0,2450.0,2425.0,2375.0,2350.0,2275.0,2250.0,2250.0,2375.0,2350.0,2325.0,2350.0,2425.0,2375.0,2375.0,2400.0,2425.0,2400.0,2400.0,2325.0,2325.0,2325.0,2350.0,2375.0,2350.0,2325.0,2275.0,2300.0,2325.0,2350.0,2325.0,2325.0,2275.0,2200.0,2225.0,2250.0,2250.0,2250.0,2225.0,2175.0,2200.0,2250.0,2300.0,2300.0,2275.0,2275.0,2275.0,2250.0,2250.0,2250.0,2225.0,2225.0,2200.0,2225.0,2225.0,2225.0,2200.0,2200.0,2200.0,2200.0,2200.0,2200.0,2225.0,2250.0,2275.0,2275.0,2275.0,2300.0,2250.0,2225.0,2200.0,2250.0,2350.0,2350.0,2300.0,2275.0,2300.0,2350.0,2350.0,2350.0,2375.0,2400.0,2375.0,2425.0,2425.0,2425.0,2425.0,2400.0,2350.0,2350.0,2375.0,2300.0,2250.0,2275.0,2325.0,2350.0,2350.0,2325.0,2350.0,2375.0,2425.0,2450.0,2500.0,2500.0,2525.0,2575.0,2550.0,2450.0,2450.0,2500.0,2500.0,2550.0,2525.0,2550.0,2525.0,2500.0,2475.0,2525.0,2550.0,2550.0,2650.0,2650.0,2625.0,2550.0,2550.0,2325.0,2275.0,2150.0,2250.0,2275.0,2300.0,2300.0,2350.0,2350.0,2225.0,2175.0,2200.0,2125.0,2050.0,1990.0,1990.0,1980.0,2025.0,2025.0,2000.0,1950.0,1960.0,1950.0,1930.0,1950.0,1930.0,1900.0,1890.0,1700.0,1560.0,1430.0,1570.0,1600.0,1660.0,1700.0,1610.0,1500.0,1510.0,1570.0,1610.0,1640.0,1720.0,1760.0,1850.0,1840.0,1930.0,1860.0,1920.0,1870.0,1890.0,1940.0,1960.0,1970.0,2025.0,2075.0,2025.0,1980.0,1930.0,1980.0,2025.0,2050.0,2075.0,2075.0,2025.0,2025.0,2025.0,1990.0,1990.0,1980.0,1950.0,1850.0,1860.0,1870.0,1890.0,1830.0,1880.0,1880.0,1890.0,1910.0,1930.0,1950.0,1940.0,1970.0,1980.0,1920.0,1920.0,1870.0,1840.0,1790.0,1820.0,1840.0,1730.0,1750.0,1740.0,1760.0,1760.0,1750.0,1740.0,1760.0,1750.0,1770.0,1810.0,1780.0,1760.0,1760.0,1770.0,1790.0,1790.0,1790.0,1760.0,1780.0,1790.0,1820.0,1800.0,1820.0,1830.0,1830.0,1830.0,1820.0,1810.0,1790.0,1870.0,1920.0,1930.0,1940.0,1950.0,1970.0,1910.0,1920.0,1900.0,1920.0,1910.0,1930.0,1960.0,1970.0,1960.0,1960.0,1900.0,1870.0,1870.0,1890.0,1900.0,1920.0,1930.0,1920.0,1900.0,1920.0,1900.0,1940.0,1940.0,1960.0,1920.0,1910.0,1910.0,1900.0,1870.0,1870.0,1880.0,1870.0,1890.0,1910.0,1910.0,1930.0,1960.0,1900.0,1890.0,1890.0,1880.0,1820.0,1800.0,1820.0,1810.0,1800.0,1810.0,1790.0,1770.0,1780.0,1790.0,1790.0,1800.0,1800.0,1830.0,1840.0,1840.0,1830.0,1800.0,1760.0,1760.0,1740.0,1750.0,1730.0,1710.0,1670.0,1610.0,1620.0,1660.0,1630.0,1630.0,1600.0,1580.0,1580.0,1570.0,1460.0,1360.0,1180.0,1210.0,1220.0,1280.0,1260.0,1240.0,1220.0,1220.0,1200.0,1190.0,1260.0,1270.0,1340.0,1400.0,1340.0,1320.0,1310.0,1370.0,1350.0,1380.0,1470.0,1530.0,1570.0,1580.0,1570.0,1460.0,1410.0,1410.0,1350.0,1360.0,1400.0,1410.0,1380.0,1410.0,1410.0,1350.0,1350.0,1320.0,1340.0,1380.0,1430.0,1440.0,1450.0,1490.0,1490.0,1540.0,1520.0,1490.0,1500.0,1530.0,1510.0,1510.0,1530.0,1500.0,1440.0,1400.0,1410.0,1390.0,1350.0,1340.0,1330.0,1370.0,1380.0,1350.0,1360.0,1370.0,1400.0,1410.0,1450.0,1490.0,1540.0,1580.0,1530.0,1530.0,1510.0,1480.0,1470.0,1460.0,1450.0,1480.0,1480.0,1470.0,1470.0,1450.0,1420.0,1440.0,1420.0,1430.0,1420.0,1410.0,1400.0,1390.0,1390.0,1390.0,1390.0,1350.0,1340.0,1400.0,1390.0,1390.0,1370.0,1370.0,1350.0,1330.0,1360.0,1340.0,1350.0,1370.0,1360.0,1370.0,1400.0,1400.0,1410.0,1380.0,1370.0,1360.0,1360.0,1340.0,1350.0,1350.0,1330.0,1340.0,1320.0,1320.0,1320.0,1340.0,1360.0,1370.0,1370.0,1390.0,1410.0,1450.0,1570.0,1570.0,1570.0,1570.0,1540.0,1530.0,1540.0,1570.0,1560.0,1590.0,1720.0,1720.0,1730.0,1700.0,1710.0,1730.0,1650.0,1620.0,1670.0,1660.0,1660.0,1670.0,1620.0,1610.0,1610.0,1640.0,1670.0,1660.0,1670.0,1630.0,1630.0,1610.0,1550.0,1580.0,1560.0,1560.0,1570.0,1570.0,1580.0,1610.0,1600.0,1610.0,1560.0,1580.0,1570.0,1550.0,1560.0,1550.0,1570.0,1570.0,1560.0,1560.0,1500.0,1510.0,1520.0,1530.0,1520.0,1500.0,1480.0,1490.0,1490.0,1450.0,1390.0,1330.0,1250.0,1260.0,1260.0,1280.0,1290.0,1290.0,1300.0,1310.0,1290.0,1280.0,1270.0,1260.0,1270.0,1280.0,1280.0,1270.0,1250.0,1260.0,1260.0,1250.0,1230.0,1210.0,1220.0,1220.0,1230.0,1210.0,1190.0,1190.0,1180.0,1190.0,1190.0,1200.0,1200.0,1190.0,1160.0,1120.0,1090.0,1030.0,1040.0,1100.0,1080.0,1090.0,1060.0,1060.0,1020.0,1020.0,990.0,940.0,920.0,880.0,880.0,880.0,840.0,840.0,810.0,800.0,810.0,840.0,840.0,850.0,810.0,770.0,750.0,770.0,760.0,770.0,790.0,800.0,820.0,790.0,760.0,770.0,770.0,760.0,740.0,720.0,690.0,690.0,680.0,680.0,670.0,700.0,700.0,690.0,700.0,700.0,700.0,700.0,690.0,690.0,690.0,660.0,640.0,660.0,750.0,750.0,760.0,760.0,730.0,660.0,710.0,690.0,820.0,850.0,820.0,820.0,860.0,890.0,910.0,960.0,950.0,940.0,960.0,990.0,870.0,880.0,940.0,930.0,940.0,920.0,940.0,950.0,940.0,930.0,910.0,900.0,910.0,910.0,890.0,890.0,900.0,900.0,900.0,890.0,900.0,900.0,980.0,980.0,960.0,970.0,1040.0,1050.0,1050.0,1050.0,1050.0,1010.0,1030.0,1010.0,1000.0,1010.0,1010.0,1040.0,1030.0,1040.0,1070.0,1140.0,1140.0,1120.0,1150.0,1160.0,1180.0,1160.0,1140.0,1140.0,1140.0,1170.0,1140.0,1110.0,1090.0,1100.0,1120.0,1120.0,1090.0,1140.0,1160.0,1170.0,1190.0,1210.0,1170.0,1150.0,1100.0,1110.0,1110.0,1130.0,1110.0,1100.0,1100.0,1070.0,1040.0,1060.0,1000.0,905.0,870.0,880.0,935.0,930.0,935.0,930.0,955.0,970.0,970.0,980.0,980.0,1020.0,1010.0,960.0,930.0,940.0,930.0,910.0,880.0,900.0,900.0,905.0,905.0,910.0,935.0,930.0,930.0,935.0,950.0,950.0,950.0,970.0,960.0,940.0,930.0,935.0,950.0,970.0,970.0,1005.0,1000.0,1010.0,995.0,960.0,945.0,950.0,955.0,965.0,975.0,980.0,960.0,945.0,975.0,965.0,975.0,970.0,970.0,980.0,970.0,970.0,970.0,970.0,965.0,970.0,930.0,940.0,1010.0,970.0,975.0,975.0,975.0,975.0,1010.0,1060.0,1090.0,1085.0,1110.0,1150.0,1135.0,1125.0,1165.0,1135.0,1100.0,1105.0,1120.0,1190.0,1210.0,1220.0,1240.0,1255.0,1255.0,1270.0,1290.0,1300.0,1270.0,1225.0,1185.0,1245.0,1265.0,1270.0,1285.0,1265.0,1280.0,1300.0,1270.0,1250.0,1225.0,1235.0,1255.0,1230.0,1185.0,1155.0,1130.0,1135.0,1155.0,1170.0,1165.0,1160.0,1160.0,1180.0,1180.0,1180.0,1180.0,1180.0,1170.0,1105.0,1090.0,1105.0,1135.0,1100.0,1090.0,1120.0,1080.0,1095.0,1105.0,1140.0,1170.0,1230.0,1230.0,1250.0,1250.0,1250.0,1255.0,1270.0,1285.0,1285.0,1300.0,1315.0,1315.0,1265.0,1250.0,1225.0,1225.0,1270.0,1315.0,1295.0,1300.0,1300.0,1330.0,1360.0,1345.0,1345.0,1325.0,1285.0,1250.0,1255.0,1265.0,1255.0,1275.0,1285.0,1260.0,1250.0,1255.0,1260.0,1265.0,1195.0,1155.0,1150.0,1160.0,1105.0,1090.0,1090.0,1135.0,1105.0,1140.0,1085.0,1005.0,990.0,940.0,920.0,955.0,960.0,965.0,980.0,1025.0,1030.0,1035.0,1015.0,1040.0,1080.0,1090.0,1130.0,1130.0,1090.0,1080.0,1075.0,1085.0,1090.0,1015.0,990.0,980.0,1000.0,980.0,1015.0,1025.0,1060.0,1080.0,1060.0,1080.0,1090.0,1075.0,1055.0,1070.0,1085.0,1095.0,1120.0,1090.0,1080.0,1060.0,1040.0,1025.0,995.0,995.0,1050.0,1055.0,1050.0,1050.0,1050.0,1055.0,1040.0,1030.0,1035.0,1015.0,1005.0,1000.0,980.0,990.0,995.0,960.0,945.0,930.0,925.0,940.0,935.0,970.0,1000.0,985.0,975.0,985.0,995.0,980.0,980.0,985.0,990.0,995.0,995.0,985.0,975.0,980.0,980.0,980.0,990.0,990.0,990.0,995.0,985.0,975.0,955.0,950.0,940.0,940.0,965.0,1015.0,985.0,990.0,985.0,975.0,980.0,955.0,955.0,960.0,945.0,950.0,945.0,960.0,950.0,960.0,975.0,960.0,935.0,935.0,950.0,950.0,950.0,960.0,975.0,975.0,965.0,965.0,960.0,955.0,950.0,950.0,965.0,960.0,950.0,950.0,960.0,965.0,955.0,920.0,910.0,865.0,835.0,835.0,840.0,860.0,850.0,850.0,865.0,900.0,910.0,900.0,870.0,880.0,880.0,880.0,880.0,875.0,875.0,880.0,890.0,860.0,865.0,900.0,890.0,880.0,865.0,830.0,830.0,810.0,830.0,755.0,765.0,790.0,775.0,780.0,790.0,780.0,780.0,775.0,770.0,760.0,760.0,755.0,750.0,755.0,735.0,695.0,655.0,605.0,620.0,610.0,580.0,585.0,560.0,575.0,555.0,550.0,550.0,575.0,580.0,580.0,560.0,565.0,585.0,590.0,575.0,560.0,520.0,471.0,489.0,490.0,484.0,484.0,480.0,472.0,467.0,468.0,520.0,545.0,600.0,590.0,575.0,555.0,610.0,570.0,555.0,555.0,575.0,540.0,545.0,565.0,560.0,565.0,575.0,580.0,585.0,590.0,570.0,565.0,550.0,510.0,515.0,515.0,515.0,525.0,540.0,570.0,590.0,635.0,680.0,635.0,620.0,620.0,635.0,640.0,645.0,630.0,645.0,660.0,650.0,645.0,605.0,585.0,590.0,620.0,645.0,625.0,620.0,615.0,610.0,605.0,610.0,580.0,555.0,555.0,555.0,585.0,585.0,570.0,560.0,565.0,580.0,565.0,525.0,540.0,530.0,525.0,520.0,510.0,490.0,490.0,472.0,475.0,475.0,441.0,458.0,498.0,490.0,494.0,497.0,500.0,500.0,500.0,515.0,494.0,495.0,495.0,485.0,490.0,486.0,481.0,473.0,450.0,449.0,439.0,451.0,437.0,441.0,456.0,497.0,476.0,475.0,490.0,510.0,500.0,500.0,535.0,570.0,620.0,580.0,565.0,575.0,585.0,580.0,590.0,610.0,595.0,580.0,580.0,595.0,585.0,570.0,575.0,595.0,610.0,655.0,645.0,660.0,685.0,755.0,760.0,700.0,700.0,735.0,680.0,680.0,690.0,690.0,645.0,655.0,650.0,650.0,640.0,645.0,655.0,670.0,665.0,690.0,680.0,695.0,695.0,700.0,725.0,735.0,740.0,710.0,710.0,715.0,715.0,695.0,705.0,695.0,675.0,655.0,660.0,685.0,670.0,665.0,680.0,680.0,675.0,670.0,670.0,655.0,670.0,675.0,690.0,695.0,690.0,705.0,720.0,760.0,815.0,830.0,870.0,870.0,880.0,855.0,845.0,830.0,840.0,800.0,815.0,840.0,845.0,840.0,805.0,820.0,830.0,845.0,850.0,860.0,900.0,915.0,990.0,1030.0,995.0,1005.0,1015.0,1020.0,1035.0,1040.0,1030.0,1060.0,1025.0,1035.0,1000.0,1015.0,1055.0,1105.0,1110.0,1120.0,1140.0,1155.0,1140.0,1085.0,1110.0,1105.0,1110.0,1150.0,1100.0,1100.0,1065.0,1055.0,1055.0,1065.0,1050.0,1070.0,1140.0,1135.0,1160.0,1180.0,1215.0,1205.0,1215.0,1230.0,1150.0,1105.0,1115.0,1155.0,1180.0,1165.0,1160.0,1185.0,1190.0,1190.0,1185.0,1175.0,1230.0,1205.0,1250.0,1305.0,1280.0,1315.0,1335.0,1345.0,1375.0,1385.0,1405.0,1390.0,1435.0,1440.0,1485.0,1505.0,1450.0,1495.0,1520.0,1545.0,1535.0,1555.0,1555.0,1605.0,1645.0,1630.0,1580.0,1675.0,1610.0,1475.0,1610.0,1550.0,1605.0,1465.0,1490.0,1500.0,1480.0,1480.0,1550.0,1595.0,1620.0,1635.0,1645.0,1630.0,1530.0,1580.0,1615.0,1665.0,1720.0,1660.0,1620.0,1665.0,1675.0,1685.0,1665.0,1660.0,1675.0,1665.0,1670.0,1650.0,1655.0,1665.0,1675.0,1680.0,1660.0,1695.0,1685.0,1690.0,1660.0,1655.0,1685.0,1680.0,1700.0,1715.0,1685.0,1700.0,1680.0,1715.0,1715.0,1715.0,1720.0,1725.0,1725.0,1700.0,1700.0,1705.0,1695.0,1705.0,1725.0,1720.0,1730.0,1730.0,1705.0,1705.0,1685.0,1670.0,1615.0,1645.0,1660.0,1660.0,1670.0,1700.0,1665.0,1685.0,1690.0,1695.0,1675.0,1665.0,1675.0,1665.0,1680.0,1675.0,1690.0,1670.0,1590.0,1565.0,1640.0,1630.0,1660.0,1675.0,1675.0,1695.0,1690.0,1720.0,1745.0,1780.0,1800.0,1800.0,1750.0,1775.0,1855.0,1870.0,1840.0,1865.0,1870.0,1850.0,1855.0,1860.0,1850.0,1830.0,1835.0,1835.0,1815.0,1820.0,1785.0,1820.0,1770.0,1720.0,1625.0,1610.0,1560.0,1575.0,1510.0,1460.0,1475.0,1440.0,1460.0,1410.0,1395.0,1430.0,1415.0,1445.0,1450.0,1460.0,1465.0,1455.0,1445.0,1520.0,1465.0,1490.0,1545.0,1590.0,1575.0,1555.0,1540.0,1540.0,1590.0,1635.0,1585.0,1555.0,1580.0,1595.0,1575.0,1580.0,1580.0,1580.0,1580.0,1580.0,1580.0,1565.0,1575.0,1600.0,1615.0,1610.0,1585.0,1595.0,1600.0,1615.0,1630.0,1660.0,1685.0,1700.0,1750.0,1795.0,1775.0,1790.0,1800.0,1760.0,1790.0,1785.0,1825.0,1840.0,1840.0,1830.0,1830.0,1845.0,1805.0,1815.0,1820.0,1825.0,1850.0,1840.0,1880.0,1850.0,1850.0,1850.0,1865.0,1945.0,1935.0,1885.0,1850.0,1870.0,1825.0,1825.0,1785.0,1785.0,1865.0,1840.0,1860.0,1875.0,1860.0,1680.0,1720.0,1700.0,1750.0,1805.0,1835.0,1860.0,1815.0,1755.0,1710.0,1630.0,1665.0,1730.0,1765.0,1745.0,1810.0,1830.0,1830.0,1850.0,1860.0,1860.0,1895.0,1865.0,1855.0,1880.0,1865.0,1860.0,1790.0,1830.0,1855.0,1870.0,1825.0,1835.0,1835.0,1825.0,1850.0,1885.0,1895.0,1870.0,1895.0,1815.0,1800.0,1810.0,1810.0,1810.0,1735.0,1695.0,1765.0,1750.0,1715.0,1720.0,1725.0,1690.0,1685.0,1680.0,1720.0,1700.0,1700.0,1730.0,1750.0,1755.0,1700.0,1700.0,1695.0,1715.0,1810.0,1785.0,1790.0,1790.0,1800.0,1795.0,1815.0,1855.0,1890.0,1890.0,1890.0,1870.0,1845.0,1860.0,1865.0,1810.0,1850.0,1935.0,1975.0,2140.0,2150.0,2140.0,2190.0,2210.0,2150.0,2130.0,2150.0,2160.0,2210.0,2350.0,2380.0,2420.0,2410.0,2440.0,2460.0,2450.0,2360.0,2320.0,2390.0,2420.0,2390.0,2390.0,2300.0,2330.0,2370.0,2410.0,2460.0,2470.0,2450.0,2410.0,2430.0,2430.0,2460.0,2370.0,2350.0,2350.0,2370.0,2290.0,2300.0,2300.0,2150.0,1995.0,2110.0,2170.0,2130.0,2060.0,2020.0,2000.0,2020.0,2000.0,2030.0,2000.0,1945.0,1990.0,2030.0,2020.0,2030.0,2130.0,2110.0,2080.0,2030.0,2010.0,2000.0,2020.0,2050.0,2110.0,2110.0,2110.0,2130.0,2130.0,2080.0,2100.0,2100.0,2210.0,2180.0,2200.0,2200.0,2200.0,1835.0,1835.0,1770.0,1595.0,1625.0,1605.0,1615.0,1575.0,1700.0,1700.0,1640.0,1650.0,1665.0,1815.0,1865.0,1880.0,1905.0,1825.0,1800.0,1830.0,1795.0,1820.0,1815.0,1870.0,1885.0,1915.0,1990.0,1985.0,1980.0,1935.0,1935.0,1935.0,1935.0,1935.0,1935.0,1935.0,1935.0,1830.0,1965.0,1905.0,1865.0,1755.0,1705.0,1650.0,1665.0,1735.0,1690.0,1690.0,1745.0,1775.0,1795.0,1830.0,1820.0,1865.0,1825.0,1780.0,1755.0,1780.0,1860.0,1825.0,1800.0,1795.0,1810.0,1845.0,1840.0,2030.0,1880.0,1900.0,1925.0,1930.0,1950.0,1965.0,1980.0,1925.0,1900.0,1810.0,1800.0,1780.0,1780.0,1780.0,1800.0,1845.0,1880.0,1865.0,1890.0,1860.0,1885.0,1885.0,1895.0,1840.0,1840.0,1800.0,1700.0,1675.0,1720.0,1705.0,1735.0,1745.0,1725.0,1720.0,1690.0,1700.0,1725.0,1730.0,1795.0,1815.0,1805.0,1805.0,1810.0,1820.0,1820.0,1830.0,1835.0,1810.0,1790.0,1750.0,1730.0,1730.0,1700.0,1705.0,1675.0,1685.0,1745.0,1710.0,1690.0,1695.0,1695.0,1655.0,1610.0,1665.0,1660.0,1640.0,1615.0,1630.0,1585.0,1565.0,1585.0,1585.0,1595.0,1580.0,1510.0,1490.0,1530.0,1530.0,1535.0,1485.0,1485.0,1300.0,1250.0,1280.0,1240.0,1220.0,1220.0,1270.0,1265.0,1300.0,1250.0,1270.0,1275.0,1295.0,1290.0,1285.0,1250.0,1255.0,1270.0,1260.0,1235.0,1230.0,1245.0,1235.0,1250.0,1250.0,1215.0,1235.0,1215.0,1215.0,1215.0,1215.0,1215.0,1220.0,1365.0,1360.0,1380.0,1370.0,1395.0,1385.0,1405.0,1455.0,1455.0,1475.0,1445.0,1375.0,1370.0,1380.0,1380.0,1380.0,1335.0,1340.0,1360.0,1365.0,1355.0,1360.0,1355.0,1335.0,1305.0,1255.0,1240.0,1260.0,1240.0,1215.0,1240.0,1270.0,1285.0,1330.0,1410.0,1380.0,1350.0,1360.0,1305.0,1310.0,1325.0,1385.0,1360.0,1360.0,1365.0,1365.0,1380.0,1390.0,1430.0,1430.0,1405.0,1410.0,1420.0,1415.0,1400.0,1335.0,1350.0,1335.0,1330.0,1340.0,1320.0,1310.0,1325.0,1265.0,1255.0,1250.0,1275.0,1275.0,1295.0,1295.0,1280.0,1280.0,1305.0,1290.0,1295.0,1260.0,1275.0,1300.0,1285.0,1280.0,1280.0,1300.0,1305.0,1315.0,1310.0,1290.0,1310.0,1295.0,1275.0,1250.0,1250.0,1220.0,1215.0,1160.0,1160.0,1170.0,1185.0,1210.0,1240.0,1260.0,1265.0,1260.0,1265.0,1270.0,1260.0,1295.0,1295.0,1295.0,1295.0,1295.0,1275.0,1265.0,1265.0,1265.0,1230.0,1215.0,1220.0,1250.0,1265.0,1225.0,1225.0,1230.0,1330.0,1340.0,1345.0,1350.0,1380.0,1360.0,1380.0,1415.0,1375.0,1320.0,1330.0,1330.0,1275.0,1265.0,1270.0,1265.0,1270.0,1285.0,1280.0,1265.0,1250.0,1250.0,1230.0,1220.0,1245.0,1260.0,1215.0,1165.0,1110.0,1040.0,1090.0,1100.0,1095.0,1060.0,1030.0,1035.0,1010.0,1010.0,1030.0,1025.0,1020.0,1045.0,1050.0,1090.0,1100.0,1100.0,1110.0,1105.0,1165.0,1205.0,1220.0,1275.0,1350.0,1355.0,1425.0,1430.0,1355.0,1400.0,1420.0,1380.0,1370.0,1355.0,1365.0,1275.0,1260.0,1285.0,1290.0,1280.0,1300.0,1270.0,1225.0,1255.0,1250.0,1240.0,1265.0,1255.0,1270.0,1270.0,1280.0,1300.0,1300.0,1310.0,1320.0,1345.0,1325.0,1345.0,1335.0,1345.0,1325.0,1300.0,1295.0,1250.0,1270.0,1290.0,1340.0,1325.0,1395.0,1385.0,1400.0,1330.0,1275.0,1300.0,1290.0,1300.0,1305.0,1310.0,1305.0,1300.0,1280.0,1245.0,1210.0,1225.0,1290.0,1290.0,1365.0,1405.0,1415.0,1405.0,1465.0,1465.0,1465.0,1590.0,1525.0,1595.0,1545.0,1505.0,1540.0,1570.0,1575.0,1555.0,1490.0],\"open\":[1500.0,1700.0,1640.0,1680.0,1670.0,1660.0,1630.0,1630.0,1670.0,1680.0,1690.0,1630.0,1590.0,1550.0,1540.0,1560.0,1600.0,1540.0,1510.0,1500.0,1520.0,1530.0,1490.0,1530.0,1530.0,1560.0,1540.0,1540.0,1530.0,1530.0,1540.0,1530.0,1510.0,1480.0,1490.0,1450.0,1450.0,1410.0,1410.0,1400.0,1390.0,1360.0,1320.0,1350.0,1430.0,1510.0,1510.0,1510.0,1510.0,1490.0,1440.0,1210.0,1000.0,810.0,730.0,730.0,730.0,740.0,740.0,790.0,760.0,730.0,690.0,690.0,630.0,570.0,520.0,570.0,680.0,810.0,810.0,770.0,700.0,660.0,620.0,640.0,640.0,580.0,560.0,530.0,520.0,500.0,490.0,480.0,470.0,480.0,530.0,500.0,490.0,510.0,470.0,470.0,495.0,475.0,490.0,520.0,530.0,500.0,490.0,500.0,510.0,500.0,480.0,485.0,485.0,490.0,485.0,520.0,520.0,520.0,500.0,510.0,550.0,660.0,680.0,660.0,670.0,650.0,630.0,640.0,640.0,640.0,690.0,690.0,720.0,740.0,730.0,730.0,770.0,820.0,870.0,830.0,850.0,860.0,850.0,840.0,830.0,800.0,820.0,810.0,790.0,800.0,780.0,780.0,770.0,770.0,730.0,720.0,760.0,760.0,750.0,770.0,770.0,770.0,770.0,750.0,740.0,740.0,740.0,780.0,820.0,890.0,890.0,940.0,890.0,880.0,890.0,890.0,890.0,910.0,900.0,900.0,950.0,970.0,970.0,950.0,960.0,980.0,970.0,1010.0,1000.0,1020.0,1000.0,1010.0,1020.0,1060.0,1140.0,1130.0,1160.0,1200.0,1180.0,1180.0,1170.0,1180.0,1100.0,1070.0,1080.0,1120.0,1130.0,1280.0,1310.0,1230.0,1280.0,1290.0,1340.0,1380.0,1370.0,1300.0,1340.0,1320.0,1290.0,1300.0,1310.0,1310.0,1300.0,1260.0,1260.0,1240.0,1180.0,1240.0,1180.0,1080.0,1180.0,1250.0,1240.0,1220.0,1200.0,1200.0,1210.0,1170.0,1130.0,1190.0,1150.0,1170.0,1100.0,1160.0,1180.0,1160.0,1150.0,1200.0,1180.0,1200.0,1210.0,1250.0,1270.0,1240.0,1260.0,1280.0,1280.0,1330.0,1360.0,1370.0,1450.0,1480.0,1460.0,1440.0,1460.0,1450.0,1420.0,1330.0,1410.0,1390.0,1440.0,1390.0,1390.0,1350.0,1350.0,1360.0,1360.0,1350.0,1350.0,1340.0,1330.0,1380.0,1360.0,1370.0,1370.0,1350.0,1350.0,1370.0,1390.0,1400.0,1400.0,1410.0,1420.0,1430.0,1420.0,1400.0,1420.0,1440.0,1410.0,1390.0,1400.0,1380.0,1390.0,1430.0,1450.0,1460.0,1530.0,1510.0,1560.0,1520.0,1620.0,1600.0,1570.0,1520.0,1540.0,1540.0,1580.0,1510.0,1560.0,1540.0,1540.0,1540.0,1510.0,1550.0,1620.0,1710.0,1710.0,1700.0,1700.0,1680.0,1700.0,1770.0,1710.0,1720.0,1670.0,1740.0,1740.0,1750.0,1730.0,1740.0,1750.0,1710.0,1740.0,1730.0,1750.0,1740.0,1730.0,1750.0,1720.0,1680.0,1710.0,1700.0,1710.0,1730.0,1730.0,1750.0,1790.0,1800.0,1840.0,1960.0,1980.0,1960.0,1960.0,2050.0,1990.0,1950.0,1990.0,1970.0,1960.0,1940.0,1940.0,1950.0,1840.0,1900.0,1890.0,1850.0,1860.0,1920.0,1930.0,1860.0,1840.0,1830.0,1790.0,1810.0,1840.0,1830.0,1860.0,1860.0,1810.0,1800.0,1810.0,1840.0,1860.0,1830.0,1840.0,1830.0,1840.0,1840.0,1850.0,1860.0,1870.0,1890.0,1890.0,1880.0,1870.0,1920.0,1900.0,1880.0,1840.0,1830.0,1880.0,1860.0,1870.0,1890.0,1910.0,1960.0,2025.0,2025.0,2100.0,2150.0,2100.0,2125.0,2150.0,2150.0,2150.0,2200.0,2225.0,2175.0,2200.0,2200.0,2250.0,2200.0,2200.0,2200.0,2150.0,2125.0,2200.0,2125.0,2125.0,1980.0,2000.0,1930.0,1970.0,2025.0,2100.0,2075.0,2050.0,2050.0,1950.0,1920.0,1840.0,1800.0,1720.0,1890.0,1910.0,2000.0,1920.0,1930.0,1950.0,1940.0,1840.0,1850.0,1860.0,1860.0,1870.0,1890.0,1880.0,1970.0,1980.0,1980.0,2075.0,2000.0,2025.0,1990.0,2025.0,2050.0,1970.0,1990.0,1970.0,1990.0,1990.0,2025.0,1990.0,2025.0,2050.0,2025.0,2025.0,2050.0,2025.0,2025.0,1990.0,2000.0,2025.0,2025.0,2050.0,2025.0,2025.0,2075.0,2050.0,2000.0,2050.0,2025.0,2025.0,2050.0,2125.0,2125.0,2100.0,2075.0,2050.0,2075.0,2050.0,2100.0,2100.0,2100.0,2075.0,2050.0,2050.0,2025.0,1990.0,1980.0,1900.0,1870.0,1790.0,1840.0,1920.0,1940.0,1970.0,2100.0,2150.0,2050.0,2025.0,1980.0,1980.0,2025.0,2075.0,2050.0,2050.0,2025.0,2050.0,2025.0,2050.0,2100.0,2050.0,2050.0,2075.0,2050.0,2100.0,2175.0,2225.0,2175.0,2175.0,2125.0,2125.0,2250.0,2175.0,2200.0,2100.0,2125.0,2100.0,2125.0,2125.0,2150.0,2225.0,2275.0,2350.0,2500.0,2400.0,2450.0,2400.0,2400.0,2475.0,2450.0,2450.0,2450.0,2425.0,2400.0,2350.0,2325.0,2300.0,2325.0,2375.0,2400.0,2375.0,2475.0,2625.0,2625.0,2600.0,2575.0,2550.0,2550.0,2525.0,2300.0,2500.0,2550.0,2475.0,2525.0,2525.0,2500.0,2525.0,2550.0,2675.0,2875.0,2850.0,2775.0,2700.0,2500.0,2475.0,2625.0,2625.0,2625.0,2575.0,2675.0,2650.0,2450.0,2350.0,2350.0,2475.0,2400.0,2425.0,2375.0,2250.0,2400.0,2500.0,2450.0,2400.0,2350.0,2300.0,2300.0,2375.0,2425.0,2375.0,2375.0,2425.0,2475.0,2375.0,2450.0,2450.0,2475.0,2450.0,2425.0,2350.0,2325.0,2375.0,2375.0,2400.0,2350.0,2325.0,2325.0,2400.0,2400.0,2375.0,2375.0,2375.0,2325.0,2225.0,2275.0,2275.0,2300.0,2275.0,2225.0,2200.0,2275.0,2350.0,2300.0,2350.0,2325.0,2300.0,2300.0,2275.0,2275.0,2250.0,2275.0,2225.0,2225.0,2250.0,2225.0,2250.0,2225.0,2200.0,2225.0,2200.0,2225.0,2225.0,2250.0,2325.0,2300.0,2325.0,2300.0,2325.0,2250.0,2275.0,2250.0,2350.0,2375.0,2375.0,2325.0,2325.0,2375.0,2375.0,2400.0,2375.0,2450.0,2425.0,2450.0,2475.0,2475.0,2450.0,2450.0,2400.0,2400.0,2425.0,2400.0,2350.0,2275.0,2300.0,2375.0,2375.0,2350.0,2375.0,2375.0,2400.0,2450.0,2500.0,2500.0,2525.0,2550.0,2600.0,2575.0,2475.0,2525.0,2500.0,2550.0,2600.0,2575.0,2575.0,2525.0,2525.0,2500.0,2575.0,2600.0,2675.0,2650.0,2675.0,2650.0,2600.0,2600.0,2375.0,2325.0,2175.0,2450.0,2325.0,2325.0,2350.0,2350.0,2400.0,2250.0,2225.0,2250.0,2125.0,2100.0,2025.0,1990.0,2025.0,2075.0,2050.0,2025.0,1970.0,1970.0,1960.0,1940.0,1980.0,1940.0,1920.0,1900.0,1710.0,1650.0,1520.0,1630.0,1690.0,1730.0,1720.0,1610.0,1530.0,1530.0,1680.0,1680.0,1670.0,1780.0,1860.0,1860.0,1900.0,1960.0,1880.0,1980.0,1900.0,1910.0,1950.0,2000.0,2000.0,2075.0,2125.0,2025.0,1990.0,2050.0,2000.0,2050.0,2075.0,2075.0,2150.0,2075.0,2050.0,2050.0,2000.0,2025.0,2000.0,1960.0,1880.0,1920.0,1910.0,1910.0,1870.0,1900.0,1900.0,1910.0,1910.0,1970.0,1970.0,1970.0,2000.0,1990.0,1920.0,1930.0,1880.0,1860.0,1820.0,1840.0,1840.0,1730.0,1760.0,1760.0,1770.0,1780.0,1770.0,1760.0,1770.0,1760.0,1810.0,1830.0,1790.0,1770.0,1780.0,1820.0,1810.0,1810.0,1810.0,1780.0,1800.0,1820.0,1830.0,1820.0,1830.0,1840.0,1840.0,1860.0,1820.0,1830.0,1870.0,1960.0,1920.0,1940.0,1980.0,2000.0,1980.0,1930.0,1950.0,1920.0,1950.0,1920.0,1980.0,1990.0,1990.0,2000.0,1960.0,1920.0,1890.0,1900.0,1920.0,1900.0,1970.0,1950.0,1930.0,1920.0,1930.0,1920.0,1950.0,1940.0,1970.0,1940.0,1920.0,1910.0,1920.0,1900.0,1900.0,1890.0,1890.0,1930.0,1920.0,1930.0,1960.0,1960.0,1910.0,1910.0,1900.0,1880.0,1830.0,1810.0,1830.0,1820.0,1810.0,1820.0,1810.0,1800.0,1800.0,1830.0,1820.0,1810.0,1810.0,1860.0,1870.0,1870.0,1840.0,1810.0,1770.0,1760.0,1760.0,1760.0,1730.0,1730.0,1680.0,1650.0,1650.0,1700.0,1650.0,1650.0,1620.0,1610.0,1610.0,1590.0,1470.0,1380.0,1200.0,1220.0,1270.0,1300.0,1260.0,1270.0,1230.0,1230.0,1210.0,1240.0,1270.0,1330.0,1420.0,1420.0,1370.0,1370.0,1330.0,1390.0,1400.0,1360.0,1560.0,1550.0,1620.0,1590.0,1570.0,1480.0,1440.0,1420.0,1370.0,1380.0,1420.0,1420.0,1410.0,1420.0,1420.0,1370.0,1360.0,1350.0,1360.0,1430.0,1440.0,1460.0,1510.0,1520.0,1520.0,1590.0,1550.0,1500.0,1540.0,1560.0,1520.0,1540.0,1570.0,1520.0,1450.0,1410.0,1430.0,1400.0,1360.0,1350.0,1370.0,1390.0,1380.0,1360.0,1360.0,1400.0,1430.0,1440.0,1500.0,1510.0,1590.0,1590.0,1550.0,1570.0,1530.0,1550.0,1480.0,1500.0,1490.0,1490.0,1500.0,1480.0,1480.0,1450.0,1430.0,1460.0,1440.0,1440.0,1440.0,1420.0,1410.0,1390.0,1400.0,1410.0,1390.0,1350.0,1400.0,1410.0,1390.0,1400.0,1390.0,1380.0,1370.0,1370.0,1370.0,1350.0,1390.0,1410.0,1390.0,1410.0,1420.0,1420.0,1430.0,1400.0,1390.0,1380.0,1370.0,1350.0,1350.0,1360.0,1390.0,1350.0,1340.0,1320.0,1340.0,1370.0,1370.0,1380.0,1390.0,1410.0,1460.0,1600.0,1570.0,1590.0,1590.0,1580.0,1560.0,1570.0,1600.0,1590.0,1590.0,1740.0,1750.0,1750.0,1730.0,1740.0,1730.0,1750.0,1660.0,1690.0,1690.0,1700.0,1670.0,1690.0,1650.0,1620.0,1630.0,1700.0,1670.0,1680.0,1680.0,1650.0,1640.0,1610.0,1570.0,1600.0,1570.0,1570.0,1570.0,1580.0,1600.0,1630.0,1630.0,1620.0,1590.0,1600.0,1580.0,1580.0,1600.0,1560.0,1600.0,1570.0,1560.0,1560.0,1500.0,1550.0,1530.0,1540.0,1540.0,1510.0,1510.0,1500.0,1540.0,1480.0,1460.0,1390.0,1350.0,1300.0,1270.0,1290.0,1310.0,1310.0,1300.0,1330.0,1310.0,1300.0,1280.0,1290.0,1270.0,1280.0,1280.0,1280.0,1270.0,1270.0,1260.0,1270.0,1270.0,1250.0,1240.0,1250.0,1240.0,1240.0,1240.0,1200.0,1190.0,1190.0,1190.0,1210.0,1210.0,1210.0,1200.0,1160.0,1090.0,1100.0,1060.0,1120.0,1120.0,1110.0,1110.0,1070.0,1080.0,1040.0,1030.0,970.0,950.0,930.0,890.0,910.0,840.0,860.0,820.0,810.0,840.0,850.0,840.0,850.0,810.0,800.0,760.0,770.0,800.0,780.0,820.0,810.0,850.0,830.0,810.0,770.0,780.0,780.0,770.0,750.0,720.0,700.0,700.0,700.0,690.0,710.0,710.0,710.0,710.0,710.0,720.0,710.0,700.0,700.0,710.0,700.0,690.0,660.0,780.0,790.0,760.0,780.0,790.0,720.0,710.0,720.0,850.0,850.0,850.0,830.0,880.0,920.0,920.0,970.0,970.0,960.0,980.0,990.0,1020.0,930.0,960.0,970.0,950.0,950.0,940.0,970.0,950.0,930.0,960.0,900.0,920.0,940.0,890.0,900.0,920.0,900.0,940.0,900.0,900.0,920.0,1000.0,1010.0,980.0,980.0,1050.0,1120.0,1060.0,1070.0,1060.0,1060.0,1060.0,1040.0,1020.0,1030.0,1010.0,1040.0,1070.0,1050.0,1070.0,1160.0,1170.0,1140.0,1150.0,1190.0,1180.0,1220.0,1190.0,1160.0,1170.0,1180.0,1220.0,1170.0,1140.0,1100.0,1120.0,1140.0,1100.0,1170.0,1180.0,1170.0,1200.0,1230.0,1200.0,1190.0,1160.0,1110.0,1130.0,1160.0,1150.0,1120.0,1110.0,1120.0,1080.0,1090.0,1050.0,1010.0,930.0,885.0,940.0,960.0,945.0,955.0,960.0,970.0,975.0,980.0,985.0,1035.0,1040.0,1010.0,965.0,945.0,940.0,960.0,895.0,920.0,905.0,915.0,915.0,910.0,955.0,940.0,945.0,945.0,975.0,955.0,950.0,985.0,970.0,975.0,930.0,935.0,960.0,980.0,975.0,1025.0,1015.0,1030.0,1005.0,995.0,955.0,950.0,970.0,975.0,980.0,980.0,1005.0,980.0,990.0,970.0,985.0,980.0,975.0,985.0,985.0,985.0,985.0,970.0,985.0,970.0,965.0,940.0,1020.0,1020.0,975.0,990.0,985.0,980.0,1015.0,1080.0,1095.0,1095.0,1130.0,1150.0,1190.0,1150.0,1170.0,1175.0,1135.0,1110.0,1120.0,1205.0,1230.0,1230.0,1275.0,1300.0,1285.0,1300.0,1305.0,1305.0,1290.0,1225.0,1270.0,1275.0,1280.0,1295.0,1320.0,1280.0,1300.0,1325.0,1270.0,1280.0,1225.0,1285.0,1265.0,1230.0,1185.0,1155.0,1135.0,1145.0,1200.0,1185.0,1175.0,1165.0,1200.0,1190.0,1190.0,1195.0,1180.0,1180.0,1180.0,1130.0,1105.0,1145.0,1150.0,1110.0,1115.0,1130.0,1095.0,1105.0,1155.0,1185.0,1235.0,1255.0,1255.0,1270.0,1255.0,1265.0,1265.0,1285.0,1295.0,1295.0,1320.0,1330.0,1320.0,1280.0,1255.0,1230.0,1270.0,1340.0,1315.0,1315.0,1320.0,1335.0,1370.0,1375.0,1355.0,1385.0,1330.0,1285.0,1285.0,1305.0,1275.0,1270.0,1320.0,1290.0,1265.0,1255.0,1270.0,1265.0,1275.0,1195.0,1165.0,1175.0,1160.0,1120.0,1105.0,1140.0,1140.0,1155.0,1140.0,1090.0,1010.0,1010.0,940.0,965.0,980.0,960.0,975.0,1030.0,1050.0,1055.0,1045.0,1030.0,1100.0,1100.0,1135.0,1150.0,1140.0,1100.0,1080.0,1095.0,1085.0,1090.0,1020.0,1000.0,1000.0,1000.0,1015.0,1030.0,1070.0,1075.0,1090.0,1095.0,1105.0,1100.0,1080.0,1080.0,1075.0,1090.0,1100.0,1140.0,1125.0,1085.0,1090.0,1055.0,1050.0,1005.0,1000.0,1055.0,1065.0,1080.0,1075.0,1060.0,1055.0,1050.0,1045.0,1045.0,1050.0,1005.0,1015.0,1010.0,995.0,1010.0,990.0,955.0,935.0,925.0,950.0,955.0,985.0,1015.0,1025.0,990.0,985.0,1000.0,990.0,995.0,1000.0,1005.0,1005.0,1000.0,1005.0,1000.0,985.0,990.0,980.0,995.0,1010.0,990.0,1000.0,995.0,1000.0,980.0,960.0,965.0,945.0,970.0,1025.0,1010.0,1005.0,1005.0,980.0,985.0,975.0,955.0,975.0,960.0,950.0,945.0,965.0,965.0,960.0,975.0,980.0,955.0,945.0,960.0,970.0,955.0,960.0,990.0,985.0,980.0,965.0,980.0,955.0,960.0,960.0,970.0,960.0,965.0,950.0,965.0,975.0,985.0,970.0,910.0,930.0,890.0,850.0,850.0,860.0,870.0,860.0,865.0,905.0,925.0,910.0,900.0,880.0,895.0,880.0,885.0,885.0,880.0,895.0,905.0,895.0,880.0,900.0,925.0,885.0,890.0,875.0,840.0,840.0,845.0,820.0,775.0,790.0,805.0,795.0,815.0,800.0,780.0,780.0,780.0,775.0,760.0,760.0,760.0,760.0,755.0,740.0,695.0,650.0,635.0,640.0,620.0,590.0,600.0,580.0,590.0,560.0,565.0,600.0,600.0,590.0,590.0,570.0,595.0,600.0,595.0,580.0,570.0,505.0,491.0,505.0,492.0,497.0,491.0,484.0,480.0,468.0,540.0,555.0,605.0,625.0,595.0,565.0,620.0,620.0,580.0,555.0,580.0,570.0,550.0,575.0,575.0,590.0,585.0,585.0,590.0,605.0,590.0,580.0,585.0,525.0,520.0,515.0,525.0,525.0,545.0,570.0,620.0,635.0,685.0,695.0,635.0,650.0,650.0,640.0,685.0,650.0,650.0,675.0,675.0,650.0,650.0,610.0,600.0,620.0,650.0,650.0,640.0,630.0,615.0,615.0,640.0,600.0,575.0,570.0,560.0,585.0,605.0,595.0,560.0,565.0,590.0,585.0,555.0,555.0,550.0,535.0,525.0,525.0,500.0,490.0,490.0,480.0,475.0,477.0,465.0,500.0,505.0,494.0,500.0,505.0,505.0,505.0,530.0,510.0,500.0,499.0,495.0,490.0,493.0,486.0,481.0,469.0,467.0,440.0,453.0,460.0,441.0,460.0,525.0,493.0,488.0,490.0,530.0,535.0,500.0,545.0,585.0,620.0,620.0,575.0,575.0,600.0,610.0,595.0,615.0,630.0,595.0,590.0,610.0,600.0,605.0,585.0,600.0,610.0,685.0,665.0,660.0,685.0,755.0,775.0,735.0,705.0,745.0,755.0,685.0,710.0,695.0,680.0,660.0,665.0,660.0,665.0,645.0,665.0,680.0,665.0,705.0,685.0,710.0,695.0,700.0,760.0,750.0,745.0,745.0,735.0,735.0,730.0,720.0,725.0,705.0,710.0,675.0,685.0,685.0,690.0,670.0,700.0,690.0,685.0,680.0,675.0,675.0,670.0,685.0,710.0,700.0,700.0,710.0,725.0,760.0,825.0,845.0,920.0,880.0,925.0,870.0,860.0,845.0,865.0,840.0,815.0,855.0,850.0,850.0,850.0,830.0,835.0,865.0,870.0,860.0,900.0,930.0,1025.0,1045.0,1045.0,1020.0,1030.0,1020.0,1050.0,1055.0,1045.0,1070.0,1065.0,1045.0,1055.0,1040.0,1055.0,1105.0,1110.0,1120.0,1150.0,1170.0,1200.0,1145.0,1130.0,1140.0,1120.0,1160.0,1150.0,1110.0,1115.0,1090.0,1060.0,1100.0,1080.0,1100.0,1145.0,1150.0,1175.0,1180.0,1230.0,1240.0,1245.0,1270.0,1250.0,1150.0,1120.0,1180.0,1180.0,1185.0,1175.0,1185.0,1210.0,1210.0,1215.0,1215.0,1230.0,1270.0,1250.0,1325.0,1305.0,1320.0,1365.0,1370.0,1400.0,1390.0,1415.0,1405.0,1435.0,1480.0,1485.0,1530.0,1510.0,1500.0,1540.0,1545.0,1590.0,1565.0,1560.0,1605.0,1650.0,1700.0,1605.0,1685.0,1700.0,1635.0,1610.0,1590.0,1650.0,1595.0,1490.0,1530.0,1500.0,1500.0,1555.0,1650.0,1635.0,1665.0,1660.0,1680.0,1660.0,1580.0,1620.0,1680.0,1745.0,1695.0,1710.0,1685.0,1700.0,1710.0,1680.0,1690.0,1685.0,1710.0,1710.0,1690.0,1680.0,1670.0,1695.0,1700.0,1660.0,1695.0,1690.0,1730.0,1695.0,1660.0,1700.0,1695.0,1720.0,1750.0,1730.0,1700.0,1680.0,1720.0,1730.0,1745.0,1735.0,1735.0,1740.0,1750.0,1700.0,1705.0,1695.0,1705.0,1750.0,1740.0,1740.0,1735.0,1740.0,1720.0,1715.0,1715.0,1670.0,1645.0,1660.0,1705.0,1680.0,1710.0,1720.0,1690.0,1720.0,1700.0,1700.0,1680.0,1680.0,1665.0,1685.0,1680.0,1750.0,1685.0,1700.0,1600.0,1650.0,1630.0,1670.0,1690.0,1675.0,1700.0,1700.0,1740.0,1750.0,1800.0,1800.0,1820.0,1800.0,1780.0,1855.0,1890.0,1885.0,1910.0,1910.0,1850.0,1880.0,1890.0,1880.0,1850.0,1835.0,1870.0,1820.0,1850.0,1825.0,1820.0,1840.0,1780.0,1725.0,1630.0,1615.0,1585.0,1610.0,1550.0,1510.0,1505.0,1495.0,1470.0,1400.0,1450.0,1500.0,1450.0,1455.0,1500.0,1485.0,1465.0,1470.0,1520.0,1500.0,1510.0,1550.0,1610.0,1620.0,1590.0,1565.0,1560.0,1615.0,1660.0,1645.0,1600.0,1585.0,1630.0,1600.0,1580.0,1580.0,1580.0,1580.0,1580.0,1580.0,1600.0,1635.0,1605.0,1630.0,1625.0,1600.0,1625.0,1600.0,1665.0,1640.0,1665.0,1700.0,1700.0,1765.0,1820.0,1790.0,1810.0,1830.0,1805.0,1800.0,1825.0,1825.0,1895.0,1895.0,1845.0,1870.0,1850.0,1860.0,1815.0,1845.0,1825.0,1850.0,1850.0,1880.0,1850.0,1875.0,1850.0,1875.0,1955.0,1970.0,1955.0,1930.0,1885.0,1870.0,1825.0,1840.0,1815.0,1865.0,1890.0,1860.0,1890.0,1920.0,1865.0,1740.0,1770.0,1775.0,1840.0,1870.0,1860.0,1830.0,1810.0,1760.0,1670.0,1680.0,1770.0,1835.0,1800.0,1820.0,1830.0,1850.0,1875.0,1900.0,1900.0,1905.0,1895.0,1900.0,1900.0,1900.0,1885.0,1850.0,1855.0,1855.0,1895.0,1900.0,1845.0,1860.0,1875.0,1860.0,1915.0,1915.0,1870.0,1900.0,1885.0,1820.0,1830.0,1815.0,1830.0,1810.0,1735.0,1770.0,1770.0,1755.0,1730.0,1745.0,1745.0,1720.0,1690.0,1725.0,1775.0,1700.0,1740.0,1775.0,1780.0,1755.0,1725.0,1735.0,1720.0,1820.0,1805.0,1805.0,1800.0,1800.0,1835.0,1815.0,1860.0,1890.0,1890.0,1895.0,1895.0,1865.0,1860.0,1865.0,1890.0,1860.0,1935.0,2000.0,2180.0,2200.0,2200.0,2200.0,2250.0,2230.0,2210.0,2200.0,2180.0,2210.0,2350.0,2440.0,2480.0,2460.0,2440.0,2600.0,2500.0,2460.0,2400.0,2430.0,2430.0,2500.0,2400.0,2300.0,2340.0,2370.0,2450.0,2480.0,2470.0,2460.0,2510.0,2430.0,2470.0,2480.0,2450.0,2390.0,2430.0,2370.0,2380.0,2310.0,2330.0,2360.0,2160.0,2200.0,2200.0,2220.0,2120.0,2050.0,2070.0,2060.0,2010.0,2090.0,2060.0,1980.0,1995.0,2050.0,2040.0,2070.0,2130.0,2150.0,2100.0,2140.0,2070.0,2030.0,2030.0,2090.0,2110.0,2140.0,2130.0,2130.0,2130.0,2130.0,2100.0,2100.0,2250.0,2280.0,2200.0,2200.0,2200.0,1840.0,1835.0,1835.0,1755.0,1680.0,1660.0,1710.0,1625.0,1700.0,1720.0,1700.0,1695.0,1705.0,1815.0,1895.0,1900.0,1950.0,1920.0,1825.0,1860.0,1800.0,1820.0,1820.0,1875.0,1885.0,1915.0,2000.0,2050.0,2000.0,2010.0,1935.0,1935.0,1935.0,1935.0,1935.0,1935.0,1935.0,1870.0,1990.0,1990.0,1930.0,1870.0,1770.0,1690.0,1675.0,1810.0,1760.0,1710.0,1770.0,1830.0,1810.0,1855.0,1835.0,1900.0,1885.0,1830.0,1800.0,1790.0,1890.0,1850.0,1805.0,1815.0,1820.0,1895.0,1850.0,2030.0,2070.0,1915.0,1990.0,1935.0,1950.0,1980.0,2000.0,1990.0,1940.0,1900.0,1825.0,1820.0,1830.0,1780.0,1800.0,1845.0,1880.0,1900.0,1940.0,1930.0,1910.0,1910.0,1920.0,1880.0,1890.0,1845.0,1800.0,1680.0,1725.0,1730.0,1735.0,1745.0,1770.0,1735.0,1735.0,1705.0,1780.0,1755.0,1820.0,1870.0,1825.0,1825.0,1815.0,1835.0,1830.0,1840.0,1845.0,1850.0,1800.0,1810.0,1760.0,1740.0,1720.0,1710.0,1715.0,1685.0,1780.0,1740.0,1710.0,1715.0,1720.0,1700.0,1630.0,1665.0,1730.0,1665.0,1665.0,1650.0,1645.0,1585.0,1590.0,1640.0,1620.0,1600.0,1575.0,1500.0,1535.0,1540.0,1555.0,1545.0,1485.0,1470.0,1330.0,1290.0,1285.0,1280.0,1220.0,1285.0,1290.0,1330.0,1305.0,1280.0,1275.0,1300.0,1300.0,1315.0,1290.0,1260.0,1280.0,1290.0,1270.0,1235.0,1245.0,1255.0,1250.0,1250.0,1240.0,1250.0,1230.0,1215.0,1215.0,1215.0,1225.0,1220.0,1410.0,1395.0,1425.0,1395.0,1405.0,1405.0,1420.0,1475.0,1480.0,1480.0,1495.0,1460.0,1410.0,1385.0,1380.0,1400.0,1390.0,1340.0,1365.0,1395.0,1370.0,1360.0,1370.0,1375.0,1330.0,1300.0,1275.0,1295.0,1265.0,1240.0,1240.0,1270.0,1305.0,1345.0,1420.0,1430.0,1405.0,1360.0,1380.0,1320.0,1330.0,1400.0,1410.0,1360.0,1370.0,1385.0,1460.0,1405.0,1450.0,1460.0,1420.0,1445.0,1440.0,1450.0,1435.0,1400.0,1370.0,1380.0,1350.0,1360.0,1325.0,1325.0,1325.0,1315.0,1295.0,1275.0,1280.0,1305.0,1320.0,1305.0,1310.0,1285.0,1305.0,1330.0,1295.0,1295.0,1275.0,1310.0,1305.0,1290.0,1290.0,1315.0,1305.0,1330.0,1345.0,1300.0,1320.0,1310.0,1290.0,1250.0,1285.0,1250.0,1245.0,1230.0,1180.0,1185.0,1190.0,1235.0,1250.0,1280.0,1265.0,1265.0,1270.0,1270.0,1295.0,1295.0,1295.0,1295.0,1295.0,1295.0,1305.0,1295.0,1265.0,1275.0,1290.0,1245.0,1225.0,1255.0,1280.0,1275.0,1240.0,1245.0,1350.0,1370.0,1385.0,1380.0,1440.0,1410.0,1400.0,1435.0,1415.0,1360.0,1335.0,1360.0,1335.0,1295.0,1280.0,1290.0,1275.0,1310.0,1300.0,1285.0,1285.0,1255.0,1260.0,1220.0,1255.0,1280.0,1270.0,1220.0,1175.0,1100.0,1090.0,1120.0,1105.0,1100.0,1070.0,1060.0,1025.0,1030.0,1060.0,1050.0,1035.0,1055.0,1060.0,1130.0,1130.0,1115.0,1120.0,1125.0,1165.0,1220.0,1235.0,1275.0,1350.0,1430.0,1430.0,1475.0,1435.0,1425.0,1440.0,1420.0,1400.0,1370.0,1400.0,1370.0,1270.0,1300.0,1290.0,1315.0,1305.0,1300.0,1250.0,1260.0,1280.0,1275.0,1275.0,1260.0,1275.0,1305.0,1305.0,1340.0,1315.0,1320.0,1325.0,1365.0,1365.0,1355.0,1375.0,1350.0,1370.0,1320.0,1305.0,1300.0,1280.0,1290.0,1375.0,1390.0,1400.0,1425.0,1420.0,1425.0,1345.0,1315.0,1340.0,1315.0,1325.0,1335.0,1330.0,1325.0,1320.0,1295.0,1240.0,1225.0,1295.0,1300.0,1365.0,1460.0,1440.0,1405.0,1485.0,1500.0,1500.0,1595.0,1660.0,1655.0,1610.0,1605.0,1540.0,1590.0,1590.0,1565.0,1555.0],\"x\":[\"2008-07-16\",\"2008-07-17\",\"2008-07-18\",\"2008-07-21\",\"2008-07-22\",\"2008-07-23\",\"2008-07-24\",\"2008-07-25\",\"2008-07-28\",\"2008-07-29\",\"2008-07-31\",\"2008-08-01\",\"2008-08-04\",\"2008-08-05\",\"2008-08-06\",\"2008-08-07\",\"2008-08-08\",\"2008-08-11\",\"2008-08-12\",\"2008-08-13\",\"2008-08-14\",\"2008-08-15\",\"2008-08-19\",\"2008-08-20\",\"2008-08-21\",\"2008-08-22\",\"2008-08-25\",\"2008-08-26\",\"2008-08-27\",\"2008-08-28\",\"2008-08-29\",\"2008-09-01\",\"2008-09-02\",\"2008-09-03\",\"2008-09-04\",\"2008-09-05\",\"2008-09-08\",\"2008-09-09\",\"2008-09-10\",\"2008-09-11\",\"2008-09-12\",\"2008-09-15\",\"2008-09-16\",\"2008-09-17\",\"2008-09-18\",\"2008-09-19\",\"2008-09-22\",\"2008-09-23\",\"2008-09-24\",\"2008-09-25\",\"2008-09-26\",\"2008-10-06\",\"2008-10-07\",\"2008-10-08\",\"2008-10-13\",\"2008-10-14\",\"2008-10-15\",\"2008-10-16\",\"2008-10-17\",\"2008-10-20\",\"2008-10-21\",\"2008-10-22\",\"2008-10-23\",\"2008-10-24\",\"2008-10-27\",\"2008-10-28\",\"2008-10-29\",\"2008-10-30\",\"2008-10-31\",\"2008-11-03\",\"2008-11-04\",\"2008-11-05\",\"2008-11-06\",\"2008-11-07\",\"2008-11-10\",\"2008-11-11\",\"2008-11-12\",\"2008-11-13\",\"2008-11-14\",\"2008-11-17\",\"2008-11-18\",\"2008-11-19\",\"2008-11-20\",\"2008-11-21\",\"2008-11-24\",\"2008-11-25\",\"2008-11-26\",\"2008-11-27\",\"2008-11-28\",\"2008-12-01\",\"2008-12-02\",\"2008-12-03\",\"2008-12-04\",\"2008-12-05\",\"2008-12-09\",\"2008-12-10\",\"2008-12-11\",\"2008-12-12\",\"2008-12-15\",\"2008-12-16\",\"2008-12-17\",\"2008-12-18\",\"2008-12-19\",\"2008-12-22\",\"2008-12-23\",\"2008-12-24\",\"2008-12-30\",\"2009-01-05\",\"2009-01-06\",\"2009-01-07\",\"2009-01-08\",\"2009-01-09\",\"2009-01-12\",\"2009-01-13\",\"2009-01-14\",\"2009-01-15\",\"2009-01-16\",\"2009-01-19\",\"2009-01-20\",\"2009-01-21\",\"2009-01-22\",\"2009-01-23\",\"2009-01-27\",\"2009-01-28\",\"2009-01-29\",\"2009-01-30\",\"2009-02-02\",\"2009-02-03\",\"2009-02-04\",\"2009-02-05\",\"2009-02-06\",\"2009-02-09\",\"2009-02-10\",\"2009-02-11\",\"2009-02-12\",\"2009-02-13\",\"2009-02-16\",\"2009-02-17\",\"2009-02-18\",\"2009-02-19\",\"2009-02-20\",\"2009-02-23\",\"2009-02-24\",\"2009-02-25\",\"2009-02-26\",\"2009-02-27\",\"2009-03-02\",\"2009-03-03\",\"2009-03-04\",\"2009-03-05\",\"2009-03-06\",\"2009-03-10\",\"2009-03-11\",\"2009-03-12\",\"2009-03-13\",\"2009-03-16\",\"2009-03-17\",\"2009-03-18\",\"2009-03-19\",\"2009-03-20\",\"2009-03-23\",\"2009-03-24\",\"2009-03-25\",\"2009-03-27\",\"2009-03-30\",\"2009-03-31\",\"2009-04-01\",\"2009-04-02\",\"2009-04-03\",\"2009-04-06\",\"2009-04-07\",\"2009-04-08\",\"2009-04-13\",\"2009-04-14\",\"2009-04-15\",\"2009-04-16\",\"2009-04-17\",\"2009-04-20\",\"2009-04-22\",\"2009-04-23\",\"2009-04-24\",\"2009-04-27\",\"2009-04-28\",\"2009-04-29\",\"2009-04-30\",\"2009-05-01\",\"2009-05-04\",\"2009-05-05\",\"2009-05-06\",\"2009-05-07\",\"2009-05-08\",\"2009-05-11\",\"2009-05-12\",\"2009-05-13\",\"2009-05-14\",\"2009-05-15\",\"2009-05-18\",\"2009-05-19\",\"2009-05-20\",\"2009-05-22\",\"2009-05-25\",\"2009-05-26\",\"2009-05-27\",\"2009-05-28\",\"2009-05-29\",\"2009-06-01\",\"2009-06-02\",\"2009-06-03\",\"2009-06-04\",\"2009-06-05\",\"2009-06-08\",\"2009-06-09\",\"2009-06-10\",\"2009-06-11\",\"2009-06-12\",\"2009-06-15\",\"2009-06-16\",\"2009-06-17\",\"2009-06-18\",\"2009-06-19\",\"2009-06-22\",\"2009-06-23\",\"2009-06-24\",\"2009-06-25\",\"2009-06-26\",\"2009-06-29\",\"2009-06-30\",\"2009-07-01\",\"2009-07-02\",\"2009-07-03\",\"2009-07-06\",\"2009-07-07\",\"2009-07-09\",\"2009-07-10\",\"2009-07-13\",\"2009-07-14\",\"2009-07-15\",\"2009-07-16\",\"2009-07-17\",\"2009-07-21\",\"2009-07-22\",\"2009-07-23\",\"2009-07-24\",\"2009-07-27\",\"2009-07-28\",\"2009-07-29\",\"2009-07-30\",\"2009-07-31\",\"2009-08-03\",\"2009-08-04\",\"2009-08-05\",\"2009-08-06\",\"2009-08-07\",\"2009-08-10\",\"2009-08-11\",\"2009-08-12\",\"2009-08-13\",\"2009-08-14\",\"2009-08-18\",\"2009-08-19\",\"2009-08-20\",\"2009-08-21\",\"2009-08-24\",\"2009-08-25\",\"2009-08-26\",\"2009-08-27\",\"2009-08-28\",\"2009-08-31\",\"2009-09-01\",\"2009-09-02\",\"2009-09-03\",\"2009-09-04\",\"2009-09-07\",\"2009-09-08\",\"2009-09-09\",\"2009-09-10\",\"2009-09-11\",\"2009-09-14\",\"2009-09-15\",\"2009-09-16\",\"2009-09-17\",\"2009-09-24\",\"2009-09-25\",\"2009-09-28\",\"2009-09-29\",\"2009-09-30\",\"2009-10-01\",\"2009-10-02\",\"2009-10-05\",\"2009-10-06\",\"2009-10-07\",\"2009-10-08\",\"2009-10-09\",\"2009-10-12\",\"2009-10-13\",\"2009-10-14\",\"2009-10-15\",\"2009-10-16\",\"2009-10-19\",\"2009-10-20\",\"2009-10-21\",\"2009-10-22\",\"2009-10-23\",\"2009-10-26\",\"2009-10-27\",\"2009-10-28\",\"2009-10-29\",\"2009-10-30\",\"2009-11-02\",\"2009-11-03\",\"2009-11-04\",\"2009-11-05\",\"2009-11-06\",\"2009-11-09\",\"2009-11-10\",\"2009-11-11\",\"2009-11-12\",\"2009-11-13\",\"2009-11-16\",\"2009-11-17\",\"2009-11-18\",\"2009-11-19\",\"2009-11-20\",\"2009-11-23\",\"2009-11-24\",\"2009-11-25\",\"2009-11-26\",\"2009-11-30\",\"2009-12-01\",\"2009-12-02\",\"2009-12-03\",\"2009-12-04\",\"2009-12-07\",\"2009-12-08\",\"2009-12-09\",\"2009-12-10\",\"2009-12-11\",\"2009-12-14\",\"2009-12-15\",\"2009-12-16\",\"2009-12-17\",\"2009-12-21\",\"2009-12-22\",\"2009-12-23\",\"2009-12-28\",\"2009-12-29\",\"2009-12-30\",\"2010-01-04\",\"2010-01-05\",\"2010-01-06\",\"2010-01-07\",\"2010-01-08\",\"2010-01-11\",\"2010-01-12\",\"2010-01-13\",\"2010-01-14\",\"2010-01-15\",\"2010-01-18\",\"2010-01-19\",\"2010-01-20\",\"2010-01-21\",\"2010-01-22\",\"2010-01-25\",\"2010-01-26\",\"2010-01-27\",\"2010-01-28\",\"2010-01-29\",\"2010-02-01\",\"2010-02-02\",\"2010-02-03\",\"2010-02-04\",\"2010-02-05\",\"2010-02-08\",\"2010-02-09\",\"2010-02-10\",\"2010-02-11\",\"2010-02-12\",\"2010-02-15\",\"2010-02-16\",\"2010-02-17\",\"2010-02-18\",\"2010-02-19\",\"2010-02-22\",\"2010-02-23\",\"2010-02-24\",\"2010-02-25\",\"2010-03-01\",\"2010-03-02\",\"2010-03-03\",\"2010-03-04\",\"2010-03-05\",\"2010-03-08\",\"2010-03-09\",\"2010-03-10\",\"2010-03-11\",\"2010-03-12\",\"2010-03-15\",\"2010-03-17\",\"2010-03-18\",\"2010-03-19\",\"2010-03-22\",\"2010-03-23\",\"2010-03-24\",\"2010-03-25\",\"2010-03-26\",\"2010-03-29\",\"2010-03-30\",\"2010-03-31\",\"2010-04-01\",\"2010-04-05\",\"2010-04-06\",\"2010-04-07\",\"2010-04-08\",\"2010-04-09\",\"2010-04-12\",\"2010-04-13\",\"2010-04-14\",\"2010-04-15\",\"2010-04-16\",\"2010-04-19\",\"2010-04-20\",\"2010-04-21\",\"2010-04-22\",\"2010-04-23\",\"2010-04-26\",\"2010-04-27\",\"2010-04-28\",\"2010-04-29\",\"2010-04-30\",\"2010-05-03\",\"2010-05-04\",\"2010-05-05\",\"2010-05-06\",\"2010-05-07\",\"2010-05-10\",\"2010-05-11\",\"2010-05-12\",\"2010-05-14\",\"2010-05-17\",\"2010-05-18\",\"2010-05-19\",\"2010-05-20\",\"2010-05-21\",\"2010-05-24\",\"2010-05-25\",\"2010-05-26\",\"2010-05-27\",\"2010-05-31\",\"2010-06-01\",\"2010-06-02\",\"2010-06-03\",\"2010-06-04\",\"2010-06-07\",\"2010-06-08\",\"2010-06-09\",\"2010-06-10\",\"2010-06-11\",\"2010-06-14\",\"2010-06-15\",\"2010-06-16\",\"2010-06-17\",\"2010-06-18\",\"2010-06-21\",\"2010-06-22\",\"2010-06-23\",\"2010-06-24\",\"2010-06-25\",\"2010-06-28\",\"2010-06-29\",\"2010-06-30\",\"2010-07-01\",\"2010-07-02\",\"2010-07-05\",\"2010-07-06\",\"2010-07-07\",\"2010-07-08\",\"2010-07-09\",\"2010-07-12\",\"2010-07-13\",\"2010-07-14\",\"2010-07-15\",\"2010-07-16\",\"2010-07-19\",\"2010-07-20\",\"2010-07-21\",\"2010-07-22\",\"2010-07-23\",\"2010-07-26\",\"2010-07-27\",\"2010-07-28\",\"2010-07-29\",\"2010-07-30\",\"2010-08-02\",\"2010-08-03\",\"2010-08-04\",\"2010-08-05\",\"2010-08-06\",\"2010-08-09\",\"2010-08-10\",\"2010-08-11\",\"2010-08-12\",\"2010-08-13\",\"2010-08-16\",\"2010-08-18\",\"2010-08-19\",\"2010-08-20\",\"2010-08-23\",\"2010-08-24\",\"2010-08-25\",\"2010-08-26\",\"2010-08-27\",\"2010-08-30\",\"2010-08-31\",\"2010-09-01\",\"2010-09-02\",\"2010-09-03\",\"2010-09-06\",\"2010-09-07\",\"2010-09-15\",\"2010-09-16\",\"2010-09-17\",\"2010-09-20\",\"2010-09-21\",\"2010-09-22\",\"2010-09-23\",\"2010-09-24\",\"2010-09-27\",\"2010-09-28\",\"2010-09-29\",\"2010-09-30\",\"2010-10-01\",\"2010-10-04\",\"2010-10-05\",\"2010-10-06\",\"2010-10-07\",\"2010-10-08\",\"2010-10-11\",\"2010-10-12\",\"2010-10-13\",\"2010-10-14\",\"2010-10-15\",\"2010-10-18\",\"2010-10-19\",\"2010-10-20\",\"2010-10-21\",\"2010-10-22\",\"2010-10-25\",\"2010-10-26\",\"2010-10-27\",\"2010-10-28\",\"2010-10-29\",\"2010-11-01\",\"2010-11-02\",\"2010-11-03\",\"2010-11-04\",\"2010-11-05\",\"2010-11-08\",\"2010-11-09\",\"2010-11-10\",\"2010-11-11\",\"2010-11-12\",\"2010-11-15\",\"2010-11-16\",\"2010-11-18\",\"2010-11-19\",\"2010-11-22\",\"2010-11-23\",\"2010-11-24\",\"2010-11-25\",\"2010-11-26\",\"2010-11-29\",\"2010-11-30\",\"2010-12-01\",\"2010-12-02\",\"2010-12-03\",\"2010-12-06\",\"2010-12-08\",\"2010-12-09\",\"2010-12-10\",\"2010-12-13\",\"2010-12-14\",\"2010-12-15\",\"2010-12-16\",\"2010-12-17\",\"2010-12-20\",\"2010-12-21\",\"2010-12-22\",\"2010-12-23\",\"2010-12-27\",\"2010-12-28\",\"2010-12-29\",\"2010-12-30\",\"2011-01-03\",\"2011-01-04\",\"2011-01-05\",\"2011-01-06\",\"2011-01-07\",\"2011-01-10\",\"2011-01-11\",\"2011-01-12\",\"2011-01-13\",\"2011-01-14\",\"2011-01-17\",\"2011-01-18\",\"2011-01-19\",\"2011-01-20\",\"2011-01-21\",\"2011-01-24\",\"2011-01-25\",\"2011-01-26\",\"2011-01-27\",\"2011-01-28\",\"2011-01-31\",\"2011-02-01\",\"2011-02-02\",\"2011-02-04\",\"2011-02-07\",\"2011-02-08\",\"2011-02-09\",\"2011-02-10\",\"2011-02-11\",\"2011-02-14\",\"2011-02-16\",\"2011-02-17\",\"2011-02-18\",\"2011-02-21\",\"2011-02-22\",\"2011-02-23\",\"2011-02-24\",\"2011-02-25\",\"2011-02-28\",\"2011-03-01\",\"2011-03-02\",\"2011-03-03\",\"2011-03-04\",\"2011-03-07\",\"2011-03-08\",\"2011-03-09\",\"2011-03-10\",\"2011-03-11\",\"2011-03-14\",\"2011-03-15\",\"2011-03-16\",\"2011-03-17\",\"2011-03-18\",\"2011-03-21\",\"2011-03-22\",\"2011-03-24\",\"2011-03-25\",\"2011-03-28\",\"2011-03-29\",\"2011-03-30\",\"2011-03-31\",\"2011-04-01\",\"2011-04-04\",\"2011-04-05\",\"2011-04-06\",\"2011-04-07\",\"2011-04-08\",\"2011-04-11\",\"2011-04-12\",\"2011-04-13\",\"2011-04-14\",\"2011-04-15\",\"2011-04-18\",\"2011-04-19\",\"2011-04-20\",\"2011-04-21\",\"2011-04-25\",\"2011-04-26\",\"2011-04-27\",\"2011-04-28\",\"2011-04-29\",\"2011-05-02\",\"2011-05-03\",\"2011-05-04\",\"2011-05-05\",\"2011-05-06\",\"2011-05-09\",\"2011-05-10\",\"2011-05-11\",\"2011-05-12\",\"2011-05-13\",\"2011-05-16\",\"2011-05-18\",\"2011-05-19\",\"2011-05-20\",\"2011-05-23\",\"2011-05-24\",\"2011-05-25\",\"2011-05-26\",\"2011-05-27\",\"2011-05-30\",\"2011-05-31\",\"2011-06-01\",\"2011-06-03\",\"2011-06-06\",\"2011-06-07\",\"2011-06-08\",\"2011-06-09\",\"2011-06-10\",\"2011-06-13\",\"2011-06-14\",\"2011-06-15\",\"2011-06-16\",\"2011-06-17\",\"2011-06-20\",\"2011-06-21\",\"2011-06-22\",\"2011-06-23\",\"2011-06-24\",\"2011-06-27\",\"2011-06-28\",\"2011-06-30\",\"2011-07-01\",\"2011-07-05\",\"2011-07-06\",\"2011-07-07\",\"2011-07-08\",\"2011-07-11\",\"2011-07-12\",\"2011-07-13\",\"2011-07-14\",\"2011-07-15\",\"2011-07-18\",\"2011-07-19\",\"2011-07-20\",\"2011-07-21\",\"2011-07-22\",\"2011-07-25\",\"2011-07-26\",\"2011-07-27\",\"2011-07-28\",\"2011-07-29\",\"2011-08-01\",\"2011-08-02\",\"2011-08-03\",\"2011-08-04\",\"2011-08-05\",\"2011-08-08\",\"2011-08-09\",\"2011-08-10\",\"2011-08-11\",\"2011-08-12\",\"2011-08-15\",\"2011-08-16\",\"2011-08-18\",\"2011-08-19\",\"2011-08-22\",\"2011-08-23\",\"2011-08-24\",\"2011-08-25\",\"2011-08-26\",\"2011-09-05\",\"2011-09-06\",\"2011-09-07\",\"2011-09-08\",\"2011-09-09\",\"2011-09-12\",\"2011-09-13\",\"2011-09-14\",\"2011-09-15\",\"2011-09-16\",\"2011-09-19\",\"2011-09-20\",\"2011-09-21\",\"2011-09-22\",\"2011-09-23\",\"2011-09-26\",\"2011-09-27\",\"2011-09-28\",\"2011-09-29\",\"2011-09-30\",\"2011-10-03\",\"2011-10-04\",\"2011-10-05\",\"2011-10-06\",\"2011-10-07\",\"2011-10-10\",\"2011-10-11\",\"2011-10-12\",\"2011-10-13\",\"2011-10-14\",\"2011-10-17\",\"2011-10-18\",\"2011-10-19\",\"2011-10-20\",\"2011-10-21\",\"2011-10-24\",\"2011-10-25\",\"2011-10-26\",\"2011-10-27\",\"2011-10-28\",\"2011-10-31\",\"2011-11-01\",\"2011-11-02\",\"2011-11-03\",\"2011-11-04\",\"2011-11-07\",\"2011-11-08\",\"2011-11-09\",\"2011-11-10\",\"2011-11-11\",\"2011-11-14\",\"2011-11-15\",\"2011-11-16\",\"2011-11-17\",\"2011-11-18\",\"2011-11-21\",\"2011-11-22\",\"2011-11-23\",\"2011-11-24\",\"2011-11-25\",\"2011-11-28\",\"2011-11-29\",\"2011-11-30\",\"2011-12-01\",\"2011-12-02\",\"2011-12-05\",\"2011-12-06\",\"2011-12-07\",\"2011-12-08\",\"2011-12-09\",\"2011-12-12\",\"2011-12-13\",\"2011-12-14\",\"2011-12-15\",\"2011-12-16\",\"2011-12-19\",\"2011-12-20\",\"2011-12-21\",\"2011-12-22\",\"2011-12-23\",\"2011-12-27\",\"2011-12-28\",\"2011-12-29\",\"2011-12-30\",\"2012-01-02\",\"2012-01-03\",\"2012-01-04\",\"2012-01-05\",\"2012-01-06\",\"2012-01-09\",\"2012-01-10\",\"2012-01-11\",\"2012-01-12\",\"2012-01-13\",\"2012-01-16\",\"2012-01-17\",\"2012-01-18\",\"2012-01-19\",\"2012-01-20\",\"2012-01-24\",\"2012-01-25\",\"2012-01-26\",\"2012-01-27\",\"2012-01-30\",\"2012-01-31\",\"2012-02-01\",\"2012-02-02\",\"2012-02-03\",\"2012-02-06\",\"2012-02-07\",\"2012-02-08\",\"2012-02-09\",\"2012-02-10\",\"2012-02-13\",\"2012-02-14\",\"2012-02-15\",\"2012-02-16\",\"2012-02-17\",\"2012-02-20\",\"2012-02-21\",\"2012-02-22\",\"2012-02-23\",\"2012-02-24\",\"2012-02-27\",\"2012-02-28\",\"2012-02-29\",\"2012-03-01\",\"2012-03-02\",\"2012-03-05\",\"2012-03-06\",\"2012-03-07\",\"2012-03-08\",\"2012-03-09\",\"2012-03-12\",\"2012-03-13\",\"2012-03-14\",\"2012-03-15\",\"2012-03-16\",\"2012-03-19\",\"2012-03-20\",\"2012-03-21\",\"2012-03-22\",\"2012-03-26\",\"2012-03-27\",\"2012-03-28\",\"2012-03-29\",\"2012-03-30\",\"2012-04-02\",\"2012-04-03\",\"2012-04-04\",\"2012-04-05\",\"2012-04-09\",\"2012-04-10\",\"2012-04-11\",\"2012-04-12\",\"2012-04-13\",\"2012-04-16\",\"2012-04-17\",\"2012-04-18\",\"2012-04-19\",\"2012-04-20\",\"2012-04-23\",\"2012-04-24\",\"2012-04-25\",\"2012-04-26\",\"2012-04-27\",\"2012-04-30\",\"2012-05-01\",\"2012-05-02\",\"2012-05-03\",\"2012-05-04\",\"2012-05-07\",\"2012-05-08\",\"2012-05-09\",\"2012-05-10\",\"2012-05-11\",\"2012-05-14\",\"2012-05-15\",\"2012-05-16\",\"2012-05-21\",\"2012-05-22\",\"2012-05-23\",\"2012-05-24\",\"2012-05-25\",\"2012-05-28\",\"2012-05-29\",\"2012-05-30\",\"2012-05-31\",\"2012-06-01\",\"2012-06-04\",\"2012-06-05\",\"2012-06-06\",\"2012-06-07\",\"2012-06-08\",\"2012-06-11\",\"2012-06-12\",\"2012-06-13\",\"2012-06-14\",\"2012-06-15\",\"2012-06-18\",\"2012-06-19\",\"2012-06-20\",\"2012-06-21\",\"2012-06-22\",\"2012-06-25\",\"2012-06-26\",\"2012-06-27\",\"2012-06-28\",\"2012-06-29\",\"2012-07-02\",\"2012-07-03\",\"2012-07-04\",\"2012-07-05\",\"2012-07-06\",\"2012-07-09\",\"2012-07-10\",\"2012-07-11\",\"2012-07-12\",\"2012-07-13\",\"2012-07-16\",\"2012-07-17\",\"2012-07-18\",\"2012-07-19\",\"2012-07-20\",\"2012-07-23\",\"2012-07-24\",\"2012-07-25\",\"2012-07-26\",\"2012-07-27\",\"2012-07-30\",\"2012-07-31\",\"2012-08-01\",\"2012-08-02\",\"2012-08-03\",\"2012-08-06\",\"2012-08-07\",\"2012-08-08\",\"2012-08-09\",\"2012-08-10\",\"2012-08-13\",\"2012-08-14\",\"2012-08-15\",\"2012-08-16\",\"2012-08-23\",\"2012-08-24\",\"2012-08-27\",\"2012-08-28\",\"2012-08-29\",\"2012-08-30\",\"2012-08-31\",\"2012-09-03\",\"2012-09-04\",\"2012-09-05\",\"2012-09-06\",\"2012-09-07\",\"2012-09-10\",\"2012-09-11\",\"2012-09-12\",\"2012-09-13\",\"2012-09-14\",\"2012-09-17\",\"2012-09-18\",\"2012-09-19\",\"2012-09-20\",\"2012-09-21\",\"2012-09-24\",\"2012-09-25\",\"2012-09-26\",\"2012-09-27\",\"2012-09-28\",\"2012-10-01\",\"2012-10-02\",\"2012-10-03\",\"2012-10-04\",\"2012-10-05\",\"2012-10-08\",\"2012-10-09\",\"2012-10-10\",\"2012-10-11\",\"2012-10-12\",\"2012-10-15\",\"2012-10-16\",\"2012-10-17\",\"2012-10-18\",\"2012-10-19\",\"2012-10-22\",\"2012-10-23\",\"2012-10-24\",\"2012-10-25\",\"2012-10-29\",\"2012-10-30\",\"2012-10-31\",\"2012-11-01\",\"2012-11-02\",\"2012-11-05\",\"2012-11-06\",\"2012-11-07\",\"2012-11-08\",\"2012-11-09\",\"2012-11-12\",\"2012-11-13\",\"2012-11-14\",\"2012-11-19\",\"2012-11-20\",\"2012-11-21\",\"2012-11-22\",\"2012-11-23\",\"2012-11-26\",\"2012-11-27\",\"2012-11-28\",\"2012-11-29\",\"2012-11-30\",\"2012-12-03\",\"2012-12-04\",\"2012-12-05\",\"2012-12-06\",\"2012-12-07\",\"2012-12-10\",\"2012-12-11\",\"2012-12-12\",\"2012-12-13\",\"2012-12-14\",\"2012-12-17\",\"2012-12-18\",\"2012-12-19\",\"2012-12-20\",\"2012-12-21\",\"2012-12-26\",\"2012-12-27\",\"2012-12-28\",\"2013-01-02\",\"2013-01-03\",\"2013-01-04\",\"2013-01-07\",\"2013-01-08\",\"2013-01-09\",\"2013-01-10\",\"2013-01-11\",\"2013-01-14\",\"2013-01-15\",\"2013-01-16\",\"2013-01-17\",\"2013-01-18\",\"2013-01-21\",\"2013-01-22\",\"2013-01-23\",\"2013-01-25\",\"2013-01-28\",\"2013-01-29\",\"2013-01-30\",\"2013-01-31\",\"2013-02-01\",\"2013-02-04\",\"2013-02-05\",\"2013-02-06\",\"2013-02-07\",\"2013-02-08\",\"2013-02-11\",\"2013-02-12\",\"2013-02-13\",\"2013-02-14\",\"2013-02-15\",\"2013-02-18\",\"2013-02-19\",\"2013-02-20\",\"2013-02-21\",\"2013-02-22\",\"2013-02-25\",\"2013-02-26\",\"2013-02-27\",\"2013-02-28\",\"2013-03-01\",\"2013-03-04\",\"2013-03-05\",\"2013-03-06\",\"2013-03-07\",\"2013-03-08\",\"2013-03-11\",\"2013-03-13\",\"2013-03-14\",\"2013-03-15\",\"2013-03-18\",\"2013-03-19\",\"2013-03-20\",\"2013-03-21\",\"2013-03-22\",\"2013-03-25\",\"2013-03-26\",\"2013-03-27\",\"2013-03-28\",\"2013-04-01\",\"2013-04-02\",\"2013-04-03\",\"2013-04-04\",\"2013-04-05\",\"2013-04-08\",\"2013-04-09\",\"2013-04-10\",\"2013-04-11\",\"2013-04-12\",\"2013-04-15\",\"2013-04-16\",\"2013-04-17\",\"2013-04-18\",\"2013-04-19\",\"2013-04-22\",\"2013-04-23\",\"2013-04-24\",\"2013-04-25\",\"2013-04-26\",\"2013-04-29\",\"2013-04-30\",\"2013-05-01\",\"2013-05-02\",\"2013-05-03\",\"2013-05-06\",\"2013-05-07\",\"2013-05-08\",\"2013-05-10\",\"2013-05-13\",\"2013-05-14\",\"2013-05-15\",\"2013-05-16\",\"2013-05-17\",\"2013-05-20\",\"2013-05-21\",\"2013-05-22\",\"2013-05-23\",\"2013-05-24\",\"2013-05-27\",\"2013-05-28\",\"2013-05-29\",\"2013-05-30\",\"2013-05-31\",\"2013-06-03\",\"2013-06-04\",\"2013-06-05\",\"2013-06-07\",\"2013-06-10\",\"2013-06-11\",\"2013-06-12\",\"2013-06-13\",\"2013-06-14\",\"2013-06-17\",\"2013-06-18\",\"2013-06-19\",\"2013-06-20\",\"2013-06-21\",\"2013-06-24\",\"2013-06-25\",\"2013-06-26\",\"2013-06-27\",\"2013-06-28\",\"2013-07-01\",\"2013-07-02\",\"2013-07-03\",\"2013-07-04\",\"2013-07-05\",\"2013-07-08\",\"2013-07-09\",\"2013-07-10\",\"2013-07-11\",\"2013-07-12\",\"2013-07-15\",\"2013-07-16\",\"2013-07-17\",\"2013-07-18\",\"2013-07-19\",\"2013-07-22\",\"2013-07-23\",\"2013-07-24\",\"2013-07-25\",\"2013-07-26\",\"2013-07-29\",\"2013-07-30\",\"2013-07-31\",\"2013-08-01\",\"2013-08-02\",\"2013-08-12\",\"2013-08-13\",\"2013-08-14\",\"2013-08-15\",\"2013-08-16\",\"2013-08-19\",\"2013-08-20\",\"2013-08-21\",\"2013-08-22\",\"2013-08-23\",\"2013-08-26\",\"2013-08-27\",\"2013-08-28\",\"2013-08-29\",\"2013-08-30\",\"2013-09-02\",\"2013-09-03\",\"2013-09-04\",\"2013-09-05\",\"2013-09-06\",\"2013-09-09\",\"2013-09-10\",\"2013-09-11\",\"2013-09-12\",\"2013-09-13\",\"2013-09-16\",\"2013-09-17\",\"2013-09-18\",\"2013-09-19\",\"2013-09-20\",\"2013-09-23\",\"2013-09-24\",\"2013-09-25\",\"2013-09-26\",\"2013-09-27\",\"2013-09-30\",\"2013-10-01\",\"2013-10-02\",\"2013-10-03\",\"2013-10-04\",\"2013-10-07\",\"2013-10-08\",\"2013-10-09\",\"2013-10-10\",\"2013-10-11\",\"2013-10-16\",\"2013-10-17\",\"2013-10-18\",\"2013-10-21\",\"2013-10-22\",\"2013-10-23\",\"2013-10-24\",\"2013-10-25\",\"2013-10-28\",\"2013-10-29\",\"2013-10-30\",\"2013-10-31\",\"2013-11-01\",\"2013-11-04\",\"2013-11-06\",\"2013-11-07\",\"2013-11-08\",\"2013-11-11\",\"2013-11-12\",\"2013-11-13\",\"2013-11-14\",\"2013-11-15\",\"2013-11-18\",\"2013-11-19\",\"2013-11-20\",\"2013-11-21\",\"2013-11-22\",\"2013-11-25\",\"2013-11-26\",\"2013-11-27\",\"2013-11-28\",\"2013-11-29\",\"2013-12-02\",\"2013-12-03\",\"2013-12-04\",\"2013-12-05\",\"2013-12-06\",\"2013-12-09\",\"2013-12-10\",\"2013-12-11\",\"2013-12-12\",\"2013-12-13\",\"2013-12-16\",\"2013-12-17\",\"2013-12-18\",\"2013-12-19\",\"2013-12-20\",\"2013-12-23\",\"2013-12-24\",\"2013-12-27\",\"2013-12-30\",\"2014-01-02\",\"2014-01-03\",\"2014-01-06\",\"2014-01-07\",\"2014-01-08\",\"2014-01-09\",\"2014-01-10\",\"2014-01-13\",\"2014-01-15\",\"2014-01-16\",\"2014-01-17\",\"2014-01-20\",\"2014-01-21\",\"2014-01-22\",\"2014-01-23\",\"2014-01-24\",\"2014-01-27\",\"2014-01-28\",\"2014-01-29\",\"2014-01-30\",\"2014-02-03\",\"2014-02-04\",\"2014-02-05\",\"2014-02-06\",\"2014-02-07\",\"2014-02-10\",\"2014-02-11\",\"2014-02-12\",\"2014-02-13\",\"2014-02-14\",\"2014-02-17\",\"2014-02-18\",\"2014-02-19\",\"2014-02-20\",\"2014-02-21\",\"2014-02-24\",\"2014-02-25\",\"2014-02-26\",\"2014-02-27\",\"2014-02-28\",\"2014-03-03\",\"2014-03-04\",\"2014-03-05\",\"2014-03-06\",\"2014-03-07\",\"2014-03-10\",\"2014-03-11\",\"2014-03-12\",\"2014-03-13\",\"2014-03-14\",\"2014-03-17\",\"2014-03-18\",\"2014-03-19\",\"2014-03-20\",\"2014-03-21\",\"2014-03-24\",\"2014-03-25\",\"2014-03-26\",\"2014-03-27\",\"2014-03-28\",\"2014-04-01\",\"2014-04-02\",\"2014-04-03\",\"2014-04-04\",\"2014-04-07\",\"2014-04-08\",\"2014-04-09\",\"2014-04-10\",\"2014-04-11\",\"2014-04-14\",\"2014-04-15\",\"2014-04-16\",\"2014-04-17\",\"2014-04-21\",\"2014-04-22\",\"2014-04-23\",\"2014-04-24\",\"2014-04-25\",\"2014-04-28\",\"2014-04-29\",\"2014-04-30\",\"2014-05-02\",\"2014-05-05\",\"2014-05-06\",\"2014-05-07\",\"2014-05-08\",\"2014-05-09\",\"2014-05-12\",\"2014-05-13\",\"2014-05-14\",\"2014-05-16\",\"2014-05-19\",\"2014-05-20\",\"2014-05-21\",\"2014-05-22\",\"2014-05-23\",\"2014-05-26\",\"2014-05-28\",\"2014-05-30\",\"2014-06-02\",\"2014-06-03\",\"2014-06-04\",\"2014-06-05\",\"2014-06-06\",\"2014-06-09\",\"2014-06-10\",\"2014-06-11\",\"2014-06-12\",\"2014-06-13\",\"2014-06-16\",\"2014-06-17\",\"2014-06-18\",\"2014-06-19\",\"2014-06-20\",\"2014-06-23\",\"2014-06-24\",\"2014-06-25\",\"2014-06-26\",\"2014-06-27\",\"2014-06-30\",\"2014-07-01\",\"2014-07-02\",\"2014-07-03\",\"2014-07-04\",\"2014-07-07\",\"2014-07-08\",\"2014-07-09\",\"2014-07-10\",\"2014-07-11\",\"2014-07-14\",\"2014-07-15\",\"2014-07-16\",\"2014-07-17\",\"2014-07-18\",\"2014-07-21\",\"2014-07-22\",\"2014-07-23\",\"2014-07-24\",\"2014-07-25\",\"2014-08-04\",\"2014-08-05\",\"2014-08-06\",\"2014-08-07\",\"2014-08-08\",\"2014-08-11\",\"2014-08-12\",\"2014-08-13\",\"2014-08-14\",\"2014-08-15\",\"2014-08-18\",\"2014-08-19\",\"2014-08-20\",\"2014-08-21\",\"2014-08-22\",\"2014-08-25\",\"2014-08-26\",\"2014-08-27\",\"2014-08-28\",\"2014-08-29\",\"2014-09-01\",\"2014-09-02\",\"2014-09-03\",\"2014-09-04\",\"2014-09-05\",\"2014-09-08\",\"2014-09-09\",\"2014-09-10\",\"2014-09-11\",\"2014-09-12\",\"2014-09-15\",\"2014-09-16\",\"2014-09-17\",\"2014-09-18\",\"2014-09-19\",\"2014-09-22\",\"2014-09-23\",\"2014-09-24\",\"2014-09-25\",\"2014-09-26\",\"2014-09-29\",\"2014-09-30\",\"2014-10-01\",\"2014-10-02\",\"2014-10-03\",\"2014-10-06\",\"2014-10-07\",\"2014-10-08\",\"2014-10-09\",\"2014-10-10\",\"2014-10-13\",\"2014-10-14\",\"2014-10-15\",\"2014-10-16\",\"2014-10-17\",\"2014-10-20\",\"2014-10-21\",\"2014-10-22\",\"2014-10-23\",\"2014-10-24\",\"2014-10-27\",\"2014-10-28\",\"2014-10-29\",\"2014-10-30\",\"2014-10-31\",\"2014-11-03\",\"2014-11-04\",\"2014-11-05\",\"2014-11-06\",\"2014-11-07\",\"2014-11-10\",\"2014-11-11\",\"2014-11-12\",\"2014-11-13\",\"2014-11-14\",\"2014-11-17\",\"2014-11-18\",\"2014-11-19\",\"2014-11-20\",\"2014-11-21\",\"2014-11-24\",\"2014-11-25\",\"2014-11-26\",\"2014-11-27\",\"2014-11-28\",\"2014-12-01\",\"2014-12-02\",\"2014-12-03\",\"2014-12-04\",\"2014-12-05\",\"2014-12-08\",\"2014-12-09\",\"2014-12-10\",\"2014-12-11\",\"2014-12-12\",\"2014-12-15\",\"2014-12-16\",\"2014-12-17\",\"2014-12-18\",\"2014-12-19\",\"2014-12-22\",\"2014-12-23\",\"2014-12-24\",\"2014-12-29\",\"2014-12-30\",\"2015-01-02\",\"2015-01-05\",\"2015-01-06\",\"2015-01-07\",\"2015-01-08\",\"2015-01-09\",\"2015-01-12\",\"2015-01-13\",\"2015-01-14\",\"2015-01-15\",\"2015-01-16\",\"2015-01-19\",\"2015-01-20\",\"2015-01-21\",\"2015-01-22\",\"2015-01-23\",\"2015-01-26\",\"2015-01-27\",\"2015-01-28\",\"2015-01-29\",\"2015-01-30\",\"2015-02-02\",\"2015-02-03\",\"2015-02-04\",\"2015-02-05\",\"2015-02-06\",\"2015-02-09\",\"2015-02-10\",\"2015-02-11\",\"2015-02-12\",\"2015-02-13\",\"2015-02-16\",\"2015-02-17\",\"2015-02-18\",\"2015-02-20\",\"2015-02-23\",\"2015-02-24\",\"2015-02-25\",\"2015-02-26\",\"2015-02-27\",\"2015-03-02\",\"2015-03-03\",\"2015-03-04\",\"2015-03-05\",\"2015-03-06\",\"2015-03-09\",\"2015-03-10\",\"2015-03-11\",\"2015-03-12\",\"2015-03-13\",\"2015-03-16\",\"2015-03-17\",\"2015-03-18\",\"2015-03-19\",\"2015-03-20\",\"2015-03-23\",\"2015-03-24\",\"2015-03-25\",\"2015-03-26\",\"2015-03-27\",\"2015-03-30\",\"2015-03-31\",\"2015-04-01\",\"2015-04-02\",\"2015-04-06\",\"2015-04-07\",\"2015-04-08\",\"2015-04-09\",\"2015-04-10\",\"2015-04-13\",\"2015-04-14\",\"2015-04-15\",\"2015-04-16\",\"2015-04-17\",\"2015-04-20\",\"2015-04-21\",\"2015-04-22\",\"2015-04-23\",\"2015-04-24\",\"2015-04-27\",\"2015-04-28\",\"2015-04-29\",\"2015-04-30\",\"2015-05-04\",\"2015-05-05\",\"2015-05-06\",\"2015-05-07\",\"2015-05-08\",\"2015-05-11\",\"2015-05-12\",\"2015-05-13\",\"2015-05-15\",\"2015-05-18\",\"2015-05-19\",\"2015-05-20\",\"2015-05-21\",\"2015-05-22\",\"2015-05-25\",\"2015-05-26\",\"2015-05-27\",\"2015-05-28\",\"2015-05-29\",\"2015-06-01\",\"2015-06-03\",\"2015-06-04\",\"2015-06-05\",\"2015-06-08\",\"2015-06-09\",\"2015-06-10\",\"2015-06-11\",\"2015-06-12\",\"2015-06-15\",\"2015-06-16\",\"2015-06-17\",\"2015-06-18\",\"2015-06-19\",\"2015-06-22\",\"2015-06-23\",\"2015-06-24\",\"2015-06-25\",\"2015-06-26\",\"2015-06-29\",\"2015-06-30\",\"2015-07-01\",\"2015-07-02\",\"2015-07-03\",\"2015-07-06\",\"2015-07-07\",\"2015-07-08\",\"2015-07-09\",\"2015-07-10\",\"2015-07-13\",\"2015-07-14\",\"2015-07-15\",\"2015-07-22\",\"2015-07-23\",\"2015-07-24\",\"2015-07-27\",\"2015-07-28\",\"2015-07-29\",\"2015-07-30\",\"2015-07-31\",\"2015-08-03\",\"2015-08-04\",\"2015-08-05\",\"2015-08-06\",\"2015-08-07\",\"2015-08-10\",\"2015-08-11\",\"2015-08-12\",\"2015-08-13\",\"2015-08-14\",\"2015-08-18\",\"2015-08-19\",\"2015-08-20\",\"2015-08-21\",\"2015-08-24\",\"2015-08-25\",\"2015-08-26\",\"2015-08-27\",\"2015-08-28\",\"2015-08-31\",\"2015-09-01\",\"2015-09-02\",\"2015-09-03\",\"2015-09-04\",\"2015-09-07\",\"2015-09-08\",\"2015-09-09\",\"2015-09-10\",\"2015-09-11\",\"2015-09-14\",\"2015-09-15\",\"2015-09-16\",\"2015-09-17\",\"2015-09-18\",\"2015-09-21\",\"2015-09-22\",\"2015-09-23\",\"2015-09-25\",\"2015-09-28\",\"2015-09-29\",\"2015-09-30\",\"2015-10-01\",\"2015-10-02\",\"2015-10-05\",\"2015-10-06\",\"2015-10-07\",\"2015-10-08\",\"2015-10-09\",\"2015-10-12\",\"2015-10-13\",\"2015-10-15\",\"2015-10-16\",\"2015-10-19\",\"2015-10-20\",\"2015-10-21\",\"2015-10-22\",\"2015-10-23\",\"2015-10-26\",\"2015-10-27\",\"2015-10-28\",\"2015-10-29\",\"2015-10-30\",\"2015-11-02\",\"2015-11-03\",\"2015-11-04\",\"2015-11-05\",\"2015-11-06\",\"2015-11-09\",\"2015-11-10\",\"2015-11-11\",\"2015-11-12\",\"2015-11-13\",\"2015-11-16\",\"2015-11-17\",\"2015-11-18\",\"2015-11-19\",\"2015-11-20\",\"2015-11-23\",\"2015-11-24\",\"2015-11-25\",\"2015-11-26\",\"2015-11-27\",\"2015-11-30\",\"2015-12-01\",\"2015-12-02\",\"2015-12-03\",\"2015-12-04\",\"2015-12-07\",\"2015-12-08\",\"2015-12-09\",\"2015-12-10\",\"2015-12-11\",\"2015-12-14\",\"2015-12-15\",\"2015-12-16\",\"2015-12-17\",\"2015-12-18\",\"2015-12-21\",\"2015-12-22\",\"2015-12-23\",\"2015-12-28\",\"2015-12-29\",\"2015-12-30\",\"2016-01-04\",\"2016-01-05\",\"2016-01-06\",\"2016-01-07\",\"2016-01-08\",\"2016-01-11\",\"2016-01-12\",\"2016-01-13\",\"2016-01-14\",\"2016-01-15\",\"2016-01-18\",\"2016-01-19\",\"2016-01-20\",\"2016-01-21\",\"2016-01-22\",\"2016-01-25\",\"2016-01-26\",\"2016-01-27\",\"2016-01-28\",\"2016-01-29\",\"2016-02-01\",\"2016-02-02\",\"2016-02-03\",\"2016-02-04\",\"2016-02-05\",\"2016-02-09\",\"2016-02-10\",\"2016-02-11\",\"2016-02-12\",\"2016-02-15\",\"2016-02-16\",\"2016-02-17\",\"2016-02-18\",\"2016-02-19\",\"2016-02-22\",\"2016-02-23\",\"2016-02-24\",\"2016-02-25\",\"2016-02-26\",\"2016-02-29\",\"2016-03-01\",\"2016-03-02\",\"2016-03-03\",\"2016-03-04\",\"2016-03-07\",\"2016-03-08\",\"2016-03-10\",\"2016-03-15\",\"2016-03-16\",\"2016-03-17\",\"2016-03-18\",\"2016-03-21\",\"2016-03-22\",\"2016-03-23\",\"2016-03-24\",\"2016-03-28\",\"2016-03-29\",\"2016-03-30\",\"2016-03-31\",\"2016-04-01\",\"2016-04-04\",\"2016-04-05\",\"2016-04-06\",\"2016-04-07\",\"2016-04-08\",\"2016-04-12\",\"2016-04-19\",\"2016-04-20\",\"2016-04-21\",\"2016-04-22\",\"2016-04-25\",\"2016-04-26\",\"2016-04-27\",\"2016-04-28\",\"2016-04-29\",\"2016-05-02\",\"2016-05-03\",\"2016-05-04\",\"2016-05-09\",\"2016-05-10\",\"2016-05-11\",\"2016-05-12\",\"2016-05-13\",\"2016-05-16\",\"2016-05-17\",\"2016-05-18\",\"2016-05-19\",\"2016-05-20\",\"2016-05-23\",\"2016-05-24\",\"2016-05-25\",\"2016-05-26\",\"2016-05-27\",\"2016-05-30\",\"2016-05-31\",\"2016-06-01\",\"2016-06-02\",\"2016-06-03\",\"2016-06-06\",\"2016-06-07\",\"2016-06-08\",\"2016-06-09\",\"2016-06-10\",\"2016-06-13\",\"2016-06-14\",\"2016-06-15\",\"2016-06-16\",\"2016-06-17\",\"2016-06-20\",\"2016-06-21\",\"2016-06-22\",\"2016-06-23\",\"2016-06-24\",\"2016-06-27\",\"2016-06-28\",\"2016-06-29\",\"2016-06-30\",\"2016-07-01\",\"2016-07-11\",\"2016-07-12\",\"2016-07-13\",\"2016-07-14\",\"2016-07-15\",\"2016-07-18\",\"2016-07-19\",\"2016-07-20\",\"2016-07-21\",\"2016-07-22\",\"2016-07-25\",\"2016-07-26\",\"2016-07-27\",\"2016-07-28\",\"2016-07-29\",\"2016-08-01\",\"2016-08-02\",\"2016-08-03\",\"2016-08-04\",\"2016-08-05\",\"2016-08-08\",\"2016-08-09\",\"2016-08-10\",\"2016-08-11\",\"2016-08-12\",\"2016-08-15\",\"2016-08-16\",\"2016-08-18\",\"2016-08-19\",\"2016-08-22\",\"2016-08-23\",\"2016-08-24\",\"2016-08-25\",\"2016-08-26\",\"2016-08-29\",\"2016-08-30\",\"2016-08-31\",\"2016-09-01\",\"2016-09-02\",\"2016-09-05\",\"2016-09-06\",\"2016-09-07\",\"2016-09-08\",\"2016-09-09\",\"2016-09-13\",\"2016-09-14\",\"2016-09-15\",\"2016-09-16\",\"2016-09-19\",\"2016-09-20\",\"2016-09-21\",\"2016-09-22\",\"2016-09-23\",\"2016-09-26\",\"2016-09-27\",\"2016-09-28\",\"2016-09-29\",\"2016-09-30\",\"2016-10-03\",\"2016-10-04\",\"2016-10-05\",\"2016-10-06\",\"2016-10-07\",\"2016-10-10\",\"2016-10-11\",\"2016-10-12\",\"2016-10-13\",\"2016-10-14\",\"2016-10-17\",\"2016-10-18\",\"2016-10-19\",\"2016-10-20\",\"2016-10-21\",\"2016-10-24\",\"2016-10-25\",\"2016-10-26\",\"2016-10-27\",\"2016-10-28\",\"2016-10-31\",\"2016-11-01\",\"2016-11-02\",\"2016-11-03\",\"2016-11-04\",\"2016-11-07\",\"2016-11-08\",\"2016-11-09\",\"2016-11-10\",\"2016-11-11\",\"2016-11-14\",\"2016-11-15\",\"2016-11-16\",\"2016-11-17\",\"2016-11-18\",\"2016-11-21\",\"2016-11-22\",\"2016-11-23\",\"2016-11-24\",\"2016-11-25\",\"2016-11-28\",\"2016-11-29\",\"2016-11-30\",\"2016-12-01\",\"2016-12-02\",\"2016-12-05\",\"2016-12-06\",\"2016-12-07\",\"2016-12-08\",\"2016-12-09\",\"2016-12-13\",\"2016-12-14\",\"2016-12-15\",\"2016-12-16\",\"2016-12-19\",\"2016-12-20\",\"2016-12-21\",\"2016-12-22\",\"2016-12-23\",\"2016-12-27\",\"2016-12-28\",\"2016-12-29\",\"2016-12-30\",\"2017-01-02\",\"2017-01-03\",\"2017-01-04\",\"2017-01-05\",\"2017-01-06\",\"2017-01-09\",\"2017-01-10\",\"2017-01-11\",\"2017-01-12\",\"2017-01-13\",\"2017-01-16\",\"2017-01-17\",\"2017-01-18\",\"2017-01-19\",\"2017-01-20\",\"2017-01-23\",\"2017-01-24\",\"2017-01-25\",\"2017-01-26\",\"2017-01-27\",\"2017-01-30\",\"2017-01-31\",\"2017-02-01\",\"2017-02-02\",\"2017-02-03\",\"2017-02-06\",\"2017-02-07\",\"2017-02-08\",\"2017-02-09\",\"2017-02-10\",\"2017-02-13\",\"2017-02-14\",\"2017-02-15\",\"2017-02-16\",\"2017-02-17\",\"2017-02-20\",\"2017-02-21\",\"2017-02-22\",\"2017-02-23\",\"2017-02-24\",\"2017-02-27\",\"2017-02-28\",\"2017-03-01\",\"2017-03-02\",\"2017-03-03\",\"2017-03-06\",\"2017-03-07\",\"2017-03-08\",\"2017-03-09\",\"2017-03-10\",\"2017-03-13\",\"2017-03-14\",\"2017-03-15\",\"2017-03-16\",\"2017-03-17\",\"2017-03-20\",\"2017-03-21\",\"2017-03-22\",\"2017-03-23\",\"2017-03-24\",\"2017-03-27\",\"2017-03-29\",\"2017-03-30\",\"2017-03-31\",\"2017-04-03\",\"2017-04-04\",\"2017-04-05\",\"2017-04-06\",\"2017-04-07\",\"2017-04-10\",\"2017-04-11\",\"2017-04-12\",\"2017-04-13\",\"2017-04-17\",\"2017-04-18\",\"2017-04-19\",\"2017-04-20\",\"2017-04-21\",\"2017-04-25\",\"2017-04-26\",\"2017-04-27\",\"2017-04-28\",\"2017-05-02\",\"2017-05-03\",\"2017-05-04\",\"2017-05-05\",\"2017-05-08\",\"2017-05-09\",\"2017-05-10\",\"2017-05-12\",\"2017-05-15\",\"2017-05-16\",\"2017-05-17\",\"2017-05-18\",\"2017-05-19\",\"2017-05-22\",\"2017-05-23\",\"2017-05-24\",\"2017-05-26\",\"2017-05-29\",\"2017-05-30\",\"2017-05-31\",\"2017-06-01\",\"2017-06-02\",\"2017-06-05\",\"2017-06-06\",\"2017-06-07\",\"2017-06-08\",\"2017-06-09\",\"2017-06-12\",\"2017-06-13\",\"2017-06-14\",\"2017-06-15\",\"2017-06-16\",\"2017-06-19\",\"2017-06-20\",\"2017-06-21\",\"2017-06-22\",\"2017-06-23\",\"2017-06-26\",\"2017-06-27\",\"2017-06-28\",\"2017-06-29\",\"2017-06-30\",\"2017-07-03\",\"2017-07-04\",\"2017-07-05\",\"2017-07-06\",\"2017-07-07\",\"2017-07-10\",\"2017-07-11\",\"2017-07-12\",\"2017-07-13\",\"2017-07-14\",\"2017-07-17\",\"2017-07-18\",\"2017-07-19\",\"2017-07-20\",\"2017-07-21\",\"2017-07-24\",\"2017-07-25\",\"2017-07-26\",\"2017-07-27\",\"2017-07-28\",\"2017-07-31\",\"2017-08-01\",\"2017-08-02\",\"2017-08-03\",\"2017-08-04\",\"2017-08-07\",\"2017-08-08\",\"2017-08-09\",\"2017-08-10\",\"2017-08-11\",\"2017-08-14\",\"2017-08-15\",\"2017-08-16\",\"2017-08-17\",\"2017-08-18\",\"2017-08-21\",\"2017-08-22\",\"2017-08-23\",\"2017-08-24\",\"2017-08-25\",\"2017-08-28\",\"2017-08-29\",\"2017-08-30\",\"2017-08-31\",\"2017-09-01\",\"2017-09-04\",\"2017-09-05\",\"2017-09-06\",\"2017-09-07\",\"2017-09-08\",\"2017-09-11\",\"2017-09-12\",\"2017-09-13\",\"2017-09-14\",\"2017-09-15\",\"2017-09-18\",\"2017-09-19\",\"2017-09-20\",\"2017-09-21\",\"2017-09-22\",\"2017-09-25\",\"2017-09-26\",\"2017-09-27\",\"2017-09-28\",\"2017-09-29\",\"2017-10-02\",\"2017-10-03\",\"2017-10-04\",\"2017-10-05\",\"2017-10-06\",\"2017-10-09\",\"2017-10-10\",\"2017-10-11\",\"2017-10-12\",\"2017-10-13\",\"2017-10-16\",\"2017-10-17\",\"2017-10-18\",\"2017-10-19\",\"2017-10-20\",\"2017-10-23\",\"2017-10-24\",\"2017-10-25\",\"2017-10-26\",\"2017-10-27\",\"2017-10-30\",\"2017-10-31\",\"2017-11-01\",\"2017-11-02\",\"2017-11-03\",\"2017-11-06\",\"2017-11-07\",\"2017-11-08\",\"2017-11-09\",\"2017-11-10\",\"2017-11-13\",\"2017-11-14\",\"2017-11-15\",\"2017-11-16\",\"2017-11-17\",\"2017-11-20\",\"2017-11-21\",\"2017-11-22\",\"2017-11-23\",\"2017-11-24\",\"2017-11-27\",\"2017-11-28\",\"2017-11-29\",\"2017-11-30\",\"2017-12-01\",\"2017-12-04\",\"2017-12-05\",\"2017-12-06\",\"2017-12-07\",\"2017-12-08\",\"2017-12-11\",\"2017-12-12\",\"2017-12-13\",\"2017-12-14\",\"2017-12-15\",\"2017-12-18\",\"2017-12-19\",\"2017-12-20\",\"2017-12-21\",\"2017-12-22\",\"2017-12-25\",\"2017-12-26\",\"2017-12-27\",\"2017-12-28\",\"2017-12-29\",\"2018-01-01\",\"2018-01-02\",\"2018-01-03\",\"2018-01-04\",\"2018-01-05\",\"2018-01-08\",\"2018-01-09\",\"2018-01-10\",\"2018-01-11\",\"2018-01-12\",\"2018-01-15\",\"2018-01-16\",\"2018-01-17\",\"2018-01-18\",\"2018-01-19\",\"2018-01-22\",\"2018-01-23\",\"2018-01-24\",\"2018-01-25\",\"2018-01-26\",\"2018-01-29\",\"2018-01-30\",\"2018-01-31\",\"2018-02-01\",\"2018-02-02\",\"2018-02-05\",\"2018-02-06\",\"2018-02-07\",\"2018-02-08\",\"2018-02-09\",\"2018-02-12\",\"2018-02-13\",\"2018-02-14\",\"2018-02-15\",\"2018-02-16\",\"2018-02-19\",\"2018-02-20\",\"2018-02-21\",\"2018-02-22\",\"2018-02-23\",\"2018-02-26\",\"2018-02-27\",\"2018-02-28\",\"2018-03-01\",\"2018-03-02\",\"2018-03-05\",\"2018-03-06\",\"2018-03-07\",\"2018-03-08\",\"2018-03-09\",\"2018-03-12\",\"2018-03-13\",\"2018-03-14\",\"2018-03-15\",\"2018-03-16\",\"2018-03-19\",\"2018-03-20\",\"2018-03-21\",\"2018-03-22\",\"2018-03-23\",\"2018-03-26\",\"2018-03-27\",\"2018-03-28\",\"2018-03-29\",\"2018-03-30\",\"2018-04-02\",\"2018-04-03\",\"2018-04-04\",\"2018-04-05\",\"2018-04-06\",\"2018-04-09\",\"2018-04-10\",\"2018-04-11\",\"2018-04-12\",\"2018-04-13\",\"2018-04-16\",\"2018-04-17\",\"2018-04-18\",\"2018-04-19\",\"2018-04-20\",\"2018-04-23\",\"2018-04-24\",\"2018-04-25\",\"2018-04-26\",\"2018-04-27\",\"2018-04-30\",\"2018-05-01\",\"2018-05-02\",\"2018-05-03\",\"2018-05-04\",\"2018-05-07\",\"2018-05-08\",\"2018-05-09\",\"2018-05-10\",\"2018-05-11\",\"2018-05-14\",\"2018-05-15\",\"2018-05-16\",\"2018-05-17\",\"2018-05-18\",\"2018-05-21\",\"2018-05-22\",\"2018-05-23\",\"2018-05-24\",\"2018-05-25\",\"2018-05-28\",\"2018-05-29\",\"2018-05-30\",\"2018-05-31\",\"2018-06-01\",\"2018-06-04\",\"2018-06-05\",\"2018-06-06\",\"2018-06-07\",\"2018-06-08\",\"2018-06-11\",\"2018-06-12\",\"2018-06-13\",\"2018-06-14\",\"2018-06-15\",\"2018-06-18\",\"2018-06-19\",\"2018-06-20\",\"2018-06-21\",\"2018-06-22\",\"2018-06-25\",\"2018-06-26\",\"2018-06-27\",\"2018-06-28\",\"2018-06-29\",\"2018-07-02\",\"2018-07-03\",\"2018-07-04\",\"2018-07-05\",\"2018-07-06\",\"2018-07-09\",\"2018-07-10\",\"2018-07-11\",\"2018-07-12\",\"2018-07-13\",\"2018-07-16\",\"2018-07-17\",\"2018-07-18\",\"2018-07-19\",\"2018-07-20\",\"2018-07-23\",\"2018-07-24\",\"2018-07-25\",\"2018-07-26\",\"2018-07-27\",\"2018-07-30\",\"2018-07-31\",\"2018-08-01\",\"2018-08-02\",\"2018-08-03\",\"2018-08-06\",\"2018-08-07\",\"2018-08-08\",\"2018-08-09\",\"2018-08-10\",\"2018-08-13\",\"2018-08-14\",\"2018-08-15\",\"2018-08-16\",\"2018-08-17\",\"2018-08-20\",\"2018-08-21\",\"2018-08-22\",\"2018-08-23\",\"2018-08-24\",\"2018-08-27\",\"2018-08-28\",\"2018-08-29\",\"2018-08-30\",\"2018-08-31\",\"2018-09-03\",\"2018-09-04\",\"2018-09-05\",\"2018-09-06\",\"2018-09-07\",\"2018-09-10\",\"2018-09-11\",\"2018-09-12\",\"2018-09-13\",\"2018-09-14\",\"2018-09-17\",\"2018-09-18\",\"2018-09-19\",\"2018-09-20\",\"2018-09-21\",\"2018-09-24\",\"2018-09-25\",\"2018-09-26\",\"2018-09-27\",\"2018-09-28\",\"2018-10-01\",\"2018-10-02\",\"2018-10-03\",\"2018-10-04\",\"2018-10-05\",\"2018-10-08\",\"2018-10-09\",\"2018-10-10\",\"2018-10-11\",\"2018-10-12\",\"2018-10-15\",\"2018-10-16\",\"2018-10-17\",\"2018-10-18\",\"2018-10-19\",\"2018-10-22\",\"2018-10-23\",\"2018-10-24\",\"2018-10-25\",\"2018-10-26\",\"2018-10-29\",\"2018-10-30\",\"2018-10-31\",\"2018-11-01\",\"2018-11-02\",\"2018-11-05\",\"2018-11-06\",\"2018-11-07\",\"2018-11-08\",\"2018-11-09\",\"2018-11-12\",\"2018-11-13\",\"2018-11-14\",\"2018-11-15\",\"2018-11-16\",\"2018-11-19\",\"2018-11-20\",\"2018-11-21\",\"2018-11-22\",\"2018-11-23\",\"2018-11-26\",\"2018-11-27\",\"2018-11-28\",\"2018-11-29\",\"2018-11-30\",\"2018-12-03\",\"2018-12-04\",\"2018-12-05\",\"2018-12-06\",\"2018-12-07\",\"2018-12-10\",\"2018-12-11\",\"2018-12-12\",\"2018-12-13\",\"2018-12-14\",\"2018-12-17\",\"2018-12-18\",\"2018-12-19\",\"2018-12-20\",\"2018-12-21\",\"2018-12-24\",\"2018-12-25\",\"2018-12-26\",\"2018-12-27\",\"2018-12-28\",\"2018-12-31\",\"2019-01-01\",\"2019-01-02\",\"2019-01-03\",\"2019-01-04\",\"2019-01-07\",\"2019-01-08\",\"2019-01-09\",\"2019-01-10\",\"2019-01-11\",\"2019-01-14\",\"2019-01-15\",\"2019-01-16\",\"2019-01-17\",\"2019-01-18\",\"2019-01-21\",\"2019-01-22\",\"2019-01-23\",\"2019-01-24\",\"2019-01-25\",\"2019-01-28\",\"2019-01-29\",\"2019-01-30\",\"2019-01-31\",\"2019-02-01\",\"2019-02-04\",\"2019-02-05\",\"2019-02-06\",\"2019-02-07\",\"2019-02-08\",\"2019-02-11\",\"2019-02-12\",\"2019-02-13\",\"2019-02-14\",\"2019-02-15\",\"2019-02-18\",\"2019-02-19\",\"2019-02-20\",\"2019-02-21\",\"2019-02-22\",\"2019-02-25\",\"2019-02-26\",\"2019-02-27\",\"2019-02-28\",\"2019-03-01\",\"2019-03-04\",\"2019-03-05\",\"2019-03-06\",\"2019-03-07\",\"2019-03-08\",\"2019-03-11\",\"2019-03-12\",\"2019-03-13\",\"2019-03-14\",\"2019-03-15\",\"2019-03-18\",\"2019-03-19\",\"2019-03-20\",\"2019-03-21\",\"2019-03-22\",\"2019-03-25\",\"2019-03-26\",\"2019-03-27\",\"2019-03-28\",\"2019-03-29\",\"2019-04-01\",\"2019-04-02\",\"2019-04-03\",\"2019-04-04\",\"2019-04-05\",\"2019-04-08\",\"2019-04-09\",\"2019-04-10\",\"2019-04-11\",\"2019-04-12\",\"2019-04-15\",\"2019-04-16\",\"2019-04-17\",\"2019-04-18\",\"2019-04-19\",\"2019-04-22\",\"2019-04-23\",\"2019-04-24\",\"2019-04-25\",\"2019-04-26\",\"2019-04-29\",\"2019-04-30\",\"2019-05-01\",\"2019-05-02\",\"2019-05-03\",\"2019-05-06\",\"2019-05-07\",\"2019-05-08\",\"2019-05-09\",\"2019-05-10\",\"2019-05-13\",\"2019-05-14\",\"2019-05-15\",\"2019-05-16\",\"2019-05-17\",\"2019-05-20\",\"2019-05-21\",\"2019-05-22\",\"2019-05-23\",\"2019-05-24\",\"2019-05-27\",\"2019-05-28\",\"2019-05-29\",\"2019-05-30\",\"2019-05-31\",\"2019-06-03\",\"2019-06-04\",\"2019-06-05\",\"2019-06-06\",\"2019-06-07\",\"2019-06-10\",\"2019-06-11\",\"2019-06-12\",\"2019-06-13\",\"2019-06-14\",\"2019-06-17\",\"2019-06-18\",\"2019-06-19\",\"2019-06-20\",\"2019-06-21\",\"2019-06-24\",\"2019-06-25\",\"2019-06-26\",\"2019-06-27\",\"2019-06-28\",\"2019-07-01\",\"2019-07-02\",\"2019-07-03\",\"2019-07-04\",\"2019-07-05\",\"2019-07-08\",\"2019-07-09\",\"2019-07-10\",\"2019-07-11\",\"2019-07-12\",\"2019-07-15\",\"2019-07-16\",\"2019-07-17\",\"2019-07-18\",\"2019-07-19\",\"2019-07-22\",\"2019-07-23\",\"2019-07-24\",\"2019-07-25\",\"2019-07-26\",\"2019-07-29\",\"2019-07-30\",\"2019-07-31\",\"2019-08-01\",\"2019-08-02\",\"2019-08-05\",\"2019-08-06\",\"2019-08-07\",\"2019-08-08\",\"2019-08-09\",\"2019-08-12\",\"2019-08-13\",\"2019-08-14\",\"2019-08-15\",\"2019-08-16\",\"2019-08-20\",\"2019-08-21\",\"2019-08-22\",\"2019-08-23\",\"2019-08-26\",\"2019-08-27\",\"2019-08-28\",\"2019-08-29\",\"2019-08-30\",\"2019-09-02\",\"2019-09-03\",\"2019-09-04\",\"2019-09-05\",\"2019-09-06\",\"2019-09-09\",\"2019-09-10\",\"2019-09-11\",\"2019-09-12\",\"2019-09-13\",\"2019-09-16\",\"2019-09-17\",\"2019-09-18\",\"2019-09-19\",\"2019-09-20\",\"2019-09-23\",\"2019-09-24\",\"2019-09-25\",\"2019-09-26\",\"2019-09-27\",\"2019-09-30\",\"2019-10-01\",\"2019-10-02\",\"2019-10-03\",\"2019-10-04\",\"2019-10-07\",\"2019-10-08\",\"2019-10-09\",\"2019-10-10\",\"2019-10-11\",\"2019-10-14\",\"2019-10-15\",\"2019-10-16\",\"2019-10-17\",\"2019-10-18\",\"2019-10-21\",\"2019-10-22\",\"2019-10-23\",\"2019-10-24\",\"2019-10-25\",\"2019-10-28\",\"2019-10-29\",\"2019-10-30\",\"2019-10-31\",\"2019-11-01\",\"2019-11-04\",\"2019-11-05\",\"2019-11-06\",\"2019-11-07\",\"2019-11-08\",\"2019-11-11\",\"2019-11-12\",\"2019-11-13\",\"2019-11-14\",\"2019-11-15\",\"2019-11-19\",\"2019-11-20\",\"2019-11-21\",\"2019-11-22\",\"2019-11-25\",\"2019-11-26\",\"2019-11-27\",\"2019-11-28\",\"2019-11-29\",\"2019-12-02\",\"2019-12-03\",\"2019-12-04\",\"2019-12-05\",\"2019-12-06\",\"2019-12-09\",\"2019-12-10\",\"2019-12-11\",\"2019-12-12\",\"2019-12-13\",\"2019-12-16\",\"2019-12-17\",\"2019-12-18\",\"2019-12-19\",\"2019-12-20\",\"2019-12-23\",\"2019-12-26\",\"2019-12-27\",\"2019-12-30\",\"2020-01-02\"],\"type\":\"candlestick\"}],                        {\"template\":{\"data\":{\"histogram2dcontour\":[{\"type\":\"histogram2dcontour\",\"colorbar\":{\"outlinewidth\":0,\"ticks\":\"\"},\"colorscale\":[[0.0,\"#0d0887\"],[0.1111111111111111,\"#46039f\"],[0.2222222222222222,\"#7201a8\"],[0.3333333333333333,\"#9c179e\"],[0.4444444444444444,\"#bd3786\"],[0.5555555555555556,\"#d8576b\"],[0.6666666666666666,\"#ed7953\"],[0.7777777777777778,\"#fb9f3a\"],[0.8888888888888888,\"#fdca26\"],[1.0,\"#f0f921\"]]}],\"choropleth\":[{\"type\":\"choropleth\",\"colorbar\":{\"outlinewidth\":0,\"ticks\":\"\"}}],\"histogram2d\":[{\"type\":\"histogram2d\",\"colorbar\":{\"outlinewidth\":0,\"ticks\":\"\"},\"colorscale\":[[0.0,\"#0d0887\"],[0.1111111111111111,\"#46039f\"],[0.2222222222222222,\"#7201a8\"],[0.3333333333333333,\"#9c179e\"],[0.4444444444444444,\"#bd3786\"],[0.5555555555555556,\"#d8576b\"],[0.6666666666666666,\"#ed7953\"],[0.7777777777777778,\"#fb9f3a\"],[0.8888888888888888,\"#fdca26\"],[1.0,\"#f0f921\"]]}],\"heatmap\":[{\"type\":\"heatmap\",\"colorbar\":{\"outlinewidth\":0,\"ticks\":\"\"},\"colorscale\":[[0.0,\"#0d0887\"],[0.1111111111111111,\"#46039f\"],[0.2222222222222222,\"#7201a8\"],[0.3333333333333333,\"#9c179e\"],[0.4444444444444444,\"#bd3786\"],[0.5555555555555556,\"#d8576b\"],[0.6666666666666666,\"#ed7953\"],[0.7777777777777778,\"#fb9f3a\"],[0.8888888888888888,\"#fdca26\"],[1.0,\"#f0f921\"]]}],\"heatmapgl\":[{\"type\":\"heatmapgl\",\"colorbar\":{\"outlinewidth\":0,\"ticks\":\"\"},\"colorscale\":[[0.0,\"#0d0887\"],[0.1111111111111111,\"#46039f\"],[0.2222222222222222,\"#7201a8\"],[0.3333333333333333,\"#9c179e\"],[0.4444444444444444,\"#bd3786\"],[0.5555555555555556,\"#d8576b\"],[0.6666666666666666,\"#ed7953\"],[0.7777777777777778,\"#fb9f3a\"],[0.8888888888888888,\"#fdca26\"],[1.0,\"#f0f921\"]]}],\"contourcarpet\":[{\"type\":\"contourcarpet\",\"colorbar\":{\"outlinewidth\":0,\"ticks\":\"\"}}],\"contour\":[{\"type\":\"contour\",\"colorbar\":{\"outlinewidth\":0,\"ticks\":\"\"},\"colorscale\":[[0.0,\"#0d0887\"],[0.1111111111111111,\"#46039f\"],[0.2222222222222222,\"#7201a8\"],[0.3333333333333333,\"#9c179e\"],[0.4444444444444444,\"#bd3786\"],[0.5555555555555556,\"#d8576b\"],[0.6666666666666666,\"#ed7953\"],[0.7777777777777778,\"#fb9f3a\"],[0.8888888888888888,\"#fdca26\"],[1.0,\"#f0f921\"]]}],\"surface\":[{\"type\":\"surface\",\"colorbar\":{\"outlinewidth\":0,\"ticks\":\"\"},\"colorscale\":[[0.0,\"#0d0887\"],[0.1111111111111111,\"#46039f\"],[0.2222222222222222,\"#7201a8\"],[0.3333333333333333,\"#9c179e\"],[0.4444444444444444,\"#bd3786\"],[0.5555555555555556,\"#d8576b\"],[0.6666666666666666,\"#ed7953\"],[0.7777777777777778,\"#fb9f3a\"],[0.8888888888888888,\"#fdca26\"],[1.0,\"#f0f921\"]]}],\"mesh3d\":[{\"type\":\"mesh3d\",\"colorbar\":{\"outlinewidth\":0,\"ticks\":\"\"}}],\"scatter\":[{\"fillpattern\":{\"fillmode\":\"overlay\",\"size\":10,\"solidity\":0.2},\"type\":\"scatter\"}],\"parcoords\":[{\"type\":\"parcoords\",\"line\":{\"colorbar\":{\"outlinewidth\":0,\"ticks\":\"\"}}}],\"scatterpolargl\":[{\"type\":\"scatterpolargl\",\"marker\":{\"colorbar\":{\"outlinewidth\":0,\"ticks\":\"\"}}}],\"bar\":[{\"error_x\":{\"color\":\"#2a3f5f\"},\"error_y\":{\"color\":\"#2a3f5f\"},\"marker\":{\"line\":{\"color\":\"#E5ECF6\",\"width\":0.5},\"pattern\":{\"fillmode\":\"overlay\",\"size\":10,\"solidity\":0.2}},\"type\":\"bar\"}],\"scattergeo\":[{\"type\":\"scattergeo\",\"marker\":{\"colorbar\":{\"outlinewidth\":0,\"ticks\":\"\"}}}],\"scatterpolar\":[{\"type\":\"scatterpolar\",\"marker\":{\"colorbar\":{\"outlinewidth\":0,\"ticks\":\"\"}}}],\"histogram\":[{\"marker\":{\"pattern\":{\"fillmode\":\"overlay\",\"size\":10,\"solidity\":0.2}},\"type\":\"histogram\"}],\"scattergl\":[{\"type\":\"scattergl\",\"marker\":{\"colorbar\":{\"outlinewidth\":0,\"ticks\":\"\"}}}],\"scatter3d\":[{\"type\":\"scatter3d\",\"line\":{\"colorbar\":{\"outlinewidth\":0,\"ticks\":\"\"}},\"marker\":{\"colorbar\":{\"outlinewidth\":0,\"ticks\":\"\"}}}],\"scattermapbox\":[{\"type\":\"scattermapbox\",\"marker\":{\"colorbar\":{\"outlinewidth\":0,\"ticks\":\"\"}}}],\"scatterternary\":[{\"type\":\"scatterternary\",\"marker\":{\"colorbar\":{\"outlinewidth\":0,\"ticks\":\"\"}}}],\"scattercarpet\":[{\"type\":\"scattercarpet\",\"marker\":{\"colorbar\":{\"outlinewidth\":0,\"ticks\":\"\"}}}],\"carpet\":[{\"aaxis\":{\"endlinecolor\":\"#2a3f5f\",\"gridcolor\":\"white\",\"linecolor\":\"white\",\"minorgridcolor\":\"white\",\"startlinecolor\":\"#2a3f5f\"},\"baxis\":{\"endlinecolor\":\"#2a3f5f\",\"gridcolor\":\"white\",\"linecolor\":\"white\",\"minorgridcolor\":\"white\",\"startlinecolor\":\"#2a3f5f\"},\"type\":\"carpet\"}],\"table\":[{\"cells\":{\"fill\":{\"color\":\"#EBF0F8\"},\"line\":{\"color\":\"white\"}},\"header\":{\"fill\":{\"color\":\"#C8D4E3\"},\"line\":{\"color\":\"white\"}},\"type\":\"table\"}],\"barpolar\":[{\"marker\":{\"line\":{\"color\":\"#E5ECF6\",\"width\":0.5},\"pattern\":{\"fillmode\":\"overlay\",\"size\":10,\"solidity\":0.2}},\"type\":\"barpolar\"}],\"pie\":[{\"automargin\":true,\"type\":\"pie\"}]},\"layout\":{\"autotypenumbers\":\"strict\",\"colorway\":[\"#636efa\",\"#EF553B\",\"#00cc96\",\"#ab63fa\",\"#FFA15A\",\"#19d3f3\",\"#FF6692\",\"#B6E880\",\"#FF97FF\",\"#FECB52\"],\"font\":{\"color\":\"#2a3f5f\"},\"hovermode\":\"closest\",\"hoverlabel\":{\"align\":\"left\"},\"paper_bgcolor\":\"white\",\"plot_bgcolor\":\"#E5ECF6\",\"polar\":{\"bgcolor\":\"#E5ECF6\",\"angularaxis\":{\"gridcolor\":\"white\",\"linecolor\":\"white\",\"ticks\":\"\"},\"radialaxis\":{\"gridcolor\":\"white\",\"linecolor\":\"white\",\"ticks\":\"\"}},\"ternary\":{\"bgcolor\":\"#E5ECF6\",\"aaxis\":{\"gridcolor\":\"white\",\"linecolor\":\"white\",\"ticks\":\"\"},\"baxis\":{\"gridcolor\":\"white\",\"linecolor\":\"white\",\"ticks\":\"\"},\"caxis\":{\"gridcolor\":\"white\",\"linecolor\":\"white\",\"ticks\":\"\"}},\"coloraxis\":{\"colorbar\":{\"outlinewidth\":0,\"ticks\":\"\"}},\"colorscale\":{\"sequential\":[[0.0,\"#0d0887\"],[0.1111111111111111,\"#46039f\"],[0.2222222222222222,\"#7201a8\"],[0.3333333333333333,\"#9c179e\"],[0.4444444444444444,\"#bd3786\"],[0.5555555555555556,\"#d8576b\"],[0.6666666666666666,\"#ed7953\"],[0.7777777777777778,\"#fb9f3a\"],[0.8888888888888888,\"#fdca26\"],[1.0,\"#f0f921\"]],\"sequentialminus\":[[0.0,\"#0d0887\"],[0.1111111111111111,\"#46039f\"],[0.2222222222222222,\"#7201a8\"],[0.3333333333333333,\"#9c179e\"],[0.4444444444444444,\"#bd3786\"],[0.5555555555555556,\"#d8576b\"],[0.6666666666666666,\"#ed7953\"],[0.7777777777777778,\"#fb9f3a\"],[0.8888888888888888,\"#fdca26\"],[1.0,\"#f0f921\"]],\"diverging\":[[0,\"#8e0152\"],[0.1,\"#c51b7d\"],[0.2,\"#de77ae\"],[0.3,\"#f1b6da\"],[0.4,\"#fde0ef\"],[0.5,\"#f7f7f7\"],[0.6,\"#e6f5d0\"],[0.7,\"#b8e186\"],[0.8,\"#7fbc41\"],[0.9,\"#4d9221\"],[1,\"#276419\"]]},\"xaxis\":{\"gridcolor\":\"white\",\"linecolor\":\"white\",\"ticks\":\"\",\"title\":{\"standoff\":15},\"zerolinecolor\":\"white\",\"automargin\":true,\"zerolinewidth\":2},\"yaxis\":{\"gridcolor\":\"white\",\"linecolor\":\"white\",\"ticks\":\"\",\"title\":{\"standoff\":15},\"zerolinecolor\":\"white\",\"automargin\":true,\"zerolinewidth\":2},\"scene\":{\"xaxis\":{\"backgroundcolor\":\"#E5ECF6\",\"gridcolor\":\"white\",\"linecolor\":\"white\",\"showbackground\":true,\"ticks\":\"\",\"zerolinecolor\":\"white\",\"gridwidth\":2},\"yaxis\":{\"backgroundcolor\":\"#E5ECF6\",\"gridcolor\":\"white\",\"linecolor\":\"white\",\"showbackground\":true,\"ticks\":\"\",\"zerolinecolor\":\"white\",\"gridwidth\":2},\"zaxis\":{\"backgroundcolor\":\"#E5ECF6\",\"gridcolor\":\"white\",\"linecolor\":\"white\",\"showbackground\":true,\"ticks\":\"\",\"zerolinecolor\":\"white\",\"gridwidth\":2}},\"shapedefaults\":{\"line\":{\"color\":\"#2a3f5f\"}},\"annotationdefaults\":{\"arrowcolor\":\"#2a3f5f\",\"arrowhead\":0,\"arrowwidth\":1},\"geo\":{\"bgcolor\":\"white\",\"landcolor\":\"#E5ECF6\",\"subunitcolor\":\"white\",\"showland\":true,\"showlakes\":true,\"lakecolor\":\"white\"},\"title\":{\"x\":0.05},\"mapbox\":{\"style\":\"light\"}}}},                        {\"responsive\": true}                    ).then(function(){\n",
              "                            \n",
              "var gd = document.getElementById('6640e189-7d1d-4720-9dbd-fe8cc9f4fbaf');\n",
              "var x = new MutationObserver(function (mutations, observer) {{\n",
              "        var display = window.getComputedStyle(gd).display;\n",
              "        if (!display || display === 'none') {{\n",
              "            console.log([gd, 'removed!']);\n",
              "            Plotly.purge(gd);\n",
              "            observer.disconnect();\n",
              "        }}\n",
              "}});\n",
              "\n",
              "// Listen for the removal of the full notebook cells\n",
              "var notebookContainer = gd.closest('#notebook-container');\n",
              "if (notebookContainer) {{\n",
              "    x.observe(notebookContainer, {childList: true});\n",
              "}}\n",
              "\n",
              "// Listen for the clearing of the current output cell\n",
              "var outputEl = gd.closest('.output');\n",
              "if (outputEl) {{\n",
              "    x.observe(outputEl, {childList: true});\n",
              "}}\n",
              "\n",
              "                        })                };                            </script>        </div>\n",
              "</body>\n",
              "</html>"
            ]
          },
          "metadata": {}
        }
      ]
    },
    {
      "cell_type": "markdown",
      "source": [
        "# Melakukan Normalisasi data"
      ],
      "metadata": {
        "id": "R5xABgzz3_Z_"
      }
    },
    {
      "cell_type": "code",
      "source": [
        "# Melakukan Normalisasi untuk Data Latih dan Data Uji\n",
        "x = df_train.loc[:,train_cols].values\n",
        "min_max_scaler = MinMaxScaler()\n",
        "x_train = min_max_scaler.fit_transform(x)\n",
        "x_test = min_max_scaler.transform(df_test.loc[:,train_cols])"
      ],
      "metadata": {
        "colab": {
          "base_uri": "https://localhost:8080/"
        },
        "id": "AH1eTar2XWET",
        "outputId": "f3ffb7ad-dacd-4370-a93f-f3fe447b1a32"
      },
      "execution_count": 13,
      "outputs": [
        {
          "output_type": "stream",
          "name": "stderr",
          "text": [
            "/usr/local/lib/python3.10/dist-packages/sklearn/base.py:432: UserWarning:\n",
            "\n",
            "X has feature names, but MinMaxScaler was fitted without feature names\n",
            "\n"
          ]
        }
      ]
    },
    {
      "cell_type": "code",
      "source": [
        "# Melakukan Normalisasi untuk Data Latih dan Data Uji\n",
        "x2 = df2_train.loc[:,train_cols].values\n",
        "min_max_scaler = MinMaxScaler()\n",
        "x2_train = min_max_scaler.fit_transform(x2)\n",
        "x2_test = min_max_scaler.transform(df2_test.loc[:,train_cols])"
      ],
      "metadata": {
        "colab": {
          "base_uri": "https://localhost:8080/"
        },
        "id": "BC2kckhKXZF9",
        "outputId": "d2c7c170-4f71-4003-e982-e49aade52873"
      },
      "execution_count": 14,
      "outputs": [
        {
          "output_type": "stream",
          "name": "stderr",
          "text": [
            "/usr/local/lib/python3.10/dist-packages/sklearn/base.py:432: UserWarning:\n",
            "\n",
            "X has feature names, but MinMaxScaler was fitted without feature names\n",
            "\n"
          ]
        }
      ]
    },
    {
      "cell_type": "code",
      "source": [
        "# Melakukan Normalisasi untuk Data Latih dan Data Uji\n",
        "x3 = df3_train.loc[:,train_cols].values\n",
        "min_max_scaler = MinMaxScaler()\n",
        "x3_train = min_max_scaler.fit_transform(x3)\n",
        "x3_test = min_max_scaler.transform(df3_test.loc[:,train_cols])"
      ],
      "metadata": {
        "colab": {
          "base_uri": "https://localhost:8080/"
        },
        "id": "I0VYl9bjXbRJ",
        "outputId": "22568c0b-64c7-4b8b-d4e1-2b1e6c8c1c62"
      },
      "execution_count": 15,
      "outputs": [
        {
          "output_type": "stream",
          "name": "stderr",
          "text": [
            "/usr/local/lib/python3.10/dist-packages/sklearn/base.py:432: UserWarning:\n",
            "\n",
            "X has feature names, but MinMaxScaler was fitted without feature names\n",
            "\n"
          ]
        }
      ]
    },
    {
      "cell_type": "markdown",
      "source": [
        "# Menghapus data yang tidak diperlukan"
      ],
      "metadata": {
        "id": "_phxlA6J433V"
      }
    },
    {
      "cell_type": "code",
      "source": [
        "print(\"Menghapus dataframe yang tidak terpakai . . .\")\n",
        "apus  = (sys.getsizeof(df)+sys.getsizeof(df_train)+sys.getsizeof(df_test))//1024\n",
        "print (\"Dataframe terhapus sebesar \", apus ,\" KB\")\n",
        "del df_test\n",
        "del df_train\n",
        "del x\n",
        "print (\"Proses penghapusan selesai\")"
      ],
      "metadata": {
        "colab": {
          "base_uri": "https://localhost:8080/"
        },
        "id": "V_MNJG5yXeou",
        "outputId": "ce7636ef-c2e0-4f52-99bf-7f79ddb11f5a"
      },
      "execution_count": 16,
      "outputs": [
        {
          "output_type": "stream",
          "name": "stdout",
          "text": [
            "Menghapus dataframe yang tidak terpakai . . .\n",
            "Dataframe terhapus sebesar  657  KB\n",
            "Proses penghapusan selesai\n"
          ]
        }
      ]
    },
    {
      "cell_type": "code",
      "source": [
        "print(\"Menghapus dataframe yang tidak terpakai . . .\")\n",
        "apus  = (sys.getsizeof(df2)+sys.getsizeof(df2_train)+sys.getsizeof(df2_test))//1024\n",
        "print (\"Dataframe terhapus sebesar \", apus ,\" KB\")\n",
        "del df2_test\n",
        "del df2_train\n",
        "del x2\n",
        "print (\"Proses penghapusan selesai\")"
      ],
      "metadata": {
        "colab": {
          "base_uri": "https://localhost:8080/"
        },
        "id": "EScDocJUXkFp",
        "outputId": "74f6dc18-06fe-407b-add0-26a4187a1de9"
      },
      "execution_count": 17,
      "outputs": [
        {
          "output_type": "stream",
          "name": "stdout",
          "text": [
            "Menghapus dataframe yang tidak terpakai . . .\n",
            "Dataframe terhapus sebesar  328  KB\n",
            "Proses penghapusan selesai\n"
          ]
        }
      ]
    },
    {
      "cell_type": "code",
      "source": [
        "print(\"Menghapus dataframe yang tidak terpakai . . .\")\n",
        "apus  = (sys.getsizeof(df3)+sys.getsizeof(df3_train)+sys.getsizeof(df3_test))//1024\n",
        "print (\"Dataframe terhapus sebesar \", apus ,\" KB\")\n",
        "del df3_test\n",
        "del df3_train\n",
        "del x3\n",
        "print (\"Proses penghapusan selesai\")"
      ],
      "metadata": {
        "colab": {
          "base_uri": "https://localhost:8080/"
        },
        "id": "QEyDODBrXoH0",
        "outputId": "e0f30a85-1f8f-4609-d877-a62647349536"
      },
      "execution_count": 18,
      "outputs": [
        {
          "output_type": "stream",
          "name": "stdout",
          "text": [
            "Menghapus dataframe yang tidak terpakai . . .\n",
            "Dataframe terhapus sebesar  328  KB\n",
            "Proses penghapusan selesai\n"
          ]
        }
      ]
    },
    {
      "cell_type": "markdown",
      "source": [
        "# Menghapus data yang tidak diperlukan"
      ],
      "metadata": {
        "id": "pP6hcRDj49MX"
      }
    },
    {
      "cell_type": "markdown",
      "source": [
        "## Memangkas Dataset"
      ],
      "metadata": {
        "id": "qCGkjS5t4_Tp"
      }
    },
    {
      "cell_type": "code",
      "source": [
        "def print_time(text, stime):\n",
        "    seconds = (time.time()-stime)\n",
        "    print(text, seconds//60,\"menit : \",np.round(seconds%60),\"detik\")"
      ],
      "metadata": {
        "id": "udP3RJb1Xpza"
      },
      "execution_count": 19,
      "outputs": []
    },
    {
      "cell_type": "code",
      "source": [
        "def trim_dataset(mat,batch_size):\n",
        "    no_of_rows_drop = mat.shape[0]%batch_size\n",
        "    if no_of_rows_drop > 0:\n",
        "        return mat[:-no_of_rows_drop]\n",
        "    else:\n",
        "        return mat"
      ],
      "metadata": {
        "id": "D-Aqj3xQXyub"
      },
      "execution_count": 20,
      "outputs": []
    },
    {
      "cell_type": "markdown",
      "source": [
        "# Membuat Time Series"
      ],
      "metadata": {
        "id": "eR3HZy1_5Gji"
      }
    },
    {
      "cell_type": "code",
      "source": [
        "def build_timeseries(mat, y_col_index):\n",
        "    dim_0 = mat.shape[0] - TIME_STEPS\n",
        "    dim_1 = mat.shape[1]\n",
        "    x = np.zeros((dim_0, TIME_STEPS, dim_1))\n",
        "    y = np.zeros((dim_0,))\n",
        "    print(\"dim_0\",dim_0)\n",
        "    for i in tqdm_notebook(range(dim_0)):\n",
        "        x[i] = mat[i:TIME_STEPS+i]\n",
        "        y[i] = mat[TIME_STEPS+i, y_col_index]\n",
        "    print(\"Ukuran time-series untuk Input dan Output : \",x.shape,y.shape)\n",
        "    return x, y"
      ],
      "metadata": {
        "id": "BsZvQBCsX1eL"
      },
      "execution_count": 21,
      "outputs": []
    },
    {
      "cell_type": "code",
      "source": [
        "# Pengecekan data yang masih null\n",
        "print(\"Apa masih ada data yang berisikan null?\",np.isnan(x_train).any(), np.isnan(x_train).any())\n",
        "x_t, y_t = build_timeseries(x_train, 3)\n",
        "x_t = trim_dataset(x_t, BATCH_SIZE)\n",
        "y_t = trim_dataset(y_t, BATCH_SIZE)\n",
        "print(\"Data yang sudah dipangkas menjadi : \",x_t.shape, y_t.shape)"
      ],
      "metadata": {
        "colab": {
          "base_uri": "https://localhost:8080/",
          "height": 118,
          "referenced_widgets": [
            "c93120cb9af54750bb7e57e82915c4a8",
            "c73607256d0f44d280ec9fe581de71b0",
            "ff6dabb447d04e5799da139a45640e65",
            "0c8b42ce3c794a55bf174e2d8b90899c",
            "6cf9e6695e2d4bdb9892c74bef730f90",
            "4df0cf20793e421cb158ed56713f21b1",
            "0deebca0a37a4dd5b2c29fa788dac3aa",
            "f35d94074622487d9e870a3454e33ad9",
            "6d0d101816e24edabc5bcddcaf72a960",
            "a337dd888a9b4cb3bd4ccbb061b9a7c1",
            "3e99b4ce0404490ab38499a896b1eed5"
          ]
        },
        "id": "eadhPb6YX5MY",
        "outputId": "f2c4ae17-34e8-45c2-ee86-48cc9411f2aa"
      },
      "execution_count": 22,
      "outputs": [
        {
          "output_type": "stream",
          "name": "stdout",
          "text": [
            "Apa masih ada data yang berisikan null? False False\n",
            "dim_0 2211\n"
          ]
        },
        {
          "output_type": "display_data",
          "data": {
            "text/plain": [
              "  0%|          | 0/2211 [00:00<?, ?it/s]"
            ],
            "application/vnd.jupyter.widget-view+json": {
              "version_major": 2,
              "version_minor": 0,
              "model_id": "c93120cb9af54750bb7e57e82915c4a8"
            }
          },
          "metadata": {}
        },
        {
          "output_type": "stream",
          "name": "stdout",
          "text": [
            "Ukuran time-series untuk Input dan Output :  (2211, 50, 5) (2211,)\n",
            "Data yang sudah dipangkas menjadi :  (2200, 50, 5) (2200,)\n"
          ]
        }
      ]
    },
    {
      "cell_type": "code",
      "source": [
        "# Pengecekan data yang masih null\n",
        "print(\"Apa masih ada data yang berisikan null?\",np.isnan(x2_train).any(), np.isnan(x2_train).any())\n",
        "x2_t, y2_t = build_timeseries(x2_train, 3)\n",
        "x2_t = trim_dataset(x2_t, BATCH_SIZE)\n",
        "y2_t = trim_dataset(y2_t, BATCH_SIZE)\n",
        "print(\"Data yang sudah dipangkas menjadi : \",x2_t.shape, y2_t.shape)"
      ],
      "metadata": {
        "colab": {
          "base_uri": "https://localhost:8080/",
          "height": 118,
          "referenced_widgets": [
            "c83f538f00f247ce87f40ebae89e64aa",
            "b00e299bf42a424792aeae970ef42b3b",
            "c372d5782a67437d898ca66590cc8ca2",
            "e301323439174329ac53232f7b6844d3",
            "3bafc52089654e82ae8a33ed028d3ea2",
            "84e13a954f7a44a781ac5e46ae360f6f",
            "5ecd88ceb7ae41b6b093ba3430216f81",
            "e0bfc7c718904a518eec0a3945fe35c6",
            "34c7cb2487794150aa6c8ded41f83e4c",
            "b9040e45d50d4b30b6425c133e74144f",
            "ac483a299e964a35be8f38d760ccd469"
          ]
        },
        "id": "dMSsgz1GX8V9",
        "outputId": "f0dedd1e-b243-4540-c238-0e8a51c593d7"
      },
      "execution_count": 23,
      "outputs": [
        {
          "output_type": "stream",
          "name": "stdout",
          "text": [
            "Apa masih ada data yang berisikan null? False False\n",
            "dim_0 1081\n"
          ]
        },
        {
          "output_type": "display_data",
          "data": {
            "text/plain": [
              "  0%|          | 0/1081 [00:00<?, ?it/s]"
            ],
            "application/vnd.jupyter.widget-view+json": {
              "version_major": 2,
              "version_minor": 0,
              "model_id": "c83f538f00f247ce87f40ebae89e64aa"
            }
          },
          "metadata": {}
        },
        {
          "output_type": "stream",
          "name": "stdout",
          "text": [
            "Ukuran time-series untuk Input dan Output :  (1081, 50, 5) (1081,)\n",
            "Data yang sudah dipangkas menjadi :  (1080, 50, 5) (1080,)\n"
          ]
        }
      ]
    },
    {
      "cell_type": "code",
      "source": [
        "# Pengecekan data yang masih null\n",
        "print(\"Apa masih ada data yang berisikan null?\",np.isnan(x3_train).any(), np.isnan(x3_train).any())\n",
        "x3_t, y3_t = build_timeseries(x3_train, 3)\n",
        "x3_t = trim_dataset(x3_t, BATCH_SIZE)\n",
        "y3_t = trim_dataset(y3_t, BATCH_SIZE)\n",
        "print(\"Data yang sudah dipangkas menjadi : \",x3_t.shape, y3_t.shape)"
      ],
      "metadata": {
        "colab": {
          "base_uri": "https://localhost:8080/",
          "height": 118,
          "referenced_widgets": [
            "fb83d5dca1494e34a45f15199426d7ce",
            "99eba5d720744c15a042ac5ed1787b7f",
            "4814eccaaaa64761be24fd7e9166fac6",
            "54a5b79896d241bc932f329977ccbee0",
            "788a27f3350b4e03af06c9b1468e9247",
            "7b8f05c663924b6b9b04053264bf2a34",
            "b6399920153246499398cee72fef980d",
            "08df2011e97b47b4ac56c07e6f9a5d64",
            "0c80e19c6b4249d8b313242bfdb7c5c8",
            "9285c618daf9487894ec5f1501031378",
            "427937a3b4a64551b6ee697ca8bad88b"
          ]
        },
        "id": "Pn4To6VVYBVj",
        "outputId": "e5aa420b-a742-4185-958e-2ec94870ca01"
      },
      "execution_count": 24,
      "outputs": [
        {
          "output_type": "stream",
          "name": "stdout",
          "text": [
            "Apa masih ada data yang berisikan null? False False\n",
            "dim_0 1080\n"
          ]
        },
        {
          "output_type": "display_data",
          "data": {
            "text/plain": [
              "  0%|          | 0/1080 [00:00<?, ?it/s]"
            ],
            "application/vnd.jupyter.widget-view+json": {
              "version_major": 2,
              "version_minor": 0,
              "model_id": "fb83d5dca1494e34a45f15199426d7ce"
            }
          },
          "metadata": {}
        },
        {
          "output_type": "stream",
          "name": "stdout",
          "text": [
            "Ukuran time-series untuk Input dan Output :  (1080, 50, 5) (1080,)\n",
            "Data yang sudah dipangkas menjadi :  (1080, 50, 5) (1080,)\n"
          ]
        }
      ]
    },
    {
      "cell_type": "code",
      "source": [
        "# Membuat Time-Series dari data uji\n",
        "x_temp, y_temp = build_timeseries(x_test, 3)\n",
        "x_val, x_test_t = np.split(trim_dataset(x_temp, BATCH_SIZE),2)\n",
        "y_val, y_test_t = np.split(trim_dataset(y_temp, BATCH_SIZE),2)"
      ],
      "metadata": {
        "colab": {
          "base_uri": "https://localhost:8080/",
          "height": 84,
          "referenced_widgets": [
            "bedef601d33d439ca0aae84703f2be93",
            "cbae3fdbdbb14a7ea02a64be7923049a",
            "8ce67f2d37014c08b69f36f0788da5b0",
            "347b86f6a8514a7f93f2318712e3b6dc",
            "9f709b557ae2483dba54663c7cf3af87",
            "f7d3206c64184d468d917cf8ab68f2ea",
            "faa0f8488eb34fd3b0498c01341e46f2",
            "b7817169442f46a39185bb6726edbb3e",
            "863d37b87586472297d20ae351df6fd9",
            "79e0863d4ab14c76bd427407092a5b01",
            "bc0f1aabdbce4992b6ad632be0d72688"
          ]
        },
        "id": "Wdoo2r-kYEOm",
        "outputId": "0356f240-5e62-4434-a3e4-496e2f50e133"
      },
      "execution_count": 25,
      "outputs": [
        {
          "output_type": "stream",
          "name": "stdout",
          "text": [
            "dim_0 516\n"
          ]
        },
        {
          "output_type": "display_data",
          "data": {
            "text/plain": [
              "  0%|          | 0/516 [00:00<?, ?it/s]"
            ],
            "application/vnd.jupyter.widget-view+json": {
              "version_major": 2,
              "version_minor": 0,
              "model_id": "bedef601d33d439ca0aae84703f2be93"
            }
          },
          "metadata": {}
        },
        {
          "output_type": "stream",
          "name": "stdout",
          "text": [
            "Ukuran time-series untuk Input dan Output :  (516, 50, 5) (516,)\n"
          ]
        }
      ]
    },
    {
      "cell_type": "code",
      "source": [
        "# Membuat Time-Series dari data uji\n",
        "x2_temp, y2_temp = build_timeseries(x2_test, 3)\n",
        "x2_val, x2_test_t = np.split(trim_dataset(x2_temp, BATCH_SIZE),2)\n",
        "y2_val, y2_test_t = np.split(trim_dataset(y2_temp, BATCH_SIZE),2)"
      ],
      "metadata": {
        "colab": {
          "base_uri": "https://localhost:8080/",
          "height": 84,
          "referenced_widgets": [
            "54120adedb114a9cabb18dc0d21dd12e",
            "c1ed17fad3cb470892322dd86a8d5d8b",
            "54497a2d9edc41a0bdf32d368f046b05",
            "ada7220c6d91415b8654e1fe5e7fc8ab",
            "f6cb549fa1484a6e8890c238d8f09c9a",
            "f0da0df873134fdca4c54740c6a1fd46",
            "90a64fdec1714aa2b8bd2ea9d42d7a05",
            "b614adec1d284588a72417985ff19665",
            "0b8998ed70a54b5691b29ba73b3aa4d3",
            "95d35f628bd6447fab80d28422378f0e",
            "9bfe722f925e44d6bbf1b2f525c97760"
          ]
        },
        "id": "Y0Y4669eYHNw",
        "outputId": "c442076a-5bd9-468d-b8e5-bc57ee207f53"
      },
      "execution_count": 26,
      "outputs": [
        {
          "output_type": "stream",
          "name": "stdout",
          "text": [
            "dim_0 233\n"
          ]
        },
        {
          "output_type": "display_data",
          "data": {
            "text/plain": [
              "  0%|          | 0/233 [00:00<?, ?it/s]"
            ],
            "application/vnd.jupyter.widget-view+json": {
              "version_major": 2,
              "version_minor": 0,
              "model_id": "54120adedb114a9cabb18dc0d21dd12e"
            }
          },
          "metadata": {}
        },
        {
          "output_type": "stream",
          "name": "stdout",
          "text": [
            "Ukuran time-series untuk Input dan Output :  (233, 50, 5) (233,)\n"
          ]
        }
      ]
    },
    {
      "cell_type": "code",
      "source": [
        "# Membuat Time-Series dari data uji\n",
        "x3_temp, y3_temp = build_timeseries(x3_test, 3)\n",
        "x3_val, x3_test_t = np.split(trim_dataset(x3_temp, BATCH_SIZE),2)\n",
        "y3_val, y3_test_t = np.split(trim_dataset(y3_temp, BATCH_SIZE),2)"
      ],
      "metadata": {
        "colab": {
          "base_uri": "https://localhost:8080/",
          "height": 84,
          "referenced_widgets": [
            "4ff85ad7deef405ea857176e5295765a",
            "282fcafe2fbd47eaa792c1e347367a03",
            "c2b1bc6ba4d34466a3ada295b68e9ac3",
            "88f4a1dcc9ff454ab82f7b4e6ecd118c",
            "f3304fd09a8f45f7b0f84194ebbb4977",
            "87e5dd5b66a94c22b1e63a730c08fe80",
            "4f0ee023426646168516f662cedf2f92",
            "a0fa43fd23ff43efbe7198559830f76b",
            "70603e6a4c0c4f849bac987bce6dcddf",
            "6da67e78a2254faa8237284bdee0f37d",
            "c6ec24edb2104da2b22573c17f7bfe84"
          ]
        },
        "id": "tQ2sXmN9YKDD",
        "outputId": "5abb3838-e9b7-4077-c2eb-85de5a69fe09"
      },
      "execution_count": 27,
      "outputs": [
        {
          "output_type": "stream",
          "name": "stdout",
          "text": [
            "dim_0 233\n"
          ]
        },
        {
          "output_type": "display_data",
          "data": {
            "text/plain": [
              "  0%|          | 0/233 [00:00<?, ?it/s]"
            ],
            "application/vnd.jupyter.widget-view+json": {
              "version_major": 2,
              "version_minor": 0,
              "model_id": "4ff85ad7deef405ea857176e5295765a"
            }
          },
          "metadata": {}
        },
        {
          "output_type": "stream",
          "name": "stdout",
          "text": [
            "Ukuran time-series untuk Input dan Output :  (233, 50, 5) (233,)\n"
          ]
        }
      ]
    },
    {
      "cell_type": "code",
      "source": [
        "print(\"Banyaknya ukuran data validasi :\", x_val.shape, y_val.shape)"
      ],
      "metadata": {
        "colab": {
          "base_uri": "https://localhost:8080/"
        },
        "id": "wrFaGM0HYMXk",
        "outputId": "264b2c1a-4b28-41be-f4a9-c0ce42c25ac5"
      },
      "execution_count": 28,
      "outputs": [
        {
          "output_type": "stream",
          "name": "stdout",
          "text": [
            "Banyaknya ukuran data validasi : (250, 50, 5) (250,)\n"
          ]
        }
      ]
    },
    {
      "cell_type": "code",
      "source": [
        "print(\"Banyaknya ukuran data validasi :\", x2_val.shape, y2_val.shape)"
      ],
      "metadata": {
        "colab": {
          "base_uri": "https://localhost:8080/"
        },
        "id": "_qXj-2YiYPlS",
        "outputId": "4fc0c9f6-4c72-4e60-9340-2ac1da48066a"
      },
      "execution_count": 29,
      "outputs": [
        {
          "output_type": "stream",
          "name": "stdout",
          "text": [
            "Banyaknya ukuran data validasi : (110, 50, 5) (110,)\n"
          ]
        }
      ]
    },
    {
      "cell_type": "code",
      "source": [
        "print(\"Banyaknya ukuran data validasi :\", x3_val.shape, y3_val.shape)"
      ],
      "metadata": {
        "colab": {
          "base_uri": "https://localhost:8080/"
        },
        "id": "FHiGdzF4YRs5",
        "outputId": "65adec4a-1862-4c84-aade-6f290ad48e0a"
      },
      "execution_count": 30,
      "outputs": [
        {
          "output_type": "stream",
          "name": "stdout",
          "text": [
            "Banyaknya ukuran data validasi : (110, 50, 5) (110,)\n"
          ]
        }
      ]
    },
    {
      "cell_type": "markdown",
      "source": [
        "# Membuat model LSTM"
      ],
      "metadata": {
        "id": "mIw32b095ikP"
      }
    },
    {
      "cell_type": "code",
      "source": [
        "def create_model():\n",
        "    lstm_model = Sequential()\n",
        "    # (batch_size, timesteps, data_dim)\n",
        "    lstm_model.add(LSTM(256, batch_input_shape=(BATCH_SIZE, TIME_STEPS, x_t.shape[2]),\n",
        "                        dropout=0.0, recurrent_dropout=0.0, stateful=True, return_sequences=True,\n",
        "                        kernel_initializer='random_uniform'))\n",
        "    lstm_model.add(Dropout(0.4))\n",
        "    lstm_model.add(LSTM(256, dropout=0.4))\n",
        "    lstm_model.add(Dropout(0.4))\n",
        "    lstm_model.add(Dense(128,activation='tanh'))\n",
        "    lstm_model.add(Dense(1,activation='sigmoid'))\n",
        "    #optimizer = optimizers.RMSprop(lr=params[\"lr\"])\n",
        "    optimizer = optimizers.Adam(lr=params[\"lr\"], beta_1=0.9, beta_2=0.999, amsgrad=False, epsilon=None) # ini yg paling optimal\n",
        "    # optimizer = optimizers.SGD(lr=0.000001, decay=1e-6, momentum=0.9, nesterov=True)\n",
        "    lstm_model.compile(loss='mean_squared_error', optimizer=optimizer, metrics=['accuracy'])\n",
        "    return lstm_model"
      ],
      "metadata": {
        "id": "38f_px6EYU4S"
      },
      "execution_count": 31,
      "outputs": []
    },
    {
      "cell_type": "code",
      "source": [
        "model = None\n",
        "try:\n",
        "    model = pickle.load(open(\"/content/drive/My Drive/TA_LSTM/outputs/lstm_model\", 'rb'))\n",
        "    model = pickle.load(open(\"lstm_model\", 'rb'))\n",
        "    print(\"Model ditemukan. Menggunakan model yang sudah ada . . .\")\n",
        "except FileNotFoundError:\n",
        "    print(\"Model tidak ditemukan\")"
      ],
      "metadata": {
        "colab": {
          "base_uri": "https://localhost:8080/"
        },
        "id": "IjZ5I76LYaqK",
        "outputId": "8d70c9d2-ab0d-435f-f41d-8cd6d40539ec"
      },
      "execution_count": 32,
      "outputs": [
        {
          "output_type": "stream",
          "name": "stdout",
          "text": [
            "Model tidak ditemukan\n"
          ]
        }
      ]
    },
    {
      "cell_type": "code",
      "source": [
        "\n",
        "'''\n",
        "if(not os.path.exists('/content/drive/My Drive/TA_LSTM/outputs/best_model.h5')):\n",
        "  print(\"Model belum dibuat sebelumnya\")\n",
        "else:\n",
        "  print(\"Model sudah dibuat sebelumnya. Model akan dimuat sesaat lagi . . .\")\n",
        "  model = load_model('/content/drive/My Drive/TA_LSTM/outputs/best_model.h5')\n",
        "  print(\"Model dimuat\")\n",
        "'''"
      ],
      "metadata": {
        "colab": {
          "base_uri": "https://localhost:8080/",
          "height": 53
        },
        "id": "HvjdxgYyYbbz",
        "outputId": "19de30a9-108b-433e-d061-f801b4a141f7"
      },
      "execution_count": 33,
      "outputs": [
        {
          "output_type": "execute_result",
          "data": {
            "text/plain": [
              "'\\nif(not os.path.exists(\\'/content/drive/My Drive/TA_LSTM/outputs/best_model.h5\\')):\\n  print(\"Model belum dibuat sebelumnya\")\\nelse:\\n  print(\"Model sudah dibuat sebelumnya. Model akan dimuat sesaat lagi . . .\")\\n  model = load_model(\\'/content/drive/My Drive/TA_LSTM/outputs/best_model.h5\\')\\n  print(\"Model dimuat\")\\n'"
            ],
            "application/vnd.google.colaboratory.intrinsic+json": {
              "type": "string"
            }
          },
          "metadata": {},
          "execution_count": 33
        }
      ]
    },
    {
      "cell_type": "markdown",
      "source": [
        "# Melakukan iterasi untuk melatih data dalam beberapa Epoch"
      ],
      "metadata": {
        "id": "qQi_eAsO5pIj"
      }
    },
    {
      "cell_type": "code",
      "source": [
        "is_update_model = True\n",
        "if model is None or is_update_model:\n",
        "    from keras import backend as K\n",
        "    print(\"Membuat Model ...\")\n",
        "    model = create_model()\n",
        "    \n",
        "    es = EarlyStopping(monitor='val_loss', mode='min', verbose=1,\n",
        "                       patience=40, min_delta=0.0001)\n",
        "    \n",
        "    mcp = ModelCheckpoint(os.path.join(OUTPUT_PATH,\n",
        "                          \"best_model.h5\"), monitor='val_loss', verbose=1,\n",
        "                          save_best_only=True, save_weights_only=False, mode='min', period=1)\n",
        "\n",
        "    # Not used here. But leaving it here as a reminder for future\n",
        "    r_lr_plat = ReduceLROnPlateau(monitor='val_loss', factor=0.1, patience=30, \n",
        "                                  verbose=0, mode='auto', min_delta=0.0001, cooldown=0, min_lr=0)\n",
        "    \n",
        "    csv_logger = CSVLogger(os.path.join(OUTPUT_PATH, 'training_log_' + time.ctime().replace(\" \",\"_\") + '.log'), append=True)\n",
        "    \n",
        "    history = model.fit(x_t, y_t, epochs=params[\"epochs\"], verbose=2, batch_size=BATCH_SIZE,\n",
        "                        shuffle=False, validation_data=(trim_dataset(x_val, BATCH_SIZE),\n",
        "                        trim_dataset(y_val, BATCH_SIZE)), callbacks=[es, mcp, csv_logger])\n",
        "    \n",
        "    print(\"Menyimpan model . . .\")\n",
        "    pickle.dump(model, open(\"lstm_model\", \"wb\"))\n",
        "    model.save(\"best_model.h5\")"
      ],
      "metadata": {
        "colab": {
          "base_uri": "https://localhost:8080/"
        },
        "id": "9Td5iUxBYvD3",
        "outputId": "db798349-ba52-4e2c-d1e1-ec61a928bc76"
      },
      "execution_count": 34,
      "outputs": [
        {
          "output_type": "stream",
          "name": "stdout",
          "text": [
            "Membuat Model ...\n",
            "Epoch 1/200\n"
          ]
        },
        {
          "output_type": "stream",
          "name": "stderr",
          "text": [
            "/usr/local/lib/python3.10/dist-packages/keras/optimizers/legacy/adam.py:117: UserWarning:\n",
            "\n",
            "The `lr` argument is deprecated, use `learning_rate` instead.\n",
            "\n"
          ]
        },
        {
          "output_type": "stream",
          "name": "stdout",
          "text": [
            "\n",
            "Epoch 1: val_loss improved from inf to 0.04541, saving model to /content/drive/My Drive/TA_LSTM/outputs/lstm_best_11-1-20_2PM/iter_changes/best_model.h5\n",
            "110/110 - 10s - loss: 0.0672 - accuracy: 4.5455e-04 - val_loss: 0.0454 - val_accuracy: 0.0000e+00 - 10s/epoch - 88ms/step\n",
            "Epoch 2/200\n",
            "\n",
            "Epoch 2: val_loss improved from 0.04541 to 0.03828, saving model to /content/drive/My Drive/TA_LSTM/outputs/lstm_best_11-1-20_2PM/iter_changes/best_model.h5\n",
            "110/110 - 1s - loss: 0.0492 - accuracy: 9.0909e-04 - val_loss: 0.0383 - val_accuracy: 0.0000e+00 - 1s/epoch - 9ms/step\n",
            "Epoch 3/200\n",
            "\n",
            "Epoch 3: val_loss improved from 0.03828 to 0.01564, saving model to /content/drive/My Drive/TA_LSTM/outputs/lstm_best_11-1-20_2PM/iter_changes/best_model.h5\n",
            "110/110 - 1s - loss: 0.0296 - accuracy: 9.0909e-04 - val_loss: 0.0156 - val_accuracy: 0.0000e+00 - 1s/epoch - 10ms/step\n",
            "Epoch 4/200\n",
            "\n",
            "Epoch 4: val_loss improved from 0.01564 to 0.01151, saving model to /content/drive/My Drive/TA_LSTM/outputs/lstm_best_11-1-20_2PM/iter_changes/best_model.h5\n",
            "110/110 - 1s - loss: 0.0105 - accuracy: 9.0909e-04 - val_loss: 0.0115 - val_accuracy: 0.0000e+00 - 937ms/epoch - 9ms/step\n",
            "Epoch 5/200\n",
            "\n",
            "Epoch 5: val_loss improved from 0.01151 to 0.00593, saving model to /content/drive/My Drive/TA_LSTM/outputs/lstm_best_11-1-20_2PM/iter_changes/best_model.h5\n",
            "110/110 - 1s - loss: 0.0057 - accuracy: 9.0909e-04 - val_loss: 0.0059 - val_accuracy: 0.0000e+00 - 789ms/epoch - 7ms/step\n",
            "Epoch 6/200\n",
            "\n",
            "Epoch 6: val_loss improved from 0.00593 to 0.00519, saving model to /content/drive/My Drive/TA_LSTM/outputs/lstm_best_11-1-20_2PM/iter_changes/best_model.h5\n",
            "110/110 - 1s - loss: 0.0038 - accuracy: 9.0909e-04 - val_loss: 0.0052 - val_accuracy: 0.0000e+00 - 788ms/epoch - 7ms/step\n",
            "Epoch 7/200\n",
            "\n",
            "Epoch 7: val_loss did not improve from 0.00519\n",
            "110/110 - 1s - loss: 0.0037 - accuracy: 9.0909e-04 - val_loss: 0.0053 - val_accuracy: 0.0000e+00 - 740ms/epoch - 7ms/step\n",
            "Epoch 8/200\n",
            "\n",
            "Epoch 8: val_loss improved from 0.00519 to 0.00518, saving model to /content/drive/My Drive/TA_LSTM/outputs/lstm_best_11-1-20_2PM/iter_changes/best_model.h5\n",
            "110/110 - 1s - loss: 0.0035 - accuracy: 9.0909e-04 - val_loss: 0.0052 - val_accuracy: 0.0000e+00 - 812ms/epoch - 7ms/step\n",
            "Epoch 9/200\n",
            "\n",
            "Epoch 9: val_loss improved from 0.00518 to 0.00516, saving model to /content/drive/My Drive/TA_LSTM/outputs/lstm_best_11-1-20_2PM/iter_changes/best_model.h5\n",
            "110/110 - 1s - loss: 0.0034 - accuracy: 9.0909e-04 - val_loss: 0.0052 - val_accuracy: 0.0000e+00 - 805ms/epoch - 7ms/step\n",
            "Epoch 10/200\n",
            "\n",
            "Epoch 10: val_loss did not improve from 0.00516\n",
            "110/110 - 1s - loss: 0.0033 - accuracy: 9.0909e-04 - val_loss: 0.0052 - val_accuracy: 0.0000e+00 - 718ms/epoch - 7ms/step\n",
            "Epoch 11/200\n",
            "\n",
            "Epoch 11: val_loss improved from 0.00516 to 0.00509, saving model to /content/drive/My Drive/TA_LSTM/outputs/lstm_best_11-1-20_2PM/iter_changes/best_model.h5\n",
            "110/110 - 1s - loss: 0.0033 - accuracy: 9.0909e-04 - val_loss: 0.0051 - val_accuracy: 0.0000e+00 - 782ms/epoch - 7ms/step\n",
            "Epoch 12/200\n",
            "\n",
            "Epoch 12: val_loss did not improve from 0.00509\n",
            "110/110 - 1s - loss: 0.0032 - accuracy: 9.0909e-04 - val_loss: 0.0051 - val_accuracy: 0.0000e+00 - 739ms/epoch - 7ms/step\n",
            "Epoch 13/200\n",
            "\n",
            "Epoch 13: val_loss improved from 0.00509 to 0.00483, saving model to /content/drive/My Drive/TA_LSTM/outputs/lstm_best_11-1-20_2PM/iter_changes/best_model.h5\n",
            "110/110 - 1s - loss: 0.0031 - accuracy: 9.0909e-04 - val_loss: 0.0048 - val_accuracy: 0.0000e+00 - 807ms/epoch - 7ms/step\n",
            "Epoch 14/200\n",
            "\n",
            "Epoch 14: val_loss did not improve from 0.00483\n",
            "110/110 - 1s - loss: 0.0030 - accuracy: 9.0909e-04 - val_loss: 0.0049 - val_accuracy: 0.0000e+00 - 727ms/epoch - 7ms/step\n",
            "Epoch 15/200\n",
            "\n",
            "Epoch 15: val_loss did not improve from 0.00483\n",
            "110/110 - 1s - loss: 0.0030 - accuracy: 9.0909e-04 - val_loss: 0.0049 - val_accuracy: 0.0000e+00 - 723ms/epoch - 7ms/step\n",
            "Epoch 16/200\n",
            "\n",
            "Epoch 16: val_loss improved from 0.00483 to 0.00474, saving model to /content/drive/My Drive/TA_LSTM/outputs/lstm_best_11-1-20_2PM/iter_changes/best_model.h5\n",
            "110/110 - 1s - loss: 0.0030 - accuracy: 9.0909e-04 - val_loss: 0.0047 - val_accuracy: 0.0000e+00 - 778ms/epoch - 7ms/step\n",
            "Epoch 17/200\n",
            "\n",
            "Epoch 17: val_loss improved from 0.00474 to 0.00452, saving model to /content/drive/My Drive/TA_LSTM/outputs/lstm_best_11-1-20_2PM/iter_changes/best_model.h5\n",
            "110/110 - 1s - loss: 0.0029 - accuracy: 9.0909e-04 - val_loss: 0.0045 - val_accuracy: 0.0000e+00 - 966ms/epoch - 9ms/step\n",
            "Epoch 18/200\n",
            "\n",
            "Epoch 18: val_loss improved from 0.00452 to 0.00444, saving model to /content/drive/My Drive/TA_LSTM/outputs/lstm_best_11-1-20_2PM/iter_changes/best_model.h5\n",
            "110/110 - 1s - loss: 0.0028 - accuracy: 9.0909e-04 - val_loss: 0.0044 - val_accuracy: 0.0000e+00 - 1s/epoch - 9ms/step\n",
            "Epoch 19/200\n",
            "\n",
            "Epoch 19: val_loss improved from 0.00444 to 0.00437, saving model to /content/drive/My Drive/TA_LSTM/outputs/lstm_best_11-1-20_2PM/iter_changes/best_model.h5\n",
            "110/110 - 1s - loss: 0.0027 - accuracy: 9.0909e-04 - val_loss: 0.0044 - val_accuracy: 0.0000e+00 - 1s/epoch - 9ms/step\n",
            "Epoch 20/200\n",
            "\n",
            "Epoch 20: val_loss improved from 0.00437 to 0.00433, saving model to /content/drive/My Drive/TA_LSTM/outputs/lstm_best_11-1-20_2PM/iter_changes/best_model.h5\n",
            "110/110 - 1s - loss: 0.0027 - accuracy: 9.0909e-04 - val_loss: 0.0043 - val_accuracy: 0.0000e+00 - 976ms/epoch - 9ms/step\n",
            "Epoch 21/200\n",
            "\n",
            "Epoch 21: val_loss improved from 0.00433 to 0.00414, saving model to /content/drive/My Drive/TA_LSTM/outputs/lstm_best_11-1-20_2PM/iter_changes/best_model.h5\n",
            "110/110 - 1s - loss: 0.0027 - accuracy: 9.0909e-04 - val_loss: 0.0041 - val_accuracy: 0.0000e+00 - 814ms/epoch - 7ms/step\n",
            "Epoch 22/200\n",
            "\n",
            "Epoch 22: val_loss did not improve from 0.00414\n",
            "110/110 - 1s - loss: 0.0026 - accuracy: 9.0909e-04 - val_loss: 0.0042 - val_accuracy: 0.0000e+00 - 729ms/epoch - 7ms/step\n",
            "Epoch 23/200\n",
            "\n",
            "Epoch 23: val_loss improved from 0.00414 to 0.00406, saving model to /content/drive/My Drive/TA_LSTM/outputs/lstm_best_11-1-20_2PM/iter_changes/best_model.h5\n",
            "110/110 - 1s - loss: 0.0026 - accuracy: 9.0909e-04 - val_loss: 0.0041 - val_accuracy: 0.0000e+00 - 777ms/epoch - 7ms/step\n",
            "Epoch 24/200\n",
            "\n",
            "Epoch 24: val_loss improved from 0.00406 to 0.00394, saving model to /content/drive/My Drive/TA_LSTM/outputs/lstm_best_11-1-20_2PM/iter_changes/best_model.h5\n",
            "110/110 - 1s - loss: 0.0025 - accuracy: 9.0909e-04 - val_loss: 0.0039 - val_accuracy: 0.0000e+00 - 780ms/epoch - 7ms/step\n",
            "Epoch 25/200\n",
            "\n",
            "Epoch 25: val_loss improved from 0.00394 to 0.00393, saving model to /content/drive/My Drive/TA_LSTM/outputs/lstm_best_11-1-20_2PM/iter_changes/best_model.h5\n",
            "110/110 - 1s - loss: 0.0024 - accuracy: 9.0909e-04 - val_loss: 0.0039 - val_accuracy: 0.0000e+00 - 836ms/epoch - 8ms/step\n",
            "Epoch 26/200\n",
            "\n",
            "Epoch 26: val_loss improved from 0.00393 to 0.00380, saving model to /content/drive/My Drive/TA_LSTM/outputs/lstm_best_11-1-20_2PM/iter_changes/best_model.h5\n",
            "110/110 - 1s - loss: 0.0024 - accuracy: 9.0909e-04 - val_loss: 0.0038 - val_accuracy: 0.0000e+00 - 795ms/epoch - 7ms/step\n",
            "Epoch 27/200\n",
            "\n",
            "Epoch 27: val_loss improved from 0.00380 to 0.00358, saving model to /content/drive/My Drive/TA_LSTM/outputs/lstm_best_11-1-20_2PM/iter_changes/best_model.h5\n",
            "110/110 - 1s - loss: 0.0023 - accuracy: 9.0909e-04 - val_loss: 0.0036 - val_accuracy: 0.0000e+00 - 807ms/epoch - 7ms/step\n",
            "Epoch 28/200\n",
            "\n",
            "Epoch 28: val_loss improved from 0.00358 to 0.00340, saving model to /content/drive/My Drive/TA_LSTM/outputs/lstm_best_11-1-20_2PM/iter_changes/best_model.h5\n",
            "110/110 - 1s - loss: 0.0023 - accuracy: 9.0909e-04 - val_loss: 0.0034 - val_accuracy: 0.0000e+00 - 772ms/epoch - 7ms/step\n",
            "Epoch 29/200\n",
            "\n",
            "Epoch 29: val_loss improved from 0.00340 to 0.00334, saving model to /content/drive/My Drive/TA_LSTM/outputs/lstm_best_11-1-20_2PM/iter_changes/best_model.h5\n",
            "110/110 - 1s - loss: 0.0022 - accuracy: 9.0909e-04 - val_loss: 0.0033 - val_accuracy: 0.0000e+00 - 873ms/epoch - 8ms/step\n",
            "Epoch 30/200\n",
            "\n",
            "Epoch 30: val_loss improved from 0.00334 to 0.00324, saving model to /content/drive/My Drive/TA_LSTM/outputs/lstm_best_11-1-20_2PM/iter_changes/best_model.h5\n",
            "110/110 - 1s - loss: 0.0022 - accuracy: 9.0909e-04 - val_loss: 0.0032 - val_accuracy: 0.0000e+00 - 807ms/epoch - 7ms/step\n",
            "Epoch 31/200\n",
            "\n",
            "Epoch 31: val_loss improved from 0.00324 to 0.00316, saving model to /content/drive/My Drive/TA_LSTM/outputs/lstm_best_11-1-20_2PM/iter_changes/best_model.h5\n",
            "110/110 - 1s - loss: 0.0022 - accuracy: 9.0909e-04 - val_loss: 0.0032 - val_accuracy: 0.0000e+00 - 788ms/epoch - 7ms/step\n",
            "Epoch 32/200\n",
            "\n",
            "Epoch 32: val_loss improved from 0.00316 to 0.00313, saving model to /content/drive/My Drive/TA_LSTM/outputs/lstm_best_11-1-20_2PM/iter_changes/best_model.h5\n",
            "110/110 - 1s - loss: 0.0022 - accuracy: 9.0909e-04 - val_loss: 0.0031 - val_accuracy: 0.0000e+00 - 776ms/epoch - 7ms/step\n",
            "Epoch 33/200\n",
            "\n",
            "Epoch 33: val_loss did not improve from 0.00313\n",
            "110/110 - 1s - loss: 0.0021 - accuracy: 9.0909e-04 - val_loss: 0.0032 - val_accuracy: 0.0000e+00 - 894ms/epoch - 8ms/step\n",
            "Epoch 34/200\n",
            "\n",
            "Epoch 34: val_loss improved from 0.00313 to 0.00303, saving model to /content/drive/My Drive/TA_LSTM/outputs/lstm_best_11-1-20_2PM/iter_changes/best_model.h5\n",
            "110/110 - 1s - loss: 0.0020 - accuracy: 9.0909e-04 - val_loss: 0.0030 - val_accuracy: 0.0000e+00 - 1s/epoch - 9ms/step\n",
            "Epoch 35/200\n",
            "\n",
            "Epoch 35: val_loss improved from 0.00303 to 0.00287, saving model to /content/drive/My Drive/TA_LSTM/outputs/lstm_best_11-1-20_2PM/iter_changes/best_model.h5\n",
            "110/110 - 1s - loss: 0.0020 - accuracy: 9.0909e-04 - val_loss: 0.0029 - val_accuracy: 0.0000e+00 - 1s/epoch - 10ms/step\n",
            "Epoch 36/200\n",
            "\n",
            "Epoch 36: val_loss did not improve from 0.00287\n",
            "110/110 - 1s - loss: 0.0021 - accuracy: 9.0909e-04 - val_loss: 0.0029 - val_accuracy: 0.0000e+00 - 884ms/epoch - 8ms/step\n",
            "Epoch 37/200\n",
            "\n",
            "Epoch 37: val_loss did not improve from 0.00287\n",
            "110/110 - 1s - loss: 0.0020 - accuracy: 9.0909e-04 - val_loss: 0.0029 - val_accuracy: 0.0000e+00 - 743ms/epoch - 7ms/step\n",
            "Epoch 38/200\n",
            "\n",
            "Epoch 38: val_loss improved from 0.00287 to 0.00278, saving model to /content/drive/My Drive/TA_LSTM/outputs/lstm_best_11-1-20_2PM/iter_changes/best_model.h5\n",
            "110/110 - 1s - loss: 0.0020 - accuracy: 9.0909e-04 - val_loss: 0.0028 - val_accuracy: 0.0000e+00 - 793ms/epoch - 7ms/step\n",
            "Epoch 39/200\n",
            "\n",
            "Epoch 39: val_loss did not improve from 0.00278\n",
            "110/110 - 1s - loss: 0.0019 - accuracy: 9.0909e-04 - val_loss: 0.0028 - val_accuracy: 0.0000e+00 - 708ms/epoch - 6ms/step\n",
            "Epoch 40/200\n",
            "\n",
            "Epoch 40: val_loss improved from 0.00278 to 0.00277, saving model to /content/drive/My Drive/TA_LSTM/outputs/lstm_best_11-1-20_2PM/iter_changes/best_model.h5\n",
            "110/110 - 1s - loss: 0.0019 - accuracy: 9.0909e-04 - val_loss: 0.0028 - val_accuracy: 0.0000e+00 - 779ms/epoch - 7ms/step\n",
            "Epoch 41/200\n",
            "\n",
            "Epoch 41: val_loss improved from 0.00277 to 0.00264, saving model to /content/drive/My Drive/TA_LSTM/outputs/lstm_best_11-1-20_2PM/iter_changes/best_model.h5\n",
            "110/110 - 1s - loss: 0.0019 - accuracy: 9.0909e-04 - val_loss: 0.0026 - val_accuracy: 0.0000e+00 - 781ms/epoch - 7ms/step\n",
            "Epoch 42/200\n",
            "\n",
            "Epoch 42: val_loss improved from 0.00264 to 0.00257, saving model to /content/drive/My Drive/TA_LSTM/outputs/lstm_best_11-1-20_2PM/iter_changes/best_model.h5\n",
            "110/110 - 1s - loss: 0.0018 - accuracy: 9.0909e-04 - val_loss: 0.0026 - val_accuracy: 0.0000e+00 - 821ms/epoch - 7ms/step\n",
            "Epoch 43/200\n",
            "\n",
            "Epoch 43: val_loss did not improve from 0.00257\n",
            "110/110 - 1s - loss: 0.0018 - accuracy: 9.0909e-04 - val_loss: 0.0026 - val_accuracy: 0.0000e+00 - 731ms/epoch - 7ms/step\n",
            "Epoch 44/200\n",
            "\n",
            "Epoch 44: val_loss improved from 0.00257 to 0.00251, saving model to /content/drive/My Drive/TA_LSTM/outputs/lstm_best_11-1-20_2PM/iter_changes/best_model.h5\n",
            "110/110 - 1s - loss: 0.0018 - accuracy: 9.0909e-04 - val_loss: 0.0025 - val_accuracy: 0.0000e+00 - 790ms/epoch - 7ms/step\n",
            "Epoch 45/200\n",
            "\n",
            "Epoch 45: val_loss improved from 0.00251 to 0.00241, saving model to /content/drive/My Drive/TA_LSTM/outputs/lstm_best_11-1-20_2PM/iter_changes/best_model.h5\n",
            "110/110 - 1s - loss: 0.0017 - accuracy: 9.0909e-04 - val_loss: 0.0024 - val_accuracy: 0.0000e+00 - 793ms/epoch - 7ms/step\n",
            "Epoch 46/200\n",
            "\n",
            "Epoch 46: val_loss did not improve from 0.00241\n",
            "110/110 - 1s - loss: 0.0018 - accuracy: 9.0909e-04 - val_loss: 0.0024 - val_accuracy: 0.0000e+00 - 708ms/epoch - 6ms/step\n",
            "Epoch 47/200\n",
            "\n",
            "Epoch 47: val_loss did not improve from 0.00241\n",
            "110/110 - 1s - loss: 0.0018 - accuracy: 9.0909e-04 - val_loss: 0.0025 - val_accuracy: 0.0000e+00 - 693ms/epoch - 6ms/step\n",
            "Epoch 48/200\n",
            "\n",
            "Epoch 48: val_loss did not improve from 0.00241\n",
            "110/110 - 1s - loss: 0.0017 - accuracy: 9.0909e-04 - val_loss: 0.0024 - val_accuracy: 0.0000e+00 - 726ms/epoch - 7ms/step\n",
            "Epoch 49/200\n",
            "\n",
            "Epoch 49: val_loss improved from 0.00241 to 0.00235, saving model to /content/drive/My Drive/TA_LSTM/outputs/lstm_best_11-1-20_2PM/iter_changes/best_model.h5\n",
            "110/110 - 1s - loss: 0.0016 - accuracy: 9.0909e-04 - val_loss: 0.0024 - val_accuracy: 0.0000e+00 - 841ms/epoch - 8ms/step\n",
            "Epoch 50/200\n",
            "\n",
            "Epoch 50: val_loss improved from 0.00235 to 0.00226, saving model to /content/drive/My Drive/TA_LSTM/outputs/lstm_best_11-1-20_2PM/iter_changes/best_model.h5\n",
            "110/110 - 1s - loss: 0.0016 - accuracy: 9.0909e-04 - val_loss: 0.0023 - val_accuracy: 0.0000e+00 - 1s/epoch - 10ms/step\n",
            "Epoch 51/200\n",
            "\n",
            "Epoch 51: val_loss improved from 0.00226 to 0.00224, saving model to /content/drive/My Drive/TA_LSTM/outputs/lstm_best_11-1-20_2PM/iter_changes/best_model.h5\n",
            "110/110 - 1s - loss: 0.0016 - accuracy: 9.0909e-04 - val_loss: 0.0022 - val_accuracy: 0.0000e+00 - 1s/epoch - 9ms/step\n",
            "Epoch 52/200\n",
            "\n",
            "Epoch 52: val_loss did not improve from 0.00224\n",
            "110/110 - 1s - loss: 0.0016 - accuracy: 9.0909e-04 - val_loss: 0.0023 - val_accuracy: 0.0000e+00 - 960ms/epoch - 9ms/step\n",
            "Epoch 53/200\n",
            "\n",
            "Epoch 53: val_loss did not improve from 0.00224\n",
            "110/110 - 1s - loss: 0.0016 - accuracy: 9.0909e-04 - val_loss: 0.0023 - val_accuracy: 0.0000e+00 - 1s/epoch - 9ms/step\n",
            "Epoch 54/200\n",
            "\n",
            "Epoch 54: val_loss did not improve from 0.00224\n",
            "110/110 - 1s - loss: 0.0017 - accuracy: 9.0909e-04 - val_loss: 0.0024 - val_accuracy: 0.0000e+00 - 991ms/epoch - 9ms/step\n",
            "Epoch 55/200\n",
            "\n",
            "Epoch 55: val_loss improved from 0.00224 to 0.00223, saving model to /content/drive/My Drive/TA_LSTM/outputs/lstm_best_11-1-20_2PM/iter_changes/best_model.h5\n",
            "110/110 - 1s - loss: 0.0016 - accuracy: 9.0909e-04 - val_loss: 0.0022 - val_accuracy: 0.0000e+00 - 1s/epoch - 9ms/step\n",
            "Epoch 56/200\n",
            "\n",
            "Epoch 56: val_loss improved from 0.00223 to 0.00214, saving model to /content/drive/My Drive/TA_LSTM/outputs/lstm_best_11-1-20_2PM/iter_changes/best_model.h5\n",
            "110/110 - 1s - loss: 0.0015 - accuracy: 9.0909e-04 - val_loss: 0.0021 - val_accuracy: 0.0000e+00 - 998ms/epoch - 9ms/step\n",
            "Epoch 57/200\n",
            "\n",
            "Epoch 57: val_loss did not improve from 0.00214\n",
            "110/110 - 1s - loss: 0.0015 - accuracy: 9.0909e-04 - val_loss: 0.0023 - val_accuracy: 0.0000e+00 - 735ms/epoch - 7ms/step\n",
            "Epoch 58/200\n",
            "\n",
            "Epoch 58: val_loss did not improve from 0.00214\n",
            "110/110 - 1s - loss: 0.0015 - accuracy: 9.0909e-04 - val_loss: 0.0022 - val_accuracy: 0.0000e+00 - 742ms/epoch - 7ms/step\n",
            "Epoch 59/200\n",
            "\n",
            "Epoch 59: val_loss improved from 0.00214 to 0.00209, saving model to /content/drive/My Drive/TA_LSTM/outputs/lstm_best_11-1-20_2PM/iter_changes/best_model.h5\n",
            "110/110 - 1s - loss: 0.0016 - accuracy: 9.0909e-04 - val_loss: 0.0021 - val_accuracy: 0.0000e+00 - 814ms/epoch - 7ms/step\n",
            "Epoch 60/200\n",
            "\n",
            "Epoch 60: val_loss did not improve from 0.00209\n",
            "110/110 - 1s - loss: 0.0014 - accuracy: 9.0909e-04 - val_loss: 0.0021 - val_accuracy: 0.0000e+00 - 754ms/epoch - 7ms/step\n",
            "Epoch 61/200\n",
            "\n",
            "Epoch 61: val_loss improved from 0.00209 to 0.00206, saving model to /content/drive/My Drive/TA_LSTM/outputs/lstm_best_11-1-20_2PM/iter_changes/best_model.h5\n",
            "110/110 - 1s - loss: 0.0015 - accuracy: 9.0909e-04 - val_loss: 0.0021 - val_accuracy: 0.0000e+00 - 771ms/epoch - 7ms/step\n",
            "Epoch 62/200\n",
            "\n",
            "Epoch 62: val_loss improved from 0.00206 to 0.00198, saving model to /content/drive/My Drive/TA_LSTM/outputs/lstm_best_11-1-20_2PM/iter_changes/best_model.h5\n",
            "110/110 - 1s - loss: 0.0015 - accuracy: 9.0909e-04 - val_loss: 0.0020 - val_accuracy: 0.0000e+00 - 814ms/epoch - 7ms/step\n",
            "Epoch 63/200\n",
            "\n",
            "Epoch 63: val_loss did not improve from 0.00198\n",
            "110/110 - 1s - loss: 0.0014 - accuracy: 9.0909e-04 - val_loss: 0.0022 - val_accuracy: 0.0000e+00 - 699ms/epoch - 6ms/step\n",
            "Epoch 64/200\n",
            "\n",
            "Epoch 64: val_loss improved from 0.00198 to 0.00193, saving model to /content/drive/My Drive/TA_LSTM/outputs/lstm_best_11-1-20_2PM/iter_changes/best_model.h5\n",
            "110/110 - 1s - loss: 0.0014 - accuracy: 9.0909e-04 - val_loss: 0.0019 - val_accuracy: 0.0000e+00 - 825ms/epoch - 8ms/step\n",
            "Epoch 65/200\n",
            "\n",
            "Epoch 65: val_loss did not improve from 0.00193\n",
            "110/110 - 1s - loss: 0.0014 - accuracy: 9.0909e-04 - val_loss: 0.0020 - val_accuracy: 0.0000e+00 - 948ms/epoch - 9ms/step\n",
            "Epoch 66/200\n",
            "\n",
            "Epoch 66: val_loss did not improve from 0.00193\n",
            "110/110 - 1s - loss: 0.0015 - accuracy: 9.0909e-04 - val_loss: 0.0020 - val_accuracy: 0.0000e+00 - 950ms/epoch - 9ms/step\n",
            "Epoch 67/200\n",
            "\n",
            "Epoch 67: val_loss improved from 0.00193 to 0.00193, saving model to /content/drive/My Drive/TA_LSTM/outputs/lstm_best_11-1-20_2PM/iter_changes/best_model.h5\n",
            "110/110 - 1s - loss: 0.0014 - accuracy: 9.0909e-04 - val_loss: 0.0019 - val_accuracy: 0.0000e+00 - 1s/epoch - 9ms/step\n",
            "Epoch 68/200\n",
            "\n",
            "Epoch 68: val_loss did not improve from 0.00193\n",
            "110/110 - 1s - loss: 0.0014 - accuracy: 9.0909e-04 - val_loss: 0.0020 - val_accuracy: 0.0000e+00 - 897ms/epoch - 8ms/step\n",
            "Epoch 69/200\n",
            "\n",
            "Epoch 69: val_loss did not improve from 0.00193\n",
            "110/110 - 1s - loss: 0.0013 - accuracy: 9.0909e-04 - val_loss: 0.0021 - val_accuracy: 0.0000e+00 - 738ms/epoch - 7ms/step\n",
            "Epoch 70/200\n",
            "\n",
            "Epoch 70: val_loss improved from 0.00193 to 0.00181, saving model to /content/drive/My Drive/TA_LSTM/outputs/lstm_best_11-1-20_2PM/iter_changes/best_model.h5\n",
            "110/110 - 1s - loss: 0.0014 - accuracy: 9.0909e-04 - val_loss: 0.0018 - val_accuracy: 0.0000e+00 - 845ms/epoch - 8ms/step\n",
            "Epoch 71/200\n",
            "\n",
            "Epoch 71: val_loss did not improve from 0.00181\n",
            "110/110 - 1s - loss: 0.0012 - accuracy: 9.0909e-04 - val_loss: 0.0019 - val_accuracy: 0.0000e+00 - 731ms/epoch - 7ms/step\n",
            "Epoch 72/200\n",
            "\n",
            "Epoch 72: val_loss did not improve from 0.00181\n",
            "110/110 - 1s - loss: 0.0013 - accuracy: 9.0909e-04 - val_loss: 0.0019 - val_accuracy: 0.0000e+00 - 720ms/epoch - 7ms/step\n",
            "Epoch 73/200\n",
            "\n",
            "Epoch 73: val_loss did not improve from 0.00181\n",
            "110/110 - 1s - loss: 0.0013 - accuracy: 9.0909e-04 - val_loss: 0.0020 - val_accuracy: 0.0000e+00 - 708ms/epoch - 6ms/step\n",
            "Epoch 74/200\n",
            "\n",
            "Epoch 74: val_loss did not improve from 0.00181\n",
            "110/110 - 1s - loss: 0.0013 - accuracy: 9.0909e-04 - val_loss: 0.0019 - val_accuracy: 0.0000e+00 - 743ms/epoch - 7ms/step\n",
            "Epoch 75/200\n",
            "\n",
            "Epoch 75: val_loss improved from 0.00181 to 0.00172, saving model to /content/drive/My Drive/TA_LSTM/outputs/lstm_best_11-1-20_2PM/iter_changes/best_model.h5\n",
            "110/110 - 1s - loss: 0.0012 - accuracy: 9.0909e-04 - val_loss: 0.0017 - val_accuracy: 0.0000e+00 - 783ms/epoch - 7ms/step\n",
            "Epoch 76/200\n",
            "\n",
            "Epoch 76: val_loss did not improve from 0.00172\n",
            "110/110 - 1s - loss: 0.0012 - accuracy: 9.0909e-04 - val_loss: 0.0019 - val_accuracy: 0.0000e+00 - 713ms/epoch - 6ms/step\n",
            "Epoch 77/200\n",
            "\n",
            "Epoch 77: val_loss improved from 0.00172 to 0.00164, saving model to /content/drive/My Drive/TA_LSTM/outputs/lstm_best_11-1-20_2PM/iter_changes/best_model.h5\n",
            "110/110 - 1s - loss: 0.0014 - accuracy: 9.0909e-04 - val_loss: 0.0016 - val_accuracy: 0.0000e+00 - 796ms/epoch - 7ms/step\n",
            "Epoch 78/200\n",
            "\n",
            "Epoch 78: val_loss did not improve from 0.00164\n",
            "110/110 - 1s - loss: 0.0012 - accuracy: 9.0909e-04 - val_loss: 0.0018 - val_accuracy: 0.0000e+00 - 716ms/epoch - 7ms/step\n",
            "Epoch 79/200\n",
            "\n",
            "Epoch 79: val_loss did not improve from 0.00164\n",
            "110/110 - 1s - loss: 0.0013 - accuracy: 9.0909e-04 - val_loss: 0.0017 - val_accuracy: 0.0000e+00 - 718ms/epoch - 7ms/step\n",
            "Epoch 80/200\n",
            "\n",
            "Epoch 80: val_loss did not improve from 0.00164\n",
            "110/110 - 1s - loss: 0.0012 - accuracy: 9.0909e-04 - val_loss: 0.0020 - val_accuracy: 0.0000e+00 - 705ms/epoch - 6ms/step\n",
            "Epoch 81/200\n",
            "\n",
            "Epoch 81: val_loss did not improve from 0.00164\n",
            "110/110 - 1s - loss: 0.0012 - accuracy: 9.0909e-04 - val_loss: 0.0017 - val_accuracy: 0.0000e+00 - 746ms/epoch - 7ms/step\n",
            "Epoch 82/200\n",
            "\n",
            "Epoch 82: val_loss did not improve from 0.00164\n",
            "110/110 - 1s - loss: 0.0012 - accuracy: 9.0909e-04 - val_loss: 0.0017 - val_accuracy: 0.0000e+00 - 941ms/epoch - 9ms/step\n",
            "Epoch 83/200\n",
            "\n",
            "Epoch 83: val_loss did not improve from 0.00164\n",
            "110/110 - 1s - loss: 0.0012 - accuracy: 9.0909e-04 - val_loss: 0.0018 - val_accuracy: 0.0000e+00 - 949ms/epoch - 9ms/step\n",
            "Epoch 84/200\n",
            "\n",
            "Epoch 84: val_loss did not improve from 0.00164\n",
            "110/110 - 1s - loss: 0.0012 - accuracy: 9.0909e-04 - val_loss: 0.0017 - val_accuracy: 0.0000e+00 - 952ms/epoch - 9ms/step\n",
            "Epoch 85/200\n",
            "\n",
            "Epoch 85: val_loss did not improve from 0.00164\n",
            "110/110 - 1s - loss: 0.0011 - accuracy: 9.0909e-04 - val_loss: 0.0017 - val_accuracy: 0.0000e+00 - 968ms/epoch - 9ms/step\n",
            "Epoch 86/200\n",
            "\n",
            "Epoch 86: val_loss improved from 0.00164 to 0.00153, saving model to /content/drive/My Drive/TA_LSTM/outputs/lstm_best_11-1-20_2PM/iter_changes/best_model.h5\n",
            "110/110 - 1s - loss: 0.0012 - accuracy: 9.0909e-04 - val_loss: 0.0015 - val_accuracy: 0.0000e+00 - 1s/epoch - 10ms/step\n",
            "Epoch 87/200\n",
            "\n",
            "Epoch 87: val_loss did not improve from 0.00153\n",
            "110/110 - 1s - loss: 0.0011 - accuracy: 9.0909e-04 - val_loss: 0.0019 - val_accuracy: 0.0000e+00 - 759ms/epoch - 7ms/step\n",
            "Epoch 88/200\n",
            "\n",
            "Epoch 88: val_loss improved from 0.00153 to 0.00152, saving model to /content/drive/My Drive/TA_LSTM/outputs/lstm_best_11-1-20_2PM/iter_changes/best_model.h5\n",
            "110/110 - 1s - loss: 0.0012 - accuracy: 9.0909e-04 - val_loss: 0.0015 - val_accuracy: 0.0000e+00 - 768ms/epoch - 7ms/step\n",
            "Epoch 89/200\n",
            "\n",
            "Epoch 89: val_loss did not improve from 0.00152\n",
            "110/110 - 1s - loss: 0.0011 - accuracy: 9.0909e-04 - val_loss: 0.0018 - val_accuracy: 0.0000e+00 - 703ms/epoch - 6ms/step\n",
            "Epoch 90/200\n",
            "\n",
            "Epoch 90: val_loss did not improve from 0.00152\n",
            "110/110 - 1s - loss: 0.0012 - accuracy: 9.0909e-04 - val_loss: 0.0016 - val_accuracy: 0.0000e+00 - 711ms/epoch - 6ms/step\n",
            "Epoch 91/200\n",
            "\n",
            "Epoch 91: val_loss improved from 0.00152 to 0.00147, saving model to /content/drive/My Drive/TA_LSTM/outputs/lstm_best_11-1-20_2PM/iter_changes/best_model.h5\n",
            "110/110 - 1s - loss: 0.0011 - accuracy: 9.0909e-04 - val_loss: 0.0015 - val_accuracy: 0.0000e+00 - 789ms/epoch - 7ms/step\n",
            "Epoch 92/200\n",
            "\n",
            "Epoch 92: val_loss did not improve from 0.00147\n",
            "110/110 - 1s - loss: 0.0011 - accuracy: 9.0909e-04 - val_loss: 0.0015 - val_accuracy: 0.0000e+00 - 743ms/epoch - 7ms/step\n",
            "Epoch 93/200\n",
            "\n",
            "Epoch 93: val_loss did not improve from 0.00147\n",
            "110/110 - 1s - loss: 0.0010 - accuracy: 9.0909e-04 - val_loss: 0.0016 - val_accuracy: 0.0000e+00 - 706ms/epoch - 6ms/step\n",
            "Epoch 94/200\n",
            "\n",
            "Epoch 94: val_loss did not improve from 0.00147\n",
            "110/110 - 1s - loss: 0.0011 - accuracy: 9.0909e-04 - val_loss: 0.0015 - val_accuracy: 0.0000e+00 - 716ms/epoch - 7ms/step\n",
            "Epoch 95/200\n",
            "\n",
            "Epoch 95: val_loss did not improve from 0.00147\n",
            "110/110 - 1s - loss: 0.0010 - accuracy: 9.0909e-04 - val_loss: 0.0015 - val_accuracy: 0.0000e+00 - 735ms/epoch - 7ms/step\n",
            "Epoch 96/200\n",
            "\n",
            "Epoch 96: val_loss improved from 0.00147 to 0.00147, saving model to /content/drive/My Drive/TA_LSTM/outputs/lstm_best_11-1-20_2PM/iter_changes/best_model.h5\n",
            "110/110 - 1s - loss: 0.0011 - accuracy: 9.0909e-04 - val_loss: 0.0015 - val_accuracy: 0.0000e+00 - 782ms/epoch - 7ms/step\n",
            "Epoch 97/200\n",
            "\n",
            "Epoch 97: val_loss did not improve from 0.00147\n",
            "110/110 - 1s - loss: 0.0011 - accuracy: 9.0909e-04 - val_loss: 0.0015 - val_accuracy: 0.0000e+00 - 773ms/epoch - 7ms/step\n",
            "Epoch 98/200\n",
            "\n",
            "Epoch 98: val_loss did not improve from 0.00147\n",
            "110/110 - 1s - loss: 0.0011 - accuracy: 9.0909e-04 - val_loss: 0.0015 - val_accuracy: 0.0000e+00 - 830ms/epoch - 8ms/step\n",
            "Epoch 99/200\n",
            "\n",
            "Epoch 99: val_loss did not improve from 0.00147\n",
            "110/110 - 1s - loss: 0.0010 - accuracy: 9.0909e-04 - val_loss: 0.0016 - val_accuracy: 0.0000e+00 - 957ms/epoch - 9ms/step\n",
            "Epoch 100/200\n",
            "\n",
            "Epoch 100: val_loss did not improve from 0.00147\n",
            "110/110 - 1s - loss: 0.0010 - accuracy: 9.0909e-04 - val_loss: 0.0015 - val_accuracy: 0.0000e+00 - 988ms/epoch - 9ms/step\n",
            "Epoch 101/200\n",
            "\n",
            "Epoch 101: val_loss improved from 0.00147 to 0.00147, saving model to /content/drive/My Drive/TA_LSTM/outputs/lstm_best_11-1-20_2PM/iter_changes/best_model.h5\n",
            "110/110 - 1s - loss: 0.0011 - accuracy: 9.0909e-04 - val_loss: 0.0015 - val_accuracy: 0.0000e+00 - 1s/epoch - 9ms/step\n",
            "Epoch 102/200\n",
            "\n",
            "Epoch 102: val_loss improved from 0.00147 to 0.00143, saving model to /content/drive/My Drive/TA_LSTM/outputs/lstm_best_11-1-20_2PM/iter_changes/best_model.h5\n",
            "110/110 - 1s - loss: 9.9465e-04 - accuracy: 9.0909e-04 - val_loss: 0.0014 - val_accuracy: 0.0000e+00 - 858ms/epoch - 8ms/step\n",
            "Epoch 103/200\n",
            "\n",
            "Epoch 103: val_loss improved from 0.00143 to 0.00141, saving model to /content/drive/My Drive/TA_LSTM/outputs/lstm_best_11-1-20_2PM/iter_changes/best_model.h5\n",
            "110/110 - 1s - loss: 0.0010 - accuracy: 9.0909e-04 - val_loss: 0.0014 - val_accuracy: 0.0000e+00 - 819ms/epoch - 7ms/step\n",
            "Epoch 104/200\n",
            "\n",
            "Epoch 104: val_loss improved from 0.00141 to 0.00138, saving model to /content/drive/My Drive/TA_LSTM/outputs/lstm_best_11-1-20_2PM/iter_changes/best_model.h5\n",
            "110/110 - 1s - loss: 9.9246e-04 - accuracy: 9.0909e-04 - val_loss: 0.0014 - val_accuracy: 0.0000e+00 - 795ms/epoch - 7ms/step\n",
            "Epoch 105/200\n",
            "\n",
            "Epoch 105: val_loss did not improve from 0.00138\n",
            "110/110 - 1s - loss: 0.0010 - accuracy: 9.0909e-04 - val_loss: 0.0014 - val_accuracy: 0.0000e+00 - 749ms/epoch - 7ms/step\n",
            "Epoch 106/200\n",
            "\n",
            "Epoch 106: val_loss did not improve from 0.00138\n",
            "110/110 - 1s - loss: 0.0010 - accuracy: 9.0909e-04 - val_loss: 0.0015 - val_accuracy: 0.0000e+00 - 709ms/epoch - 6ms/step\n",
            "Epoch 107/200\n",
            "\n",
            "Epoch 107: val_loss did not improve from 0.00138\n",
            "110/110 - 1s - loss: 9.8342e-04 - accuracy: 9.0909e-04 - val_loss: 0.0014 - val_accuracy: 0.0000e+00 - 700ms/epoch - 6ms/step\n",
            "Epoch 108/200\n",
            "\n",
            "Epoch 108: val_loss did not improve from 0.00138\n",
            "110/110 - 1s - loss: 9.4444e-04 - accuracy: 9.0909e-04 - val_loss: 0.0014 - val_accuracy: 0.0000e+00 - 715ms/epoch - 6ms/step\n",
            "Epoch 109/200\n",
            "\n",
            "Epoch 109: val_loss did not improve from 0.00138\n",
            "110/110 - 1s - loss: 9.4763e-04 - accuracy: 9.0909e-04 - val_loss: 0.0014 - val_accuracy: 0.0000e+00 - 726ms/epoch - 7ms/step\n",
            "Epoch 110/200\n",
            "\n",
            "Epoch 110: val_loss improved from 0.00138 to 0.00137, saving model to /content/drive/My Drive/TA_LSTM/outputs/lstm_best_11-1-20_2PM/iter_changes/best_model.h5\n",
            "110/110 - 1s - loss: 0.0010 - accuracy: 9.0909e-04 - val_loss: 0.0014 - val_accuracy: 0.0000e+00 - 796ms/epoch - 7ms/step\n",
            "Epoch 111/200\n",
            "\n",
            "Epoch 111: val_loss improved from 0.00137 to 0.00131, saving model to /content/drive/My Drive/TA_LSTM/outputs/lstm_best_11-1-20_2PM/iter_changes/best_model.h5\n",
            "110/110 - 1s - loss: 0.0010 - accuracy: 9.0909e-04 - val_loss: 0.0013 - val_accuracy: 0.0000e+00 - 802ms/epoch - 7ms/step\n",
            "Epoch 112/200\n",
            "\n",
            "Epoch 112: val_loss did not improve from 0.00131\n",
            "110/110 - 1s - loss: 9.3796e-04 - accuracy: 9.0909e-04 - val_loss: 0.0014 - val_accuracy: 0.0000e+00 - 706ms/epoch - 6ms/step\n",
            "Epoch 113/200\n",
            "\n",
            "Epoch 113: val_loss did not improve from 0.00131\n",
            "110/110 - 1s - loss: 9.2113e-04 - accuracy: 9.0909e-04 - val_loss: 0.0015 - val_accuracy: 0.0000e+00 - 761ms/epoch - 7ms/step\n",
            "Epoch 114/200\n",
            "\n",
            "Epoch 114: val_loss did not improve from 0.00131\n",
            "110/110 - 1s - loss: 9.8627e-04 - accuracy: 9.0909e-04 - val_loss: 0.0015 - val_accuracy: 0.0000e+00 - 726ms/epoch - 7ms/step\n",
            "Epoch 115/200\n",
            "\n",
            "Epoch 115: val_loss did not improve from 0.00131\n",
            "110/110 - 1s - loss: 0.0010 - accuracy: 9.0909e-04 - val_loss: 0.0014 - val_accuracy: 0.0000e+00 - 864ms/epoch - 8ms/step\n",
            "Epoch 116/200\n",
            "\n",
            "Epoch 116: val_loss improved from 0.00131 to 0.00131, saving model to /content/drive/My Drive/TA_LSTM/outputs/lstm_best_11-1-20_2PM/iter_changes/best_model.h5\n",
            "110/110 - 1s - loss: 9.2054e-04 - accuracy: 9.0909e-04 - val_loss: 0.0013 - val_accuracy: 0.0000e+00 - 1s/epoch - 9ms/step\n",
            "Epoch 117/200\n",
            "\n",
            "Epoch 117: val_loss did not improve from 0.00131\n",
            "110/110 - 1s - loss: 9.5325e-04 - accuracy: 9.0909e-04 - val_loss: 0.0014 - val_accuracy: 0.0000e+00 - 959ms/epoch - 9ms/step\n",
            "Epoch 118/200\n",
            "\n",
            "Epoch 118: val_loss did not improve from 0.00131\n",
            "110/110 - 1s - loss: 9.4974e-04 - accuracy: 9.0909e-04 - val_loss: 0.0013 - val_accuracy: 0.0000e+00 - 947ms/epoch - 9ms/step\n",
            "Epoch 119/200\n",
            "\n",
            "Epoch 119: val_loss improved from 0.00131 to 0.00130, saving model to /content/drive/My Drive/TA_LSTM/outputs/lstm_best_11-1-20_2PM/iter_changes/best_model.h5\n",
            "110/110 - 1s - loss: 9.3693e-04 - accuracy: 9.0909e-04 - val_loss: 0.0013 - val_accuracy: 0.0000e+00 - 806ms/epoch - 7ms/step\n",
            "Epoch 120/200\n",
            "\n",
            "Epoch 120: val_loss did not improve from 0.00130\n",
            "110/110 - 1s - loss: 8.9353e-04 - accuracy: 9.0909e-04 - val_loss: 0.0014 - val_accuracy: 0.0000e+00 - 749ms/epoch - 7ms/step\n",
            "Epoch 121/200\n",
            "\n",
            "Epoch 121: val_loss did not improve from 0.00130\n",
            "110/110 - 1s - loss: 9.3802e-04 - accuracy: 9.0909e-04 - val_loss: 0.0015 - val_accuracy: 0.0000e+00 - 742ms/epoch - 7ms/step\n",
            "Epoch 122/200\n",
            "\n",
            "Epoch 122: val_loss did not improve from 0.00130\n",
            "110/110 - 1s - loss: 0.0010 - accuracy: 9.0909e-04 - val_loss: 0.0014 - val_accuracy: 0.0000e+00 - 725ms/epoch - 7ms/step\n",
            "Epoch 123/200\n",
            "\n",
            "Epoch 123: val_loss did not improve from 0.00130\n",
            "110/110 - 1s - loss: 9.6708e-04 - accuracy: 9.0909e-04 - val_loss: 0.0013 - val_accuracy: 0.0000e+00 - 746ms/epoch - 7ms/step\n",
            "Epoch 124/200\n",
            "\n",
            "Epoch 124: val_loss did not improve from 0.00130\n",
            "110/110 - 1s - loss: 9.1796e-04 - accuracy: 9.0909e-04 - val_loss: 0.0014 - val_accuracy: 0.0000e+00 - 745ms/epoch - 7ms/step\n",
            "Epoch 125/200\n",
            "\n",
            "Epoch 125: val_loss improved from 0.00130 to 0.00129, saving model to /content/drive/My Drive/TA_LSTM/outputs/lstm_best_11-1-20_2PM/iter_changes/best_model.h5\n",
            "110/110 - 1s - loss: 9.5157e-04 - accuracy: 9.0909e-04 - val_loss: 0.0013 - val_accuracy: 0.0000e+00 - 813ms/epoch - 7ms/step\n",
            "Epoch 126/200\n",
            "\n",
            "Epoch 126: val_loss did not improve from 0.00129\n",
            "110/110 - 1s - loss: 9.3516e-04 - accuracy: 9.0909e-04 - val_loss: 0.0015 - val_accuracy: 0.0000e+00 - 730ms/epoch - 7ms/step\n",
            "Epoch 127/200\n",
            "\n",
            "Epoch 127: val_loss improved from 0.00129 to 0.00127, saving model to /content/drive/My Drive/TA_LSTM/outputs/lstm_best_11-1-20_2PM/iter_changes/best_model.h5\n",
            "110/110 - 1s - loss: 8.9836e-04 - accuracy: 9.0909e-04 - val_loss: 0.0013 - val_accuracy: 0.0000e+00 - 793ms/epoch - 7ms/step\n",
            "Epoch 128/200\n",
            "\n",
            "Epoch 128: val_loss did not improve from 0.00127\n",
            "110/110 - 1s - loss: 8.7922e-04 - accuracy: 9.0909e-04 - val_loss: 0.0014 - val_accuracy: 0.0000e+00 - 753ms/epoch - 7ms/step\n",
            "Epoch 129/200\n",
            "\n",
            "Epoch 129: val_loss did not improve from 0.00127\n",
            "110/110 - 1s - loss: 9.6110e-04 - accuracy: 9.0909e-04 - val_loss: 0.0013 - val_accuracy: 0.0000e+00 - 731ms/epoch - 7ms/step\n",
            "Epoch 130/200\n",
            "\n",
            "Epoch 130: val_loss improved from 0.00127 to 0.00112, saving model to /content/drive/My Drive/TA_LSTM/outputs/lstm_best_11-1-20_2PM/iter_changes/best_model.h5\n",
            "110/110 - 1s - loss: 8.9733e-04 - accuracy: 9.0909e-04 - val_loss: 0.0011 - val_accuracy: 0.0000e+00 - 821ms/epoch - 7ms/step\n",
            "Epoch 131/200\n",
            "\n",
            "Epoch 131: val_loss did not improve from 0.00112\n",
            "110/110 - 1s - loss: 8.6861e-04 - accuracy: 9.0909e-04 - val_loss: 0.0013 - val_accuracy: 0.0000e+00 - 722ms/epoch - 7ms/step\n",
            "Epoch 132/200\n",
            "\n",
            "Epoch 132: val_loss did not improve from 0.00112\n",
            "110/110 - 1s - loss: 8.9927e-04 - accuracy: 9.0909e-04 - val_loss: 0.0013 - val_accuracy: 0.0000e+00 - 959ms/epoch - 9ms/step\n",
            "Epoch 133/200\n",
            "\n",
            "Epoch 133: val_loss did not improve from 0.00112\n",
            "110/110 - 1s - loss: 9.2020e-04 - accuracy: 9.0909e-04 - val_loss: 0.0011 - val_accuracy: 0.0000e+00 - 963ms/epoch - 9ms/step\n",
            "Epoch 134/200\n",
            "\n",
            "Epoch 134: val_loss did not improve from 0.00112\n",
            "110/110 - 1s - loss: 8.6197e-04 - accuracy: 9.0909e-04 - val_loss: 0.0012 - val_accuracy: 0.0000e+00 - 943ms/epoch - 9ms/step\n",
            "Epoch 135/200\n",
            "\n",
            "Epoch 135: val_loss did not improve from 0.00112\n",
            "110/110 - 1s - loss: 8.3541e-04 - accuracy: 9.0909e-04 - val_loss: 0.0013 - val_accuracy: 0.0000e+00 - 935ms/epoch - 8ms/step\n",
            "Epoch 136/200\n",
            "\n",
            "Epoch 136: val_loss did not improve from 0.00112\n",
            "110/110 - 1s - loss: 8.9128e-04 - accuracy: 9.0909e-04 - val_loss: 0.0012 - val_accuracy: 0.0000e+00 - 716ms/epoch - 7ms/step\n",
            "Epoch 137/200\n",
            "\n",
            "Epoch 137: val_loss did not improve from 0.00112\n",
            "110/110 - 1s - loss: 8.6562e-04 - accuracy: 9.0909e-04 - val_loss: 0.0012 - val_accuracy: 0.0000e+00 - 744ms/epoch - 7ms/step\n",
            "Epoch 138/200\n",
            "\n",
            "Epoch 138: val_loss improved from 0.00112 to 0.00110, saving model to /content/drive/My Drive/TA_LSTM/outputs/lstm_best_11-1-20_2PM/iter_changes/best_model.h5\n",
            "110/110 - 1s - loss: 8.4641e-04 - accuracy: 9.0909e-04 - val_loss: 0.0011 - val_accuracy: 0.0000e+00 - 812ms/epoch - 7ms/step\n",
            "Epoch 139/200\n",
            "\n",
            "Epoch 139: val_loss did not improve from 0.00110\n",
            "110/110 - 1s - loss: 8.0754e-04 - accuracy: 9.0909e-04 - val_loss: 0.0012 - val_accuracy: 0.0000e+00 - 747ms/epoch - 7ms/step\n",
            "Epoch 140/200\n",
            "\n",
            "Epoch 140: val_loss did not improve from 0.00110\n",
            "110/110 - 1s - loss: 8.0347e-04 - accuracy: 9.0909e-04 - val_loss: 0.0012 - val_accuracy: 0.0000e+00 - 726ms/epoch - 7ms/step\n",
            "Epoch 141/200\n",
            "\n",
            "Epoch 141: val_loss did not improve from 0.00110\n",
            "110/110 - 1s - loss: 8.6318e-04 - accuracy: 9.0909e-04 - val_loss: 0.0012 - val_accuracy: 0.0000e+00 - 742ms/epoch - 7ms/step\n",
            "Epoch 142/200\n",
            "\n",
            "Epoch 142: val_loss did not improve from 0.00110\n",
            "110/110 - 1s - loss: 8.7615e-04 - accuracy: 9.0909e-04 - val_loss: 0.0012 - val_accuracy: 0.0000e+00 - 736ms/epoch - 7ms/step\n",
            "Epoch 143/200\n",
            "\n",
            "Epoch 143: val_loss did not improve from 0.00110\n",
            "110/110 - 1s - loss: 8.0220e-04 - accuracy: 9.0909e-04 - val_loss: 0.0012 - val_accuracy: 0.0000e+00 - 722ms/epoch - 7ms/step\n",
            "Epoch 144/200\n",
            "\n",
            "Epoch 144: val_loss did not improve from 0.00110\n",
            "110/110 - 1s - loss: 8.0628e-04 - accuracy: 9.0909e-04 - val_loss: 0.0012 - val_accuracy: 0.0000e+00 - 751ms/epoch - 7ms/step\n",
            "Epoch 145/200\n",
            "\n",
            "Epoch 145: val_loss did not improve from 0.00110\n",
            "110/110 - 1s - loss: 8.6271e-04 - accuracy: 9.0909e-04 - val_loss: 0.0014 - val_accuracy: 0.0000e+00 - 753ms/epoch - 7ms/step\n",
            "Epoch 146/200\n",
            "\n",
            "Epoch 146: val_loss did not improve from 0.00110\n",
            "110/110 - 1s - loss: 8.3969e-04 - accuracy: 9.0909e-04 - val_loss: 0.0013 - val_accuracy: 0.0000e+00 - 757ms/epoch - 7ms/step\n",
            "Epoch 147/200\n",
            "\n",
            "Epoch 147: val_loss did not improve from 0.00110\n",
            "110/110 - 1s - loss: 8.8780e-04 - accuracy: 9.0909e-04 - val_loss: 0.0012 - val_accuracy: 0.0000e+00 - 750ms/epoch - 7ms/step\n",
            "Epoch 148/200\n",
            "\n",
            "Epoch 148: val_loss improved from 0.00110 to 0.00110, saving model to /content/drive/My Drive/TA_LSTM/outputs/lstm_best_11-1-20_2PM/iter_changes/best_model.h5\n",
            "110/110 - 1s - loss: 8.4723e-04 - accuracy: 9.0909e-04 - val_loss: 0.0011 - val_accuracy: 0.0000e+00 - 805ms/epoch - 7ms/step\n",
            "Epoch 149/200\n",
            "\n",
            "Epoch 149: val_loss improved from 0.00110 to 0.00107, saving model to /content/drive/My Drive/TA_LSTM/outputs/lstm_best_11-1-20_2PM/iter_changes/best_model.h5\n",
            "110/110 - 1s - loss: 7.6120e-04 - accuracy: 9.0909e-04 - val_loss: 0.0011 - val_accuracy: 0.0000e+00 - 1s/epoch - 9ms/step\n",
            "Epoch 150/200\n",
            "\n",
            "Epoch 150: val_loss did not improve from 0.00107\n",
            "110/110 - 1s - loss: 7.8784e-04 - accuracy: 9.0909e-04 - val_loss: 0.0011 - val_accuracy: 0.0000e+00 - 976ms/epoch - 9ms/step\n",
            "Epoch 151/200\n",
            "\n",
            "Epoch 151: val_loss did not improve from 0.00107\n",
            "110/110 - 1s - loss: 7.8484e-04 - accuracy: 9.0909e-04 - val_loss: 0.0012 - val_accuracy: 0.0000e+00 - 954ms/epoch - 9ms/step\n",
            "Epoch 152/200\n",
            "\n",
            "Epoch 152: val_loss did not improve from 0.00107\n",
            "110/110 - 1s - loss: 8.2983e-04 - accuracy: 9.0909e-04 - val_loss: 0.0012 - val_accuracy: 0.0000e+00 - 897ms/epoch - 8ms/step\n",
            "Epoch 153/200\n",
            "\n",
            "Epoch 153: val_loss did not improve from 0.00107\n",
            "110/110 - 1s - loss: 8.4381e-04 - accuracy: 9.0909e-04 - val_loss: 0.0012 - val_accuracy: 0.0000e+00 - 724ms/epoch - 7ms/step\n",
            "Epoch 154/200\n",
            "\n",
            "Epoch 154: val_loss did not improve from 0.00107\n",
            "110/110 - 1s - loss: 8.2525e-04 - accuracy: 9.0909e-04 - val_loss: 0.0012 - val_accuracy: 0.0000e+00 - 721ms/epoch - 7ms/step\n",
            "Epoch 155/200\n",
            "\n",
            "Epoch 155: val_loss improved from 0.00107 to 0.00106, saving model to /content/drive/My Drive/TA_LSTM/outputs/lstm_best_11-1-20_2PM/iter_changes/best_model.h5\n",
            "110/110 - 1s - loss: 7.6854e-04 - accuracy: 9.0909e-04 - val_loss: 0.0011 - val_accuracy: 0.0000e+00 - 807ms/epoch - 7ms/step\n",
            "Epoch 156/200\n",
            "\n",
            "Epoch 156: val_loss did not improve from 0.00106\n",
            "110/110 - 1s - loss: 7.8915e-04 - accuracy: 9.0909e-04 - val_loss: 0.0011 - val_accuracy: 0.0000e+00 - 730ms/epoch - 7ms/step\n",
            "Epoch 157/200\n",
            "\n",
            "Epoch 157: val_loss did not improve from 0.00106\n",
            "110/110 - 1s - loss: 7.6545e-04 - accuracy: 9.0909e-04 - val_loss: 0.0012 - val_accuracy: 0.0000e+00 - 726ms/epoch - 7ms/step\n",
            "Epoch 158/200\n",
            "\n",
            "Epoch 158: val_loss did not improve from 0.00106\n",
            "110/110 - 1s - loss: 8.3164e-04 - accuracy: 9.0909e-04 - val_loss: 0.0012 - val_accuracy: 0.0000e+00 - 742ms/epoch - 7ms/step\n",
            "Epoch 159/200\n",
            "\n",
            "Epoch 159: val_loss did not improve from 0.00106\n",
            "110/110 - 1s - loss: 8.2322e-04 - accuracy: 9.0909e-04 - val_loss: 0.0012 - val_accuracy: 0.0000e+00 - 753ms/epoch - 7ms/step\n",
            "Epoch 160/200\n",
            "\n",
            "Epoch 160: val_loss did not improve from 0.00106\n",
            "110/110 - 1s - loss: 7.8238e-04 - accuracy: 9.0909e-04 - val_loss: 0.0011 - val_accuracy: 0.0000e+00 - 720ms/epoch - 7ms/step\n",
            "Epoch 161/200\n",
            "\n",
            "Epoch 161: val_loss did not improve from 0.00106\n",
            "110/110 - 1s - loss: 7.5186e-04 - accuracy: 9.0909e-04 - val_loss: 0.0012 - val_accuracy: 0.0000e+00 - 717ms/epoch - 7ms/step\n",
            "Epoch 162/200\n",
            "\n",
            "Epoch 162: val_loss did not improve from 0.00106\n",
            "110/110 - 1s - loss: 8.0847e-04 - accuracy: 9.0909e-04 - val_loss: 0.0014 - val_accuracy: 0.0000e+00 - 718ms/epoch - 7ms/step\n",
            "Epoch 163/200\n",
            "\n",
            "Epoch 163: val_loss did not improve from 0.00106\n",
            "110/110 - 1s - loss: 8.5311e-04 - accuracy: 9.0909e-04 - val_loss: 0.0012 - val_accuracy: 0.0000e+00 - 745ms/epoch - 7ms/step\n",
            "Epoch 164/200\n",
            "\n",
            "Epoch 164: val_loss did not improve from 0.00106\n",
            "110/110 - 1s - loss: 7.8234e-04 - accuracy: 9.0909e-04 - val_loss: 0.0012 - val_accuracy: 0.0000e+00 - 731ms/epoch - 7ms/step\n",
            "Epoch 165/200\n",
            "\n",
            "Epoch 165: val_loss did not improve from 0.00106\n",
            "110/110 - 1s - loss: 8.2441e-04 - accuracy: 9.0909e-04 - val_loss: 0.0012 - val_accuracy: 0.0000e+00 - 737ms/epoch - 7ms/step\n",
            "Epoch 166/200\n",
            "\n",
            "Epoch 166: val_loss did not improve from 0.00106\n",
            "110/110 - 1s - loss: 7.9510e-04 - accuracy: 9.0909e-04 - val_loss: 0.0011 - val_accuracy: 0.0000e+00 - 990ms/epoch - 9ms/step\n",
            "Epoch 167/200\n",
            "\n",
            "Epoch 167: val_loss did not improve from 0.00106\n",
            "110/110 - 1s - loss: 8.0732e-04 - accuracy: 9.0909e-04 - val_loss: 0.0012 - val_accuracy: 0.0000e+00 - 1s/epoch - 9ms/step\n",
            "Epoch 168/200\n",
            "\n",
            "Epoch 168: val_loss did not improve from 0.00106\n",
            "110/110 - 1s - loss: 7.6173e-04 - accuracy: 9.0909e-04 - val_loss: 0.0011 - val_accuracy: 0.0000e+00 - 992ms/epoch - 9ms/step\n",
            "Epoch 169/200\n",
            "\n",
            "Epoch 169: val_loss did not improve from 0.00106\n",
            "110/110 - 1s - loss: 7.8515e-04 - accuracy: 9.0909e-04 - val_loss: 0.0011 - val_accuracy: 0.0000e+00 - 877ms/epoch - 8ms/step\n",
            "Epoch 170/200\n",
            "\n",
            "Epoch 170: val_loss did not improve from 0.00106\n",
            "110/110 - 1s - loss: 7.5039e-04 - accuracy: 9.0909e-04 - val_loss: 0.0011 - val_accuracy: 0.0000e+00 - 759ms/epoch - 7ms/step\n",
            "Epoch 170: early stopping\n",
            "Menyimpan model . . .\n"
          ]
        }
      ]
    },
    {
      "cell_type": "markdown",
      "source": [
        "# Melakukan Prediksi"
      ],
      "metadata": {
        "id": "hOYRFN4D5twj"
      }
    },
    {
      "cell_type": "markdown",
      "source": [
        "## Prediksi dengan data yang masih Normal"
      ],
      "metadata": {
        "id": "UuZJo-6y51Ir"
      }
    },
    {
      "cell_type": "code",
      "source": [
        "# Melakukan Prediksi dengan model yang sudah dibuat\n",
        "y_pred = model.predict(trim_dataset(x_test_t, BATCH_SIZE), batch_size=BATCH_SIZE)\n",
        "y_pred = y_pred.flatten()\n",
        "y_test_t = trim_dataset(y_test_t, BATCH_SIZE)\n",
        "error = mean_squared_error(y_test_t, y_pred)\n",
        "\n",
        "# Menampilkan nilai Error menggunakan MSE\n",
        "print(\"Besarnya nilai Error : \", error, y_pred.shape, y_test_t.shape)"
      ],
      "metadata": {
        "colab": {
          "base_uri": "https://localhost:8080/"
        },
        "id": "gQzY_IHHhnAx",
        "outputId": "57152cf9-8eba-497b-c866-5fbbfb24d876"
      },
      "execution_count": 35,
      "outputs": [
        {
          "output_type": "stream",
          "name": "stdout",
          "text": [
            "12/12 [==============================] - 1s 6ms/step\n",
            "Besarnya nilai Error :  0.0003359682365868114 (240,) (240,)\n"
          ]
        }
      ]
    },
    {
      "cell_type": "markdown",
      "source": [
        "## Proses Denormalisasi data hasil prediksi"
      ],
      "metadata": {
        "id": "urNdfnnr5478"
      }
    },
    {
      "cell_type": "code",
      "source": [
        "# Melakukan De-normalisasi data output untuk data uji dan data validasi\n",
        "y_pred_org = (y_pred * min_max_scaler.data_range_[3]) + min_max_scaler.data_min_[3]\n",
        "y_test_t_org = (y_test_t * min_max_scaler.data_range_[3]) + min_max_scaler.data_min_[3]"
      ],
      "metadata": {
        "id": "HipZWgh7h1nF"
      },
      "execution_count": 36,
      "outputs": []
    },
    {
      "cell_type": "markdown",
      "source": [
        "# Visualisasi data output"
      ],
      "metadata": {
        "id": "3drfoSsi5908"
      }
    },
    {
      "cell_type": "markdown",
      "source": [
        "Visualisasi nilai Loss yang dihasilkan"
      ],
      "metadata": {
        "id": "6UhV-Y5N5_Uo"
      }
    },
    {
      "cell_type": "code",
      "source": [
        "# Visualisasi model Loss dari data uji dan data validasi\n",
        "from matplotlib import pyplot as plt\n",
        "plt.figure(figsize=[12,6])\n",
        "plt.plot(history.history['loss'])\n",
        "plt.plot(history.history['val_loss'])\n",
        "plt.title('Model loss')\n",
        "plt.ylabel('Loss')\n",
        "plt.xlabel('Epoch')\n",
        "plt.legend(['Train', 'Test'], loc='upper right')\n",
        "plt.savefig(os.path.join(OUTPUT_PATH, 'train_vis_BS_'+str(BATCH_SIZE)+\"_\"+time.ctime()+'.png'))"
      ],
      "metadata": {
        "colab": {
          "base_uri": "https://localhost:8080/",
          "height": 564
        },
        "id": "kUMkqLZVh4EW",
        "outputId": "3e19232e-9b7d-4d88-9408-a2da2c74fff3"
      },
      "execution_count": 37,
      "outputs": [
        {
          "output_type": "display_data",
          "data": {
            "text/plain": [
              "<Figure size 1200x600 with 1 Axes>"
            ],
            "image/png": "[encoded data removed]"
          },
          "metadata": {}
        }
      ]
    },
    {
      "cell_type": "code",
      "source": [
        "# Menyimpan model\n",
        "#saved_model = load_model(os.path.join(OUTPUT_PATH, '/content/drive/My Drive/TA_LSTM/outputs/best_model.h5')) \n",
        "saved_model = load_model(os.path.join(OUTPUT_PATH, 'best_model.h5')) \n",
        "print(saved_model)"
      ],
      "metadata": {
        "colab": {
          "base_uri": "https://localhost:8080/"
        },
        "id": "CNw-B7-Yh66A",
        "outputId": "4c284aba-9005-4dd0-9648-495228348e6d"
      },
      "execution_count": 38,
      "outputs": [
        {
          "output_type": "stream",
          "name": "stdout",
          "text": [
            "<keras.engine.sequential.Sequential object at 0x7f4a4ff6d750>\n"
          ]
        }
      ]
    },
    {
      "cell_type": "code",
      "source": [
        "y_pred = saved_model.predict(trim_dataset(x_test_t, BATCH_SIZE), batch_size=BATCH_SIZE)\n",
        "y_pred = y_pred.flatten()\n",
        "y_test_t = trim_dataset(y_test_t, BATCH_SIZE)\n",
        "error = mean_squared_error(y_test_t, y_pred)\n",
        "print(\"Nilai Error dari MSE sebesar \", error, y_pred.shape, y_test_t.shape)\n",
        "print(\"Harga prediksi esok hari sebelum denormalisasi :\",y_pred[0])\n",
        "y_pred_org = (y_pred * min_max_scaler.data_range_[3]) + min_max_scaler.data_min_[3] \n",
        "print(\"Harga prediksi esok hari sesudah denormalisasi :\",y_pred_org[0])"
      ],
      "metadata": {
        "colab": {
          "base_uri": "https://localhost:8080/"
        },
        "id": "WX8unCvkh9yE",
        "outputId": "982a7bfc-6297-4f87-ebab-b797b5555d07"
      },
      "execution_count": 39,
      "outputs": [
        {
          "output_type": "stream",
          "name": "stdout",
          "text": [
            "12/12 [==============================] - 1s 6ms/step\n",
            "Nilai Error dari MSE sebesar  0.0003490534434199523 (240,) (240,)\n",
            "Harga prediksi esok hari sebelum denormalisasi : 0.34672254\n",
            "Harga prediksi esok hari sesudah denormalisasi : 1290.1489\n"
          ]
        }
      ]
    },
    {
      "cell_type": "markdown",
      "source": [
        "# Visualisasi hasil prediksi\n",
        "\n"
      ],
      "metadata": {
        "id": "YWHcPZYY6Eni"
      }
    },
    {
      "cell_type": "code",
      "source": [
        "kurang = y_pred_org - y_test_t_org\n",
        "kurang_table = pd.DataFrame(kurang, columns=['hasil pengurangan uji dgn validasi'])\n",
        "kurang_table.to_csv (r'/content/drive/My Drive/TA_LSTM/outputs/Hasil pengurangan ep200 8020.csv', index = None, header=True)"
      ],
      "metadata": {
        "id": "EbhHEQSOiAGM"
      },
      "execution_count": 40,
      "outputs": []
    },
    {
      "cell_type": "code",
      "source": [
        "# Visualisasi hasil prediksi dengan model yang sudah dibuat\n",
        "from matplotlib import pyplot as plt\n",
        "plt.figure(figsize=[12,6])\n",
        "plt.plot(y_pred_org)\n",
        "plt.plot(y_test_t_org)\n",
        "plt.title('Nilai Prediksi Pergerakan Harga Saham pada PT Adaro Energy Tbk')\n",
        "plt.ylabel('Price (IDR)')\n",
        "plt.xlabel('Validation Days')\n",
        "plt.grid(color='#95a5a6', linestyle='--', linewidth=2, axis='y', alpha=0.7)\n",
        "plt.legend(['Prediction', 'Real'], loc='lower left')\n",
        "plt.savefig(os.path.join(OUTPUT_PATH, 'pred_vs_real_BS'+str(BATCH_SIZE)+\"_\"+time.ctime()+'.png'))\n",
        "print_time(\"Program selesai pada \", stime)"
      ],
      "metadata": {
        "colab": {
          "base_uri": "https://localhost:8080/",
          "height": 581
        },
        "id": "VAT4jkEIiMUB",
        "outputId": "63d7fb0a-8cd2-4ff4-e1d4-a8a0adc6e593"
      },
      "execution_count": 41,
      "outputs": [
        {
          "output_type": "stream",
          "name": "stdout",
          "text": [
            "Program selesai pada  5.0 menit :  58.0 detik\n"
          ]
        },
        {
          "output_type": "display_data",
          "data": {
            "text/plain": [
              "<Figure size 1200x600 with 1 Axes>"
            ],
            "image/png": "[encoded data removed]"
          },
          "metadata": {}
        }
      ]
    },
    {
      "cell_type": "markdown",
      "source": [
        "# Evaluasi Model yang sudah dibuat"
      ],
      "metadata": {
        "id": "eYukR4nE6LDF"
      }
    },
    {
      "cell_type": "code",
      "source": [
        "# Evaluasi model\n",
        "score = model.evaluate(x_t, y_t, batch_size=BATCH_SIZE)\n",
        "print('Test loss:', score[0])\n",
        "print('Test accuracy:', score[1])"
      ],
      "metadata": {
        "colab": {
          "base_uri": "https://localhost:8080/"
        },
        "id": "J7g1CeoCiOsR",
        "outputId": "a8f80cd4-b4de-462d-c2e9-0936cec924f4"
      },
      "execution_count": 42,
      "outputs": [
        {
          "output_type": "stream",
          "name": "stdout",
          "text": [
            "110/110 [==============================] - 1s 6ms/step - loss: 6.6261e-04 - accuracy: 9.0909e-04\n",
            "Test loss: 0.00066260906169191\n",
            "Test accuracy: 0.0009090909152291715\n"
          ]
        }
      ]
    },
    {
      "cell_type": "markdown",
      "source": [
        "# Menyimpan hasil prediksi ke dalam csv"
      ],
      "metadata": {
        "id": "eWzm75sa6Mpk"
      }
    },
    {
      "cell_type": "code",
      "source": [
        "# Menyimpan hasil data prediksi ke dalam bentuk Dataframe\n",
        "pred_table = pd.DataFrame(y_pred_org, columns=['Close'])\n",
        "\n",
        "# Melakukan Ekspor data menjadi bentuk CSV\n",
        "export_csv = pred_table.to_csv (r'/content/drive/My Drive/TA_LSTM/outputs/Prediksi Close Price.csv', index = None, header=True) \n",
        "print (\"Dokumen CSV sudah tersimpan di direktori\", OUTPUT_PATH)"
      ],
      "metadata": {
        "colab": {
          "base_uri": "https://localhost:8080/"
        },
        "id": "5eDeyaGOiRQW",
        "outputId": "45d2a4a0-1011-4453-b1ab-1d4611ea19d8"
      },
      "execution_count": 43,
      "outputs": [
        {
          "output_type": "stream",
          "name": "stdout",
          "text": [
            "Dokumen CSV sudah tersimpan di direktori /content/drive/My Drive/TA_LSTM/outputs/lstm_best_11-1-20_2PM/iter_changes\n"
          ]
        }
      ]
    },
    {
      "cell_type": "code",
      "source": [
        "# Menggabungkan dataset dengan data lama\n",
        "df_close = df.drop(columns=['Date','Open', 'High', 'Low', 'Adj Close', 'Volume'])\n",
        "df_new = pd.concat([df_close, pred_table], ignore_index=True, sort=True)\n",
        "\n",
        "# Menyimpan dataset baru\n",
        "export_csv = df_new.to_csv(r'/content/drive/My Drive/TA_LSTM/outputs/Dataset baru.csv', index = None, header=True) \n",
        "print (\"Dokumen CSV sudah tersimpan di direktori\", OUTPUT_PATH)"
      ],
      "metadata": {
        "colab": {
          "base_uri": "https://localhost:8080/"
        },
        "id": "O8E9fr2yiTSL",
        "outputId": "7262891d-0bf9-44e5-d1fc-2828b816f87d"
      },
      "execution_count": 44,
      "outputs": [
        {
          "output_type": "stream",
          "name": "stdout",
          "text": [
            "Dokumen CSV sudah tersimpan di direktori /content/drive/My Drive/TA_LSTM/outputs/lstm_best_11-1-20_2PM/iter_changes\n"
          ]
        }
      ]
    },
    {
      "cell_type": "markdown",
      "source": [
        "# SEKIAN DARI KAMI\n",
        " "
      ],
      "metadata": {
        "id": "vfngDIw58U3i"
      }
    }
  ]
}